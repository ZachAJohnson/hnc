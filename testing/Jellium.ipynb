{
 "cells": [
  {
   "cell_type": "markdown",
   "id": "d64f089f",
   "metadata": {
    "tags": []
   },
   "source": [
    "# Jellium\n",
    "[?](?)"
   ]
  },
  {
   "cell_type": "code",
   "execution_count": 1,
   "id": "2e5c11ba",
   "metadata": {
    "scrolled": true
   },
   "outputs": [
    {
     "name": "stdout",
     "output_type": "stream",
     "text": [
      "ModuleNotFoundError: No module named 'mendeleev'\n"
     ]
    },
    {
     "data": {
      "text/html": [
       "\n",
       "<style>\n",
       ".output_png {\n",
       "    display: table-cell;\n",
       "    text-align: center;\n",
       "    vertical-align: middle;\n",
       "}\n",
       "\n",
       "</style>\n"
      ],
      "text/plain": [
       "<IPython.core.display.HTML object>"
      ]
     },
     "execution_count": 1,
     "metadata": {},
     "output_type": "execute_result"
    }
   ],
   "source": [
    "import numpy as np\n",
    "import matplotlib.pyplot as plt\n",
    "from pandas import read_csv\n",
    "\n",
    "from hnc.hnc.PIE import Plasma_of_Ions_and_Electrons as PLASMA\n",
    "\n",
    "from hnc.hnc.constants import *\n",
    "from hnc.hnc.misc import n_from_rs\n",
    "\n",
    "prop_cycle = plt.rcParams['axes.prop_cycle']\n",
    "colors = prop_cycle.by_key()['color']\n",
    "                \n",
    "from IPython.core.display import HTML\n",
    "HTML(\"\"\"\n",
    "<style>\n",
    ".output_png {\n",
    "    display: table-cell;\n",
    "    text-align: center;\n",
    "    vertical-align: middle;\n",
    "}\n",
    "\n",
    "</style>\n",
    "\"\"\")\n"
   ]
  },
  {
   "cell_type": "markdown",
   "id": "bbea7b15",
   "metadata": {},
   "source": [
    "### Set Parameters in Paper and Plot"
   ]
  },
  {
   "cell_type": "code",
   "execution_count": 2,
   "id": "4d0a7939",
   "metadata": {
    "tags": []
   },
   "outputs": [],
   "source": [
    "name = 'Jellium'\n",
    "Z, A = 1,1 \n",
    "\n",
    "Te_eV = 1 # eV\n",
    "rs_AU = 1\n",
    "rs_cm = rs_AU/cm_to_AU\n",
    "ne_cc = n_from_rs(rs_cm)"
   ]
  },
  {
   "cell_type": "markdown",
   "id": "840df6a9",
   "metadata": {},
   "source": [
    "\n",
    "#### Run Ornstein-Zernike Closure"
   ]
  },
  {
   "cell_type": "code",
   "execution_count": 3,
   "id": "cba07160-0f89-47d4-930e-2a1ee74eb1dd",
   "metadata": {},
   "outputs": [],
   "source": [
    "P_hnc_to_bar = lambda P_hnc: (P_hnc/rs_AU**3) *  AU_to_bar \n",
    "P_hnc_to_Mbar = lambda P_hnc: 1e-6*P_hnc_to_bar(P_hnc)\n",
    "\n",
    "def get_jellium_P_Mbar(jellium_hnc):\n",
    "    # jellium_hnc.h_r_matrix -= 1\n",
    "    P_hnc = jellium_hnc.excess_pressure_matrix()\n",
    "    # jellium_hnc.h_r_matrix += 1\n",
    "    return P_hnc_to_Mbar(P_hnc)[0,0]\n"
   ]
  },
  {
   "cell_type": "code",
   "execution_count": 4,
   "id": "25dd3863",
   "metadata": {
    "scrolled": true
   },
   "outputs": [
    {
     "name": "stdout",
     "output_type": "stream",
     "text": [
      "Te_in_eV: 1.000\n",
      "Ti_in_eV: 1.000\n"
     ]
    },
    {
     "name": "stderr",
     "output_type": "stream",
     "text": [
      "/home/zach/plasma/hnc/hnc/PIE.py:181: RuntimeWarning: overflow encountered in exp\n",
      "  integrand = lambda t: t*np.sin(sin_arg*t)/(1+np.exp(t**2-η))\n"
     ]
    },
    {
     "name": "stdout",
     "output_type": "stream",
     "text": [
      "[-1.09479670e-13 -4.33702927e-13 -9.17028087e-13 -1.48234321e-12\n",
      " -2.04292910e-12 -2.51519246e-12 -2.83059702e-12 -2.94509964e-12\n",
      " -2.84480392e-12 -2.54712308e-12]\n",
      "[-1.96390508e-13 -2.80980485e-14 -5.94084872e-13 -1.80827946e-12\n",
      " -3.49328715e-12 -5.40596187e-12 -7.27214271e-12 -8.82560544e-12\n",
      " -9.84570872e-12 -1.01884252e-11]\n",
      "1.0863200796010147e-07\n",
      "0: Initial condition Total Error: 9.267e-02\n"
     ]
    },
    {
     "name": "stderr",
     "output_type": "stream",
     "text": [
      "/home/zach/plasma/hnc/hnc/PIE.py:188: RuntimeWarning: overflow encountered in exp\n",
      "  f_of_k = 1/(  1+np.exp((dense_hnc.k_array/self.qsp.ri)**2/(2*m_e*self.qsp.Te) - η) )\n"
     ]
    },
    {
     "name": "stdout",
     "output_type": "stream",
     "text": [
      "Exiting status 0, reverting to best index so far: 35\n",
      "Final iter:36, Total Error: 6.570e-09\n",
      "0: Initial condition Total Error: 5.543e-02\n",
      "Exiting status 0, reverting to best index so far: 28\n",
      "Final iter:29, Total Error: 5.854e-09\n"
     ]
    },
    {
     "data": {
      "text/plain": [
       "0"
      ]
     },
     "execution_count": 4,
     "metadata": {},
     "output_type": "execute_result"
    }
   ],
   "source": [
    "jellium = PLASMA(1, 1, ne_cc, 1, Te_eV, Zbar=1, find_βuee=True,\n",
    "                 βu_options = {'add_bridge':False,'bridge':'ocp', 'pseudopotential':False}, \n",
    "                 qsp_options= {'r_c':0,'which_Tij':'geometric'},\n",
    "                 hnc_options= {'kappa_multiscale':10, 'R_max':20,'N_bins':1000, \n",
    "                               'h_max':2e2,'oz_method':'standard'},\n",
    "                 hnc_solve_options={'alpha_Picard':0.5, 'num_iterations':1e4})\n",
    "\n",
    "jellium.run_jellium_hnc()\n",
    "# Reset βvee\n",
    "βvee_Pauli   = jellium.qsp.βv_Pauli(  jellium.jellium_hnc.r_array , jellium.qsp.Λee )\n",
    "βvee_Pauli   = jellium.βP_ee\n",
    "βvee_Deutsch = jellium.qsp.βv_Deutsch( jellium.qsp.Γee, jellium.jellium_hnc.r_array , jellium.qsp.Λee )\n",
    "jellium.jellium_hnc.set_βu_matrix(np.array([[βvee_Pauli ]]))\n",
    "jellium.jellium_hnc.HNC_solve(**jellium.hnc_solve_options)\n",
    "\n"
   ]
  },
  {
   "cell_type": "code",
   "execution_count": 5,
   "id": "67d0e313-fb77-40e1-b4c3-7913fc0191a8",
   "metadata": {},
   "outputs": [
    {
     "data": {
      "text/plain": [
       "array([1.04599826e+00, 1.04599826e+00, 1.04599826e+00, 1.04599826e+00,\n",
       "       1.04599826e+00, 1.04103798e+00, 1.03607770e+00, 1.03111741e+00,\n",
       "       1.02615713e+00, 1.02119685e+00, 1.01331464e+00, 1.00543242e+00,\n",
       "       9.97550206e-01, 9.89667991e-01, 9.81785776e-01, 9.71487598e-01,\n",
       "       9.61189419e-01, 9.50891240e-01, 9.40593062e-01, 9.30294883e-01,\n",
       "       9.18171746e-01, 9.06048608e-01, 8.93925471e-01, 8.81802334e-01,\n",
       "       8.69679196e-01, 8.56334910e-01, 8.42990623e-01, 8.29646336e-01,\n",
       "       8.16302050e-01, 8.02957763e-01, 7.88954883e-01, 7.74952002e-01,\n",
       "       7.60949122e-01, 7.46946242e-01, 7.32943362e-01, 7.18771099e-01,\n",
       "       7.04598837e-01, 6.90426574e-01, 6.76254311e-01, 6.62082049e-01,\n",
       "       6.48143003e-01, 6.34203956e-01, 6.20264910e-01, 6.06325864e-01,\n",
       "       5.92386818e-01, 5.78996615e-01, 5.65606411e-01, 5.52216208e-01,\n",
       "       5.38826005e-01, 5.25435801e-01, 5.12829943e-01, 5.00224085e-01,\n",
       "       4.87618227e-01, 4.75012369e-01, 4.62406511e-01, 4.50750243e-01,\n",
       "       4.39093974e-01, 4.27437706e-01, 4.15781437e-01, 4.04125168e-01,\n",
       "       3.93523823e-01, 3.82922478e-01, 3.72321133e-01, 3.61719787e-01,\n",
       "       3.51118442e-01, 3.41627025e-01, 3.32135607e-01, 3.22644189e-01,\n",
       "       3.13152772e-01, 3.03661354e-01, 2.95292933e-01, 2.86924511e-01,\n",
       "       2.78556090e-01, 2.70187669e-01, 2.61819247e-01, 2.54552202e-01,\n",
       "       2.47285156e-01, 2.40018111e-01, 2.32751065e-01, 2.25484020e-01,\n",
       "       2.19268383e-01, 2.13052745e-01, 2.06837108e-01, 2.00621471e-01,\n",
       "       1.94405834e-01, 1.89169024e-01, 1.83932215e-01, 1.78695405e-01,\n",
       "       1.73458595e-01, 1.68221786e-01, 1.63873993e-01, 1.59526201e-01,\n",
       "       1.55178408e-01, 1.50830616e-01, 1.46482823e-01, 1.42922219e-01,\n",
       "       1.39361615e-01, 1.35801011e-01, 1.32240407e-01, 1.28679803e-01,\n",
       "       1.25797653e-01, 1.22915503e-01, 1.20033353e-01, 1.17151203e-01,\n",
       "       1.14269052e-01, 1.11954695e-01, 1.09640337e-01, 1.07325980e-01,\n",
       "       1.05011622e-01, 1.02697265e-01, 1.00842829e-01, 9.89883931e-02,\n",
       "       9.71339571e-02, 9.52795212e-02, 9.34250852e-02, 9.19297425e-02,\n",
       "       9.04343997e-02, 8.89390569e-02, 8.74437141e-02, 8.59483713e-02,\n",
       "       8.47218911e-02, 8.34954110e-02, 8.22689308e-02, 8.10424506e-02,\n",
       "       7.98159705e-02, 7.87813583e-02, 7.77467461e-02, 7.67121340e-02,\n",
       "       7.56775218e-02, 7.46429097e-02, 7.37379682e-02, 7.28330266e-02,\n",
       "       7.19280851e-02, 7.10231436e-02, 7.01182021e-02, 6.92959526e-02,\n",
       "       6.84737031e-02, 6.76514537e-02, 6.68292042e-02, 6.60069547e-02,\n",
       "       6.52349707e-02, 6.44629866e-02, 6.36910026e-02, 6.29190185e-02,\n",
       "       6.21470345e-02, 6.14058484e-02, 6.06646623e-02, 5.99234762e-02,\n",
       "       5.91822901e-02, 5.84411040e-02, 5.77219354e-02, 5.70027669e-02,\n",
       "       5.62835983e-02, 5.55644297e-02, 5.48452611e-02, 5.41473592e-02,\n",
       "       5.34494573e-02, 5.27515554e-02, 5.20536534e-02, 5.13557515e-02,\n",
       "       5.06836492e-02, 5.00115469e-02, 4.93394446e-02, 4.86673423e-02,\n",
       "       4.79952400e-02, 4.73561830e-02, 4.67171261e-02, 4.60780691e-02,\n",
       "       4.54390121e-02, 4.47999551e-02, 4.42017089e-02, 4.36034627e-02,\n",
       "       4.30052165e-02, 4.24069703e-02, 4.18087241e-02, 4.12578888e-02,\n",
       "       4.07070534e-02, 4.01562180e-02, 3.96053826e-02, 3.90545473e-02,\n",
       "       3.85554372e-02, 3.80563271e-02, 3.75572171e-02, 3.70581070e-02,\n",
       "       3.65589970e-02, 3.61130773e-02, 3.56671577e-02, 3.52212381e-02,\n",
       "       3.47753185e-02, 3.43293988e-02, 3.39352182e-02, 3.35410376e-02,\n",
       "       3.31468569e-02, 3.27526763e-02, 3.23584957e-02, 3.20120190e-02,\n",
       "       3.16655423e-02, 3.13190656e-02, 3.09725889e-02, 3.06261122e-02,\n",
       "       3.03213366e-02, 3.00165610e-02, 2.97117855e-02, 2.94070099e-02,\n",
       "       2.91022343e-02, 2.88319638e-02, 2.85616934e-02, 2.82914230e-02,\n",
       "       2.80211525e-02, 2.77508821e-02, 2.75075424e-02, 2.72642027e-02,\n",
       "       2.70208630e-02, 2.67775234e-02, 2.65341837e-02, 2.63105738e-02,\n",
       "       2.60869640e-02, 2.58633541e-02, 2.56397442e-02, 2.54161343e-02,\n",
       "       2.52060360e-02, 2.49959377e-02, 2.47858394e-02, 2.45757410e-02,\n",
       "       2.43656427e-02, 2.41642358e-02, 2.39628289e-02, 2.37614220e-02,\n",
       "       2.35600150e-02, 2.33586081e-02, 2.31626706e-02, 2.29667330e-02,\n",
       "       2.27707955e-02, 2.25748579e-02, 2.23789203e-02, 2.21868195e-02,\n",
       "       2.19947187e-02, 2.18026179e-02, 2.16105171e-02, 2.14184163e-02,\n",
       "       2.12299221e-02, 2.10414278e-02, 2.08529336e-02, 2.06644394e-02,\n",
       "       2.04759452e-02, 2.02919120e-02, 2.01078789e-02, 1.99238457e-02,\n",
       "       1.97398126e-02, 1.95557794e-02, 1.93777542e-02, 1.91997290e-02,\n",
       "       1.90217039e-02, 1.88436787e-02, 1.86656535e-02, 1.84954663e-02,\n",
       "       1.83252792e-02, 1.81550920e-02, 1.79849049e-02, 1.78147177e-02,\n",
       "       1.76541071e-02, 1.74934965e-02, 1.73328859e-02, 1.71722753e-02,\n",
       "       1.70116646e-02, 1.68619773e-02, 1.67122900e-02, 1.65626027e-02,\n",
       "       1.64129154e-02, 1.62632281e-02, 1.61252192e-02, 1.59872104e-02,\n",
       "       1.58492015e-02, 1.57111926e-02, 1.55731837e-02, 1.54469269e-02,\n",
       "       1.53206701e-02, 1.51944133e-02, 1.50681566e-02, 1.49418998e-02,\n",
       "       1.48268030e-02, 1.47117063e-02, 1.45966096e-02, 1.44815128e-02,\n",
       "       1.43664161e-02, 1.42613261e-02, 1.41562361e-02, 1.40511462e-02,\n",
       "       1.39460562e-02, 1.38409662e-02, 1.37443362e-02, 1.36477063e-02,\n",
       "       1.35510763e-02, 1.34544464e-02, 1.33578164e-02, 1.32679076e-02,\n",
       "       1.31779988e-02, 1.30880900e-02, 1.29981812e-02, 1.29082723e-02,\n",
       "       1.28233583e-02, 1.27384443e-02, 1.26535302e-02, 1.25686162e-02,\n",
       "       1.24837021e-02, 1.24022502e-02, 1.23207982e-02, 1.22393462e-02,\n",
       "       1.21578942e-02, 1.20764422e-02, 1.19972504e-02, 1.19180585e-02,\n",
       "       1.18388666e-02, 1.17596747e-02, 1.16804828e-02, 1.16027602e-02,\n",
       "       1.15250376e-02, 1.14473150e-02, 1.13695923e-02, 1.12918697e-02,\n",
       "       1.12152567e-02, 1.11386437e-02, 1.10620307e-02, 1.09854177e-02,\n",
       "       1.09088047e-02, 1.08333364e-02, 1.07578682e-02, 1.06824000e-02,\n",
       "       1.06069318e-02, 1.05314636e-02, 1.04574889e-02, 1.03835142e-02,\n",
       "       1.03095395e-02, 1.02355648e-02, 1.01615901e-02, 1.00896603e-02,\n",
       "       1.00177305e-02, 9.94580066e-03, 9.87387083e-03, 9.80194101e-03,\n",
       "       9.73268713e-03, 9.66343326e-03, 9.59417939e-03, 9.52492552e-03,\n",
       "       9.45567164e-03, 9.38968702e-03, 9.32370239e-03, 9.25771776e-03,\n",
       "       9.19173313e-03, 9.12574850e-03, 9.06349095e-03, 9.00123339e-03,\n",
       "       8.93897584e-03, 8.87671828e-03, 8.81446073e-03, 8.75618527e-03,\n",
       "       8.69790982e-03, 8.63963437e-03, 8.58135892e-03, 8.52308347e-03,\n",
       "       8.46881075e-03, 8.41453803e-03, 8.36026531e-03, 8.30599259e-03,\n",
       "       8.25171987e-03, 8.20124038e-03, 8.15076089e-03, 8.10028140e-03,\n",
       "       8.04980191e-03, 7.99932243e-03, 7.95223224e-03, 7.90514205e-03,\n",
       "       7.85805186e-03, 7.81096167e-03, 7.76387149e-03, 7.71963121e-03,\n",
       "       7.67539094e-03, 7.63115067e-03, 7.58691040e-03, 7.54267013e-03,\n",
       "       7.50067693e-03, 7.45868373e-03, 7.41669053e-03, 7.37469733e-03,\n",
       "       7.33270413e-03, 7.29236574e-03, 7.25202736e-03, 7.21168897e-03,\n",
       "       7.17135058e-03, 7.13101219e-03, 7.09181294e-03, 7.05261369e-03,\n",
       "       7.01341444e-03, 6.97421519e-03, 6.93501594e-03, 6.89656664e-03,\n",
       "       6.85811735e-03, 6.81966806e-03, 6.78121877e-03, 6.74276948e-03,\n",
       "       6.70483618e-03, 6.66690288e-03, 6.62896958e-03, 6.59103628e-03,\n",
       "       6.55310298e-03, 6.51561261e-03, 6.47812225e-03, 6.44063188e-03,\n",
       "       6.40314151e-03, 6.36565115e-03, 6.32867566e-03, 6.29170017e-03,\n",
       "       6.25472468e-03, 6.21774920e-03, 6.18077371e-03, 6.14449672e-03,\n",
       "       6.10821973e-03, 6.07194274e-03, 6.03566575e-03, 5.99938876e-03,\n",
       "       5.96406086e-03, 5.92873297e-03, 5.89340508e-03, 5.85807719e-03,\n",
       "       5.82274930e-03, 5.78863908e-03, 5.75452887e-03, 5.72041866e-03,\n",
       "       5.68630845e-03, 5.65219824e-03, 5.61954591e-03, 5.58689357e-03,\n",
       "       5.55424124e-03, 5.52158890e-03, 5.48893657e-03, 5.45791614e-03,\n",
       "       5.42689572e-03, 5.39587530e-03, 5.36485488e-03, 5.33383446e-03,\n",
       "       5.30452892e-03, 5.27522339e-03, 5.24591786e-03, 5.21661233e-03,\n",
       "       5.18730680e-03, 5.15969821e-03, 5.13208962e-03, 5.10448104e-03,\n",
       "       5.07687245e-03, 5.04926386e-03, 5.02323844e-03, 4.99721303e-03,\n",
       "       4.97118761e-03, 4.94516220e-03, 4.91913678e-03, 4.89450302e-03,\n",
       "       4.86986925e-03, 4.84523549e-03, 4.82060172e-03, 4.79596795e-03,\n",
       "       4.77248394e-03, 4.74899992e-03, 4.72551590e-03, 4.70203189e-03,\n",
       "       4.67854787e-03, 4.65595351e-03, 4.63335915e-03, 4.61076479e-03,\n",
       "       4.58817043e-03, 4.56557607e-03, 4.54362526e-03, 4.52167445e-03,\n",
       "       4.49972364e-03, 4.47777283e-03, 4.45582202e-03, 4.43431041e-03,\n",
       "       4.41279880e-03, 4.39128719e-03, 4.36977557e-03, 4.34826396e-03,\n",
       "       4.32704894e-03, 4.30583391e-03, 4.28461889e-03, 4.26340386e-03,\n",
       "       4.24218884e-03, 4.22119958e-03, 4.20021033e-03, 4.17922108e-03,\n",
       "       4.15823182e-03, 4.13724257e-03, 4.11647970e-03, 4.09571683e-03,\n",
       "       4.07495396e-03, 4.05419110e-03, 4.03342823e-03, 4.01295385e-03,\n",
       "       3.99247947e-03, 3.97200509e-03, 3.95153071e-03, 3.93105633e-03,\n",
       "       3.91097668e-03, 3.89089702e-03, 3.87081736e-03, 3.85073770e-03,\n",
       "       3.83065804e-03, 3.81110164e-03, 3.79154524e-03, 3.77198883e-03,\n",
       "       3.75243243e-03, 3.73287602e-03, 3.71397075e-03, 3.69506547e-03,\n",
       "       3.67616020e-03, 3.65725492e-03, 3.63834965e-03, 3.62020186e-03,\n",
       "       3.60205406e-03, 3.58390627e-03, 3.56575848e-03, 3.54761069e-03,\n",
       "       3.53028911e-03, 3.51296753e-03, 3.49564595e-03, 3.47832437e-03,\n",
       "       3.46100279e-03, 3.44452904e-03, 3.42805529e-03, 3.41158153e-03,\n",
       "       3.39510778e-03, 3.37863402e-03, 3.36298046e-03, 3.34732689e-03,\n",
       "       3.33167332e-03, 3.31601975e-03, 3.30036618e-03, 3.28546086e-03,\n",
       "       3.27055555e-03, 3.25565023e-03, 3.24074492e-03, 3.22583960e-03,\n",
       "       3.21157712e-03, 3.19731465e-03, 3.18305217e-03, 3.16878970e-03,\n",
       "       3.15452722e-03, 3.14078342e-03, 3.12703963e-03, 3.11329583e-03,\n",
       "       3.09955203e-03, 3.08580824e-03, 3.07245653e-03, 3.05910482e-03,\n",
       "       3.04575311e-03, 3.03240140e-03, 3.01904970e-03, 3.00597659e-03,\n",
       "       2.99290349e-03, 2.97983038e-03, 2.96675728e-03, 2.95368417e-03,\n",
       "       2.94080197e-03, 2.92791976e-03, 2.91503755e-03, 2.90215534e-03,\n",
       "       2.88927314e-03, 2.87652815e-03, 2.86378317e-03, 2.85103819e-03,\n",
       "       2.83829321e-03, 2.82554823e-03, 2.81292387e-03, 2.80029951e-03,\n",
       "       2.78767515e-03, 2.77505078e-03, 2.76242642e-03, 2.74994091e-03,\n",
       "       2.73745539e-03, 2.72496988e-03, 2.71248436e-03, 2.69999885e-03,\n",
       "       2.68769839e-03, 2.67539794e-03, 2.66309749e-03, 2.65079704e-03,\n",
       "       2.63849659e-03, 2.62644528e-03, 2.61439397e-03, 2.60234266e-03,\n",
       "       2.59029135e-03, 2.57824004e-03, 2.56650797e-03, 2.55477590e-03,\n",
       "       2.54304383e-03, 2.53131176e-03, 2.51957970e-03, 2.50823124e-03,\n",
       "       2.49688278e-03, 2.48553433e-03, 2.47418587e-03, 2.46283742e-03,\n",
       "       2.45192114e-03, 2.44100487e-03, 2.43008859e-03, 2.41917232e-03,\n",
       "       2.40825604e-03, 2.39779761e-03, 2.38733917e-03, 2.37688074e-03,\n",
       "       2.36642230e-03, 2.35596387e-03, 2.34596264e-03, 2.33596142e-03,\n",
       "       2.32596020e-03, 2.31595898e-03, 2.30595776e-03, 2.29638742e-03,\n",
       "       2.28681708e-03, 2.27724674e-03, 2.26767639e-03, 2.25810605e-03,\n",
       "       2.24891871e-03, 2.23973136e-03, 2.23054402e-03, 2.22135667e-03,\n",
       "       2.21216933e-03, 2.20330249e-03, 2.19443564e-03, 2.18556880e-03,\n",
       "       2.17670196e-03, 2.16783512e-03, 2.15922021e-03, 2.15060531e-03,\n",
       "       2.14199041e-03, 2.13337551e-03, 2.12476060e-03, 2.11633188e-03,\n",
       "       2.10790316e-03, 2.09947444e-03, 2.09104572e-03, 2.08261700e-03,\n",
       "       2.07431943e-03, 2.06602186e-03, 2.05772429e-03, 2.04942673e-03,\n",
       "       2.04112916e-03, 2.03292440e-03, 2.02471964e-03, 2.01651488e-03,\n",
       "       2.00831011e-03, 2.00010535e-03, 1.99197501e-03, 1.98384466e-03,\n",
       "       1.97571432e-03, 1.96758397e-03, 1.95945363e-03, 1.95139957e-03,\n",
       "       1.94334552e-03, 1.93529147e-03, 1.92723741e-03, 1.91918336e-03,\n",
       "       1.91122524e-03, 1.90326711e-03, 1.89530899e-03, 1.88735086e-03,\n",
       "       1.87939274e-03, 1.87156316e-03, 1.86373359e-03, 1.85590401e-03,\n",
       "       1.84807444e-03, 1.84024486e-03, 1.83258317e-03, 1.82492148e-03,\n",
       "       1.81725979e-03, 1.80959810e-03, 1.80193641e-03, 1.79448190e-03,\n",
       "       1.78702738e-03, 1.77957287e-03, 1.77211836e-03, 1.76466384e-03,\n",
       "       1.75744945e-03, 1.75023506e-03, 1.74302067e-03, 1.73580628e-03,\n",
       "       1.72859189e-03, 1.72163923e-03, 1.71468658e-03, 1.70773392e-03,\n",
       "       1.70078127e-03, 1.69382861e-03, 1.68714492e-03, 1.68046123e-03,\n",
       "       1.67377753e-03, 1.66709384e-03, 1.66041015e-03, 1.65398742e-03,\n",
       "       1.64756470e-03, 1.64114197e-03, 1.63471925e-03, 1.62829652e-03,\n",
       "       1.62211294e-03, 1.61592935e-03, 1.60974577e-03, 1.60356218e-03,\n",
       "       1.59737859e-03, 1.59140174e-03, 1.58542488e-03, 1.57944802e-03,\n",
       "       1.57347117e-03, 1.56749431e-03, 1.56168576e-03, 1.55587720e-03,\n",
       "       1.55006865e-03, 1.54426010e-03, 1.53845154e-03, 1.53277200e-03,\n",
       "       1.52709246e-03, 1.52141291e-03, 1.51573337e-03, 1.51005383e-03,\n",
       "       1.50446812e-03, 1.49888241e-03, 1.49329670e-03, 1.48771099e-03,\n",
       "       1.48212528e-03, 1.47660646e-03, 1.47108765e-03, 1.46556883e-03,\n",
       "       1.46005002e-03, 1.45453120e-03, 1.44906332e-03, 1.44359545e-03,\n",
       "       1.43812757e-03, 1.43265969e-03, 1.42719181e-03, 1.42177095e-03,\n",
       "       1.41635009e-03, 1.41092922e-03, 1.40550836e-03, 1.40008750e-03,\n",
       "       1.39472109e-03, 1.38935468e-03, 1.38398827e-03, 1.37862185e-03,\n",
       "       1.37325544e-03, 1.36796006e-03, 1.36266468e-03, 1.35736930e-03,\n",
       "       1.35207392e-03, 1.34677854e-03, 1.34157656e-03, 1.33637458e-03,\n",
       "       1.33117260e-03, 1.32597062e-03, 1.32076864e-03, 1.31568427e-03,\n",
       "       1.31059990e-03, 1.30551553e-03, 1.30043116e-03, 1.29534680e-03,\n",
       "       1.29040212e-03, 1.28545745e-03, 1.28051277e-03, 1.27556810e-03,\n",
       "       1.27062342e-03, 1.26583497e-03, 1.26104653e-03, 1.25625808e-03,\n",
       "       1.25146963e-03, 1.24668119e-03, 1.24205752e-03, 1.23743386e-03,\n",
       "       1.23281019e-03, 1.22818653e-03, 1.22356286e-03, 1.21910340e-03,\n",
       "       1.21464394e-03, 1.21018448e-03, 1.20572502e-03, 1.20126556e-03,\n",
       "       1.19696079e-03, 1.19265603e-03, 1.18835126e-03, 1.18404650e-03,\n",
       "       1.17974174e-03, 1.17557470e-03, 1.17140767e-03, 1.16724063e-03,\n",
       "       1.16307360e-03, 1.15890656e-03, 1.15485527e-03, 1.15080399e-03,\n",
       "       1.14675270e-03, 1.14270141e-03, 1.13865012e-03, 1.13469060e-03,\n",
       "       1.13073108e-03, 1.12677157e-03, 1.12281205e-03, 1.11885253e-03,\n",
       "       1.11496196e-03, 1.11107139e-03, 1.10718082e-03, 1.10329025e-03,\n",
       "       1.09939968e-03, 1.09555922e-03, 1.09171875e-03, 1.08787829e-03,\n",
       "       1.08403782e-03, 1.08019736e-03, 1.07639424e-03, 1.07259113e-03,\n",
       "       1.06878801e-03, 1.06498489e-03, 1.06118177e-03, 1.05741049e-03,\n",
       "       1.05363920e-03, 1.04986791e-03, 1.04609663e-03, 1.04232534e-03,\n",
       "       1.03858768e-03, 1.03485003e-03, 1.03111237e-03, 1.02737471e-03,\n",
       "       1.02363706e-03, 1.01994120e-03, 1.01624533e-03, 1.01254947e-03,\n",
       "       1.00885361e-03, 1.00515775e-03, 1.00151643e-03, 9.97875109e-04,\n",
       "       9.94233789e-04, 9.90592469e-04, 9.86951149e-04, 9.83379371e-04,\n",
       "       9.79807592e-04, 9.76235814e-04, 9.72664036e-04, 9.69092258e-04,\n",
       "       9.65604767e-04, 9.62117276e-04, 9.58629784e-04, 9.55142293e-04,\n",
       "       9.51654802e-04, 9.48263757e-04, 9.44872712e-04, 9.41481667e-04,\n",
       "       9.38090622e-04, 9.34699576e-04, 9.31412717e-04, 9.28125858e-04,\n",
       "       9.24838999e-04, 9.21552139e-04, 9.18265280e-04, 9.15084823e-04,\n",
       "       9.11904366e-04, 9.08723908e-04, 9.05543451e-04, 9.02362994e-04,\n",
       "       8.99285373e-04, 8.96207751e-04, 8.93130130e-04, 8.90052509e-04,\n",
       "       8.86974888e-04, 8.83991332e-04, 8.81007776e-04, 8.78024220e-04,\n",
       "       8.75040665e-04, 8.72057109e-04, 8.69154933e-04, 8.66252758e-04,\n",
       "       8.63350582e-04, 8.60448407e-04, 8.57546231e-04, 8.54710616e-04,\n",
       "       8.51875002e-04, 8.49039387e-04, 8.46203772e-04, 8.43368157e-04,\n",
       "       8.40584145e-04, 8.37800133e-04, 8.35016122e-04, 8.32232110e-04,\n",
       "       8.29448098e-04, 8.26702511e-04, 8.23956923e-04, 8.21211336e-04,\n",
       "       8.18465748e-04, 8.15720161e-04, 8.13003171e-04, 8.10286182e-04,\n",
       "       8.07569192e-04, 8.04852203e-04, 8.02135213e-04, 7.99441370e-04,\n",
       "       7.96747528e-04, 7.94053685e-04, 7.91359842e-04, 7.88666000e-04,\n",
       "       7.85994586e-04, 7.83323173e-04, 7.80651760e-04, 7.77980347e-04,\n",
       "       7.75308934e-04, 7.72663643e-04, 7.70018351e-04, 7.67373060e-04,\n",
       "       7.64727769e-04, 7.62082478e-04, 7.59470485e-04, 7.56858493e-04,\n",
       "       7.54246500e-04, 7.51634507e-04, 7.49022514e-04, 7.46453114e-04,\n",
       "       7.43883714e-04, 7.41314314e-04, 7.38744914e-04, 7.36175513e-04,\n",
       "       7.33658526e-04, 7.31141538e-04, 7.28624551e-04, 7.26107563e-04,\n",
       "       7.23590576e-04, 7.21134766e-04, 7.18678956e-04, 7.16223146e-04,\n",
       "       7.13767335e-04, 7.11311525e-04, 7.08923254e-04, 7.06534984e-04,\n",
       "       7.04146713e-04, 7.01758442e-04, 6.99370171e-04, 6.97052462e-04,\n",
       "       6.94734752e-04, 6.92417043e-04, 6.90099334e-04, 6.87781625e-04,\n",
       "       6.85533748e-04, 6.83285872e-04, 6.81037996e-04, 6.78790119e-04,\n",
       "       6.76542243e-04, 6.74359862e-04, 6.72177480e-04, 6.69995099e-04,\n",
       "       6.67812718e-04, 6.65630337e-04, 6.63506155e-04, 6.61381974e-04,\n",
       "       6.59257793e-04, 6.57133612e-04, 6.55009430e-04, 6.52934237e-04,\n",
       "       6.50859044e-04, 6.48783850e-04, 6.46708657e-04, 6.44633464e-04,\n",
       "       6.42597395e-04, 6.40561327e-04, 6.38525258e-04, 6.36489190e-04,\n",
       "       6.34453121e-04, 6.32446961e-04, 6.30440802e-04, 6.28434642e-04,\n",
       "       6.26428483e-04, 6.24422323e-04, 6.22438652e-04, 6.20454981e-04,\n",
       "       6.18471310e-04, 6.16487638e-04, 6.14503967e-04, 6.12537999e-04,\n",
       "       6.10572030e-04, 6.08606062e-04, 6.06640094e-04, 6.04674125e-04,\n",
       "       6.02724140e-04, 6.00774155e-04, 5.98824169e-04, 5.96874184e-04,\n",
       "       5.94924198e-04, 5.92991519e-04, 5.91058839e-04, 5.89126160e-04,\n",
       "       5.87193481e-04, 5.85260801e-04, 5.83349345e-04, 5.81437888e-04,\n",
       "       5.79526432e-04, 5.77614975e-04, 5.75703518e-04, 5.73819003e-04,\n",
       "       5.71934488e-04, 5.70049973e-04, 5.68165457e-04, 5.66280942e-04])"
      ]
     },
     "execution_count": 5,
     "metadata": {},
     "output_type": "execute_result"
    }
   ],
   "source": [
    "jellium.βP_ee"
   ]
  },
  {
   "cell_type": "markdown",
   "id": "0bb4b761-de89-4a6a-b70b-3059659266a5",
   "metadata": {},
   "source": [
    "#### Pressures"
   ]
  },
  {
   "cell_type": "code",
   "execution_count": 9,
   "id": "5a880169-ccec-4862-907b-74e59b55b2e7",
   "metadata": {},
   "outputs": [
    {
     "data": {
      "text/plain": [
       "(51.803654302600016, 465.74712400603397, 51.739302540025804)"
      ]
     },
     "execution_count": 9,
     "metadata": {},
     "output_type": "execute_result"
    }
   ],
   "source": [
    "P_Fermi_Mbar = 2/5 * jellium.qsp.E_F/(4/3*π*(jellium.qsp.ri)**3) * AU_to_bar/1e6\n",
    "\n",
    "P_hnc_to_Mbar(jellium.jellium_hnc.ideal_pressure()),get_jellium_P_Mbar( jellium.jellium_hnc), P_Fermi_Mbar"
   ]
  },
  {
   "cell_type": "markdown",
   "id": "59c8c31c-0766-4dc8-97d3-13625793603d",
   "metadata": {},
   "source": [
    "##### Plot Radial Dsitribution Function"
   ]
  },
  {
   "cell_type": "code",
   "execution_count": 10,
   "id": "36a78c27-9108-4263-8104-51ada82259dc",
   "metadata": {},
   "outputs": [
    {
     "name": "stderr",
     "output_type": "stream",
     "text": [
      "Missing colon in file '~/plasma/hnc/hnc_paper.mplstyle', line 40 (\"text.latex.preamble = r'\\\\boldmath'\")\n"
     ]
    },
    {
     "data": {
      "text/plain": [
       "(0.0, 5.0)"
      ]
     },
     "execution_count": 10,
     "metadata": {},
     "output_type": "execute_result"
    },
    {
     "data": {
      "image/png": "[encoded data removed]",
      "text/plain": [
       "<Figure size 800x600 with 1 Axes>"
      ]
     },
     "metadata": {},
     "output_type": "display_data"
    }
   ],
   "source": [
    "plt.style.use('~/plasma/hnc/hnc_paper.mplstyle')\n",
    "\n",
    "fig, ax = plt.subplots()\n",
    "\n",
    "ax.plot(jellium.jellium_hnc.r_array, jellium.jellium_hnc.h_r_matrix[0,0]+1,'.', label='Default Pauli')\n",
    "# ax.plot(jellium.jellium_hnc.r_array, jellium.jellium_hnc.h_r_matrix[0,0]+1, label='Default Pauli')\n",
    "\n",
    "\n",
    "ax.set_xlabel(r\"$r/r_s$\")\n",
    "ax.set_ylabel(r\"$g_{ee}$\")\n",
    "\n",
    "ax.set_ylim(0,1.2)\n",
    "ax.set_xlim(0,5)"
   ]
  },
  {
   "cell_type": "markdown",
   "id": "532449d3-d5ca-4835-a4b3-704a77d66a5d",
   "metadata": {},
   "source": [
    "#### Plot βu"
   ]
  },
  {
   "cell_type": "code",
   "execution_count": 8,
   "id": "9bf9eb52-dd8d-4f1a-afb9-a489772a904a",
   "metadata": {},
   "outputs": [
    {
     "name": "stderr",
     "output_type": "stream",
     "text": [
      "Missing colon in file '~/plasma/hnc/hnc_paper.mplstyle', line 40 (\"text.latex.preamble = r'\\\\boldmath'\")\n"
     ]
    },
    {
     "data": {
      "text/plain": [
       "<matplotlib.legend.Legend at 0x7fb56966ffa0>"
      ]
     },
     "execution_count": 8,
     "metadata": {},
     "output_type": "execute_result"
    },
    {
     "data": {
      "image/png": "[encoded data removed]",
      "text/plain": [
       "<Figure size 800x600 with 1 Axes>"
      ]
     },
     "metadata": {},
     "output_type": "display_data"
    }
   ],
   "source": [
    "plt.style.use('~/plasma/hnc/hnc_paper.mplstyle')\n",
    "\n",
    "fig, ax = plt.subplots()\n",
    "\n",
    "ax.plot(jellium.jellium_hnc.r_array, jellium.βP_ee, label='HNC Pauli')\n",
    "ax.plot(jellium.jellium_hnc.r_array, jellium.qsp.βv_Pauli(  jellium.jellium_hnc.r_array , jellium.qsp.Λee ), label='Default Pauli')\n",
    "\n",
    "ax.set_xlabel(r\"$r/r_s$\")\n",
    "ax.set_ylabel(r\"$\\beta P_{ee}$\")\n",
    "\n",
    "# ax.set_ylim(0,1.2)\n",
    "ax.set_xlim(0,10)\n",
    "ax.legend()"
   ]
  },
  {
   "cell_type": "code",
   "execution_count": null,
   "id": "e5871246-193b-4e39-a655-7bd24b581b5d",
   "metadata": {},
   "outputs": [],
   "source": []
  }
 ],
 "metadata": {
  "kernelspec": {
   "display_name": "Python 3 (ipykernel)",
   "language": "python",
   "name": "python3"
  },
  "language_info": {
   "codemirror_mode": {
    "name": "ipython",
    "version": 3
   },
   "file_extension": ".py",
   "mimetype": "text/x-python",
   "name": "python",
   "nbconvert_exporter": "python",
   "pygments_lexer": "ipython3",
   "version": "3.10.6"
  }
 },
 "nbformat": 4,
 "nbformat_minor": 5
}
