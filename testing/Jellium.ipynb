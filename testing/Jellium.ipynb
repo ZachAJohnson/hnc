{
 "cells": [
  {
   "cell_type": "markdown",
   "id": "d64f089f",
   "metadata": {
    "tags": []
   },
   "source": [
    "# Jellium\n",
    "[?](?)"
   ]
  },
  {
   "cell_type": "code",
   "execution_count": 3,
   "id": "2e5c11ba",
   "metadata": {
    "scrolled": true
   },
   "outputs": [
    {
     "name": "stdout",
     "output_type": "stream",
     "text": [
      "ModuleNotFoundError: No module named 'mendeleev'\n"
     ]
    },
    {
     "data": {
      "text/html": [
       "\n",
       "<style>\n",
       ".output_png {\n",
       "    display: table-cell;\n",
       "    text-align: center;\n",
       "    vertical-align: middle;\n",
       "}\n",
       "\n",
       "</style>\n"
      ],
      "text/plain": [
       "<IPython.core.display.HTML object>"
      ]
     },
     "execution_count": 3,
     "metadata": {},
     "output_type": "execute_result"
    }
   ],
   "source": [
    "import numpy as np\n",
    "import matplotlib.pyplot as plt\n",
    "from pandas import read_csv\n",
    "\n",
    "from hnc.hnc.PIE import Plasma_of_Ions_and_Electrons as PLASMA\n",
    "\n",
    "from hnc.hnc.constants import *\n",
    "from hnc.hnc.misc import n_from_rs\n",
    "\n",
    "prop_cycle = plt.rcParams['axes.prop_cycle']\n",
    "colors = prop_cycle.by_key()['color']\n",
    "                \n",
    "from IPython.core.display import HTML\n",
    "HTML(\"\"\"\n",
    "<style>\n",
    ".output_png {\n",
    "    display: table-cell;\n",
    "    text-align: center;\n",
    "    vertical-align: middle;\n",
    "}\n",
    "\n",
    "</style>\n",
    "\"\"\")\n"
   ]
  },
  {
   "cell_type": "markdown",
   "id": "bbea7b15",
   "metadata": {},
   "source": [
    "### Set Parameters in Paper and Plot"
   ]
  },
  {
   "cell_type": "code",
   "execution_count": 4,
   "id": "4d0a7939",
   "metadata": {
    "tags": []
   },
   "outputs": [],
   "source": [
    "name = 'Jellium'\n",
    "Z, A = 1,1 \n",
    "\n",
    "Te_eV = 1 # eV\n",
    "rs_AU = 1\n",
    "rs_cm = rs_AU/cm_to_AU\n",
    "ne_cc = n_from_rs(rs_cm)"
   ]
  },
  {
   "cell_type": "markdown",
   "id": "840df6a9",
   "metadata": {},
   "source": [
    "\n",
    "#### Run Ornstein-Zernike Closure"
   ]
  },
  {
   "cell_type": "code",
   "execution_count": 5,
   "id": "cba07160-0f89-47d4-930e-2a1ee74eb1dd",
   "metadata": {},
   "outputs": [],
   "source": [
    "P_hnc_to_bar = lambda P_hnc: (P_hnc/rs_AU**3) *  AU_to_bar \n",
    "P_hnc_to_Mbar = lambda P_hnc: 1e-6*P_hnc_to_bar(P_hnc)\n",
    "\n",
    "def get_jellium_P_Mbar(jellium_hnc):\n",
    "    # jellium_hnc.h_r_matrix -= 1\n",
    "    P_hnc = jellium_hnc.excess_pressure_matrix()\n",
    "    # jellium_hnc.h_r_matrix += 1\n",
    "    return P_hnc_to_Mbar(P_hnc)[0,0]\n"
   ]
  },
  {
   "cell_type": "code",
   "execution_count": 19,
   "id": "25dd3863",
   "metadata": {
    "scrolled": true
   },
   "outputs": [
    {
     "name": "stdout",
     "output_type": "stream",
     "text": [
      "Te_in_eV: 1.000\n",
      "Ti_in_eV: 1.000\n",
      "0: Initial condition Total Error: 9.267e-02\n",
      "Exiting status 0, reverting to best index so far: 35\n",
      "Final iter:36, Total Error: 6.570e-09\n",
      "0: Initial condition Total Error: 6.570e-09\n",
      "Exiting status 0, reverting to best index so far: 1\n",
      "Final iter:2, Total Error: 4.207e-09\n"
     ]
    },
    {
     "data": {
      "text/plain": [
       "0"
      ]
     },
     "execution_count": 19,
     "metadata": {},
     "output_type": "execute_result"
    }
   ],
   "source": [
    "jellium = PLASMA(1, 1, ne_cc, 1, Te_eV, Zbar=1, find_βuee=True,\n",
    "                 βu_options = {'add_bridge':False,'bridge':'ocp', 'pseudopotential':False}, \n",
    "                 qsp_options= {'r_c':0,'which_Tij':'geometric'},\n",
    "                 hnc_options= {'kappa_multiscale':10, 'R_max':20,'N_bins':1000, \n",
    "                               'h_max':2e2,'oz_method':'standard'},\n",
    "                 hnc_solve_options={'alpha_Picard':0.5, 'num_iterations':1e4})\n",
    "\n",
    "jellium.run_jellium_hnc()\n",
    "# Reset βvee\n",
    "βvee_Pauli   = jellium.qsp.βv_Pauli(  jellium.jellium_hnc.r_array , jellium.qsp.Λee )\n",
    "βvee_Pauli   = jellium.βP_ee\n",
    "βvee_Deutsch = jellium.qsp.βv_Deutsch( jellium.qsp.Γee, jellium.jellium_hnc.r_array , jellium.qsp.Λee )\n",
    "jellium.jellium_hnc.set_βu_matrix(np.array([[βvee_Pauli + βvee_Deutsch ]]))\n",
    "jellium.jellium_hnc.HNC_solve(**jellium.hnc_solve_options)\n",
    "\n"
   ]
  },
  {
   "cell_type": "markdown",
   "id": "0bb4b761-de89-4a6a-b70b-3059659266a5",
   "metadata": {},
   "source": [
    "#### Pressures"
   ]
  },
  {
   "cell_type": "code",
   "execution_count": 21,
   "id": "90ba5984-d1ab-4dba-8694-72f94e163311",
   "metadata": {},
   "outputs": [
    {
     "name": "stdout",
     "output_type": "stream",
     "text": [
      "[[7445.15100437]]\n",
      "[[6980.3762154]]\n",
      "[[7445.15100437]]\n"
     ]
    }
   ],
   "source": [
    "print(P_hnc_to_Mbar(jellium.jellium_hnc.excess_pressure_matrix()))\n",
    "jellium.jellium_hnc.βu_r_matrix[0,0] -= jellium.βP_ee\n",
    "print(P_hnc_to_Mbar(jellium.jellium_hnc.excess_pressure_matrix()))\n",
    "jellium.jellium_hnc.βu_r_matrix[0,0] += jellium.βP_ee\n",
    "print(P_hnc_to_Mbar(jellium.jellium_hnc.excess_pressure_matrix()))"
   ]
  },
  {
   "cell_type": "code",
   "execution_count": 8,
   "id": "5a880169-ccec-4862-907b-74e59b55b2e7",
   "metadata": {},
   "outputs": [
    {
     "data": {
      "text/plain": [
       "(51.803654302600016, 465.74712400603397, 51.739302540025804)"
      ]
     },
     "execution_count": 8,
     "metadata": {},
     "output_type": "execute_result"
    }
   ],
   "source": [
    "P_Fermi_Mbar = 2/5 * jellium.qsp.E_F/(4/3*π*(jellium.qsp.ri)**3) * AU_to_bar/1e6\n",
    "\n",
    "P_hnc_to_Mbar(jellium.jellium_hnc.ideal_pressure()),get_jellium_P_Mbar( jellium.jellium_hnc), P_Fermi_Mbar"
   ]
  },
  {
   "cell_type": "markdown",
   "id": "59c8c31c-0766-4dc8-97d3-13625793603d",
   "metadata": {},
   "source": [
    "##### Plot Radial Dsitribution Function"
   ]
  },
  {
   "cell_type": "code",
   "execution_count": 9,
   "id": "36a78c27-9108-4263-8104-51ada82259dc",
   "metadata": {},
   "outputs": [
    {
     "name": "stderr",
     "output_type": "stream",
     "text": [
      "Missing colon in file '~/plasma/hnc/hnc_paper.mplstyle', line 40 (\"text.latex.preamble = r'\\\\boldmath'\")\n"
     ]
    },
    {
     "data": {
      "text/plain": [
       "(0.0, 5.0)"
      ]
     },
     "execution_count": 9,
     "metadata": {},
     "output_type": "execute_result"
    },
    {
     "data": {
      "image/png": "[encoded data removed]",
      "text/plain": [
       "<Figure size 800x600 with 1 Axes>"
      ]
     },
     "metadata": {},
     "output_type": "display_data"
    }
   ],
   "source": [
    "plt.style.use('~/plasma/hnc/hnc_paper.mplstyle')\n",
    "\n",
    "fig, ax = plt.subplots()\n",
    "\n",
    "ax.plot(jellium.jellium_hnc.r_array, jellium.jellium_hnc.h_r_matrix[0,0]+1,'.', label='Default Pauli')\n",
    "# ax.plot(jellium.jellium_hnc.r_array, jellium.jellium_hnc.h_r_matrix[0,0]+1, label='Default Pauli')\n",
    "\n",
    "\n",
    "ax.set_xlabel(r\"$r/r_s$\")\n",
    "ax.set_ylabel(r\"$g_{ee}$\")\n",
    "\n",
    "ax.set_ylim(0,1.2)\n",
    "ax.set_xlim(0,5)"
   ]
  },
  {
   "cell_type": "markdown",
   "id": "532449d3-d5ca-4835-a4b3-704a77d66a5d",
   "metadata": {},
   "source": [
    "#### Plot βu"
   ]
  },
  {
   "cell_type": "code",
   "execution_count": 10,
   "id": "9bf9eb52-dd8d-4f1a-afb9-a489772a904a",
   "metadata": {},
   "outputs": [
    {
     "name": "stderr",
     "output_type": "stream",
     "text": [
      "Missing colon in file '~/plasma/hnc/hnc_paper.mplstyle', line 40 (\"text.latex.preamble = r'\\\\boldmath'\")\n"
     ]
    },
    {
     "data": {
      "text/plain": [
       "<matplotlib.legend.Legend at 0x7f31e8431150>"
      ]
     },
     "execution_count": 10,
     "metadata": {},
     "output_type": "execute_result"
    },
    {
     "data": {
      "image/png": "[encoded data removed]",
      "text/plain": [
       "<Figure size 800x600 with 1 Axes>"
      ]
     },
     "metadata": {},
     "output_type": "display_data"
    }
   ],
   "source": [
    "plt.style.use('~/plasma/hnc/hnc_paper.mplstyle')\n",
    "\n",
    "fig, ax = plt.subplots()\n",
    "\n",
    "ax.plot(jellium.jellium_hnc.r_array, jellium.βP_ee, label='HNC Pauli')\n",
    "ax.plot(jellium.jellium_hnc.r_array, jellium.qsp.βv_Pauli(  jellium.jellium_hnc.r_array , jellium.qsp.Λee ), label='Default Pauli')\n",
    "\n",
    "ax.set_xlabel(r\"$r/r_s$\")\n",
    "ax.set_ylabel(r\"$\\beta P_{ee}$\")\n",
    "\n",
    "# ax.set_ylim(0,1.2)\n",
    "ax.set_xlim(0,10)\n",
    "ax.legend()"
   ]
  },
  {
   "cell_type": "code",
   "execution_count": null,
   "id": "e5871246-193b-4e39-a655-7bd24b581b5d",
   "metadata": {},
   "outputs": [],
   "source": []
  }
 ],
 "metadata": {
  "kernelspec": {
   "display_name": "Python 3 (ipykernel)",
   "language": "python",
   "name": "python3"
  },
  "language_info": {
   "codemirror_mode": {
    "name": "ipython",
    "version": 3
   },
   "file_extension": ".py",
   "mimetype": "text/x-python",
   "name": "python",
   "nbconvert_exporter": "python",
   "pygments_lexer": "ipython3",
   "version": "3.10.6"
  }
 },
 "nbformat": 4,
 "nbformat_minor": 5
}
