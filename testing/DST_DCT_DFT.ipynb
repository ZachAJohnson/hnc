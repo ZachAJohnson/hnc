{
 "cells": [
  {
   "cell_type": "code",
   "execution_count": 1,
   "id": "11acc1c5-4941-4d80-b4b7-3fc34a95d1dc",
   "metadata": {
    "tags": []
   },
   "outputs": [
    {
     "data": {
      "text/html": [
       "\n",
       "<style>\n",
       ".output_png {\n",
       "    display: table-cell;\n",
       "    text-align: center;\n",
       "    vertical-align: middle;\n",
       "}\n",
       "\n",
       "</style>\n"
      ],
      "text/plain": [
       "<IPython.core.display.HTML object>"
      ]
     },
     "execution_count": 1,
     "metadata": {},
     "output_type": "execute_result"
    }
   ],
   "source": [
    "import numpy as np\n",
    "import matplotlib.pyplot as plt\n",
    "from pandas import read_csv\n",
    "\n",
    "from hnc.hnc.hnc import Integral_Equation_Solver as IET\n",
    "from hnc.hnc.constants import *\n",
    "from hnc.hnc.misc import n_from_rs, rs_from_n\n",
    "\n",
    "from pandas import read_csv\n",
    "from scipy.fft import fft, ifft, fftshift, ifftshift, dct, dst\n",
    "import tt as ttpy\n",
    "\n",
    "from liquids.python.qtt_core.qtt_util import *\n",
    "\n",
    "prop_cycle = plt.rcParams['axes.prop_cycle']\n",
    "colors = prop_cycle.by_key()['color']\n",
    "                \n",
    "from IPython.core.display import HTML\n",
    "HTML(\"\"\"\n",
    "<style>\n",
    ".output_png {\n",
    "    display: table-cell;\n",
    "    text-align: center;\n",
    "    vertical-align: middle;\n",
    "}\n",
    "\n",
    "</style>\n",
    "\"\"\")\n",
    "\n",
    "# import "
   ]
  },
  {
   "cell_type": "code",
   "execution_count": 2,
   "id": "e2034cff-82e2-4817-a87f-469e487e0244",
   "metadata": {},
   "outputs": [
    {
     "name": "stdout",
     "output_type": "stream",
     "text": [
      "0: Initial condition Total Error: 1.325e+00\n",
      "Exiting status 0, reverting to best index so far: 2564\n",
      "Final iter:2565, Total Error: 9.942e-11\n"
     ]
    }
   ],
   "source": [
    "Γ, κ = 100, 2\n",
    "N_bits = 12\n",
    "iet = IET(1, [[Γ]], [[3/(4*π)]], [[1]], [1], kappa = κ, dst_type=4, N_bins = 2**N_bits, R_max = 100)\n",
    "iet.HNC_solve(tol=1e-10, num_iterations=1e5, iters_to_wait=1e4)\n",
    "h_r_array = iet.h_r_matrix[0,0]\n",
    "# h_r_array = np.exp(-(iet.r_array-40)**2/(2*1**2)) #iet.h_r_matrix[0,0]\n"
   ]
  },
  {
   "cell_type": "code",
   "execution_count": 3,
   "id": "8e09d6b0-1cdc-4a61-b4de-326c0939389c",
   "metadata": {},
   "outputs": [],
   "source": [
    "def dct_type1(x):\n",
    "    \"\"\"\n",
    "    Pure-polynomial DCT-I (no special sqrt scaling).\n",
    "    \"\"\"\n",
    "    N = len(x)\n",
    "\n",
    "    # 1) build the extended array of length 2*(N-1)\n",
    "    #    [ x[0], x[1], ..., x[N-2], x[N-1], x[N-2], ..., x[1] ]\n",
    "    M = 2*(N-1)\n",
    "    x_ext = np.zeros(M, dtype=complex)\n",
    "    x_ext[:N] = x\n",
    "    x_ext[N:M] = x[-2:0:-1]  # reversed from x[N-2] down to x[1]\n",
    "\n",
    "    # 2) take DFT\n",
    "    X_ext = fft(x_ext)\n",
    "\n",
    "    # 3) the standard DCT-I is basically the real part of\n",
    "    #    (X_ext[k] + X_ext[M - k]) / 2, for k=0..N-1\n",
    "    #    but if you look carefully, for k=0..N-1:\n",
    "    #        X_ext[M - k] = X_ext[2N-2 - k].\n",
    "    #    We can just do the \"average\" in code. Often it's enough to take X_ext[k].real,\n",
    "    #    or do 0.5 * (X_ext[k] + conj(X_ext[M-k])) if you want guaranteed real.\n",
    "    \n",
    "    # We'll form the length-N result:\n",
    "    X = 0.5 * (X_ext[:N] + np.conjugate(X_ext[M : M - N : -1]))\n",
    "    return X.real\n",
    "\n",
    "def dct_type4(x):\n",
    "    \"\"\"\n",
    "    Pure-polynomial DCT-IV (no extra sqrt scaling).\n",
    "    \"\"\"\n",
    "    N = len(x)\n",
    "    n = np.arange(N)\n",
    "\n",
    "    # pre-twiddle for half-integer shift in time\n",
    "    pre_twiddle = np.exp(-1j * np.pi * (n + 0.5) / (2*N))\n",
    "    x_ext = np.zeros(2*N, dtype=complex)\n",
    "    x_ext[:N] = x * pre_twiddle\n",
    "\n",
    "    X_ext = fft(x_ext)\n",
    "\n",
    "    # post-twiddle for half-integer shift in frequency\n",
    "    post_twiddle = np.exp(-1j * np.pi * (n + 0.5) / (2*N))\n",
    "    return 2.0 * (X_ext[:N] * post_twiddle).real\n",
    "\n",
    "def dct_type2(vec_r):\n",
    "    N = len(vec_r)\n",
    "    vec_r_ext = np.zeros(2*N)\n",
    "    vec_r_ext[:N] = vec_r\n",
    "    return 2*(fft(vec_r_ext)[:N]*np.exp(-1j*np.arange(N)*π/2/N)).real\n"
   ]
  },
  {
   "cell_type": "code",
   "execution_count": 4,
   "id": "940966da-be05-4a07-85d3-e6e703f18882",
   "metadata": {},
   "outputs": [],
   "source": [
    "\n",
    "def dst_type4(vec_r):\n",
    "    N = len(vec_r)\n",
    "    n_array = np.arange(N) \n",
    "    vec_r_ext = np.zeros(2*N)\n",
    "    vec_r_ext[:N] = vec_r*np.exp(-1j*π*n_array/2/N)\n",
    "    return -2*(fft(vec_r_ext)[:N]*np.exp(-1j*(n_array + 1/2)*π/2/N)).imag\n"
   ]
  },
  {
   "cell_type": "code",
   "execution_count": 5,
   "id": "8c680f96-29a7-4548-b102-bdc8cea947ad",
   "metadata": {},
   "outputs": [
    {
     "name": "stderr",
     "output_type": "stream",
     "text": [
      "/tmp/ipykernel_60955/4002906795.py:5: ComplexWarning: Casting complex values to real discards the imaginary part\n",
      "  vec_r_ext[:N] = vec_r*np.exp(-1j*π*n_array/2/N)\n"
     ]
    }
   ],
   "source": [
    "h_dst3 = dst(h_r_array, type=3)\n",
    "h_dst4 = dst(h_r_array, type=4)\n",
    "\n",
    "# h_dst3_attempt = dst_type3(h_r_matrix[0,0])\n",
    "h_dst4_attempt = dst_type4(h_r_array)\n"
   ]
  },
  {
   "cell_type": "code",
   "execution_count": 6,
   "id": "332ab3dc-eff4-4819-b2c6-5e468e6386df",
   "metadata": {},
   "outputs": [
    {
     "data": {
      "image/png": "[encoded data removed]",
      "text/plain": [
       "<Figure size 640x480 with 1 Axes>"
      ]
     },
     "metadata": {},
     "output_type": "display_data"
    }
   ],
   "source": [
    "fig, ax = plt.subplots()\n",
    "\n",
    "ax.plot(iet.k_array, h_dst3)\n",
    "ax.plot(iet.k_array, h_dst4)\n",
    "# ax.plot(iet.k_array, h_dst3_attempt, '--')\n",
    "ax.plot(iet.k_array, h_dst4_attempt, '--')\n",
    "\n",
    "\n",
    "# ax.plot(iet.k_array, βu_dct4) \n",
    "# ax.plot(iet.k_array, βu_dct4_attempt) \n",
    "\n",
    "# ax.plot(iet.k_array, βu_dct2) \n",
    "# ax.plot(iet.k_array, βu_dct2_attempt) \n",
    "ax.set_yscale('symlog')\n",
    "ax.set_xscale('symlog')"
   ]
  },
  {
   "cell_type": "markdown",
   "id": "664fde64-b4a2-450b-aa31-1dfdef021904",
   "metadata": {},
   "source": [
    "### QTT Tests on Converged Sims"
   ]
  },
  {
   "cell_type": "code",
   "execution_count": 7,
   "id": "03b147b6-66b2-4627-b179-ccf4bc7ecef3",
   "metadata": {},
   "outputs": [],
   "source": [
    "βu_r_array = iet.βu_k_matrix[0,0]\n",
    "βu_r_bt = tensor_to_binarytensor(βu_r_array, order='F')\n",
    "βu_r_qtt = ttpy.vector(βu_r_bt, eps=1e-4)\n",
    "\n",
    "# h_r_array = np.exp(-(iet.r_array-40)**2/(2*1**2)) #iet.h_r_matrix[0,0]\n",
    "# h_r_array = h_r_matrix[0,0]\n",
    "h_r_bt = tensor_to_binarytensor(h_r_array, order='F')\n",
    "h_r_qtt = ttpy.vector(h_r_bt, eps=1e-12)\n",
    "\n",
    "c_r_array = iet.c_k_matrix[0,0]\n",
    "c_r_bt = tensor_to_binarytensor(c_r_array, order='F')\n",
    "c_r_qtt = ttpy.vector(c_r_bt, eps=1e-4)\n",
    "\n",
    "γs_r_array = iet.γs_r_matrix[0,0]\n",
    "γs_r_bt = tensor_to_binarytensor(γs_r_array, order='F')\n",
    "γs_r_qtt = ttpy.vector(γs_r_bt, eps=1e-4)"
   ]
  },
  {
   "cell_type": "code",
   "execution_count": 8,
   "id": "92402d99-06da-4e7b-94dc-9636a37f0a98",
   "metadata": {},
   "outputs": [
    {
     "name": "stdout",
     "output_type": "stream",
     "text": [
      "╒═════════════════════════════╤═══════════════════════════════╤═════════════════════════╤═══════════════════════════════╕\n",
      "│                             │                               │                         │                               │\n",
      "├─────────────────────────────┼───────────────────────────────┼─────────────────────────┼───────────────────────────────┤\n",
      "│                             │ Grid                          │ TT                      │ QTT                           │\n",
      "├─────────────────────────────┼───────────────────────────────┼─────────────────────────┼───────────────────────────────┤\n",
      "│ Error (|F1-F2|/|F1|)        │ 0                             │ nan                     │ 1.771e-05                     │\n",
      "├─────────────────────────────┼───────────────────────────────┼─────────────────────────┼───────────────────────────────┤\n",
      "│ Memory (of Square)          │ 0.0328 MB (0.0328 MB)         │ nan MB (nan MB)         │ 0.0021 MB (0.0277 MB)         │\n",
      "├─────────────────────────────┼───────────────────────────────┼─────────────────────────┼───────────────────────────────┤\n",
      "│ Compression (of Square)     │ 1                             │ nan (nan)               │ 15.876 (1.184)                │\n",
      "├─────────────────────────────┼───────────────────────────────┼─────────────────────────┼───────────────────────────────┤\n",
      "│ Creation time (Square time) │ 0.000e+00 [s] (2.747e-04 [s]) │ 0.000e+00 [s] (nan [s]) │ 0.000e+00 [s] (1.305e-03 [s]) │\n",
      "╘═════════════════════════════╧═══════════════════════════════╧═════════════════════════╧═══════════════════════════════╛\n",
      "╒═════════════════════════════╤═══════════════════════════════╤═════════════════════════╤═══════════════════════════════╕\n",
      "│                             │                               │                         │                               │\n",
      "├─────────────────────────────┼───────────────────────────────┼─────────────────────────┼───────────────────────────────┤\n",
      "│                             │ Grid                          │ TT                      │ QTT                           │\n",
      "├─────────────────────────────┼───────────────────────────────┼─────────────────────────┼───────────────────────────────┤\n",
      "│ Error (|F1-F2|/|F1|)        │ 0                             │ nan                     │ 3.812e-14                     │\n",
      "├─────────────────────────────┼───────────────────────────────┼─────────────────────────┼───────────────────────────────┤\n",
      "│ Memory (of Square)          │ 0.0328 MB (0.0328 MB)         │ nan MB (nan MB)         │ 0.0075 MB (0.6594 MB)         │\n",
      "├─────────────────────────────┼───────────────────────────────┼─────────────────────────┼───────────────────────────────┤\n",
      "│ Compression (of Square)     │ 1                             │ nan (nan)               │ 4.376 (0.050)                 │\n",
      "├─────────────────────────────┼───────────────────────────────┼─────────────────────────┼───────────────────────────────┤\n",
      "│ Creation time (Square time) │ 0.000e+00 [s] (2.050e-05 [s]) │ 0.000e+00 [s] (nan [s]) │ 0.000e+00 [s] (1.196e-03 [s]) │\n",
      "╘═════════════════════════════╧═══════════════════════════════╧═════════════════════════╧═══════════════════════════════╛\n",
      "╒═════════════════════════════╤═══════════════════════════════╤═════════════════════════╤═══════════════════════════════╕\n",
      "│                             │                               │                         │                               │\n",
      "├─────────────────────────────┼───────────────────────────────┼─────────────────────────┼───────────────────────────────┤\n",
      "│                             │ Grid                          │ TT                      │ QTT                           │\n",
      "├─────────────────────────────┼───────────────────────────────┼─────────────────────────┼───────────────────────────────┤\n",
      "│ Error (|F1-F2|/|F1|)        │ 0                             │ nan                     │ 3.053e-05                     │\n",
      "├─────────────────────────────┼───────────────────────────────┼─────────────────────────┼───────────────────────────────┤\n",
      "│ Memory (of Square)          │ 0.0328 MB (0.0328 MB)         │ nan MB (nan MB)         │ 0.0012 MB (0.0126 MB)         │\n",
      "├─────────────────────────────┼───────────────────────────────┼─────────────────────────┼───────────────────────────────┤\n",
      "│ Compression (of Square)     │ 1                             │ nan (nan)               │ 26.597 (2.596)                │\n",
      "├─────────────────────────────┼───────────────────────────────┼─────────────────────────┼───────────────────────────────┤\n",
      "│ Creation time (Square time) │ 0.000e+00 [s] (1.168e-05 [s]) │ 0.000e+00 [s] (nan [s]) │ 0.000e+00 [s] (1.857e-04 [s]) │\n",
      "╘═════════════════════════════╧═══════════════════════════════╧═════════════════════════╧═══════════════════════════════╛\n",
      "╒═════════════════════════════╤═══════════════════════════════╤═════════════════════════╤═══════════════════════════════╕\n",
      "│                             │                               │                         │                               │\n",
      "├─────────────────────────────┼───────────────────────────────┼─────────────────────────┼───────────────────────────────┤\n",
      "│                             │ Grid                          │ TT                      │ QTT                           │\n",
      "├─────────────────────────────┼───────────────────────────────┼─────────────────────────┼───────────────────────────────┤\n",
      "│ Error (|F1-F2|/|F1|)        │ 0                             │ nan                     │ 1.229e-05                     │\n",
      "├─────────────────────────────┼───────────────────────────────┼─────────────────────────┼───────────────────────────────┤\n",
      "│ Memory (of Square)          │ 0.0328 MB (0.0328 MB)         │ nan MB (nan MB)         │ 0.0011 MB (0.0113 MB)         │\n",
      "├─────────────────────────────┼───────────────────────────────┼─────────────────────────┼───────────────────────────────┤\n",
      "│ Compression (of Square)     │ 1                             │ nan (nan)               │ 29.681 (2.889)                │\n",
      "├─────────────────────────────┼───────────────────────────────┼─────────────────────────┼───────────────────────────────┤\n",
      "│ Creation time (Square time) │ 0.000e+00 [s] (9.060e-06 [s]) │ 0.000e+00 [s] (nan [s]) │ 0.000e+00 [s] (1.490e-04 [s]) │\n",
      "╘═════════════════════════════╧═══════════════════════════════╧═════════════════════════╧═══════════════════════════════╛\n"
     ]
    },
    {
     "data": {
      "text/plain": [
       "[[''],\n",
       " ['', 'Grid', 'TT', 'QTT'],\n",
       " ['Error (|F1-F2|/|F1|)', 0, 'nan', '1.229e-05'],\n",
       " ['Memory (of Square)',\n",
       "  '0.0328 MB (0.0328 MB)',\n",
       "  'nan MB (nan MB)',\n",
       "  '0.0011 MB (0.0113 MB)'],\n",
       " ['Compression (of Square)', 1, 'nan (nan)', '29.681 (2.889)'],\n",
       " ['Creation time (Square time)',\n",
       "  '0.000e+00 [s] (9.060e-06 [s])',\n",
       "  '0.000e+00 [s] (nan [s])',\n",
       "  '0.000e+00 [s] (1.490e-04 [s])']]"
      ]
     },
     "execution_count": 8,
     "metadata": {},
     "output_type": "execute_result"
    }
   ],
   "source": [
    "get_bigtable(βu_r_array, βu_r_bt, np.nan, βu_r_qtt, [0,0,0,0])\n",
    "get_bigtable(h_r_array, h_r_bt, np.nan, h_r_qtt, [0,0,0,0])\n",
    "get_bigtable(c_r_array, c_r_bt, np.nan, c_r_qtt, [0,0,0,0])\n",
    "get_bigtable(γs_r_array, γs_r_bt, np.nan, γs_r_qtt, [0,0,0,0])"
   ]
  },
  {
   "cell_type": "code",
   "execution_count": 9,
   "id": "c8fc0691-faf6-4b07-b0aa-c1f8993d80be",
   "metadata": {},
   "outputs": [
    {
     "data": {
      "text/plain": [
       "4096"
      ]
     },
     "execution_count": 9,
     "metadata": {},
     "output_type": "execute_result"
    }
   ],
   "source": [
    "2**N_bits"
   ]
  },
  {
   "cell_type": "code",
   "execution_count": 23,
   "id": "055ab7f4-8dc5-46f3-a1bd-df823d9cd956",
   "metadata": {},
   "outputs": [
    {
     "data": {
      "image/png": "[encoded data removed]",
      "text/plain": [
       "<Figure size 640x480 with 1 Axes>"
      ]
     },
     "metadata": {},
     "output_type": "display_data"
    }
   ],
   "source": [
    "def dst_type4(vec_r):\n",
    "    N = len(vec_r)\n",
    "    n_array = np.arange(N) \n",
    "    vec_r_ext = np.zeros(2*N)\n",
    "    first_phase_shift = np.exp(-1j*π*n_array/2/N)\n",
    "    vec_r_ext[:N] = vec_r*first_phase_shift\n",
    "    second_phase_shift = np.exp(-1j*(n_array + 1/2)*π/2/N)\n",
    "    # return vec_r_ext\n",
    "    # return fft(vec_r_ext)[:N]\n",
    "    # return second_phase_shift\n",
    "    # return fft(vec_r_ext)[:N]*second_phase_shift\n",
    "    return -2*(fft(vec_r_ext)[:N]*np.exp(-1j*(n_array + 1/2)*π/2/N)).imag\n",
    "\n",
    "def dst_type4_qtt(qtt_r, eps=1e-6, inverse=False): # ONLY WORKS WITH F ORDERING\n",
    "    N_bits = qtt_r.d\n",
    "    N_grid = 2**N_bits\n",
    "    n_array = np.arange(N_grid) \n",
    "    \n",
    "    # Phase shift in r-space\n",
    "    qtt_first_phase_shift = ttpy.vector(tensor_to_binarytensor(np.exp(-1j*π*n_array/2/N_grid), order='F'))\n",
    "    qtt_r = (qtt_r*qtt_first_phase_shift).round(eps)\n",
    "    \n",
    "    # Extend by filling new half of space with zeros\n",
    "    qtt_r_extended = ttpy.vector.from_list( qtt_r.to_list(qtt_r) + [ np.array([1,0]).reshape(1,2,1, order='F') ])\n",
    "    \n",
    "    # Do FFT (Assumes F ordering! )\n",
    "    qtt_r_extended_fft = qtt_r_extended.qtt_fft1(tol=eps)*np.sqrt(2**(N_bits+1))\n",
    "    qtt_r_extended_fft_cores = qtt_r_extended_fft.to_list(qtt_r_extended_fft)\n",
    "    \n",
    "    # Now take only first half of k-space, needing a core multiplication here \n",
    "    qtt_r_extended_fft_cores[-2] = qtt_r_extended_fft_cores[-2].dot(qtt_r_extended_fft_cores[-1][:,0,0])[:,:,np.newaxis]\n",
    "    qtt_r_fft = ttpy.vector.from_list(qtt_r_extended_fft_cores[:-1]).round(eps) # remove first, gone, core\n",
    "    \n",
    "    # Now second phase shift \n",
    "    qtt_second_phase_shift = ttpy.vector(tensor_to_binarytensor(np.exp(-1j*(n_array+0.5)*π/2/N_grid), order='F'))\n",
    "    qtt_k_fft = (qtt_r_fft*qtt_second_phase_shift).round(eps)\n",
    "    qtt_k = -2*(qtt_k_fft.imag())\n",
    "    if not inverse:\n",
    "        return qtt_k\n",
    "    else:\n",
    "        return 0.5/N_grid * qtt_k\n",
    "\n",
    "# tmp1 = dst_type4_qtt(h_r_qtt, 1e-3) \n",
    "# tmp2 = dst_type4(h_r_array)\n",
    "\n",
    "# tmp1 = qtt_fft1(h_r_qtt, 1e-6)\n",
    "# tmp2 = fft(h_r_array)\n",
    "\n",
    "\n",
    "fig,ax = plt.subplots()\n",
    "   \n",
    "# ax.plot(100*fftshift(tmp1.full().reshape(2*2**N_bits, order='F')))\n",
    "# ax.plot(fftshift(tmp2), '--',alpha=0.4)\n",
    "\n",
    "\n",
    "# ax.plot(iet.k_array, tmp2, '--',alpha=0.4)\n",
    "\n",
    "ax.plot(iet.k_array, h_dst3)\n",
    "ax.plot(iet.k_array, dst(h_r_array, type=4))\n",
    "ax.plot(iet.k_array, h_dst4, '--')\n",
    "\n",
    "# ax.plot(iet.k_array, h_dst4_attempt, '--')\n",
    "ax.plot(iet.k_array, binarytensor_to_tensor(dst_type4_qtt(h_r_qtt,eps=1e-12).full(), order='F' ) ,'--.',alpha=0.3)\n",
    "ax.plot(iet.k_array, binarytensor_to_tensor(dst4_qtt(h_r_qtt,eps=1e-12).full(), order='F' ) ,'-',alpha=1)\n",
    "\n",
    "# ax.plot(iet.r_array, h_r_array)\n",
    "# ax.plot(iet.r_array, 0.5/2**N_bits*dst_type4(dst_type4(h_r_array)))\n",
    "# ax.plot(iet.r_array, 0.5/2**N_bits*binarytensor_to_tensor(dst_type4_qtt(dst_type4_qtt(h_r_qtt)).full(),order='F') )\n",
    "# ax.plot(iet.r_array, 0.5/2**N_bits*dst(dst(h_r_array,type=4),type=4))\n",
    "\n",
    "# ax.plot(iet.k_array, 90*binarytensor_to_tensor(tmp1.full(), order='F')) # MATLAB is F, why does C work here?????\n",
    "# ax.plot(iet.k_array, tmp2, '--', alpha=0.5)\n",
    "\n",
    "# h_k_qtt = dst_type4_qt(h_r_qtt) \n",
    "# ax.set_xlim(1e3,1e4)\n",
    "# ax.set_yscale('symlog')\n",
    "ax.set_xscale('log')"
   ]
  },
  {
   "cell_type": "code",
   "execution_count": 11,
   "id": "da26a517-e7f0-4d2a-9023-3a1e1c119720",
   "metadata": {},
   "outputs": [
    {
     "data": {
      "text/plain": [
       "(12, 4096, 4.452173913043478)"
      ]
     },
     "execution_count": 11,
     "metadata": {},
     "output_type": "execute_result"
    }
   ],
   "source": [
    "N_bits, 2**N_bits, get_tt_compression(dst_type4_qtt(c_r_qtt, 1e-3) )"
   ]
  },
  {
   "cell_type": "code",
   "execution_count": 12,
   "id": "3ecf9022-8a04-4cd9-92f6-4e98315e532c",
   "metadata": {},
   "outputs": [
    {
     "name": "stdout",
     "output_type": "stream",
     "text": [
      "CPU times: user 717 µs, sys: 110 µs, total: 827 µs\n",
      "Wall time: 618 µs\n"
     ]
    },
    {
     "data": {
      "text/plain": [
       "array([-179.93439594, -539.5103095 , -898.20891637, ..., -169.02471097,\n",
       "       -169.02466123, -169.02463637])"
      ]
     },
     "execution_count": 12,
     "metadata": {},
     "output_type": "execute_result"
    }
   ],
   "source": [
    "%%time\n",
    "dst(c_r_array, type=4)"
   ]
  },
  {
   "cell_type": "code",
   "execution_count": 13,
   "id": "0d98463a-3440-40e0-beb2-8911cfa3d583",
   "metadata": {},
   "outputs": [
    {
     "name": "stdout",
     "output_type": "stream",
     "text": [
      "CPU times: user 3.13 ms, sys: 0 ns, total: 3.13 ms\n",
      "Wall time: 3.7 ms\n"
     ]
    },
    {
     "name": "stderr",
     "output_type": "stream",
     "text": [
      "/tmp/ipykernel_60955/3687742123.py:6: ComplexWarning: Casting complex values to real discards the imaginary part\n",
      "  vec_r_ext[:N] = vec_r*first_phase_shift\n"
     ]
    },
    {
     "data": {
      "text/plain": [
       "array([  -3.01674253, -362.73908202, -721.87386947, ..., -169.02474206,\n",
       "       -169.02467989, -169.02464258])"
      ]
     },
     "execution_count": 13,
     "metadata": {},
     "output_type": "execute_result"
    }
   ],
   "source": [
    "%%time\n",
    "dst_type4(c_r_array)"
   ]
  },
  {
   "cell_type": "code",
   "execution_count": 14,
   "id": "7a2995f9-6022-4161-8fd1-acf44f588d20",
   "metadata": {},
   "outputs": [
    {
     "name": "stdout",
     "output_type": "stream",
     "text": [
      "CPU times: user 39.8 ms, sys: 0 ns, total: 39.8 ms\n",
      "Wall time: 39.1 ms\n"
     ]
    },
    {
     "data": {
      "text/plain": [
       "This is a 12-dimensional tensor \n",
       "r(0)=1, n(0)=2 \n",
       "r(1)=4, n(1)=2 \n",
       "r(2)=6, n(2)=2 \n",
       "r(3)=8, n(3)=2 \n",
       "r(4)=10, n(4)=2 \n",
       "r(5)=12, n(5)=2 \n",
       "r(6)=12, n(6)=2 \n",
       "r(7)=12, n(7)=2 \n",
       "r(8)=14, n(8)=2 \n",
       "r(9)=14, n(9)=2 \n",
       "r(10)=8, n(10)=2 \n",
       "r(11)=4, n(11)=2 \n",
       "r(12)=1 "
      ]
     },
     "execution_count": 14,
     "metadata": {},
     "output_type": "execute_result"
    }
   ],
   "source": [
    "%%time\n",
    "dst_type4_qtt(γs_r_qtt, 1e-6) \n"
   ]
  },
  {
   "cell_type": "code",
   "execution_count": 15,
   "id": "f3a1c1bc-9b1c-4d27-84f9-0af41fcbd440",
   "metadata": {},
   "outputs": [
    {
     "ename": "NameError",
     "evalue": "name 'h_k_qtt' is not defined",
     "output_type": "error",
     "traceback": [
      "\u001b[0;31m---------------------------------------------------------------------------\u001b[0m",
      "\u001b[0;31mNameError\u001b[0m                                 Traceback (most recent call last)",
      "Cell \u001b[0;32mIn[15], line 7\u001b[0m\n\u001b[1;32m      5\u001b[0m \u001b[38;5;66;03m# ax.plot(iet.k_array, h_dst3_attempt, '--')\u001b[39;00m\n\u001b[1;32m      6\u001b[0m ax\u001b[38;5;241m.\u001b[39mplot(iet\u001b[38;5;241m.\u001b[39mk_array, h_dst4_attempt, \u001b[38;5;124m'\u001b[39m\u001b[38;5;124m--\u001b[39m\u001b[38;5;124m'\u001b[39m)\n\u001b[0;32m----> 7\u001b[0m ax\u001b[38;5;241m.\u001b[39mplot(iet\u001b[38;5;241m.\u001b[39mk_array, \u001b[43mh_k_qtt\u001b[49m\u001b[38;5;241m.\u001b[39mfull()\u001b[38;5;241m.\u001b[39mreshape(\u001b[38;5;241m2\u001b[39m\u001b[38;5;241m*\u001b[39m\u001b[38;5;241m*\u001b[39mN_bits, order\u001b[38;5;241m=\u001b[39m\u001b[38;5;124m'\u001b[39m\u001b[38;5;124mC\u001b[39m\u001b[38;5;124m'\u001b[39m))\n\u001b[1;32m      8\u001b[0m \u001b[38;5;66;03m# ax.plot(iet.k_array, 2.8*dst_type4_qtt(h_r_qtt).full().reshape(2**N_bits, order='F'),'k--')\u001b[39;00m\n\u001b[1;32m      9\u001b[0m ax\u001b[38;5;241m.\u001b[39mset_yscale(\u001b[38;5;124m'\u001b[39m\u001b[38;5;124msymlog\u001b[39m\u001b[38;5;124m'\u001b[39m)\n",
      "\u001b[0;31mNameError\u001b[0m: name 'h_k_qtt' is not defined"
     ]
    },
    {
     "data": {
      "image/png": "[encoded data removed]",
      "text/plain": [
       "<Figure size 640x480 with 1 Axes>"
      ]
     },
     "metadata": {},
     "output_type": "display_data"
    }
   ],
   "source": [
    "fig, ax = plt.subplots()\n",
    "\n",
    "# ax.plot(iet.k_array, h_dst3)\n",
    "ax.plot(iet.k_array, h_dst4)\n",
    "# ax.plot(iet.k_array, h_dst3_attempt, '--')\n",
    "ax.plot(iet.k_array, h_dst4_attempt, '--')\n",
    "ax.plot(iet.k_array, h_k_qtt.full().reshape(2**N_bits, order='C'))\n",
    "# ax.plot(iet.k_array, 2.8*dst_type4_qtt(h_r_qtt).full().reshape(2**N_bits, order='F'),'k--')\n",
    "ax.set_yscale('symlog')\n",
    "ax.set_xscale('symlog')"
   ]
  },
  {
   "cell_type": "code",
   "execution_count": null,
   "id": "2522211c-945c-44f6-8e87-c3f64084849f",
   "metadata": {},
   "outputs": [],
   "source": [
    "h_r_qtt_cores = h_r_qtt.to_list(h_r_qtt)\n",
    "[core.shape for core in h_r_qtt_cores]\n",
    "h_r_qtt_extended = ttpy.vector.from_list( [ np.array([1,0]).reshape(1,2,1) ] + h_r_qtt_cores)\n",
    "\n",
    "fig, ax = plt.subplots()\n",
    "\n",
    "ax.plot(binarytensor_to_tensor(h_r_qtt_extended.full()))\n",
    "ax.plot(binarytensor_to_tensor(h_r_qtt.full()),'--')"
   ]
  },
  {
   "cell_type": "code",
   "execution_count": null,
   "id": "829847b1-21fa-45b7-baff-dbabb6b38d30",
   "metadata": {},
   "outputs": [],
   "source": [
    "h_fft_qtt = h_r_qtt.qtt_fft1(1e-12)\n",
    "# h_fft_qtt = qtt_fft1(h_r_qtt, 1e-4)\n",
    "# h_fft_ifft_qtt = h_fft_qtt.qtt_fft1(1e-4, inverse=True)\n",
    "binarytensor_to_tensor(h_fft_qtt.full())"
   ]
  },
  {
   "cell_type": "code",
   "execution_count": null,
   "id": "f5e62466-8ba1-4446-9742-6290ebdd4bf5",
   "metadata": {},
   "outputs": [],
   "source": [
    "h_fft_qtt = h_r_qtt.qtt_fft1(1e-12)\n",
    "# h_fft_qtt = qtt_fft1(h_r_qtt, 1e-4)\n",
    "# h_fft_ifft_qtt = h_fft_qtt.qtt_fft1(1e-4, inverse=True)\n",
    "binarytensor_to_tensor(h_fft_qtt.full())\n",
    "\n",
    "fig, ax = plt.subplots()\n",
    "\n",
    "# ax.plot(iet.k_array, 120*binarytensor_to_tensor(h_fft_qtt.full()))\n",
    "ax.plot(iet.k_array, fftshift(fft(h_r_array)))\n",
    "\n",
    "ax.set_yscale('symlog')\n",
    "ax.set_xscale('symlog')\n",
    "ax.set_xlim(60, 70)"
   ]
  },
  {
   "cell_type": "code",
   "execution_count": null,
   "id": "2df47f55-d1eb-44f6-b8aa-642e685580f6",
   "metadata": {},
   "outputs": [],
   "source": [
    "fig, ax = plt.subplots()\n",
    "\n",
    "ax.plot(iet.r_array, binarytensor_to_tensor(h_r_qtt.full()))\n",
    "ax.plot(iet.r_array, binarytensor_to_tensor(h_fft_ifft_qtt.full()))\n",
    "ax.plot(iet.r_array, h_r_array)\n",
    "\n",
    "ax.set_yscale('symlog')\n",
    "ax.set_xscale('symlog')"
   ]
  },
  {
   "cell_type": "code",
   "execution_count": null,
   "id": "c7a7d132-ac28-4c06-afa0-4744e86bbcde",
   "metadata": {},
   "outputs": [],
   "source": [
    "iet.plot_g_all_species()"
   ]
  },
  {
   "cell_type": "code",
   "execution_count": null,
   "id": "cd6286b9-fcad-4ab6-87ff-c0571da2e39f",
   "metadata": {},
   "outputs": [],
   "source": [
    "get_bigtable(βu_r_array, βu_r_bt, np.nan, βu_r_qtt, [0,0,0,0])\n",
    "get_bigtable(h_r_array, h_r_bt, np.nan, h_r_qtt, [0,0,0,0])\n",
    "get_bigtable(c_r_array, c_r_bt, np.nan, c_r_qtt, [0,0,0,0])"
   ]
  },
  {
   "cell_type": "code",
   "execution_count": null,
   "id": "b68196ec-7b3c-47f8-887a-c57b79236a36",
   "metadata": {},
   "outputs": [],
   "source": [
    "qtt_fft1(h_r_qtt, 1e-4)"
   ]
  },
  {
   "cell_type": "code",
   "execution_count": null,
   "id": "aaa9ba5c-f787-4342-93f2-90ab610c25be",
   "metadata": {},
   "outputs": [],
   "source": [
    "\n",
    "Γ, κ = 100, 3\n",
    "N_bits = 8\n",
    "r_array = np.linspace(0,100, 2**N_bits)\n",
    "h_r_array = np.exp(-(r_array-50)**2/(2*1**2))\n",
    "# h_r_bt = tensor_to_binarytensor(h_r_array)\n",
    "h_r_bt = h_r_array.reshape(2,2,2,2,2,2,2,2, order='F')\n",
    "h_r_qtt = ttpy.vector(h_r_bt, eps=1e-12)\n",
    "h_r_bt\n",
    "h_fft_qtt = qtt_fft1(h_r_qtt, 1e-8)\n",
    "def print_like_matlab(tensor):\n",
    "    for i in range(tensor.shape[-1]):\n",
    "        print(f\"tensor(:,:{i+1})\", tensor[:,:,i])\n",
    "# print_like_matlab(h_r_bt)\n",
    "print(\"\\nfinal output:\")\n",
    "print_like_matlab(h_fft_qtt.to_list(h_fft_qtt)[1])"
   ]
  },
  {
   "cell_type": "code",
   "execution_count": null,
   "id": "eca775d9-1014-4dfb-bcce-2cdf2761582e",
   "metadata": {
    "scrolled": true,
    "tags": []
   },
   "outputs": [],
   "source": [
    "# h_fft_qtt = h_r_qtt.qtt_fft1(1e-12)\n",
    "h_fft_qtt = qtt_fft1(h_r_qtt, 1e-8)\n",
    "# h_fft_ifft_qtt = h_fft_qtt.qtt_fft1(1e-4, inverse=True)\n",
    "h_fft_qtt.full().reshape(2**N_bits, order='F')\n",
    "\n",
    "fig, ax = plt.subplots()\n",
    "\n",
    "# ax.plot(r_array, fftshift(binarytensor_to_tensor(h_fft_qtt.full())))\n",
    "# ax.plot(r_array, fftshift(h_fft_qtt.full().reshape(2**N_bits, order='C')))\n",
    "ax.plot(r_array, fftshift(h_fft_qtt.full().reshape(2**N_bits, order='F')))\n",
    "# ax.plot(r_array, fftshift(fft(h_r_array)).real, 'k--')\n",
    "\n",
    "# ax.set_yscale('symlog')\n",
    "# ax.set_xscale('symlog')\n",
    "# ax.set_xlim(14, 18)\n",
    "fftshift(h_fft_qtt.full().reshape(2**N_bits, order='F')).real"
   ]
  },
  {
   "cell_type": "code",
   "execution_count": null,
   "id": "be410a6a-3f2b-4286-9c36-e0a07174e708",
   "metadata": {},
   "outputs": [],
   "source": [
    "iet.k_array"
   ]
  },
  {
   "cell_type": "code",
   "execution_count": null,
   "id": "a376bec1-6bf2-47bd-893e-01cdc63853f6",
   "metadata": {},
   "outputs": [],
   "source": [
    "fftshift(fft(h_r_array)).real"
   ]
  },
  {
   "cell_type": "code",
   "execution_count": null,
   "id": "2eba0eee-197c-427a-a3f1-4d1f1bf2e891",
   "metadata": {},
   "outputs": [],
   "source": []
  },
  {
   "cell_type": "code",
   "execution_count": null,
   "id": "6f507d3a-f0af-4dae-9691-f7d379299472",
   "metadata": {},
   "outputs": [],
   "source": []
  },
  {
   "cell_type": "code",
   "execution_count": null,
   "id": "27069971-0f12-48ea-a78a-db2e5d2897aa",
   "metadata": {},
   "outputs": [],
   "source": []
  },
  {
   "cell_type": "code",
   "execution_count": null,
   "id": "a1736fc9-5d5e-4c08-bbf0-f958bd4d54ec",
   "metadata": {},
   "outputs": [],
   "source": []
  },
  {
   "cell_type": "code",
   "execution_count": null,
   "id": "cddb3676-9b15-4c8b-bad8-e70cffd3a48c",
   "metadata": {},
   "outputs": [],
   "source": []
  },
  {
   "cell_type": "code",
   "execution_count": null,
   "id": "85833b38-255c-41f5-9643-29d83aa5b08e",
   "metadata": {},
   "outputs": [],
   "source": []
  },
  {
   "cell_type": "code",
   "execution_count": null,
   "id": "809c6585-adea-4c10-a6d4-2fc637841536",
   "metadata": {},
   "outputs": [],
   "source": []
  },
  {
   "cell_type": "code",
   "execution_count": null,
   "id": "8036ff3d-a646-4122-9cb0-d5f49a3fb597",
   "metadata": {},
   "outputs": [],
   "source": []
  },
  {
   "cell_type": "code",
   "execution_count": null,
   "id": "e5144902-7ed8-48b6-818d-b6c403d8042a",
   "metadata": {},
   "outputs": [],
   "source": []
  },
  {
   "cell_type": "code",
   "execution_count": null,
   "id": "cfa97119-0668-4c46-9f79-94e6b05defc8",
   "metadata": {},
   "outputs": [],
   "source": []
  },
  {
   "cell_type": "code",
   "execution_count": null,
   "id": "c4f10126-a833-4513-831a-a18236412005",
   "metadata": {},
   "outputs": [],
   "source": []
  },
  {
   "cell_type": "code",
   "execution_count": null,
   "id": "855cea13-688f-4512-9bca-142e03e434d4",
   "metadata": {},
   "outputs": [],
   "source": []
  },
  {
   "cell_type": "code",
   "execution_count": null,
   "id": "99bebe3f-fd4f-41cb-9326-093855375d11",
   "metadata": {},
   "outputs": [],
   "source": []
  },
  {
   "cell_type": "code",
   "execution_count": null,
   "id": "133d53b9-f82d-4413-bddc-c3e2129af34a",
   "metadata": {},
   "outputs": [],
   "source": []
  },
  {
   "cell_type": "code",
   "execution_count": null,
   "id": "42aaa085-093f-47cf-906f-07a793bda96a",
   "metadata": {},
   "outputs": [],
   "source": []
  },
  {
   "cell_type": "code",
   "execution_count": null,
   "id": "f36302f7-a2c7-488a-bdfb-ff618ef78ade",
   "metadata": {},
   "outputs": [],
   "source": []
  },
  {
   "cell_type": "code",
   "execution_count": null,
   "id": "b3967f49-6f62-4cb4-9f63-8a3ae6eda592",
   "metadata": {},
   "outputs": [],
   "source": []
  }
 ],
 "metadata": {
  "kernelspec": {
   "display_name": "Python 3 (ipykernel)",
   "language": "python",
   "name": "python3"
  },
  "language_info": {
   "codemirror_mode": {
    "name": "ipython",
    "version": 3
   },
   "file_extension": ".py",
   "mimetype": "text/x-python",
   "name": "python",
   "nbconvert_exporter": "python",
   "pygments_lexer": "ipython3",
   "version": "3.10.6"
  }
 },
 "nbformat": 4,
 "nbformat_minor": 5
}
