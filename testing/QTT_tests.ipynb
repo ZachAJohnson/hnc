{
 "cells": [
  {
   "cell_type": "code",
   "execution_count": 25,
   "id": "11acc1c5-4941-4d80-b4b7-3fc34a95d1dc",
   "metadata": {
    "tags": []
   },
   "outputs": [
    {
     "data": {
      "text/html": [
       "\n",
       "<style>\n",
       ".output_png {\n",
       "    display: table-cell;\n",
       "    text-align: center;\n",
       "    vertical-align: middle;\n",
       "}\n",
       "\n",
       "</style>\n"
      ],
      "text/plain": [
       "<IPython.core.display.HTML object>"
      ]
     },
     "execution_count": 25,
     "metadata": {},
     "output_type": "execute_result"
    }
   ],
   "source": [
    "import numpy as np\n",
    "import matplotlib.pyplot as plt\n",
    "from pandas import read_csv\n",
    "\n",
    "from hnc.hnc.hnc import Integral_Equation_Solver as IET\n",
    "from hnc.hnc.constants import *\n",
    "from hnc.hnc.misc import n_from_rs, rs_from_n\n",
    "\n",
    "from pandas import read_csv\n",
    "\n",
    "prop_cycle = plt.rcParams['axes.prop_cycle']\n",
    "colors = prop_cycle.by_key()['color']\n",
    "                \n",
    "from IPython.core.display import HTML\n",
    "HTML(\"\"\"\n",
    "<style>\n",
    ".output_png {\n",
    "    display: table-cell;\n",
    "    text-align: center;\n",
    "    vertical-align: middle;\n",
    "}\n",
    "\n",
    "</style>\n",
    "\"\"\")\n",
    "\n",
    "# import "
   ]
  },
  {
   "cell_type": "code",
   "execution_count": 36,
   "id": "e2034cff-82e2-4817-a87f-469e487e0244",
   "metadata": {},
   "outputs": [
    {
     "data": {
      "text/plain": [
       "(512, (1, 1, 512))"
      ]
     },
     "execution_count": 36,
     "metadata": {},
     "output_type": "execute_result"
    }
   ],
   "source": [
    "iet = IET(1, [[1]], [[3/(4*π)]], [[1]], [1], dst_type=3)\n",
    "βu_r_matrix = iet.βu_r_matrix\n",
    "βu_k_matrix = iet.FT_r_2_k(βu_r_matrix)\n",
    "iet.N_bins, βu_r_matrix.shape"
   ]
  },
  {
   "cell_type": "code",
   "execution_count": 38,
   "id": "b62e952e-e43d-4c3d-843f-bc93fbf3c98b",
   "metadata": {},
   "outputs": [],
   "source": [
    "from scipy.fft import fft, ifft, fftshift, ifftshift, dct, dst\n",
    "\n",
    "βu_dct1 = dct(iet.βu_r_matrix, type=1)\n",
    "βu_r_matrix_ext = np.zeros(2*len(βu_r_matrix[0,0]))\n",
    "βu_r_matrix_ext[:iet.N_bins] = βu_r_matrix[0,0]"
   ]
  },
  {
   "cell_type": "code",
   "execution_count": null,
   "id": "b9261697-9032-4c54-9c7e-a15d6ac78d22",
   "metadata": {},
   "outputs": [],
   "source": []
  }
 ],
 "metadata": {
  "kernelspec": {
   "display_name": "Python 3 (ipykernel)",
   "language": "python",
   "name": "python3"
  },
  "language_info": {
   "codemirror_mode": {
    "name": "ipython",
    "version": 3
   },
   "file_extension": ".py",
   "mimetype": "text/x-python",
   "name": "python",
   "nbconvert_exporter": "python",
   "pygments_lexer": "ipython3",
   "version": "3.10.6"
  }
 },
 "nbformat": 4,
 "nbformat_minor": 5
}
