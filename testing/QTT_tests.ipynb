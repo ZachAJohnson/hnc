{
 "cells": [
  {
   "cell_type": "code",
   "execution_count": 1,
   "id": "11acc1c5-4941-4d80-b4b7-3fc34a95d1dc",
   "metadata": {
    "tags": []
   },
   "outputs": [
    {
     "data": {
      "text/html": [
       "\n",
       "<style>\n",
       ".output_png {\n",
       "    display: table-cell;\n",
       "    text-align: center;\n",
       "    vertical-align: middle;\n",
       "}\n",
       "\n",
       "</style>\n"
      ],
      "text/plain": [
       "<IPython.core.display.HTML object>"
      ]
     },
     "execution_count": 1,
     "metadata": {},
     "output_type": "execute_result"
    }
   ],
   "source": [
    "import numpy as np\n",
    "import matplotlib.pyplot as plt\n",
    "from pandas import read_csv\n",
    "\n",
    "from hnc.hnc.hnc import Integral_Equation_Solver as IET\n",
    "from hnc.hnc.constants import *\n",
    "from hnc.hnc.misc import n_from_rs, rs_from_n\n",
    "\n",
    "from pandas import read_csv\n",
    "from scipy.fft import fft, ifft, fftshift, ifftshift, dct, dst\n",
    "\n",
    "prop_cycle = plt.rcParams['axes.prop_cycle']\n",
    "colors = prop_cycle.by_key()['color']\n",
    "                \n",
    "from IPython.core.display import HTML\n",
    "HTML(\"\"\"\n",
    "<style>\n",
    ".output_png {\n",
    "    display: table-cell;\n",
    "    text-align: center;\n",
    "    vertical-align: middle;\n",
    "}\n",
    "\n",
    "</style>\n",
    "\"\"\")\n",
    "\n",
    "# import "
   ]
  },
  {
   "cell_type": "code",
   "execution_count": 2,
   "id": "e2034cff-82e2-4817-a87f-469e487e0244",
   "metadata": {},
   "outputs": [
    {
     "name": "stdout",
     "output_type": "stream",
     "text": [
      "0: Initial condition Total Error: 2.625e+00\n",
      "Exiting status 0, reverting to best index so far: 960\n",
      "Final iter:961, Total Error: 9.992e-07\n"
     ]
    }
   ],
   "source": [
    "Γ, κ = 100, 3\n",
    "N_bits = 10\n",
    "iet = IET(1, [[Γ]], [[3/(4*π)]], [[1]], [1], kappa = κ, dst_type=2, N_bins = 2**N_bits, R_max = 100)\n",
    "iet.HNC_solve(tol=1e-6, num_iterations=1e5, iters_to_wait=1e4)\n",
    "h_r_matrix = iet.h_r_matrix"
   ]
  },
  {
   "cell_type": "code",
   "execution_count": 3,
   "id": "940966da-be05-4a07-85d3-e6e703f18882",
   "metadata": {},
   "outputs": [],
   "source": [
    "def dst_type4(vec_r):\n",
    "    N = len(vec_r)\n",
    "    n_array = np.arange(N) \n",
    "    vec_r_ext = np.zeros(2*N)\n",
    "    vec_r_ext[:N] = vec_r*np.exp(-1j*π*n_array/2/N)\n",
    "    return -2*(fft(vec_r_ext)[:N]*np.exp(-1j*(n_array + 1/2)*π/2/N)).imag"
   ]
  },
  {
   "cell_type": "code",
   "execution_count": 4,
   "id": "8c680f96-29a7-4548-b102-bdc8cea947ad",
   "metadata": {},
   "outputs": [
    {
     "name": "stderr",
     "output_type": "stream",
     "text": [
      "/home/zach/anaconda3/envs/tts/lib/python3.6/site-packages/ipykernel_launcher.py:5: ComplexWarning: Casting complex values to real discards the imaginary part\n",
      "  \"\"\"\n"
     ]
    }
   ],
   "source": [
    "h_dst3 = dst(h_r_matrix[0,0], type=3)\n",
    "h_dst4 = dst(h_r_matrix[0,0], type=4)\n",
    "\n",
    "h_dst4_attempt = dst_type4(h_r_matrix[0,0])"
   ]
  },
  {
   "cell_type": "code",
   "execution_count": 5,
   "id": "332ab3dc-eff4-4819-b2c6-5e468e6386df",
   "metadata": {},
   "outputs": [
    {
     "data": {
      "text/plain": [
       "[<matplotlib.lines.Line2D at 0x7a881fd319e8>]"
      ]
     },
     "execution_count": 5,
     "metadata": {},
     "output_type": "execute_result"
    },
    {
     "data": {
      "image/png": "[encoded data removed]",
      "text/plain": [
       "<Figure size 432x288 with 1 Axes>"
      ]
     },
     "metadata": {
      "needs_background": "light"
     },
     "output_type": "display_data"
    }
   ],
   "source": [
    "fig, ax = plt.subplots()\n",
    "\n",
    "ax.plot(iet.k_array, h_dst3)\n",
    "ax.plot(iet.k_array, h_dst4)\n",
    "ax.plot(iet.k_array, h_dst4_attempt, '--')\n",
    "\n",
    "\n",
    "# ax.plot(iet.k_array, βu_dct4) \n",
    "# ax.plot(iet.k_array, βu_dct4_attempt) \n",
    "\n",
    "# ax.plot(iet.k_array, βu_dct2) \n",
    "# ax.plot(iet.k_array, βu_dct2_attempt) \n",
    "# ax.set_yscale('symlog')\n",
    "# ax.set_xscale('symlog')"
   ]
  },
  {
   "cell_type": "markdown",
   "id": "664fde64-b4a2-450b-aa31-1dfdef021904",
   "metadata": {},
   "source": [
    "### QTT Tests on Converged Sims"
   ]
  },
  {
   "cell_type": "code",
   "execution_count": 6,
   "id": "64c040d9-afdb-4d27-bd4d-172107230236",
   "metadata": {},
   "outputs": [],
   "source": [
    "import tt as ttpy\n",
    "\n",
    "from liquids.python.qtt_core.qtt_util import *"
   ]
  },
  {
   "cell_type": "code",
   "execution_count": 16,
   "id": "d5a722b7-aa21-429e-ba95-f83cc8bb9c8a",
   "metadata": {
    "scrolled": true,
    "tags": []
   },
   "outputs": [
    {
     "name": "stdout",
     "output_type": "stream",
     "text": [
      "0: Initial condition Total Error: 1.047e+00\n",
      "Exiting status 0, reverting to best index so far: 251\n",
      "Final iter:252, Total Error: 9.535e-07\n",
      "0: Initial condition Total Error: 8.860e-01\n",
      "1: Change in c_r: 8.860e-02, HNC Error: 1.695e-02, Total Error: 8.457e-01\n",
      "2: Change in c_r: 8.457e-02, HNC Error: 1.629e-02, Total Error: 8.078e-01\n",
      "3: Change in c_r: 8.078e-02, HNC Error: 1.699e-02, Total Error: 7.721e-01\n",
      "4: Change in c_r: 7.721e-02, HNC Error: 1.834e-02, Total Error: 7.386e-01\n",
      "5: Change in c_r: 7.386e-02, HNC Error: 2.002e-02, Total Error: 7.071e-01\n",
      "6: Change in c_r: 7.071e-02, HNC Error: 2.185e-02, Total Error: 6.774e-01\n",
      "7: Change in c_r: 6.774e-02, HNC Error: 2.371e-02, Total Error: 6.494e-01\n",
      "8: Change in c_r: 6.494e-02, HNC Error: 2.526e-02, Total Error: 6.230e-01\n",
      "9: Change in c_r: 6.230e-02, HNC Error: 2.661e-02, Total Error: 5.982e-01\n",
      "10: Change in c_r: 5.982e-02, HNC Error: 2.788e-02, Total Error: 5.747e-01\n",
      "11: Change in c_r: 5.747e-02, HNC Error: 2.906e-02, Total Error: 5.526e-01\n",
      "12: Change in c_r: 5.526e-02, HNC Error: 3.016e-02, Total Error: 5.316e-01\n",
      "13: Change in c_r: 5.316e-02, HNC Error: 3.114e-02, Total Error: 5.119e-01\n",
      "14: Change in c_r: 5.119e-02, HNC Error: 3.203e-02, Total Error: 4.932e-01\n",
      "15: Change in c_r: 4.932e-02, HNC Error: 3.281e-02, Total Error: 4.755e-01\n",
      "16: Change in c_r: 4.755e-02, HNC Error: 3.350e-02, Total Error: 4.588e-01\n",
      "17: Change in c_r: 4.588e-02, HNC Error: 3.408e-02, Total Error: 4.429e-01\n",
      "18: Change in c_r: 4.429e-02, HNC Error: 3.458e-02, Total Error: 4.278e-01\n",
      "19: Change in c_r: 4.278e-02, HNC Error: 3.499e-02, Total Error: 4.134e-01\n",
      "20: Change in c_r: 4.134e-02, HNC Error: 3.531e-02, Total Error: 3.996e-01\n",
      "21: Change in c_r: 3.996e-02, HNC Error: 3.556e-02, Total Error: 3.865e-01\n",
      "22: Change in c_r: 3.865e-02, HNC Error: 3.565e-02, Total Error: 3.739e-01\n",
      "23: Change in c_r: 3.739e-02, HNC Error: 3.564e-02, Total Error: 3.619e-01\n",
      "24: Change in c_r: 3.619e-02, HNC Error: 3.558e-02, Total Error: 3.502e-01\n",
      "25: Change in c_r: 3.502e-02, HNC Error: 3.547e-02, Total Error: 3.390e-01\n",
      "26: Change in c_r: 3.390e-02, HNC Error: 3.532e-02, Total Error: 3.282e-01\n",
      "27: Change in c_r: 3.282e-02, HNC Error: 3.514e-02, Total Error: 3.177e-01\n",
      "28: Change in c_r: 3.177e-02, HNC Error: 3.493e-02, Total Error: 3.076e-01\n",
      "29: Change in c_r: 3.076e-02, HNC Error: 3.469e-02, Total Error: 2.977e-01\n",
      "30: Change in c_r: 2.977e-02, HNC Error: 3.443e-02, Total Error: 2.881e-01\n",
      "31: Change in c_r: 2.881e-02, HNC Error: 3.415e-02, Total Error: 2.788e-01\n",
      "32: Change in c_r: 2.788e-02, HNC Error: 3.386e-02, Total Error: 2.697e-01\n",
      "33: Change in c_r: 2.697e-02, HNC Error: 3.356e-02, Total Error: 2.608e-01\n",
      "34: Change in c_r: 2.608e-02, HNC Error: 3.325e-02, Total Error: 2.521e-01\n",
      "35: Change in c_r: 2.521e-02, HNC Error: 3.293e-02, Total Error: 2.437e-01\n",
      "36: Change in c_r: 2.437e-02, HNC Error: 3.260e-02, Total Error: 2.355e-01\n",
      "37: Change in c_r: 2.355e-02, HNC Error: 3.227e-02, Total Error: 2.274e-01\n",
      "38: Change in c_r: 2.274e-02, HNC Error: 3.194e-02, Total Error: 2.196e-01\n",
      "39: Change in c_r: 2.196e-02, HNC Error: 3.161e-02, Total Error: 2.119e-01\n",
      "40: Change in c_r: 2.119e-02, HNC Error: 3.128e-02, Total Error: 2.045e-01\n",
      "41: Change in c_r: 2.045e-02, HNC Error: 3.095e-02, Total Error: 1.972e-01\n",
      "42: Change in c_r: 1.972e-02, HNC Error: 3.062e-02, Total Error: 1.901e-01\n",
      "43: Change in c_r: 1.901e-02, HNC Error: 3.030e-02, Total Error: 1.832e-01\n",
      "44: Change in c_r: 1.832e-02, HNC Error: 2.998e-02, Total Error: 1.765e-01\n",
      "45: Change in c_r: 1.765e-02, HNC Error: 2.967e-02, Total Error: 1.700e-01\n",
      "46: Change in c_r: 1.700e-02, HNC Error: 2.936e-02, Total Error: 1.636e-01\n",
      "47: Change in c_r: 1.636e-02, HNC Error: 2.906e-02, Total Error: 1.575e-01\n",
      "48: Change in c_r: 1.575e-02, HNC Error: 2.876e-02, Total Error: 1.515e-01\n",
      "49: Change in c_r: 1.515e-02, HNC Error: 2.848e-02, Total Error: 1.457e-01\n",
      "50: Change in c_r: 1.457e-02, HNC Error: 2.819e-02, Total Error: 1.401e-01\n",
      "51: Change in c_r: 1.401e-02, HNC Error: 2.792e-02, Total Error: 1.346e-01\n",
      "52: Change in c_r: 1.346e-02, HNC Error: 2.765e-02, Total Error: 1.293e-01\n",
      "53: Change in c_r: 1.293e-02, HNC Error: 2.740e-02, Total Error: 1.242e-01\n",
      "54: Change in c_r: 1.242e-02, HNC Error: 2.714e-02, Total Error: 1.193e-01\n",
      "55: Change in c_r: 1.193e-02, HNC Error: 2.690e-02, Total Error: 1.145e-01\n",
      "56: Change in c_r: 1.145e-02, HNC Error: 2.667e-02, Total Error: 1.099e-01\n",
      "57: Change in c_r: 1.099e-02, HNC Error: 2.644e-02, Total Error: 1.054e-01\n",
      "58: Change in c_r: 1.054e-02, HNC Error: 2.622e-02, Total Error: 1.011e-01\n",
      "59: Change in c_r: 1.011e-02, HNC Error: 2.600e-02, Total Error: 9.692e-02\n",
      "60: Change in c_r: 9.692e-03, HNC Error: 2.580e-02, Total Error: 9.291e-02\n",
      "61: Change in c_r: 9.291e-03, HNC Error: 2.560e-02, Total Error: 8.905e-02\n",
      "62: Change in c_r: 8.905e-03, HNC Error: 2.541e-02, Total Error: 8.533e-02\n",
      "63: Change in c_r: 8.533e-03, HNC Error: 2.522e-02, Total Error: 8.174e-02\n",
      "64: Change in c_r: 8.174e-03, HNC Error: 2.504e-02, Total Error: 7.829e-02\n",
      "65: Change in c_r: 7.829e-03, HNC Error: 2.487e-02, Total Error: 7.497e-02\n",
      "66: Change in c_r: 7.497e-03, HNC Error: 2.471e-02, Total Error: 7.178e-02\n",
      "67: Change in c_r: 7.178e-03, HNC Error: 2.455e-02, Total Error: 6.871e-02\n",
      "68: Change in c_r: 6.871e-03, HNC Error: 2.440e-02, Total Error: 6.576e-02\n",
      "69: Change in c_r: 6.576e-03, HNC Error: 2.425e-02, Total Error: 6.293e-02\n",
      "70: Change in c_r: 6.293e-03, HNC Error: 2.410e-02, Total Error: 6.021e-02\n",
      "71: Change in c_r: 6.021e-03, HNC Error: 2.394e-02, Total Error: 5.759e-02\n",
      "72: Change in c_r: 5.759e-03, HNC Error: 2.379e-02, Total Error: 5.509e-02\n",
      "73: Change in c_r: 5.509e-03, HNC Error: 2.365e-02, Total Error: 5.268e-02\n",
      "74: Change in c_r: 5.268e-03, HNC Error: 2.352e-02, Total Error: 5.037e-02\n",
      "75: Change in c_r: 5.037e-03, HNC Error: 2.339e-02, Total Error: 4.816e-02\n",
      "76: Change in c_r: 4.816e-03, HNC Error: 2.326e-02, Total Error: 4.604e-02\n",
      "77: Change in c_r: 4.604e-03, HNC Error: 2.314e-02, Total Error: 4.400e-02\n",
      "78: Change in c_r: 4.400e-03, HNC Error: 2.303e-02, Total Error: 4.206e-02\n",
      "79: Change in c_r: 4.206e-03, HNC Error: 2.292e-02, Total Error: 4.019e-02\n",
      "80: Change in c_r: 4.019e-03, HNC Error: 2.281e-02, Total Error: 3.840e-02\n",
      "81: Change in c_r: 3.840e-03, HNC Error: 2.271e-02, Total Error: 3.669e-02\n",
      "82: Change in c_r: 3.669e-03, HNC Error: 2.262e-02, Total Error: 3.505e-02\n",
      "83: Change in c_r: 3.505e-03, HNC Error: 2.253e-02, Total Error: 3.348e-02\n",
      "84: Change in c_r: 3.348e-03, HNC Error: 2.244e-02, Total Error: 3.198e-02\n",
      "85: Change in c_r: 3.198e-03, HNC Error: 2.236e-02, Total Error: 3.054e-02\n",
      "86: Change in c_r: 3.054e-03, HNC Error: 2.228e-02, Total Error: 2.916e-02\n",
      "87: Change in c_r: 2.916e-03, HNC Error: 2.220e-02, Total Error: 2.785e-02\n",
      "88: Change in c_r: 2.785e-03, HNC Error: 2.213e-02, Total Error: 2.659e-02\n",
      "89: Change in c_r: 2.659e-03, HNC Error: 2.206e-02, Total Error: 2.539e-02\n",
      "90: Change in c_r: 2.539e-03, HNC Error: 2.199e-02, Total Error: 2.424e-02\n",
      "91: Change in c_r: 2.424e-03, HNC Error: 2.193e-02, Total Error: 2.314e-02\n",
      "92: Change in c_r: 2.314e-03, HNC Error: 2.187e-02, Total Error: 2.208e-02\n",
      "93: Change in c_r: 2.208e-03, HNC Error: 2.181e-02, Total Error: 2.108e-02\n",
      "94: Change in c_r: 2.108e-03, HNC Error: 2.175e-02, Total Error: 2.012e-02\n",
      "95: Change in c_r: 2.012e-03, HNC Error: 2.170e-02, Total Error: 1.920e-02\n",
      "96: Change in c_r: 1.920e-03, HNC Error: 2.165e-02, Total Error: 1.832e-02\n",
      "97: Change in c_r: 1.832e-03, HNC Error: 2.160e-02, Total Error: 1.749e-02\n",
      "98: Change in c_r: 1.749e-03, HNC Error: 2.156e-02, Total Error: 1.669e-02\n",
      "99: Change in c_r: 1.669e-03, HNC Error: 2.151e-02, Total Error: 1.592e-02\n",
      "100: Change in c_r: 1.592e-03, HNC Error: 2.147e-02, Total Error: 1.519e-02\n",
      "101: Change in c_r: 1.519e-03, HNC Error: 2.143e-02, Total Error: 1.449e-02\n",
      "102: Change in c_r: 1.449e-03, HNC Error: 2.139e-02, Total Error: 1.383e-02\n",
      "103: Change in c_r: 1.383e-03, HNC Error: 2.136e-02, Total Error: 1.319e-02\n",
      "104: Change in c_r: 1.319e-03, HNC Error: 2.132e-02, Total Error: 1.259e-02\n",
      "105: Change in c_r: 1.259e-03, HNC Error: 2.129e-02, Total Error: 1.201e-02\n",
      "106: Change in c_r: 1.201e-03, HNC Error: 2.126e-02, Total Error: 1.145e-02\n",
      "107: Change in c_r: 1.145e-03, HNC Error: 2.123e-02, Total Error: 1.093e-02\n",
      "108: Change in c_r: 1.093e-03, HNC Error: 2.120e-02, Total Error: 1.042e-02\n",
      "109: Change in c_r: 1.042e-03, HNC Error: 2.117e-02, Total Error: 9.940e-03\n",
      "110: Change in c_r: 9.940e-04, HNC Error: 2.114e-02, Total Error: 9.481e-03\n",
      "111: Change in c_r: 9.481e-04, HNC Error: 2.112e-02, Total Error: 9.043e-03\n",
      "112: Change in c_r: 9.043e-04, HNC Error: 2.109e-02, Total Error: 8.625e-03\n",
      "113: Change in c_r: 8.625e-04, HNC Error: 2.107e-02, Total Error: 8.225e-03\n",
      "114: Change in c_r: 8.225e-04, HNC Error: 2.105e-02, Total Error: 7.845e-03\n",
      "115: Change in c_r: 7.845e-04, HNC Error: 2.103e-02, Total Error: 7.481e-03\n",
      "116: Change in c_r: 7.481e-04, HNC Error: 2.101e-02, Total Error: 7.135e-03\n",
      "117: Change in c_r: 7.135e-04, HNC Error: 2.099e-02, Total Error: 6.804e-03\n",
      "118: Change in c_r: 6.804e-04, HNC Error: 2.097e-02, Total Error: 6.488e-03\n",
      "119: Change in c_r: 6.488e-04, HNC Error: 2.095e-02, Total Error: 6.187e-03\n",
      "120: Change in c_r: 6.187e-04, HNC Error: 2.094e-02, Total Error: 5.900e-03\n",
      "121: Change in c_r: 5.900e-04, HNC Error: 2.092e-02, Total Error: 5.626e-03\n",
      "122: Change in c_r: 5.626e-04, HNC Error: 2.091e-02, Total Error: 5.365e-03\n",
      "123: Change in c_r: 5.365e-04, HNC Error: 2.089e-02, Total Error: 5.115e-03\n",
      "124: Change in c_r: 5.115e-04, HNC Error: 2.088e-02, Total Error: 4.878e-03\n",
      "125: Change in c_r: 4.878e-04, HNC Error: 2.086e-02, Total Error: 4.651e-03\n",
      "126: Change in c_r: 4.651e-04, HNC Error: 2.085e-02, Total Error: 4.434e-03\n",
      "127: Change in c_r: 4.434e-04, HNC Error: 2.084e-02, Total Error: 4.228e-03\n",
      "128: Change in c_r: 4.228e-04, HNC Error: 2.083e-02, Total Error: 4.031e-03\n",
      "129: Change in c_r: 4.031e-04, HNC Error: 2.082e-02, Total Error: 3.844e-03\n",
      "130: Change in c_r: 3.844e-04, HNC Error: 2.081e-02, Total Error: 3.665e-03\n",
      "131: Change in c_r: 3.665e-04, HNC Error: 2.080e-02, Total Error: 3.494e-03\n",
      "132: Change in c_r: 3.494e-04, HNC Error: 2.079e-02, Total Error: 3.331e-03\n",
      "133: Change in c_r: 3.331e-04, HNC Error: 2.078e-02, Total Error: 3.176e-03\n",
      "134: Change in c_r: 3.176e-04, HNC Error: 2.077e-02, Total Error: 3.028e-03\n",
      "135: Change in c_r: 3.028e-04, HNC Error: 2.076e-02, Total Error: 2.887e-03\n",
      "136: Change in c_r: 2.887e-04, HNC Error: 2.075e-02, Total Error: 2.752e-03\n",
      "137: Change in c_r: 2.752e-04, HNC Error: 2.074e-02, Total Error: 2.624e-03\n",
      "138: Change in c_r: 2.624e-04, HNC Error: 2.074e-02, Total Error: 2.502e-03\n",
      "139: Change in c_r: 2.502e-04, HNC Error: 2.073e-02, Total Error: 2.385e-03\n",
      "140: Change in c_r: 2.385e-04, HNC Error: 2.072e-02, Total Error: 2.274e-03\n",
      "141: Change in c_r: 2.274e-04, HNC Error: 2.072e-02, Total Error: 2.168e-03\n",
      "142: Change in c_r: 2.168e-04, HNC Error: 2.071e-02, Total Error: 2.066e-03\n",
      "143: Change in c_r: 2.066e-04, HNC Error: 2.070e-02, Total Error: 1.970e-03\n",
      "144: Change in c_r: 1.970e-04, HNC Error: 2.070e-02, Total Error: 1.878e-03\n",
      "145: Change in c_r: 1.878e-04, HNC Error: 2.069e-02, Total Error: 1.790e-03\n",
      "146: Change in c_r: 1.790e-04, HNC Error: 2.069e-02, Total Error: 1.707e-03\n",
      "147: Change in c_r: 1.707e-04, HNC Error: 2.068e-02, Total Error: 1.627e-03\n",
      "148: Change in c_r: 1.627e-04, HNC Error: 2.068e-02, Total Error: 1.551e-03\n",
      "149: Change in c_r: 1.551e-04, HNC Error: 2.067e-02, Total Error: 1.479e-03\n",
      "150: Change in c_r: 1.479e-04, HNC Error: 2.067e-02, Total Error: 1.410e-03\n",
      "151: Change in c_r: 1.410e-04, HNC Error: 2.067e-02, Total Error: 1.344e-03\n",
      "152: Change in c_r: 1.344e-04, HNC Error: 2.066e-02, Total Error: 1.281e-03\n",
      "153: Change in c_r: 1.281e-04, HNC Error: 2.066e-02, Total Error: 1.221e-03\n",
      "154: Change in c_r: 1.221e-04, HNC Error: 2.066e-02, Total Error: 1.164e-03\n",
      "155: Change in c_r: 1.164e-04, HNC Error: 2.065e-02, Total Error: 1.110e-03\n",
      "156: Change in c_r: 1.110e-04, HNC Error: 2.065e-02, Total Error: 1.058e-03\n",
      "157: Change in c_r: 1.058e-04, HNC Error: 2.065e-02, Total Error: 1.008e-03\n",
      "158: Change in c_r: 1.008e-04, HNC Error: 2.064e-02, Total Error: 9.611e-04\n",
      "159: Change in c_r: 9.611e-05, HNC Error: 2.064e-02, Total Error: 9.162e-04\n",
      "160: Change in c_r: 9.162e-05, HNC Error: 2.064e-02, Total Error: 8.734e-04\n",
      "161: Change in c_r: 8.734e-05, HNC Error: 2.064e-02, Total Error: 8.325e-04\n",
      "162: Change in c_r: 8.325e-05, HNC Error: 2.063e-02, Total Error: 7.936e-04\n",
      "163: Change in c_r: 7.936e-05, HNC Error: 2.063e-02, Total Error: 7.565e-04\n",
      "164: Change in c_r: 7.565e-05, HNC Error: 2.063e-02, Total Error: 7.211e-04\n",
      "165: Change in c_r: 7.211e-05, HNC Error: 2.063e-02, Total Error: 6.874e-04\n",
      "166: Change in c_r: 6.874e-05, HNC Error: 2.062e-02, Total Error: 6.553e-04\n",
      "167: Change in c_r: 6.553e-05, HNC Error: 2.062e-02, Total Error: 6.246e-04\n",
      "168: Change in c_r: 6.246e-05, HNC Error: 2.062e-02, Total Error: 5.954e-04\n",
      "169: Change in c_r: 5.954e-05, HNC Error: 2.062e-02, Total Error: 5.676e-04\n",
      "170: Change in c_r: 5.676e-05, HNC Error: 2.062e-02, Total Error: 5.410e-04\n",
      "171: Change in c_r: 5.410e-05, HNC Error: 2.062e-02, Total Error: 5.157e-04\n",
      "172: Change in c_r: 5.157e-05, HNC Error: 2.062e-02, Total Error: 4.916e-04\n",
      "173: Change in c_r: 4.916e-05, HNC Error: 2.061e-02, Total Error: 4.686e-04\n",
      "174: Change in c_r: 4.686e-05, HNC Error: 2.061e-02, Total Error: 4.467e-04\n",
      "175: Change in c_r: 4.467e-05, HNC Error: 2.061e-02, Total Error: 4.258e-04\n",
      "176: Change in c_r: 4.258e-05, HNC Error: 2.061e-02, Total Error: 4.058e-04\n",
      "177: Change in c_r: 4.058e-05, HNC Error: 2.061e-02, Total Error: 3.868e-04\n",
      "178: Change in c_r: 3.868e-05, HNC Error: 2.061e-02, Total Error: 3.687e-04\n",
      "179: Change in c_r: 3.687e-05, HNC Error: 2.061e-02, Total Error: 3.515e-04\n",
      "180: Change in c_r: 3.515e-05, HNC Error: 2.061e-02, Total Error: 3.350e-04\n",
      "181: Change in c_r: 3.350e-05, HNC Error: 2.060e-02, Total Error: 3.194e-04\n",
      "182: Change in c_r: 3.194e-05, HNC Error: 2.060e-02, Total Error: 3.044e-04\n",
      "183: Change in c_r: 3.044e-05, HNC Error: 2.060e-02, Total Error: 2.902e-04\n",
      "184: Change in c_r: 2.902e-05, HNC Error: 2.060e-02, Total Error: 2.766e-04\n",
      "185: Change in c_r: 2.766e-05, HNC Error: 2.060e-02, Total Error: 2.637e-04\n",
      "186: Change in c_r: 2.637e-05, HNC Error: 2.060e-02, Total Error: 2.513e-04\n",
      "187: Change in c_r: 2.513e-05, HNC Error: 2.060e-02, Total Error: 2.396e-04\n",
      "188: Change in c_r: 2.396e-05, HNC Error: 2.060e-02, Total Error: 2.283e-04\n",
      "189: Change in c_r: 2.283e-05, HNC Error: 2.060e-02, Total Error: 2.177e-04\n",
      "190: Change in c_r: 2.177e-05, HNC Error: 2.060e-02, Total Error: 2.075e-04\n",
      "191: Change in c_r: 2.075e-05, HNC Error: 2.060e-02, Total Error: 1.978e-04\n",
      "192: Change in c_r: 1.978e-05, HNC Error: 2.060e-02, Total Error: 1.885e-04\n",
      "193: Change in c_r: 1.885e-05, HNC Error: 2.060e-02, Total Error: 1.797e-04\n",
      "194: Change in c_r: 1.797e-05, HNC Error: 2.060e-02, Total Error: 1.713e-04\n",
      "195: Change in c_r: 1.713e-05, HNC Error: 2.060e-02, Total Error: 1.633e-04\n",
      "196: Change in c_r: 1.633e-05, HNC Error: 2.059e-02, Total Error: 1.556e-04\n",
      "197: Change in c_r: 1.556e-05, HNC Error: 2.059e-02, Total Error: 1.483e-04\n",
      "198: Change in c_r: 1.483e-05, HNC Error: 2.059e-02, Total Error: 1.414e-04\n",
      "199: Change in c_r: 1.414e-05, HNC Error: 2.059e-02, Total Error: 1.348e-04\n",
      "200: Change in c_r: 1.348e-05, HNC Error: 2.059e-02, Total Error: 1.285e-04\n",
      "201: Change in c_r: 1.285e-05, HNC Error: 2.059e-02, Total Error: 1.224e-04\n",
      "202: Change in c_r: 1.224e-05, HNC Error: 2.059e-02, Total Error: 1.167e-04\n",
      "203: Change in c_r: 1.167e-05, HNC Error: 2.059e-02, Total Error: 1.113e-04\n",
      "204: Change in c_r: 1.113e-05, HNC Error: 2.059e-02, Total Error: 1.060e-04\n",
      "205: Change in c_r: 1.060e-05, HNC Error: 2.059e-02, Total Error: 1.011e-04\n",
      "206: Change in c_r: 1.011e-05, HNC Error: 2.059e-02, Total Error: 9.635e-05\n",
      "207: Change in c_r: 9.635e-06, HNC Error: 2.059e-02, Total Error: 9.184e-05\n",
      "208: Change in c_r: 9.184e-06, HNC Error: 2.059e-02, Total Error: 8.754e-05\n",
      "209: Change in c_r: 8.754e-06, HNC Error: 2.059e-02, Total Error: 8.344e-05\n",
      "210: Change in c_r: 8.344e-06, HNC Error: 2.059e-02, Total Error: 7.954e-05\n",
      "211: Change in c_r: 7.954e-06, HNC Error: 2.059e-02, Total Error: 7.581e-05\n",
      "212: Change in c_r: 7.581e-06, HNC Error: 2.059e-02, Total Error: 7.226e-05\n",
      "213: Change in c_r: 7.226e-06, HNC Error: 2.059e-02, Total Error: 6.888e-05\n",
      "214: Change in c_r: 6.888e-06, HNC Error: 2.059e-02, Total Error: 6.566e-05\n",
      "215: Change in c_r: 6.566e-06, HNC Error: 2.059e-02, Total Error: 6.258e-05\n",
      "216: Change in c_r: 6.258e-06, HNC Error: 2.059e-02, Total Error: 5.965e-05\n",
      "217: Change in c_r: 5.965e-06, HNC Error: 2.059e-02, Total Error: 5.686e-05\n",
      "218: Change in c_r: 5.686e-06, HNC Error: 2.059e-02, Total Error: 5.420e-05\n",
      "219: Change in c_r: 5.420e-06, HNC Error: 2.059e-02, Total Error: 5.166e-05\n",
      "220: Change in c_r: 5.166e-06, HNC Error: 2.059e-02, Total Error: 4.924e-05\n",
      "221: Change in c_r: 4.924e-06, HNC Error: 2.059e-02, Total Error: 4.694e-05\n",
      "222: Change in c_r: 4.694e-06, HNC Error: 2.059e-02, Total Error: 4.474e-05\n",
      "223: Change in c_r: 4.474e-06, HNC Error: 2.059e-02, Total Error: 4.265e-05\n",
      "224: Change in c_r: 4.265e-06, HNC Error: 2.059e-02, Total Error: 4.065e-05\n",
      "225: Change in c_r: 4.065e-06, HNC Error: 2.059e-02, Total Error: 3.875e-05\n",
      "226: Change in c_r: 3.875e-06, HNC Error: 2.059e-02, Total Error: 3.693e-05\n",
      "227: Change in c_r: 3.693e-06, HNC Error: 2.059e-02, Total Error: 3.520e-05\n",
      "228: Change in c_r: 3.520e-06, HNC Error: 2.059e-02, Total Error: 3.356e-05\n",
      "229: Change in c_r: 3.356e-06, HNC Error: 2.059e-02, Total Error: 3.198e-05\n",
      "230: Change in c_r: 3.198e-06, HNC Error: 2.059e-02, Total Error: 3.049e-05\n",
      "231: Change in c_r: 3.049e-06, HNC Error: 2.059e-02, Total Error: 2.906e-05\n",
      "232: Change in c_r: 2.906e-06, HNC Error: 2.059e-02, Total Error: 2.770e-05\n",
      "233: Change in c_r: 2.770e-06, HNC Error: 2.059e-02, Total Error: 2.640e-05\n",
      "234: Change in c_r: 2.640e-06, HNC Error: 2.059e-02, Total Error: 2.517e-05\n",
      "235: Change in c_r: 2.517e-06, HNC Error: 2.059e-02, Total Error: 2.399e-05\n",
      "236: Change in c_r: 2.399e-06, HNC Error: 2.059e-02, Total Error: 2.287e-05\n",
      "237: Change in c_r: 2.287e-06, HNC Error: 2.059e-02, Total Error: 2.179e-05\n",
      "238: Change in c_r: 2.179e-06, HNC Error: 2.059e-02, Total Error: 2.077e-05\n",
      "239: Change in c_r: 2.077e-06, HNC Error: 2.059e-02, Total Error: 1.980e-05\n",
      "240: Change in c_r: 1.980e-06, HNC Error: 2.059e-02, Total Error: 1.887e-05\n",
      "241: Change in c_r: 1.887e-06, HNC Error: 2.059e-02, Total Error: 1.799e-05\n",
      "242: Change in c_r: 1.799e-06, HNC Error: 2.059e-02, Total Error: 1.715e-05\n",
      "243: Change in c_r: 1.715e-06, HNC Error: 2.059e-02, Total Error: 1.635e-05\n",
      "244: Change in c_r: 1.635e-06, HNC Error: 2.059e-02, Total Error: 1.558e-05\n",
      "245: Change in c_r: 1.558e-06, HNC Error: 2.059e-02, Total Error: 1.485e-05\n",
      "246: Change in c_r: 1.485e-06, HNC Error: 2.059e-02, Total Error: 1.416e-05\n",
      "247: Change in c_r: 1.416e-06, HNC Error: 2.059e-02, Total Error: 1.349e-05\n",
      "248: Change in c_r: 1.349e-06, HNC Error: 2.059e-02, Total Error: 1.286e-05\n",
      "249: Change in c_r: 1.286e-06, HNC Error: 2.059e-02, Total Error: 1.226e-05\n",
      "250: Change in c_r: 1.226e-06, HNC Error: 2.059e-02, Total Error: 1.169e-05\n",
      "251: Change in c_r: 1.169e-06, HNC Error: 2.059e-02, Total Error: 1.114e-05\n",
      "252: Change in c_r: 1.114e-06, HNC Error: 2.059e-02, Total Error: 1.062e-05\n",
      "253: Change in c_r: 1.062e-06, HNC Error: 2.059e-02, Total Error: 1.012e-05\n",
      "254: Change in c_r: 1.012e-06, HNC Error: 2.059e-02, Total Error: 9.646e-06\n",
      "255: Change in c_r: 9.646e-07, HNC Error: 2.059e-02, Total Error: 9.194e-06\n",
      "256: Change in c_r: 9.194e-07, HNC Error: 2.059e-02, Total Error: 8.764e-06\n",
      "257: Change in c_r: 8.764e-07, HNC Error: 2.059e-02, Total Error: 8.353e-06\n",
      "258: Change in c_r: 8.353e-07, HNC Error: 2.059e-02, Total Error: 7.962e-06\n",
      "259: Change in c_r: 7.962e-07, HNC Error: 2.059e-02, Total Error: 7.590e-06\n",
      "260: Change in c_r: 7.590e-07, HNC Error: 2.059e-02, Total Error: 7.234e-06\n",
      "261: Change in c_r: 7.234e-07, HNC Error: 2.059e-02, Total Error: 6.896e-06\n",
      "262: Change in c_r: 6.896e-07, HNC Error: 2.059e-02, Total Error: 6.573e-06\n",
      "263: Change in c_r: 6.573e-07, HNC Error: 2.059e-02, Total Error: 6.265e-06\n",
      "264: Change in c_r: 6.265e-07, HNC Error: 2.059e-02, Total Error: 5.972e-06\n",
      "265: Change in c_r: 5.972e-07, HNC Error: 2.059e-02, Total Error: 5.692e-06\n",
      "266: Change in c_r: 5.692e-07, HNC Error: 2.059e-02, Total Error: 5.426e-06\n",
      "267: Change in c_r: 5.426e-07, HNC Error: 2.059e-02, Total Error: 5.172e-06\n",
      "268: Change in c_r: 5.172e-07, HNC Error: 2.059e-02, Total Error: 4.929e-06\n",
      "269: Change in c_r: 4.929e-07, HNC Error: 2.059e-02, Total Error: 4.699e-06\n",
      "270: Change in c_r: 4.699e-07, HNC Error: 2.059e-02, Total Error: 4.479e-06\n",
      "271: Change in c_r: 4.479e-07, HNC Error: 2.059e-02, Total Error: 4.269e-06\n",
      "272: Change in c_r: 4.269e-07, HNC Error: 2.059e-02, Total Error: 4.069e-06\n",
      "273: Change in c_r: 4.069e-07, HNC Error: 2.059e-02, Total Error: 3.879e-06\n",
      "274: Change in c_r: 3.879e-07, HNC Error: 2.059e-02, Total Error: 3.697e-06\n",
      "275: Change in c_r: 3.697e-07, HNC Error: 2.059e-02, Total Error: 3.524e-06\n",
      "276: Change in c_r: 3.524e-07, HNC Error: 2.059e-02, Total Error: 3.359e-06\n",
      "277: Change in c_r: 3.359e-07, HNC Error: 2.059e-02, Total Error: 3.202e-06\n",
      "278: Change in c_r: 3.202e-07, HNC Error: 2.059e-02, Total Error: 3.052e-06\n",
      "279: Change in c_r: 3.052e-07, HNC Error: 2.059e-02, Total Error: 2.909e-06\n",
      "280: Change in c_r: 2.909e-07, HNC Error: 2.059e-02, Total Error: 2.773e-06\n",
      "281: Change in c_r: 2.773e-07, HNC Error: 2.059e-02, Total Error: 2.643e-06\n",
      "282: Change in c_r: 2.643e-07, HNC Error: 2.059e-02, Total Error: 2.519e-06\n",
      "283: Change in c_r: 2.519e-07, HNC Error: 2.059e-02, Total Error: 2.401e-06\n",
      "284: Change in c_r: 2.401e-07, HNC Error: 2.059e-02, Total Error: 2.289e-06\n",
      "285: Change in c_r: 2.289e-07, HNC Error: 2.059e-02, Total Error: 2.182e-06\n",
      "286: Change in c_r: 2.182e-07, HNC Error: 2.059e-02, Total Error: 2.079e-06\n",
      "287: Change in c_r: 2.079e-07, HNC Error: 2.059e-02, Total Error: 1.982e-06\n",
      "288: Change in c_r: 1.982e-07, HNC Error: 2.059e-02, Total Error: 1.889e-06\n",
      "289: Change in c_r: 1.889e-07, HNC Error: 2.059e-02, Total Error: 1.801e-06\n",
      "290: Change in c_r: 1.801e-07, HNC Error: 2.059e-02, Total Error: 1.717e-06\n",
      "291: Change in c_r: 1.717e-07, HNC Error: 2.059e-02, Total Error: 1.636e-06\n",
      "292: Change in c_r: 1.636e-07, HNC Error: 2.059e-02, Total Error: 1.560e-06\n",
      "293: Change in c_r: 1.560e-07, HNC Error: 2.059e-02, Total Error: 1.487e-06\n",
      "294: Change in c_r: 1.487e-07, HNC Error: 2.059e-02, Total Error: 1.417e-06\n",
      "295: Change in c_r: 1.417e-07, HNC Error: 2.059e-02, Total Error: 1.351e-06\n",
      "296: Change in c_r: 1.351e-07, HNC Error: 2.059e-02, Total Error: 1.287e-06\n",
      "297: Change in c_r: 1.287e-07, HNC Error: 2.059e-02, Total Error: 1.227e-06\n",
      "298: Change in c_r: 1.227e-07, HNC Error: 2.059e-02, Total Error: 1.170e-06\n",
      "299: Change in c_r: 1.170e-07, HNC Error: 2.059e-02, Total Error: 1.115e-06\n",
      "300: Change in c_r: 1.115e-07, HNC Error: 2.059e-02, Total Error: 1.063e-06\n",
      "301: Change in c_r: 1.063e-07, HNC Error: 2.059e-02, Total Error: 1.013e-06\n",
      "302: Change in c_r: 1.013e-07, HNC Error: 2.059e-02, Total Error: 9.655e-07\n",
      "Exiting status 0, reverting to best index so far: 302\n",
      "Final iter:303, Total Error: 9.655e-07\n"
     ]
    },
    {
     "data": {
      "text/plain": [
       "0"
      ]
     },
     "execution_count": 16,
     "metadata": {},
     "output_type": "execute_result"
    }
   ],
   "source": [
    "Γ, κ = 10, 3\n",
    "N_bits = 10\n",
    "iet = IET(1, [[Γ]], [[3/(4*π)]], [[1]], [1], kappa = κ, dst_type=2, N_bins = 2**N_bits, R_max = 100)\n",
    "iet_PY = IET(1, [[Γ]], [[3/(4*π)]], [[1]], [1], kappa = κ, dst_type=2, N_bins = 2**N_bits, R_max = 100, closure='py')\n",
    "iet.HNC_solve(tol=1e-6, num_iterations=1e5, iters_to_wait=1e4)\n",
    "iet_PY.HNC_solve(verbose=True, tol=1e-6, num_iterations=1e5,  iters_to_wait=1e4)\n"
   ]
  },
  {
   "cell_type": "code",
   "execution_count": 17,
   "id": "03b147b6-66b2-4627-b179-ccf4bc7ecef3",
   "metadata": {},
   "outputs": [],
   "source": [
    "βu_r_array = iet.βu_k_matrix[0,0]\n",
    "βu_r_bt = tensor_to_binarytensor(βu_r_array)\n",
    "βu_r_qtt = ttpy.vector(βu_r_bt, eps=1e-4)\n",
    "\n",
    "h_r_array = iet.h_k_matrix[0,0]\n",
    "h_r_bt = tensor_to_binarytensor(h_r_array)\n",
    "h_r_qtt = ttpy.vector(h_r_bt, eps=1e-4)\n",
    "\n",
    "c_r_array = iet.c_k_matrix[0,0]\n",
    "c_r_bt = tensor_to_binarytensor(c_r_array)\n",
    "c_r_qtt = ttpy.vector(c_r_bt, eps=1e-4)\n",
    "\n",
    "c_r_array = iet.γs_r_matrix[0,0]\n",
    "c_r_bt = tensor_to_binarytensor(c_r_array)\n",
    "c_r_qtt = ttpy.vector(c_r_bt, eps=1e-4)"
   ]
  },
  {
   "cell_type": "code",
   "execution_count": 18,
   "id": "829847b1-21fa-45b7-baff-dbabb6b38d30",
   "metadata": {},
   "outputs": [
    {
     "data": {
      "text/plain": [
       "1024"
      ]
     },
     "execution_count": 18,
     "metadata": {},
     "output_type": "execute_result"
    }
   ],
   "source": [
    "2**N_bits"
   ]
  },
  {
   "cell_type": "code",
   "execution_count": 19,
   "id": "83be0fbe-6141-4090-971f-73cf4aa6d718",
   "metadata": {},
   "outputs": [
    {
     "data": {
      "text/plain": [
       "5.626373626373627"
      ]
     },
     "execution_count": 19,
     "metadata": {},
     "output_type": "execute_result"
    }
   ],
   "source": [
    "get_tt_compression(βu_r_qtt)"
   ]
  },
  {
   "cell_type": "code",
   "execution_count": 20,
   "id": "c7a7d132-ac28-4c06-afa0-4744e86bbcde",
   "metadata": {},
   "outputs": [
    {
     "data": {
      "image/png": "[encoded data removed]",
      "text/plain": [
       "<Figure size 720x576 with 1 Axes>"
      ]
     },
     "metadata": {
      "needs_background": "light"
     },
     "output_type": "display_data"
    },
    {
     "data": {
      "image/png": "[encoded data removed]",
      "text/plain": [
       "<Figure size 720x576 with 1 Axes>"
      ]
     },
     "metadata": {
      "needs_background": "light"
     },
     "output_type": "display_data"
    },
    {
     "data": {
      "text/plain": [
       "(<Figure size 720x576 with 1 Axes>,\n",
       " <AxesSubplot:xlabel='$r/r_s$', ylabel='$g(r/r_s)$'>)"
      ]
     },
     "execution_count": 20,
     "metadata": {},
     "output_type": "execute_result"
    }
   ],
   "source": [
    "iet.plot_g_all_species()\n",
    "iet_PY.plot_g_all_species()"
   ]
  },
  {
   "cell_type": "code",
   "execution_count": 21,
   "id": "cd6286b9-fcad-4ab6-87ff-c0571da2e39f",
   "metadata": {},
   "outputs": [
    {
     "name": "stdout",
     "output_type": "stream",
     "text": [
      "╒═════════════════════════════╤═══════════════════════════════╤═════════════════════════╤═══════════════════════════════╕\n",
      "│                             │                               │                         │                               │\n",
      "├─────────────────────────────┼───────────────────────────────┼─────────────────────────┼───────────────────────────────┤\n",
      "│                             │ Grid                          │ TT                      │ QTT                           │\n",
      "├─────────────────────────────┼───────────────────────────────┼─────────────────────────┼───────────────────────────────┤\n",
      "│ Error (|F1-F2|/|F1|)        │ 0                             │ nan                     │ 2.665e-05                     │\n",
      "├─────────────────────────────┼───────────────────────────────┼─────────────────────────┼───────────────────────────────┤\n",
      "│ Memory (of Square)          │ 0.0082 MB (0.0082 MB)         │ nan MB (nan MB)         │ 0.0015 MB (0.0179 MB)         │\n",
      "├─────────────────────────────┼───────────────────────────────┼─────────────────────────┼───────────────────────────────┤\n",
      "│ Compression (of Square)     │ 1                             │ nan (nan)               │ 5.626 (0.458)                 │\n",
      "├─────────────────────────────┼───────────────────────────────┼─────────────────────────┼───────────────────────────────┤\n",
      "│ Creation time (Square time) │ 0.000e+00 [s] (4.530e-06 [s]) │ 0.000e+00 [s] (nan [s]) │ 0.000e+00 [s] (1.478e-04 [s]) │\n",
      "╘═════════════════════════════╧═══════════════════════════════╧═════════════════════════╧═══════════════════════════════╛\n",
      "╒═════════════════════════════╤═══════════════════════════════╤═════════════════════════╤═══════════════════════════════╕\n",
      "│                             │                               │                         │                               │\n",
      "├─────────────────────────────┼───────────────────────────────┼─────────────────────────┼───────────────────────────────┤\n",
      "│                             │ Grid                          │ TT                      │ QTT                           │\n",
      "├─────────────────────────────┼───────────────────────────────┼─────────────────────────┼───────────────────────────────┤\n",
      "│ Error (|F1-F2|/|F1|)        │ 0                             │ nan                     │ 3.356e-05                     │\n",
      "├─────────────────────────────┼───────────────────────────────┼─────────────────────────┼───────────────────────────────┤\n",
      "│ Memory (of Square)          │ 0.0082 MB (0.0082 MB)         │ nan MB (nan MB)         │ 0.0012 MB (0.0126 MB)         │\n",
      "├─────────────────────────────┼───────────────────────────────┼─────────────────────────┼───────────────────────────────┤\n",
      "│ Compression (of Square)     │ 1                             │ nan (nan)               │ 6.827 (0.651)                 │\n",
      "├─────────────────────────────┼───────────────────────────────┼─────────────────────────┼───────────────────────────────┤\n",
      "│ Creation time (Square time) │ 0.000e+00 [s] (5.245e-06 [s]) │ 0.000e+00 [s] (nan [s]) │ 0.000e+00 [s] (7.939e-05 [s]) │\n",
      "╘═════════════════════════════╧═══════════════════════════════╧═════════════════════════╧═══════════════════════════════╛\n",
      "╒═════════════════════════════╤═══════════════════════════════╤═════════════════════════╤═══════════════════════════════╕\n",
      "│                             │                               │                         │                               │\n",
      "├─────────────────────────────┼───────────────────────────────┼─────────────────────────┼───────────────────────────────┤\n",
      "│                             │ Grid                          │ TT                      │ QTT                           │\n",
      "├─────────────────────────────┼───────────────────────────────┼─────────────────────────┼───────────────────────────────┤\n",
      "│ Error (|F1-F2|/|F1|)        │ 0                             │ nan                     │ 1.262e-05                     │\n",
      "├─────────────────────────────┼───────────────────────────────┼─────────────────────────┼───────────────────────────────┤\n",
      "│ Memory (of Square)          │ 0.0082 MB (0.0082 MB)         │ nan MB (nan MB)         │ 0.0005 MB (0.0027 MB)         │\n",
      "├─────────────────────────────┼───────────────────────────────┼─────────────────────────┼───────────────────────────────┤\n",
      "│ Compression (of Square)     │ 1                             │ nan (nan)               │ 17.067 (3.084)                │\n",
      "├─────────────────────────────┼───────────────────────────────┼─────────────────────────┼───────────────────────────────┤\n",
      "│ Creation time (Square time) │ 0.000e+00 [s] (3.099e-06 [s]) │ 0.000e+00 [s] (nan [s]) │ 0.000e+00 [s] (5.865e-05 [s]) │\n",
      "╘═════════════════════════════╧═══════════════════════════════╧═════════════════════════╧═══════════════════════════════╛\n"
     ]
    },
    {
     "data": {
      "text/plain": [
       "[[''],\n",
       " ['', 'Grid', 'TT', 'QTT'],\n",
       " ['Error (|F1-F2|/|F1|)', 0, 'nan', '1.262e-05'],\n",
       " ['Memory (of Square)',\n",
       "  '0.0082 MB (0.0082 MB)',\n",
       "  'nan MB (nan MB)',\n",
       "  '0.0005 MB (0.0027 MB)'],\n",
       " ['Compression (of Square)', 1, 'nan (nan)', '17.067 (3.084)'],\n",
       " ['Creation time (Square time)',\n",
       "  '0.000e+00 [s] (3.099e-06 [s])',\n",
       "  '0.000e+00 [s] (nan [s])',\n",
       "  '0.000e+00 [s] (5.865e-05 [s])']]"
      ]
     },
     "execution_count": 21,
     "metadata": {},
     "output_type": "execute_result"
    }
   ],
   "source": [
    "get_bigtable(βu_r_array, βu_r_bt, np.nan, βu_r_qtt, [0,0,0,0])\n",
    "get_bigtable(h_r_array, h_r_bt, np.nan, h_r_qtt, [0,0,0,0])\n",
    "get_bigtable(c_r_array, c_r_bt, np.nan, c_r_qtt, [0,0,0,0])"
   ]
  },
  {
   "cell_type": "code",
   "execution_count": null,
   "id": "424321c1-261d-49f4-b027-448f99c157ec",
   "metadata": {},
   "outputs": [],
   "source": []
  },
  {
   "cell_type": "code",
   "execution_count": null,
   "id": "eca775d9-1014-4dfb-bcce-2cdf2761582e",
   "metadata": {},
   "outputs": [],
   "source": []
  },
  {
   "cell_type": "code",
   "execution_count": null,
   "id": "a376bec1-6bf2-47bd-893e-01cdc63853f6",
   "metadata": {},
   "outputs": [],
   "source": []
  }
 ],
 "metadata": {
  "kernelspec": {
   "display_name": "Python 3 (ipykernel)",
   "language": "python",
   "name": "python3"
  },
  "language_info": {
   "codemirror_mode": {
    "name": "ipython",
    "version": 3
   },
   "file_extension": ".py",
   "mimetype": "text/x-python",
   "name": "python",
   "nbconvert_exporter": "python",
   "pygments_lexer": "ipython3",
   "version": "3.6.13"
  }
 },
 "nbformat": 4,
 "nbformat_minor": 5
}
