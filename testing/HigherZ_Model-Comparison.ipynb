{
 "cells": [
  {
   "cell_type": "markdown",
   "id": "d64f089f",
   "metadata": {
    "tags": []
   },
   "source": [
    "# Integral Equation Model Comparisons\n",
    "[DOI: https://doi.org/10.1103/PhysRevB.100.155143](https://doi.org/10.1103/PhysRevB.100.155143)"
   ]
  },
  {
   "cell_type": "code",
   "execution_count": 1,
   "id": "2e5c11ba",
   "metadata": {
    "scrolled": true
   },
   "outputs": [
    {
     "data": {
      "text/html": [
       "\n",
       "<style>\n",
       ".output_png {\n",
       "    display: table-cell;\n",
       "    text-align: center;\n",
       "    vertical-align: middle;\n",
       "}\n",
       "\n",
       "</style>\n"
      ],
      "text/plain": [
       "<IPython.core.display.HTML object>"
      ]
     },
     "execution_count": 1,
     "metadata": {},
     "output_type": "execute_result"
    }
   ],
   "source": [
    "import numpy as np\n",
    "import matplotlib.pyplot as plt\n",
    "from pandas import read_csv\n",
    "\n",
    "from hnc.hnc.PIE import Plasma_of_Ions_and_Electrons as PLASMA\n",
    "\n",
    "from hnc.hnc.constants import *\n",
    "from hnc.hnc.misc import n_from_rs\n",
    "\n",
    "prop_cycle = plt.rcParams['axes.prop_cycle']\n",
    "colors = prop_cycle.by_key()['color']\n",
    "                \n",
    "from IPython.core.display import HTML\n",
    "HTML(\"\"\"\n",
    "<style>\n",
    ".output_png {\n",
    "    display: table-cell;\n",
    "    text-align: center;\n",
    "    vertical-align: middle;\n",
    "}\n",
    "\n",
    "</style>\n",
    "\"\"\")\n"
   ]
  },
  {
   "cell_type": "markdown",
   "id": "bbea7b15",
   "metadata": {},
   "source": [
    "### Set Parameters in Paper and Plot"
   ]
  },
  {
   "cell_type": "code",
   "execution_count": 2,
   "id": "4d0a7939",
   "metadata": {
    "tags": []
   },
   "outputs": [],
   "source": [
    "name = 'Beryllium'\n",
    "Z, A = 4, 9 #Hydrogen\n",
    "\n",
    "Te_eV = 1 # eV\n",
    "Ti_eV = Te_eV\n",
    "ri_AU = 1#0.4473 # AU\n",
    "ri_cm = ri_AU/cm_to_AU\n",
    "ni_cc = n_from_rs(ri_cm)\n",
    "\n",
    "def g_comparison(ax):\n",
    "    # text = r\"{0}\\n$n_{{i}}$ [cc]$ =$ {1:.2e}\".format(name,ni_cc)\n",
    "    text = r\"{0}\\\\$n_i= ${1:.2e}[cc]\\\\ $T$ = {2:.3f} [eV]\\\\ $r_s$ = {3:.3f} \".format(name,ni_cc, Te_eV, ri_AU)\n",
    "    props = dict(boxstyle='round', facecolor='w')\n",
    "    ax.text(0.05,0.97, text, fontsize=15, transform=ax.transAxes, verticalalignment='top', bbox=props)\n",
    "    \n",
    "    ax.set_ylabel(r\"$g_{ij}$\", fontsize=20)\n",
    "    ax.set_xlabel(r\"$r$ [AU]\", fontsize=20)\n",
    "    ax.tick_params(labelsize=15)\n",
    "    ax.legend(fontsize=14, loc='upper right')\n",
    "    \n",
    "# fig, ax = plt.subplots(figsize=(8,6))\n",
    "# g_comparison(ax)"
   ]
  },
  {
   "cell_type": "markdown",
   "id": "840df6a9",
   "metadata": {},
   "source": [
    "#### Run Ornstein-Zernike Closure"
   ]
  },
  {
   "cell_type": "code",
   "execution_count": 3,
   "id": "4c2ab14a",
   "metadata": {},
   "outputs": [],
   "source": [
    "# c_s_k_guess = plasma_oz.hnc.c_s_k_matrix.copy()"
   ]
  },
  {
   "cell_type": "code",
   "execution_count": 4,
   "id": "25dd3863",
   "metadata": {
    "scrolled": true
   },
   "outputs": [
    {
     "name": "stdout",
     "output_type": "stream",
     "text": [
      "Te_in_eV: 1.000\n",
      "Ti_in_eV: 1.000\n",
      "0: Initial condition Total Error: 4.018e+01\n",
      "QUIT: Large Error at many iterations, and error not decreasing.\n",
      "Exiting status 3, reverting to best index so far: 584\n",
      "Final iter:607, Total Error: 7.882e-03\n",
      "\n",
      "Root Finder:  True The solution converged. final err: 7.549e-08\n"
     ]
    }
   ],
   "source": [
    "plasma_oz_geom = PLASMA(Z, A, ni_cc, Ti_eV, Te_eV, Zbar=Z,\n",
    "                 βu_options = {'add_bridge':False,'bridge':'ocp', 'pseudopotential':False}, \n",
    "                 qsp_options= {'r_c':0,'which_Tij':'geometric'},\n",
    "                 hnc_options= {'kappa_multiscale':10, 'R_max':20,'N_bins':1000, \n",
    "                               'h_max':2e2,'oz_method':'standard'},\n",
    "                 hnc_solve_options={'alpha_Picard':0.5, 'num_iterations':1e4})\n",
    "\n",
    "plasma_oz_geom.run_hnc()#c_s_k_guess = c_s_k_guess)"
   ]
  },
  {
   "cell_type": "code",
   "execution_count": 5,
   "id": "741257c4",
   "metadata": {},
   "outputs": [
    {
     "name": "stdout",
     "output_type": "stream",
     "text": [
      "Te_in_eV: 1.000\n",
      "Ti_in_eV: 1.000\n",
      "0: Initial condition Total Error: 2.536e+01\n",
      "Exiting status 0, reverting to best index so far: 2748\n",
      "Final iter:2749, Total Error: 9.950e-09\n"
     ]
    }
   ],
   "source": [
    "plasma_oz_th = PLASMA(Z, A, ni_cc, Ti_eV, Te_eV, Zbar=Z,\n",
    "                 βu_options = {'add_bridge':False,'bridge':'ocp', 'pseudopotential':False}, \n",
    "                 qsp_options= {'r_c':0,'which_Tij':'thermal'},\n",
    "                 hnc_options= {'kappa_multiscale':10, 'R_max':20,'N_bins':1000, \n",
    "                               'h_max':2e2,'oz_method':'standard'},\n",
    "                 hnc_solve_options={'alpha_Picard':0.5, 'num_iterations':1e4})\n",
    "\n",
    "plasma_oz_th.run_hnc()#c_s_k_guess = c_s_k_guess)"
   ]
  },
  {
   "cell_type": "code",
   "execution_count": 10,
   "id": "a2c0a613-6ce9-4d36-a035-b1cb5abd3422",
   "metadata": {},
   "outputs": [],
   "source": [
    "# c_s_k_guess = plasma_oz_th.hnc.c_s_k_matrix"
   ]
  },
  {
   "cell_type": "code",
   "execution_count": 17,
   "id": "13b897ef-b712-46e3-99cc-bd0c1a1abec8",
   "metadata": {},
   "outputs": [
    {
     "name": "stdout",
     "output_type": "stream",
     "text": [
      "Te_in_eV: 1.000\n",
      "Ti_in_eV: 1.000\n",
      "0: Initial condition Total Error: 1.996e-02\n",
      "QUIT: Last 10 iterations error has been increasing\n",
      "Exiting status 2, reverting to best index so far: 369\n",
      "Final iter:378, Total Error: 1.084e-02\n",
      "\n",
      "Root Finder:  False The iteration is not making good progress, as measured by the \n",
      "  improvement from the last five Jacobian evaluations. final err: 1.704e-03\n"
     ]
    }
   ],
   "source": [
    "plasma_oz_geom_βP = PLASMA(Z, A, ni_cc, Ti_eV, Te_eV, Zbar=Z, find_βuee=True,\n",
    "                 βu_options = {'add_bridge':False,'bridge':'ocp', 'pseudopotential':False}, \n",
    "                 qsp_options= {'r_c':0,'which_Tij':'geometric'},\n",
    "                 hnc_options= {'kappa_multiscale':10, 'R_max':20,'N_bins':1000, \n",
    "                               'h_max':2e2,'oz_method':'standard'},\n",
    "                 hnc_solve_options={'alpha_Picard':1e-3, 'num_iterations':1e4},\n",
    "                 root_options ={'options':\n",
    "                                {'eps':1e-6,'maxfev':100000,'factor':100,'xtol':1e-8}})\n",
    "\n",
    "plasma_oz_geom_βP.run_hnc(c_s_k_guess = plasma_oz_geom.hnc.c_s_k_matrix)"
   ]
  },
  {
   "cell_type": "markdown",
   "id": "cd7e9697",
   "metadata": {},
   "source": [
    "#### Run SVT Closure"
   ]
  },
  {
   "cell_type": "code",
   "execution_count": 18,
   "id": "4ca7fd3f",
   "metadata": {
    "scrolled": true
   },
   "outputs": [
    {
     "name": "stdout",
     "output_type": "stream",
     "text": [
      "Te_in_eV: 1.000\n",
      "Ti_in_eV: 1.000\n",
      "0: Initial condition Total Error: 8.820e+06\n",
      "QUIT: Last 10 iterations error has been increasing\n",
      "Exiting status 2, reverting to best index so far: 57\n",
      "Final iter:66, Total Error: 1.741e+00\n",
      "QUIT: Picard Err too high. Newton assumed not to converge. Try better initial condition or smaller α.\n"
     ]
    }
   ],
   "source": [
    "plasma_svt = PLASMA(Z, A, ni_cc, Ti_eV, Te_eV, Zbar=Z,\n",
    "                 βu_options = {'add_bridge':False,'bridge':'ocp', 'pseudopotential':False}, \n",
    "                 qsp_options= {'r_c':0},\n",
    "                 hnc_options= {'kappa_multiscale':10, 'R_max':20,'N_bins':1000, \n",
    "                               'h_max':2e2,'oz_method':'svt'},\n",
    "                 hnc_solve_options={'alpha_Picard':1e-3,'num_iterations':1e4})\n",
    "\n",
    "plasma_svt.run_hnc(c_s_k_guess = plasma_oz_th.hnc.c_s_k_matrix)"
   ]
  },
  {
   "cell_type": "markdown",
   "id": "054e2de5",
   "metadata": {},
   "source": [
    "#### See How Ion By Itself Does"
   ]
  },
  {
   "cell_type": "code",
   "execution_count": 8,
   "id": "7fc7bf4d",
   "metadata": {},
   "outputs": [
    {
     "name": "stdout",
     "output_type": "stream",
     "text": [
      "0: Initial condition Total Error: 5.580e+01\n",
      "Exiting status 0, reverting to best index so far: 2355\n",
      "Final iter:2356, Total Error: 9.931e-09\n"
     ]
    }
   ],
   "source": [
    "plasma_svt.run_onlyion_hnc()"
   ]
  },
  {
   "cell_type": "markdown",
   "id": "666d8d43",
   "metadata": {},
   "source": [
    "## Compare Models"
   ]
  },
  {
   "cell_type": "code",
   "execution_count": 19,
   "id": "73aea458",
   "metadata": {},
   "outputs": [
    {
     "ename": "AttributeError",
     "evalue": "'Plasma_of_Ions_and_Electrons' object has no attribute 'onlyion_hnc'",
     "output_type": "error",
     "traceback": [
      "\u001b[0;31m---------------------------------------------------------------------------\u001b[0m",
      "\u001b[0;31mAttributeError\u001b[0m                            Traceback (most recent call last)",
      "\u001b[0;32m/tmp/ipykernel_43189/1169387200.py\u001b[0m in \u001b[0;36m<module>\u001b[0;34m\u001b[0m\n\u001b[1;32m     18\u001b[0m \u001b[0max\u001b[0m\u001b[0;34m.\u001b[0m\u001b[0mplot\u001b[0m\u001b[0;34m(\u001b[0m\u001b[0mplasma_svt\u001b[0m\u001b[0;34m.\u001b[0m\u001b[0mhnc\u001b[0m\u001b[0;34m.\u001b[0m\u001b[0mr_array\u001b[0m\u001b[0;34m*\u001b[0m\u001b[0mri_AU\u001b[0m\u001b[0;34m,\u001b[0m \u001b[0mplasma_svt\u001b[0m\u001b[0;34m.\u001b[0m\u001b[0mhnc\u001b[0m\u001b[0;34m.\u001b[0m\u001b[0mh_r_matrix\u001b[0m\u001b[0;34m[\u001b[0m\u001b[0;36m0\u001b[0m\u001b[0;34m,\u001b[0m\u001b[0;36m0\u001b[0m\u001b[0;34m]\u001b[0m\u001b[0;34m+\u001b[0m\u001b[0;36m1\u001b[0m\u001b[0;34m,\u001b[0m \u001b[0;34m'--'\u001b[0m\u001b[0;34m,\u001b[0m \u001b[0mcolor\u001b[0m\u001b[0;34m=\u001b[0m\u001b[0mcolors\u001b[0m\u001b[0;34m[\u001b[0m\u001b[0;36m3\u001b[0m\u001b[0;34m]\u001b[0m\u001b[0;34m)\u001b[0m\u001b[0;31m#, label=r'$g_{ii}$ SVT')\u001b[0m\u001b[0;34m\u001b[0m\u001b[0;34m\u001b[0m\u001b[0m\n\u001b[1;32m     19\u001b[0m \u001b[0;34m\u001b[0m\u001b[0m\n\u001b[0;32m---> 20\u001b[0;31m \u001b[0max\u001b[0m\u001b[0;34m.\u001b[0m\u001b[0mplot\u001b[0m\u001b[0;34m(\u001b[0m\u001b[0mplasma_svt\u001b[0m\u001b[0;34m.\u001b[0m\u001b[0mhnc\u001b[0m\u001b[0;34m.\u001b[0m\u001b[0mr_array\u001b[0m\u001b[0;34m*\u001b[0m\u001b[0mri_AU\u001b[0m\u001b[0;34m,\u001b[0m \u001b[0mplasma_svt\u001b[0m\u001b[0;34m.\u001b[0m\u001b[0monlyion_hnc\u001b[0m\u001b[0;34m.\u001b[0m\u001b[0mh_r_matrix\u001b[0m\u001b[0;34m[\u001b[0m\u001b[0;36m0\u001b[0m\u001b[0;34m,\u001b[0m\u001b[0;36m0\u001b[0m\u001b[0;34m]\u001b[0m\u001b[0;34m+\u001b[0m\u001b[0;36m1\u001b[0m\u001b[0;34m,\u001b[0m \u001b[0;34m'k--'\u001b[0m\u001b[0;34m,\u001b[0m \u001b[0mlabel\u001b[0m\u001b[0;34m=\u001b[0m\u001b[0;34mr'$g_{ii}$ Only Ion'\u001b[0m\u001b[0;34m)\u001b[0m\u001b[0;34m\u001b[0m\u001b[0;34m\u001b[0m\u001b[0m\n\u001b[0m\u001b[1;32m     21\u001b[0m \u001b[0;34m\u001b[0m\u001b[0m\n\u001b[1;32m     22\u001b[0m \u001b[0mg_comparison\u001b[0m\u001b[0;34m(\u001b[0m\u001b[0max\u001b[0m\u001b[0;34m)\u001b[0m\u001b[0;34m\u001b[0m\u001b[0;34m\u001b[0m\u001b[0m\n",
      "\u001b[0;31mAttributeError\u001b[0m: 'Plasma_of_Ions_and_Electrons' object has no attribute 'onlyion_hnc'"
     ]
    },
    {
     "data": {
      "image/png": "[encoded data removed]",
      "text/plain": [
       "<Figure size 800x600 with 1 Axes>"
      ]
     },
     "metadata": {},
     "output_type": "display_data"
    }
   ],
   "source": [
    "fig, ax = plt.subplots(figsize=(8,6), facecolor='w')\n",
    "fig.suptitle(\"  \", fontsize=25, y=0.95)\n",
    "\n",
    "ax.plot(plasma_oz_th.hnc.r_array*ri_AU, plasma_oz_th.hnc.h_r_matrix[1,1]+1, color=colors[0], label=r'$g_{ij}$ OZ-th')\n",
    "ax.plot(plasma_oz_th.hnc.r_array*ri_AU, plasma_oz_th.hnc.h_r_matrix[1,0]+1, color=colors[0])#, label=r'$g_{ei}$ OZ-th')\n",
    "ax.plot(plasma_oz_th.hnc.r_array*ri_AU, plasma_oz_th.hnc.h_r_matrix[0,0]+1, color=colors[0])#, label=r'$g_{ii}$ OZ-th')\n",
    "\n",
    "ax.plot(plasma_oz_th.hnc.r_array*ri_AU, plasma_oz_geom.hnc.h_r_matrix[1,1]+1,':', color=colors[1], linewidth=3, label=r'$g_{ij}$ OZ-g')\n",
    "ax.plot(plasma_oz_th.hnc.r_array*ri_AU, plasma_oz_geom.hnc.h_r_matrix[1,0]+1,':', color=colors[1], linewidth=3)#, label=r'$g_{ei}$ OZ-g')\n",
    "ax.plot(plasma_oz_th.hnc.r_array*ri_AU, plasma_oz_geom.hnc.h_r_matrix[0,0]+1,':', color=colors[1], linewidth=3)#, label=r'$g_{ii}$ OZ-g')\n",
    "\n",
    "ax.plot(plasma_oz_th.hnc.r_array*ri_AU, plasma_oz_geom_βP.hnc.h_r_matrix[1,1]+1,'-.', color=colors[2], label=r'$g_{ij}$ OZ-g $\\beta P$')\n",
    "ax.plot(plasma_oz_th.hnc.r_array*ri_AU, plasma_oz_geom_βP.hnc.h_r_matrix[1,0]+1,'-.', color=colors[2])#, label=r'$g_{ei}$ OZ-g')\n",
    "ax.plot(plasma_oz_th.hnc.r_array*ri_AU, plasma_oz_geom_βP.hnc.h_r_matrix[0,0]+1,'-.', color=colors[2])#, label=r'$g_{ii}$ OZ-g')\n",
    "\n",
    "ax.plot(plasma_svt.hnc.r_array*ri_AU, plasma_svt.hnc.h_r_matrix[1,1]+1, '--', color=colors[3], label=r'$g_{ij}$ SVT')\n",
    "ax.plot(plasma_svt.hnc.r_array*ri_AU, plasma_svt.hnc.h_r_matrix[1,0]+1, '--', color=colors[3])#, label=r'$g_{ei}$ SVT')\n",
    "ax.plot(plasma_svt.hnc.r_array*ri_AU, plasma_svt.hnc.h_r_matrix[0,0]+1, '--', color=colors[3])#, label=r'$g_{ii}$ SVT')\n",
    "\n",
    "ax.plot(plasma_svt.hnc.r_array*ri_AU, plasma_svt.onlyion_hnc.h_r_matrix[0,0]+1, 'k--', label=r'$g_{ii}$ Only Ion')\n",
    "\n",
    "g_comparison(ax)\n",
    "ax.set_xlim(0,ri_AU*5)\n",
    "ax.set_yscale('symlog',linthresh=5)\n"
   ]
  },
  {
   "cell_type": "code",
   "execution_count": null,
   "id": "320e9fbb-9b57-46f4-92c7-b018c51356a0",
   "metadata": {},
   "outputs": [],
   "source": []
  }
 ],
 "metadata": {
  "kernelspec": {
   "display_name": "Python 3 (ipykernel)",
   "language": "python",
   "name": "python3"
  },
  "language_info": {
   "codemirror_mode": {
    "name": "ipython",
    "version": 3
   },
   "file_extension": ".py",
   "mimetype": "text/x-python",
   "name": "python",
   "nbconvert_exporter": "python",
   "pygments_lexer": "ipython3",
   "version": "3.9.13"
  }
 },
 "nbformat": 4,
 "nbformat_minor": 5
}
