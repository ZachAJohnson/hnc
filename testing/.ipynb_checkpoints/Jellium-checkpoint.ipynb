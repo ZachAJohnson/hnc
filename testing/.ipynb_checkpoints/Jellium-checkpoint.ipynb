{
 "cells": [
  {
   "cell_type": "markdown",
   "id": "d64f089f",
   "metadata": {
    "tags": []
   },
   "source": [
    "# Jellium\n",
    "[?](?)"
   ]
  },
  {
   "cell_type": "code",
   "execution_count": 1,
   "id": "2e5c11ba",
   "metadata": {
    "scrolled": true,
    "tags": []
   },
   "outputs": [
    {
     "name": "stdout",
     "output_type": "stream",
     "text": [
      "ModuleNotFoundError: No module named 'mendeleev'\n"
     ]
    },
    {
     "data": {
      "text/html": [
       "\n",
       "<style>\n",
       ".output_png {\n",
       "    display: table-cell;\n",
       "    text-align: center;\n",
       "    vertical-align: middle;\n",
       "}\n",
       "\n",
       "</style>\n"
      ],
      "text/plain": [
       "<IPython.core.display.HTML object>"
      ]
     },
     "execution_count": 1,
     "metadata": {},
     "output_type": "execute_result"
    }
   ],
   "source": [
    "import numpy as np\n",
    "import matplotlib.pyplot as plt\n",
    "from pandas import read_csv\n",
    "\n",
    "from hnc.hnc.PIE import Plasma_of_Ions_and_Electrons as PLASMA\n",
    "\n",
    "from hnc.hnc.constants import *\n",
    "from hnc.hnc.misc import n_from_rs, rs_from_n, P_Ideal_Fermi_Gas, E_Ideal_Fermi_Gas, Degeneracy_Parameter, Fermi_Energy\n",
    "\n",
    "prop_cycle = plt.rcParams['axes.prop_cycle']\n",
    "colors = prop_cycle.by_key()['color']\n",
    "                \n",
    "from IPython.core.display import HTML\n",
    "HTML(\"\"\"\n",
    "<style>\n",
    ".output_png {\n",
    "    display: table-cell;\n",
    "    text-align: center;\n",
    "    vertical-align: middle;\n",
    "}\n",
    "\n",
    "</style>\n",
    "\"\"\")\n"
   ]
  },
  {
   "cell_type": "markdown",
   "id": "bbea7b15",
   "metadata": {},
   "source": [
    "### Set Parameters in Paper and Plot"
   ]
  },
  {
   "cell_type": "code",
   "execution_count": 2,
   "id": "4d0a7939",
   "metadata": {
    "tags": []
   },
   "outputs": [],
   "source": [
    "name = 'Jellium'\n",
    "Z, A = 1,1 \n",
    "\n",
    "Te_eV = 1 # eV\n",
    "rs_AU = 1\n",
    "rs_cm = rs_AU/cm_to_AU\n",
    "ne_cc = n_from_rs(rs_cm)\n",
    "ne_AU = n_from_rs(rs_AU)"
   ]
  },
  {
   "cell_type": "markdown",
   "id": "840df6a9",
   "metadata": {},
   "source": [
    "\n",
    "#### Run Ornstein-Zernike Closure"
   ]
  },
  {
   "cell_type": "code",
   "execution_count": 3,
   "id": "cba07160-0f89-47d4-930e-2a1ee74eb1dd",
   "metadata": {
    "tags": []
   },
   "outputs": [],
   "source": [
    "# Helpful unit functions\n",
    "P_hnc_to_AU   = lambda P_hnc, ri: (P_hnc/ri**3) \n",
    "P_hnc_to_bar  = lambda P_hnc, ri: P_hnc_to_AU(P_hnc, ri) *  AU_to_bar \n",
    "P_hnc_to_Mbar = lambda P_hnc, ri: 1e-6*P_hnc_to_bar(P_hnc, ri)\n",
    "P_hnc_to_GPa  = lambda P_hnc, ri: P_hnc_to_bar(P_hnc, ri) * 1e5 / 1e9 \n",
    "E_hnc_to_eV   = lambda E_hnc: E_hnc/(3/(4*π)) * AU_to_eV\n",
    "\n",
    "P_hnc_to_AU = np.vectorize(P_hnc_to_AU)\n",
    "P_hnc_to_bar = np.vectorize(P_hnc_to_bar)\n",
    "P_hnc_to_Mbar = np.vectorize(P_hnc_to_Mbar)\n",
    "P_hnc_to_GPa = np.vectorize(P_hnc_to_GPa)\n",
    "E_hnc_to_eV = np.vectorize(E_hnc_to_eV)\n",
    "\n",
    "def get_jellium_P_Mbar(jellium_hnc):\n",
    "    # jellium_hnc.h_r_matrix -= 1\n",
    "    P_hnc = jellium_hnc.excess_pressure_matrix()\n",
    "    # jellium_hnc.h_r_matrix += 1\n",
    "    return P_hnc_to_Mbar(P_hnc)[0,0]\n"
   ]
  },
  {
   "cell_type": "markdown",
   "id": "59c8c31c-0766-4dc8-97d3-13625793603d",
   "metadata": {},
   "source": [
    "##### Plot Radial Dsitribution Function"
   ]
  },
  {
   "cell_type": "code",
   "execution_count": 4,
   "id": "36a78c27-9108-4263-8104-51ada82259dc",
   "metadata": {
    "tags": []
   },
   "outputs": [
    {
     "name": "stderr",
     "output_type": "stream",
     "text": [
      "Missing colon in file '~/plasma/hnc/hnc_paper.mplstyle', line 45 (\"text.latex.preamble = r'\\\\boldmath'\")\n"
     ]
    },
    {
     "ename": "NameError",
     "evalue": "name 'jellium' is not defined",
     "output_type": "error",
     "traceback": [
      "\u001b[0;31m---------------------------------------------------------------------------\u001b[0m",
      "\u001b[0;31mNameError\u001b[0m                                 Traceback (most recent call last)",
      "Cell \u001b[0;32mIn[4], line 5\u001b[0m\n\u001b[1;32m      1\u001b[0m plt\u001b[38;5;241m.\u001b[39mstyle\u001b[38;5;241m.\u001b[39muse(\u001b[38;5;124m'\u001b[39m\u001b[38;5;124m~/plasma/hnc/hnc_paper.mplstyle\u001b[39m\u001b[38;5;124m'\u001b[39m)\n\u001b[1;32m      3\u001b[0m fig, ax \u001b[38;5;241m=\u001b[39m plt\u001b[38;5;241m.\u001b[39msubplots()\n\u001b[0;32m----> 5\u001b[0m ax\u001b[38;5;241m.\u001b[39mplot(\u001b[43mjellium\u001b[49m\u001b[38;5;241m.\u001b[39mjellium_hnc\u001b[38;5;241m.\u001b[39mr_array, jellium\u001b[38;5;241m.\u001b[39mjellium_hnc\u001b[38;5;241m.\u001b[39mh_r_matrix[\u001b[38;5;241m0\u001b[39m,\u001b[38;5;241m0\u001b[39m]\u001b[38;5;241m+\u001b[39m\u001b[38;5;241m1\u001b[39m,\u001b[38;5;124m'\u001b[39m\u001b[38;5;124m.\u001b[39m\u001b[38;5;124m'\u001b[39m, label\u001b[38;5;241m=\u001b[39m\u001b[38;5;124m'\u001b[39m\u001b[38;5;124mDefault Pauli\u001b[39m\u001b[38;5;124m'\u001b[39m)\n\u001b[1;32m      6\u001b[0m \u001b[38;5;66;03m# ax.plot(jellium.jellium_hnc.r_array, jellium.jellium_hnc.h_r_matrix[0,0]+1, label='Default Pauli')\u001b[39;00m\n\u001b[1;32m      9\u001b[0m ax\u001b[38;5;241m.\u001b[39mset_xlabel(\u001b[38;5;124mr\u001b[39m\u001b[38;5;124m\"\u001b[39m\u001b[38;5;124m$r/r_s$\u001b[39m\u001b[38;5;124m\"\u001b[39m)\n",
      "\u001b[0;31mNameError\u001b[0m: name 'jellium' is not defined"
     ]
    },
    {
     "data": {
      "image/png": "[encoded data removed]",
      "text/plain": [
       "<Figure size 800x600 with 1 Axes>"
      ]
     },
     "metadata": {},
     "output_type": "display_data"
    }
   ],
   "source": [
    "plt.style.use('~/plasma/hnc/hnc_paper.mplstyle')\n",
    "\n",
    "fig, ax = plt.subplots()\n",
    "\n",
    "ax.plot(jellium.jellium_hnc.r_array, jellium.jellium_hnc.h_r_matrix[0,0]+1,'.', label='Default Pauli')\n",
    "# ax.plot(jellium.jellium_hnc.r_array, jellium.jellium_hnc.h_r_matrix[0,0]+1, label='Default Pauli')\n",
    "\n",
    "\n",
    "ax.set_xlabel(r\"$r/r_s$\")\n",
    "ax.set_ylabel(r\"$g_{ee}$\")\n",
    "\n",
    "ax.set_ylim(0,1.2)\n",
    "ax.set_xlim(0,5)"
   ]
  },
  {
   "cell_type": "code",
   "execution_count": null,
   "id": "0686e9d6-904c-45f4-8675-9bac97e0f7c3",
   "metadata": {
    "tags": []
   },
   "outputs": [],
   "source": [
    "plt.style.use('~/plasma/hnc/hnc_paper.mplstyle')\n",
    "\n",
    "fig, ax = plt.subplots()\n",
    "\n",
    "ax.plot(jellium.jellium_hnc.r_array, jellium.βP_ee, label='HNC Pauli')\n",
    "ax.plot(jellium.jellium_hnc.r_array, d_βP_AU, label='New HNC Pauli')\n",
    "\n",
    "ax.plot(jellium.jellium_hnc.r_array, jellium.qsp.βv_Pauli(  jellium.jellium_hnc.r_array , jellium.qsp.Λee ), label='Default Pauli')\n",
    "\n",
    "ax.set_xlabel(r\"$r/r_s$\")\n",
    "ax.set_ylabel(r\"$\\beta P_{ee}$\")\n",
    "\n",
    "# ax.set_ylim(0,1.2)\n",
    "ax.set_xlim(0,10)\n",
    "ax.legend()"
   ]
  },
  {
   "cell_type": "code",
   "execution_count": null,
   "id": "61b7e981-c6ce-4641-bc0b-794dbb740c66",
   "metadata": {},
   "outputs": [],
   "source": [
    "E_ideal_eV_func = lambda Te_eV, Ti_eV: E_Ideal_Fermi_Gas(Te_eV*eV_to_AU, ne_AU)*AU_to_eV + 3/2*Ti_eV\n",
    "\n",
    "def excess_energy_density_matrix(plasma, d_βP ):\n",
    "    g_matrix = plasma.jellium_hnc.h_r_matrix+1\n",
    "    rho_matrix = plasma.jellium_hnc.rho[:,np.newaxis]*plasma.jellium_hnc.rho[np.newaxis,:]\n",
    "    r = plasma.jellium_hnc.r_array[np.newaxis,np.newaxis,:]\n",
    "    dr = plasma.jellium_hnc.del_r\n",
    "    \n",
    "    u_ex_matrix = np.sum(2*π*rho_matrix[:,:,np.newaxis]*d_βP*g_matrix*r**2*dr,axis=2)\n",
    "    return u_ex_matrix\n",
    "\n",
    "E_ideal_eV_func(Te_eV, Te_eV), E_hnc_to_eV( excess_energy_density_matrix(jellium, d_βP_AU)[0,0]), E_hnc_to_eV( excess_energy_density_matrix(jellium, jellium.βP_ee)[0,0])"
   ]
  },
  {
   "cell_type": "code",
   "execution_count": null,
   "id": "e8979159-08a3-4f22-9397-07103983cf8a",
   "metadata": {},
   "outputs": [],
   "source": [
    "(3/2*1*jellium.jellium_hnc.Temp_list*AU_to_eV)[0]* np.array([d_β, 1])"
   ]
  },
  {
   "cell_type": "code",
   "execution_count": null,
   "id": "da58190a-c8e0-4fad-8d82-eec9e314239e",
   "metadata": {},
   "outputs": [],
   "source": [
    "3/2 * jellium.qsp.Te*AU_to_eV"
   ]
  },
  {
   "cell_type": "code",
   "execution_count": null,
   "id": "54206239-9dc2-4bc6-a922-5ccd4d68ef46",
   "metadata": {},
   "outputs": [],
   "source": [
    "jellium.qsp.Te_c/jellium.qsp.Te"
   ]
  },
  {
   "cell_type": "markdown",
   "id": "38bf1d83-28cd-4baf-a330-8a7fd910fbb4",
   "metadata": {},
   "source": [
    "# Change of Pauli Potential with Density\n",
    "We should recover $\\beta u_P \\propto E_F$"
   ]
  },
  {
   "cell_type": "code",
   "execution_count": 52,
   "id": "fcbfcc99-920a-4604-882a-ebf71f15d8b4",
   "metadata": {
    "tags": []
   },
   "outputs": [],
   "source": [
    "jellium_func = lambda Te_eV, ne_cc: PLASMA(1, 1, ne_cc, 1, Te_eV, Zbar=1, find_βuee=True,\n",
    "                 βu_options = {'add_bridge':False,'bridge':'ocp', 'pseudopotential':False}, \n",
    "                 qsp_options= {'r_c':0,'which_Tij':'geometric'},\n",
    "                 hnc_options= {'kappa_multiscale':10, 'R_max':1000,'N_bins':50000, \n",
    "                               'h_max':2e2,'oz_method':'standard'},\n",
    "                 hnc_solve_options={'tol':1e-12,'alpha_Picard':0.5, 'num_iterations':1e4})"
   ]
  },
  {
   "cell_type": "code",
   "execution_count": 53,
   "id": "41d49216-e789-478c-9dc8-303c807f9692",
   "metadata": {
    "tags": []
   },
   "outputs": [],
   "source": [
    "# # Create new thermodynamic variable generator\n",
    "def excess_energy_density_matrix(plasma, u_matrix ): # Defining   d_βu = dβ_c u/dβ = -T^2 d β_c u/dT\n",
    "    g_matrix = plasma.jellium_hnc.h_r_matrix+1\n",
    "    rho_matrix = plasma.jellium_hnc.rho[:,np.newaxis] * plasma.jellium_hnc.rho[np.newaxis,:]\n",
    "    r = plasma.jellium_hnc.r_array[np.newaxis,np.newaxis,:]\n",
    "    dr = plasma.jellium_hnc.del_r\n",
    "    \n",
    "    u_ex_matrix = np.sum(2*π*rho_matrix[:,:,np.newaxis]*u_matrix*g_matrix*r**2*dr,axis=2)\n",
    "    return u_ex_matrix\n",
    "\n",
    "def get_P_matrices(plasma_pair):\n",
    "    plasma, plasma_ε = plasma_pair\n",
    "    plasma_ε.run_jellium_hnc(ideal=True, c_s_k_guess = plasma.jellium_hnc.c_s_k_matrix.copy())\n",
    "    dn_AU = plasma.ni_AU - plasma_ε.ni_AU\n",
    "    n_AU = plasma.ni_AU\n",
    "    r_AU = rs_from_n(n_AU)\n",
    "\n",
    "    # Derivatives needed \n",
    "    dlnβcdlnn = (np.log(plasma.qsp.βe_c/plasma_ε.qsp.βe_c))/(np.log(plasma.ni_AU/plasma_ε.ni_AU))\n",
    "\n",
    "    # Get pressures\n",
    "    # Excess\n",
    "    P_ex_standard = plasma.jellium_hnc.excess_pressure_matrix()\n",
    "    P_ex_new = plasma.qsp.βe_c/plasma.qsp.βe*P_ex_standard\n",
    "\n",
    "    # Ideal\n",
    "    P_id_standard = plasma.qsp.Te * np.diag(plasma.jellium_hnc.rho)\n",
    "    P_id_new      = plasma.qsp.Te * np.diag(plasma.jellium_hnc.rho)*(1 + 3/2*dlnβcdlnn)\n",
    "    \n",
    "    # New term\n",
    "    dβu_dlnn_AU = n_AU*(plasma.jellium_hnc.βu_r_matrix - plasma_ε.jellium_hnc.βu_r_matrix)/dn_AU\n",
    "\n",
    "    P_nonstandard = 1/plasma.qsp.βe * excess_energy_density_matrix(plasma,dβu_dlnn_AU  )\n",
    "    \n",
    "    # Compile results\n",
    "    P_standard = P_ex_standard + P_id_standard\n",
    "    P_id_Mbar, P_ex_Mbar, P_standard_Mbar, P_Mbar = P_hnc_to_Mbar(P_id_new,r_AU), P_hnc_to_Mbar(P_ex_new,r_AU), P_hnc_to_Mbar(P_standard,r_AU), P_hnc_to_Mbar(P_id_new + P_ex_new + P_nonstandard,r_AU)\n",
    "    return P_id_Mbar, P_ex_Mbar, P_standard_Mbar, P_Mbar\n",
    "\n",
    "def get_U_matrices(plasma_pair):\n",
    "    plasma, plasma_ε = plasma_pair\n",
    "    plasma_ε.run_jellium_hnc(ideal=True, c_s_k_guess = plasma.jellium_hnc.c_s_k_matrix.copy())\n",
    "    n_AU = plasma.ni_AU\n",
    "    r_AU = rs_from_n(n_AU)\n",
    "    dT_AU = plasma.qsp.Te_c - plasma_ε.qsp.Te_c\n",
    "    # Needed derivatives with respect to real inverse temperature\n",
    "    dβc_dβ = (plasma.qsp.βe_c - plasma_ε.qsp.βe_c)/(plasma.qsp.βe - plasma_ε.qsp.βe)\n",
    "    dβcu_dβ = (plasma.jellium_hnc.βu_r_matrix - plasma_ε.jellium_hnc.βu_r_matrix)/(plasma.qsp.βe - plasma_ε.qsp.βe ) \n",
    "    \n",
    "    # Ideal\n",
    "    E_id_standard = 3/2*plasma.jellium_hnc.Temp_matrix*np.diag(plasma.jellium_hnc.rho)\n",
    "    E_id_new = E_id_standard * dβc_dβ  \n",
    "    \n",
    "    # Excess\n",
    "    E_ex_standard = excess_energy_density_matrix(plasma, plasma.jellium_hnc.Temp_matrix[:,:,np.newaxis]*plasma.jellium_hnc.βu_r_matrix)\n",
    "    E_ex_new = excess_energy_density_matrix(plasma, dβcu_dβ)\n",
    "    \n",
    "    # Compile results\n",
    "    E_standard = E_id_standard + E_ex_standard\n",
    "    E_new = E_id_new + E_ex_new\n",
    "    E_id_eV, E_ex_eV, E_standard_eV, E_eV = [E_hnc_to_eV(E) for E in [E_id_new, E_ex_new, E_standard, E_new]]\n",
    "    return E_id_eV, E_ex_eV, E_standard_eV, E_eV\n",
    "    \n",
    "def get_P(plasma, ε=1e-6):\n",
    "    plasma_pair = [plasma, jellium_func(plasma.Te*AU_to_eV, plasma.ni_cc*(1-ε))]\n",
    "    P_id_matrix, P_ex_matrix, P_st_matrix, P_matrix = get_P_matrices(plasma_pair)\n",
    "    return np.sum(P_id_matrix), np.sum(P_ex_matrix), np.sum(P_st_matrix), np.sum(P_matrix)\n",
    "\n",
    "def get_U(plasma, ε=1e-6):\n",
    "    plasma_pair = [plasma, jellium_func(plasma.Te*AU_to_eV*(1-ε), plasma.ni_cc)]\n",
    "    E_id_matrix, E_ex_matrix, E_st_matrix, E_matrix = get_U_matrices(plasma_pair)\n",
    "    return np.sum(E_id_matrix), np.sum(E_ex_matrix), np.sum(E_st_matrix), np.sum(E_matrix)"
   ]
  },
  {
   "cell_type": "code",
   "execution_count": null,
   "id": "bab24340-7bd7-4827-a106-f6eb754f3345",
   "metadata": {
    "tags": []
   },
   "outputs": [
    {
     "name": "stdout",
     "output_type": "stream",
     "text": [
      "Te_in_eV: 1.000\n",
      "Ti_in_eV: 1.000\n"
     ]
    },
    {
     "name": "stderr",
     "output_type": "stream",
     "text": [
      "/home/zach/plasma/hnc/hnc/PIE.py:151: IntegrationWarning: The maximum number of subdivisions (50) has been achieved.\n",
      "  If increasing the limit yields no improvement it is advised to analyze \n",
      "  the integrand in order to determine the difficulties.  If the position of a \n",
      "  local difficulty can be determined (singularity, discontinuity) one will \n",
      "  probably gain from splitting up the interval and calling the integrator \n",
      "  on the subranges.  Perhaps a special-purpose integrator should be used.\n",
      "  κ = 3*(2*self.qsp.Te*m_e) / (self.qsp.k_F**3 * r) *quad(integrand, 0, t_max)[0]\n",
      "/home/zach/plasma/hnc/hnc/PIE.py:151: IntegrationWarning: The integral is probably divergent, or slowly convergent.\n",
      "  κ = 3*(2*self.qsp.Te*m_e) / (self.qsp.k_F**3 * r) *quad(integrand, 0, t_max)[0]\n"
     ]
    },
    {
     "name": "stdout",
     "output_type": "stream",
     "text": [
      "0: Initial condition Total Error: 3.388e-03\n",
      "Exiting status 0, reverting to best index so far: 35\n",
      "Final iter:36, Total Error: 8.862e-13\n",
      "Te_in_eV: 1.000\n",
      "Ti_in_eV: 1.000\n",
      "0: Initial condition Total Error: 7.498e-10\n",
      "Exiting status 0, reverting to best index so far: 11\n",
      "Final iter:12, Total Error: 8.369e-13\n",
      "Te_in_eV: 1.000\n",
      "Ti_in_eV: 1.000\n",
      "0: Initial condition Total Error: 1.120e-09\n",
      "Exiting status 0, reverting to best index so far: 12\n",
      "Final iter:13, Total Error: 6.961e-13\n",
      "Temp matrix ratio: [[1.00000068]]\n",
      "T derivative: 0.52786802187674, E_id_new/E_id_st = [[0.52786802]]\n",
      "Te_in_eV: 1.000\n",
      "Ti_in_eV: 1.000\n",
      "0: Initial condition Total Error: 3.774e-03\n",
      "Exiting status 0, reverting to best index so far: 37\n",
      "Final iter:38, Total Error: 7.378e-13\n",
      "Te_in_eV: 1.000\n",
      "Ti_in_eV: 1.000\n",
      "0: Initial condition Total Error: 7.801e-10\n",
      "Exiting status 0, reverting to best index so far: 11\n",
      "Final iter:12, Total Error: 9.152e-13\n",
      "Te_in_eV: 1.000\n",
      "Ti_in_eV: 1.000\n",
      "0: Initial condition Total Error: 1.169e-09\n",
      "Exiting status 0, reverting to best index so far: 12\n",
      "Final iter:13, Total Error: 7.876e-13\n",
      "Temp matrix ratio: [[1.00000052]]\n",
      "T derivative: 0.3430403338324045, E_id_new/E_id_st = [[0.34304033]]\n",
      "Te_in_eV: 1.000\n",
      "Ti_in_eV: 1.000\n"
     ]
    },
    {
     "name": "stderr",
     "output_type": "stream",
     "text": [
      "/home/zach/plasma/hnc/hnc/PIE.py:150: RuntimeWarning: overflow encountered in exp\n",
      "  integrand = lambda t: t*np.sin(sin_arg*t)/(1+np.exp(t**2-η))\n",
      "/home/zach/plasma/hnc/hnc/PIE.py:158: RuntimeWarning: overflow encountered in exp\n",
      "  f_of_k = 1/(  1+np.exp((dense_hnc.k_array/self.qsp.ri)**2/(2*m_e*self.qsp.Te) - η) )\n"
     ]
    },
    {
     "name": "stdout",
     "output_type": "stream",
     "text": [
      "0: Initial condition Total Error: 4.175e-03\n",
      "Exiting status 0, reverting to best index so far: 38\n",
      "Final iter:39, Total Error: 9.542e-13\n",
      "Te_in_eV: 1.000\n",
      "Ti_in_eV: 1.000\n"
     ]
    }
   ],
   "source": [
    "ni_cc_list = np.geomspace(1e22,5e25,num=15)\n",
    "Te_eV = 1\n",
    "\n",
    "βP_list = []\n",
    "P_Pauli_list = []\n",
    "E_Pauli_list = []\n",
    "h_ee_list = []\n",
    "\n",
    "for ni_cc in ni_cc_list:\n",
    "    jellium = jellium_func(Te_eV, ni_cc)\n",
    "    jellium.run_jellium_hnc(ideal=True)\n",
    "    \n",
    "    βP_list.append( jellium.βP_ee )\n",
    "    # jellium.jellium_hnc.βu_r_matrix = np.array([[jellium.βP_ee]])\n",
    "    P_Pauli_list.append(  np.array(get_P(jellium)))\n",
    "    E_Pauli_list.append(  np.array(get_U(jellium)))\n",
    "    h_ee_list.append([jellium.ideal_jellium_r_array, jellium.ideal_jellium_h_r])\n",
    "    "
   ]
  },
  {
   "cell_type": "markdown",
   "id": "72ff55ee-f6b1-43f2-b235-83800f659f00",
   "metadata": {},
   "source": [
    "#### Pauli Potentials"
   ]
  },
  {
   "cell_type": "code",
   "execution_count": null,
   "id": "392e6ade-96e2-4997-a411-39eefd010d4d",
   "metadata": {
    "tags": []
   },
   "outputs": [],
   "source": [
    "fig, ax  = plt.subplots()\n",
    "\n",
    "for ni_cc, βP in zip(ni_cc_list, βP_list):\n",
    "    # ax.plot(jellium.hnc.r_array, np.log(βP), label=f'{ni_cc:0.3e} [1/cc] ')\n",
    "    ax.plot(jellium.hnc.r_array, βP, label=f'{ni_cc:0.3e} [1/cc] ')\n",
    "ax.set_yscale('log')\n",
    "ax.set_xscale('log')\n",
    "# ax.legend()"
   ]
  },
  {
   "cell_type": "markdown",
   "id": "a97fcbd0-445f-4c31-946d-257007766dda",
   "metadata": {},
   "source": [
    "#### Ideal $h_{ee}$"
   ]
  },
  {
   "cell_type": "code",
   "execution_count": null,
   "id": "3207ae1c-88d5-4e61-bc30-8af71934bb4a",
   "metadata": {
    "tags": []
   },
   "outputs": [],
   "source": [
    "fig, ax  = plt.subplots()\n",
    "\n",
    "for ni_cc, (r_array, h_ee) in zip(ni_cc_list, h_ee_list):\n",
    "    ax.plot(r_array, h_ee, label=f'{ni_cc:0.3e} [1/cc] ')\n",
    "\n",
    "ax.legend()\n",
    "# ax.set_ylim(-0.001,0.001)\n",
    "ax.set_xlim(0,5)"
   ]
  },
  {
   "cell_type": "markdown",
   "id": "6d312cb0-b614-4b12-b6fb-ff2d0e0aadec",
   "metadata": {},
   "source": [
    "#### Pressure over density"
   ]
  },
  {
   "cell_type": "code",
   "execution_count": null,
   "id": "c3941452-5c43-481d-a63e-79d9e34dfee9",
   "metadata": {
    "tags": []
   },
   "outputs": [],
   "source": [
    "fig, ax  = plt.subplots()\n",
    "\n",
    "P_ideal_Mbar = [P_Ideal_Fermi_Gas(Te_eV*eV_to_AU, ni_cc/cm_to_AU**3)*AU_to_bar/1e6  for ni_cc in ni_cc_list]\n",
    "\n",
    "ax.plot(ni_cc_list, np.array(P_Pauli_list)[:,0],'--.', markersize=10, label=r'$P_{id}$')\n",
    "ax.plot(ni_cc_list, np.array(P_Pauli_list)[:,1],'--.', markersize=10, label=r'$P_{ex}$')\n",
    "ax.plot(ni_cc_list, np.array(P_Pauli_list)[:,2],'--.', markersize=10, label=r'$P_{st.}$')\n",
    "ax.plot(ni_cc_list, np.array(P_Pauli_list)[:,3],'--.', markersize=10, label=r'$P_{new}$')\n",
    "ax.plot(ni_cc_list, P_ideal_Mbar,'k--.',markersize=10)\n",
    "\n",
    "ax.set_xscale('log')\n",
    "ax.set_yscale('log')\n",
    "ax.legend(loc='upper left')"
   ]
  },
  {
   "cell_type": "code",
   "execution_count": null,
   "id": "dd3ee50f-db9a-442d-a6e6-cf1f8f5e5510",
   "metadata": {
    "tags": []
   },
   "outputs": [],
   "source": [
    "np.array(P_Pauli_list)[:,3]/P_ideal_Mbar, 5/2*np.array(P_ideal_Mbar)/(np.array(ni_cc_list)/cm_to_AU**3*Fermi_Energy(np.array(ni_cc_list/cm_to_AU**3))*AU_to_bar/1e6)"
   ]
  },
  {
   "cell_type": "markdown",
   "id": "aad1c590-d5da-44cb-9590-57292a51e0ca",
   "metadata": {},
   "source": [
    "#### Comparison to Ideal Pressure\n"
   ]
  },
  {
   "cell_type": "code",
   "execution_count": null,
   "id": "cd648f41-d04d-44bf-bb73-b581a46f3cea",
   "metadata": {
    "tags": []
   },
   "outputs": [],
   "source": [
    "# Comparison to ideal pressure\n",
    "\n",
    "plt.style.use('~/plasma/hnc/hnc_paper.mplstyle')\n",
    "fig, ax  = plt.subplots()\n",
    "\n",
    "P_ideal_Mbar = [P_Ideal_Fermi_Gas(Te_eV*eV_to_AU, ni_cc/cm_to_AU**3)*AU_to_bar/1e6  for ni_cc in ni_cc_list]\n",
    "ni_cc_to_Θ = lambda ni_cc: Degeneracy_Parameter(jellium.qsp.Te, ni_cc/cm_to_AU**3)\n",
    "ni_cc_list = np.array(ni_cc_list)\n",
    "\n",
    "ax.plot(ni_cc_to_Θ(ni_cc_list), np.array(P_Pauli_list)[:,0]/P_ideal_Mbar,'.', markersize=10, label=r'$P_{id}$')\n",
    "ax.plot(ni_cc_to_Θ(ni_cc_list), np.array(P_Pauli_list)[:,1]/P_ideal_Mbar,'.', markersize=10, label=r'$P_{ex}$')\n",
    "ax.plot(ni_cc_to_Θ(ni_cc_list), np.array(P_Pauli_list)[:,2]/P_ideal_Mbar,'.', markersize=10, label=r'$P_{st.}$')\n",
    "ax.plot(ni_cc_to_Θ(ni_cc_list), (np.array(P_Pauli_list)[:,3]-np.array(P_Pauli_list)[:,1]-np.array(P_Pauli_list)[:,0] )/P_ideal_Mbar,'-', markersize=10, label=r'$P_{u}$')\n",
    "ax.plot(ni_cc_to_Θ(ni_cc_list), np.array(P_Pauli_list)[:,3]/P_ideal_Mbar,'.', markersize=10, label=r'$P_{new}$')\n",
    "ax.plot(ni_cc_to_Θ(ni_cc_list), np.ones_like(P_ideal_Mbar),'k.',markersize=10)\n",
    "\n",
    "ax.set_xscale('log')\n",
    "# ax.set_yscale('log')\n",
    "ax.legend(loc='upper left')\n",
    "ax.set_ylim(0,2)\n",
    "# ax.axvspan(0 ,ni_cc_to_Θ(ni_cc_list[-4]), color='k', alpha=0.2, linewidth=3)\n",
    "# ax.vlines(ni_cc_to_Θ(ni_cc_list[-4]), 0,2, color='k', linewidth=2)\n",
    "ax.set_ylabel(r'$P/P_\\text{ideal}$')\n",
    "ax.set_xlabel(r'$\\theta$')"
   ]
  },
  {
   "cell_type": "markdown",
   "id": "896d277d-447f-4d6f-acf0-3d13bab66a4e",
   "metadata": {},
   "source": [
    "#### Comparison to Ideal Energy\n"
   ]
  },
  {
   "cell_type": "code",
   "execution_count": null,
   "id": "0c64360b-a636-41d8-a142-6b0226b6a14a",
   "metadata": {
    "tags": []
   },
   "outputs": [],
   "source": [
    "plt.style.use('~/plasma/hnc/hnc_paper.mplstyle')\n",
    "fig, ax  = plt.subplots()\n",
    "\n",
    "E_ideal_Mbar = [E_Ideal_Fermi_Gas(Te_eV*eV_to_AU, ni_cc/cm_to_AU**3)*AU_to_eV for ni_cc in ni_cc_list]\n",
    "ni_cc_to_Θ = lambda ni_cc: Degeneracy_Parameter(jellium.qsp.Te, ni_cc/cm_to_AU**3)\n",
    "ni_cc_list = np.array(ni_cc_list)\n",
    "\n",
    "ax.plot(ni_cc_to_Θ(ni_cc_list), np.array(E_Pauli_list)[:,0]/E_ideal_Mbar,'.', markersize=10, label=r'$E_{id}$')\n",
    "ax.plot(ni_cc_to_Θ(ni_cc_list), np.array(E_Pauli_list)[:,1]/E_ideal_Mbar,'.', markersize=10, label=r'$E_{ex}$')\n",
    "ax.plot(ni_cc_to_Θ(ni_cc_list), np.array(E_Pauli_list)[:,2]/E_ideal_Mbar,'.', markersize=10, label=r'$E_{st.}$')\n",
    "# ax.plot(ni_cc_to_Θ(ni_cc_list),(np.array(E_Pauli_list)[:,3]-np.array(E_Pauli_list)[:,1]-np.array(E_Pauli_list)[:,0] )/E_ideal_Mbar,'-', markersize=10, label=r'$E_{u}$')\n",
    "ax.plot(ni_cc_to_Θ(ni_cc_list), np.array(E_Pauli_list)[:,3]/E_ideal_Mbar,'.', markersize=10, label=r'$E_{new}$')\n",
    "ax.plot(ni_cc_to_Θ(ni_cc_list), np.ones_like(E_ideal_Mbar),'k.',markersize=10)\n",
    "\n",
    "ax.set_xscale('log')\n",
    "# ax.set_yscale('log')\n",
    "ax.legend(loc='upper left')\n",
    "ax.set_ylim(0,2)\n",
    "# ax.axvspan(0 ,ni_cc_to_Θ(ni_cc_list[-4]), color='k', alpha=0.2, linewidth=3)\n",
    "# ax.vlines(ni_cc_to_Θ(ni_cc_list[-4]), 0,2, color='k', linewidth=2)\n",
    "ax.set_ylabel(r'$E/E_\\text{ideal}$')\n",
    "ax.set_xlabel(r'$\\theta$')"
   ]
  }
 ],
 "metadata": {
  "kernelspec": {
   "display_name": "Python 3 (ipykernel)",
   "language": "python",
   "name": "python3"
  },
  "language_info": {
   "codemirror_mode": {
    "name": "ipython",
    "version": 3
   },
   "file_extension": ".py",
   "mimetype": "text/x-python",
   "name": "python",
   "nbconvert_exporter": "python",
   "pygments_lexer": "ipython3",
   "version": "3.10.6"
  }
 },
 "nbformat": 4,
 "nbformat_minor": 5
}
