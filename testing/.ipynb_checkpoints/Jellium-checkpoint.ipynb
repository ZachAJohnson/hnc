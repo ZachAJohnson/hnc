{
 "cells": [
  {
   "cell_type": "markdown",
   "id": "d64f089f",
   "metadata": {
    "tags": []
   },
   "source": [
    "# Jellium\n",
    "[?](?)"
   ]
  },
  {
   "cell_type": "code",
   "execution_count": 1,
   "id": "2e5c11ba",
   "metadata": {
    "scrolled": true
   },
   "outputs": [
    {
     "name": "stdout",
     "output_type": "stream",
     "text": [
      "ModuleNotFoundError: No module named 'mendeleev'\n"
     ]
    },
    {
     "data": {
      "text/html": [
       "\n",
       "<style>\n",
       ".output_png {\n",
       "    display: table-cell;\n",
       "    text-align: center;\n",
       "    vertical-align: middle;\n",
       "}\n",
       "\n",
       "</style>\n"
      ],
      "text/plain": [
       "<IPython.core.display.HTML object>"
      ]
     },
     "execution_count": 1,
     "metadata": {},
     "output_type": "execute_result"
    }
   ],
   "source": [
    "import numpy as np\n",
    "import matplotlib.pyplot as plt\n",
    "from pandas import read_csv\n",
    "\n",
    "from hnc.hnc.PIE import Plasma_of_Ions_and_Electrons as PLASMA\n",
    "\n",
    "from hnc.hnc.constants import *\n",
    "from hnc.hnc.misc import n_from_rs\n",
    "\n",
    "prop_cycle = plt.rcParams['axes.prop_cycle']\n",
    "colors = prop_cycle.by_key()['color']\n",
    "                \n",
    "from IPython.core.display import HTML\n",
    "HTML(\"\"\"\n",
    "<style>\n",
    ".output_png {\n",
    "    display: table-cell;\n",
    "    text-align: center;\n",
    "    vertical-align: middle;\n",
    "}\n",
    "\n",
    "</style>\n",
    "\"\"\")\n"
   ]
  },
  {
   "cell_type": "markdown",
   "id": "bbea7b15",
   "metadata": {},
   "source": [
    "### Set Parameters in Paper and Plot"
   ]
  },
  {
   "cell_type": "code",
   "execution_count": 2,
   "id": "4d0a7939",
   "metadata": {
    "tags": []
   },
   "outputs": [],
   "source": [
    "name = 'Jellium'\n",
    "Z, A = 1,1 \n",
    "\n",
    "Te_eV = 1 # eV\n",
    "rs_AU = 1\n",
    "rs_cm = rs_AU/cm_to_AU\n",
    "ne_cc = n_from_rs(rs_cm)"
   ]
  },
  {
   "cell_type": "markdown",
   "id": "840df6a9",
   "metadata": {},
   "source": [
    "\n",
    "#### Run Ornstein-Zernike Closure"
   ]
  },
  {
   "cell_type": "code",
   "execution_count": 3,
   "id": "cba07160-0f89-47d4-930e-2a1ee74eb1dd",
   "metadata": {},
   "outputs": [],
   "source": [
    "P_hnc_to_bar = lambda P_hnc: (P_hnc/rs_AU**3) *  AU_to_bar \n",
    "P_hnc_to_Mbar = lambda P_hnc: 1e-6*P_hnc_to_bar(P_hnc)\n",
    "\n",
    "def get_jellium_P_Mbar(jellium_hnc):\n",
    "    # jellium_hnc.h_r_matrix -= 1\n",
    "    P_hnc = jellium_hnc.excess_pressure_matrix()\n",
    "    # jellium_hnc.h_r_matrix += 1\n",
    "    return P_hnc_to_Mbar(P_hnc)[0,0]\n"
   ]
  },
  {
   "cell_type": "code",
   "execution_count": 4,
   "id": "25dd3863",
   "metadata": {
    "scrolled": true
   },
   "outputs": [
    {
     "name": "stdout",
     "output_type": "stream",
     "text": [
      "Te_in_eV: 1.000\n",
      "Ti_in_eV: 1.000\n"
     ]
    },
    {
     "name": "stderr",
     "output_type": "stream",
     "text": [
      "/home/zach/plasma/hnc/hnc/PIE.py:181: RuntimeWarning: overflow encountered in exp\n",
      "  integrand = lambda t: t*np.sin(sin_arg*t)/(1+np.exp(t**2-η))\n",
      "/home/zach/plasma/hnc/hnc/PIE.py:188: RuntimeWarning: overflow encountered in exp\n",
      "  f_of_k = 1/(  1+np.exp((dense_hnc.k_array/self.qsp.ri)**2/(2*m_e*self.qsp.Te) - η) )\n"
     ]
    },
    {
     "name": "stdout",
     "output_type": "stream",
     "text": [
      "2.2511245291028167e-07\n",
      "0: Initial condition Total Error: 2.464e-01\n",
      "Exiting status 0, reverting to best index so far: 50\n",
      "Final iter:51, Total Error: 9.826e-09\n",
      "0: Initial condition Total Error: 5.291e-02\n",
      "Exiting status 0, reverting to best index so far: 40\n",
      "Final iter:41, Total Error: 9.119e-09\n"
     ]
    },
    {
     "data": {
      "text/plain": [
       "0"
      ]
     },
     "execution_count": 4,
     "metadata": {},
     "output_type": "execute_result"
    }
   ],
   "source": [
    "jellium = PLASMA(1, 1, ne_cc, 1, Te_eV, Zbar=1, find_βuee=True,\n",
    "                 βu_options = {'add_bridge':False,'bridge':'ocp', 'pseudopotential':False}, \n",
    "                 qsp_options= {'r_c':0,'which_Tij':'geometric'},\n",
    "                 hnc_options= {'kappa_multiscale':10, 'R_max':20,'N_bins':1000, \n",
    "                               'h_max':2e2,'oz_method':'standard'},\n",
    "                 hnc_solve_options={'alpha_Picard':0.5, 'num_iterations':1e4})\n",
    "\n",
    "# jellium.run_jellium_hnc()\n",
    "# # Reset βvee\n",
    "# βvee_Pauli   = jellium.qsp.βv_Pauli(  jellium.jellium_hnc.r_array , jellium.qsp.Λee )\n",
    "# βvee_Pauli   = jellium.βP_ee\n",
    "# βvee_Deutsch = jellium.qsp.βv_Deutsch( jellium.qsp.Γee, jellium.jellium_hnc.r_array , jellium.qsp.Λee )\n",
    "# jellium.jellium_hnc.set_βu_matrix(np.array([[βvee_Pauli ]]))\n",
    "# jellium.jellium_hnc.HNC_solve(**jellium.hnc_solve_options)\n",
    "\n"
   ]
  },
  {
   "cell_type": "code",
   "execution_count": 11,
   "id": "67d0e313-fb77-40e1-b4c3-7913fc0191a8",
   "metadata": {},
   "outputs": [
    {
     "data": {
      "text/plain": [
       "array([ 1.28824523e+01,  1.15021425e+01,  1.06895465e+01,  1.01103180e+01,\n",
       "        9.65864631e+00,  9.28726929e+00,  8.97094692e+00,  8.69460584e+00,\n",
       "        8.44852240e+00,  8.22605865e+00,  8.02248219e+00,  7.83430146e+00,\n",
       "        7.65886778e+00,  7.49412529e+00,  7.33844729e+00,  7.19052548e+00,\n",
       "        7.04929289e+00,  6.91386876e+00,  6.78351843e+00,  6.65762348e+00,\n",
       "        6.53565912e+00,  6.41717695e+00,  6.30179140e+00,  6.18916921e+00,\n",
       "        6.07902093e+00,  5.97109413e+00,  5.86516793e+00,  5.76104844e+00,\n",
       "        5.65856506e+00,  5.55756735e+00,  5.45792250e+00,  5.35951305e+00,\n",
       "        5.26223513e+00,  5.16599683e+00,  5.07071683e+00,  4.97632328e+00,\n",
       "        4.88275275e+00,  4.78994935e+00,  4.69786401e+00,  4.60645373e+00,\n",
       "        4.51568103e+00,  4.42551344e+00,  4.33592297e+00,  4.24688577e+00,\n",
       "        4.15838168e+00,  4.07039395e+00,  3.98290894e+00,  3.89591578e+00,\n",
       "        3.80940621e+00,  3.72337431e+00,  3.63781628e+00,  3.55273030e+00,\n",
       "        3.46811631e+00,  3.38397588e+00,  3.30031207e+00,  3.21712926e+00,\n",
       "        3.13443308e+00,  3.05223023e+00,  2.97052844e+00,  2.88933632e+00,\n",
       "        2.80866329e+00,  2.72851948e+00,  2.64891566e+00,  2.56986317e+00,\n",
       "        2.49137382e+00,  2.41345987e+00,  2.33613392e+00,  2.25940887e+00,\n",
       "        2.18329787e+00,  2.10781426e+00,  2.03297153e+00,  1.95878325e+00,\n",
       "        1.88526307e+00,  1.81242462e+00,  1.74028154e+00,  1.66884738e+00,\n",
       "        1.59813559e+00,  1.52815952e+00,  1.45893233e+00,  1.39046701e+00,\n",
       "        1.32277633e+00,  1.25587284e+00,  1.18976881e+00,  1.12447622e+00,\n",
       "        1.06000679e+00,  9.96371887e-01,  9.33582553e-01,  8.71649484e-01,\n",
       "        8.10583013e-01,  7.50393098e-01,  6.91089313e-01,  6.32680838e-01,\n",
       "        5.75176451e-01,  5.18584520e-01,  4.62913001e-01,  4.08169429e-01,\n",
       "        3.54360918e-01,  3.01494158e-01,  2.49575412e-01,  1.98610519e-01,\n",
       "        1.48604891e-01,  9.95635181e-02,  5.14909682e-02,  4.39139168e-03,\n",
       "       -4.17314752e-02, -8.68743056e-02, -1.31034176e-01, -1.74208563e-01,\n",
       "       -2.16395331e-01, -2.57592734e-01, -2.97799400e-01, -3.37014328e-01,\n",
       "       -3.75236879e-01, -4.12466767e-01, -4.48704052e-01, -4.83949130e-01,\n",
       "       -5.18202725e-01, -5.51465880e-01, -5.83739949e-01, -6.15026589e-01,\n",
       "       -6.45327749e-01, -6.74645665e-01, -7.02982850e-01, -7.30342085e-01,\n",
       "       -7.56726418e-01, -7.82139147e-01, -8.06583822e-01, -8.30064234e-01,\n",
       "       -8.52584411e-01, -8.74148613e-01, -8.94761324e-01, -9.14427252e-01,\n",
       "       -9.33151322e-01, -9.50938673e-01, -9.67794656e-01, -9.83724831e-01,\n",
       "       -9.98734965e-01, -1.01283103e+00, -1.02601920e+00, -1.03830586e+00,\n",
       "       -1.04969760e+00, -1.06020119e+00, -1.06982364e+00, -1.07857213e+00,\n",
       "       -1.08645407e+00, -1.09347707e+00, -1.09964894e+00, -1.10497772e+00,\n",
       "       -1.10947164e+00, -1.11313916e+00, -1.11598895e+00, -1.11802989e+00,\n",
       "       -1.11927109e+00, -1.11972189e+00, -1.11939182e+00, -1.11829068e+00,\n",
       "       -1.11642845e+00, -1.11381538e+00, -1.11046192e+00, -1.10637877e+00,\n",
       "       -1.10157683e+00, -1.09606725e+00, -1.08986143e+00, -1.08297095e+00,\n",
       "       -1.07540766e+00, -1.06718362e+00, -1.05831111e+00, -1.04880266e+00,\n",
       "       -1.03867099e+00, -1.02792905e+00, -1.01659000e+00, -1.00466723e+00,\n",
       "       -9.92174308e-01, -9.79125029e-01, -9.65533373e-01, -9.51413514e-01,\n",
       "       -9.36779812e-01, -9.21646808e-01, -9.06029216e-01, -8.89941915e-01,\n",
       "       -8.73399947e-01, -8.56418501e-01, -8.39012912e-01, -8.21198651e-01,\n",
       "       -8.02991315e-01, -7.84406619e-01, -7.65460385e-01, -7.46168537e-01,\n",
       "       -7.26547088e-01, -7.06612130e-01, -6.86379826e-01, -6.65866399e-01,\n",
       "       -6.45088121e-01, -6.24061303e-01, -6.02802284e-01, -5.81327422e-01,\n",
       "       -5.59653081e-01, -5.37795621e-01, -5.15771390e-01, -4.93596708e-01,\n",
       "       -4.71287858e-01, -4.48861080e-01, -4.26332552e-01, -4.03718386e-01,\n",
       "       -3.81034614e-01, -3.58297178e-01, -3.35521922e-01, -3.12724576e-01,\n",
       "       -2.89920754e-01, -2.67125935e-01, -2.44355461e-01, -2.21624523e-01,\n",
       "       -1.98948152e-01, -1.76341212e-01, -1.53818388e-01, -1.31394179e-01,\n",
       "       -1.09082889e-01, -8.68986205e-02, -6.48552628e-02, -4.29664874e-02,\n",
       "       -2.12457393e-02,  2.93769836e-04,  2.16390689e-02,  4.27774338e-02,\n",
       "        6.36963935e-02,  8.43837367e-02,  1.04827517e-01,  1.25016058e-01,\n",
       "        1.44937961e-01,  1.64582104e-01,  1.83937654e-01,  2.02994065e-01,\n",
       "        2.21741085e-01,  2.40168759e-01,  2.58267433e-01,  2.76027756e-01,\n",
       "        2.93440682e-01,  3.10497476e-01,  3.27189713e-01,  3.43509283e-01,\n",
       "        3.59448390e-01,  3.74999555e-01,  3.90155616e-01,  4.04909733e-01,\n",
       "        4.19255384e-01,  4.33186368e-01,  4.46696806e-01,  4.59781140e-01,\n",
       "        4.72434134e-01,  4.84650874e-01,  4.96426765e-01,  5.07757536e-01,\n",
       "        5.18639234e-01,  5.29068225e-01,  5.39041195e-01,  5.48555146e-01,\n",
       "        5.57607397e-01,  5.66195579e-01,  5.74317639e-01,  5.81971834e-01,\n",
       "        5.89156732e-01,  5.95871206e-01,  6.02114437e-01,  6.07885909e-01,\n",
       "        6.13185406e-01,  6.18013014e-01,  6.22369112e-01,  6.26254374e-01,\n",
       "        6.29669767e-01,  6.32616545e-01,  6.35096248e-01,  6.37110697e-01,\n",
       "        6.38661996e-01,  6.39752523e-01,  6.40384930e-01,  6.40562140e-01,\n",
       "        6.40287340e-01,  6.39563983e-01,  6.38395779e-01,  6.36786696e-01,\n",
       "        6.34740952e-01,  6.32263014e-01,  6.29357594e-01,  6.26029643e-01,\n",
       "        6.22284347e-01,  6.18127125e-01,  6.13563625e-01,  6.08599714e-01,\n",
       "        6.03241480e-01,  5.97495225e-01,  5.91367459e-01,  5.84864896e-01,\n",
       "        5.77994449e-01,  5.70763227e-01,  5.63178527e-01,  5.55247830e-01,\n",
       "        5.46978796e-01,  5.38379258e-01,  5.29457216e-01,  5.20220834e-01,\n",
       "        5.10678430e-01,  5.00838477e-01,  4.90709587e-01,  4.80300517e-01,\n",
       "        4.69620153e-01,  4.58677509e-01,  4.47481721e-01,  4.36042037e-01,\n",
       "        4.24367815e-01,  4.12468515e-01,  4.00353690e-01,  3.88032986e-01,\n",
       "        3.75516126e-01,  3.62812913e-01,  3.49933218e-01,  3.36886972e-01,\n",
       "        3.23684163e-01,  3.10334830e-01,  2.96849051e-01,  2.83236939e-01,\n",
       "        2.69508637e-01,  2.55674308e-01,  2.41744132e-01,  2.27728294e-01,\n",
       "        2.13636980e-01,  1.99480371e-01,  1.85268636e-01,  1.71011923e-01,\n",
       "        1.56720354e-01,  1.42404018e-01,  1.28072964e-01,  1.13737194e-01,\n",
       "        9.94066590e-02,  8.50912482e-02,  7.08007860e-02,  5.65450243e-02,\n",
       "        4.23336361e-02,  2.81762096e-02,  1.40822421e-02,  6.11336492e-05,\n",
       "       -1.38778187e-02, -2.77254267e-02, -4.14726167e-02, -5.51104353e-02,\n",
       "       -6.86300546e-02, -8.20227781e-02, -9.52800452e-02, -1.08393437e-01,\n",
       "       -1.21354681e-01, -1.34155656e-01, -1.46788397e-01, -1.59245098e-01,\n",
       "       -1.71518121e-01, -1.83599995e-01, -1.95483422e-01, -2.07161283e-01,\n",
       "       -2.18626639e-01, -2.29872736e-01, -2.40893009e-01, -2.51681084e-01,\n",
       "       -2.62230783e-01, -2.72536123e-01, -2.82591326e-01, -2.92390813e-01,\n",
       "       -3.01929215e-01, -3.11201369e-01, -3.20202324e-01, -3.28927340e-01,\n",
       "       -3.37371892e-01, -3.45531674e-01, -3.53402595e-01, -3.60980784e-01,\n",
       "       -3.68262591e-01, -3.75244588e-01, -3.81923569e-01, -3.88296553e-01,\n",
       "       -3.94360781e-01, -4.00113720e-01, -4.05553063e-01, -4.10676725e-01,\n",
       "       -4.15482851e-01, -4.19969806e-01, -4.24136185e-01, -4.27980804e-01,\n",
       "       -4.31502705e-01, -4.34701153e-01, -4.37575636e-01, -4.40125862e-01,\n",
       "       -4.42351763e-01, -4.44253489e-01, -4.45831407e-01, -4.47086103e-01,\n",
       "       -4.48018376e-01, -4.48629242e-01, -4.48919927e-01, -4.48891865e-01,\n",
       "       -4.48546702e-01, -4.47886287e-01, -4.46912673e-01, -4.45628114e-01,\n",
       "       -4.44035065e-01, -4.42136175e-01, -4.39934285e-01, -4.37432431e-01,\n",
       "       -4.34633833e-01, -4.31541898e-01, -4.28160213e-01, -4.24492546e-01,\n",
       "       -4.20542837e-01, -4.16315202e-01, -4.11813921e-01, -4.07043442e-01,\n",
       "       -4.02008373e-01, -3.96713481e-01, -3.91163685e-01, -3.85364055e-01,\n",
       "       -3.79319805e-01, -3.73036295e-01, -3.66519018e-01, -3.59773604e-01,\n",
       "       -3.52805811e-01, -3.45621522e-01, -3.38226740e-01, -3.30627587e-01,\n",
       "       -3.22830292e-01, -3.14841196e-01, -3.06666740e-01, -2.98313462e-01,\n",
       "       -2.89787995e-01, -2.81097059e-01, -2.72247458e-01, -2.63246075e-01,\n",
       "       -2.54099865e-01, -2.44815855e-01, -2.35401132e-01, -2.25862845e-01,\n",
       "       -2.16208195e-01, -2.06444431e-01, -1.96578849e-01, -1.86618779e-01,\n",
       "       -1.76571589e-01, -1.66444672e-01, -1.56245446e-01, -1.45981346e-01,\n",
       "       -1.35659821e-01, -1.25288327e-01, -1.14874323e-01, -1.04425267e-01,\n",
       "       -9.39486079e-02, -8.34517824e-02, -7.29422104e-02, -6.24272886e-02,\n",
       "       -5.19143867e-02, -4.14108417e-02, -3.09239532e-02, -2.04609786e-02,\n",
       "       -1.00291283e-02,  3.64439278e-04,  1.07126221e-02,  2.10083797e-02,\n",
       "        3.12447371e-02,  4.14147900e-02,  5.15117090e-02,  6.15287439e-02,\n",
       "        7.14592283e-02,  8.12965837e-02,  9.10343238e-02,  1.00666059e-01,\n",
       "        1.10185498e-01,  1.19586457e-01,  1.28862858e-01,  1.38008735e-01,\n",
       "        1.47018239e-01,  1.55885639e-01,  1.64605325e-01,  1.73171817e-01,\n",
       "        1.81579760e-01,  1.89823934e-01,  1.97899255e-01,  2.05800774e-01,\n",
       "        2.13523687e-01,  2.21063332e-01,  2.28415193e-01,  2.35574906e-01,\n",
       "        2.42538255e-01,  2.49301180e-01,  2.55859775e-01,  2.62210295e-01,\n",
       "        2.68349152e-01,  2.74272920e-01,  2.79978338e-01,  2.85462308e-01,\n",
       "        2.90721898e-01,  2.95754347e-01,  3.00557058e-01,  3.05127607e-01,\n",
       "        3.09463740e-01,  3.13563374e-01,  3.17424599e-01,  3.21045677e-01,\n",
       "        3.24425045e-01,  3.27561311e-01,  3.30453260e-01,  3.33099848e-01,\n",
       "        3.35500208e-01,  3.37653643e-01,  3.39559633e-01,  3.41217829e-01,\n",
       "        3.42628056e-01,  3.43790310e-01,  3.44704761e-01,  3.45371745e-01,\n",
       "        3.45791772e-01,  3.45965518e-01,  3.45893828e-01,  3.45577712e-01,\n",
       "        3.45018346e-01,  3.44217068e-01,  3.43175379e-01,  3.41894940e-01,\n",
       "        3.40377571e-01,  3.38625246e-01,  3.36640096e-01,  3.34424405e-01,\n",
       "        3.31980605e-01,  3.29311279e-01,  3.26419154e-01,  3.23307101e-01,\n",
       "        3.19978131e-01,  3.16435396e-01,  3.12682181e-01,  3.08721907e-01,\n",
       "        3.04558121e-01,  3.00194502e-01,  2.95634849e-01,  2.90883087e-01,\n",
       "        2.85943256e-01,  2.80819512e-01,  2.75516123e-01,  2.70037465e-01,\n",
       "        2.64388019e-01,  2.58572371e-01,  2.52595201e-01,  2.46461286e-01,\n",
       "        2.40175494e-01,  2.33742780e-01,  2.27168185e-01,  2.20456828e-01,\n",
       "        2.13613906e-01,  2.06644686e-01,  1.99554508e-01,  1.92348774e-01,\n",
       "        1.85032947e-01,  1.77612549e-01,  1.70093154e-01,  1.62480386e-01,\n",
       "        1.54779911e-01,  1.46997442e-01,  1.39138724e-01,  1.31209536e-01,\n",
       "        1.23215689e-01,  1.15163015e-01,  1.07057368e-01,  9.89046213e-02,\n",
       "        9.07106571e-02,  8.24813681e-02,  7.42226510e-02,  6.59404030e-02,\n",
       "        5.76405174e-02,  4.93288800e-02,  4.10113646e-02,  3.26938292e-02,\n",
       "        2.43821120e-02,  1.60820275e-02,  7.79936244e-03, -4.60128175e-04,\n",
       "       -8.69072481e-03, -1.68867473e-02, -2.50425588e-02, -3.31525692e-02,\n",
       "       -4.12112393e-02, -4.92130842e-02, -5.71526770e-02, -6.50246525e-02,\n",
       "       -7.28237104e-02, -8.05446192e-02, -8.81822193e-02, -9.57314267e-02,\n",
       "       -1.03187236e-01, -1.10544723e-01, -1.17799050e-01, -1.24945466e-01,\n",
       "       -1.31979311e-01, -1.38896022e-01, -1.45691130e-01, -1.52360266e-01,\n",
       "       -1.58899164e-01, -1.65303665e-01, -1.71569715e-01, -1.77693371e-01,\n",
       "       -1.83670803e-01, -1.89498296e-01, -1.95172251e-01, -2.00689189e-01,\n",
       "       -2.06045753e-01, -2.11238707e-01, -2.16264942e-01, -2.21121474e-01,\n",
       "       -2.25805450e-01, -2.30314143e-01, -2.34644962e-01, -2.38795446e-01,\n",
       "       -2.42763268e-01, -2.46546237e-01, -2.50142298e-01, -2.53549534e-01,\n",
       "       -2.56766166e-01, -2.59790552e-01, -2.62621193e-01, -2.65256727e-01,\n",
       "       -2.67695934e-01, -2.69937737e-01, -2.71981196e-01, -2.73825516e-01,\n",
       "       -2.75470042e-01, -2.76914263e-01, -2.78157805e-01, -2.79200439e-01,\n",
       "       -2.80042077e-01, -2.80682768e-01, -2.81122705e-01, -2.81362219e-01,\n",
       "       -2.81401779e-01, -2.81241992e-01, -2.80883604e-01, -2.80327495e-01,\n",
       "       -2.79574682e-01, -2.78626315e-01, -2.77483675e-01, -2.76148178e-01,\n",
       "       -2.74621368e-01, -2.72904918e-01, -2.71000626e-01, -2.68910419e-01,\n",
       "       -2.66636345e-01, -2.64180575e-01, -2.61545399e-01, -2.58733226e-01,\n",
       "       -2.55746579e-01, -2.52588098e-01, -2.49260532e-01, -2.45766740e-01,\n",
       "       -2.42109689e-01, -2.38292451e-01, -2.34318197e-01, -2.30190203e-01,\n",
       "       -2.25911838e-01, -2.21486567e-01, -2.16917948e-01, -2.12209627e-01,\n",
       "       -2.07365337e-01, -2.02388894e-01, -1.97284195e-01, -1.92055215e-01,\n",
       "       -1.86706004e-01, -1.81240683e-01, -1.75663443e-01, -1.69978539e-01,\n",
       "       -1.64190290e-01, -1.58303075e-01, -1.52321326e-01, -1.46249531e-01,\n",
       "       -1.40092227e-01, -1.33853997e-01, -1.27539467e-01, -1.21153303e-01,\n",
       "       -1.14700207e-01, -1.08184916e-01, -1.01612194e-01, -9.49868328e-02,\n",
       "       -8.83136477e-02, -8.15974726e-02, -7.48431577e-02, -6.80555662e-02,\n",
       "       -6.12395704e-02, -5.44000487e-02, -4.75418819e-02, -4.06699501e-02,\n",
       "       -3.37891288e-02, -2.69042864e-02, -2.00202798e-02, -1.31419518e-02,\n",
       "       -6.27412746e-03,  5.78388992e-04,  7.41081775e-03,  1.42184065e-02,\n",
       "        2.09964336e-02,  2.77402115e-02,  3.44450897e-02,  4.11064579e-02,\n",
       "        4.77197494e-02,  5.42804438e-02,  6.07840702e-02,  6.72262100e-02,\n",
       "        7.36025003e-02,  7.99086364e-02,  8.61403745e-02,  9.22935350e-02,\n",
       "        9.83640050e-02,  1.04347741e-01,  1.10240771e-01,  1.16039198e-01,\n",
       "        1.21739203e-01,  1.27337044e-01,  1.32829065e-01,  1.38211690e-01,\n",
       "        1.43481432e-01,  1.48634893e-01,  1.53668765e-01,  1.58579834e-01,\n",
       "        1.63364979e-01,  1.68021177e-01,  1.72545505e-01,  1.76935140e-01,\n",
       "        1.81187359e-01,  1.85299545e-01,  1.89269188e-01,  1.93093880e-01,\n",
       "        1.96771326e-01,  2.00299338e-01,  2.03675840e-01,  2.06898867e-01,\n",
       "        2.09966568e-01,  2.12877206e-01,  2.15629158e-01,  2.18220916e-01,\n",
       "        2.20651092e-01,  2.22918412e-01,  2.25021720e-01,  2.26959979e-01,\n",
       "        2.28732271e-01,  2.30337795e-01,  2.31775871e-01,  2.33045939e-01,\n",
       "        2.34147555e-01,  2.35080397e-01,  2.35844262e-01,  2.36439065e-01,\n",
       "        2.36864842e-01,  2.37121744e-01,  2.37210043e-01,  2.37130127e-01,\n",
       "        2.36882501e-01,  2.36467788e-01,  2.35886723e-01,  2.35140159e-01,\n",
       "        2.34229062e-01,  2.33154508e-01,  2.31917690e-01,  2.30519906e-01,\n",
       "        2.28962567e-01,  2.27247191e-01,  2.25375403e-01,  2.23348933e-01,\n",
       "        2.21169615e-01,  2.18839386e-01,  2.16360282e-01,  2.13734440e-01,\n",
       "        2.10964092e-01,  2.08051569e-01,  2.04999291e-01,  2.01809773e-01,\n",
       "        1.98485618e-01,  1.95029519e-01,  1.91444251e-01,  1.87732674e-01,\n",
       "        1.83897730e-01,  1.79942438e-01,  1.75869897e-01,  1.71683275e-01,\n",
       "        1.67385816e-01,  1.62980832e-01,  1.58471703e-01,  1.53861871e-01,\n",
       "        1.49154841e-01,  1.44354178e-01,  1.39463504e-01,  1.34486492e-01,\n",
       "        1.29426870e-01,  1.24288412e-01,  1.19074938e-01,  1.13790312e-01,\n",
       "        1.08438437e-01,  1.03023255e-01,  9.75487416e-02,  9.20189035e-02,\n",
       "        8.64377769e-02,  8.08094241e-02,  7.51379299e-02,  6.94273998e-02,\n",
       "        6.36819562e-02,  5.79057357e-02,  5.21028867e-02,  4.62775656e-02,\n",
       "        4.04339348e-02,  3.45761591e-02,  2.87084030e-02,  2.28348279e-02,\n",
       "        1.69595891e-02,  1.10868329e-02,  5.22069386e-03, -6.34708213e-04,\n",
       "       -6.47527106e-03, -1.22969128e-02, -1.80955746e-02, -2.38672238e-02,\n",
       "       -2.96078563e-02, -3.53134993e-02, -4.09802144e-02, -4.66041000e-02,\n",
       "       -5.21812937e-02, -5.77079754e-02, -6.31803696e-02, -6.85947480e-02,\n",
       "       -7.39474318e-02, -7.92347946e-02, -8.44532643e-02, -8.95993260e-02,\n",
       "       -9.46695239e-02, -9.96604637e-02, -1.04568815e-01, -1.09391313e-01,\n",
       "       -1.14124762e-01, -1.18766035e-01, -1.23312078e-01, -1.27759912e-01,\n",
       "       -1.32106632e-01, -1.36349413e-01, -1.40485509e-01, -1.44512256e-01,\n",
       "       -1.48427071e-01, -1.52227458e-01, -1.55911008e-01, -1.59475397e-01,\n",
       "       -1.62918392e-01, -1.66237851e-01, -1.69431724e-01, -1.72498052e-01,\n",
       "       -1.75434973e-01, -1.78240718e-01, -1.80913617e-01, -1.83452094e-01,\n",
       "       -1.85854675e-01, -1.88119982e-01, -1.90246739e-01, -1.92233768e-01,\n",
       "       -1.94079993e-01, -1.95784442e-01, -1.97346242e-01, -1.98764622e-01,\n",
       "       -2.00038916e-01, -2.01168560e-01, -2.02153092e-01, -2.02992155e-01,\n",
       "       -2.03685493e-01, -2.04232955e-01, -2.04634491e-01, -2.04890156e-01,\n",
       "       -2.05000106e-01, -2.04964599e-01, -2.04783996e-01, -2.04458757e-01,\n",
       "       -2.03989445e-01, -2.03376722e-01, -2.02621349e-01, -2.01724186e-01,\n",
       "       -2.00686191e-01, -1.99508417e-01, -1.98192016e-01, -1.96738232e-01,\n",
       "       -1.95148405e-01, -1.93423965e-01, -1.91566437e-01, -1.89577432e-01,\n",
       "       -1.87458653e-01, -1.85211888e-01, -1.82839014e-01, -1.80341989e-01,\n",
       "       -1.77722855e-01, -1.74983737e-01, -1.72126837e-01, -1.69154437e-01,\n",
       "       -1.66068893e-01, -1.62872636e-01, -1.59568171e-01, -1.56158072e-01,\n",
       "       -1.52644980e-01, -1.49031606e-01, -1.45320722e-01, -1.41515165e-01,\n",
       "       -1.37617831e-01, -1.33631674e-01, -1.29559704e-01, -1.25404985e-01,\n",
       "       -1.21170632e-01, -1.16859810e-01, -1.12475729e-01, -1.08021645e-01,\n",
       "       -1.03500856e-01, -9.89166985e-02, -9.42725471e-02, -8.95718111e-02,\n",
       "       -8.48179320e-02, -8.00143813e-02, -7.51646576e-02, -7.02722846e-02,\n",
       "       -6.53408082e-02, -6.03737942e-02, -5.53748255e-02, -5.03474999e-02,\n",
       "       -4.52954272e-02, -4.02222269e-02, -3.51315255e-02, -3.00269542e-02,\n",
       "       -2.49121459e-02, -1.97907330e-02, -1.46663448e-02, -9.54260496e-03,\n",
       "       -4.42312879e-03,  6.88478982e-04,  5.78862690e-03,  1.08737392e-02,\n",
       "        1.59402583e-02,  2.09846472e-02,  2.60033922e-02,  3.09930047e-02,\n",
       "        3.59500242e-02,  4.08710206e-02,  4.57525960e-02,  5.05913878e-02,\n",
       "        5.53840704e-02,  6.01273575e-02,  6.48180048e-02,  6.94528115e-02,\n",
       "        7.40286232e-02,  7.85423333e-02,  8.29908855e-02,  8.73712759e-02,\n",
       "        9.16805547e-02,  9.59158284e-02,  1.00074262e-01,  1.04153079e-01,\n",
       "        1.08149567e-01,  1.12061075e-01,  1.15885019e-01,  1.19618882e-01,\n",
       "        1.23260214e-01,  1.26806637e-01,  1.30255844e-01,  1.33605600e-01,\n",
       "        1.36853748e-01,  1.39998203e-01,  1.43036961e-01,  1.45968094e-01,\n",
       "        1.48789755e-01,  1.51500177e-01,  1.54097676e-01,  1.56580650e-01,\n",
       "        1.58947582e-01,  1.61197040e-01,  1.63327676e-01,  1.65338230e-01,\n",
       "        1.67227528e-01,  1.68994486e-01,  1.70638106e-01,  1.72157479e-01,\n",
       "        1.73551788e-01,  1.74820303e-01,  1.75962386e-01,  1.76977487e-01,\n",
       "        1.77865149e-01,  1.78625005e-01,  1.79256778e-01,  1.79760283e-01,\n",
       "        1.80135425e-01,  1.80382199e-01,  1.80500693e-01,  1.80491081e-01,\n",
       "        1.80353631e-01,  1.80088699e-01,  1.79696728e-01,  1.79178254e-01,\n",
       "        1.78533897e-01,  1.77764366e-01,  1.76870458e-01,  1.75853053e-01,\n",
       "        1.74713120e-01,  1.73451708e-01,  1.72069954e-01,  1.70569075e-01])"
      ]
     },
     "execution_count": 11,
     "metadata": {},
     "output_type": "execute_result"
    }
   ],
   "source": [
    "jellium.βP_ee"
   ]
  },
  {
   "cell_type": "markdown",
   "id": "0bb4b761-de89-4a6a-b70b-3059659266a5",
   "metadata": {},
   "source": [
    "#### Pressures"
   ]
  },
  {
   "cell_type": "code",
   "execution_count": 8,
   "id": "5a880169-ccec-4862-907b-74e59b55b2e7",
   "metadata": {},
   "outputs": [
    {
     "data": {
      "text/plain": [
       "(51.803654302600016, -33887.836386445306, 51.739302540025804)"
      ]
     },
     "execution_count": 8,
     "metadata": {},
     "output_type": "execute_result"
    }
   ],
   "source": [
    "P_Fermi_Mbar = 2/5 * jellium.qsp.E_F/(4/3*π*(jellium.qsp.ri)**3) * AU_to_bar/1e6\n",
    "\n",
    "P_hnc_to_Mbar(jellium.jellium_hnc.ideal_pressure()),get_jellium_P_Mbar( jellium.jellium_hnc), P_Fermi_Mbar"
   ]
  },
  {
   "cell_type": "markdown",
   "id": "59c8c31c-0766-4dc8-97d3-13625793603d",
   "metadata": {},
   "source": [
    "##### Plot Radial Dsitribution Function"
   ]
  },
  {
   "cell_type": "code",
   "execution_count": 9,
   "id": "36a78c27-9108-4263-8104-51ada82259dc",
   "metadata": {},
   "outputs": [
    {
     "name": "stderr",
     "output_type": "stream",
     "text": [
      "Missing colon in file '~/plasma/hnc/hnc_paper.mplstyle', line 40 (\"text.latex.preamble = r'\\\\boldmath'\")\n"
     ]
    },
    {
     "data": {
      "text/plain": [
       "(0.0, 5.0)"
      ]
     },
     "execution_count": 9,
     "metadata": {},
     "output_type": "execute_result"
    },
    {
     "data": {
      "image/png": "[encoded data removed]",
      "text/plain": [
       "<Figure size 800x600 with 1 Axes>"
      ]
     },
     "metadata": {},
     "output_type": "display_data"
    }
   ],
   "source": [
    "plt.style.use('~/plasma/hnc/hnc_paper.mplstyle')\n",
    "\n",
    "fig, ax = plt.subplots()\n",
    "\n",
    "ax.plot(jellium.jellium_hnc.r_array, jellium.jellium_hnc.h_r_matrix[0,0]+1,'.', label='Default Pauli')\n",
    "# ax.plot(jellium.jellium_hnc.r_array, jellium.jellium_hnc.h_r_matrix[0,0]+1, label='Default Pauli')\n",
    "\n",
    "\n",
    "ax.set_xlabel(r\"$r/r_s$\")\n",
    "ax.set_ylabel(r\"$g_{ee}$\")\n",
    "\n",
    "ax.set_ylim(0,1.2)\n",
    "ax.set_xlim(0,5)"
   ]
  },
  {
   "cell_type": "markdown",
   "id": "532449d3-d5ca-4835-a4b3-704a77d66a5d",
   "metadata": {},
   "source": [
    "#### Plot βu"
   ]
  },
  {
   "cell_type": "code",
   "execution_count": 10,
   "id": "9bf9eb52-dd8d-4f1a-afb9-a489772a904a",
   "metadata": {},
   "outputs": [
    {
     "name": "stderr",
     "output_type": "stream",
     "text": [
      "Missing colon in file '~/plasma/hnc/hnc_paper.mplstyle', line 40 (\"text.latex.preamble = r'\\\\boldmath'\")\n"
     ]
    },
    {
     "data": {
      "text/plain": [
       "<matplotlib.legend.Legend at 0x7fe3767bac50>"
      ]
     },
     "execution_count": 10,
     "metadata": {},
     "output_type": "execute_result"
    },
    {
     "data": {
      "image/png": "[encoded data removed]",
      "text/plain": [
       "<Figure size 800x600 with 1 Axes>"
      ]
     },
     "metadata": {},
     "output_type": "display_data"
    }
   ],
   "source": [
    "plt.style.use('~/plasma/hnc/hnc_paper.mplstyle')\n",
    "\n",
    "fig, ax = plt.subplots()\n",
    "\n",
    "ax.plot(jellium.jellium_hnc.r_array, jellium.βP_ee, label='HNC Pauli')\n",
    "ax.plot(jellium.jellium_hnc.r_array, jellium.qsp.βv_Pauli(  jellium.jellium_hnc.r_array , jellium.qsp.Λee ), label='Default Pauli')\n",
    "\n",
    "ax.set_xlabel(r\"$r/r_s$\")\n",
    "ax.set_ylabel(r\"$\\beta P_{ee}$\")\n",
    "\n",
    "# ax.set_ylim(0,1.2)\n",
    "ax.set_xlim(0,5)\n",
    "ax.legend()"
   ]
  },
  {
   "cell_type": "code",
   "execution_count": null,
   "id": "e5871246-193b-4e39-a655-7bd24b581b5d",
   "metadata": {},
   "outputs": [],
   "source": []
  }
 ],
 "metadata": {
  "kernelspec": {
   "display_name": "Python 3 (ipykernel)",
   "language": "python",
   "name": "python3"
  },
  "language_info": {
   "codemirror_mode": {
    "name": "ipython",
    "version": 3
   },
   "file_extension": ".py",
   "mimetype": "text/x-python",
   "name": "python",
   "nbconvert_exporter": "python",
   "pygments_lexer": "ipython3",
   "version": "3.10.6"
  }
 },
 "nbformat": 4,
 "nbformat_minor": 5
}
