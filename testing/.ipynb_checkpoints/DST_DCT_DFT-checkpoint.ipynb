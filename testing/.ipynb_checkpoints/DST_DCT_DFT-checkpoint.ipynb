{
 "cells": [
  {
   "cell_type": "code",
   "execution_count": 1,
   "id": "11acc1c5-4941-4d80-b4b7-3fc34a95d1dc",
   "metadata": {
    "tags": []
   },
   "outputs": [
    {
     "data": {
      "text/html": [
       "\n",
       "<style>\n",
       ".output_png {\n",
       "    display: table-cell;\n",
       "    text-align: center;\n",
       "    vertical-align: middle;\n",
       "}\n",
       "\n",
       "</style>\n"
      ],
      "text/plain": [
       "<IPython.core.display.HTML object>"
      ]
     },
     "execution_count": 1,
     "metadata": {},
     "output_type": "execute_result"
    }
   ],
   "source": [
    "import numpy as np\n",
    "import matplotlib.pyplot as plt\n",
    "from pandas import read_csv\n",
    "\n",
    "from hnc.hnc.hnc import Integral_Equation_Solver as IET\n",
    "from hnc.hnc.constants import *\n",
    "from hnc.hnc.misc import n_from_rs, rs_from_n\n",
    "\n",
    "from pandas import read_csv\n",
    "from scipy.fft import fft, ifft, fftshift, ifftshift, dct, dst\n",
    "import tt as ttpy\n",
    "\n",
    "from liquids.python.qtt_core.qtt_util import *\n",
    "\n",
    "prop_cycle = plt.rcParams['axes.prop_cycle']\n",
    "colors = prop_cycle.by_key()['color']\n",
    "                \n",
    "from IPython.core.display import HTML\n",
    "HTML(\"\"\"\n",
    "<style>\n",
    ".output_png {\n",
    "    display: table-cell;\n",
    "    text-align: center;\n",
    "    vertical-align: middle;\n",
    "}\n",
    "\n",
    "</style>\n",
    "\"\"\")\n",
    "\n",
    "# import "
   ]
  },
  {
   "cell_type": "code",
   "execution_count": 2,
   "id": "e2034cff-82e2-4817-a87f-469e487e0244",
   "metadata": {},
   "outputs": [
    {
     "name": "stdout",
     "output_type": "stream",
     "text": [
      "0: Initial condition Total Error: 8.513e-01\n",
      "Exiting status 0, reverting to best index so far: 387\n",
      "Final iter:388, Total Error: 9.515e-11\n"
     ]
    }
   ],
   "source": [
    "Γ, κ = 100, 3\n",
    "N_bits = 6\n",
    "iet = IET(1, [[Γ]], [[3/(4*π)]], [[1]], [1], kappa = κ, dst_type=4, N_bins = 2**N_bits, R_max = 100)\n",
    "iet.HNC_solve(tol=1e-10, num_iterations=1e5, iters_to_wait=1e4)\n",
    "h_r_matrix = iet.h_r_matrix\n",
    "h_r_array = np.exp(-(iet.r_array-40)**2/(2*1**2)) #iet.h_r_matrix[0,0]\n"
   ]
  },
  {
   "cell_type": "code",
   "execution_count": 3,
   "id": "8e09d6b0-1cdc-4a61-b4de-326c0939389c",
   "metadata": {},
   "outputs": [],
   "source": [
    "def dct_type1(x):\n",
    "    \"\"\"\n",
    "    Pure-polynomial DCT-I (no special sqrt scaling).\n",
    "    \"\"\"\n",
    "    N = len(x)\n",
    "\n",
    "    # 1) build the extended array of length 2*(N-1)\n",
    "    #    [ x[0], x[1], ..., x[N-2], x[N-1], x[N-2], ..., x[1] ]\n",
    "    M = 2*(N-1)\n",
    "    x_ext = np.zeros(M, dtype=complex)\n",
    "    x_ext[:N] = x\n",
    "    x_ext[N:M] = x[-2:0:-1]  # reversed from x[N-2] down to x[1]\n",
    "\n",
    "    # 2) take DFT\n",
    "    X_ext = fft(x_ext)\n",
    "\n",
    "    # 3) the standard DCT-I is basically the real part of\n",
    "    #    (X_ext[k] + X_ext[M - k]) / 2, for k=0..N-1\n",
    "    #    but if you look carefully, for k=0..N-1:\n",
    "    #        X_ext[M - k] = X_ext[2N-2 - k].\n",
    "    #    We can just do the \"average\" in code. Often it's enough to take X_ext[k].real,\n",
    "    #    or do 0.5 * (X_ext[k] + conj(X_ext[M-k])) if you want guaranteed real.\n",
    "    \n",
    "    # We'll form the length-N result:\n",
    "    X = 0.5 * (X_ext[:N] + np.conjugate(X_ext[M : M - N : -1]))\n",
    "    return X.real\n",
    "def dct_type4(x):\n",
    "    \"\"\"\n",
    "    Pure-polynomial DCT-IV (no extra sqrt scaling).\n",
    "    \"\"\"\n",
    "    N = len(x)\n",
    "    n = np.arange(N)\n",
    "\n",
    "    # pre-twiddle for half-integer shift in time\n",
    "    pre_twiddle = np.exp(-1j * np.pi * (n + 0.5) / (2*N))\n",
    "    x_ext = np.zeros(2*N, dtype=complex)\n",
    "    x_ext[:N] = x * pre_twiddle\n",
    "\n",
    "    X_ext = fft(x_ext)\n",
    "\n",
    "    # post-twiddle for half-integer shift in frequency\n",
    "    post_twiddle = np.exp(-1j * np.pi * (n + 0.5) / (2*N))\n",
    "    return 2.0 * (X_ext[:N] * post_twiddle).real\n",
    "def dct_type2(vec_r):\n",
    "    N = len(vec_r)\n",
    "    vec_r_ext = np.zeros(2*N)\n",
    "    vec_r_ext[:N] = vec_r\n",
    "    return 2*(fft(vec_r_ext)[:N]*np.exp(-1j*np.arange(N)*π/2/N)).real\n"
   ]
  },
  {
   "cell_type": "code",
   "execution_count": 4,
   "id": "940966da-be05-4a07-85d3-e6e703f18882",
   "metadata": {},
   "outputs": [],
   "source": [
    "\n",
    "def dst_type4(vec_r):\n",
    "    N = len(vec_r)\n",
    "    n_array = np.arange(N) \n",
    "    vec_r_ext = np.zeros(2*N)\n",
    "    vec_r_ext[:N] = vec_r*np.exp(-1j*π*n_array/2/N)\n",
    "    return -2*(fft(vec_r_ext)[:N]*np.exp(-1j*(n_array + 1/2)*π/2/N)).imag\n"
   ]
  },
  {
   "cell_type": "code",
   "execution_count": 5,
   "id": "8c680f96-29a7-4548-b102-bdc8cea947ad",
   "metadata": {},
   "outputs": [
    {
     "name": "stderr",
     "output_type": "stream",
     "text": [
      "/home/zach/anaconda3/envs/tts/lib/python3.6/site-packages/ipykernel_launcher.py:5: ComplexWarning: Casting complex values to real discards the imaginary part\n",
      "  \"\"\"\n"
     ]
    }
   ],
   "source": [
    "h_dst3 = dst(h_r_array, type=3)\n",
    "h_dst4 = dst(h_r_array, type=4)\n",
    "\n",
    "# h_dst3_attempt = dst_type3(h_r_matrix[0,0])\n",
    "h_dst4_attempt = dst_type4(h_r_array)\n"
   ]
  },
  {
   "cell_type": "code",
   "execution_count": 6,
   "id": "332ab3dc-eff4-4819-b2c6-5e468e6386df",
   "metadata": {},
   "outputs": [
    {
     "data": {
      "text/plain": [
       "[<matplotlib.lines.Line2D at 0x794d33d32358>]"
      ]
     },
     "execution_count": 6,
     "metadata": {},
     "output_type": "execute_result"
    },
    {
     "data": {
      "image/png": "[encoded data removed]",
      "text/plain": [
       "<Figure size 432x288 with 1 Axes>"
      ]
     },
     "metadata": {
      "needs_background": "light"
     },
     "output_type": "display_data"
    }
   ],
   "source": [
    "fig, ax = plt.subplots()\n",
    "\n",
    "ax.plot(iet.k_array, h_dst3)\n",
    "ax.plot(iet.k_array, h_dst4)\n",
    "# ax.plot(iet.k_array, h_dst3_attempt, '--')\n",
    "ax.plot(iet.k_array, h_dst4_attempt, '--')\n",
    "\n",
    "\n",
    "# ax.plot(iet.k_array, βu_dct4) \n",
    "# ax.plot(iet.k_array, βu_dct4_attempt) \n",
    "\n",
    "# ax.plot(iet.k_array, βu_dct2) \n",
    "# ax.plot(iet.k_array, βu_dct2_attempt) \n",
    "# ax.set_yscale('symlog')\n",
    "# ax.set_xscale('symlog')"
   ]
  },
  {
   "cell_type": "markdown",
   "id": "664fde64-b4a2-450b-aa31-1dfdef021904",
   "metadata": {},
   "source": [
    "### QTT Tests on Converged Sims"
   ]
  },
  {
   "cell_type": "code",
   "execution_count": 7,
   "id": "03b147b6-66b2-4627-b179-ccf4bc7ecef3",
   "metadata": {},
   "outputs": [],
   "source": [
    "βu_r_array = iet.βu_k_matrix[0,0]\n",
    "βu_r_bt = tensor_to_binarytensor(βu_r_array)\n",
    "βu_r_qtt = ttpy.vector(βu_r_bt, eps=1e-4)\n",
    "\n",
    "# h_r_array = np.exp(-(iet.r_array-40)**2/(2*1**2)) #iet.h_r_matrix[0,0]\n",
    "# h_r_array = h_r_matrix[0,0]\n",
    "h_r_bt = tensor_to_binarytensor(h_r_array)\n",
    "h_r_qtt = ttpy.vector(h_r_bt, eps=1e-12)\n",
    "\n",
    "c_r_array = iet.c_k_matrix[0,0]\n",
    "c_r_bt = tensor_to_binarytensor(c_r_array)\n",
    "c_r_qtt = ttpy.vector(c_r_bt, eps=1e-4)\n",
    "\n",
    "c_r_array = iet.γs_r_matrix[0,0]\n",
    "c_r_bt = tensor_to_binarytensor(c_r_array)\n",
    "c_r_qtt = ttpy.vector(c_r_bt, eps=1e-4)"
   ]
  },
  {
   "cell_type": "code",
   "execution_count": 52,
   "id": "055ab7f4-8dc5-46f3-a1bd-df823d9cd956",
   "metadata": {},
   "outputs": [
    {
     "name": "stdout",
     "output_type": "stream",
     "text": [
      "[(1, 2, 2), (2, 2, 2), (2, 2, 2), (2, 2, 1), (1, 2, 1), (1, 2, 1), (1, 2, 1)]\n",
      "[(2, 2, 2), (2, 2, 2), (2, 2, 1), (1, 2, 1), (1, 2, 1), (1, 2, 1)]\n",
      "6\n"
     ]
    }
   ],
   "source": [
    "\n",
    "def dst_type4_qtt(qtt_r):\n",
    "    N_bits = qtt_r.d\n",
    "    N_grid = 2**N_bits\n",
    "    n_array = np.arange(N_grid) \n",
    "    qtt_first_phase_shift = ttpy.vector(tensor_to_binarytensor(np.exp(-1j*π*n_array/2/N_grid)))\n",
    "    qtt_r = qtt_r*qtt_first_phase_shift\n",
    "    # Extend by filling new half of space with zeros\n",
    "    qtt_r_extended = ttpy.vector.from_list( [ np.array([1,0]).reshape(1,2,1) ] + qtt_r.to_list(qtt_r))\n",
    "    qtt_r_extended_fft = qtt_r_extended.qtt_fft1(tol=1e-4)\n",
    "    qtt_r_extended_fft.cores = qtt_r_extended_fft.to_list(qtt_r_extended_fft)\n",
    "    qtt_r_extended_fft.cores[0][0,0,:]\n",
    "    print([core.shape for core in ])\n",
    "\n",
    "    # Now back to only first half\n",
    "    qtt_r_fft = ttpy.vector.from_list(qtt_r_extended_fft.to_list(qtt_r_extended_fft)[1:]).round(eps=1e-4)\n",
    "    print([core.shape for core in h_k_qtt.to_list(qtt_r_fft)])\n",
    "    # # add phase\n",
    "    qtt_second_phase_shift = ttpy.vector(tensor_to_binarytensor(np.exp(-1j*π*(n_array+0.5)/2/N_grid)))\n",
    "    cores = [(core1*core2) for core1, core2 in zip(qtt_r_fft.to_list(qtt_r_fft), qtt_second_phase_shift.to_list(qtt_second_phase_shift))] \n",
    "    print(len(cores))\n",
    "    # print(qtt_r_fft*qtt_second_phase_shift)\n",
    "    # print(np.unique(np.isnan(qtt_r_fft.full())), np.unique(np.isnan(qtt_second_phase_shift.full())))\n",
    "    \n",
    "#     print(qtt_r_fft.full(), qtt_second_phase_shift.full())\n",
    "#     print(get_tt_compression(qtt_second_phase_shift))\n",
    "#     print(get_tt_compression(qtt_r_fft))\n",
    "    qtt_k_fft = ttpy.vector.from_list(cores)#qtt_r_fft*qtt_second_phase_shift\n",
    "    return -2*(qtt_k_fft.imag())\n",
    "h_k_qtt = dst_type4_qtt(h_r_qtt)"
   ]
  },
  {
   "cell_type": "code",
   "execution_count": 44,
   "id": "9088e01a-7078-4188-b619-ee2bcb218f50",
   "metadata": {},
   "outputs": [
    {
     "data": {
      "text/plain": [
       "(This is a 6-dimensional tensor \n",
       " r(0)=1, n(0)=2 \n",
       " r(1)=1, n(1)=2 \n",
       " r(2)=1, n(2)=2 \n",
       " r(3)=2, n(3)=2 \n",
       " r(4)=3, n(4)=2 \n",
       " r(5)=2, n(5)=2 \n",
       " r(6)=1 ,\n",
       " This is a 6-dimensional tensor \n",
       " r(0)=2, n(0)=2 \n",
       " r(1)=4, n(1)=2 \n",
       " r(2)=4, n(2)=2 \n",
       " r(3)=2, n(3)=2 \n",
       " r(4)=2, n(4)=2 \n",
       " r(5)=2, n(5)=2 \n",
       " r(6)=1 )"
      ]
     },
     "execution_count": 44,
     "metadata": {},
     "output_type": "execute_result"
    }
   ],
   "source": [
    "h_r_qtt, h_k_qtt"
   ]
  },
  {
   "cell_type": "code",
   "execution_count": 50,
   "id": "27190794-9d57-4f7a-a120-2474b3f7fba4",
   "metadata": {},
   "outputs": [
    {
     "data": {
      "text/plain": [
       "[(1, 2, 1), (1, 2, 1), (1, 2, 2), (2, 2, 3), (3, 2, 2), (2, 2, 1)]"
      ]
     },
     "execution_count": 50,
     "metadata": {},
     "output_type": "execute_result"
    }
   ],
   "source": [
    "[core.shape for core in h_k_qtt.to_list(h_r_qtt)]"
   ]
  },
  {
   "cell_type": "code",
   "execution_count": 49,
   "id": "96b81dca-310d-4d57-ab0b-258d138f55c8",
   "metadata": {},
   "outputs": [
    {
     "data": {
      "text/plain": [
       "[(2, 2, 4), (4, 2, 4), (4, 2, 2), (2, 2, 2), (2, 2, 2), (2, 2, 1)]"
      ]
     },
     "execution_count": 49,
     "metadata": {},
     "output_type": "execute_result"
    }
   ],
   "source": [
    "[core.shape for core in h_k_qtt.to_list(h_k_qtt)]"
   ]
  },
  {
   "cell_type": "code",
   "execution_count": 26,
   "id": "f3a1c1bc-9b1c-4d27-84f9-0af41fcbd440",
   "metadata": {},
   "outputs": [
    {
     "name": "stdout",
     "output_type": "stream",
     "text": [
      "6\n"
     ]
    },
    {
     "ename": "ValueError",
     "evalue": "cannot reshape array of size 128 into shape (64,)",
     "output_type": "error",
     "traceback": [
      "\u001b[0;31m---------------------------------------------------------------------------\u001b[0m",
      "\u001b[0;31mValueError\u001b[0m                                Traceback (most recent call last)",
      "\u001b[0;32m<ipython-input-26-1af7b2987e4d>\u001b[0m in \u001b[0;36m<module>\u001b[0;34m\u001b[0m\n\u001b[1;32m      5\u001b[0m \u001b[0;31m# ax.plot(iet.k_array, h_dst3_attempt, '--')\u001b[0m\u001b[0;34m\u001b[0m\u001b[0;34m\u001b[0m\u001b[0;34m\u001b[0m\u001b[0m\n\u001b[1;32m      6\u001b[0m \u001b[0max\u001b[0m\u001b[0;34m.\u001b[0m\u001b[0mplot\u001b[0m\u001b[0;34m(\u001b[0m\u001b[0miet\u001b[0m\u001b[0;34m.\u001b[0m\u001b[0mk_array\u001b[0m\u001b[0;34m,\u001b[0m \u001b[0mh_dst4_attempt\u001b[0m\u001b[0;34m,\u001b[0m \u001b[0;34m'--'\u001b[0m\u001b[0;34m)\u001b[0m\u001b[0;34m\u001b[0m\u001b[0;34m\u001b[0m\u001b[0m\n\u001b[0;32m----> 7\u001b[0;31m \u001b[0max\u001b[0m\u001b[0;34m.\u001b[0m\u001b[0mplot\u001b[0m\u001b[0;34m(\u001b[0m\u001b[0miet\u001b[0m\u001b[0;34m.\u001b[0m\u001b[0mk_array\u001b[0m\u001b[0;34m,\u001b[0m \u001b[0;36m2.8\u001b[0m\u001b[0;34m*\u001b[0m\u001b[0mdst_type4_qtt\u001b[0m\u001b[0;34m(\u001b[0m\u001b[0mh_r_qtt\u001b[0m\u001b[0;34m)\u001b[0m\u001b[0;34m.\u001b[0m\u001b[0mfull\u001b[0m\u001b[0;34m(\u001b[0m\u001b[0;34m)\u001b[0m\u001b[0;34m.\u001b[0m\u001b[0mreshape\u001b[0m\u001b[0;34m(\u001b[0m\u001b[0;36m2\u001b[0m\u001b[0;34m**\u001b[0m\u001b[0mN_bits\u001b[0m\u001b[0;34m,\u001b[0m \u001b[0morder\u001b[0m\u001b[0;34m=\u001b[0m\u001b[0;34m'F'\u001b[0m\u001b[0;34m)\u001b[0m\u001b[0;34m,\u001b[0m\u001b[0;34m'k--'\u001b[0m\u001b[0;34m)\u001b[0m\u001b[0;34m\u001b[0m\u001b[0;34m\u001b[0m\u001b[0m\n\u001b[0m",
      "\u001b[0;31mValueError\u001b[0m: cannot reshape array of size 128 into shape (64,)"
     ]
    },
    {
     "data": {
      "image/png": "[encoded data removed]",
      "text/plain": [
       "<Figure size 432x288 with 1 Axes>"
      ]
     },
     "metadata": {
      "needs_background": "light"
     },
     "output_type": "display_data"
    }
   ],
   "source": [
    "fig, ax = plt.subplots()\n",
    "\n",
    "ax.plot(iet.k_array, h_dst3)\n",
    "ax.plot(iet.k_array, h_dst4)\n",
    "# ax.plot(iet.k_array, h_dst3_attempt, '--')\n",
    "ax.plot(iet.k_array, h_dst4_attempt, '--')\n",
    "ax.plot(iet.k_array, 2.8*dst_type4_qtt(h_r_qtt).full().reshape(2**N_bits, order='F'),'k--')\n"
   ]
  },
  {
   "cell_type": "code",
   "execution_count": null,
   "id": "2522211c-945c-44f6-8e87-c3f64084849f",
   "metadata": {},
   "outputs": [],
   "source": [
    "h_r_qtt_cores = h_r_qtt.to_list(h_r_qtt)\n",
    "[core.shape for core in h_r_qtt_cores]\n",
    "h_r_qtt_extended = ttpy.vector.from_list( [ np.array([1,0]).reshape(1,2,1) ] + h_r_qtt_cores)\n",
    "\n",
    "fig, ax = plt.subplots()\n",
    "\n",
    "ax.plot(binarytensor_to_tensor(h_r_qtt_extended.full()))\n",
    "ax.plot(binarytensor_to_tensor(h_r_qtt.full()),'--')"
   ]
  },
  {
   "cell_type": "code",
   "execution_count": null,
   "id": "829847b1-21fa-45b7-baff-dbabb6b38d30",
   "metadata": {},
   "outputs": [],
   "source": [
    "h_fft_qtt = h_r_qtt.qtt_fft1(1e-12)\n",
    "# h_fft_qtt = qtt_fft1(h_r_qtt, 1e-4)\n",
    "# h_fft_ifft_qtt = h_fft_qtt.qtt_fft1(1e-4, inverse=True)\n",
    "binarytensor_to_tensor(h_fft_qtt.full())"
   ]
  },
  {
   "cell_type": "code",
   "execution_count": null,
   "id": "f5e62466-8ba1-4446-9742-6290ebdd4bf5",
   "metadata": {},
   "outputs": [],
   "source": [
    "h_fft_qtt = h_r_qtt.qtt_fft1(1e-12)\n",
    "# h_fft_qtt = qtt_fft1(h_r_qtt, 1e-4)\n",
    "# h_fft_ifft_qtt = h_fft_qtt.qtt_fft1(1e-4, inverse=True)\n",
    "binarytensor_to_tensor(h_fft_qtt.full())\n",
    "\n",
    "fig, ax = plt.subplots()\n",
    "\n",
    "# ax.plot(iet.k_array, 120*binarytensor_to_tensor(h_fft_qtt.full()))\n",
    "ax.plot(iet.k_array, fftshift(fft(h_r_array)))\n",
    "\n",
    "ax.set_yscale('symlog')\n",
    "ax.set_xscale('symlog')\n",
    "ax.set_xlim(60, 70)"
   ]
  },
  {
   "cell_type": "code",
   "execution_count": null,
   "id": "2df47f55-d1eb-44f6-b8aa-642e685580f6",
   "metadata": {},
   "outputs": [],
   "source": [
    "fig, ax = plt.subplots()\n",
    "\n",
    "ax.plot(iet.r_array, binarytensor_to_tensor(h_r_qtt.full()))\n",
    "ax.plot(iet.r_array, binarytensor_to_tensor(h_fft_ifft_qtt.full()))\n",
    "ax.plot(iet.r_array, h_r_array)\n",
    "\n",
    "ax.set_yscale('symlog')\n",
    "ax.set_xscale('symlog')"
   ]
  },
  {
   "cell_type": "code",
   "execution_count": null,
   "id": "c7a7d132-ac28-4c06-afa0-4744e86bbcde",
   "metadata": {},
   "outputs": [],
   "source": [
    "iet.plot_g_all_species()"
   ]
  },
  {
   "cell_type": "code",
   "execution_count": null,
   "id": "cd6286b9-fcad-4ab6-87ff-c0571da2e39f",
   "metadata": {},
   "outputs": [],
   "source": [
    "get_bigtable(βu_r_array, βu_r_bt, np.nan, βu_r_qtt, [0,0,0,0])\n",
    "get_bigtable(h_r_array, h_r_bt, np.nan, h_r_qtt, [0,0,0,0])\n",
    "get_bigtable(c_r_array, c_r_bt, np.nan, c_r_qtt, [0,0,0,0])"
   ]
  },
  {
   "cell_type": "code",
   "execution_count": null,
   "id": "b68196ec-7b3c-47f8-887a-c57b79236a36",
   "metadata": {},
   "outputs": [],
   "source": [
    "qtt_fft1(h_r_qtt, 1e-4)"
   ]
  },
  {
   "cell_type": "code",
   "execution_count": null,
   "id": "9bfcbf5a-1aa1-4ca0-b481-d286a367e707",
   "metadata": {
    "scrolled": true,
    "tags": []
   },
   "outputs": [],
   "source": [
    "import numpy as np\n",
    "\n",
    "def my_chop2(s, eps):\n",
    "    \"\"\"\n",
    "    Truncates singular values s so that the tail is under eps.\n",
    "    Returns the rank rnew to keep.\n",
    "    \"\"\"\n",
    "    ssq = np.cumsum(s[::-1]**2)\n",
    "    ssq = np.sqrt(ssq)\n",
    "    rmax = len(s)\n",
    "    for i in range(rmax):\n",
    "        if ssq[i] > eps:\n",
    "            return rmax - i\n",
    "    return 1\n",
    "\n",
    "def qtt_fft1(self, tol, inverse=False, bitReverse=True):\n",
    "    \"\"\"\n",
    "    Compute 1D (inverse) Discrete Fourier Transform in QTT format.\n",
    "    \n",
    "    Parameters\n",
    "    ----------\n",
    "    tol : float\n",
    "        Tolerance for rank truncations via SVD.\n",
    "    inverse : bool\n",
    "        If True, compute inverse FFT (positive sign in exponent).\n",
    "    bitReverse : bool\n",
    "        Whether to reverse the QTT cores at the end.\n",
    "\n",
    "    Returns\n",
    "    -------\n",
    "    y_out : QTT object\n",
    "        The QTT-FFT result.\n",
    "    \"\"\"\n",
    "    d = self.d\n",
    "    r = self.r.copy()\n",
    "    y = self.to_list(self)  # list of cores\n",
    "    print(d, r)\n",
    "    # sign for the exponent: forward -> -1, inverse -> +1\n",
    "    sign = +1 if inverse else -1\n",
    "\n",
    "    for i in range(d-1, 0, -1):\n",
    "        # -- Step 1: handle the last block (+/-) --\n",
    "        r1 = y[i].shape[0]  # rank at the head\n",
    "        r2 = y[i].shape[2]  # rank at the tail\n",
    "\n",
    "        # form (y[i][:,0,:] ± y[i][:,1,:])/sqrt(2)\n",
    "        crd2 = np.zeros((r1, 2, r2), dtype=np.complex128, order='F')\n",
    "        crd2[:, 0, :] = (y[i][:, 0, :] + y[i][:, 1, :]) / np.sqrt(2)\n",
    "        crd2[:, 1, :] = (y[i][:, 0, :] - y[i][:, 1, :]) / np.sqrt(2)\n",
    "\n",
    "        # new core with shape [r1*2, 2, r2]\n",
    "        new_core = np.zeros((r1*2, 2, r2), dtype=np.complex128, order='F')\n",
    "        new_core[0:r1,   0, :] = crd2[:, 0, :]\n",
    "        new_core[r1:2*r1,1, :] = crd2[:, 1, :]\n",
    "        y[i] = new_core\n",
    "\n",
    "        # -- Step 2: twiddles + QR over blocks 1..i-1 --\n",
    "        # In the original Matlab code, rv = 1 (a scalar) initially.\n",
    "        rv = 1.0 + 0j  # so that the first multiplication is scalar\n",
    "        for j in range(i):\n",
    "            print(\"j: \", j)\n",
    "            cr = y[j]\n",
    "            old_r1 = cr.shape[0]  # old rank head\n",
    "            old_r2 = cr.shape[2]  # old rank tail\n",
    "\n",
    "            # Twiddle factor for block j:\n",
    "            #   exp(sign * 2*pi*1j / (2^(i-j+1)))\n",
    "            tfac = np.exp(sign * 2 * np.pi * 1j / (2**(i - j + 1)))\n",
    "            print(\"tfac: \", tfac)\n",
    "            if j == 0:\n",
    "                r[j]   = old_r1\n",
    "                r[j+1] = old_r2 * 2\n",
    "                buf = np.zeros((r[j], 2, r[j+1]), dtype=np.complex128, order='F')\n",
    "                # copy original\n",
    "                buf[0:old_r1, :, 0:old_r2] = cr\n",
    "                # add twiddle part\n",
    "                buf[0:old_r1, 0, old_r2:r[j+1]] = cr[:, 0, :]\n",
    "                buf[0:old_r1, 1, old_r2:r[j+1]] = tfac * cr[:, 1, :]\n",
    "                y[j] = buf\n",
    "            else:\n",
    "                r[j]   = old_r1 * 2\n",
    "                r[j+1] = old_r2 * 2\n",
    "                buf = np.zeros((r[j], 2, r[j+1]), dtype=np.complex128, order='F')\n",
    "                buf[0:old_r1, :, 0:old_r2] = cr\n",
    "                buf[old_r1:r[j], 0, old_r2:r[j+1]] = cr[:, 0, :]\n",
    "                buf[old_r1:r[j], 1, old_r2:r[j+1]] = tfac * cr[:, 1, :]\n",
    "                y[j] = buf\n",
    "\n",
    "            # reshape to 2D for multiplication\n",
    "            y[j] = np.reshape(y[j], (r[j], 2*r[j+1]), order='F')\n",
    "\n",
    "            # multiply from the left by rv\n",
    "            if np.isscalar(rv):\n",
    "                # first iteration => just scalar multiplication\n",
    "                y[j] = rv * y[j]\n",
    "            else:\n",
    "                # subsequent iterations => matrix multiply\n",
    "                y[j] = rv @ y[j]\n",
    "\n",
    "            # update r[j] after multiplication\n",
    "            r[j] = y[j].shape[0]\n",
    "\n",
    "            # next: reshape for QR\n",
    "            y[j] = np.reshape(y[j], (2*r[j], r[j+1]), order='F')\n",
    "            # QR factorization\n",
    "            qmat, rmat = np.linalg.qr(y[j], mode='reduced')\n",
    "            y[j] = np.reshape(qmat, (r[j], 2, rmat.shape[0]), order='F')\n",
    "            rv = rmat  # R factor goes to rv\n",
    "            print('\\ny[j].shape', y[j].shape)\n",
    "            for my_i in range(y[j].shape[-1]):\n",
    "                print(f'y[j](:,:,{my_i+1})', y[j][:,:,my_i])\n",
    "\n",
    "        # multiply last core by rv\n",
    "        y[i] = np.reshape(y[i], (r[i], 2*r[i+1]), order='F')\n",
    "        y[i] = rv @ y[i]\n",
    "        r[i] = y[i].shape[0]\n",
    "\n",
    "        # -- Step 3: backward SVD to truncate ranks --\n",
    "        for j in range(i, 0, -1):\n",
    "            u, s, vH = np.linalg.svd(y[j], full_matrices=False)\n",
    "            eps = np.linalg.norm(s) * tol / np.sqrt(i)\n",
    "            rnew = my_chop2(s, eps)\n",
    "            u   = u[:, 0:rnew] @ np.diag(s[0:rnew])\n",
    "            vH  = vH[0:rnew, :]\n",
    "\n",
    "            y[j] = np.reshape(vH, (rnew, 2, r[j+1]), order='F')\n",
    "            y[j-1] = np.reshape(y[j-1], (r[j-1]*2, r[j]), order='F')\n",
    "            y[j-1] = y[j-1] @ u\n",
    "            r[j] = rnew\n",
    "            y[j-1] = np.reshape(y[j-1], (r[j-1], r[j]*2), order='F')\n",
    "\n",
    "        # fix shape for next iteration\n",
    "        y[0] = np.reshape(y[0], (r[0], 2, r[1]), order='F')\n",
    "\n",
    "    # -- Small 2-point DFT on the first core --\n",
    "    y[0] = np.transpose(y[0], (1,0,2))  # shape => (2, r[0], r[1])\n",
    "    y[0] = np.reshape(y[0], (2, r[0]*r[1]), order='F')\n",
    "    fft2 = np.array([[1,1],[1,-1]], dtype=np.complex128)\n",
    "    y[0] = (fft2 @ y[0]) / np.sqrt(2)\n",
    "    y[0] = np.reshape(y[0], (2, r[0], r[1]), order='F')\n",
    "    y[0] = np.transpose(y[0], (1,0,2))\n",
    "\n",
    "    # -- Optional bit-reversal of the train --\n",
    "    if bitReverse:\n",
    "        y2 = [None]*d\n",
    "        for k in range(d):\n",
    "            y2[d-1-k] = np.transpose(y[k], (2,1,0))\n",
    "        y_out = self.from_list(y2)\n",
    "    else:\n",
    "        y_out = self.from_list(y)\n",
    "\n",
    "    return y_out\n",
    "\n",
    "Γ, κ = 100, 3\n",
    "N_bits = 8\n",
    "r_array = np.linspace(0,100, 2**N_bits)\n",
    "h_r_array = np.exp(-(r_array-50)**2/(2*1**2))\n",
    "# h_r_bt = tensor_to_binarytensor(h_r_array)\n",
    "h_r_bt = h_r_array.reshape(2,2,2,2,2,2,2,2, order='F')\n",
    "h_r_qtt = ttpy.vector(h_r_bt, eps=1e-12)\n",
    "h_r_bt\n",
    "h_fft_qtt = qtt_fft1(h_r_qtt, 1e-8)\n",
    "def print_like_matlab(tensor):\n",
    "    for i in range(tensor.shape[-1]):\n",
    "        print(f\"tensor(:,:{i+1})\", tensor[:,:,i])\n",
    "# print_like_matlab(h_r_bt)\n",
    "print(\"\\nfinal output:\")\n",
    "print_like_matlab(h_fft_qtt.to_list(h_fft_qtt)[1])"
   ]
  },
  {
   "cell_type": "code",
   "execution_count": null,
   "id": "eca775d9-1014-4dfb-bcce-2cdf2761582e",
   "metadata": {
    "scrolled": true,
    "tags": []
   },
   "outputs": [],
   "source": [
    "# h_fft_qtt = h_r_qtt.qtt_fft1(1e-12)\n",
    "h_fft_qtt = qtt_fft1(h_r_qtt, 1e-8)\n",
    "# h_fft_ifft_qtt = h_fft_qtt.qtt_fft1(1e-4, inverse=True)\n",
    "h_fft_qtt.full().reshape(2**N_bits, order='F')\n",
    "\n",
    "fig, ax = plt.subplots()\n",
    "\n",
    "# ax.plot(r_array, fftshift(binarytensor_to_tensor(h_fft_qtt.full())))\n",
    "# ax.plot(r_array, fftshift(h_fft_qtt.full().reshape(2**N_bits, order='C')))\n",
    "ax.plot(r_array, fftshift(h_fft_qtt.full().reshape(2**N_bits, order='F')))\n",
    "# ax.plot(r_array, fftshift(fft(h_r_array)).real, 'k--')\n",
    "\n",
    "# ax.set_yscale('symlog')\n",
    "# ax.set_xscale('symlog')\n",
    "# ax.set_xlim(14, 18)\n",
    "fftshift(h_fft_qtt.full().reshape(2**N_bits, order='F')).real"
   ]
  },
  {
   "cell_type": "code",
   "execution_count": null,
   "id": "be410a6a-3f2b-4286-9c36-e0a07174e708",
   "metadata": {},
   "outputs": [],
   "source": [
    "iet.k_array"
   ]
  },
  {
   "cell_type": "code",
   "execution_count": null,
   "id": "a376bec1-6bf2-47bd-893e-01cdc63853f6",
   "metadata": {},
   "outputs": [],
   "source": [
    "fftshift(fft(h_r_array)).real"
   ]
  },
  {
   "cell_type": "code",
   "execution_count": null,
   "id": "2eba0eee-197c-427a-a3f1-4d1f1bf2e891",
   "metadata": {},
   "outputs": [],
   "source": []
  },
  {
   "cell_type": "code",
   "execution_count": null,
   "id": "6f507d3a-f0af-4dae-9691-f7d379299472",
   "metadata": {},
   "outputs": [],
   "source": []
  },
  {
   "cell_type": "code",
   "execution_count": null,
   "id": "27069971-0f12-48ea-a78a-db2e5d2897aa",
   "metadata": {},
   "outputs": [],
   "source": []
  },
  {
   "cell_type": "code",
   "execution_count": null,
   "id": "a1736fc9-5d5e-4c08-bbf0-f958bd4d54ec",
   "metadata": {},
   "outputs": [],
   "source": []
  },
  {
   "cell_type": "code",
   "execution_count": null,
   "id": "cddb3676-9b15-4c8b-bad8-e70cffd3a48c",
   "metadata": {},
   "outputs": [],
   "source": []
  },
  {
   "cell_type": "code",
   "execution_count": null,
   "id": "85833b38-255c-41f5-9643-29d83aa5b08e",
   "metadata": {},
   "outputs": [],
   "source": []
  },
  {
   "cell_type": "code",
   "execution_count": null,
   "id": "809c6585-adea-4c10-a6d4-2fc637841536",
   "metadata": {},
   "outputs": [],
   "source": []
  },
  {
   "cell_type": "code",
   "execution_count": null,
   "id": "8036ff3d-a646-4122-9cb0-d5f49a3fb597",
   "metadata": {},
   "outputs": [],
   "source": []
  },
  {
   "cell_type": "code",
   "execution_count": null,
   "id": "e5144902-7ed8-48b6-818d-b6c403d8042a",
   "metadata": {},
   "outputs": [],
   "source": []
  },
  {
   "cell_type": "code",
   "execution_count": null,
   "id": "cfa97119-0668-4c46-9f79-94e6b05defc8",
   "metadata": {},
   "outputs": [],
   "source": []
  },
  {
   "cell_type": "code",
   "execution_count": null,
   "id": "c4f10126-a833-4513-831a-a18236412005",
   "metadata": {},
   "outputs": [],
   "source": []
  },
  {
   "cell_type": "code",
   "execution_count": null,
   "id": "855cea13-688f-4512-9bca-142e03e434d4",
   "metadata": {},
   "outputs": [],
   "source": []
  },
  {
   "cell_type": "code",
   "execution_count": null,
   "id": "99bebe3f-fd4f-41cb-9326-093855375d11",
   "metadata": {},
   "outputs": [],
   "source": []
  },
  {
   "cell_type": "code",
   "execution_count": null,
   "id": "133d53b9-f82d-4413-bddc-c3e2129af34a",
   "metadata": {},
   "outputs": [],
   "source": []
  },
  {
   "cell_type": "code",
   "execution_count": null,
   "id": "42aaa085-093f-47cf-906f-07a793bda96a",
   "metadata": {},
   "outputs": [],
   "source": []
  },
  {
   "cell_type": "code",
   "execution_count": null,
   "id": "f36302f7-a2c7-488a-bdfb-ff618ef78ade",
   "metadata": {},
   "outputs": [],
   "source": []
  },
  {
   "cell_type": "code",
   "execution_count": null,
   "id": "b3967f49-6f62-4cb4-9f63-8a3ae6eda592",
   "metadata": {},
   "outputs": [],
   "source": []
  }
 ],
 "metadata": {
  "kernelspec": {
   "display_name": "Python 3 (ipykernel)",
   "language": "python",
   "name": "python3"
  },
  "language_info": {
   "codemirror_mode": {
    "name": "ipython",
    "version": 3
   },
   "file_extension": ".py",
   "mimetype": "text/x-python",
   "name": "python",
   "nbconvert_exporter": "python",
   "pygments_lexer": "ipython3",
   "version": "3.6.13"
  }
 },
 "nbformat": 4,
 "nbformat_minor": 5
}
