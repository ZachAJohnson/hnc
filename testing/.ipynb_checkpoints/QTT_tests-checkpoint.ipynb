{
 "cells": [
  {
   "cell_type": "code",
   "execution_count": 1,
   "id": "11acc1c5-4941-4d80-b4b7-3fc34a95d1dc",
   "metadata": {
    "tags": []
   },
   "outputs": [
    {
     "data": {
      "text/html": [
       "\n",
       "<style>\n",
       ".output_png {\n",
       "    display: table-cell;\n",
       "    text-align: center;\n",
       "    vertical-align: middle;\n",
       "}\n",
       "\n",
       "</style>\n"
      ],
      "text/plain": [
       "<IPython.core.display.HTML object>"
      ]
     },
     "execution_count": 1,
     "metadata": {},
     "output_type": "execute_result"
    }
   ],
   "source": [
    "import numpy as np\n",
    "import matplotlib.pyplot as plt\n",
    "from pandas import read_csv\n",
    "\n",
    "from hnc.hnc.PIE import Plasma_of_Ions_and_Electrons as PLASMA\n",
    "\n",
    "from hnc.hnc.constants import *\n",
    "from hnc.hnc.misc import n_from_rs, rs_from_n\n",
    "\n",
    "from pandas import read_csv\n",
    "\n",
    "prop_cycle = plt.rcParams['axes.prop_cycle']\n",
    "colors = prop_cycle.by_key()['color']\n",
    "                \n",
    "from IPython.core.display import HTML\n",
    "HTML(\"\"\"\n",
    "<style>\n",
    ".output_png {\n",
    "    display: table-cell;\n",
    "    text-align: center;\n",
    "    vertical-align: middle;\n",
    "}\n",
    "\n",
    "</style>\n",
    "\"\"\")\n"
   ]
  },
  {
   "cell_type": "markdown",
   "id": "db99db1d-ff1a-4331-8390-fe52ddbe5399",
   "metadata": {},
   "source": [
    "### Lithium for Quantum Espresso"
   ]
  },
  {
   "cell_type": "code",
   "execution_count": 7,
   "id": "71f3ba5d-3c5b-43b0-8094-392965b81359",
   "metadata": {},
   "outputs": [],
   "source": [
    "name='Li'\n",
    "Z, A = 3, 6.938\n",
    "mi = m_p * A\n",
    "ρ_gpercc =  0.513 \n",
    "ni_cc = ρ_gpercc/(mi*AU_to_g)\n",
    "ri_cm = rs_from_n(ni_cc)\n",
    "ri_AU = ri_cm*cm_to_AU\n",
    "\n",
    "Te_eV = 0.054\n",
    "Ti_eV = 0.054\n",
    "\n",
    "ri_AU\n",
    "Zbar = 3"
   ]
  },
  {
   "cell_type": "code",
   "execution_count": 8,
   "id": "0cff6618-9a5f-45ab-b9c3-9aedee2252df",
   "metadata": {},
   "outputs": [
    {
     "data": {
      "text/plain": [
       "626.6443503326292"
      ]
     },
     "execution_count": 8,
     "metadata": {},
     "output_type": "execute_result"
    }
   ],
   "source": [
    "N=100\n",
    "(1/(ni_cc/N))**(1/3)*cm_to_AU\n",
    "Te_eV*eV_to_K"
   ]
  },
  {
   "cell_type": "markdown",
   "id": "98e632a2-ed9a-418a-a993-a520d2656f54",
   "metadata": {},
   "source": [
    "### CPP Paper Review"
   ]
  },
  {
   "cell_type": "code",
   "execution_count": 18,
   "id": "c4aa43a2-dd1e-4d8e-9145-ad4c7cade542",
   "metadata": {},
   "outputs": [
    {
     "name": "stdout",
     "output_type": "stream",
     "text": [
      "Te_in_eV: 8.617\n",
      "Ti_in_eV: 8.617\n"
     ]
    },
    {
     "data": {
      "text/plain": [
       "(1.2502202065800248, 1.0969610784251727)"
      ]
     },
     "execution_count": 18,
     "metadata": {},
     "output_type": "execute_result"
    }
   ],
   "source": [
    "Z, A = 1, 1\n",
    "T_K = 1e5\n",
    "T_eV = T_K*K_to_eV\n",
    "ni_cc = 1e23\n",
    "\n",
    "atom = PLASMA(Z, A, ni_cc, T_eV, T_eV, Zbar=1, find_βuee=True,\n",
    "                 βu_options = {'add_bridge':True,'bridge':'yukawa', 'pseudopotential':False}, \n",
    "                 hnc_options={'kappa_multiscale':0, 'R_max':10,'N_bins':1000},\n",
    "                 hnc_solve_options={'alpha_Picard':0.1},\n",
    "                 root_options={'options':{'maxfev':50000,'xtol':1e-14}})\n",
    "\n",
    "atom.qsp.Γii, atom.qsp.θ"
   ]
  },
  {
   "cell_type": "code",
   "execution_count": null,
   "id": "ea293d1c-f0de-40c3-a497-7e5e2fd11a97",
   "metadata": {},
   "outputs": [],
   "source": []
  }
 ],
 "metadata": {
  "kernelspec": {
   "display_name": "Python 3 (ipykernel)",
   "language": "python",
   "name": "python3"
  },
  "language_info": {
   "codemirror_mode": {
    "name": "ipython",
    "version": 3
   },
   "file_extension": ".py",
   "mimetype": "text/x-python",
   "name": "python",
   "nbconvert_exporter": "python",
   "pygments_lexer": "ipython3",
   "version": "3.10.6"
  }
 },
 "nbformat": 4,
 "nbformat_minor": 5
}
