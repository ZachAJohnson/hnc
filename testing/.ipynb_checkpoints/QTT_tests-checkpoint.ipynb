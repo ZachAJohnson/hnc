{
 "cells": [
  {
   "cell_type": "code",
   "execution_count": 121,
   "id": "11acc1c5-4941-4d80-b4b7-3fc34a95d1dc",
   "metadata": {
    "tags": []
   },
   "outputs": [
    {
     "data": {
      "text/html": [
       "\n",
       "<style>\n",
       ".output_png {\n",
       "    display: table-cell;\n",
       "    text-align: center;\n",
       "    vertical-align: middle;\n",
       "}\n",
       "\n",
       "</style>\n"
      ],
      "text/plain": [
       "<IPython.core.display.HTML object>"
      ]
     },
     "execution_count": 121,
     "metadata": {},
     "output_type": "execute_result"
    }
   ],
   "source": [
    "import numpy as np\n",
    "import matplotlib.pyplot as plt\n",
    "from pandas import read_csv\n",
    "\n",
    "from hnc.hnc.hnc import Integral_Equation_Solver as IET\n",
    "from hnc.hnc.constants import *\n",
    "from hnc.hnc.misc import n_from_rs, rs_from_n\n",
    "\n",
    "from pandas import read_csv\n",
    "from scipy.fft import fft, ifft, fftshift, ifftshift, dct, dst\n",
    "\n",
    "prop_cycle = plt.rcParams['axes.prop_cycle']\n",
    "colors = prop_cycle.by_key()['color']\n",
    "                \n",
    "from IPython.core.display import HTML\n",
    "HTML(\"\"\"\n",
    "<style>\n",
    ".output_png {\n",
    "    display: table-cell;\n",
    "    text-align: center;\n",
    "    vertical-align: middle;\n",
    "}\n",
    "\n",
    "</style>\n",
    "\"\"\")\n",
    "\n",
    "# import "
   ]
  },
  {
   "cell_type": "code",
   "execution_count": 122,
   "id": "e2034cff-82e2-4817-a87f-469e487e0244",
   "metadata": {},
   "outputs": [
    {
     "data": {
      "text/plain": [
       "(512, (1, 1, 512))"
      ]
     },
     "execution_count": 122,
     "metadata": {},
     "output_type": "execute_result"
    }
   ],
   "source": [
    "iet = IET(1, [[1]], [[3/(4*π)]], [[1]], [1], dst_type=3)\n",
    "βu_r_matrix = iet.βu_r_matrix\n",
    "βu_k_matrix = iet.FT_r_2_k(βu_r_matrix)\n",
    "iet.N_bins, βu_r_matrix.shape"
   ]
  },
  {
   "cell_type": "code",
   "execution_count": 165,
   "id": "940966da-be05-4a07-85d3-e6e703f18882",
   "metadata": {},
   "outputs": [],
   "source": [
    "def dct_type2(vec_r):\n",
    "    N = len(vec_r)\n",
    "    vec_r_ext = np.zeros(2*N)\n",
    "    vec_r_ext[:N] = vec_r\n",
    "    return 2*(fft(vec_r_ext)[:N]*np.exp(-1j*np.arange(N)*π/2/N)).real"
   ]
  },
  {
   "cell_type": "code",
   "execution_count": 192,
   "id": "69d5dba6-81ea-4925-86c3-a4f161f5e427",
   "metadata": {},
   "outputs": [],
   "source": [
    "\n",
    "def dst_type3(vec_r):\n",
    "    \"\"\"\n",
    "    A simple FFT-embedding approach to compute a Discrete Sine Transform, type III.\n",
    "    Similar in style to your DCT-II code snippet.\n",
    "    \n",
    "    NOTE: You may need to tweak sign/phase factors or overall scaling\n",
    "          to match exactly the SciPy DST-III convention.\n",
    "    \"\"\"\n",
    "    N = len(vec_r)\n",
    "    \n",
    "    # 1) Embed in a 2N array (just zero-pad after the first N samples)\n",
    "    vec_ext = np.zeros(2*N, dtype=complex)\n",
    "    vec_ext[:N] = vec_r\n",
    "    \n",
    "    # 2) Compute the 2N-point FFT\n",
    "    F = fft(vec_ext)\n",
    "    \n",
    "    # 3) Multiply by a phase that aligns with DST-III definitions\n",
    "    #\n",
    "    #    For DCT-II you did:   exp(-j * pi/(2N) * n)\n",
    "    #    A common DST-III trick involves a half-integer shift:\n",
    "    #         exp(-j * pi/(2N) * (n + 0.5))\n",
    "    #\n",
    "    #    But some references have a negative sign or a different offset.\n",
    "    #    We'll try the \"n+0.5\" shift:\n",
    "    #\n",
    "    phase = np.exp(-1j * np.pi * (np.arange(N) - 0.5) / (2*N))\n",
    "    \n",
    "    # 4) The DST is basically the imaginary part (possibly times 2)\n",
    "    #    If it comes out with the wrong sign, just put a minus in front.\n",
    "    dst3 = 2.0 * (F[:N] * phase).imag\n",
    "    \n",
    "    return dst3"
   ]
  },
  {
   "cell_type": "code",
   "execution_count": 193,
   "id": "b62e952e-e43d-4c3d-843f-bc93fbf3c98b",
   "metadata": {},
   "outputs": [],
   "source": [
    "βu_dct2= dct(iet.βu_r_matrix[0,0], type=2)\n",
    "βu_dct2_attempt = dct_type2(βu_r_matrix[0,0])"
   ]
  },
  {
   "cell_type": "code",
   "execution_count": 194,
   "id": "8c680f96-29a7-4548-b102-bdc8cea947ad",
   "metadata": {},
   "outputs": [],
   "source": [
    "βu_dst3 = dst(βu_r_matrix[0,0], type=2)\n",
    "βu_dst3_attempt = dst_type3(βu_r_matrix[0,0])\n",
    "# βu_dst3/βu_dst3_attempt"
   ]
  },
  {
   "cell_type": "code",
   "execution_count": 195,
   "id": "332ab3dc-eff4-4819-b2c6-5e468e6386df",
   "metadata": {},
   "outputs": [
    {
     "data": {
      "image/png": "[encoded data removed]",
      "text/plain": [
       "<Figure size 640x480 with 1 Axes>"
      ]
     },
     "metadata": {},
     "output_type": "display_data"
    }
   ],
   "source": [
    "fig, ax = plt.subplots()\n",
    "\n",
    "ax.plot(iet.k_array, βu_dst3) \n",
    "ax.plot(iet.k_array, -βu_dst3_attempt) \n",
    "\n",
    "# ax.plot(iet.k_array, βu_dct2) \n",
    "# ax.plot(iet.k_array, βu_dct2_attempt) \n",
    "ax.set_yscale('symlog')\n",
    "ax.set_xscale('symlog')"
   ]
  },
  {
   "cell_type": "code",
   "execution_count": 6,
   "id": "669287d8-ee14-4d6e-9e38-e235c48e2e4b",
   "metadata": {},
   "outputs": [
    {
     "data": {
      "text/plain": [
       "array([1., 1., 1., 1., 1., 1., 1., 1., 1., 1., 1., 1., 1., 1., 1., 1., 1.,\n",
       "       1., 1., 1., 1., 1., 1., 1., 1., 1., 1., 1., 1., 1., 1., 1., 1., 1.,\n",
       "       1., 1., 1., 1., 1., 1., 1., 1., 1., 1., 1., 1., 1., 1., 1., 1., 1.,\n",
       "       1., 1., 1., 1., 1., 1., 1., 1., 1., 1., 1., 1., 1., 1., 1., 1., 1.,\n",
       "       1., 1., 1., 1., 1., 1., 1., 1., 1., 1., 1., 1., 1., 1., 1., 1., 1.,\n",
       "       1., 1., 1., 1., 1., 1., 1., 1., 1., 1., 1., 1., 1., 1., 1., 1., 1.,\n",
       "       1., 1., 1., 1., 1., 1., 1., 1., 1., 1., 1., 1., 1., 1., 1., 1., 1.,\n",
       "       1., 1., 1., 1., 1., 1., 1., 1., 1., 1., 1., 1., 1., 1., 1., 1., 1.,\n",
       "       1., 1., 1., 1., 1., 1., 1., 1., 1., 1., 1., 1., 1., 1., 1., 1., 1.,\n",
       "       1., 1., 1., 1., 1., 1., 1., 1., 1., 1., 1., 1., 1., 1., 1., 1., 1.,\n",
       "       1., 1., 1., 1., 1., 1., 1., 1., 1., 1., 1., 1., 1., 1., 1., 1., 1.,\n",
       "       1., 1., 1., 1., 1., 1., 1., 1., 1., 1., 1., 1., 1., 1., 1., 1., 1.,\n",
       "       1., 1., 1., 1., 1., 1., 1., 1., 1., 1., 1., 1., 1., 1., 1., 1., 1.,\n",
       "       1., 1., 1., 1., 1., 1., 1., 1., 1., 1., 1., 1., 1., 1., 1., 1., 1.,\n",
       "       1., 1., 1., 1., 1., 1., 1., 1., 1., 1., 1., 1., 1., 1., 1., 1., 1.,\n",
       "       1., 1., 1., 1., 1., 1., 1., 1., 1., 1., 1., 1., 1., 1., 1., 1., 1.,\n",
       "       1., 1., 1., 1., 1., 1., 1., 1., 1., 1., 1., 1., 1., 1., 1., 1., 1.,\n",
       "       1., 1., 1., 1., 1., 1., 1., 1., 1., 1., 1., 1., 1., 1., 1., 1., 1.,\n",
       "       1., 1., 1., 1., 1., 1., 1., 1., 1., 1., 1., 1., 1., 1., 1., 1., 1.,\n",
       "       1., 1., 1., 1., 1., 1., 1., 1., 1., 1., 1., 1., 1., 1., 1., 1., 1.,\n",
       "       1., 1., 1., 1., 1., 1., 1., 1., 1., 1., 1., 1., 1., 1., 1., 1., 1.,\n",
       "       1., 1., 1., 1., 1., 1., 1., 1., 1., 1., 1., 1., 1., 1., 1., 1., 1.,\n",
       "       1., 1., 1., 1., 1., 1., 1., 1., 1., 1., 1., 1., 1., 1., 1., 1., 1.,\n",
       "       1., 1., 1., 1., 1., 1., 1., 1., 1., 1., 1., 1., 1., 1., 1., 1., 1.,\n",
       "       1., 1., 1., 1., 1., 1., 1., 1., 1., 1., 1., 1., 1., 1., 1., 1., 1.,\n",
       "       1., 1., 1., 1., 1., 1., 1., 1., 1., 1., 1., 1., 1., 1., 1., 1., 1.,\n",
       "       1., 1., 1., 1., 1., 1., 1., 1., 1., 1., 1., 1., 1., 1., 1., 1., 1.,\n",
       "       1., 1., 1., 1., 1., 1., 1., 1., 1., 1., 1., 1., 1., 1., 1., 1., 1.,\n",
       "       1., 1., 1., 1., 1., 1., 1., 1., 1., 1., 1., 1., 1., 1., 1., 1., 1.,\n",
       "       1., 1., 1., 1., 1., 1., 1., 1., 1., 1., 1., 1., 1., 1., 1., 1., 1.,\n",
       "       1., 1.])"
      ]
     },
     "execution_count": 6,
     "metadata": {},
     "output_type": "execute_result"
    }
   ],
   "source": [
    "βu_dct2/βu_dct2_attempt"
   ]
  },
  {
   "cell_type": "markdown",
   "id": "664fde64-b4a2-450b-aa31-1dfdef021904",
   "metadata": {},
   "source": [
    "### QTT Tests on Converged Sims"
   ]
  },
  {
   "cell_type": "code",
   "execution_count": 14,
   "id": "64c040d9-afdb-4d27-bd4d-172107230236",
   "metadata": {},
   "outputs": [],
   "source": [
    "import tt as ttpy\n",
    "\n",
    "from liquids.python.qtt_core.qtt_util import *"
   ]
  },
  {
   "cell_type": "code",
   "execution_count": null,
   "id": "d5a722b7-aa21-429e-ba95-f83cc8bb9c8a",
   "metadata": {},
   "outputs": [],
   "source": [
    "Γ, κ = 1000, 3\n",
    "N_bits = 13\n",
    "iet = IET(1, [[Γ]], [[3/(4*π)]], [[1]], [1], kappa = κ, dst_type=3, N_bins = 2**N_bits, R_max = 100)\n",
    "iet.HNC_solve(tol=1e-6, num_iterations=1e5, iters_to_wait=1e4)\n"
   ]
  },
  {
   "cell_type": "code",
   "execution_count": 100,
   "id": "03b147b6-66b2-4627-b179-ccf4bc7ecef3",
   "metadata": {},
   "outputs": [
    {
     "name": "stdout",
     "output_type": "stream",
     "text": [
      "0: Initial condition Total Error: 5.138e+02\n",
      "Exiting status 0, reverting to best index so far: 5328\n",
      "Final iter:5329, Total Error: 9.976e-07\n"
     ]
    }
   ],
   "source": [
    "βu_r_array = iet.βu_k_matrix[0,0]\n",
    "βu_r_bt = tensor_to_binarytensor(βu_r_array)\n",
    "βu_r_qtt = ttpy.vector(βu_r_bt, eps=1e-4)\n",
    "\n",
    "h_r_array = iet.h_k_matrix[0,0]\n",
    "h_r_bt = tensor_to_binarytensor(h_r_array)\n",
    "h_r_qtt = ttpy.vector(h_r_bt, eps=1e-4)\n",
    "\n",
    "c_r_array = iet.c_k_matrix[0,0]\n",
    "c_r_bt = tensor_to_binarytensor(c_r_array)\n",
    "c_r_qtt = ttpy.vector(c_r_bt, eps=1e-4)\n",
    "\n",
    "c_r_array = iet.γs_r_matrix[0,0]\n",
    "c_r_bt = tensor_to_binarytensor(c_r_array)\n",
    "c_r_qtt = ttpy.vector(c_r_bt, eps=1e-4)"
   ]
  },
  {
   "cell_type": "code",
   "execution_count": 101,
   "id": "829847b1-21fa-45b7-baff-dbabb6b38d30",
   "metadata": {},
   "outputs": [
    {
     "data": {
      "text/plain": [
       "8192"
      ]
     },
     "execution_count": 101,
     "metadata": {},
     "output_type": "execute_result"
    }
   ],
   "source": [
    "2**N_bits"
   ]
  },
  {
   "cell_type": "code",
   "execution_count": 102,
   "id": "83be0fbe-6141-4090-971f-73cf4aa6d718",
   "metadata": {},
   "outputs": [
    {
     "name": "stderr",
     "output_type": "stream",
     "text": [
      "/tmp/ipykernel_5406/3460853578.py:1: DeprecationWarning: `product` is deprecated as of NumPy 1.25.0, and will be removed in NumPy 2.0. Please use `prod` instead.\n",
      "  get_tt_compression(βu_r_qtt)\n"
     ]
    },
    {
     "data": {
      "text/plain": [
       "31.267175572519083"
      ]
     },
     "execution_count": 102,
     "metadata": {},
     "output_type": "execute_result"
    }
   ],
   "source": [
    "get_tt_compression(βu_r_qtt)"
   ]
  },
  {
   "cell_type": "code",
   "execution_count": 105,
   "id": "c7a7d132-ac28-4c06-afa0-4744e86bbcde",
   "metadata": {},
   "outputs": [
    {
     "data": {
      "image/png": "[encoded data removed]",
      "text/plain": [
       "<Figure size 1000x800 with 1 Axes>"
      ]
     },
     "metadata": {},
     "output_type": "display_data"
    },
    {
     "data": {
      "text/plain": [
       "(<Figure size 1000x800 with 1 Axes>,\n",
       " <Axes: xlabel='$r/r_s$', ylabel='$g(r/r_s)$'>)"
      ]
     },
     "execution_count": 105,
     "metadata": {},
     "output_type": "execute_result"
    }
   ],
   "source": [
    "iet.plot_g_all_species()"
   ]
  },
  {
   "cell_type": "code",
   "execution_count": 104,
   "id": "cd6286b9-fcad-4ab6-87ff-c0571da2e39f",
   "metadata": {},
   "outputs": [
    {
     "name": "stdout",
     "output_type": "stream",
     "text": [
      "╒═════════════════════════════╤═══════════════════════════════╤═════════════════════════╤═══════════════════════════════╕\n",
      "│                             │                               │                         │                               │\n",
      "├─────────────────────────────┼───────────────────────────────┼─────────────────────────┼───────────────────────────────┤\n",
      "│                             │ Grid                          │ TT                      │ QTT                           │\n",
      "├─────────────────────────────┼───────────────────────────────┼─────────────────────────┼───────────────────────────────┤\n",
      "│ Error (|F1-F2|/|F1|)        │ 0                             │ nan                     │ 2.804e-05                     │\n",
      "├─────────────────────────────┼───────────────────────────────┼─────────────────────────┼───────────────────────────────┤\n",
      "│ Memory (of Square)          │ 0.0655 MB (0.0655 MB)         │ nan MB (nan MB)         │ 0.0021 MB (0.0266 MB)         │\n",
      "├─────────────────────────────┼───────────────────────────────┼─────────────────────────┼───────────────────────────────┤\n",
      "│ Compression (of Square)     │ 1                             │ nan (nan)               │ 31.267 (2.466)                │\n",
      "├─────────────────────────────┼───────────────────────────────┼─────────────────────────┼───────────────────────────────┤\n",
      "│ Creation time (Square time) │ 0.000e+00 [s] (3.052e-05 [s]) │ 0.000e+00 [s] (nan [s]) │ 0.000e+00 [s] (1.814e-04 [s]) │\n",
      "╘═════════════════════════════╧═══════════════════════════════╧═════════════════════════╧═══════════════════════════════╛\n",
      "╒═════════════════════════════╤═══════════════════════════════╤═════════════════════════╤═══════════════════════════════╕\n",
      "│                             │                               │                         │                               │\n",
      "├─────────────────────────────┼───────────────────────────────┼─────────────────────────┼───────────────────────────────┤\n",
      "│                             │ Grid                          │ TT                      │ QTT                           │\n",
      "├─────────────────────────────┼───────────────────────────────┼─────────────────────────┼───────────────────────────────┤\n",
      "│ Error (|F1-F2|/|F1|)        │ 0                             │ nan                     │ 3.053e-05                     │\n",
      "├─────────────────────────────┼───────────────────────────────┼─────────────────────────┼───────────────────────────────┤\n",
      "│ Memory (of Square)          │ 0.0655 MB (0.0655 MB)         │ nan MB (nan MB)         │ 0.0036 MB (0.1159 MB)         │\n",
      "├─────────────────────────────┼───────────────────────────────┼─────────────────────────┼───────────────────────────────┤\n",
      "│ Compression (of Square)     │ 1                             │ nan (nan)               │ 18.450 (0.565)                │\n",
      "├─────────────────────────────┼───────────────────────────────┼─────────────────────────┼───────────────────────────────┤\n",
      "│ Creation time (Square time) │ 0.000e+00 [s] (3.865e-04 [s]) │ 0.000e+00 [s] (nan [s]) │ 0.000e+00 [s] (3.371e-04 [s]) │\n",
      "╘═════════════════════════════╧═══════════════════════════════╧═════════════════════════╧═══════════════════════════════╛\n",
      "╒═════════════════════════════╤═══════════════════════════════╤═════════════════════════╤═══════════════════════════════╕\n",
      "│                             │                               │                         │                               │\n",
      "├─────────────────────────────┼───────────────────────────────┼─────────────────────────┼───────────────────────────────┤\n",
      "│                             │ Grid                          │ TT                      │ QTT                           │\n",
      "├─────────────────────────────┼───────────────────────────────┼─────────────────────────┼───────────────────────────────┤\n",
      "│ Error (|F1-F2|/|F1|)        │ 0                             │ nan                     │ 4.876e-05                     │\n",
      "├─────────────────────────────┼───────────────────────────────┼─────────────────────────┼───────────────────────────────┤\n",
      "│ Memory (of Square)          │ 0.0655 MB (0.0655 MB)         │ nan MB (nan MB)         │ 0.0010 MB (0.0078 MB)         │\n",
      "├─────────────────────────────┼───────────────────────────────┼─────────────────────────┼───────────────────────────────┤\n",
      "│ Compression (of Square)     │ 1                             │ nan (nan)               │ 67.148 (8.445)                │\n",
      "├─────────────────────────────┼───────────────────────────────┼─────────────────────────┼───────────────────────────────┤\n",
      "│ Creation time (Square time) │ 0.000e+00 [s] (2.480e-05 [s]) │ 0.000e+00 [s] (nan [s]) │ 0.000e+00 [s] (1.948e-04 [s]) │\n",
      "╘═════════════════════════════╧═══════════════════════════════╧═════════════════════════╧═══════════════════════════════╛\n"
     ]
    },
    {
     "data": {
      "text/plain": [
       "[[''],\n",
       " ['', 'Grid', 'TT', 'QTT'],\n",
       " ['Error (|F1-F2|/|F1|)', 0, 'nan', '4.876e-05'],\n",
       " ['Memory (of Square)',\n",
       "  '0.0655 MB (0.0655 MB)',\n",
       "  'nan MB (nan MB)',\n",
       "  '0.0010 MB (0.0078 MB)'],\n",
       " ['Compression (of Square)', 1, 'nan (nan)', '67.148 (8.445)'],\n",
       " ['Creation time (Square time)',\n",
       "  '0.000e+00 [s] (2.480e-05 [s])',\n",
       "  '0.000e+00 [s] (nan [s])',\n",
       "  '0.000e+00 [s] (1.948e-04 [s])']]"
      ]
     },
     "execution_count": 104,
     "metadata": {},
     "output_type": "execute_result"
    }
   ],
   "source": [
    "get_bigtable(βu_r_array, βu_r_bt, np.nan, βu_r_qtt, [0,0,0,0])\n",
    "get_bigtable(h_r_array, h_r_bt, np.nan, h_r_qtt, [0,0,0,0])\n",
    "get_bigtable(c_r_array, c_r_bt, np.nan, c_r_qtt, [0,0,0,0])"
   ]
  },
  {
   "cell_type": "code",
   "execution_count": null,
   "id": "424321c1-261d-49f4-b027-448f99c157ec",
   "metadata": {},
   "outputs": [],
   "source": []
  },
  {
   "cell_type": "code",
   "execution_count": null,
   "id": "eca775d9-1014-4dfb-bcce-2cdf2761582e",
   "metadata": {},
   "outputs": [],
   "source": []
  },
  {
   "cell_type": "code",
   "execution_count": null,
   "id": "a376bec1-6bf2-47bd-893e-01cdc63853f6",
   "metadata": {},
   "outputs": [],
   "source": []
  }
 ],
 "metadata": {
  "kernelspec": {
   "display_name": "Python 3 (ipykernel)",
   "language": "python",
   "name": "python3"
  },
  "language_info": {
   "codemirror_mode": {
    "name": "ipython",
    "version": 3
   },
   "file_extension": ".py",
   "mimetype": "text/x-python",
   "name": "python",
   "nbconvert_exporter": "python",
   "pygments_lexer": "ipython3",
   "version": "3.10.6"
  }
 },
 "nbformat": 4,
 "nbformat_minor": 5
}
