{
 "cells": [
  {
   "cell_type": "markdown",
   "id": "d64f089f",
   "metadata": {
    "tags": []
   },
   "source": [
    "# Hugoniot for Hydrogen/Deuterium\n",
    "Purpose of this notebook is to do Hugoniot calculations for Deuterium\n",
    "\n",
    "[\"Monte Carlo results for the hydrogen Hugoniot\"-\n",
    "V. Bezkrovniy, V. S. Filinov, D. Kremp, M. Bonitz, M. Schlanges, W. D. Kraeft, P. R. Levashov, and V. E. Fortov\n",
    "Phys. Rev. E 70, 057401 – Published 18 November 2004\n",
    "](https://journals.aps.org/pre/abstract/10.1103/PhysRevE.70.057401)"
   ]
  },
  {
   "cell_type": "code",
   "execution_count": 1,
   "id": "2e5c11ba",
   "metadata": {
    "scrolled": true,
    "tags": []
   },
   "outputs": [
    {
     "name": "stdout",
     "output_type": "stream",
     "text": [
      "ModuleNotFoundError: No module named 'mendeleev'\n"
     ]
    },
    {
     "data": {
      "text/html": [
       "\n",
       "<style>\n",
       ".output_png {\n",
       "    display: table-cell;\n",
       "    text-align: center;\n",
       "    vertical-align: middle;\n",
       "}\n",
       "\n",
       "</style>\n"
      ],
      "text/plain": [
       "<IPython.core.display.HTML object>"
      ]
     },
     "execution_count": 1,
     "metadata": {},
     "output_type": "execute_result"
    }
   ],
   "source": [
    "import numpy as np\n",
    "import matplotlib.pyplot as plt\n",
    "from pandas import read_csv\n",
    "\n",
    "from hnc.hnc.PIE import Plasma_of_Ions_and_Electrons as PLASMA\n",
    "\n",
    "from hnc.hnc.constants import *\n",
    "from hnc.hnc.misc import n_from_rs, rs_from_n\n",
    "\n",
    "prop_cycle = plt.rcParams['axes.prop_cycle']\n",
    "colors = prop_cycle.by_key()['color']\n",
    "                \n",
    "from IPython.core.display import HTML\n",
    "HTML(\"\"\"\n",
    "<style>\n",
    ".output_png {\n",
    "    display: table-cell;\n",
    "    text-align: center;\n",
    "    vertical-align: middle;\n",
    "}\n",
    "\n",
    "</style>\n",
    "\"\"\")\n"
   ]
  },
  {
   "cell_type": "markdown",
   "id": "b512a755-7841-4b07-adf9-6b669aedf021",
   "metadata": {
    "tags": []
   },
   "source": [
    "#### Define Various Plasma Models"
   ]
  },
  {
   "cell_type": "code",
   "execution_count": 56,
   "id": "38816387-97b8-463e-a7a4-d242cb364673",
   "metadata": {
    "tags": []
   },
   "outputs": [],
   "source": [
    "P_hnc_to_AU   = lambda P_hnc, ri: (P_hnc/ri**3) \n",
    "P_hnc_to_Mbar = lambda P_hnc, ri: P_hnc_to_AU(P_hnc, ri)*AU_to_bar/1e6\n",
    "P_hnc_to_GPa = lambda P_hnc, ri: P_hnc_to_AU(P_hnc, ri)*AU_to_Pa/1e9\n",
    "\n",
    "def plasma_output(plasma):\n",
    "    plasma.run_hnc()\n",
    "    try: \n",
    "        plasma.hnc.βu_r_matrix[1,1] -= plasma.βP_ee\n",
    "    except:\n",
    "        plasma.hnc.βu_r_matrix[1,1] -= plasma.qsp.βv_Pauli(plasma.hnc.r_array, plasma.qsp.Λee)\n",
    "    P_hnc, E_density_hnc  = plasma.hnc.total_pressure(),  plasma.hnc.total_energy_density() \n",
    "    E_AU = E_density_hnc/plasma.hnc.rho[0]\n",
    "    P_AU = P_hnc_to_AU(P_hnc, plasma.qsp.ri)\n",
    "    try: \n",
    "        plasma.hnc.βu_r_matrix[1,1] += plasma.βP_ee\n",
    "    except:\n",
    "        plasma.hnc.βu_r_matrix[1,1] += plasma.qsp.βv_Pauli(plasma.hnc.r_array, plasma.qsp.Λee)\n",
    "    \n",
    "    return P_AU, E_AU \n",
    "\n",
    "name1 = 'OZ - g'\n",
    "plasma1 = lambda T_eV, ni_cc: PLASMA(Z, A, ni_cc, T_eV, T_eV, Zbar=Z,\n",
    "                 βu_options = {'add_bridge':False,'bridge':'ocp', 'pseudopotential':False}, \n",
    "                 qsp_options= {'r_c':0,'which_Tij':'geometric'},\n",
    "                 hnc_options= {'kappa_multiscale':10, 'R_max':20,'N_bins':1000, \n",
    "                               'h_max':2e2,'oz_method':'standard'},\n",
    "                 hnc_solve_options={'alpha_Picard':0.5, 'num_iterations':1e4})\n",
    "name2 = 'OZ - th'\n",
    "plasma2 = lambda T_eV, ni_cc: PLASMA(Z, A, ni_cc, T_eV, T_eV, Zbar=Z,\n",
    "                 βu_options = {'add_bridge':False,'bridge':'ocp', 'pseudopotential':False}, \n",
    "                 qsp_options= {'r_c':0,'which_Tij':'thermal'},\n",
    "                 hnc_options= {'kappa_multiscale':10, 'R_max':20,'N_bins':1000, \n",
    "                               'h_max':2e2,'oz_method':'standard'},\n",
    "                 hnc_solve_options={'alpha_Picard':0.5, 'num_iterations':1e4})\n",
    "name3 = 'OZ - th  Pauli'\n",
    "plasma3 = lambda T_eV, ni_cc: PLASMA(Z, A, ni_cc, T_eV, T_eV, Zbar=Z, find_βuee=True,\n",
    "                 βu_options = {'add_bridge':False,'bridge':'ocp', 'pseudopotential':False}, \n",
    "                 qsp_options= {'r_c':0,'which_Tij':'thermal'},\n",
    "                 hnc_options= {'kappa_multiscale':10, 'R_max':100,'N_bins':5000, \n",
    "                               'h_max':2e2,'oz_method':'standard'},\n",
    "                 hnc_solve_options={'alpha_Picard':0.5, 'num_iterations':1e4},\n",
    "                 root_options={'options':{'maxfev':50000,'xtol':1e-14}})\n",
    "name4 = 'SVT - th'\n",
    "plasma4 =  lambda T_eV, ni_cc: PLASMA(Z, A, ni_cc, T_eV, T_eV, Zbar=Z,\n",
    "                 βu_options = {'add_bridge':False,'bridge':'ocp', 'pseudopotential':False}, \n",
    "                 qsp_options= {'r_c':0},\n",
    "                 hnc_options= {'kappa_multiscale':10, 'R_max':20,'N_bins':1000, \n",
    "                               'h_max':2e2,'oz_method':'svt'},\n",
    "                 hnc_solve_options={'alpha_Picard':0.5,'num_iterations':1e4})"
   ]
  },
  {
   "cell_type": "markdown",
   "id": "2fb7fa8d-0c64-4459-a674-070b5b8f40b7",
   "metadata": {},
   "source": [
    "# Hugoniot Description and Assumptions\n",
    "\n",
    "From \"Monte Carlo results for the hydrogen Hugoniot\", we assume the hock Hugoniot curve is given by (note there is a sign typo in the paper)\n",
    "$$H = E-E_0 + \\frac{1}{2}(p+p_0)(V-V_0)= 0\n",
    "$$\n",
    "With initial conditions given by\n",
    "\\begin{align}\n",
    "p_0 = 0,\\  \\rho_0 = 0.171 \\textrm{ g/cm$^3$}, \\ E_0 = -15.887 \\textrm{ eV/atom}\n",
    "\\end{align}\n",
    "\n",
    "Say we compute E(n, T), P(n, T) then we have 2 free parameters, potentially plotted in P, n space. Instead, we constrain with 1 equation, that given above.\n",
    "\n",
    "The paper goes from $\\sim 10^4 \\to 10^6 $ K, and rs from $1.7 \\to 2$"
   ]
  },
  {
   "cell_type": "code",
   "execution_count": 57,
   "id": "4d0a7939",
   "metadata": {
    "tags": []
   },
   "outputs": [],
   "source": [
    "name = 'Hydrogen'\n",
    "Z, A = 1,1 "
   ]
  },
  {
   "cell_type": "code",
   "execution_count": 58,
   "id": "23b09996-75cc-40b0-be3f-6c03f4b1c997",
   "metadata": {
    "tags": []
   },
   "outputs": [],
   "source": [
    "ρ0_gpercc = 0.171 # g/cc\n",
    "n0_AU = ρ0_gpercc/ (2*m_p*AU_to_g)/cm_to_AU**3\n",
    "n0_cc = ρ0_gpercc/ (2*m_p*AU_to_g)\n",
    "\n",
    "E0_eV = -15.886 # eV\n",
    "E0_AU = E0_eV*eV_to_AU\n",
    "P0_AU=0\n",
    "Hugoniot_func  = lambda T, n, P, E: E - E0_AU + 0.5 * (P+P0_AU)*(1/n - 1/n0_AU)\n",
    "Hugoniot_func = np.vectorize(Hugoniot_func)"
   ]
  },
  {
   "cell_type": "code",
   "execution_count": 52,
   "id": "2a74b4d0-5c28-4cf6-bf60-7fe1991a5355",
   "metadata": {
    "tags": []
   },
   "outputs": [
    {
     "name": "stdout",
     "output_type": "stream",
     "text": [
      "Te_in_eV: 0.086\n",
      "Ti_in_eV: 0.086\n"
     ]
    },
    {
     "name": "stderr",
     "output_type": "stream",
     "text": [
      "/home/zach/plasma/hnc/hnc/PIE.py:186: RuntimeWarning: overflow encountered in exp\n",
      "  integrand = lambda t: t*np.sin(sin_arg*t)/(1+np.exp(t**2-η))\n",
      "/home/zach/plasma/hnc/hnc/PIE.py:193: RuntimeWarning: overflow encountered in exp\n",
      "  f_of_k = 1/(  1+np.exp((dense_hnc.k_array/self.qsp.ri)**2/(2*m_e*self.qsp.Te) - η) )\n"
     ]
    },
    {
     "name": "stdout",
     "output_type": "stream",
     "text": [
      "0: Initial condition Total Error: 1.073e+00\n",
      "Exiting status 0, reverting to best index so far: 666\n",
      "Final iter:667, Total Error: 9.927e-09\n"
     ]
    }
   ],
   "source": [
    "plasma = plasma3(1000/eV_to_K, n0_cc)\n",
    "P_AU, E_AU  = plasma_output(plasma)"
   ]
  },
  {
   "cell_type": "code",
   "execution_count": 53,
   "id": "f99c7a49-e3b5-4140-84cc-8dbc89feddd0",
   "metadata": {
    "tags": []
   },
   "outputs": [
    {
     "data": {
      "text/plain": [
       "1.6972981688907185"
      ]
     },
     "execution_count": 53,
     "metadata": {},
     "output_type": "execute_result"
    }
   ],
   "source": [
    "np.max(plasma.hnc.h_r_matrix[0,0]+1)"
   ]
  },
  {
   "cell_type": "code",
   "execution_count": 54,
   "id": "a132097c-59a2-4763-ad7f-d8f3866c9fab",
   "metadata": {
    "tags": []
   },
   "outputs": [
    {
     "data": {
      "image/png": "[encoded data removed]",
      "text/plain": [
       "<Figure size 1600x800 with 1 Axes>"
      ]
     },
     "metadata": {},
     "output_type": "display_data"
    },
    {
     "data": {
      "image/png": "[encoded data removed]",
      "text/plain": [
       "<Figure size 1500x1000 with 1 Axes>"
      ]
     },
     "metadata": {},
     "output_type": "display_data"
    }
   ],
   "source": [
    "plasma.hnc.plot_g_all_species()\n",
    "fig, ax = plt.subplots()\n",
    "ax.plot(plasma.hnc.r_array, plasma.hnc.r_array**2*(plasma.hnc.h_r_matrix[0,1]+1))\n",
    "ax.set_yscale('log')\n",
    "ax.set_xscale('log')"
   ]
  },
  {
   "cell_type": "code",
   "execution_count": null,
   "id": "d625f25c-44c4-4444-a050-c58d5be9fcc3",
   "metadata": {
    "tags": []
   },
   "outputs": [
    {
     "name": "stdout",
     "output_type": "stream",
     "text": [
      "Te_in_eV: 0.002\n",
      "Ti_in_eV: 0.002\n",
      "0: Initial condition Total Error: 4.820e+01\n",
      "QUIT: Large Error at many iterations, and error not decreasing.\n",
      "Exiting status 3, reverting to best index so far: 730\n",
      "Final iter:738, Total Error: 3.292e-01\n"
     ]
    }
   ],
   "source": [
    "plasma = plasma3(19.6/eV_to_K, n0_cc)\n",
    "P_AU, E_AU  = plasma_output(plasma)"
   ]
  },
  {
   "cell_type": "code",
   "execution_count": 12,
   "id": "07c0d428-1110-43d7-aafe-dfdba17f3a07",
   "metadata": {
    "tags": []
   },
   "outputs": [
    {
     "name": "stdout",
     "output_type": "stream",
     "text": [
      "Te_in_eV: 0.100\n",
      "Ti_in_eV: 0.100\n",
      "0: Initial condition Total Error: 8.882e+00\n",
      "Exiting status 0, reverting to best index so far: 621\n",
      "Final iter:622, Total Error: 9.734e-09\n",
      "For ρ = 0.17 [g/cc], T=0.100 [eV], P=14.54967646348564 [GPa], E=-6.91685369375657 [eV]\n",
      "Te_in_eV: 1.000\n",
      "Ti_in_eV: 1.000\n",
      "0: Initial condition Total Error: 1.812e+00\n",
      "Exiting status 0, reverting to best index so far: 94\n",
      "Final iter:95, Total Error: 8.451e-09\n",
      "For ρ = 0.17 [g/cc], T=1.000 [eV], P=22.884452737159542 [GPa], E=-5.577841002804544 [eV]\n"
     ]
    },
    {
     "ename": "ValueError",
     "evalue": "f(a) and f(b) must have different signs",
     "output_type": "error",
     "traceback": [
      "\u001b[0;31m---------------------------------------------------------------------------\u001b[0m",
      "\u001b[0;31mValueError\u001b[0m                                Traceback (most recent call last)",
      "Cell \u001b[0;32mIn[12], line 17\u001b[0m\n\u001b[1;32m     15\u001b[0m     \u001b[38;5;28mprint\u001b[39m(\u001b[38;5;124mf\u001b[39m\u001b[38;5;124m\"\u001b[39m\u001b[38;5;124mConverged: ρ  = \u001b[39m\u001b[38;5;132;01m{\u001b[39;00mρ_gpercc\u001b[38;5;132;01m:\u001b[39;00m\u001b[38;5;124m.2f\u001b[39m\u001b[38;5;132;01m}\u001b[39;00m\u001b[38;5;124m [g/cc], T=\u001b[39m\u001b[38;5;132;01m{\u001b[39;00mT_eV_init\u001b[38;5;132;01m:\u001b[39;00m\u001b[38;5;124m.3f\u001b[39m\u001b[38;5;132;01m}\u001b[39;00m\u001b[38;5;124m [eV], P=\u001b[39m\u001b[38;5;132;01m{\u001b[39;00mP_init_AU\u001b[38;5;241m*\u001b[39mAU_to_Pa\u001b[38;5;241m/\u001b[39m\u001b[38;5;241m1e9\u001b[39m\u001b[38;5;132;01m}\u001b[39;00m\u001b[38;5;124m [GPa], E=\u001b[39m\u001b[38;5;132;01m{\u001b[39;00mE_init_AU\u001b[38;5;241m*\u001b[39mAU_to_eV\u001b[38;5;132;01m}\u001b[39;00m\u001b[38;5;124m [eV]\u001b[39m\u001b[38;5;124m\"\u001b[39m )\n\u001b[1;32m     16\u001b[0m     \u001b[38;5;28;01mreturn\u001b[39;00m sol, info\n\u001b[0;32m---> 17\u001b[0m \u001b[43mget_initial_conditions\u001b[49m\u001b[43m(\u001b[49m\u001b[43mP0_AU\u001b[49m\u001b[43m,\u001b[49m\u001b[43m \u001b[49m\u001b[43mρ0_gpercc\u001b[49m\u001b[43m,\u001b[49m\u001b[43m \u001b[49m\u001b[43mplasma_type\u001b[49m\u001b[38;5;241;43m=\u001b[39;49m\u001b[43mplasma3\u001b[49m\u001b[43m)\u001b[49m\n",
      "Cell \u001b[0;32mIn[12], line 12\u001b[0m, in \u001b[0;36mget_initial_conditions\u001b[0;34m(P0_AU, ρ_gpercc, plasma_type)\u001b[0m\n\u001b[1;32m      9\u001b[0m     \u001b[38;5;28mprint\u001b[39m(\u001b[38;5;124mf\u001b[39m\u001b[38;5;124m\"\u001b[39m\u001b[38;5;124mFor ρ = \u001b[39m\u001b[38;5;132;01m{\u001b[39;00mρ_gpercc\u001b[38;5;132;01m:\u001b[39;00m\u001b[38;5;124m.2f\u001b[39m\u001b[38;5;132;01m}\u001b[39;00m\u001b[38;5;124m [g/cc], T=\u001b[39m\u001b[38;5;132;01m{\u001b[39;00mT_eV\u001b[38;5;132;01m:\u001b[39;00m\u001b[38;5;124m.3f\u001b[39m\u001b[38;5;132;01m}\u001b[39;00m\u001b[38;5;124m [eV], P=\u001b[39m\u001b[38;5;132;01m{\u001b[39;00mP_AU\u001b[38;5;241m*\u001b[39mAU_to_Pa\u001b[38;5;241m/\u001b[39m\u001b[38;5;241m1e9\u001b[39m\u001b[38;5;132;01m}\u001b[39;00m\u001b[38;5;124m [GPa], E=\u001b[39m\u001b[38;5;132;01m{\u001b[39;00mE_AU\u001b[38;5;241m*\u001b[39mAU_to_eV\u001b[38;5;132;01m}\u001b[39;00m\u001b[38;5;124m [eV]\u001b[39m\u001b[38;5;124m\"\u001b[39m )\n\u001b[1;32m     10\u001b[0m     \u001b[38;5;28;01mreturn\u001b[39;00m P_AU\n\u001b[0;32m---> 12\u001b[0m sol \u001b[38;5;241m=\u001b[39m \u001b[43mroot_scalar\u001b[49m\u001b[43m(\u001b[49m\u001b[43mfind_T\u001b[49m\u001b[43m,\u001b[49m\u001b[43m \u001b[49m\u001b[43mxtol\u001b[49m\u001b[38;5;241;43m=\u001b[39;49m\u001b[38;5;241;43m0.01\u001b[39;49m\u001b[43m,\u001b[49m\u001b[43m \u001b[49m\u001b[43mbracket\u001b[49m\u001b[38;5;241;43m=\u001b[39;49m\u001b[43m[\u001b[49m\u001b[38;5;241;43m0.1\u001b[39;49m\u001b[43m,\u001b[49m\u001b[38;5;241;43m1\u001b[39;49m\u001b[43m]\u001b[49m\u001b[43m)\u001b[49m\n\u001b[1;32m     13\u001b[0m T_eV_init \u001b[38;5;241m=\u001b[39m sol\u001b[38;5;241m.\u001b[39mroot\n\u001b[1;32m     14\u001b[0m P_init_AU, E_init_AU \u001b[38;5;241m=\u001b[39m plasma_output(plasma_type(T_eV, ni_cc ))\n",
      "File \u001b[0;32m~/anaconda3/envs/zplasma/lib/python3.10/site-packages/scipy/optimize/_root_scalar.py:279\u001b[0m, in \u001b[0;36mroot_scalar\u001b[0;34m(f, args, method, bracket, fprime, fprime2, x0, x1, xtol, rtol, maxiter, options)\u001b[0m\n\u001b[1;32m    277\u001b[0m a, b \u001b[38;5;241m=\u001b[39m bracket[:\u001b[38;5;241m2\u001b[39m]\n\u001b[1;32m    278\u001b[0m \u001b[38;5;28;01mtry\u001b[39;00m:\n\u001b[0;32m--> 279\u001b[0m     r, sol \u001b[38;5;241m=\u001b[39m \u001b[43mmethodc\u001b[49m\u001b[43m(\u001b[49m\u001b[43mf\u001b[49m\u001b[43m,\u001b[49m\u001b[43m \u001b[49m\u001b[43ma\u001b[49m\u001b[43m,\u001b[49m\u001b[43m \u001b[49m\u001b[43mb\u001b[49m\u001b[43m,\u001b[49m\u001b[43m \u001b[49m\u001b[43margs\u001b[49m\u001b[38;5;241;43m=\u001b[39;49m\u001b[43margs\u001b[49m\u001b[43m,\u001b[49m\u001b[43m \u001b[49m\u001b[38;5;241;43m*\u001b[39;49m\u001b[38;5;241;43m*\u001b[39;49m\u001b[43mkwargs\u001b[49m\u001b[43m)\u001b[49m\n\u001b[1;32m    280\u001b[0m \u001b[38;5;28;01mexcept\u001b[39;00m \u001b[38;5;167;01mValueError\u001b[39;00m \u001b[38;5;28;01mas\u001b[39;00m e:\n\u001b[1;32m    281\u001b[0m     \u001b[38;5;66;03m# gh-17622 fixed some bugs in low-level solvers by raising an error\u001b[39;00m\n\u001b[1;32m    282\u001b[0m     \u001b[38;5;66;03m# (rather than returning incorrect results) when the callable\u001b[39;00m\n\u001b[1;32m    283\u001b[0m     \u001b[38;5;66;03m# returns a NaN. It did so by wrapping the callable rather than\u001b[39;00m\n\u001b[1;32m    284\u001b[0m     \u001b[38;5;66;03m# modifying compiled code, so the iteration count is not available.\u001b[39;00m\n\u001b[1;32m    285\u001b[0m     \u001b[38;5;28;01mif\u001b[39;00m \u001b[38;5;28mhasattr\u001b[39m(e, \u001b[38;5;124m\"\u001b[39m\u001b[38;5;124m_x\u001b[39m\u001b[38;5;124m\"\u001b[39m):\n",
      "File \u001b[0;32m~/anaconda3/envs/zplasma/lib/python3.10/site-packages/scipy/optimize/_zeros_py.py:799\u001b[0m, in \u001b[0;36mbrentq\u001b[0;34m(f, a, b, args, xtol, rtol, maxiter, full_output, disp)\u001b[0m\n\u001b[1;32m    797\u001b[0m     \u001b[38;5;28;01mraise\u001b[39;00m \u001b[38;5;167;01mValueError\u001b[39;00m(\u001b[38;5;124mf\u001b[39m\u001b[38;5;124m\"\u001b[39m\u001b[38;5;124mrtol too small (\u001b[39m\u001b[38;5;132;01m{\u001b[39;00mrtol\u001b[38;5;132;01m:\u001b[39;00m\u001b[38;5;124mg\u001b[39m\u001b[38;5;132;01m}\u001b[39;00m\u001b[38;5;124m < \u001b[39m\u001b[38;5;132;01m{\u001b[39;00m_rtol\u001b[38;5;132;01m:\u001b[39;00m\u001b[38;5;124mg\u001b[39m\u001b[38;5;132;01m}\u001b[39;00m\u001b[38;5;124m)\u001b[39m\u001b[38;5;124m\"\u001b[39m)\n\u001b[1;32m    798\u001b[0m f \u001b[38;5;241m=\u001b[39m _wrap_nan_raise(f)\n\u001b[0;32m--> 799\u001b[0m r \u001b[38;5;241m=\u001b[39m \u001b[43m_zeros\u001b[49m\u001b[38;5;241;43m.\u001b[39;49m\u001b[43m_brentq\u001b[49m\u001b[43m(\u001b[49m\u001b[43mf\u001b[49m\u001b[43m,\u001b[49m\u001b[43m \u001b[49m\u001b[43ma\u001b[49m\u001b[43m,\u001b[49m\u001b[43m \u001b[49m\u001b[43mb\u001b[49m\u001b[43m,\u001b[49m\u001b[43m \u001b[49m\u001b[43mxtol\u001b[49m\u001b[43m,\u001b[49m\u001b[43m \u001b[49m\u001b[43mrtol\u001b[49m\u001b[43m,\u001b[49m\u001b[43m \u001b[49m\u001b[43mmaxiter\u001b[49m\u001b[43m,\u001b[49m\u001b[43m \u001b[49m\u001b[43margs\u001b[49m\u001b[43m,\u001b[49m\u001b[43m \u001b[49m\u001b[43mfull_output\u001b[49m\u001b[43m,\u001b[49m\u001b[43m \u001b[49m\u001b[43mdisp\u001b[49m\u001b[43m)\u001b[49m\n\u001b[1;32m    800\u001b[0m \u001b[38;5;28;01mreturn\u001b[39;00m results_c(full_output, r)\n",
      "\u001b[0;31mValueError\u001b[0m: f(a) and f(b) must have different signs"
     ]
    }
   ],
   "source": [
    "from scipy.optimize import root_scalar\n",
    "\n",
    "def get_initial_conditions( P0_AU, ρ_gpercc, plasma_type=plasma3):\n",
    "    ni_cc = ρ_gpercc/ (2*m_p*AU_to_g)\n",
    "    \n",
    "    def find_T(T_eV):  \n",
    "        plasma = plasma_type(T_eV, ni_cc)\n",
    "        P_AU, E_AU  = plasma_output(plasma)\n",
    "        print(f\"For ρ = {ρ_gpercc:.2f} [g/cc], T={T_eV:.3f} [eV], P={P_AU*AU_to_Pa/1e9} [GPa], E={E_AU*AU_to_eV} [eV]\" )\n",
    "        return P_AU\n",
    "    \n",
    "    sol = root_scalar(find_T, xtol=0.01, bracket=[0.1,1])\n",
    "    T_eV_init = sol.root\n",
    "    P_init_AU, E_init_AU = plasma_output(plasma_type(T_eV, ni_cc ))\n",
    "    print(f\"Converged: ρ  = {ρ_gpercc:.2f} [g/cc], T={T_eV_init:.3f} [eV], P={P_init_AU*AU_to_Pa/1e9} [GPa], E={E_init_AU*AU_to_eV} [eV]\" )\n",
    "    return sol, info\n",
    "get_initial_conditions(P0_AU, ρ0_gpercc, plasma_type=plasma3)"
   ]
  },
  {
   "cell_type": "markdown",
   "id": "bbea7b15",
   "metadata": {},
   "source": [
    "### Set Parameters in Paper and Plot"
   ]
  },
  {
   "cell_type": "markdown",
   "id": "24950f8a-9691-4304-9c2a-2eb4a9512984",
   "metadata": {
    "jp-MarkdownHeadingCollapsed": true,
    "tags": []
   },
   "source": [
    "### Make Hugoniot Interpolation Table"
   ]
  },
  {
   "cell_type": "markdown",
   "id": "c3c7f6f7-11e6-4ec5-8024-394677b16d57",
   "metadata": {},
   "source": [
    "#### Compute all plasma models for grid of T and ρ"
   ]
  },
  {
   "cell_type": "code",
   "execution_count": null,
   "id": "25dd3863",
   "metadata": {
    "scrolled": true,
    "tags": []
   },
   "outputs": [
    {
     "name": "stdout",
     "output_type": "stream",
     "text": [
      "Te_in_eV: 0.050\n",
      "Ti_in_eV: 0.050\n"
     ]
    },
    {
     "name": "stderr",
     "output_type": "stream",
     "text": [
      "/home/zach/plasma/hnc/hnc/PIE.py:186: RuntimeWarning: overflow encountered in exp\n",
      "  integrand = lambda t: t*np.sin(sin_arg*t)/(1+np.exp(t**2-η))\n"
     ]
    }
   ],
   "source": [
    "PE_list_1 = []\n",
    "PE_list_2 = []\n",
    "PE_list_3 = []\n",
    "PE_list_4 = []\n",
    "\n",
    "for T_eV in Te_eV_list:\n",
    "    for rs in ri_AU_list:\n",
    "        ni_cc = n_from_rs(rs)*cm_to_AU**3\n",
    "        #1\n",
    "        # plasma = plasma1(T_eV, ni_cc)\n",
    "        # Pe_id, Pe_ex, Pe = plasma_output(plasma)\n",
    "        # P_list_1.append( [Pe_id, Pe_ex, Pe] )\n",
    "        #2\n",
    "        # plasma = plasma2(T_eV, ni_cc)\n",
    "        # Pe_id, Pe_ex, Pe = plasma_output(plasma)\n",
    "        # P_list_2.append( [Pe_id, Pe_ex, Pe] )\n",
    "        #3\n",
    "        plasma = plasma3(T_eV, ni_cc)\n",
    "        P_AU, E_AU  = plasma_output(plasma)\n",
    "        PE_list_3.append( [T_eV*eV_to_AU, ni_cc/cm_to_AU**3, P_AU, E_AU ] )\n",
    "        #4\n",
    "        # plasma = plasma4(T_eV, ni_cc)\n",
    "        # Pe_id, Pe_ex, Pe = plasma_output(plasma)\n",
    "        # P_list_4.append( [Pe_id, Pe_ex, Pe] )\n",
    "    "
   ]
  },
  {
   "cell_type": "markdown",
   "id": "d809b962-97cf-413f-9b1d-fffff9f8481c",
   "metadata": {},
   "source": [
    "Now Plot "
   ]
  },
  {
   "cell_type": "code",
   "execution_count": null,
   "id": "47071246-860e-4f63-8ae3-7438a4e072dd",
   "metadata": {
    "tags": []
   },
   "outputs": [],
   "source": [
    "PE_list_1 = np.array(PE_list_1)\n",
    "PE_list_2 = np.array(PE_list_2)\n",
    "PE_list_3 = np.array(PE_list_3)\n",
    "PE_list_4 = np.array(PE_list_4)"
   ]
  },
  {
   "cell_type": "code",
   "execution_count": null,
   "id": "6409fedf-41f6-4f0c-af1c-1d611f069f4c",
   "metadata": {},
   "outputs": [],
   "source": [
    "H_list = Hugoniot_func(*PE_list_3.T)\n",
    "H_list"
   ]
  },
  {
   "cell_type": "code",
   "execution_count": null,
   "id": "583a5b99-ab78-4e6c-aa18-ec7679082ece",
   "metadata": {},
   "outputs": [],
   "source": [
    "import numpy as np\n",
    "from tabulate import tabulate\n",
    "\n",
    "def generate_latex_table(data):\n",
    "    data = data.reshape(len(Te_eV_list), len(ri_AU_list),4)\n",
    "    # Assuming data is your NT x Nr x 4 tensor\n",
    "    # Replace the following line with your actual data\n",
    "    # data = np.random.rand(7, 3, 4)  # Example data: 7 Ts, 3 rs, and 4 values in the last dimension\n",
    "\n",
    "    # Extract the unique T and r values, and the P and E values\n",
    "    T_values = data[:, 0, 0]/eV_to_AU*eV_to_K\n",
    "    ni_AU_values = data[0, :, 1]\n",
    "    r_values = rs_from_n(ni_AU_values)\n",
    "    P_values = data[:, :, 2]*AU_to_Pa/1e9\n",
    "    E_values = data[:, :, 3]/eV_to_AU\n",
    "\n",
    "    # Create the table headers\n",
    "    headers = [\"$T$ [K]\"]\n",
    "    for r in r_values:\n",
    "        headers.extend([f\"($r_s={r:0.2f}$): $P$ [GPa]\", f\"$E$ [eV]\"])\n",
    "\n",
    "    # Create the table rows\n",
    "    table_rows = []\n",
    "    for i, T in enumerate(T_values):\n",
    "        row = [f\"{T}\"]\n",
    "        for j in range(len(r_values)):\n",
    "            row.extend([f\"{P_values[i, j]:.2f}\", f\"{E_values[i, j]:.2f}\"])\n",
    "        table_rows.append(row)\n",
    "\n",
    "    # Generate the LaTeX code\n",
    "    latex_table = tabulate(table_rows, headers, tablefmt=\"latex_raw\")\n",
    "\n",
    "    # Manually adjust the LaTeX code to add the rs line\n",
    "    rs_line = \" & \" + \" & \".join([f\"\\\\multicolumn{{2}}{{c|}}{{$r_s={r}$}}\" for r in r_values]) + \" \\\\\\\\ \\n\"\n",
    "    latex_table = latex_table.replace(\"\\\\toprule\", \"\\\\toprule\" + rs_line)\n",
    "\n",
    "    # Print the LaTeX code\n",
    "    print(latex_table)\n",
    "\n",
    "# Replace with your actual data\n",
    "generate_latex_table(PE_list_3)\n"
   ]
  },
  {
   "cell_type": "code",
   "execution_count": null,
   "id": "5fa44cb3-ff32-47e9-91b7-301b3f539460",
   "metadata": {},
   "outputs": [],
   "source": [
    "from scipy.interpolate import CloughTocher2DInterpolator, LinearNDInterpolator\n",
    "\n",
    "\n",
    "fig, ax = plt.subplots(figsize=(10,8))\n",
    "\n",
    "ρ_gpercc = 2*PE_list_3[:,1]*( (m_p*AU_to_g)*cm_to_AU**3)\n",
    "P_GPa = PE_list_3[:,2]*AU_to_Pa/1e9\n",
    "\n",
    "ρ_mesh, P_mesh = np.meshgrid(np.linspace( np.min(ρ_gpercc), np.max(ρ_gpercc),num=100), np.geomspace( np.min(np.abs(P_GPa)), np.max(P_GPa),num=100) )\n",
    "\n",
    "z = H_list\n",
    "# H_interp = CloughTocher2DInterpolator(list(zip(ρ_gpercc, P_GPa)), z)\n",
    "# H_mesh = H_interp(ρ_mesh, P_mesh)\n",
    "\n",
    "H_interp = LinearNDInterpolator(list(zip(ρ_gpercc, np.log10(np.abs(P_GPa)))), z, )\n",
    "H_mesh = H_interp(ρ_mesh, np.log10(np.abs(P_mesh)))\n",
    "\n",
    "cmesh = plt.pcolormesh(ρ_mesh, P_mesh, H_mesh, shading='auto')\n",
    "cntr2 = ax.contour(ρ_mesh, P_mesh, H_mesh, levels=[-0.1,0,0.1],colors='k', linestyles=['--','-','--'])#, cmap=\"RdBu_r\")\n",
    "\n",
    "ax.plot(ρ_gpercc, P_GPa, 'ko', ms=5)\n",
    "\n",
    "ax.set_yscale('log')\n",
    "\n",
    "ax.set_ylim(np.min(np.abs(P_GPa))*0.9, np.max(P_GPa)*1.1)\n",
    "ax.set_xlim(np.min(ρ_gpercc)*0.9, np.max(ρ_gpercc)*1.1)\n",
    "\n",
    "ax.set_xlabel(r\"$\\rho$ [g/cc]\", fontsize=20)\n",
    "ax.set_ylabel(r\"$P$ [GPa]\", fontsize=20)\n",
    "\n",
    "plt.subplots_adjust(hspace=0.5)\n",
    "\n",
    "plt.show()"
   ]
  },
  {
   "cell_type": "code",
   "execution_count": null,
   "id": "afb39be6-1b0b-43cd-bcae-34503b255140",
   "metadata": {},
   "outputs": [],
   "source": [
    "fig, ax = plt.subplots(figsize=(10,8))\n",
    "\n",
    "ρ_gpercc = 2*PE_list_3[:,1]*( (m_p*AU_to_g)*cm_to_AU**3)\n",
    "P_GPa = PE_list_3[:,2]*AU_to_Pa/1e9\n",
    "z = H_list\n",
    "# z = np.log10(np.abs(H_list))\n",
    "ax.tricontour(ρ_gpercc, np.log10(np.abs(P_GPa)) , z, levels=[-0.1,0,0.1], linewidths=0.5, colors='k')\n",
    "cntr2 = ax.tricontourf(ρ_gpercc, np.log10(np.abs(P_GPa)), z, levels=100, cmap=\"RdBu_r\")\n",
    "\n",
    "fig.colorbar(cntr2, ax=ax)\n",
    "\n",
    "ax.plot(ρ_gpercc, np.log10(P_GPa), 'ko', ms=5)\n",
    "\n",
    "# ax.set_yscale('log')\n",
    "\n",
    "# ax.set_ylim(np.min(P_GPa)*0.9, np.max(P_GPa)*1.1)\n",
    "ax.set_xlim(np.min(ρ_gpercc)*0.9, np.max(ρ_gpercc)*1.1)\n",
    "\n",
    "ax.set_xlabel(r\"$\\rho$ [g/cc]\", fontsize=20)\n",
    "ax.set_ylabel(r\"$P$ [GPa]\", fontsize=20)\n",
    "\n",
    "plt.subplots_adjust(hspace=0.5)\n",
    "plt.show()"
   ]
  },
  {
   "cell_type": "markdown",
   "id": "c5294184-cafa-49b3-b218-8c7649ec72d8",
   "metadata": {
    "tags": []
   },
   "source": [
    "\n",
    "## Try Root Finding Hugoniot"
   ]
  },
  {
   "cell_type": "code",
   "execution_count": 5,
   "id": "f11cba34-9e45-4ad2-a22b-9f8364719f14",
   "metadata": {
    "scrolled": true,
    "tags": []
   },
   "outputs": [
    {
     "name": "stdout",
     "output_type": "stream",
     "text": [
      "Te_in_eV: 0.052\n",
      "Ti_in_eV: 0.052\n"
     ]
    },
    {
     "name": "stderr",
     "output_type": "stream",
     "text": [
      "/home/zach/plasma/hnc/hnc/PIE.py:186: RuntimeWarning: overflow encountered in exp\n",
      "  integrand = lambda t: t*np.sin(sin_arg*t)/(1+np.exp(t**2-η))\n",
      "/home/zach/plasma/hnc/hnc/PIE.py:193: RuntimeWarning: overflow encountered in exp\n",
      "  f_of_k = 1/(  1+np.exp((dense_hnc.k_array/self.qsp.ri)**2/(2*m_e*self.qsp.Te) - η) )\n"
     ]
    },
    {
     "name": "stdout",
     "output_type": "stream",
     "text": [
      "0: Initial condition Total Error: 1.733e+01\n",
      "Exiting status 0, reverting to best index so far: 1556\n",
      "Final iter:1557, Total Error: 9.969e-09\n",
      "For ρ = 0.50 [g/cc], H=0.146 [AU], P=-218.28839184433227 [GPa], E=-20.670846814978905 [eV]\n",
      "Te_in_eV: 0.052\n",
      "Ti_in_eV: 0.052\n",
      "0: Initial condition Total Error: 2.007e+01\n",
      "Exiting status 0, reverting to best index so far: 1940\n",
      "Final iter:1941, Total Error: 9.993e-09\n",
      "For ρ = 1.00 [g/cc], H=0.429 [AU], P=-300.69253285780724 [GPa], E=-19.402502262875494 [eV]\n",
      "Te_in_eV: 0.052\n",
      "Ti_in_eV: 0.052\n",
      "0: Initial condition Total Error: 1.488e+01\n",
      "Exiting status 0, reverting to best index so far: 1229\n",
      "Final iter:1230, Total Error: 9.893e-09\n",
      "For ρ = 0.24 [g/cc], H=-0.141 [AU], P=-141.18655671242584 [GPa], E=-22.247955642849945 [eV]\n",
      "Te_in_eV: 0.052\n",
      "Ti_in_eV: 0.052\n",
      "0: Initial condition Total Error: 1.678e+01\n",
      "Exiting status 0, reverting to best index so far: 1482\n",
      "Final iter:1483, Total Error: 9.914e-09\n",
      "For ρ = 0.43 [g/cc], H=0.083 [AU], P=-199.95408041203984 [GPa], E=-20.953734239151494 [eV]\n",
      "Te_in_eV: 0.052\n",
      "Ti_in_eV: 0.052\n",
      "0: Initial condition Total Error: 1.616e+01\n",
      "Exiting status 0, reverting to best index so far: 1399\n",
      "Final iter:1400, Total Error: 9.971e-09\n",
      "For ρ = 0.36 [g/cc], H=0.012 [AU], P=-179.952116018009 [GPa], E=-21.30622099853113 [eV]\n",
      "Te_in_eV: 0.052\n",
      "Ti_in_eV: 0.052\n",
      "0: Initial condition Total Error: 1.605e+01\n",
      "Exiting status 0, reverting to best index so far: 1384\n",
      "Final iter:1385, Total Error: 9.905e-09\n",
      "For ρ = 0.35 [g/cc], H=-0.001 [AU], P=-176.2586723883068 [GPa], E=-21.378455684343976 [eV]\n",
      "Te_in_eV: 0.052\n",
      "Ti_in_eV: 0.052\n",
      "0: Initial condition Total Error: 1.606e+01\n",
      "Exiting status 0, reverting to best index so far: 1385\n",
      "Final iter:1386, Total Error: 9.951e-09\n",
      "Converged: ρ = 0.35 [g/cc], H=0.000 [AU], P=-176.58297098457467 [GPa], E=-21.37200576153712 [eV]\n",
      "\n",
      "Te_in_eV: 0.143\n",
      "Ti_in_eV: 0.143\n",
      "0: Initial condition Total Error: 8.838e+00\n",
      "Exiting status 0, reverting to best index so far: 613\n",
      "Final iter:614, Total Error: 9.944e-09\n",
      "For ρ = 0.50 [g/cc], H=0.131 [AU], P=-212.03228083994088 [GPa], E=-20.83625864776103 [eV]\n",
      "Te_in_eV: 0.143\n",
      "Ti_in_eV: 0.143\n",
      "0: Initial condition Total Error: 1.032e+01\n",
      "Exiting status 0, reverting to best index so far: 764\n",
      "Final iter:765, Total Error: 9.965e-09\n",
      "For ρ = 1.00 [g/cc], H=0.408 [AU], P=-290.1122151644721 [GPa], E=-19.43714055902874 [eV]\n",
      "Te_in_eV: 0.143\n",
      "Ti_in_eV: 0.143\n",
      "0: Initial condition Total Error: 7.673e+00\n",
      "Exiting status 0, reverting to best index so far: 493\n",
      "Final iter:494, Total Error: 9.756e-09\n",
      "For ρ = 0.26 [g/cc], H=-0.122 [AU], P=-144.82328516444292 [GPa], E=-22.33405842043696 [eV]\n",
      "Te_in_eV: 0.143\n",
      "Ti_in_eV: 0.143\n",
      "0: Initial condition Total Error: 8.562e+00\n",
      "Exiting status 0, reverting to best index so far: 585\n",
      "Final iter:586, Total Error: 9.927e-09\n",
      "For ρ = 0.43 [g/cc], H=0.073 [AU], P=-195.51821100471403 [GPa], E=-21.129767168040146 [eV]\n",
      "Te_in_eV: 0.143\n",
      "Ti_in_eV: 0.143\n",
      "0: Initial condition Total Error: 8.267e+00\n",
      "Exiting status 0, reverting to best index so far: 555\n",
      "Final iter:556, Total Error: 9.834e-09\n",
      "For ρ = 0.37 [g/cc], H=0.010 [AU], P=-178.08952442067408 [GPa], E=-21.476837877208343 [eV]\n",
      "Te_in_eV: 0.143\n",
      "Ti_in_eV: 0.143\n",
      "0: Initial condition Total Error: 8.219e+00\n",
      "Exiting status 0, reverting to best index so far: 550\n",
      "Final iter:551, Total Error: 9.858e-09\n",
      "Converged: ρ = 0.36 [g/cc], H=-0.001 [AU], P=-175.3194437589343 [GPa], E=-21.536860837130842 [eV]\n",
      "\n",
      "Te_in_eV: 0.397\n",
      "Ti_in_eV: 0.397\n",
      "0: Initial condition Total Error: 4.326e+00\n",
      "Exiting status 0, reverting to best index so far: 250\n",
      "Final iter:251, Total Error: 9.823e-09\n",
      "For ρ = 0.50 [g/cc], H=0.109 [AU], P=-199.17555417105902 [GPa], E=-20.90441198836997 [eV]\n",
      "Te_in_eV: 0.397\n",
      "Ti_in_eV: 0.397\n",
      "0: Initial condition Total Error: 5.097e+00\n",
      "Exiting status 0, reverting to best index so far: 317\n",
      "Final iter:318, Total Error: 9.497e-09\n",
      "For ρ = 1.00 [g/cc], H=0.372 [AU], P=-268.52443542738735 [GPa], E=-19.318911882543272 [eV]\n",
      "Te_in_eV: 0.397\n",
      "Ti_in_eV: 0.397\n",
      "0: Initial condition Total Error: 3.824e+00\n",
      "Exiting status 0, reverting to best index so far: 200\n",
      "Final iter:201, Total Error: 9.334e-09\n",
      "For ρ = 0.29 [g/cc], H=-0.102 [AU], P=-144.30723623320478 [GPa], E=-22.309013903751747 [eV]\n",
      "Te_in_eV: 0.397\n",
      "Ti_in_eV: 0.397\n",
      "0: Initial condition Total Error: 4.208e+00\n",
      "Exiting status 0, reverting to best index so far: 239\n",
      "Final iter:240, Total Error: 9.813e-09\n",
      "For ρ = 0.44 [g/cc], H=0.062 [AU], P=-186.23421588909744 [GPa], E=-21.183911310194528 [eV]\n",
      "Te_in_eV: 0.397\n",
      "Ti_in_eV: 0.397\n",
      "0: Initial condition Total Error: 4.075e+00\n",
      "Exiting status 0, reverting to best index so far: 226\n",
      "Final iter:227, Total Error: 9.859e-09\n",
      "For ρ = 0.39 [g/cc], H=0.007 [AU], P=-171.57691931281312 [GPa], E=-21.528627653885273 [eV]\n",
      "Te_in_eV: 0.397\n",
      "Ti_in_eV: 0.397\n",
      "0: Initial condition Total Error: 4.056e+00\n",
      "Exiting status 0, reverting to best index so far: 224\n",
      "Final iter:225, Total Error: 9.994e-09\n",
      "Converged: ρ = 0.38 [g/cc], H=-0.001 [AU], P=-169.5696645847578 [GPa], E=-21.578968473033672 [eV]\n",
      "\n",
      "Te_in_eV: 1.102\n",
      "Ti_in_eV: 1.102\n",
      "0: Initial condition Total Error: 2.029e+00\n",
      "Exiting status 0, reverting to best index so far: 102\n",
      "Final iter:103, Total Error: 8.969e-09\n",
      "For ρ = 0.50 [g/cc], H=0.086 [AU], P=-160.65919201525162 [GPa], E=-19.997921885257664 [eV]\n",
      "Te_in_eV: 1.102\n",
      "Ti_in_eV: 1.102\n",
      "0: Initial condition Total Error: 2.398e+00\n",
      "Exiting status 0, reverting to best index so far: 138\n",
      "Final iter:139, Total Error: 8.942e-09\n",
      "For ρ = 1.00 [g/cc], H=0.300 [AU], P=-211.76225664841746 [GPa], E=-18.41195686613886 [eV]\n",
      "Te_in_eV: 1.102\n",
      "Ti_in_eV: 1.102\n",
      "0: Initial condition Total Error: 1.837e+00\n",
      "Exiting status 0, reverting to best index so far: 67\n",
      "Final iter:68, Total Error: 9.547e-09\n",
      "For ρ = 0.30 [g/cc], H=-0.089 [AU], P=-114.07747030465025 [GPa], E=-21.30461396042506 [eV]\n",
      "Te_in_eV: 1.102\n",
      "Ti_in_eV: 1.102\n",
      "0: Initial condition Total Error: 1.992e+00\n",
      "Exiting status 0, reverting to best index so far: 97\n",
      "Final iter:98, Total Error: 9.446e-09\n",
      "For ρ = 0.46 [g/cc], H=0.057 [AU], P=-152.80093618813257 [GPa], E=-20.18243990331433 [eV]\n",
      "Te_in_eV: 1.102\n",
      "Ti_in_eV: 1.102\n",
      "0: Initial condition Total Error: 1.931e+00\n",
      "Exiting status 0, reverting to best index so far: 88\n",
      "Final iter:89, Total Error: 9.762e-09\n",
      "For ρ = 0.40 [g/cc], H=0.007 [AU], P=-139.0203782993463 [GPa], E=-20.52321428762724 [eV]\n",
      "Te_in_eV: 1.102\n",
      "Ti_in_eV: 1.102\n",
      "0: Initial condition Total Error: 1.922e+00\n",
      "Exiting status 0, reverting to best index so far: 87\n",
      "Final iter:88, Total Error: 8.904e-09\n",
      "Converged: ρ = 0.39 [g/cc], H=-0.001 [AU], P=-136.92053302699847 [GPa], E=-20.578441240859302 [eV]\n",
      "\n",
      "Te_in_eV: 3.054\n",
      "Ti_in_eV: 3.054\n",
      "0: Initial condition Total Error: 9.857e-01\n",
      "Exiting status 0, reverting to best index so far: 41\n",
      "Final iter:42, Total Error: 9.726e-09\n",
      "For ρ = 0.50 [g/cc], H=0.107 [AU], P=-27.7815088121396 [GPa], E=-14.079453962337068 [eV]\n",
      "Te_in_eV: 3.054\n",
      "Ti_in_eV: 3.054\n",
      "0: Initial condition Total Error: 1.080e+00\n",
      "Exiting status 0, reverting to best index so far: 62\n",
      "Final iter:63, Total Error: 7.853e-09\n",
      "For ρ = 1.00 [g/cc], H=0.108 [AU], P=-18.462670466573947 [GPa], E=-13.879725771781574 [eV]\n",
      "Te_in_eV: 3.054\n",
      "Ti_in_eV: 3.054\n",
      "0: Initial condition Total Error: nan\n",
      "QUIT: c_r is nan.\n",
      "Exiting status 1, reverting to best index so far: 0\n",
      "Final iter:1, Total Error: nan\n",
      "For ρ = -78.80 [g/cc], H=nan [AU], P=nan [GPa], E=nan [eV]\n",
      "Te_in_eV: 3.054\n",
      "Ti_in_eV: 3.054\n"
     ]
    },
    {
     "name": "stderr",
     "output_type": "stream",
     "text": [
      "/home/zach/plasma/hnc/hnc/misc.py:32: RuntimeWarning: invalid value encountered in scalar power\n",
      "  return (4/3*π*n)**(-1/3)\n",
      "/home/zach/plasma/hnc/hnc/qsps.py:53: RuntimeWarning: invalid value encountered in scalar power\n",
      "  self.E_F = 1/(2*m_e) * (3*π**2 * self.ne)**(2/3)\n",
      "/home/zach/plasma/hnc/hnc/misc.py:7: RuntimeWarning: invalid value encountered in scalar power\n",
      "  E_F = 1/(2*m_e) * (3*π**2 * ne)**(2/3)\n",
      "/home/zach/plasma/hnc/hnc/qsps.py:66: RuntimeWarning: invalid value encountered in sqrt\n",
      "  self.lambda_TF = np.sqrt( self.Te / (4*π*self.ne)  )\n",
      "/home/zach/anaconda3/envs/zplasma/lib/python3.10/site-packages/numpy/lib/function_base.py:2455: RuntimeWarning: invalid value encountered in Fonehalf (vectorized)\n",
      "  outputs = ufunc(*inputs)\n"
     ]
    },
    {
     "name": "stdout",
     "output_type": "stream",
     "text": [
      "0: Initial condition Total Error: nan\n",
      "QUIT: c_r is nan.\n",
      "Exiting status 1, reverting to best index so far: 0\n",
      "Final iter:1, Total Error: nan\n",
      "For ρ = nan [g/cc], H=nan [AU], P=nan [GPa], E=nan [eV]\n",
      "Te_in_eV: 3.054\n",
      "Ti_in_eV: 3.054\n",
      "0: Initial condition Total Error: nan\n",
      "QUIT: c_r is nan.\n",
      "Exiting status 1, reverting to best index so far: 0\n",
      "Final iter:1, Total Error: nan\n",
      "For ρ = nan [g/cc], H=nan [AU], P=nan [GPa], E=nan [eV]\n",
      "Te_in_eV: 3.054\n",
      "Ti_in_eV: 3.054\n",
      "0: Initial condition Total Error: nan\n",
      "QUIT: c_r is nan.\n",
      "Exiting status 1, reverting to best index so far: 0\n",
      "Final iter:1, Total Error: nan\n",
      "For ρ = nan [g/cc], H=nan [AU], P=nan [GPa], E=nan [eV]\n",
      "Te_in_eV: 3.054\n",
      "Ti_in_eV: 3.054\n",
      "0: Initial condition Total Error: nan\n",
      "QUIT: c_r is nan.\n",
      "Exiting status 1, reverting to best index so far: 0\n",
      "Final iter:1, Total Error: nan\n",
      "For ρ = nan [g/cc], H=nan [AU], P=nan [GPa], E=nan [eV]\n",
      "Te_in_eV: 3.054\n",
      "Ti_in_eV: 3.054\n",
      "0: Initial condition Total Error: nan\n",
      "QUIT: c_r is nan.\n",
      "Exiting status 1, reverting to best index so far: 0\n",
      "Final iter:1, Total Error: nan\n",
      "For ρ = nan [g/cc], H=nan [AU], P=nan [GPa], E=nan [eV]\n",
      "Te_in_eV: 3.054\n",
      "Ti_in_eV: 3.054\n",
      "0: Initial condition Total Error: nan\n",
      "QUIT: c_r is nan.\n",
      "Exiting status 1, reverting to best index so far: 0\n",
      "Final iter:1, Total Error: nan\n",
      "For ρ = nan [g/cc], H=nan [AU], P=nan [GPa], E=nan [eV]\n",
      "Te_in_eV: 3.054\n",
      "Ti_in_eV: 3.054\n",
      "0: Initial condition Total Error: nan\n",
      "QUIT: c_r is nan.\n",
      "Exiting status 1, reverting to best index so far: 0\n",
      "Final iter:1, Total Error: nan\n",
      "For ρ = nan [g/cc], H=nan [AU], P=nan [GPa], E=nan [eV]\n",
      "Te_in_eV: 3.054\n",
      "Ti_in_eV: 3.054\n",
      "0: Initial condition Total Error: nan\n",
      "QUIT: c_r is nan.\n",
      "Exiting status 1, reverting to best index so far: 0\n",
      "Final iter:1, Total Error: nan\n",
      "For ρ = nan [g/cc], H=nan [AU], P=nan [GPa], E=nan [eV]\n",
      "Te_in_eV: 3.054\n",
      "Ti_in_eV: 3.054\n",
      "0: Initial condition Total Error: nan\n",
      "QUIT: c_r is nan.\n",
      "Exiting status 1, reverting to best index so far: 0\n",
      "Final iter:1, Total Error: nan\n",
      "For ρ = nan [g/cc], H=nan [AU], P=nan [GPa], E=nan [eV]\n",
      "Te_in_eV: 3.054\n",
      "Ti_in_eV: 3.054\n",
      "0: Initial condition Total Error: nan\n",
      "QUIT: c_r is nan.\n",
      "Exiting status 1, reverting to best index so far: 0\n",
      "Final iter:1, Total Error: nan\n",
      "For ρ = nan [g/cc], H=nan [AU], P=nan [GPa], E=nan [eV]\n",
      "Te_in_eV: 3.054\n",
      "Ti_in_eV: 3.054\n",
      "0: Initial condition Total Error: nan\n",
      "QUIT: c_r is nan.\n",
      "Exiting status 1, reverting to best index so far: 0\n",
      "Final iter:1, Total Error: nan\n",
      "For ρ = nan [g/cc], H=nan [AU], P=nan [GPa], E=nan [eV]\n",
      "Te_in_eV: 3.054\n",
      "Ti_in_eV: 3.054\n",
      "0: Initial condition Total Error: nan\n",
      "QUIT: c_r is nan.\n",
      "Exiting status 1, reverting to best index so far: 0\n",
      "Final iter:1, Total Error: nan\n",
      "For ρ = nan [g/cc], H=nan [AU], P=nan [GPa], E=nan [eV]\n",
      "Te_in_eV: 3.054\n",
      "Ti_in_eV: 3.054\n",
      "0: Initial condition Total Error: nan\n",
      "QUIT: c_r is nan.\n",
      "Exiting status 1, reverting to best index so far: 0\n",
      "Final iter:1, Total Error: nan\n",
      "For ρ = nan [g/cc], H=nan [AU], P=nan [GPa], E=nan [eV]\n",
      "Te_in_eV: 3.054\n",
      "Ti_in_eV: 3.054\n",
      "0: Initial condition Total Error: nan\n",
      "QUIT: c_r is nan.\n",
      "Exiting status 1, reverting to best index so far: 0\n",
      "Final iter:1, Total Error: nan\n",
      "For ρ = nan [g/cc], H=nan [AU], P=nan [GPa], E=nan [eV]\n",
      "Te_in_eV: 3.054\n",
      "Ti_in_eV: 3.054\n",
      "0: Initial condition Total Error: nan\n",
      "QUIT: c_r is nan.\n",
      "Exiting status 1, reverting to best index so far: 0\n",
      "Final iter:1, Total Error: nan\n",
      "For ρ = nan [g/cc], H=nan [AU], P=nan [GPa], E=nan [eV]\n",
      "Te_in_eV: 3.054\n",
      "Ti_in_eV: 3.054\n",
      "0: Initial condition Total Error: nan\n",
      "QUIT: c_r is nan.\n",
      "Exiting status 1, reverting to best index so far: 0\n",
      "Final iter:1, Total Error: nan\n",
      "For ρ = nan [g/cc], H=nan [AU], P=nan [GPa], E=nan [eV]\n",
      "Te_in_eV: 3.054\n",
      "Ti_in_eV: 3.054\n",
      "0: Initial condition Total Error: nan\n",
      "QUIT: c_r is nan.\n",
      "Exiting status 1, reverting to best index so far: 0\n",
      "Final iter:1, Total Error: nan\n",
      "For ρ = nan [g/cc], H=nan [AU], P=nan [GPa], E=nan [eV]\n",
      "Te_in_eV: 3.054\n",
      "Ti_in_eV: 3.054\n",
      "0: Initial condition Total Error: nan\n",
      "QUIT: c_r is nan.\n",
      "Exiting status 1, reverting to best index so far: 0\n",
      "Final iter:1, Total Error: nan\n",
      "For ρ = nan [g/cc], H=nan [AU], P=nan [GPa], E=nan [eV]\n",
      "Te_in_eV: 3.054\n",
      "Ti_in_eV: 3.054\n",
      "0: Initial condition Total Error: nan\n",
      "QUIT: c_r is nan.\n",
      "Exiting status 1, reverting to best index so far: 0\n",
      "Final iter:1, Total Error: nan\n",
      "For ρ = nan [g/cc], H=nan [AU], P=nan [GPa], E=nan [eV]\n",
      "Te_in_eV: 3.054\n",
      "Ti_in_eV: 3.054\n",
      "0: Initial condition Total Error: nan\n",
      "QUIT: c_r is nan.\n",
      "Exiting status 1, reverting to best index so far: 0\n",
      "Final iter:1, Total Error: nan\n",
      "For ρ = nan [g/cc], H=nan [AU], P=nan [GPa], E=nan [eV]\n",
      "Te_in_eV: 3.054\n",
      "Ti_in_eV: 3.054\n",
      "0: Initial condition Total Error: nan\n",
      "QUIT: c_r is nan.\n",
      "Exiting status 1, reverting to best index so far: 0\n",
      "Final iter:1, Total Error: nan\n",
      "For ρ = nan [g/cc], H=nan [AU], P=nan [GPa], E=nan [eV]\n",
      "Te_in_eV: 3.054\n",
      "Ti_in_eV: 3.054\n",
      "0: Initial condition Total Error: nan\n",
      "QUIT: c_r is nan.\n",
      "Exiting status 1, reverting to best index so far: 0\n",
      "Final iter:1, Total Error: nan\n",
      "For ρ = nan [g/cc], H=nan [AU], P=nan [GPa], E=nan [eV]\n",
      "Te_in_eV: 3.054\n",
      "Ti_in_eV: 3.054\n",
      "0: Initial condition Total Error: nan\n",
      "QUIT: c_r is nan.\n",
      "Exiting status 1, reverting to best index so far: 0\n",
      "Final iter:1, Total Error: nan\n",
      "For ρ = nan [g/cc], H=nan [AU], P=nan [GPa], E=nan [eV]\n",
      "Te_in_eV: 3.054\n",
      "Ti_in_eV: 3.054\n",
      "0: Initial condition Total Error: nan\n",
      "QUIT: c_r is nan.\n",
      "Exiting status 1, reverting to best index so far: 0\n",
      "Final iter:1, Total Error: nan\n",
      "For ρ = nan [g/cc], H=nan [AU], P=nan [GPa], E=nan [eV]\n",
      "Te_in_eV: 3.054\n",
      "Ti_in_eV: 3.054\n",
      "0: Initial condition Total Error: nan\n",
      "QUIT: c_r is nan.\n",
      "Exiting status 1, reverting to best index so far: 0\n",
      "Final iter:1, Total Error: nan\n",
      "For ρ = nan [g/cc], H=nan [AU], P=nan [GPa], E=nan [eV]\n",
      "Te_in_eV: 3.054\n",
      "Ti_in_eV: 3.054\n",
      "0: Initial condition Total Error: nan\n",
      "QUIT: c_r is nan.\n",
      "Exiting status 1, reverting to best index so far: 0\n",
      "Final iter:1, Total Error: nan\n",
      "For ρ = nan [g/cc], H=nan [AU], P=nan [GPa], E=nan [eV]\n",
      "Te_in_eV: 3.054\n",
      "Ti_in_eV: 3.054\n",
      "0: Initial condition Total Error: nan\n",
      "QUIT: c_r is nan.\n",
      "Exiting status 1, reverting to best index so far: 0\n",
      "Final iter:1, Total Error: nan\n",
      "For ρ = nan [g/cc], H=nan [AU], P=nan [GPa], E=nan [eV]\n",
      "Te_in_eV: 3.054\n",
      "Ti_in_eV: 3.054\n",
      "0: Initial condition Total Error: nan\n",
      "QUIT: c_r is nan.\n",
      "Exiting status 1, reverting to best index so far: 0\n",
      "Final iter:1, Total Error: nan\n",
      "For ρ = nan [g/cc], H=nan [AU], P=nan [GPa], E=nan [eV]\n",
      "Te_in_eV: 3.054\n",
      "Ti_in_eV: 3.054\n",
      "0: Initial condition Total Error: nan\n",
      "QUIT: c_r is nan.\n",
      "Exiting status 1, reverting to best index so far: 0\n",
      "Final iter:1, Total Error: nan\n",
      "For ρ = nan [g/cc], H=nan [AU], P=nan [GPa], E=nan [eV]\n",
      "Te_in_eV: 3.054\n",
      "Ti_in_eV: 3.054\n",
      "0: Initial condition Total Error: nan\n",
      "QUIT: c_r is nan.\n",
      "Exiting status 1, reverting to best index so far: 0\n",
      "Final iter:1, Total Error: nan\n",
      "For ρ = nan [g/cc], H=nan [AU], P=nan [GPa], E=nan [eV]\n",
      "Te_in_eV: 3.054\n",
      "Ti_in_eV: 3.054\n",
      "0: Initial condition Total Error: nan\n",
      "QUIT: c_r is nan.\n",
      "Exiting status 1, reverting to best index so far: 0\n",
      "Final iter:1, Total Error: nan\n",
      "For ρ = nan [g/cc], H=nan [AU], P=nan [GPa], E=nan [eV]\n",
      "Te_in_eV: 3.054\n",
      "Ti_in_eV: 3.054\n",
      "0: Initial condition Total Error: nan\n",
      "QUIT: c_r is nan.\n",
      "Exiting status 1, reverting to best index so far: 0\n",
      "Final iter:1, Total Error: nan\n",
      "For ρ = nan [g/cc], H=nan [AU], P=nan [GPa], E=nan [eV]\n",
      "Te_in_eV: 3.054\n",
      "Ti_in_eV: 3.054\n",
      "0: Initial condition Total Error: nan\n",
      "QUIT: c_r is nan.\n",
      "Exiting status 1, reverting to best index so far: 0\n",
      "Final iter:1, Total Error: nan\n",
      "For ρ = nan [g/cc], H=nan [AU], P=nan [GPa], E=nan [eV]\n",
      "Te_in_eV: 3.054\n",
      "Ti_in_eV: 3.054\n",
      "0: Initial condition Total Error: nan\n",
      "QUIT: c_r is nan.\n",
      "Exiting status 1, reverting to best index so far: 0\n",
      "Final iter:1, Total Error: nan\n",
      "For ρ = nan [g/cc], H=nan [AU], P=nan [GPa], E=nan [eV]\n",
      "Te_in_eV: 3.054\n",
      "Ti_in_eV: 3.054\n",
      "0: Initial condition Total Error: nan\n",
      "QUIT: c_r is nan.\n",
      "Exiting status 1, reverting to best index so far: 0\n",
      "Final iter:1, Total Error: nan\n",
      "For ρ = nan [g/cc], H=nan [AU], P=nan [GPa], E=nan [eV]\n",
      "Te_in_eV: 3.054\n",
      "Ti_in_eV: 3.054\n",
      "0: Initial condition Total Error: nan\n",
      "QUIT: c_r is nan.\n",
      "Exiting status 1, reverting to best index so far: 0\n",
      "Final iter:1, Total Error: nan\n",
      "For ρ = nan [g/cc], H=nan [AU], P=nan [GPa], E=nan [eV]\n",
      "Te_in_eV: 3.054\n",
      "Ti_in_eV: 3.054\n",
      "0: Initial condition Total Error: nan\n",
      "QUIT: c_r is nan.\n",
      "Exiting status 1, reverting to best index so far: 0\n",
      "Final iter:1, Total Error: nan\n",
      "For ρ = nan [g/cc], H=nan [AU], P=nan [GPa], E=nan [eV]\n",
      "Te_in_eV: 3.054\n",
      "Ti_in_eV: 3.054\n",
      "0: Initial condition Total Error: nan\n",
      "QUIT: c_r is nan.\n",
      "Exiting status 1, reverting to best index so far: 0\n",
      "Final iter:1, Total Error: nan\n",
      "For ρ = nan [g/cc], H=nan [AU], P=nan [GPa], E=nan [eV]\n",
      "Te_in_eV: 3.054\n",
      "Ti_in_eV: 3.054\n",
      "0: Initial condition Total Error: nan\n",
      "QUIT: c_r is nan.\n",
      "Exiting status 1, reverting to best index so far: 0\n",
      "Final iter:1, Total Error: nan\n",
      "For ρ = nan [g/cc], H=nan [AU], P=nan [GPa], E=nan [eV]\n",
      "Te_in_eV: 3.054\n",
      "Ti_in_eV: 3.054\n",
      "0: Initial condition Total Error: nan\n",
      "QUIT: c_r is nan.\n",
      "Exiting status 1, reverting to best index so far: 0\n",
      "Final iter:1, Total Error: nan\n",
      "For ρ = nan [g/cc], H=nan [AU], P=nan [GPa], E=nan [eV]\n",
      "Te_in_eV: 3.054\n",
      "Ti_in_eV: 3.054\n",
      "0: Initial condition Total Error: nan\n",
      "QUIT: c_r is nan.\n",
      "Exiting status 1, reverting to best index so far: 0\n",
      "Final iter:1, Total Error: nan\n",
      "For ρ = nan [g/cc], H=nan [AU], P=nan [GPa], E=nan [eV]\n",
      "Te_in_eV: 3.054\n",
      "Ti_in_eV: 3.054\n",
      "0: Initial condition Total Error: nan\n",
      "QUIT: c_r is nan.\n",
      "Exiting status 1, reverting to best index so far: 0\n",
      "Final iter:1, Total Error: nan\n",
      "For ρ = nan [g/cc], H=nan [AU], P=nan [GPa], E=nan [eV]\n",
      "Te_in_eV: 3.054\n",
      "Ti_in_eV: 3.054\n",
      "0: Initial condition Total Error: nan\n",
      "QUIT: c_r is nan.\n",
      "Exiting status 1, reverting to best index so far: 0\n",
      "Final iter:1, Total Error: nan\n",
      "For ρ = nan [g/cc], H=nan [AU], P=nan [GPa], E=nan [eV]\n",
      "Te_in_eV: 3.054\n",
      "Ti_in_eV: 3.054\n",
      "0: Initial condition Total Error: nan\n",
      "QUIT: c_r is nan.\n",
      "Exiting status 1, reverting to best index so far: 0\n",
      "Final iter:1, Total Error: nan\n",
      "For ρ = nan [g/cc], H=nan [AU], P=nan [GPa], E=nan [eV]\n",
      "Te_in_eV: 3.054\n",
      "Ti_in_eV: 3.054\n",
      "0: Initial condition Total Error: nan\n",
      "QUIT: c_r is nan.\n",
      "Exiting status 1, reverting to best index so far: 0\n",
      "Final iter:1, Total Error: nan\n",
      "For ρ = nan [g/cc], H=nan [AU], P=nan [GPa], E=nan [eV]\n",
      "Te_in_eV: 3.054\n",
      "Ti_in_eV: 3.054\n",
      "0: Initial condition Total Error: nan\n",
      "QUIT: c_r is nan.\n",
      "Exiting status 1, reverting to best index so far: 0\n",
      "Final iter:1, Total Error: nan\n",
      "For ρ = nan [g/cc], H=nan [AU], P=nan [GPa], E=nan [eV]\n",
      "Te_in_eV: 3.054\n",
      "Ti_in_eV: 3.054\n",
      "0: Initial condition Total Error: nan\n",
      "QUIT: c_r is nan.\n",
      "Exiting status 1, reverting to best index so far: 0\n",
      "Final iter:1, Total Error: nan\n",
      "For ρ = nan [g/cc], H=nan [AU], P=nan [GPa], E=nan [eV]\n",
      "Te_in_eV: 3.054\n",
      "Ti_in_eV: 3.054\n",
      "0: Initial condition Total Error: nan\n",
      "QUIT: c_r is nan.\n",
      "Exiting status 1, reverting to best index so far: 0\n",
      "Final iter:1, Total Error: nan\n",
      "For ρ = nan [g/cc], H=nan [AU], P=nan [GPa], E=nan [eV]\n",
      "Te_in_eV: 3.054\n",
      "Ti_in_eV: 3.054\n",
      "0: Initial condition Total Error: nan\n",
      "QUIT: c_r is nan.\n",
      "Exiting status 1, reverting to best index so far: 0\n",
      "Final iter:1, Total Error: nan\n",
      "For ρ = nan [g/cc], H=nan [AU], P=nan [GPa], E=nan [eV]\n",
      "Te_in_eV: 3.054\n",
      "Ti_in_eV: 3.054\n",
      "0: Initial condition Total Error: nan\n",
      "QUIT: c_r is nan.\n",
      "Exiting status 1, reverting to best index so far: 0\n",
      "Final iter:1, Total Error: nan\n",
      "Converged: ρ = nan [g/cc], H=nan [AU], P=nan [GPa], E=nan [eV]\n",
      "\n",
      "Te_in_eV: 8.466\n",
      "Ti_in_eV: 8.466\n",
      "0: Initial condition Total Error: 6.199e-01\n",
      "Exiting status 0, reverting to best index so far: 30\n",
      "Final iter:31, Total Error: 6.540e-09\n",
      "For ρ = 0.50 [g/cc], H=0.353 [AU], P=285.1747043133512 [GPa], E=5.163049191582815 [eV]\n",
      "Te_in_eV: 8.466\n",
      "Ti_in_eV: 8.466\n",
      "0: Initial condition Total Error: 5.254e-01\n",
      "Exiting status 0, reverting to best index so far: 34\n",
      "Final iter:35, Total Error: 7.452e-09\n",
      "For ρ = 1.00 [g/cc], H=-0.347 [AU], P=561.8513034480221 [GPa], E=3.0495018661419153 [eV]\n",
      "Te_in_eV: 8.466\n",
      "Ti_in_eV: 8.466\n",
      "0: Initial condition Total Error: 5.466e-01\n",
      "Exiting status 0, reverting to best index so far: 32\n",
      "Final iter:33, Total Error: 6.802e-09\n",
      "For ρ = 0.75 [g/cc], H=-0.007 [AU], P=422.3374918480794 [GPa], E=3.8054303052556495 [eV]\n",
      "Te_in_eV: 8.466\n",
      "Ti_in_eV: 8.466\n",
      "0: Initial condition Total Error: 5.474e-01\n",
      "Exiting status 0, reverting to best index so far: 32\n",
      "Final iter:33, Total Error: 6.651e-09\n",
      "Converged: ρ = 0.75 [g/cc], H=-0.000 [AU], P=419.53668827839897 [GPa], E=3.825632622517321 [eV]\n",
      "\n",
      "Te_in_eV: 23.469\n",
      "Ti_in_eV: 23.469\n",
      "0: Initial condition Total Error: 3.068e-01\n",
      "Exiting status 0, reverting to best index so far: 24\n",
      "Final iter:25, Total Error: 6.486e-09\n",
      "For ρ = 0.50 [g/cc], H=1.072 [AU], P=1025.5227148000788 [GPa], E=54.404016156489824 [eV]\n",
      "Te_in_eV: 23.469\n",
      "Ti_in_eV: 23.469\n",
      "0: Initial condition Total Error: 2.768e-01\n",
      "Exiting status 0, reverting to best index so far: 25\n",
      "Final iter:26, Total Error: 6.778e-09\n",
      "For ρ = 1.00 [g/cc], H=-1.315 [AU], P=2031.395711917757 [GPa], E=50.97718386481366 [eV]\n",
      "Te_in_eV: 23.469\n",
      "Ti_in_eV: 23.469\n",
      "0: Initial condition Total Error: 2.903e-01\n",
      "Exiting status 0, reverting to best index so far: 24\n",
      "Final iter:25, Total Error: 8.775e-09\n",
      "For ρ = 0.72 [g/cc], H=-0.012 [AU], P=1476.679242359061 [GPa], E=52.54543976440329 [eV]\n",
      "Te_in_eV: 23.469\n",
      "Ti_in_eV: 23.469\n",
      "0: Initial condition Total Error: 2.904e-01\n",
      "Exiting status 0, reverting to best index so far: 24\n",
      "Final iter:25, Total Error: 8.744e-09\n",
      "Converged: ρ = 0.72 [g/cc], H=0.000 [AU], P=1471.500646053809 [GPa], E=52.56315175804399 [eV]\n",
      "\n",
      "Te_in_eV: 65.060\n",
      "Ti_in_eV: 65.060\n"
     ]
    },
    {
     "name": "stderr",
     "output_type": "stream",
     "text": [
      "/home/zach/plasma/hnc/hnc/PIE.py:187: IntegrationWarning: The maximum number of subdivisions (50) has been achieved.\n",
      "  If increasing the limit yields no improvement it is advised to analyze \n",
      "  the integrand in order to determine the difficulties.  If the position of a \n",
      "  local difficulty can be determined (singularity, discontinuity) one will \n",
      "  probably gain from splitting up the interval and calling the integrator \n",
      "  on the subranges.  Perhaps a special-purpose integrator should be used.\n",
      "  κ = 3*(2*self.qsp.Te*m_e) / (self.qsp.k_F**3 * r) *quad(integrand, 0, t_max)[0]\n",
      "/home/zach/plasma/hnc/hnc/PIE.py:187: IntegrationWarning: The integral is probably divergent, or slowly convergent.\n",
      "  κ = 3*(2*self.qsp.Te*m_e) / (self.qsp.k_F**3 * r) *quad(integrand, 0, t_max)[0]\n"
     ]
    },
    {
     "name": "stdout",
     "output_type": "stream",
     "text": [
      "0: Initial condition Total Error: 1.136e-01\n",
      "Exiting status 0, reverting to best index so far: 23\n",
      "Final iter:24, Total Error: 9.742e-09\n",
      "For ρ = 0.50 [g/cc], H=2.861 [AU], P=3044.0512323314356 [GPa], E=184.04535621908073 [eV]\n",
      "Te_in_eV: 65.060\n",
      "Ti_in_eV: 65.060\n",
      "0: Initial condition Total Error: 1.157e-01\n",
      "Exiting status 0, reverting to best index so far: 23\n",
      "Final iter:24, Total Error: 9.390e-09\n",
      "For ρ = 1.00 [g/cc], H=-4.022 [AU], P=6054.961379166699 [GPa], E=180.62642844244814 [eV]\n",
      "Te_in_eV: 65.060\n",
      "Ti_in_eV: 65.060\n",
      "0: Initial condition Total Error: 1.149e-01\n",
      "Exiting status 0, reverting to best index so far: 23\n",
      "Final iter:24, Total Error: 9.543e-09\n",
      "For ρ = 0.71 [g/cc], H=-0.013 [AU], P=4297.125786232029 [GPa], E=182.39575772971926 [eV]\n",
      "Te_in_eV: 65.060\n",
      "Ti_in_eV: 65.060\n",
      "0: Initial condition Total Error: 1.149e-01\n",
      "Exiting status 0, reverting to best index so far: 23\n",
      "Final iter:24, Total Error: 9.543e-09\n",
      "Converged: ρ = 0.71 [g/cc], H=0.000 [AU], P=4291.30174774196 [GPa], E=182.4025208363251 [eV]\n",
      "\n",
      "Te_in_eV: 180.361\n",
      "Ti_in_eV: 180.361\n",
      "0: Initial condition Total Error: 4.394e-02\n",
      "Exiting status 0, reverting to best index so far: 22\n",
      "Final iter:23, Total Error: 9.964e-09\n",
      "For ρ = 0.50 [g/cc], H=7.530 [AU], P=8600.477655340766 [GPa], E=533.9394172851297 [eV]\n",
      "Te_in_eV: 180.361\n",
      "Ti_in_eV: 180.361\n",
      "0: Initial condition Total Error: 4.631e-02\n",
      "Exiting status 0, reverting to best index so far: 23\n",
      "Final iter:24, Total Error: 5.135e-09\n",
      "For ρ = 1.00 [g/cc], H=-11.773 [AU], P=17171.309899248234 [GPa], E=531.4275032842977 [eV]\n",
      "Te_in_eV: 180.361\n",
      "Ti_in_eV: 180.361\n",
      "0: Initial condition Total Error: 4.513e-02\n",
      "Exiting status 0, reverting to best index so far: 23\n",
      "Final iter:24, Total Error: 5.059e-09\n",
      "For ρ = 0.70 [g/cc], H=-0.010 [AU], P=11945.949150816057 [GPa], E=532.8214666130935 [eV]\n",
      "Te_in_eV: 180.361\n",
      "Ti_in_eV: 180.361\n",
      "0: Initial condition Total Error: 4.513e-02\n",
      "Exiting status 0, reverting to best index so far: 23\n",
      "Final iter:24, Total Error: 5.058e-09\n",
      "Converged: ρ = 0.69 [g/cc], H=0.000 [AU], P=11941.324276635494 [GPa], E=532.8228640545977 [eV]\n",
      "\n",
      "Te_in_eV: 500.000\n",
      "Ti_in_eV: 500.000\n",
      "0: Initial condition Total Error: 2.080e-02\n",
      "Exiting status 0, reverting to best index so far: 21\n",
      "Final iter:22, Total Error: 9.890e-09\n",
      "For ρ = 0.50 [g/cc], H=20.243 [AU], P=23953.420807869476 [GPa], E=1495.598350171688 [eV]\n",
      "Te_in_eV: 500.000\n",
      "Ti_in_eV: 500.000\n",
      "0: Initial condition Total Error: 2.269e-02\n",
      "Exiting status 0, reverting to best index so far: 22\n",
      "Final iter:23, Total Error: 5.385e-09\n",
      "For ρ = 1.00 [g/cc], H=-33.436 [AU], P=47886.28218065771 [GPa], E=1493.972196888821 [eV]\n",
      "Te_in_eV: 500.000\n",
      "Ti_in_eV: 500.000\n",
      "0: Initial condition Total Error: 2.171e-02\n",
      "Exiting status 0, reverting to best index so far: 22\n",
      "Final iter:23, Total Error: 5.157e-09\n",
      "For ρ = 0.69 [g/cc], H=-0.007 [AU], P=32980.138774880164 [GPa], E=1494.9022522187781 [eV]\n",
      "Te_in_eV: 500.000\n",
      "Ti_in_eV: 500.000\n",
      "0: Initial condition Total Error: 2.171e-02\n",
      "Exiting status 0, reverting to best index so far: 22\n",
      "Final iter:23, Total Error: 5.157e-09\n",
      "Converged: ρ = 0.69 [g/cc], H=0.000 [AU], P=32977.05630921377 [GPa], E=1494.9024688387842 [eV]\n",
      "\n"
     ]
    }
   ],
   "source": [
    "from scipy.optimize import root_scalar\n",
    "\n",
    "def get_Hugoniot_ρ_at_T( T_eV, plasma_type=plasma3, ρ_gpercc_guess = 0.5):\n",
    "    \n",
    "    def find_ρ(ρ_gpercc):\n",
    "        ni_cc = ρ_gpercc/ (2*m_p*AU_to_g)\n",
    "        plasma = plasma_type(T_eV, ni_cc)\n",
    "        P_AU, E_AU  = plasma_output(plasma)\n",
    "        info = np.array([T_eV*eV_to_AU, ni_cc/cm_to_AU**3, P_AU, E_AU ])\n",
    "        H = Hugoniot_func(*info)\n",
    "        print(f\"For ρ = {ρ_gpercc:.2f} [g/cc], H={H:.3f} [AU], P={P_AU*AU_to_Pa/1e9} [GPa], E={E_AU*AU_to_eV} [eV]\" )\n",
    "        return H\n",
    "    sol = root_scalar(find_ρ, x0=0.5, x1=1.0, xtol=0.01)\n",
    "    ρ_at_H = sol.root\n",
    "    P_at_H, E_at_H = plasma_output(plasma_type(T_eV, ρ_at_H/ (2*m_p*AU_to_g) ))\n",
    "    info = (T_eV, ρ_at_H, P_at_H, E_at_H  )\n",
    "    H_at_H = Hugoniot_func(T_eV*eV_to_AU, ρ_at_H/ (2*m_p*AU_to_g)/cm_to_AU**3, P_at_H, E_at_H )\n",
    "    print(f\"Converged: ρ = {ρ_at_H:.2f} [g/cc], H={H_at_H:.3f} [AU], P={P_at_H*AU_to_Pa/1e9} [GPa], E={E_at_H*AU_to_eV} [eV]\\n\" )\n",
    "    \n",
    "    return sol, info\n",
    "\n",
    "# Now find for many different temperatures\n",
    "T_array = np.geomspace(2*300/eV_to_K, 5e2, num = 10 ) \n",
    "H_info_list  = []\n",
    "for T in T_array:\n",
    "    H_info_list.append( get_Hugoniot_ρ_at_T(T)[1] )"
   ]
  },
  {
   "cell_type": "markdown",
   "id": "85aef0a2-7e99-4b98-8f39-e75389a621da",
   "metadata": {},
   "source": [
    "### Plot Hugoniot"
   ]
  },
  {
   "cell_type": "code",
   "execution_count": 6,
   "id": "51c5a171-b7d7-41a3-a13b-2b451fb84374",
   "metadata": {
    "tags": []
   },
   "outputs": [
    {
     "data": {
      "image/png": "[encoded data removed]",
      "text/plain": [
       "<Figure size 1000x800 with 1 Axes>"
      ]
     },
     "metadata": {},
     "output_type": "display_data"
    }
   ],
   "source": [
    "fig, ax = plt.subplots(figsize=(10,8))\n",
    "\n",
    "H_ρ_gpercc_vals = np.array(H_info_list)[:,1]\n",
    "H_P_GPa_vals = np.array(H_info_list)[:,2]*AU_to_Pa/1e9\n",
    "ax.plot(H_ρ_gpercc_vals, H_P_GPa_vals,'--.')\n",
    "\n",
    "ax.set_yscale('log')\n",
    "\n",
    "# ax.set_ylim(np.min(P_GPa)*0.9, np.max(P_GPa)*1.1)\n",
    "# ax.set_xlim(np.min(ρ_gpercc)*0.9, np.max(ρ_gpercc)*1.1)\n",
    "\n",
    "ax.set_xlabel(r\"$\\rho$ [g/cc]\", fontsize=20)\n",
    "ax.set_ylabel(r\"$P$ [GPa]\", fontsize=20)\n",
    "\n",
    "plt.subplots_adjust(hspace=0.5)\n",
    "plt.show()"
   ]
  },
  {
   "cell_type": "markdown",
   "id": "71f635eb-4d0b-40a9-a0d5-436d6d4bae7e",
   "metadata": {
    "tags": []
   },
   "source": [
    "##### Diagnosing Low T Issues"
   ]
  },
  {
   "cell_type": "code",
   "execution_count": 7,
   "id": "8e78f11a-a25c-4d15-bd86-5c5178bfe3b3",
   "metadata": {
    "tags": []
   },
   "outputs": [],
   "source": [
    "plasma_test = lambda T_eV, ni_cc: PLASMA(Z, A, ni_cc, T_eV, T_eV, Zbar=Z, find_βuee=True,\n",
    "                 βu_options = {'add_bridge':False,'bridge':'ocp', 'pseudopotential':False}, \n",
    "                 qsp_options= {'r_c':0,'which_Tij':'thermal'},\n",
    "                 hnc_options= {'kappa_multiscale':10, 'R_max':10,'N_bins':500, \n",
    "                               'h_max':2e2,'oz_method':'standard'},\n",
    "                 hnc_solve_options={'alpha_Picard':0.5, 'num_iterations':1e4})\n"
   ]
  },
  {
   "cell_type": "code",
   "execution_count": 8,
   "id": "e00b923b-dcaa-4e91-9e8d-706f8ae02ad9",
   "metadata": {
    "tags": []
   },
   "outputs": [
    {
     "name": "stdout",
     "output_type": "stream",
     "text": [
      "Te_in_eV: 0.172\n",
      "Ti_in_eV: 0.172\n"
     ]
    },
    {
     "name": "stderr",
     "output_type": "stream",
     "text": [
      "/home/zach/plasma/hnc/hnc/PIE.py:186: RuntimeWarning: overflow encountered in exp\n",
      "  integrand = lambda t: t*np.sin(sin_arg*t)/(1+np.exp(t**2-η))\n",
      "/home/zach/plasma/hnc/hnc/PIE.py:193: RuntimeWarning: overflow encountered in exp\n",
      "  f_of_k = 1/(  1+np.exp((dense_hnc.k_array/self.qsp.ri)**2/(2*m_e*self.qsp.Te) - η) )\n"
     ]
    },
    {
     "name": "stdout",
     "output_type": "stream",
     "text": [
      "0: Initial condition Total Error: 1.071e+01\n",
      "Exiting status 0, reverting to best index so far: 508\n",
      "Final iter:509, Total Error: 9.970e-09\n",
      "For ρ = 0.44 [g/cc], H=0.075 [AU], P=-195.60135656457246 [GPa], E=-21.13621493642142 [eV]\n"
     ]
    }
   ],
   "source": [
    "plasma_type=plasma_type=plasma_test\n",
    "\n",
    "ρ_gpercc = 0.44\n",
    "T_eV = 2000/eV_to_K\n",
    "\n",
    "ni_cc = ρ_gpercc/ (2*m_p*AU_to_g)\n",
    "plasma = plasma_type(T_eV, ni_cc)\n",
    "P_AU, E_AU  = plasma_output(plasma)\n",
    "info = np.array([T_eV*eV_to_AU, ni_cc/cm_to_AU**3, P_AU, E_AU ])\n",
    "H = Hugoniot_func(*info)\n",
    "print(f\"For ρ = {ρ_gpercc:.2f} [g/cc], H={H:.3f} [AU], P={P_AU*AU_to_Pa/1e9} [GPa], E={E_AU*AU_to_eV} [eV]\" )"
   ]
  },
  {
   "cell_type": "code",
   "execution_count": 9,
   "id": "55af1c09-5083-47ac-b35c-4133dff5e1cb",
   "metadata": {
    "tags": []
   },
   "outputs": [
    {
     "name": "stdout",
     "output_type": "stream",
     "text": [
      "Te_in_eV: 0.172\n",
      "Ti_in_eV: 0.172\n",
      "0: Initial condition Total Error: 1.087e+01\n",
      "Exiting status 0, reverting to best index so far: 520\n",
      "Final iter:521, Total Error: 9.774e-09\n",
      "For ρ = 0.47 [g/cc], H=0.102 [AU], P=-203.18168192395922 [GPa], E=-20.994903497646526 [eV]\n"
     ]
    }
   ],
   "source": [
    "plasma_type=plasma_test\n",
    "ρ_gpercc = 0.47\n",
    "T_eV = 2000/eV_to_K\n",
    "\n",
    "ni_cc = ρ_gpercc/ (2*m_p*AU_to_g)\n",
    "plasma = plasma_type(T_eV, ni_cc)\n",
    "P_AU, E_AU  = plasma_output(plasma)\n",
    "info = np.array([T_eV*eV_to_AU, ni_cc/cm_to_AU**3, P_AU, E_AU ])\n",
    "H = Hugoniot_func(*info)\n",
    "print(f\"For ρ = {ρ_gpercc:.2f} [g/cc], H={H:.3f} [AU], P={P_AU*AU_to_Pa/1e9} [GPa], E={E_AU*AU_to_eV} [eV]\" )"
   ]
  },
  {
   "cell_type": "code",
   "execution_count": 10,
   "id": "93f5e31b-4da9-4c45-9ea2-25a788755c7c",
   "metadata": {
    "tags": []
   },
   "outputs": [
    {
     "name": "stdout",
     "output_type": "stream",
     "text": [
      "Te_in_eV: 0.172\n",
      "Ti_in_eV: 0.172\n",
      "0: Initial condition Total Error: 1.317e+01\n",
      "Exiting status 0, reverting to best index so far: 682\n",
      "Final iter:683, Total Error: 9.814e-09\n",
      "For ρ = 1.10 [g/cc], H=0.434 [AU], P=-293.9458255406018 [GPa], E=-19.2168652469881 [eV]\n"
     ]
    }
   ],
   "source": [
    "plasma_type=plasma_type=plasma_test\n",
    "\n",
    "ρ_gpercc = 1.1\n",
    "T_eV = 2000/eV_to_K\n",
    "\n",
    "ni_cc = ρ_gpercc/ (2*m_p*AU_to_g)\n",
    "plasma = plasma_type(T_eV, ni_cc)\n",
    "P_AU, E_AU  = plasma_output(plasma)\n",
    "info = np.array([T_eV*eV_to_AU, ni_cc/cm_to_AU**3, P_AU, E_AU ])\n",
    "H = Hugoniot_func(*info)\n",
    "print(f\"For ρ = {ρ_gpercc:.2f} [g/cc], H={H:.3f} [AU], P={P_AU*AU_to_Pa/1e9} [GPa], E={E_AU*AU_to_eV} [eV]\" )"
   ]
  },
  {
   "cell_type": "code",
   "execution_count": null,
   "id": "d1d3ed1a-c288-4ea9-915b-9a07b5f144f8",
   "metadata": {},
   "outputs": [],
   "source": []
  },
  {
   "cell_type": "code",
   "execution_count": null,
   "id": "24633a71-c250-49ea-b2d7-f60c82363098",
   "metadata": {},
   "outputs": [],
   "source": []
  }
 ],
 "metadata": {
  "kernelspec": {
   "display_name": "Python 3 (ipykernel)",
   "language": "python",
   "name": "python3"
  },
  "language_info": {
   "codemirror_mode": {
    "name": "ipython",
    "version": 3
   },
   "file_extension": ".py",
   "mimetype": "text/x-python",
   "name": "python",
   "nbconvert_exporter": "python",
   "pygments_lexer": "ipython3",
   "version": "3.10.6"
  }
 },
 "nbformat": 4,
 "nbformat_minor": 5
}
