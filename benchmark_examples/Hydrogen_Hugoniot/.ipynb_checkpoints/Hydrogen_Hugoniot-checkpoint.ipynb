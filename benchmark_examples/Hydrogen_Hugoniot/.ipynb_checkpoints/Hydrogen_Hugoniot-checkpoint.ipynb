{
 "cells": [
  {
   "cell_type": "markdown",
   "id": "d64f089f",
   "metadata": {
    "tags": []
   },
   "source": [
    "# Hugoniot for Hydrogen/Deuterium\n",
    "Purpose of this notebook is to do Hugoniot calculations for Deuterium\n",
    "\n",
    "[\"Monte Carlo results for the hydrogen Hugoniot\"-\n",
    "V. Bezkrovniy, V. S. Filinov, D. Kremp, M. Bonitz, M. Schlanges, W. D. Kraeft, P. R. Levashov, and V. E. Fortov\n",
    "Phys. Rev. E 70, 057401 – Published 18 November 2004\n",
    "](https://journals.aps.org/pre/abstract/10.1103/PhysRevE.70.057401)"
   ]
  },
  {
   "cell_type": "code",
   "execution_count": 1,
   "id": "2e5c11ba",
   "metadata": {
    "scrolled": true
   },
   "outputs": [
    {
     "name": "stdout",
     "output_type": "stream",
     "text": [
      "ModuleNotFoundError: No module named 'mendeleev'\n"
     ]
    },
    {
     "data": {
      "text/html": [
       "\n",
       "<style>\n",
       ".output_png {\n",
       "    display: table-cell;\n",
       "    text-align: center;\n",
       "    vertical-align: middle;\n",
       "}\n",
       "\n",
       "</style>\n"
      ],
      "text/plain": [
       "<IPython.core.display.HTML object>"
      ]
     },
     "execution_count": 1,
     "metadata": {},
     "output_type": "execute_result"
    }
   ],
   "source": [
    "import numpy as np\n",
    "import matplotlib.pyplot as plt\n",
    "from pandas import read_csv\n",
    "\n",
    "from hnc.hnc.PIE import Plasma_of_Ions_and_Electrons as PLASMA\n",
    "\n",
    "from hnc.hnc.constants import *\n",
    "from hnc.hnc.misc import n_from_rs, rs_from_n\n",
    "\n",
    "prop_cycle = plt.rcParams['axes.prop_cycle']\n",
    "colors = prop_cycle.by_key()['color']\n",
    "                \n",
    "from IPython.core.display import HTML\n",
    "HTML(\"\"\"\n",
    "<style>\n",
    ".output_png {\n",
    "    display: table-cell;\n",
    "    text-align: center;\n",
    "    vertical-align: middle;\n",
    "}\n",
    "\n",
    "</style>\n",
    "\"\"\")\n"
   ]
  },
  {
   "cell_type": "markdown",
   "id": "2fb7fa8d-0c64-4459-a674-070b5b8f40b7",
   "metadata": {},
   "source": [
    "# Hugoniot Description and Assumptions\n",
    "\n",
    "From \"Monte Carlo results for the hydrogen Hugoniot\", we assume the hock Hugoniot curve is given by (note there is a sign typo in the paper)\n",
    "$$H = E-E_0 + \\frac{1}{2}(p+p_0)(V-V_0)= 0\n",
    "$$\n",
    "With initial conditions given by\n",
    "\\begin{align}\n",
    "p_0 = 0,\\  \\rho_0 = 0.171 \\textrm{ g/cm$^3$}, \\ E_0 = -15.887 \\textrm{ eV/atom}\n",
    "\\end{align}\n",
    "\n",
    "Say we compute E(n, T), P(n, T) then we have 2 free parameters, potentially plotted in P, n space. Instead, we constrain with 1 equation, that given above.\n",
    "\n",
    "The paper goes from $\\sim 10^4 \\to 10^6 $ K, and rs from $1.7 \\to 2$"
   ]
  },
  {
   "cell_type": "code",
   "execution_count": 2,
   "id": "23b09996-75cc-40b0-be3f-6c03f4b1c997",
   "metadata": {},
   "outputs": [],
   "source": [
    "ρ0 = 0.171 # g/cc\n",
    "n0_AU = ρ0/ (2*m_p*AU_to_g)/cm_to_AU**3\n",
    "E0_eV = -15.886 # eV\n",
    "E0_AU = E0_eV*eV_to_AU\n",
    "P0_AU=0\n",
    "Hugoniot_func  = lambda T, n, P, E: E - E0_AU + 0.5 * (P+P0_AU)*(1/n - 1/n0_AU)\n",
    "Hugoniot_func = np.vectorize(Hugoniot_func)"
   ]
  },
  {
   "cell_type": "markdown",
   "id": "bbea7b15",
   "metadata": {},
   "source": [
    "### Set Parameters in Paper and Plot"
   ]
  },
  {
   "cell_type": "code",
   "execution_count": 3,
   "id": "4d0a7939",
   "metadata": {
    "tags": []
   },
   "outputs": [
    {
     "name": "stdout",
     "output_type": "stream",
     "text": [
      "ri:  [2.9964575  2.4998372  2.22440945 2.04051914 1.90545901 1.80027808\n",
      " 1.71504379 1.64395575 1.58335761 1.5308091 ] Te:  [5.00000000e-02 1.39127970e-01 3.87131841e-01 1.07721735e+00\n",
      " 2.99742125e+00 8.34050269e+00 2.32079442e+01 6.45774833e+01\n",
      " 1.79690683e+02 5.00000000e+02]\n"
     ]
    }
   ],
   "source": [
    "name = 'Hydrogen'\n",
    "Z, A = 1,1 \n",
    "\n",
    "Te_eV_list = np.geomspace(0.05, 5e2, num=10) #np.array(GP_Te_eV) # eV\n",
    "# Te_eV_list = np.array([15.625e3, 31.250e3, 62.500e3, 1.25e5, 2.5e5, 5e5, 1e6])/eV_to_K\n",
    "Ti_eV_list = Te_eV_list\n",
    "\n",
    "# ri_cm = rs_from_n(ni_cc)  # cm\n",
    "ρ_gpercc_list = np.linspace(0.2, 1.5, num=10)#n_from_rs(ri_AU/cm_to_AU)*\n",
    "ni_cc_list = ρ_gpercc_list*1/(2*m_p*AU_to_g)\n",
    "ri_cm_list = rs_from_n(ni_cc_list)\n",
    "ri_AU_list = ri_cm_list*cm_to_AU\n",
    "# ri_AU_list = np.array([1.7, 1.86, 2.])\n",
    "print(\"ri: \", ri_AU_list, \"Te: \", Te_eV_list)"
   ]
  },
  {
   "cell_type": "markdown",
   "id": "840df6a9",
   "metadata": {},
   "source": [
    "#### Run Ornstein-Zernike Closure"
   ]
  },
  {
   "cell_type": "code",
   "execution_count": 4,
   "id": "38816387-97b8-463e-a7a4-d242cb364673",
   "metadata": {},
   "outputs": [],
   "source": [
    "P_hnc_to_AU   = lambda P_hnc, ri: (P_hnc/ri**3) \n",
    "P_hnc_to_Mbar = lambda P_hnc, ri: P_hnc_to_AU(P_hnc, ri)*AU_to_bar/1e6\n",
    "P_hnc_to_GPa = lambda P_hnc, ri: P_hnc_to_AU(P_hnc, ri)*AU_to_Pa/1e9\n",
    "\n",
    "def plasma_output(plasma):\n",
    "    plasma.run_hnc()\n",
    "    try: \n",
    "        plasma.hnc.βu_r_matrix[1,1] -= plasma.βP_ee\n",
    "    except:\n",
    "        plasma.hnc.βu_r_matrix[1,1] -= plasma.qsp.βv_Pauli(plasma.hnc.r_array, plasma.qsp.Λee)\n",
    "    P_hnc, E_density_hnc  = plasma.hnc.total_pressure(),  plasma.hnc.total_energy_density() \n",
    "    E_AU = E_density_hnc/plasma.hnc.rho[0]\n",
    "    P_AU = P_hnc_to_AU(P_hnc, plasma.qsp.ri)\n",
    "    try: \n",
    "        plasma.hnc.βu_r_matrix[1,1] += plasma.βP_ee\n",
    "    except:\n",
    "        plasma.hnc.βu_r_matrix[1,1] += plasma.qsp.βv_Pauli(plasma.hnc.r_array, plasma.qsp.Λee)\n",
    "    \n",
    "    return P_AU, E_AU \n",
    "\n",
    "name1 = 'OZ - g'\n",
    "plasma1 = lambda T_eV, ni_cc: PLASMA(Z, A, ni_cc, T_eV, T_eV, Zbar=Z,\n",
    "                 βu_options = {'add_bridge':False,'bridge':'ocp', 'pseudopotential':False}, \n",
    "                 qsp_options= {'r_c':0,'which_Tij':'geometric'},\n",
    "                 hnc_options= {'kappa_multiscale':10, 'R_max':20,'N_bins':1000, \n",
    "                               'h_max':2e2,'oz_method':'standard'},\n",
    "                 hnc_solve_options={'alpha_Picard':0.5, 'num_iterations':1e4})\n",
    "name2 = 'OZ - th'\n",
    "plasma2 = lambda T_eV, ni_cc: PLASMA(Z, A, ni_cc, T_eV, T_eV, Zbar=Z,\n",
    "                 βu_options = {'add_bridge':False,'bridge':'ocp', 'pseudopotential':False}, \n",
    "                 qsp_options= {'r_c':0,'which_Tij':'thermal'},\n",
    "                 hnc_options= {'kappa_multiscale':10, 'R_max':20,'N_bins':1000, \n",
    "                               'h_max':2e2,'oz_method':'standard'},\n",
    "                 hnc_solve_options={'alpha_Picard':0.5, 'num_iterations':1e4})\n",
    "name3 = 'OZ - th  Pauli'\n",
    "plasma3 = lambda T_eV, ni_cc: PLASMA(Z, A, ni_cc, T_eV, T_eV, Zbar=Z, find_βuee=True,\n",
    "                 βu_options = {'add_bridge':False,'bridge':'ocp', 'pseudopotential':False}, \n",
    "                 qsp_options= {'r_c':0,'which_Tij':'thermal'},\n",
    "                 hnc_options= {'kappa_multiscale':10, 'R_max':20,'N_bins':1000, \n",
    "                               'h_max':2e2,'oz_method':'standard'},\n",
    "                 hnc_solve_options={'alpha_Picard':0.5, 'num_iterations':1e4})\n",
    "name4 = 'SVT - th'\n",
    "plasma4 =  lambda T_eV, ni_cc: PLASMA(Z, A, ni_cc, T_eV, T_eV, Zbar=Z,\n",
    "                 βu_options = {'add_bridge':False,'bridge':'ocp', 'pseudopotential':False}, \n",
    "                 qsp_options= {'r_c':0},\n",
    "                 hnc_options= {'kappa_multiscale':10, 'R_max':20,'N_bins':1000, \n",
    "                               'h_max':2e2,'oz_method':'svt'},\n",
    "                 hnc_solve_options={'alpha_Picard':0.5,'num_iterations':1e4})"
   ]
  },
  {
   "cell_type": "markdown",
   "id": "24950f8a-9691-4304-9c2a-2eb4a9512984",
   "metadata": {},
   "source": [
    "### Make Hugoniot Interpolation Table"
   ]
  },
  {
   "cell_type": "markdown",
   "id": "c3c7f6f7-11e6-4ec5-8024-394677b16d57",
   "metadata": {
    "jp-MarkdownHeadingCollapsed": true
   },
   "source": [
    "#### Compute all plasma models for grid of T and ρ"
   ]
  },
  {
   "cell_type": "code",
   "execution_count": 5,
   "id": "25dd3863",
   "metadata": {
    "scrolled": true
   },
   "outputs": [
    {
     "name": "stdout",
     "output_type": "stream",
     "text": [
      "Te_in_eV: 0.050\n",
      "Ti_in_eV: 0.050\n"
     ]
    },
    {
     "name": "stderr",
     "output_type": "stream",
     "text": [
      "/home/zach/plasma/hnc/hnc/PIE.py:181: RuntimeWarning: overflow encountered in exp\n",
      "  integrand = lambda t: t*np.sin(sin_arg*t)/(1+np.exp(t**2-η))\n",
      "/home/zach/plasma/hnc/hnc/PIE.py:188: RuntimeWarning: overflow encountered in exp\n",
      "  f_of_k = 1/(  1+np.exp((dense_hnc.k_array/self.qsp.ri)**2/(2*m_e*self.qsp.Te) - η) )\n"
     ]
    },
    {
     "name": "stdout",
     "output_type": "stream",
     "text": [
      "0: Initial condition Total Error: 1.455e+01\n"
     ]
    },
    {
     "name": "stderr",
     "output_type": "stream",
     "text": [
      "\n",
      "KeyboardInterrupt\n",
      "\n"
     ]
    }
   ],
   "source": [
    "PE_list_1 = []\n",
    "PE_list_2 = []\n",
    "PE_list_3 = []\n",
    "PE_list_4 = []\n",
    "\n",
    "for T_eV in Te_eV_list:\n",
    "    for rs in ri_AU_list:\n",
    "        ni_cc = n_from_rs(rs)*cm_to_AU**3\n",
    "        #1\n",
    "        # plasma = plasma1(T_eV, ni_cc)\n",
    "        # Pe_id, Pe_ex, Pe = plasma_output(plasma)\n",
    "        # P_list_1.append( [Pe_id, Pe_ex, Pe] )\n",
    "        #2\n",
    "        # plasma = plasma2(T_eV, ni_cc)\n",
    "        # Pe_id, Pe_ex, Pe = plasma_output(plasma)\n",
    "        # P_list_2.append( [Pe_id, Pe_ex, Pe] )\n",
    "        #3\n",
    "        plasma = plasma3(T_eV, ni_cc)\n",
    "        P_AU, E_AU  = plasma_output(plasma)\n",
    "        PE_list_3.append( [T_eV*eV_to_AU, ni_cc/cm_to_AU**3, P_AU, E_AU ] )\n",
    "        #4\n",
    "        # plasma = plasma4(T_eV, ni_cc)\n",
    "        # Pe_id, Pe_ex, Pe = plasma_output(plasma)\n",
    "        # P_list_4.append( [Pe_id, Pe_ex, Pe] )\n",
    "    "
   ]
  },
  {
   "cell_type": "markdown",
   "id": "d809b962-97cf-413f-9b1d-fffff9f8481c",
   "metadata": {},
   "source": [
    "Now Plot "
   ]
  },
  {
   "cell_type": "code",
   "execution_count": null,
   "id": "47071246-860e-4f63-8ae3-7438a4e072dd",
   "metadata": {},
   "outputs": [],
   "source": [
    "PE_list_1 = np.array(PE_list_1)\n",
    "PE_list_2 = np.array(PE_list_2)\n",
    "PE_list_3 = np.array(PE_list_3)\n",
    "PE_list_4 = np.array(PE_list_4)"
   ]
  },
  {
   "cell_type": "code",
   "execution_count": null,
   "id": "6409fedf-41f6-4f0c-af1c-1d611f069f4c",
   "metadata": {},
   "outputs": [],
   "source": [
    "H_list = Hugoniot_func(*PE_list_3.T)\n",
    "H_list"
   ]
  },
  {
   "cell_type": "code",
   "execution_count": null,
   "id": "583a5b99-ab78-4e6c-aa18-ec7679082ece",
   "metadata": {},
   "outputs": [],
   "source": [
    "import numpy as np\n",
    "from tabulate import tabulate\n",
    "\n",
    "def generate_latex_table(data):\n",
    "    data = data.reshape(len(Te_eV_list), len(ri_AU_list),4)\n",
    "    # Assuming data is your NT x Nr x 4 tensor\n",
    "    # Replace the following line with your actual data\n",
    "    # data = np.random.rand(7, 3, 4)  # Example data: 7 Ts, 3 rs, and 4 values in the last dimension\n",
    "\n",
    "    # Extract the unique T and r values, and the P and E values\n",
    "    T_values = data[:, 0, 0]/eV_to_AU*eV_to_K\n",
    "    ni_AU_values = data[0, :, 1]\n",
    "    r_values = rs_from_n(ni_AU_values)\n",
    "    P_values = data[:, :, 2]*AU_to_Pa/1e9\n",
    "    E_values = data[:, :, 3]/eV_to_AU\n",
    "\n",
    "    # Create the table headers\n",
    "    headers = [\"$T$ [K]\"]\n",
    "    for r in r_values:\n",
    "        headers.extend([f\"($r_s={r:0.2f}$): $P$ [GPa]\", f\"$E$ [eV]\"])\n",
    "\n",
    "    # Create the table rows\n",
    "    table_rows = []\n",
    "    for i, T in enumerate(T_values):\n",
    "        row = [f\"{T}\"]\n",
    "        for j in range(len(r_values)):\n",
    "            row.extend([f\"{P_values[i, j]:.2f}\", f\"{E_values[i, j]:.2f}\"])\n",
    "        table_rows.append(row)\n",
    "\n",
    "    # Generate the LaTeX code\n",
    "    latex_table = tabulate(table_rows, headers, tablefmt=\"latex_raw\")\n",
    "\n",
    "    # Manually adjust the LaTeX code to add the rs line\n",
    "    rs_line = \" & \" + \" & \".join([f\"\\\\multicolumn{{2}}{{c|}}{{$r_s={r}$}}\" for r in r_values]) + \" \\\\\\\\ \\n\"\n",
    "    latex_table = latex_table.replace(\"\\\\toprule\", \"\\\\toprule\" + rs_line)\n",
    "\n",
    "    # Print the LaTeX code\n",
    "    print(latex_table)\n",
    "\n",
    "# Replace with your actual data\n",
    "generate_latex_table(PE_list_3)\n"
   ]
  },
  {
   "cell_type": "code",
   "execution_count": null,
   "id": "5fa44cb3-ff32-47e9-91b7-301b3f539460",
   "metadata": {},
   "outputs": [],
   "source": [
    "from scipy.interpolate import CloughTocher2DInterpolator, LinearNDInterpolator\n",
    "\n",
    "\n",
    "fig, ax = plt.subplots(figsize=(10,8))\n",
    "\n",
    "ρ_gpercc = 2*PE_list_3[:,1]*( (m_p*AU_to_g)*cm_to_AU**3)\n",
    "P_GPa = PE_list_3[:,2]*AU_to_Pa/1e9\n",
    "\n",
    "ρ_mesh, P_mesh = np.meshgrid(np.linspace( np.min(ρ_gpercc), np.max(ρ_gpercc),num=100), np.geomspace( np.min(np.abs(P_GPa)), np.max(P_GPa),num=100) )\n",
    "\n",
    "z = H_list\n",
    "# H_interp = CloughTocher2DInterpolator(list(zip(ρ_gpercc, P_GPa)), z)\n",
    "# H_mesh = H_interp(ρ_mesh, P_mesh)\n",
    "\n",
    "H_interp = LinearNDInterpolator(list(zip(ρ_gpercc, np.log10(np.abs(P_GPa)))), z, )\n",
    "H_mesh = H_interp(ρ_mesh, np.log10(np.abs(P_mesh)))\n",
    "\n",
    "cmesh = plt.pcolormesh(ρ_mesh, P_mesh, H_mesh, shading='auto')\n",
    "cntr2 = ax.contour(ρ_mesh, P_mesh, H_mesh, levels=[-0.1,0,0.1],colors='k', linestyles=['--','-','--'])#, cmap=\"RdBu_r\")\n",
    "\n",
    "ax.plot(ρ_gpercc, P_GPa, 'ko', ms=5)\n",
    "\n",
    "ax.set_yscale('log')\n",
    "\n",
    "ax.set_ylim(np.min(np.abs(P_GPa))*0.9, np.max(P_GPa)*1.1)\n",
    "ax.set_xlim(np.min(ρ_gpercc)*0.9, np.max(ρ_gpercc)*1.1)\n",
    "\n",
    "ax.set_xlabel(r\"$\\rho$ [g/cc]\", fontsize=20)\n",
    "ax.set_ylabel(r\"$P$ [GPa]\", fontsize=20)\n",
    "\n",
    "plt.subplots_adjust(hspace=0.5)\n",
    "\n",
    "plt.show()"
   ]
  },
  {
   "cell_type": "code",
   "execution_count": null,
   "id": "afb39be6-1b0b-43cd-bcae-34503b255140",
   "metadata": {},
   "outputs": [],
   "source": [
    "fig, ax = plt.subplots(figsize=(10,8))\n",
    "\n",
    "ρ_gpercc = 2*PE_list_3[:,1]*( (m_p*AU_to_g)*cm_to_AU**3)\n",
    "P_GPa = PE_list_3[:,2]*AU_to_Pa/1e9\n",
    "z = H_list\n",
    "# z = np.log10(np.abs(H_list))\n",
    "ax.tricontour(ρ_gpercc, np.log10(np.abs(P_GPa)) , z, levels=[-0.1,0,0.1], linewidths=0.5, colors='k')\n",
    "cntr2 = ax.tricontourf(ρ_gpercc, np.log10(np.abs(P_GPa)), z, levels=100, cmap=\"RdBu_r\")\n",
    "\n",
    "fig.colorbar(cntr2, ax=ax)\n",
    "\n",
    "ax.plot(ρ_gpercc, np.log10(P_GPa), 'ko', ms=5)\n",
    "\n",
    "# ax.set_yscale('log')\n",
    "\n",
    "# ax.set_ylim(np.min(P_GPa)*0.9, np.max(P_GPa)*1.1)\n",
    "ax.set_xlim(np.min(ρ_gpercc)*0.9, np.max(ρ_gpercc)*1.1)\n",
    "\n",
    "ax.set_xlabel(r\"$\\rho$ [g/cc]\", fontsize=20)\n",
    "ax.set_ylabel(r\"$P$ [GPa]\", fontsize=20)\n",
    "\n",
    "plt.subplots_adjust(hspace=0.5)\n",
    "plt.show()"
   ]
  },
  {
   "cell_type": "markdown",
   "id": "c5294184-cafa-49b3-b218-8c7649ec72d8",
   "metadata": {},
   "source": [
    "\n",
    "### Try Root Finding Hugoniot"
   ]
  },
  {
   "cell_type": "code",
   "execution_count": 9,
   "id": "f11cba34-9e45-4ad2-a22b-9f8364719f14",
   "metadata": {},
   "outputs": [
    {
     "name": "stdout",
     "output_type": "stream",
     "text": [
      "Te_in_eV: 0.052\n",
      "Ti_in_eV: 0.052\n",
      "0: Initial condition Total Error: 1.732e+01\n",
      "Exiting status 0, reverting to best index so far: 1567\n",
      "Final iter:1568, Total Error: 9.928e-09\n",
      "For ρ = 0.50 [g/cc], H=0.174 [AU], P=-4.788316770699844 [GPa]\n",
      "Te_in_eV: 0.052\n",
      "Ti_in_eV: 0.052\n",
      "0: Initial condition Total Error: 2.007e+01\n",
      "Exiting status 0, reverting to best index so far: 1946\n",
      "Final iter:1947, Total Error: 9.927e-09\n",
      "For ρ = 1.00 [g/cc], H=0.059 [AU], P=46.757660722253355 [GPa]\n",
      "Te_in_eV: 0.052\n",
      "Ti_in_eV: 0.052\n",
      "0: Initial condition Total Error: 2.105e+01\n",
      "Exiting status 0, reverting to best index so far: 2088\n",
      "Final iter:2089, Total Error: 9.987e-09\n",
      "For ρ = 1.25 [g/cc], H=-0.037 [AU], P=94.3065604505841 [GPa]\n",
      "Te_in_eV: 0.052\n",
      "Ti_in_eV: 0.052\n",
      "0: Initial condition Total Error: 2.057e+01\n",
      "Exiting status 0, reverting to best index so far: 2017\n",
      "Final iter:2018, Total Error: 9.938e-09\n",
      "For ρ = 1.12 [g/cc], H=0.016 [AU], P=67.78962201502937 [GPa]\n",
      "Te_in_eV: 0.052\n",
      "Ti_in_eV: 0.052\n",
      "0: Initial condition Total Error: 2.072e+01\n",
      "Exiting status 0, reverting to best index so far: 2039\n",
      "Final iter:2040, Total Error: 9.966e-09\n",
      "For ρ = 1.16 [g/cc], H=0.001 [AU], P=75.44820591421811 [GPa]\n",
      "Te_in_eV: 0.052\n",
      "Ti_in_eV: 0.052\n",
      "0: Initial condition Total Error: 2.073e+01\n",
      "Exiting status 0, reverting to best index so far: 2040\n",
      "Final iter:2041, Total Error: 9.976e-09\n"
     ]
    },
    {
     "ename": "NameError",
     "evalue": "name 'P_AU' is not defined",
     "output_type": "error",
     "traceback": [
      "\u001b[0;31m---------------------------------------------------------------------------\u001b[0m",
      "\u001b[0;31mNameError\u001b[0m                                 Traceback (most recent call last)",
      "Cell \u001b[0;32mIn[9], line 26\u001b[0m\n\u001b[1;32m     24\u001b[0m H_info_list  \u001b[38;5;241m=\u001b[39m []\n\u001b[1;32m     25\u001b[0m \u001b[38;5;28;01mfor\u001b[39;00m T \u001b[38;5;129;01min\u001b[39;00m T_array:\n\u001b[0;32m---> 26\u001b[0m     H_info_list\u001b[38;5;241m.\u001b[39mappend( \u001b[43mget_Hugoniot_ρ_at_T\u001b[49m\u001b[43m(\u001b[49m\u001b[43mT\u001b[49m\u001b[43m)\u001b[49m[\u001b[38;5;241m1\u001b[39m] )\n",
      "Cell \u001b[0;32mIn[9], line 18\u001b[0m, in \u001b[0;36mget_Hugoniot_ρ_at_T\u001b[0;34m(T_eV, plasma_type, ρ_gpercc_guess)\u001b[0m\n\u001b[1;32m     16\u001b[0m info \u001b[38;5;241m=\u001b[39m (T_eV, ρ_at_H, P_at_H, E_at_H  )\n\u001b[1;32m     17\u001b[0m H_at_H \u001b[38;5;241m=\u001b[39m Hugoniot_func(T_eV\u001b[38;5;241m*\u001b[39meV_to_AU, ρ_at_H\u001b[38;5;241m/\u001b[39m (\u001b[38;5;241m2\u001b[39m\u001b[38;5;241m*\u001b[39mm_p\u001b[38;5;241m*\u001b[39mAU_to_g)\u001b[38;5;241m/\u001b[39mcm_to_AU\u001b[38;5;241m*\u001b[39m\u001b[38;5;241m*\u001b[39m\u001b[38;5;241m3\u001b[39m, P_at_H, E_at_H )\n\u001b[0;32m---> 18\u001b[0m \u001b[38;5;28mprint\u001b[39m(\u001b[38;5;124mf\u001b[39m\u001b[38;5;124m\"\u001b[39m\u001b[38;5;124mConverged: ρ = \u001b[39m\u001b[38;5;132;01m{\u001b[39;00mρ_at_H\u001b[38;5;132;01m:\u001b[39;00m\u001b[38;5;124m.2f\u001b[39m\u001b[38;5;132;01m}\u001b[39;00m\u001b[38;5;124m [g/cc], H=\u001b[39m\u001b[38;5;132;01m{\u001b[39;00mH_at_H\u001b[38;5;132;01m:\u001b[39;00m\u001b[38;5;124m.3f\u001b[39m\u001b[38;5;132;01m}\u001b[39;00m\u001b[38;5;124m [AU], P=\u001b[39m\u001b[38;5;132;01m{\u001b[39;00m\u001b[43mP_AU\u001b[49m\u001b[38;5;241m*\u001b[39mAU_to_Pa\u001b[38;5;241m/\u001b[39m\u001b[38;5;241m1e9\u001b[39m\u001b[38;5;132;01m}\u001b[39;00m\u001b[38;5;124m [GPa]\u001b[39m\u001b[38;5;130;01m\\n\u001b[39;00m\u001b[38;5;124m\"\u001b[39m )\n\u001b[1;32m     20\u001b[0m \u001b[38;5;28;01mreturn\u001b[39;00m sol, info\n",
      "\u001b[0;31mNameError\u001b[0m: name 'P_AU' is not defined"
     ]
    }
   ],
   "source": [
    "from scipy.optimize import root_scalar\n",
    "\n",
    "def get_Hugoniot_ρ_at_T( T_eV, plasma_type=plasma3, ρ_gpercc_guess = 0.5):\n",
    "    \n",
    "    def find_ρ(ρ_gpercc):\n",
    "        ni_cc = ρ_gpercc/ (2*m_p*AU_to_g)\n",
    "        plasma = plasma_type(T_eV, ni_cc)\n",
    "        P_AU, E_AU  = plasma_output(plasma)\n",
    "        info = np.array([T_eV*eV_to_AU, ni_cc/cm_to_AU**3, P_AU, E_AU ])\n",
    "        H = Hugoniot_func(*info)\n",
    "        print(f\"For ρ = {ρ_gpercc:.2f} [g/cc], H={H:.3f} [AU], P={P_AU*AU_to_Pa/1e9} [GPa]\" )\n",
    "        return H\n",
    "    sol = root_scalar(find_ρ, x0=0.5, x1=1.0, xtol=0.01)\n",
    "    ρ_at_H = sol.root\n",
    "    P_at_H, E_at_H = plasma_output(plasma_type(T_eV, ρ_at_H/ (2*m_p*AU_to_g) ))\n",
    "    info = (T_eV, ρ_at_H, P_at_H, E_at_H  )\n",
    "    H_at_H = Hugoniot_func(T_eV*eV_to_AU, ρ_at_H/ (2*m_p*AU_to_g)/cm_to_AU**3, P_at_H, E_at_H )\n",
    "    print(f\"Converged: ρ = {ρ_at_H:.2f} [g/cc], H={H_at_H:.3f} [AU], P={P_at_H*AU_to_Pa/1e9} [GPa]\\n\" )\n",
    "    \n",
    "    return sol, info\n",
    "\n",
    "# Now find for many different temperatures\n",
    "T_array = np.geomspace(2*300/eV_to_K, 5e2, num = 10 ) \n",
    "H_info_list  = []\n",
    "for T in T_array:\n",
    "    H_info_list.append( get_Hugoniot_ρ_at_T(T)[1] )"
   ]
  },
  {
   "cell_type": "markdown",
   "id": "85aef0a2-7e99-4b98-8f39-e75389a621da",
   "metadata": {},
   "source": [
    "#### Plot Hugoniot"
   ]
  },
  {
   "cell_type": "code",
   "execution_count": null,
   "id": "51c5a171-b7d7-41a3-a13b-2b451fb84374",
   "metadata": {},
   "outputs": [],
   "source": [
    "fig, ax = plt.subplots(figsize=(10,8))\n",
    "\n",
    "H_ρ_gpercc_vals = np.array(H_info_list)[:,1]\n",
    "H_P_GPa_vals = np.array(H_info_list)[:,2]*AU_to_Pa/1e9\n",
    "ax.plot(H_ρ_gpercc_vals, H_P_GPa_vals,'--.')\n",
    "\n",
    "ax.set_yscale('log')\n",
    "\n",
    "# ax.set_ylim(np.min(P_GPa)*0.9, np.max(P_GPa)*1.1)\n",
    "# ax.set_xlim(np.min(ρ_gpercc)*0.9, np.max(ρ_gpercc)*1.1)\n",
    "\n",
    "ax.set_xlabel(r\"$\\rho$ [g/cc]\", fontsize=20)\n",
    "ax.set_ylabel(r\"$P$ [GPa]\", fontsize=20)\n",
    "\n",
    "plt.subplots_adjust(hspace=0.5)\n",
    "plt.show()"
   ]
  },
  {
   "cell_type": "markdown",
   "id": "71f635eb-4d0b-40a9-a0d5-436d6d4bae7e",
   "metadata": {},
   "source": [
    "##### Diagnosing Low T Issues"
   ]
  },
  {
   "cell_type": "code",
   "execution_count": null,
   "id": "5c81dd8a-3fcb-4c6b-8fc5-263260fa4d95",
   "metadata": {},
   "outputs": [],
   "source": [
    "ρ_gpercc, T_eV = ρ0, 2*300/eV_to_K\n",
    "\n",
    "ni_cc = ρ_gpercc/ (2*m_p*AU_to_g)\n",
    "plasma = plasma3(T_eV, ni_cc)\n",
    "P_AU, E_AU  = plasma_output(plasma)\n",
    "info = np.array([T_eV*eV_to_AU, ni_cc/cm_to_AU**3, P_AU, E_AU ])\n",
    "H = Hugoniot_func(*info)\n",
    "print(f\"For ρ = {ρ_gpercc:.2f} [g/cc], H={H:.3f} [AU], P={P_AU*AU_to_Pa/1e9} [GPa], E={E_AU*AU_to_eV:.2e} [eV]\" )"
   ]
  },
  {
   "cell_type": "code",
   "execution_count": null,
   "id": "ad1fb947-6a1d-40de-83de-7dbf95157468",
   "metadata": {},
   "outputs": [],
   "source": [
    "plasma.hnc.plot_g_all_species()"
   ]
  },
  {
   "cell_type": "code",
   "execution_count": null,
   "id": "8dc28c10-c5d8-4b23-a64e-ac104dbc31b3",
   "metadata": {},
   "outputs": [],
   "source": [
    "fig, ax = plt.subplots(figsize=(10,8))\n",
    "\n",
    "# functions\n",
    "# ax.plot(plasma.hnc.r_array, -plasma.hnc.βu_r_matrix[0,0], label=r'-$\\beta u$')\n",
    "# ax.plot(plasma.hnc.r_array,   plasma.hnc.h_r_matrix[0,0], label=r'$h$')\n",
    "# ax.plot(plasma.hnc.r_array,   plasma.hnc.c_r_matrix[0,0], label=r'$c$')\n",
    "# ax.plot(plasma.hnc.r_array, -plasma.hnc.βu_r_matrix[0,0] + plasma.hnc.h_r_matrix[0,1] - plasma.hnc.c_r_matrix[0,1],'--',  label=r'$-\\beta u + h- c$')\n",
    "\n",
    "# gradients\n",
    "ax.plot(plasma.hnc.r_array, np.gradient(-plasma.hnc.βu_r_matrix[0,0], plasma.hnc.r_array), label=r'-$\\beta u$')\n",
    "ax.plot(plasma.hnc.r_array, np.gradient( plasma.hnc.h_r_matrix[0,0], plasma.hnc.r_array), label=r'$h$')\n",
    "ax.plot(plasma.hnc.r_array, np.gradient(plasma.hnc.c_r_matrix[0,0], plasma.hnc.r_array), label=r'$c$')\n",
    "ax.plot(plasma.hnc.r_array, np.gradient(-plasma.hnc.βu_r_matrix[0,0] + plasma.hnc.h_r_matrix[0,0] - plasma.hnc.c_r_matrix[0,0], plasma.hnc.r_array),'--',  label=r'$-\\beta u + h- c$')\n",
    "\n",
    "ax.set_xscale('log')\n",
    "ax.set_yscale('symlog',linthresh=0.1)\n",
    "ax.legend()"
   ]
  },
  {
   "cell_type": "code",
   "execution_count": null,
   "id": "03ca86ff-af68-428d-a1ed-93b45bd31a00",
   "metadata": {},
   "outputs": [],
   "source": [
    "tmp_r_array = np.linspace(1e-8,1e-6, num=10)\n",
    "np.gradient(plasma.qsp.βv_Kelbg(plasma.qsp.Γei, tmp_r_array, plasma.qsp.Λei), plasma.qsp.ri*tmp_r_array )[0]"
   ]
  },
  {
   "cell_type": "code",
   "execution_count": null,
   "id": "2501dfc2-6d41-4d89-9b11-a63325f22a7f",
   "metadata": {},
   "outputs": [],
   "source": [
    "np.gradient(plasma.qsp.βv_Deutsch(plasma.qsp.Γei, tmp_r_array, plasma.qsp.Λei), plasma.qsp.ri*tmp_r_array )[0]"
   ]
  },
  {
   "cell_type": "code",
   "execution_count": null,
   "id": "6ebd2739-65be-4329-974d-1ff0bc2472ae",
   "metadata": {},
   "outputs": [],
   "source": [
    "1/(π*plasma.qsp.ri**2*plasma.qsp.Λei**2) * (np.sqrt(2)-0.5)*plasma.qsp.βie_c"
   ]
  },
  {
   "cell_type": "code",
   "execution_count": null,
   "id": "807df9dd-b349-492d-b13c-f09de3b9ced3",
   "metadata": {},
   "outputs": [],
   "source": [
    "plasma.qsp.βv_Kelbg(plasma.qsp.Γei, 1e-8, plasma.qsp.Λei), -1/(plasma.qsp.Λei*plasma.qsp.ri)*plasma.qsp.βie_c"
   ]
  }
 ],
 "metadata": {
  "kernelspec": {
   "display_name": "Python 3 (ipykernel)",
   "language": "python",
   "name": "python3"
  },
  "language_info": {
   "codemirror_mode": {
    "name": "ipython",
    "version": 3
   },
   "file_extension": ".py",
   "mimetype": "text/x-python",
   "name": "python",
   "nbconvert_exporter": "python",
   "pygments_lexer": "ipython3",
   "version": "3.10.6"
  }
 },
 "nbformat": 4,
 "nbformat_minor": 5
}
