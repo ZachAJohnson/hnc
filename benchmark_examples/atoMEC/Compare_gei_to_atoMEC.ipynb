{
 "cells": [
  {
   "cell_type": "markdown",
   "id": "d64f089f",
   "metadata": {
    "tags": []
   },
   "source": [
    "# Integral Equation Model Comparisons\n",
    "Purpose of this notebook is to EOS calculations for comparisons to George Petrov's Average Atom model, and Morales EOS Hydrogen paper\n",
    "\n",
    "[https://journals.aps.org/pre/abstract/10.1103/PhysRevE.81.021202](https://journals.aps.org/pre/abstract/10.1103/PhysRevE.81.021202)"
   ]
  },
  {
   "cell_type": "code",
   "execution_count": 3,
   "id": "2e5c11ba",
   "metadata": {
    "scrolled": true
   },
   "outputs": [
    {
     "data": {
      "text/html": [
       "\n",
       "<style>\n",
       ".output_png {\n",
       "    display: table-cell;\n",
       "    text-align: center;\n",
       "    vertical-align: middle;\n",
       "}\n",
       "\n",
       "</style>\n"
      ],
      "text/plain": [
       "<IPython.core.display.HTML object>"
      ]
     },
     "execution_count": 3,
     "metadata": {},
     "output_type": "execute_result"
    }
   ],
   "source": [
    "import numpy as np\n",
    "import matplotlib.pyplot as plt\n",
    "from pandas import read_csv\n",
    "\n",
    "from hnc.hnc.PIE import Plasma_of_Ions_and_Electrons as PLASMA\n",
    "\n",
    "from hnc.hnc.constants import *\n",
    "from hnc.hnc.misc import n_from_rs, rs_from_n\n",
    "\n",
    "prop_cycle = plt.rcParams['axes.prop_cycle']\n",
    "colors = prop_cycle.by_key()['color']\n",
    "                \n",
    "from IPython.core.display import HTML\n",
    "HTML(\"\"\"\n",
    "<style>\n",
    ".output_png {\n",
    "    display: table-cell;\n",
    "    text-align: center;\n",
    "    vertical-align: middle;\n",
    "}\n",
    "\n",
    "</style>\n",
    "\"\"\")\n"
   ]
  },
  {
   "cell_type": "markdown",
   "id": "bbea7b15",
   "metadata": {},
   "source": [
    "### Set Parameters in Paper and Plot"
   ]
  },
  {
   "cell_type": "code",
   "execution_count": 11,
   "id": "4d0a7939",
   "metadata": {
    "tags": []
   },
   "outputs": [],
   "source": [
    "name = 'Hydrogen'\n",
    "Z, A = 1,1 \n",
    "\n",
    "Te_eV_list = [0.172347, 1.000000 ]\n",
    "Ti_eV_list = Te_eV_list\n",
    "# ni_cc = 5.98e23\n",
    "# ni_AU = ni_cc/cm_to_AU**3\n",
    "\n",
    "# ri_cm = rs_from_n(ni_cc)  # cm\n",
    "# ri_AU = ri_cm*cm_to_AU    # AU \n",
    "\n",
    "ri_AU = 1.3914542638521432\n",
    "ni_cc = n_from_rs(ri_AU/cm_to_AU)"
   ]
  },
  {
   "cell_type": "code",
   "execution_count": 12,
   "id": "73694c05-2c2b-44e9-a4a3-3554916bb04d",
   "metadata": {
    "scrolled": true
   },
   "outputs": [
    {
     "data": {
      "text/plain": [
       "1.3914542638521432"
      ]
     },
     "execution_count": 12,
     "metadata": {},
     "output_type": "execute_result"
    }
   ],
   "source": [
    "ri_AU"
   ]
  },
  {
   "cell_type": "markdown",
   "id": "226f5765-fb7f-4792-8f42-eeb142360b5b",
   "metadata": {},
   "source": [
    "#### Load atoMEC data"
   ]
  },
  {
   "cell_type": "code",
   "execution_count": 5,
   "id": "d5cde2dd-7ef3-4e6b-a6fb-208a9714c0c7",
   "metadata": {
    "tags": []
   },
   "outputs": [],
   "source": [
    "atoMEC_files = [\"\",\"\"]\n",
    "\n",
    "def get_atoMEC_gei(file):      \n",
    "    atoMEC_df = read_csv(file, delim_whitespace=True, header=0)\n",
    "    ne_?? = atoMEC_df[]\n",
    "    \n",
    "    # nbar_f = (Z-AA_Zbar)/( 4/3*π*ri**3 )\n",
    "    # nbar_b = AA_Zbar/ (  4/3*π*ri**3 )\n",
    "    nbar_tot = Z/( 4/3*π*ri**3 )\n",
    "    \n",
    "    AA_data = read_csv(file, delim_whitespace=True,header=0)\n",
    "    # unbound_h = np.array( (AA_data['n[unbound]'])/nbar_f )\n",
    "    # bound_h = np.array((AA_data['n[bound]'])/nbar_b)/2\n",
    "    total_gei = np.array((AA_data['n[bound]'] + AA_data['n[unbound]'])/nbar_tot)\n",
    "    return AA_data['r[a_0]'], total_gei    "
   ]
  },
  {
   "cell_type": "markdown",
   "id": "840df6a9",
   "metadata": {},
   "source": [
    "#### Run Ornstein-Zernike Closure"
   ]
  },
  {
   "cell_type": "code",
   "execution_count": 13,
   "id": "38816387-97b8-463e-a7a4-d242cb364673",
   "metadata": {},
   "outputs": [],
   "source": [
    "name1 = 'OZ - g'\n",
    "plasma1 = lambda T_eV: PLASMA(Z, A, ni_cc, T_eV, T_eV, Zbar=Z,\n",
    "                 βu_options = {'add_bridge':False,'bridge':'ocp', 'pseudopotential':False}, \n",
    "                 qsp_options= {'r_c':0,'which_Tij':'geometric'},\n",
    "                 hnc_options= {'kappa_multiscale':10, 'R_max':20,'N_bins':1000, \n",
    "                               'h_max':2e2,'oz_method':'standard'},\n",
    "                 hnc_solve_options={'alpha_Picard':0.5, 'num_iterations':1e4})\n",
    "name2 = 'OZ - th'\n",
    "plasma2 = lambda T_eV: PLASMA(Z, A, ni_cc, T_eV, T_eV, Zbar=Z,\n",
    "                 βu_options = {'add_bridge':False,'bridge':'ocp', 'pseudopotential':False}, \n",
    "                 qsp_options= {'r_c':0,'which_Tij':'thermal'},\n",
    "                 hnc_options= {'kappa_multiscale':10, 'R_max':20,'N_bins':1000, \n",
    "                               'h_max':2e2,'oz_method':'standard'},\n",
    "                 hnc_solve_options={'alpha_Picard':0.5, 'num_iterations':1e4})\n",
    "name3 = 'OZ - th  Pauli'\n",
    "plasma3 = lambda T_eV: PLASMA(Z, A, ni_cc, T_eV, T_eV, Zbar=Z, find_βuee=True,\n",
    "                 βu_options = {'add_bridge':False,'bridge':'ocp', 'pseudopotential':False}, \n",
    "                 qsp_options= {'r_c':0,'which_Tij':'thermal'},\n",
    "                 hnc_options= {'kappa_multiscale':10, 'R_max':20,'N_bins':1000, \n",
    "                               'h_max':2e2,'oz_method':'standard'},\n",
    "                 hnc_solve_options={'alpha_Picard':0.5, 'num_iterations':1e4})\n",
    "name4 = 'SVT - th'\n",
    "plasma4 =  lambda T_eV: PLASMA(Z, A, ni_cc, T_eV, T_eV, Zbar=Z,\n",
    "                 βu_options = {'add_bridge':False,'bridge':'ocp', 'pseudopotential':False}, \n",
    "                 qsp_options= {'r_c':0},\n",
    "                 hnc_options= {'kappa_multiscale':10, 'R_max':20,'N_bins':1000, \n",
    "                               'h_max':2e2,'oz_method':'svt'},\n",
    "                 hnc_solve_options={'alpha_Picard':0.5,'num_iterations':1e4})\n",
    "\n",
    "P_hnc_to_AU   = lambda P_hnc: (P_hnc/ri_AU**3) \n",
    "P_hnc_to_bar  = lambda P_hnc: P_hnc_to_AU(P_hnc) *  AU_to_bar \n",
    "P_hnc_to_Mbar = lambda P_hnc: 1e-6*P_hnc_to_bar(P_hnc)\n",
    "P_hnc_to_GPa  = lambda P_hnc: P_hnc_to_bar(P_hnc) * 1e5 / 1e9 "
   ]
  },
  {
   "cell_type": "markdown",
   "id": "fbfb5e3b-4c78-4a28-aaf1-4370c4095713",
   "metadata": {},
   "source": [
    "### Compute all plasma models for list of densities"
   ]
  },
  {
   "cell_type": "code",
   "execution_count": 16,
   "id": "b69a83f3-3f69-40e4-9854-69e07567d99a",
   "metadata": {
    "scrolled": true
   },
   "outputs": [
    {
     "name": "stdout",
     "output_type": "stream",
     "text": [
      "Te_in_eV: 0.172\n",
      "Ti_in_eV: 0.172\n",
      "0: Initial condition Total Error: 1.064e+01\n",
      "Exiting status 0, reverting to best index so far: 804\n",
      "Final iter:805, Total Error: 9.960e-09\n",
      "Te_in_eV: 1.000\n",
      "Ti_in_eV: 1.000\n",
      "0: Initial condition Total Error: 3.065e+00\n",
      "Exiting status 0, reverting to best index so far: 188\n",
      "Final iter:189, Total Error: 9.663e-09\n"
     ]
    }
   ],
   "source": [
    "P_list_1 = []\n",
    "P_list_2 = []\n",
    "P_list_3 = []\n",
    "P_list_4 = []\n",
    "\n",
    "for T_eV in Te_eV_list:\n",
    "    \"\"\"\n",
    "    \"\"\"\n",
    "    #1\n",
    "    # plasma = plasma1(T_eV)\n",
    "    # Pe_id, Pe_ex, Pe = plasma_output(plasma)\n",
    "    # P_list_1.append( [Pe_id, Pe_ex, Pe] )\n",
    "    #2\n",
    "    # plasma = plasma2(T_eV)\n",
    "    # Pe_id, Pe_ex, Pe = plasma_output(plasma)\n",
    "    # P_list_2.append( [Pe_id, Pe_ex, Pe] )\n",
    "    #3\n",
    "    plasma = plasma3(T_eV)\n",
    "    plasma.run_hnc()\n",
    "    P_list_3.append( plasma )\n",
    "    #4\n",
    "    # plasma = plasma4(T_eV)\n",
    "    # Pe_id, Pe_ex, Pe = plasma_output(plasma)\n",
    "    # P_list_4.append( [Pe_id, Pe_ex, Pe] )\n",
    "    "
   ]
  },
  {
   "cell_type": "markdown",
   "id": "bfda576a-f2db-434c-92b6-dbcc7c4bb9e5",
   "metadata": {},
   "source": [
    "Now Plot "
   ]
  },
  {
   "cell_type": "code",
   "execution_count": 17,
   "id": "8c916475-9a7f-48bd-818b-0c6f22de08a1",
   "metadata": {},
   "outputs": [
    {
     "data": {
      "image/png": "[encoded data removed]",
      "text/plain": [
       "<Figure size 1500x1000 with 1 Axes>"
      ]
     },
     "metadata": {},
     "output_type": "display_data"
    }
   ],
   "source": [
    "fig, ax  = plt.subplots()\n",
    "\n",
    "# plot atoMEC curves\n",
    "# ax.plot()\n",
    "\n",
    "# plot cmHNC curves\n",
    "ax.plot()"
   ]
  },
  {
   "cell_type": "code",
   "execution_count": null,
   "id": "12e0964f-06e1-4132-b270-99b6ceed4b6d",
   "metadata": {},
   "outputs": [],
   "source": []
  }
 ],
 "metadata": {
  "kernelspec": {
   "display_name": "Python 3 (ipykernel)",
   "language": "python",
   "name": "python3"
  },
  "language_info": {
   "codemirror_mode": {
    "name": "ipython",
    "version": 3
   },
   "file_extension": ".py",
   "mimetype": "text/x-python",
   "name": "python",
   "nbconvert_exporter": "python",
   "pygments_lexer": "ipython3",
   "version": "3.10.6"
  }
 },
 "nbformat": 4,
 "nbformat_minor": 5
}
