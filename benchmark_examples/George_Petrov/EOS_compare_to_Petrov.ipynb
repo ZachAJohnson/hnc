{
 "cells": [
  {
   "cell_type": "markdown",
   "id": "d64f089f",
   "metadata": {
    "tags": []
   },
   "source": [
    "# Integral Equation Model Comparisons\n",
    "Purpose of this notebook is to EOS calculations for comparisons to George Petrov's Average Atom model, and Morales EOS Hydrogen paper\n",
    "\n",
    "[https://journals.aps.org/pre/abstract/10.1103/PhysRevE.81.021202](https://journals.aps.org/pre/abstract/10.1103/PhysRevE.81.021202)"
   ]
  },
  {
   "cell_type": "code",
   "execution_count": 1,
   "id": "2e5c11ba",
   "metadata": {
    "scrolled": true
   },
   "outputs": [
    {
     "name": "stdout",
     "output_type": "stream",
     "text": [
      "ModuleNotFoundError: No module named 'mendeleev'\n"
     ]
    },
    {
     "data": {
      "text/html": [
       "\n",
       "<style>\n",
       ".output_png {\n",
       "    display: table-cell;\n",
       "    text-align: center;\n",
       "    vertical-align: middle;\n",
       "}\n",
       "\n",
       "</style>\n"
      ],
      "text/plain": [
       "<IPython.core.display.HTML object>"
      ]
     },
     "execution_count": 1,
     "metadata": {},
     "output_type": "execute_result"
    }
   ],
   "source": [
    "import numpy as np\n",
    "import matplotlib.pyplot as plt\n",
    "from pandas import read_csv\n",
    "\n",
    "from hnc.hnc.PIE import Plasma_of_Ions_and_Electrons as PLASMA\n",
    "\n",
    "from hnc.hnc.constants import *\n",
    "from hnc.hnc.misc import n_from_rs, rs_from_n\n",
    "\n",
    "prop_cycle = plt.rcParams['axes.prop_cycle']\n",
    "colors = prop_cycle.by_key()['color']\n",
    "                \n",
    "from IPython.core.display import HTML\n",
    "HTML(\"\"\"\n",
    "<style>\n",
    ".output_png {\n",
    "    display: table-cell;\n",
    "    text-align: center;\n",
    "    vertical-align: middle;\n",
    "}\n",
    "\n",
    "</style>\n",
    "\"\"\")\n"
   ]
  },
  {
   "cell_type": "markdown",
   "id": "8fcfcf82-afd9-41ed-94aa-a960e951a43a",
   "metadata": {},
   "source": [
    "#### Load George Data"
   ]
  },
  {
   "cell_type": "code",
   "execution_count": 2,
   "id": "6aedd62a-dbf0-40fa-9c81-ebd62d6bed0e",
   "metadata": {},
   "outputs": [],
   "source": [
    "GP_H_file = \"H-rho=1.dat\"\n",
    "GP_df = read_csv(GP_H_file, delim_whitespace=True, header=0)\n",
    "GP_PMbar_1 = GP_df['P_ishikawa'][3:]\n",
    "GP_PMbar_2 = GP_df['P_fauss'][3:]\n",
    "GP_Te_eV = GP_df['Te'][3:]"
   ]
  },
  {
   "cell_type": "code",
   "execution_count": 3,
   "id": "a4bd3c77-ffc1-4db3-ada1-e2bbb93ac23e",
   "metadata": {},
   "outputs": [
    {
     "data": {
      "text/plain": [
       "3        1.0\n",
       "4        2.0\n",
       "5        5.0\n",
       "6       10.0\n",
       "7       20.0\n",
       "8       50.0\n",
       "9      100.0\n",
       "10     200.0\n",
       "11     500.0\n",
       "12    1000.0\n",
       "13    2000.0\n",
       "Name: Te, dtype: float64"
      ]
     },
     "execution_count": 3,
     "metadata": {},
     "output_type": "execute_result"
    }
   ],
   "source": [
    "GP_Te_eV"
   ]
  },
  {
   "cell_type": "markdown",
   "id": "c3f94c86-6bf0-413a-bee0-92c63fe4fdf8",
   "metadata": {},
   "source": [
    "#### Load Morales Data"
   ]
  },
  {
   "cell_type": "code",
   "execution_count": 4,
   "id": "5f1686b1-4256-4e0c-b61a-0be35a5f70e2",
   "metadata": {},
   "outputs": [],
   "source": [
    "Morales_file = \"Morales_EOS_data.dat\"\n",
    "Morales_df = read_csv(Morales_file, delim_whitespace=True, header=4)\n",
    "Morales_EAU  = Morales_df['E[AU]']\n",
    "Morales_PGPa = Morales_df['P[GPa]']\n",
    "Morales_TK   = Morales_df['T[K]']\n",
    "Morales_PMbar =  1e-2*Morales_PGPa\n",
    "Morales_TeV = Morales_TK/eV_to_K"
   ]
  },
  {
   "cell_type": "code",
   "execution_count": 5,
   "id": "69f9d86b-5e05-419c-842e-b1a1d11b356d",
   "metadata": {},
   "outputs": [
    {
     "data": {
      "text/plain": [
       "0    0.172347\n",
       "1    0.258520\n",
       "2    0.344693\n",
       "3    0.517040\n",
       "4    0.689386\n",
       "5    0.861733\n",
       "Name: T[K], dtype: float64"
      ]
     },
     "execution_count": 5,
     "metadata": {},
     "output_type": "execute_result"
    }
   ],
   "source": [
    "Morales_TeV"
   ]
  },
  {
   "cell_type": "markdown",
   "id": "bbea7b15",
   "metadata": {},
   "source": [
    "### Set Parameters in Paper and Plot"
   ]
  },
  {
   "cell_type": "code",
   "execution_count": 6,
   "id": "4d0a7939",
   "metadata": {
    "tags": []
   },
   "outputs": [],
   "source": [
    "name = 'Hydrogen'\n",
    "Z, A = 1,1 \n",
    "\n",
    "Te_eV_list = np.geomspace(np.min(Morales_TeV), np.max(GP_Te_eV), num=15) #np.array(GP_Te_eV) # eV\n",
    "Ti_eV_list = Te_eV_list\n",
    "ni_cc = 5.98e23\n",
    "ni_AU = ni_cc/cm_to_AU**3\n",
    "\n",
    "ri_cm = rs_from_n(ni_cc)  # cm\n",
    "ri_AU = ri_cm*cm_to_AU    # AU "
   ]
  },
  {
   "cell_type": "code",
   "execution_count": 7,
   "id": "73694c05-2c2b-44e9-a4a3-3554916bb04d",
   "metadata": {},
   "outputs": [
    {
     "data": {
      "text/plain": [
       "1.3914542638521432"
      ]
     },
     "execution_count": 7,
     "metadata": {},
     "output_type": "execute_result"
    }
   ],
   "source": [
    "ri_AU"
   ]
  },
  {
   "cell_type": "code",
   "execution_count": 8,
   "id": "191f4201-75d5-4f60-b022-000bd8f91a00",
   "metadata": {},
   "outputs": [
    {
     "data": {
      "text/plain": [
       "array([   9.92099106,    9.926066  ,    9.94538199,   10.01867366,\n",
       "         10.29382884,   11.27418571,   14.24759619,   21.59603589,\n",
       "         37.47601859,   69.72379761,  133.59938263,  258.93443737,\n",
       "        504.00369643,  982.57296292, 1916.67816283])"
      ]
     },
     "execution_count": 8,
     "metadata": {},
     "output_type": "execute_result"
    }
   ],
   "source": [
    "from hnc.hnc.misc import Degeneracy_Parameter, find_η, P_Ideal_Fermi_Gas, Fermi_Energy\n",
    "\n",
    "np.array([P_Ideal_Fermi_Gas(Te, ni_AU) for Te in Te_eV_list*eV_to_AU])*AU_to_bar/1e6"
   ]
  },
  {
   "cell_type": "code",
   "execution_count": 11,
   "id": "44410cee-3f99-42bf-a320-ca42599ccd93",
   "metadata": {},
   "outputs": [
    {
     "data": {
      "text/plain": [
       "array([   9.92055719,    9.92441527,    9.93909189,    9.9947786 ,\n",
       "         10.20403482,   10.96432281,   13.47209879,   20.36753499,\n",
       "         36.10149733,   68.45711493,  132.54432755,  258.1030081 ,\n",
       "        503.36959176,  982.0991122 , 1916.3265231 ])"
      ]
     },
     "execution_count": 11,
     "metadata": {},
     "output_type": "execute_result"
    }
   ],
   "source": [
    "np.sqrt((2/5 * Fermi_Energy(ni_AU)/(4/3*π*ri_AU**3) * AU_to_bar/1e6 )**2+( Te_eV_list*eV_to_AU*ni_AU* AU_to_bar/1e6)**2)"
   ]
  },
  {
   "cell_type": "markdown",
   "id": "840df6a9",
   "metadata": {},
   "source": [
    "#### Run Ornstein-Zernike Closure"
   ]
  },
  {
   "cell_type": "code",
   "execution_count": 10,
   "id": "38816387-97b8-463e-a7a4-d242cb364673",
   "metadata": {},
   "outputs": [],
   "source": [
    "def plasma_output(plasma):\n",
    "    plasma.run_hnc()\n",
    "    plasma.hnc.βu_r_matrix[1,1] -= plasma.βP_ee\n",
    "    Pe_hnc_id, Pe_hnc_ex   = plasma.hnc.rho[1]*plasma.hnc.Temp_list[1],  np.sum( plasma.hnc.excess_pressure_matrix(),axis=1 )[1] \n",
    "    plasma.hnc.βu_r_matrix[1,1] += plasma.βP_ee\n",
    "    Pe_Mbar_id, Pe_Mbar_ex = P_hnc_to_Mbar(Pe_hnc_id), P_hnc_to_Mbar(Pe_hnc_ex)\n",
    "    Pe_Mbar = Pe_Mbar_id + Pe_Mbar_ex\n",
    "    return Pe_Mbar_id, Pe_Mbar_ex, Pe_Mbar\n",
    "\n",
    "name1 = 'OZ - g'\n",
    "plasma1 = lambda T_eV: PLASMA(Z, A, ni_cc, T_eV, T_eV, Zbar=Z,\n",
    "                 βu_options = {'add_bridge':False,'bridge':'ocp', 'pseudopotential':False}, \n",
    "                 qsp_options= {'r_c':0,'which_Tij':'geometric'},\n",
    "                 hnc_options= {'kappa_multiscale':10, 'R_max':20,'N_bins':1000, \n",
    "                               'h_max':2e2,'oz_method':'standard'},\n",
    "                 hnc_solve_options={'alpha_Picard':0.5, 'num_iterations':1e4})\n",
    "name2 = 'OZ - th'\n",
    "plasma2 = lambda T_eV: PLASMA(Z, A, ni_cc, T_eV, T_eV, Zbar=Z,\n",
    "                 βu_options = {'add_bridge':False,'bridge':'ocp', 'pseudopotential':False}, \n",
    "                 qsp_options= {'r_c':0,'which_Tij':'thermal'},\n",
    "                 hnc_options= {'kappa_multiscale':10, 'R_max':20,'N_bins':1000, \n",
    "                               'h_max':2e2,'oz_method':'standard'},\n",
    "                 hnc_solve_options={'alpha_Picard':0.5, 'num_iterations':1e4})\n",
    "name3 = 'OZ - th  Pauli'\n",
    "plasma3 = lambda T_eV: PLASMA(Z, A, ni_cc, T_eV, T_eV, Zbar=Z, find_βuee=True,\n",
    "                 βu_options = {'add_bridge':False,'bridge':'ocp', 'pseudopotential':False}, \n",
    "                 qsp_options= {'r_c':0,'which_Tij':'thermal'},\n",
    "                 hnc_options= {'kappa_multiscale':10, 'R_max':20,'N_bins':1000, \n",
    "                               'h_max':2e2,'oz_method':'standard'},\n",
    "                 hnc_solve_options={'alpha_Picard':0.5, 'num_iterations':1e4})\n",
    "name4 = 'SVT - th'\n",
    "plasma4 =  lambda T_eV: PLASMA(Z, A, ni_cc, T_eV, T_eV, Zbar=Z,\n",
    "                 βu_options = {'add_bridge':False,'bridge':'ocp', 'pseudopotential':False}, \n",
    "                 qsp_options= {'r_c':0},\n",
    "                 hnc_options= {'kappa_multiscale':10, 'R_max':20,'N_bins':1000, \n",
    "                               'h_max':2e2,'oz_method':'svt'},\n",
    "                 hnc_solve_options={'alpha_Picard':0.5,'num_iterations':1e4})\n",
    "\n",
    "P_hnc_to_bar = lambda P_hnc: (P_hnc/ri_AU**3) *  AU_to_bar \n",
    "P_hnc_to_Mbar = lambda P_hnc: 1e-6*P_hnc_to_bar(P_hnc)\n",
    "P_hnc_to_GPa = lambda P_hnc:  P_hnc_to_bar(P_hnc) * 1e5 / 1e9 "
   ]
  },
  {
   "cell_type": "markdown",
   "id": "1bfb565f-fd4f-4026-b214-d38de1408c82",
   "metadata": {},
   "source": [
    "####  Investigate Pressure "
   ]
  },
  {
   "cell_type": "code",
   "execution_count": 11,
   "id": "056611da-a6ca-4dae-b3a4-8e8e51da9e43",
   "metadata": {},
   "outputs": [],
   "source": [
    "# print(\"P = {0:.3e} [Mbar]\".format(P_hnc_to_Mbar(Pid)))\n",
    "# print(\"P = {0:.3e} [GPa]\".format(P_hnc_to_GPa(Pid)))"
   ]
  },
  {
   "cell_type": "markdown",
   "id": "fbfb5e3b-4c78-4a28-aaf1-4370c4095713",
   "metadata": {},
   "source": [
    "### Compute all plasma models for list of densities"
   ]
  },
  {
   "cell_type": "code",
   "execution_count": null,
   "id": "25dd3863",
   "metadata": {
    "scrolled": true
   },
   "outputs": [
    {
     "name": "stdout",
     "output_type": "stream",
     "text": [
      "Te_in_eV: 0.172\n",
      "Ti_in_eV: 0.172\n"
     ]
    },
    {
     "name": "stderr",
     "output_type": "stream",
     "text": [
      "/home/zach/plasma/hnc/hnc/PIE.py:181: RuntimeWarning: overflow encountered in exp\n",
      "  integrand = lambda t: t*np.sin(sin_arg*t)/(1+np.exp(t**2-η))\n",
      "/home/zach/plasma/hnc/hnc/PIE.py:188: RuntimeWarning: overflow encountered in exp\n",
      "  f_of_k = 1/(  1+np.exp((dense_hnc.k_array/self.qsp.ri)**2/(2*m_e*self.qsp.Te) - η) )\n"
     ]
    },
    {
     "name": "stdout",
     "output_type": "stream",
     "text": [
      "0: Initial condition Total Error: 1.064e+01\n",
      "Exiting status 0, reverting to best index so far: 805\n",
      "Final iter:806, Total Error: 9.922e-09\n",
      "Te_in_eV: 0.336\n",
      "Ti_in_eV: 0.336\n",
      "0: Initial condition Total Error: 6.742e+00\n",
      "Exiting status 0, reverting to best index so far: 453\n",
      "Final iter:454, Total Error: 9.680e-09\n",
      "Te_in_eV: 0.656\n",
      "Ti_in_eV: 0.656\n",
      "0: Initial condition Total Error: 4.187e+00\n",
      "Exiting status 0, reverting to best index so far: 263\n",
      "Final iter:264, Total Error: 9.381e-09\n",
      "Te_in_eV: 1.281\n",
      "Ti_in_eV: 1.281\n",
      "0: Initial condition Total Error: 2.542e+00\n",
      "Exiting status 0, reverting to best index so far: 158\n",
      "Final iter:159, Total Error: 8.992e-09\n",
      "Te_in_eV: 2.499\n",
      "Ti_in_eV: 2.499\n",
      "0: Initial condition Total Error: 1.505e+00\n",
      "Exiting status 0, reverting to best index so far: 98\n",
      "Final iter:99, Total Error: 8.765e-09\n",
      "Te_in_eV: 4.876\n",
      "Ti_in_eV: 4.876\n",
      "0: Initial condition Total Error: 8.717e-01\n",
      "Exiting status 0, reverting to best index so far: 63\n",
      "Final iter:64, Total Error: 8.005e-09\n",
      "Te_in_eV: 9.514\n",
      "Ti_in_eV: 9.514\n",
      "0: Initial condition Total Error: 5.019e-01\n",
      "Exiting status 0, reverting to best index so far: 42\n",
      "Final iter:43, Total Error: 8.043e-09\n",
      "Te_in_eV: 18.566\n",
      "Ti_in_eV: 18.566\n",
      "0: Initial condition Total Error: 2.950e-01\n",
      "Exiting status 0, reverting to best index so far: 30\n",
      "Final iter:31, Total Error: 9.141e-09\n",
      "Te_in_eV: 36.228\n",
      "Ti_in_eV: 36.228\n"
     ]
    },
    {
     "name": "stderr",
     "output_type": "stream",
     "text": [
      "/home/zach/plasma/hnc/hnc/PIE.py:182: IntegrationWarning: The maximum number of subdivisions (50) has been achieved.\n",
      "  If increasing the limit yields no improvement it is advised to analyze \n",
      "  the integrand in order to determine the difficulties.  If the position of a \n",
      "  local difficulty can be determined (singularity, discontinuity) one will \n",
      "  probably gain from splitting up the interval and calling the integrator \n",
      "  on the subranges.  Perhaps a special-purpose integrator should be used.\n",
      "  κ = 3*(2*self.qsp.Te*m_e) / (self.qsp.k_F**3 * r) *quad(integrand, 0, t_max)[0]\n"
     ]
    },
    {
     "name": "stdout",
     "output_type": "stream",
     "text": [
      "0: Initial condition Total Error: 1.730e-01\n",
      "Exiting status 0, reverting to best index so far: 25\n",
      "Final iter:26, Total Error: 6.240e-09\n",
      "Te_in_eV: 70.693\n",
      "Ti_in_eV: 70.693\n"
     ]
    },
    {
     "name": "stderr",
     "output_type": "stream",
     "text": [
      "/home/zach/plasma/hnc/hnc/PIE.py:182: IntegrationWarning: The integral is probably divergent, or slowly convergent.\n",
      "  κ = 3*(2*self.qsp.Te*m_e) / (self.qsp.k_F**3 * r) *quad(integrand, 0, t_max)[0]\n"
     ]
    },
    {
     "name": "stdout",
     "output_type": "stream",
     "text": [
      "0: Initial condition Total Error: 9.698e-02\n",
      "Exiting status 0, reverting to best index so far: 23\n",
      "Final iter:24, Total Error: 9.712e-09\n",
      "Te_in_eV: 137.946\n",
      "Ti_in_eV: 137.946\n"
     ]
    }
   ],
   "source": [
    "P_list_1 = []\n",
    "P_list_2 = []\n",
    "P_list_3 = []\n",
    "P_list_4 = []\n",
    "\n",
    "for T_eV in Te_eV_list:\n",
    "    #1\n",
    "    # plasma = plasma1(T_eV)\n",
    "    # Pe_id, Pe_ex, Pe = plasma_output(plasma)\n",
    "    # P_list_1.append( [Pe_id, Pe_ex, Pe] )\n",
    "    #2\n",
    "    # plasma = plasma2(T_eV)\n",
    "    # Pe_id, Pe_ex, Pe = plasma_output(plasma)\n",
    "    # P_list_2.append( [Pe_id, Pe_ex, Pe] )\n",
    "    #3\n",
    "    plasma = plasma3(T_eV)\n",
    "    Pe_id, Pe_ex, Pe = plasma_output(plasma)\n",
    "    P_list_3.append( [Pe_id, Pe_ex, Pe] )\n",
    "    #4\n",
    "    # plasma = plasma4(T_eV)\n",
    "    # Pe_id, Pe_ex, Pe = plasma_output(plasma)\n",
    "    # P_list_4.append( [Pe_id, Pe_ex, Pe] )\n",
    "    "
   ]
  },
  {
   "cell_type": "markdown",
   "id": "bfda576a-f2db-434c-92b6-dbcc7c4bb9e5",
   "metadata": {},
   "source": [
    "Now Plot "
   ]
  },
  {
   "cell_type": "code",
   "execution_count": null,
   "id": "47071246-860e-4f63-8ae3-7438a4e072dd",
   "metadata": {},
   "outputs": [],
   "source": [
    "# P_list_1 = np.array(P_list_1)\n",
    "# P_list_2 = np.array(P_list_2)\n",
    "P_list_3 = np.array(P_list_3)\n",
    "# P_list_4 = np.array(P_list_4)"
   ]
  },
  {
   "cell_type": "code",
   "execution_count": null,
   "id": "d6b31b8c-d5f9-45ee-849a-34638cbfb7d1",
   "metadata": {},
   "outputs": [],
   "source": [
    "fig, axs = plt.subplots( figsize=(10,8))\n",
    "axs = np.array([axs])\n",
    "# fig.suptitle(r\"$T_i $ eV\", fontsize=25, y=0.9)\n",
    "\n",
    "#Plot GP data \n",
    "axs[0].plot(GP_Te_eV, GP_PMbar_1, 'k-', label='GP Ishikawa')\n",
    "axs[0].plot(GP_Te_eV, GP_PMbar_2, 'k--', label='GP Fauss')\n",
    "\n",
    "#Plot Morales data\n",
    "axs[0].plot(Morales_TeV, Morales_PMbar, 'k-', label='Morales')\n",
    "\n",
    "# Plot Pressure ratio\n",
    "# axs[0].plot(GP_Te_eV, P_list_1[:,2], label=name1)\n",
    "# axs[0].plot(Te_eV_list, P_list_2[:,2], label=name2)\n",
    "axs[0].plot(Te_eV_list, P_list_3[:,2],'--', label=name3)\n",
    "# axs[0].plot(Te_eV_list, P_list_4[:,2],'--.', label=name4)\n",
    "\n",
    "# Plot Fermi Pressure\n",
    "P_Fermi_Mbar = 2/5 * plasma.qsp.E_F/(4/3*π*(plasma.qsp.ri)**3) * AU_to_bar/1e6\n",
    "axs[0].plot(GP_Te_eV, GP_Te_eV*0 +P_Fermi_Mbar,'r--', label=r\"$P_{Fermi}$ [Mbar]\"  )\n",
    "\n",
    "for ax in axs:\n",
    "    ax.legend(fontsize=15, loc='upper left')\n",
    "    ax.set_xscale('log')\n",
    "    ax.set_yscale('symlog', linthresh=1)\n",
    "    ax.set_ylim(1e0, 1e5)\n",
    "    ax.set_ylabel(r\"$P_e$ [Mbar]\", fontsize=20)\n",
    "    ax.set_xlabel(r\"$T$ [eV]\", fontsize=20)\n",
    "    ax.tick_params(labelsize=15)\n",
    "plt.tight_layout()"
   ]
  },
  {
   "cell_type": "code",
   "execution_count": null,
   "id": "8c916475-9a7f-48bd-818b-0c6f22de08a1",
   "metadata": {},
   "outputs": [],
   "source": []
  }
 ],
 "metadata": {
  "kernelspec": {
   "display_name": "Python 3 (ipykernel)",
   "language": "python",
   "name": "python3"
  },
  "language_info": {
   "codemirror_mode": {
    "name": "ipython",
    "version": 3
   },
   "file_extension": ".py",
   "mimetype": "text/x-python",
   "name": "python",
   "nbconvert_exporter": "python",
   "pygments_lexer": "ipython3",
   "version": "3.10.6"
  }
 },
 "nbformat": 4,
 "nbformat_minor": 5
}
