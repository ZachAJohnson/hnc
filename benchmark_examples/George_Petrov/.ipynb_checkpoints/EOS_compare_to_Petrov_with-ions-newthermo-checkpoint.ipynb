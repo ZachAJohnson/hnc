{
 "cells": [
  {
   "cell_type": "markdown",
   "id": "d64f089f",
   "metadata": {
    "tags": []
   },
   "source": [
    "# Integral Equation Model Comparisons\n",
    "Purpose of this notebook is to EOS calculations for comparisons to George Petrov's Average Atom model, and Morales EOS Hydrogen paper\n",
    "\n",
    "[https://journals.aps.org/pre/abstract/10.1103/PhysRevE.81.021202](https://journals.aps.org/pre/abstract/10.1103/PhysRevE.81.021202)"
   ]
  },
  {
   "cell_type": "code",
   "execution_count": 1,
   "id": "2e5c11ba",
   "metadata": {
    "scrolled": true,
    "tags": []
   },
   "outputs": [
    {
     "name": "stdout",
     "output_type": "stream",
     "text": [
      "ModuleNotFoundError: No module named 'mendeleev'\n"
     ]
    },
    {
     "data": {
      "text/html": [
       "\n",
       "<style>\n",
       ".output_png {\n",
       "    display: table-cell;\n",
       "    text-align: center;\n",
       "    vertical-align: middle;\n",
       "}\n",
       "\n",
       "</style>\n"
      ],
      "text/plain": [
       "<IPython.core.display.HTML object>"
      ]
     },
     "execution_count": 1,
     "metadata": {},
     "output_type": "execute_result"
    }
   ],
   "source": [
    "import numpy as np\n",
    "import matplotlib.pyplot as plt\n",
    "from pandas import read_csv\n",
    "\n",
    "from hnc.hnc.PIE import Plasma_of_Ions_and_Electrons as PLASMA\n",
    "\n",
    "from hnc.hnc.constants import *\n",
    "from hnc.hnc.misc import n_from_rs, rs_from_n, P_Ideal_Fermi_Gas, E_Ideal_Fermi_Gas \n",
    "\n",
    "\n",
    "prop_cycle = plt.rcParams['axes.prop_cycle']\n",
    "colors = prop_cycle.by_key()['color']\n",
    "                \n",
    "from IPython.core.display import HTML\n",
    "HTML(\"\"\"\n",
    "<style>\n",
    ".output_png {\n",
    "    display: table-cell;\n",
    "    text-align: center;\n",
    "    vertical-align: middle;\n",
    "}\n",
    "\n",
    "</style>\n",
    "\"\"\")"
   ]
  },
  {
   "cell_type": "markdown",
   "id": "c3f94c86-6bf0-413a-bee0-92c63fe4fdf8",
   "metadata": {},
   "source": [
    "#### Load Morales Data"
   ]
  },
  {
   "cell_type": "code",
   "execution_count": 2,
   "id": "5f1686b1-4256-4e0c-b61a-0be35a5f70e2",
   "metadata": {
    "tags": []
   },
   "outputs": [],
   "source": [
    "Morales_file = \"Morales_EOS_data.dat\"\n",
    "Morales_df = read_csv(Morales_file, delim_whitespace=True, header=4)\n",
    "Morales_EAU  = Morales_df['E[AU]']\n",
    "Morales_PGPa = Morales_df['P[GPa]']\n",
    "Morales_TK   = Morales_df['T[K]']\n",
    "Morales_PMbar =  1e-2*Morales_PGPa\n",
    "Morales_TeV = Morales_TK/eV_to_K"
   ]
  },
  {
   "cell_type": "markdown",
   "id": "bbea7b15",
   "metadata": {},
   "source": [
    "### Set Parameters in Paper and Plot"
   ]
  },
  {
   "cell_type": "code",
   "execution_count": 10,
   "id": "4d0a7939",
   "metadata": {
    "tags": []
   },
   "outputs": [],
   "source": [
    "name = 'Hydrogen'\n",
    "Z, A = 1,1 \n",
    "\n",
    "Te_eV_list = np.geomspace(np.array(Morales_TeV)[0], 1000, num=5) #np.array(GP_Te_eV) # eV\n",
    "Ti_eV_list = Te_eV_list\n",
    "ni_cc = 5.98e23\n",
    "ni_AU = ni_cc/cm_to_AU**3\n",
    "\n",
    "ri_cm = rs_from_n(ni_cc)  # cm\n",
    "ri_AU = ri_cm*cm_to_AU    # AU "
   ]
  },
  {
   "cell_type": "markdown",
   "id": "840df6a9",
   "metadata": {},
   "source": [
    "#### Run Ornstein-Zernike Closure"
   ]
  },
  {
   "cell_type": "code",
   "execution_count": 21,
   "id": "38816387-97b8-463e-a7a4-d242cb364673",
   "metadata": {
    "tags": []
   },
   "outputs": [],
   "source": [
    "# Define plasma method to use\n",
    "name = 'OZ - th  Pauli'\n",
    "plasma_func = lambda T_eV, ni_cc: PLASMA(Z, A, ni_cc, T_eV, T_eV, Zbar=Z, find_βuee=True,\n",
    "                 βu_options = {'add_bridge':True,'bridge':'yukawa', 'pseudopotential':False}, \n",
    "                 qsp_options= {'r_c':0,'which_Tij':'thermal'},\n",
    "                 hnc_options= {'kappa_multiscale':10, 'R_max':20,'N_bins':1000, \n",
    "                               'h_max':1e3,'oz_method':'standard'},\n",
    "                 hnc_solve_options={'alpha_Picard':0.5, 'num_iterations':1e4})\n",
    "\n",
    "# Helpful unit functions\n",
    "P_hnc_to_AU   = lambda P_hnc, ri: (P_hnc/ri**3) \n",
    "P_hnc_to_bar  = lambda P_hnc, ri: P_hnc_to_AU(P_hnc, ri) *  AU_to_bar \n",
    "P_hnc_to_Mbar = lambda P_hnc, ri: 1e-6*P_hnc_to_bar(P_hnc, ri)\n",
    "P_hnc_to_GPa  = lambda P_hnc, ri: P_hnc_to_bar(P_hnc, ri) * 1e5 / 1e9 \n",
    "E_hnc_to_eV   = lambda E_hnc: E_hnc/(3/(4*π)) * AU_to_eV\n",
    "\n",
    "P_hnc_to_AU = np.vectorize(P_hnc_to_AU)\n",
    "P_hnc_to_bar = np.vectorize(P_hnc_to_bar)\n",
    "P_hnc_to_Mbar = np.vectorize(P_hnc_to_Mbar)\n",
    "P_hnc_to_GPa = np.vectorize(P_hnc_to_GPa)\n",
    "E_hnc_to_eV = np.vectorize(E_hnc_to_eV)\n",
    "\n",
    "# Create new thermodynamic variable generator\n",
    "def excess_energy_density_matrix(plasma, d_βu ): # Defining   d_βu = dβ_c u/dβ = -T^2 d β_c u/dT\n",
    "    g_matrix = plasma.hnc.h_r_matrix+1\n",
    "    rho_matrix = plasma.hnc.rho[:,np.newaxis] * plasma.hnc.rho[np.newaxis,:]\n",
    "    r = plasma.hnc.r_array[np.newaxis,np.newaxis,:]\n",
    "    dr = plasma.hnc.del_r\n",
    "    \n",
    "    u_ex_matrix = np.sum(2*π*rho_matrix[:,:,np.newaxis]*d_βu*g_matrix*r**2*dr,axis=2)\n",
    "    return u_ex_matrix\n",
    "\n",
    "def ideal_energy_density_matrix(plasma, d_β):\n",
    "    u_i_id   = 3/2 * plasma.hnc.rho[0] * plasma.qsp.Ti\n",
    "    u_e_c_id = 3/2 * plasma.hnc.rho[1] * plasma.qsp.Te_c\n",
    "    u_e_id   = u_e_c_id * ( d_β )#  + 0*mass) # IGNORING MASS RUNNING FOR NOW\n",
    "    return np.diag([u_i_id, u_e_id ])\n",
    "\n",
    "def chemical_potential_addition():\n",
    "    return None\n",
    "\n",
    "\n",
    "def get_U_matrices(plasma_pair):\n",
    "#     print( \"NOT FINISHED\" )\n",
    "#     plasma, plasma_ε = plasma_pair\n",
    "#     plasma_ε.run_hnc(c_s_k_guess = plasma.hnc.c_s_k_matrix.copy())\n",
    "#     dT_AU = plasma.Ti - plasma_ε.Ti\n",
    "#     T_AU = plasma.Ti\n",
    "    \n",
    "#     # Now we need   d_βu = dβ_c u/dβ = -T^2 d β_c u/dT\n",
    "#     dβu_dβ_AU = (plasma.hnc.βu_r_matrix - plasma_ε.hnc.βu_r_matrix)/(plasma.qsp.βe - plasma_ε.qsp.βe )\n",
    "#     dβc_dβ    = ( 1/plasma.hnc.Temp_matrix - 1/plasma_ε.hnc.Temp_matrix)/(plasma.qsp.βe - plasma_ε.qsp.βe )\n",
    "\n",
    "#     # Get energies\n",
    "#     U_ex = excess_energy_density_matrix(plasma, d_βu_AU )\n",
    "#     U_id = ideal_energy_density_matrix(plasma, dβc_dβ)\n",
    "#     U_standard = plasma.hnc.energy_density_matrix()\n",
    "    \n",
    "#     # Convert units\n",
    "#     E_id_AU, E_ex_AU, E_st_AU, E_AU = U_id/plasma.hnc.rho[0], U_ex/plasma.hnc.rho[0], U_standard/plasma.hnc.rho[0], (U_id + U_ex)/plasma.hnc.rho[0]\n",
    "#     E_id_eV, E_ex_eV, E_st_eV, E_eV = np.array([E_id_AU, E_ex_AU, E_st_AU, E_AU])*AU_to_eV\n",
    "    return 0,0,0,0 #E_id_eV, E_ex_eV, E_st_eV, E_eV\n",
    "\n",
    "\n",
    "def get_P_matrices(plasma_pair):\n",
    "    plasma, plasma_ε = plasma_pair\n",
    "    plasma_ε.run_hnc(c_s_k_guess = plasma.hnc.c_s_k_matrix.copy())\n",
    "    dn_AU = plasma.ni_AU - plasma_ε.ni_AU\n",
    "    n_AU = plasma.ni_AU\n",
    "    r_AU = rs_from_n(n_AU)\n",
    "\n",
    "    # Get pressures\n",
    "    P_ex_standard = plasma.hnc.excess_pressure_matrix()\n",
    "    P_id_standard = np.diag(plasma.hnc.rho*plasma.hnc.Temp_list)\n",
    "\n",
    "    dlnβcdlnn = (np.log(plasma_ε.hnc.Temp_matrix/plasma.hnc.Temp_matrix))/(np.log(plasma.ni_AU/plasma_ε.ni_AU))\n",
    "    P_ex_new = P_ex_standard * plasma.Ti/plasma.hnc.Temp_matrix\n",
    "    P_id_new = P_id_standard * ( 1 + 3/2*dlnβcdlnn )\n",
    "\n",
    "    print(\"Pressures: \", P_ex_new, P_ex_standard)\n",
    "\n",
    "    # New excess energy derivative term in pressure\n",
    "    dβu_dlnn_AU = n_AU*(plasma.hnc.βu_r_matrix - plasma_ε.hnc.βu_r_matrix)/dn_AU\n",
    "    P_nonstandard = excess_energy_density_matrix(plasma, plasma.Ti * dβu_dlnn_AU  )\n",
    "    \n",
    "    # Combine results\n",
    "    P_standard = P_ex_standard + P_id_standard\n",
    "    P_id_Mbar, P_ex_Mbar, P_standard_Mbar, P_Mbar = P_hnc_to_Mbar(P_id_new,r_AU), P_hnc_to_Mbar(P_ex_new,r_AU), P_hnc_to_Mbar(P_standard,r_AU), P_hnc_to_Mbar(P_id_new + P_ex_new + P_nonstandard,r_AU)\n",
    "    return P_id_Mbar, P_ex_Mbar, P_standard_Mbar, P_Mbar\n",
    "\n",
    "\n",
    "def get_U(plasma, ε=1e-6):\n",
    "    plasma_pair = [plasma, plasma_func(plasma.Ti_eV*(1-ε), plasma.ni_cc)]\n",
    "    U_id_matrix, U_ex_matrix, U_st_matrix, U_matrix = get_U_matrices(plasma_pair)\n",
    "    return np.sum(U_id_matrix), np.sum(U_ex_matrix), np.sum(U_st_matrix), np.sum(U_matrix)\n",
    "\n",
    "def get_P(plasma, ε=1e-6):\n",
    "    plasma_pair = [plasma, plasma_func(plasma.Ti_eV, plasma.ni_cc*(1-ε))]\n",
    "    P_id_matrix, P_ex_matrix, P_st_matrix, P_matrix = get_P_matrices(plasma_pair)\n",
    "    return np.sum(P_id_matrix), np.sum(P_ex_matrix), np.sum(P_st_matrix), np.sum(P_matrix)\n",
    "\n",
    "\n",
    "# get_U_matrices(plasma_pair_func(1e4))"
   ]
  },
  {
   "cell_type": "markdown",
   "id": "fbfb5e3b-4c78-4a28-aaf1-4370c4095713",
   "metadata": {
    "tags": []
   },
   "source": [
    "### Compute all plasma models for list of densities"
   ]
  },
  {
   "cell_type": "code",
   "execution_count": 22,
   "id": "25dd3863",
   "metadata": {
    "tags": []
   },
   "outputs": [
    {
     "name": "stdout",
     "output_type": "stream",
     "text": [
      "Te_in_eV: 0.172\n",
      "Ti_in_eV: 0.172\n",
      "Te_in_eV: 0.172\n",
      "Ti_in_eV: 0.172\n",
      "Te_in_eV: 0.172\n",
      "Ti_in_eV: 0.172\n",
      "0: Initial condition Total Error: 6.808e+01\n",
      "Exiting status 0, reverting to best index so far: 892\n",
      "Final iter:893, Total Error: 9.932e-09\n"
     ]
    },
    {
     "ename": "UnboundLocalError",
     "evalue": "local variable 'P_ex_new' referenced before assignment",
     "output_type": "error",
     "traceback": [
      "\u001b[0;31m---------------------------------------------------------------------------\u001b[0m",
      "\u001b[0;31mUnboundLocalError\u001b[0m                         Traceback (most recent call last)",
      "Cell \u001b[0;32mIn[22], line 6\u001b[0m\n\u001b[1;32m      4\u001b[0m     plasma \u001b[38;5;241m=\u001b[39m plasma_func(T_eV, ni_cc)\n\u001b[1;32m      5\u001b[0m     E_id_eV, E_ex_eV, E_st_eV, E_eV         \u001b[38;5;241m=\u001b[39m get_U(plasma)\n\u001b[0;32m----> 6\u001b[0m     P_id_Mbar, P_ex_Mbar, P_st_Mbar, P_Mbar \u001b[38;5;241m=\u001b[39m \u001b[43mget_P\u001b[49m\u001b[43m(\u001b[49m\u001b[43mplasma\u001b[49m\u001b[43m)\u001b[49m\n\u001b[1;32m      7\u001b[0m     EOS_list\u001b[38;5;241m.\u001b[39mappend( [[E_id_eV, E_ex_eV, E_st_eV, E_eV],[P_id_Mbar, P_ex_Mbar, P_st_Mbar, P_Mbar]] )\n\u001b[1;32m      9\u001b[0m EOS_list \u001b[38;5;241m=\u001b[39m np\u001b[38;5;241m.\u001b[39marray(EOS_list)\n",
      "Cell \u001b[0;32mIn[21], line 97\u001b[0m, in \u001b[0;36mget_P\u001b[0;34m(plasma, ε)\u001b[0m\n\u001b[1;32m     95\u001b[0m \u001b[38;5;28;01mdef\u001b[39;00m \u001b[38;5;21mget_P\u001b[39m(plasma, ε\u001b[38;5;241m=\u001b[39m\u001b[38;5;241m1e-6\u001b[39m):\n\u001b[1;32m     96\u001b[0m     plasma_pair \u001b[38;5;241m=\u001b[39m [plasma, plasma_func(plasma\u001b[38;5;241m.\u001b[39mTi_eV, plasma\u001b[38;5;241m.\u001b[39mni_cc\u001b[38;5;241m*\u001b[39m(\u001b[38;5;241m1\u001b[39m\u001b[38;5;241m-\u001b[39mε))]\n\u001b[0;32m---> 97\u001b[0m     P_id_matrix, P_ex_matrix, P_st_matrix, P_matrix \u001b[38;5;241m=\u001b[39m \u001b[43mget_P_matrices\u001b[49m\u001b[43m(\u001b[49m\u001b[43mplasma_pair\u001b[49m\u001b[43m)\u001b[49m\n\u001b[1;32m     98\u001b[0m     \u001b[38;5;28;01mreturn\u001b[39;00m np\u001b[38;5;241m.\u001b[39msum(P_id_matrix), np\u001b[38;5;241m.\u001b[39msum(P_ex_matrix), np\u001b[38;5;241m.\u001b[39msum(P_st_matrix), np\u001b[38;5;241m.\u001b[39msum(P_matrix)\n",
      "Cell \u001b[0;32mIn[21], line 75\u001b[0m, in \u001b[0;36mget_P_matrices\u001b[0;34m(plasma_pair)\u001b[0m\n\u001b[1;32m     73\u001b[0m P_ex_standard \u001b[38;5;241m=\u001b[39m plasma\u001b[38;5;241m.\u001b[39mhnc\u001b[38;5;241m.\u001b[39mexcess_pressure_matrix()\n\u001b[1;32m     74\u001b[0m P_id_standard \u001b[38;5;241m=\u001b[39m np\u001b[38;5;241m.\u001b[39mdiag(plasma\u001b[38;5;241m.\u001b[39mhnc\u001b[38;5;241m.\u001b[39mrho\u001b[38;5;241m*\u001b[39mplasma\u001b[38;5;241m.\u001b[39mhnc\u001b[38;5;241m.\u001b[39mTemp_list)\n\u001b[0;32m---> 75\u001b[0m \u001b[38;5;28mprint\u001b[39m(\u001b[38;5;124m\"\u001b[39m\u001b[38;5;124mPressures: \u001b[39m\u001b[38;5;124m\"\u001b[39m, \u001b[43mP_ex_new\u001b[49m, P_ex_standard)\n\u001b[1;32m     76\u001b[0m dlnβcdlnn \u001b[38;5;241m=\u001b[39m (np\u001b[38;5;241m.\u001b[39mlog(plasma_ε\u001b[38;5;241m.\u001b[39mhnc\u001b[38;5;241m.\u001b[39mTemp_matrix\u001b[38;5;241m/\u001b[39mplasma\u001b[38;5;241m.\u001b[39mhnc\u001b[38;5;241m.\u001b[39mTemp_matrix))\u001b[38;5;241m/\u001b[39m(np\u001b[38;5;241m.\u001b[39mlog(plasma\u001b[38;5;241m.\u001b[39mni_AU\u001b[38;5;241m/\u001b[39mplasma_ε\u001b[38;5;241m.\u001b[39mni_AU))\n\u001b[1;32m     77\u001b[0m P_ex_new \u001b[38;5;241m=\u001b[39m P_ex_standard \u001b[38;5;241m*\u001b[39m plasma\u001b[38;5;241m.\u001b[39mTi\u001b[38;5;241m/\u001b[39mplasma\u001b[38;5;241m.\u001b[39mhnc\u001b[38;5;241m.\u001b[39mTemp_matrix\n",
      "\u001b[0;31mUnboundLocalError\u001b[0m: local variable 'P_ex_new' referenced before assignment"
     ]
    }
   ],
   "source": [
    "EOS_list = []\n",
    "\n",
    "for T_eV in Te_eV_list:\n",
    "    plasma = plasma_func(T_eV, ni_cc)\n",
    "    E_id_eV, E_ex_eV, E_st_eV, E_eV         = get_U(plasma)\n",
    "    P_id_Mbar, P_ex_Mbar, P_st_Mbar, P_Mbar = get_P(plasma)\n",
    "    EOS_list.append( [[E_id_eV, E_ex_eV, E_st_eV, E_eV],[P_id_Mbar, P_ex_Mbar, P_st_Mbar, P_Mbar]] )\n",
    "    \n",
    "EOS_list = np.array(EOS_list)"
   ]
  },
  {
   "cell_type": "markdown",
   "id": "ba721cf3-c0d5-4af8-838e-60aed2e5e4e2",
   "metadata": {
    "tags": []
   },
   "source": [
    "### Energy per Atom"
   ]
  },
  {
   "cell_type": "code",
   "execution_count": null,
   "id": "66dcd499-c2e2-4e9b-b09f-ce5b61a05840",
   "metadata": {
    "tags": []
   },
   "outputs": [],
   "source": [
    "from hnc.hnc.misc import Fermi_Energy\n",
    "\n",
    "fig, axs = plt.subplots( figsize=(10,8))\n",
    "axs = np.array([axs])\n",
    "# fig.suptitle(r\"$T_i $ eV\", fontsize=25, y=0.9)\n",
    "\n",
    "#Plot Morales data\n",
    "axs[0].plot(Morales_TeV, Morales_EAU*AU_to_eV, '+', label='Morales (QMC)')\n",
    "\n",
    "# Plot Energy\n",
    "axs[0].plot(Te_eV_list, EOS_list[:,0,0],'--.', label=\"cmHNC - Ideal\")\n",
    "axs[0].plot(Te_eV_list, EOS_list[:,0,1],'--.', label=\"cmHNC - Excess\")\n",
    "axs[0].plot(Te_eV_list, EOS_list[:,0,2],'--.', label=\"cmHNC - Standard\")\n",
    "axs[0].plot(Te_eV_list, EOS_list[:,0,3],'--.', label=\"cmHNC - Full\")\n",
    "\n",
    "# Plot Fermi Gas Energy\n",
    "E_ideal_eV_func = lambda Te_eV, Ti_eV: E_Ideal_Fermi_Gas(Te_eV*eV_to_AU, ni_AU)*AU_to_eV + 3/2*Ti_eV\n",
    "E_ideal_eV_func = np.vectorize(E_ideal_eV_func)\n",
    "\n",
    "Ee_ideal_eV = [E_Ideal_Fermi_Gas(Te_eV*eV_to_AU, ni_AU)*AU_to_eV for Te_eV in Te_eV_list]\n",
    "Ei_ideal_eV = 3/2*Ti_eV_list\n",
    "\n",
    "# axs[0].plot(Te_eV_list, Ee_ideal_eV,'k--', label=\"Ideal Fermi Gas\"  ) \n",
    "# axs[0].plot(Te_eV_list, 3/5*Fermi_Energy(ni_AU)*np.ones_like(Te_eV_list)*AU_to_eV,'k--.', label=\"Degnerate Fermi Gas\"  ) \n",
    "# axs[0].plot(Te_eV_list, Ei_ideal_eV,'k-.', label=\"Ideal Gas\"  ) \n",
    "axs[0].plot(Te_eV_list, Ee_ideal_eV + Ei_ideal_eV,'k-', label=\"Ideal Fermi Gas + Ideal Ions\"  ) \n",
    "\n",
    "for ax in axs:\n",
    "    ax.legend(fontsize=15, loc='lower right')\n",
    "    ax.set_xscale('log')\n",
    "    ax.set_yscale('symlog', linthresh=1)\n",
    "    # ax.set_yscale('log')\n",
    "    # ax.set_ylim(0, 20)\n",
    "    ax.set_ylabel(r\"$E$ [eV]\", fontsize=20)\n",
    "    ax.set_xlabel(r\"$T$ [eV]\", fontsize=20)\n",
    "    ax.tick_params(labelsize=15)\n",
    "plt.tight_layout()"
   ]
  },
  {
   "cell_type": "code",
   "execution_count": null,
   "id": "baa3a03b-1ab4-4eab-b924-d92c0934e841",
   "metadata": {
    "tags": []
   },
   "outputs": [],
   "source": [
    "from hnc.hnc.misc import Fermi_Energy\n",
    "\n",
    "fig, axs = plt.subplots( figsize=(10,8))\n",
    "axs = np.array([axs])\n",
    "# fig.suptitle(r\"$T_i $ eV\", fontsize=25, y=0.9)\n",
    "\n",
    "#Plot Morales data\n",
    "axs[0].plot(Morales_TeV, Morales_EAU*AU_to_eV/E_ideal_eV_func(Morales_TeV,Morales_TeV), '+', label='Morales (QMC)')\n",
    "\n",
    "# Plot Energy\n",
    "axs[0].plot(Te_eV_list, EOS_list[:,0,2]/E_ideal_eV_func(Te_eV_list,Te_eV_list), label=name)\n",
    "\n",
    "for ax in axs:\n",
    "    ax.legend(fontsize=15, loc='lower right')\n",
    "    ax.set_xscale('log')\n",
    "    ax.set_yscale('symlog', linthresh=1)\n",
    "    # ax.set_yscale('log')\n",
    "    # ax.set_ylim(0, 20)\n",
    "    ax.set_ylabel(r\"$E$ [eV]\", fontsize=20)\n",
    "    ax.set_xlabel(r\"$T$ [eV]\", fontsize=20)\n",
    "    ax.tick_params(labelsize=15)\n",
    "plt.tight_layout()"
   ]
  },
  {
   "cell_type": "markdown",
   "id": "aeddcc90-da78-4cc7-8042-1055b26275e6",
   "metadata": {
    "tags": []
   },
   "source": [
    "### Plot Pressures"
   ]
  },
  {
   "cell_type": "code",
   "execution_count": null,
   "id": "69d12883-e6ee-4817-88ad-08bca22d3979",
   "metadata": {
    "tags": []
   },
   "outputs": [],
   "source": [
    "\n",
    "fig, axs = plt.subplots( figsize=(10,8))\n",
    "axs = np.array([axs])\n",
    "# fig.suptitle(r\"$T_i $ eV\", fontsize=25, y=0.9)\n",
    "\n",
    "#Plot Morales data\n",
    "axs[0].plot(Morales_TeV, Morales_PMbar, '+', label='Morales (QMC)')\n",
    "\n",
    "# Plot Pressure \n",
    "axs[0].plot(Te_eV_list, EOS_list[:,1,0],'--.', label=\"cmHNC - Ideal\")\n",
    "axs[0].plot(Te_eV_list, EOS_list[:,1,1],'--.', label=\"cmHNC - Excess\")\n",
    "axs[0].plot(Te_eV_list, EOS_list[:,1,2],'--.', label=\"cmHNC - Standard\")\n",
    "axs[0].plot(Te_eV_list, EOS_list[:,1,3],'--.', label=\"cmHNC - Full\")\n",
    "\n",
    "# Plot Fermi Pressure\n",
    "Pe_ideal_Mbar = [P_Ideal_Fermi_Gas(Te_eV*eV_to_AU, ni_AU)*AU_to_bar/1e6 for Te_eV in Te_eV_list]\n",
    "Pi_ideal_Mbar = Ti_eV_list*eV_to_AU*ni_AU*AU_to_bar/1e6\n",
    "\n",
    "axs[0].plot(Te_eV_list, Pe_ideal_Mbar,'k--', label=\"Ideal Fermi Gas\"  ) \n",
    "axs[0].plot(Te_eV_list, Pe_ideal_Mbar + Pi_ideal_Mbar,'k-', label=\"Ideal Fermi Gas + Ideal Ions\"  ) \n",
    "\n",
    "for ax in axs:\n",
    "    ax.legend(fontsize=15, loc='lower right')\n",
    "    ax.set_xscale('log')\n",
    "    ax.set_yscale('symlog', linthresh=1)\n",
    "    # ax.set_yscale('log')\n",
    "    # ax.set_ylim(0, 20)\n",
    "    ax.set_ylabel(r\"$P$ [Mbar]\", fontsize=20)\n",
    "    ax.set_xlabel(r\"$T$ [eV]\", fontsize=20)\n",
    "    ax.tick_params(labelsize=15)\n",
    "plt.tight_layout()"
   ]
  },
  {
   "cell_type": "markdown",
   "id": "ab4c05db-aec5-4e64-a376-c3c69b9408ce",
   "metadata": {
    "tags": []
   },
   "source": [
    "#### Plot Pressure over Ideal Pressure"
   ]
  },
  {
   "cell_type": "code",
   "execution_count": null,
   "id": "d5315da2-7c6d-4ced-96c8-41c9e04178b5",
   "metadata": {
    "tags": []
   },
   "outputs": [],
   "source": [
    "fig, axs = plt.subplots( figsize=(10,8))\n",
    "axs = np.array([axs])\n",
    "# fig.suptitle(r\"$T_i $ eV\", fontsize=25, y=0.9)\n",
    "\n",
    "# Plot Fermi Pressure\n",
    "P_ideal_Mbar_func = lambda Te_eV, Ti_eV: P_Ideal_Fermi_Gas(Te_eV*eV_to_AU, ni_AU)*AU_to_bar/1e6 + Ti_eV*eV_to_AU*ni_AU*AU_to_bar/1e6\n",
    "P_ideal_Mbar_func = np.vectorize(P_ideal_Mbar_func)\n",
    "\n",
    "#Plot Morales data\n",
    "axs[0].plot(Morales_TeV, Morales_PMbar/[P_ideal_Mbar_func(T_eV, T_eV) for T_eV in Morales_TeV], '+', label='Morales (QMC)')\n",
    "\n",
    "# Plot Pressure ratio\n",
    "axs[0].plot(Te_eV_list, EOS_list[:,1,3]/P_ideal_Mbar_func(Te_eV_list,Te_eV_list),'--.', label=\"cmHNC - Ideal\")\n",
    "# axs[0].plot(Te_eV_list, EOS_list[:,1,1],'--.', label=\"cmHNC - Excess\")\n",
    "# axs[0].plot(Te_eV_list, EOS_list[:,1,2],'--.', label=\"cmHNC - Standard\")\n",
    "# axs[0].plot(Te_eV_list, EOS_list[:,1,3],'--.', label=\"cmHNC - Full\")\n",
    "\n",
    "\n",
    "for ax in axs:\n",
    "    ax.legend(fontsize=15, loc='lower right')\n",
    "    ax.set_xscale('log')\n",
    "    # ax.set_yscale('symlog', linthresh=1)\n",
    "    # ax.set_yscale('log')\n",
    "    # ax.set_ylim(0, 20)\n",
    "    ax.set_ylabel(r\"$P/P_{\\rm Ideal}$ [Mbar]\", fontsize=20)\n",
    "    ax.set_xlabel(r\"$T$ [eV]\", fontsize=20)\n",
    "    ax.tick_params(labelsize=15)\n",
    "plt.tight_layout()"
   ]
  },
  {
   "cell_type": "code",
   "execution_count": null,
   "id": "0e7122fc-571a-4e01-ba1b-5b1aeb052262",
   "metadata": {},
   "outputs": [],
   "source": []
  },
  {
   "cell_type": "code",
   "execution_count": null,
   "id": "913e5fd9-a933-4154-b116-a8546f3e71bf",
   "metadata": {},
   "outputs": [],
   "source": []
  }
 ],
 "metadata": {
  "kernelspec": {
   "display_name": "Python 3 (ipykernel)",
   "language": "python",
   "name": "python3"
  },
  "language_info": {
   "codemirror_mode": {
    "name": "ipython",
    "version": 3
   },
   "file_extension": ".py",
   "mimetype": "text/x-python",
   "name": "python",
   "nbconvert_exporter": "python",
   "pygments_lexer": "ipython3",
   "version": "3.10.6"
  }
 },
 "nbformat": 4,
 "nbformat_minor": 5
}
