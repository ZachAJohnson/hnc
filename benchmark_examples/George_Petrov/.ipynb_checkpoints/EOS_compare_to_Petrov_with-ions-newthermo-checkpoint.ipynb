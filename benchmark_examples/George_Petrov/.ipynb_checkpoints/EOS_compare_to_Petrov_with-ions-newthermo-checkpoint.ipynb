{
 "cells": [
  {
   "cell_type": "markdown",
   "id": "d64f089f",
   "metadata": {
    "tags": []
   },
   "source": [
    "# Integral Equation Model Comparisons\n",
    "Purpose of this notebook is to EOS calculations for comparisons to George Petrov's Average Atom model, and Morales EOS Hydrogen paper\n",
    "\n",
    "[https://journals.aps.org/pre/abstract/10.1103/PhysRevE.81.021202](https://journals.aps.org/pre/abstract/10.1103/PhysRevE.81.021202)"
   ]
  },
  {
   "cell_type": "code",
   "execution_count": 1,
   "id": "2e5c11ba",
   "metadata": {
    "scrolled": true,
    "tags": []
   },
   "outputs": [
    {
     "name": "stdout",
     "output_type": "stream",
     "text": [
      "ModuleNotFoundError: No module named 'mendeleev'\n"
     ]
    },
    {
     "data": {
      "text/html": [
       "\n",
       "<style>\n",
       ".output_png {\n",
       "    display: table-cell;\n",
       "    text-align: center;\n",
       "    vertical-align: middle;\n",
       "}\n",
       "\n",
       "</style>\n"
      ],
      "text/plain": [
       "<IPython.core.display.HTML object>"
      ]
     },
     "execution_count": 1,
     "metadata": {},
     "output_type": "execute_result"
    }
   ],
   "source": [
    "import numpy as np\n",
    "import matplotlib.pyplot as plt\n",
    "from pandas import read_csv\n",
    "\n",
    "from hnc.hnc.PIE import Plasma_of_Ions_and_Electrons as PLASMA\n",
    "\n",
    "from hnc.hnc.constants import *\n",
    "from hnc.hnc.misc import n_from_rs, rs_from_n, P_Ideal_Fermi_Gas, E_Ideal_Fermi_Gas \n",
    "\n",
    "\n",
    "prop_cycle = plt.rcParams['axes.prop_cycle']\n",
    "colors = prop_cycle.by_key()['color']\n",
    "                \n",
    "from IPython.core.display import HTML\n",
    "HTML(\"\"\"\n",
    "<style>\n",
    ".output_png {\n",
    "    display: table-cell;\n",
    "    text-align: center;\n",
    "    vertical-align: middle;\n",
    "}\n",
    "\n",
    "</style>\n",
    "\"\"\")"
   ]
  },
  {
   "cell_type": "markdown",
   "id": "c3f94c86-6bf0-413a-bee0-92c63fe4fdf8",
   "metadata": {},
   "source": [
    "#### Load Morales Data"
   ]
  },
  {
   "cell_type": "code",
   "execution_count": 2,
   "id": "5f1686b1-4256-4e0c-b61a-0be35a5f70e2",
   "metadata": {
    "tags": []
   },
   "outputs": [],
   "source": [
    "Morales_file = \"Morales_EOS_data.dat\"\n",
    "Morales_df = read_csv(Morales_file, delim_whitespace=True, header=4)\n",
    "Morales_EAU  = Morales_df['E[AU]']\n",
    "Morales_PGPa = Morales_df['P[GPa]']\n",
    "Morales_TK   = Morales_df['T[K]']\n",
    "Morales_PMbar =  1e-2*Morales_PGPa\n",
    "Morales_TeV = Morales_TK/eV_to_K"
   ]
  },
  {
   "cell_type": "markdown",
   "id": "bbea7b15",
   "metadata": {},
   "source": [
    "### Set Parameters in Paper and Plot"
   ]
  },
  {
   "cell_type": "code",
   "execution_count": 4,
   "id": "4d0a7939",
   "metadata": {
    "tags": []
   },
   "outputs": [],
   "source": [
    "name = 'Hydrogen'\n",
    "Z, A = 1,1 \n",
    "\n",
    "Te_eV_list = np.geomspace(np.min(Morales_TeV), 1000, num=15) #np.array(GP_Te_eV) # eV\n",
    "Ti_eV_list = Te_eV_list\n",
    "ni_cc = 5.98e23\n",
    "ni_AU = ni_cc/cm_to_AU**3\n",
    "\n",
    "ri_cm = rs_from_n(ni_cc)  # cm\n",
    "ri_AU = ri_cm*cm_to_AU    # AU "
   ]
  },
  {
   "cell_type": "markdown",
   "id": "840df6a9",
   "metadata": {},
   "source": [
    "#### Run Ornstein-Zernike Closure"
   ]
  },
  {
   "cell_type": "code",
   "execution_count": 5,
   "id": "38816387-97b8-463e-a7a4-d242cb364673",
   "metadata": {
    "tags": []
   },
   "outputs": [
    {
     "name": "stdout",
     "output_type": "stream",
     "text": [
      "Te_in_eV: 10000.000\n",
      "Ti_in_eV: 10000.000\n"
     ]
    },
    {
     "name": "stderr",
     "output_type": "stream",
     "text": [
      "/home/zach/plasma/hnc/hnc/PIE.py:186: RuntimeWarning: overflow encountered in exp\n",
      "  integrand = lambda t: t*np.sin(sin_arg*t)/(1+np.exp(t**2-η))\n",
      "/home/zach/plasma/hnc/hnc/PIE.py:187: IntegrationWarning: The maximum number of subdivisions (50) has been achieved.\n",
      "  If increasing the limit yields no improvement it is advised to analyze \n",
      "  the integrand in order to determine the difficulties.  If the position of a \n",
      "  local difficulty can be determined (singularity, discontinuity) one will \n",
      "  probably gain from splitting up the interval and calling the integrator \n",
      "  on the subranges.  Perhaps a special-purpose integrator should be used.\n",
      "  κ = 3*(2*self.qsp.Te*m_e) / (self.qsp.k_F**3 * r) *quad(integrand, 0, t_max)[0]\n",
      "/home/zach/plasma/hnc/hnc/PIE.py:187: IntegrationWarning: The integral is probably divergent, or slowly convergent.\n",
      "  κ = 3*(2*self.qsp.Te*m_e) / (self.qsp.k_F**3 * r) *quad(integrand, 0, t_max)[0]\n"
     ]
    },
    {
     "name": "stdout",
     "output_type": "stream",
     "text": [
      "Te_in_eV: 9999.990\n",
      "Ti_in_eV: 9999.990\n",
      "0: Initial condition Total Error: 2.494e-03\n",
      "Exiting status 0, reverting to best index so far: 18\n",
      "Final iter:19, Total Error: 9.514e-09\n",
      "0: Initial condition Total Error: 1.173e-08\n",
      "Exiting status 0, reverting to best index so far: 1\n",
      "Final iter:2, Total Error: 5.865e-09\n"
     ]
    },
    {
     "data": {
      "text/plain": [
       "(array([[15000.        ,     0.        ],\n",
       "        [    0.        , 15000.01499995]]),\n",
       " array([[ 5871.88054915, -5872.90472622],\n",
       "        [-5872.90472622,  5872.14109922]]),\n",
       " array([[20871.88054915, -5872.90472622],\n",
       "        [-5872.90472622, 20872.15609916]]))"
      ]
     },
     "execution_count": 5,
     "metadata": {},
     "output_type": "execute_result"
    }
   ],
   "source": [
    "# Define plasma method to use\n",
    "name = 'OZ - th  Pauli'\n",
    "plasma_func = lambda T_eV: PLASMA(Z, A, ni_cc, T_eV, T_eV, Zbar=Z, find_βuee=True,\n",
    "                 βu_options = {'add_bridge':False,'bridge':'ocp', 'pseudopotential':False}, \n",
    "                 qsp_options= {'r_c':0,'which_Tij':'thermal'},\n",
    "                 hnc_options= {'kappa_multiscale':10, 'R_max':20,'N_bins':1000, \n",
    "                               'h_max':2e2,'oz_method':'standard'},\n",
    "                 hnc_solve_options={'alpha_Picard':0.5, 'num_iterations':1e4})\n",
    "\n",
    "ε = 1e-6\n",
    "plasma_pair_func = lambda T_eV:[plasma_func(T_eV), plasma_func(T_eV*(1-ε))]\n",
    "\n",
    "# Helpful unit functions\n",
    "P_hnc_to_AU   = lambda P_hnc: (P_hnc/ri_AU**3) \n",
    "P_hnc_to_bar  = lambda P_hnc: P_hnc_to_AU(P_hnc) *  AU_to_bar \n",
    "P_hnc_to_Mbar = lambda P_hnc: 1e-6*P_hnc_to_bar(P_hnc)\n",
    "P_hnc_to_GPa  = lambda P_hnc: P_hnc_to_bar(P_hnc) * 1e5 / 1e9 \n",
    "E_hnc_to_eV   = lambda E_hnc: E_hnc/plasma.hnc.rho[0] * AU_to_eV\n",
    "\n",
    "# Create new thermodynamic variable generator\n",
    "def excess_energy_density_matrix(plasma, d_βu ): # Defining   d_βu = dβ_c u/dβ = -T^2 d β_c u/dT\n",
    "    g_matrix = plasma.hnc.h_r_matrix+1\n",
    "    rho_matrix = plasma.hnc.rho[:,np.newaxis] * plasma.hnc.rho[np.newaxis,:]\n",
    "    r = plasma.hnc.r_array[np.newaxis,np.newaxis,:]\n",
    "    dr = plasma.hnc.del_r\n",
    "    \n",
    "    u_ex_matrix = np.sum(2*π*rho_matrix[:,:,np.newaxis]*d_βu*g_matrix*r**2*dr,axis=2)\n",
    "    return u_ex_matrix\n",
    "\n",
    "def ideal_energy_density_matrix(plasma, d_β):\n",
    "    u_i_id   = 3/2 * plasma.hnc.rho[0] * plasma.qsp.Ti\n",
    "    u_e_c_id = 3/2 * plasma.hnc.rho[1] * plasma.qsp.Te_c\n",
    "    u_e_id   = u_e_c_id * ( d_β )#  + 0*mass) # IGNORING MASS RUNNING FOR NOW\n",
    "    return np.diag([u_i_id, u_e_id ])\n",
    "\n",
    "def chemical_potential \n",
    "\n",
    "def get_U_matrices(plasma_pair):\n",
    "    plasma, plasma_ε = plasma_pair\n",
    "    plasma.run_hnc()\n",
    "    plasma_ε.run_hnc(c_s_k_guess = plasma.hnc.c_s_k_matrix.copy())\n",
    "    dT_AU = plasma.qsp.Ti - plasma_ε.qsp.Ti\n",
    "    T_AU = plasma.qsp.Ti\n",
    "    \n",
    "    # Now we need   d_βu = dβ_c u/dβ = -T^2 d β_c u/dT\n",
    "    d_βu_AU = -T_AU**2*(plasma.hnc.βu_r_matrix - plasma_ε.hnc.βu_r_matrix)/dT_AU\n",
    "    d_β  = -T_AU**2*( 1/plasma.qsp.Te_c - 1/plasma_ε.qsp.Te_c)/dT_AU\n",
    "\n",
    "    # Get energies\n",
    "    U_ex = excess_energy_density_matrix(plasma, d_βu_AU )\n",
    "    U_id = ideal_energy_density_matrix(plasma, d_β)\n",
    "    \n",
    "    # Convert units\n",
    "    E_id_AU, E_ex_AU, E_AU = U_id/plasma.hnc.rho[0], U_ex/plasma.hnc.rho[0], (U_id + U_ex)/plasma.hnc.rho[0]\n",
    "    E_id_eV, E_ex_eV, E_eV = E_id_AU*AU_to_eV, E_ex_AU*AU_to_eV, E_AU*AU_to_eV\n",
    "    return E_id_eV, E_ex_eV, E_eV\n",
    "\n",
    "def get_U(plasma_pair):\n",
    "    U_id_matrix, U_ex_matrix, U_matrix = get_U_matrices(plasma_pair)\n",
    "    return np.sum(U_id_matrix), np.sum(U_ex_matrix), np.sum(U_matrix)\n",
    "\n",
    "get_U_matrices(plasma_pair_func(1e4))"
   ]
  },
  {
   "cell_type": "markdown",
   "id": "fbfb5e3b-4c78-4a28-aaf1-4370c4095713",
   "metadata": {
    "tags": []
   },
   "source": [
    "### Compute all plasma models for list of densities"
   ]
  },
  {
   "cell_type": "code",
   "execution_count": 6,
   "id": "25dd3863",
   "metadata": {
    "scrolled": true,
    "tags": []
   },
   "outputs": [
    {
     "name": "stdout",
     "output_type": "stream",
     "text": [
      "Te_in_eV: 0.172\n",
      "Ti_in_eV: 0.172\n"
     ]
    },
    {
     "name": "stderr",
     "output_type": "stream",
     "text": [
      "/home/zach/plasma/hnc/hnc/PIE.py:193: RuntimeWarning: overflow encountered in exp\n",
      "  f_of_k = 1/(  1+np.exp((dense_hnc.k_array/self.qsp.ri)**2/(2*m_e*self.qsp.Te) - η) )\n"
     ]
    },
    {
     "name": "stdout",
     "output_type": "stream",
     "text": [
      "Te_in_eV: 0.172\n",
      "Ti_in_eV: 0.172\n",
      "0: Initial condition Total Error: 1.212e+02\n"
     ]
    },
    {
     "name": "stderr",
     "output_type": "stream",
     "text": [
      "/home/zach/plasma/hnc/hnc/hnc.py:332: RuntimeWarning: overflow encountered in exp\n",
      "  h_r_matrix = -1 + np.exp(γs_r_matrix - self.βu_s_r_matrix) # 2. γ_r,u_s_r  -> h_r   (HNC)\n",
      "/home/zach/plasma/hnc/hnc/hnc.py:434: RuntimeWarning: overflow encountered in exp\n",
      "  tot_eqn =  1 + h_r_matrix  - np.exp(-self.βu_s_r_matrix + h_r_matrix - c_s_r_matrix )\n",
      "/home/zach/plasma/hnc/hnc/hnc.py:514: RuntimeWarning: overflow encountered in exp\n",
      "  h_r_matrix = -1 + np.exp(γs_r_matrix - self.βu_s_r_matrix) # 2. γ_r,u_s_r  -> h_r   (HNC)\n",
      "/home/zach/plasma/hnc/hnc/hnc.py:630: RuntimeWarning: overflow encountered in exp\n",
      "  hnc_err = np.linalg.norm(- 1 - self.h_r_matrix   + np.exp( -self.βu_r_matrix + self.h_r_matrix - self.c_r_matrix ))/np.sqrt(self.N_bins*self.N_species**2)\n",
      "/home/zach/plasma/hnc/hnc/hnc.py:638: RuntimeWarning: invalid value encountered in subtract\n",
      "  Δ_err = np.array(self.tot_err_list[-iters_to_check:-2]) - np.array(self.tot_err_list[-iters_to_check + 1:-1])\n"
     ]
    },
    {
     "name": "stdout",
     "output_type": "stream",
     "text": [
      "QUIT: Total error infinite.\n",
      "Exiting status 1, reverting to best index so far: 0\n",
      "Final iter:21, Total Error: 1.212e+02\n",
      "QUIT: Picard Err too high. Newton assumed not to converge. Try better initial condition or smaller α.\n",
      "0: Initial condition Total Error: 1.212e+02\n",
      "QUIT: Total error infinite.\n",
      "Exiting status 1, reverting to best index so far: 0\n",
      "Final iter:21, Total Error: 1.212e+02\n",
      "QUIT: Picard Err too high. Newton assumed not to converge. Try better initial condition or smaller α.\n",
      "Te_in_eV: 0.320\n",
      "Ti_in_eV: 0.320\n",
      "Te_in_eV: 0.320\n",
      "Ti_in_eV: 0.320\n",
      "0: Initial condition Total Error: 8.970e+00\n",
      "Exiting status 0, reverting to best index so far: 471\n",
      "Final iter:472, Total Error: 9.924e-09\n",
      "0: Initial condition Total Error: 1.659e-05\n",
      "Exiting status 0, reverting to best index so far: 95\n",
      "Final iter:96, Total Error: 9.855e-09\n",
      "Te_in_eV: 0.594\n",
      "Ti_in_eV: 0.594\n",
      "Te_in_eV: 0.594\n",
      "Ti_in_eV: 0.594\n",
      "0: Initial condition Total Error: 4.661e+00\n",
      "Exiting status 0, reverting to best index so far: 281\n",
      "Final iter:282, Total Error: 9.670e-09\n",
      "0: Initial condition Total Error: 8.637e-06\n",
      "Exiting status 0, reverting to best index so far: 55\n",
      "Final iter:56, Total Error: 9.937e-09\n",
      "Te_in_eV: 1.104\n",
      "Ti_in_eV: 1.104\n",
      "Te_in_eV: 1.104\n",
      "Ti_in_eV: 1.104\n",
      "0: Initial condition Total Error: 2.904e+00\n",
      "Exiting status 0, reverting to best index so far: 171\n",
      "Final iter:172, Total Error: 9.826e-09\n",
      "0: Initial condition Total Error: 4.558e-06\n",
      "Exiting status 0, reverting to best index so far: 33\n",
      "Final iter:34, Total Error: 9.635e-09\n",
      "Te_in_eV: 2.050\n",
      "Ti_in_eV: 2.050\n",
      "Te_in_eV: 2.050\n",
      "Ti_in_eV: 2.050\n",
      "0: Initial condition Total Error: 1.797e+00\n",
      "Exiting status 0, reverting to best index so far: 104\n",
      "Final iter:105, Total Error: 9.733e-09\n",
      "0: Initial condition Total Error: 2.436e-06\n",
      "Exiting status 0, reverting to best index so far: 20\n",
      "Final iter:21, Total Error: 9.276e-09\n",
      "Te_in_eV: 3.807\n",
      "Ti_in_eV: 3.807\n",
      "Te_in_eV: 3.807\n",
      "Ti_in_eV: 3.807\n",
      "0: Initial condition Total Error: 1.091e+00\n",
      "Exiting status 0, reverting to best index so far: 64\n",
      "Final iter:65, Total Error: 8.952e-09\n",
      "0: Initial condition Total Error: 1.326e-06\n",
      "Exiting status 0, reverting to best index so far: 12\n",
      "Final iter:13, Total Error: 9.813e-09\n",
      "Te_in_eV: 7.069\n",
      "Ti_in_eV: 7.069\n",
      "Te_in_eV: 7.069\n",
      "Ti_in_eV: 7.069\n",
      "0: Initial condition Total Error: 6.545e-01\n",
      "Exiting status 0, reverting to best index so far: 43\n",
      "Final iter:44, Total Error: 7.140e-09\n",
      "0: Initial condition Total Error: 7.270e-07\n",
      "Exiting status 0, reverting to best index so far: 9\n",
      "Final iter:10, Total Error: 6.783e-09\n",
      "Te_in_eV: 13.128\n",
      "Ti_in_eV: 13.128\n",
      "Te_in_eV: 13.128\n",
      "Ti_in_eV: 13.128\n",
      "0: Initial condition Total Error: 3.986e-01\n",
      "Exiting status 0, reverting to best index so far: 32\n",
      "Final iter:33, Total Error: 9.274e-09\n",
      "0: Initial condition Total Error: 3.945e-07\n",
      "Exiting status 0, reverting to best index so far: 7\n",
      "Final iter:8, Total Error: 6.363e-09\n",
      "Te_in_eV: 24.380\n",
      "Ti_in_eV: 24.380\n",
      "Te_in_eV: 24.380\n",
      "Ti_in_eV: 24.380\n",
      "0: Initial condition Total Error: 2.498e-01\n",
      "Exiting status 0, reverting to best index so far: 26\n",
      "Final iter:27, Total Error: 8.742e-09\n",
      "0: Initial condition Total Error: 2.231e-07\n",
      "Exiting status 0, reverting to best index so far: 5\n",
      "Final iter:6, Total Error: 9.072e-09\n",
      "Te_in_eV: 45.275\n",
      "Ti_in_eV: 45.275\n",
      "Te_in_eV: 45.275\n",
      "Ti_in_eV: 45.275\n",
      "0: Initial condition Total Error: 1.539e-01\n",
      "Exiting status 0, reverting to best index so far: 24\n",
      "Final iter:25, Total Error: 5.183e-09\n",
      "0: Initial condition Total Error: 1.392e-07\n",
      "Exiting status 0, reverting to best index so far: 4\n",
      "Final iter:5, Total Error: 9.014e-09\n",
      "Te_in_eV: 84.079\n",
      "Ti_in_eV: 84.079\n",
      "Te_in_eV: 84.079\n",
      "Ti_in_eV: 84.079\n",
      "0: Initial condition Total Error: 9.065e-02\n",
      "Exiting status 0, reverting to best index so far: 23\n",
      "Final iter:24, Total Error: 8.401e-09\n",
      "0: Initial condition Total Error: 9.265e-08\n",
      "Exiting status 0, reverting to best index so far: 4\n",
      "Final iter:5, Total Error: 5.670e-09\n",
      "Te_in_eV: 156.140\n",
      "Ti_in_eV: 156.140\n",
      "Te_in_eV: 156.140\n",
      "Ti_in_eV: 156.140\n",
      "0: Initial condition Total Error: 5.328e-02\n",
      "Exiting status 0, reverting to best index so far: 23\n",
      "Final iter:24, Total Error: 5.673e-09\n",
      "0: Initial condition Total Error: 5.461e-08\n",
      "Exiting status 0, reverting to best index so far: 3\n",
      "Final iter:4, Total Error: 6.731e-09\n",
      "Te_in_eV: 289.963\n",
      "Ti_in_eV: 289.963\n",
      "Te_in_eV: 289.963\n",
      "Ti_in_eV: 289.963\n",
      "0: Initial condition Total Error: 3.366e-02\n",
      "Exiting status 0, reverting to best index so far: 22\n",
      "Final iter:23, Total Error: 7.754e-09\n",
      "0: Initial condition Total Error: 3.376e-08\n",
      "Exiting status 0, reverting to best index so far: 2\n",
      "Final iter:3, Total Error: 8.395e-09\n",
      "Te_in_eV: 538.483\n",
      "Ti_in_eV: 538.483\n",
      "Te_in_eV: 538.482\n",
      "Ti_in_eV: 538.482\n",
      "0: Initial condition Total Error: 2.308e-02\n",
      "Exiting status 0, reverting to best index so far: 22\n",
      "Final iter:23, Total Error: 5.475e-09\n",
      "0: Initial condition Total Error: 2.042e-08\n",
      "Exiting status 0, reverting to best index so far: 2\n",
      "Final iter:3, Total Error: 5.097e-09\n",
      "Te_in_eV: 1000.000\n",
      "Ti_in_eV: 1000.000\n",
      "Te_in_eV: 999.999\n",
      "Ti_in_eV: 999.999\n",
      "0: Initial condition Total Error: 1.595e-02\n",
      "Exiting status 0, reverting to best index so far: 21\n",
      "Final iter:22, Total Error: 7.614e-09\n",
      "0: Initial condition Total Error: 1.795e-08\n",
      "Exiting status 0, reverting to best index so far: 1\n",
      "Final iter:2, Total Error: 8.974e-09\n"
     ]
    }
   ],
   "source": [
    "EOS_list = []\n",
    "\n",
    "for T_eV in Te_eV_list:\n",
    "    plasma_pair = plasma_pair_func(T_eV)\n",
    "    E_id_eV, E_ex_eV, E_eV = get_U(plasma_pair)\n",
    "    EOS_list.append( [E_id_eV, E_ex_eV, E_eV] )\n",
    "    \n",
    "EOS_list = np.array(EOS_list)"
   ]
  },
  {
   "cell_type": "markdown",
   "id": "ba721cf3-c0d5-4af8-838e-60aed2e5e4e2",
   "metadata": {
    "tags": []
   },
   "source": [
    "### Energy per Atom"
   ]
  },
  {
   "cell_type": "code",
   "execution_count": 7,
   "id": "66dcd499-c2e2-4e9b-b09f-ce5b61a05840",
   "metadata": {
    "tags": []
   },
   "outputs": [
    {
     "data": {
      "image/png": "[encoded data removed]",
      "text/plain": [
       "<Figure size 1000x800 with 1 Axes>"
      ]
     },
     "metadata": {},
     "output_type": "display_data"
    }
   ],
   "source": [
    "from hnc.hnc.misc import Fermi_Energy\n",
    "\n",
    "fig, axs = plt.subplots( figsize=(10,8))\n",
    "axs = np.array([axs])\n",
    "# fig.suptitle(r\"$T_i $ eV\", fontsize=25, y=0.9)\n",
    "\n",
    "#Plot Morales data\n",
    "axs[0].plot(Morales_TeV, Morales_EAU*AU_to_eV, '+', label='Morales (QMC)')\n",
    "\n",
    "# Plot Energy\n",
    "axs[0].plot(Te_eV_list, EOS_list[:,0],'--.', label=\"cmHNC - Ideal\")\n",
    "axs[0].plot(Te_eV_list, EOS_list[:,1],'--.', label=\"cmHNC - Excess\")\n",
    "axs[0].plot(Te_eV_list, EOS_list[:,2],'--.', label=\"cmHNC - Full\")\n",
    "\n",
    "# Plot Fermi Pressure\n",
    "E_ideal_eV_func = lambda Te_eV, Ti_eV: E_Ideal_Fermi_Gas(Te_eV*eV_to_AU, ni_AU)*AU_to_eV + 3/2*Ti_eV\n",
    "E_ideal_eV_func = np.vectorize(E_ideal_eV_func)\n",
    "\n",
    "Ee_ideal_eV = [E_Ideal_Fermi_Gas(Te_eV*eV_to_AU, ni_AU)*AU_to_eV for Te_eV in Te_eV_list]\n",
    "Ei_ideal_eV = 3/2*Ti_eV_list\n",
    "\n",
    "# axs[0].plot(Te_eV_list, Ee_ideal_eV,'k--', label=\"Ideal Fermi Gas\"  ) \n",
    "# axs[0].plot(Te_eV_list, 3/5*Fermi_Energy(ni_AU)*np.ones_like(Te_eV_list)*AU_to_eV,'k--.', label=\"Degnerate Fermi Gas\"  ) \n",
    "# axs[0].plot(Te_eV_list, Ei_ideal_eV,'k-.', label=\"Ideal Gas\"  ) \n",
    "axs[0].plot(Te_eV_list, Ee_ideal_eV + Ei_ideal_eV,'k-', label=\"Ideal Fermi Gas + Ideal Ions\"  ) \n",
    "\n",
    "for ax in axs:\n",
    "    ax.legend(fontsize=15, loc='lower right')\n",
    "    ax.set_xscale('log')\n",
    "    ax.set_yscale('symlog', linthresh=1)\n",
    "    # ax.set_yscale('log')\n",
    "    # ax.set_ylim(0, 20)\n",
    "    ax.set_ylabel(r\"$E$ [eV]\", fontsize=20)\n",
    "    ax.set_xlabel(r\"$T$ [eV]\", fontsize=20)\n",
    "    ax.tick_params(labelsize=15)\n",
    "plt.tight_layout()"
   ]
  },
  {
   "cell_type": "code",
   "execution_count": 8,
   "id": "baa3a03b-1ab4-4eab-b924-d92c0934e841",
   "metadata": {
    "tags": []
   },
   "outputs": [
    {
     "data": {
      "image/png": "[encoded data removed]",
      "text/plain": [
       "<Figure size 1000x800 with 1 Axes>"
      ]
     },
     "metadata": {},
     "output_type": "display_data"
    }
   ],
   "source": [
    "from hnc.hnc.misc import Fermi_Energy\n",
    "\n",
    "fig, axs = plt.subplots( figsize=(10,8))\n",
    "axs = np.array([axs])\n",
    "# fig.suptitle(r\"$T_i $ eV\", fontsize=25, y=0.9)\n",
    "\n",
    "#Plot Morales data\n",
    "axs[0].plot(Morales_TeV, Morales_EAU*AU_to_eV/E_ideal_eV_func(Morales_TeV,Morales_TeV), '+', label='Morales (QMC)')\n",
    "\n",
    "# Plot Energy\n",
    "axs[0].plot(Te_eV_list, EOS_list[:,2]/E_ideal_eV_func(Te_eV_list,Te_eV_list), label=name)\n",
    "\n",
    "for ax in axs:\n",
    "    ax.legend(fontsize=15, loc='lower right')\n",
    "    ax.set_xscale('log')\n",
    "    ax.set_yscale('symlog', linthresh=1)\n",
    "    # ax.set_yscale('log')\n",
    "    # ax.set_ylim(0, 20)\n",
    "    ax.set_ylabel(r\"$E$ [eV]\", fontsize=20)\n",
    "    ax.set_xlabel(r\"$T$ [eV]\", fontsize=20)\n",
    "    ax.tick_params(labelsize=15)\n",
    "plt.tight_layout()"
   ]
  },
  {
   "cell_type": "markdown",
   "id": "1764ee9b-8919-47ba-8353-db861a220529",
   "metadata": {
    "tags": []
   },
   "source": [
    "# Getting Energy Right at Low T"
   ]
  },
  {
   "cell_type": "code",
   "execution_count": 9,
   "id": "006df841-ccae-4408-b0e2-c61197ebaf5f",
   "metadata": {
    "tags": []
   },
   "outputs": [
    {
     "name": "stdout",
     "output_type": "stream",
     "text": [
      "Te_in_eV: 0.172\n",
      "Ti_in_eV: 0.172\n"
     ]
    },
    {
     "name": "stderr",
     "output_type": "stream",
     "text": [
      "/home/zach/plasma/hnc/hnc/PIE.py:186: RuntimeWarning: overflow encountered in exp\n",
      "  integrand = lambda t: t*np.sin(sin_arg*t)/(1+np.exp(t**2-η))\n",
      "/home/zach/plasma/hnc/hnc/PIE.py:193: RuntimeWarning: overflow encountered in exp\n",
      "  f_of_k = 1/(  1+np.exp((dense_hnc.k_array/self.qsp.ri)**2/(2*m_e*self.qsp.Te) - η) )\n"
     ]
    },
    {
     "name": "stdout",
     "output_type": "stream",
     "text": [
      "0: Initial condition Total Error: 6.018e+01\n"
     ]
    },
    {
     "name": "stderr",
     "output_type": "stream",
     "text": [
      "/home/zach/plasma/hnc/hnc/hnc.py:332: RuntimeWarning: overflow encountered in exp\n",
      "  h_r_matrix = -1 + np.exp(γs_r_matrix - self.βu_s_r_matrix) # 2. γ_r,u_s_r  -> h_r   (HNC)\n",
      "/home/zach/plasma/hnc/hnc/hnc.py:434: RuntimeWarning: overflow encountered in exp\n",
      "  tot_eqn =  1 + h_r_matrix  - np.exp(-self.βu_s_r_matrix + h_r_matrix - c_s_r_matrix )\n",
      "/home/zach/plasma/hnc/hnc/hnc.py:514: RuntimeWarning: overflow encountered in exp\n",
      "  h_r_matrix = -1 + np.exp(γs_r_matrix - self.βu_s_r_matrix) # 2. γ_r,u_s_r  -> h_r   (HNC)\n",
      "/home/zach/plasma/hnc/hnc/hnc.py:630: RuntimeWarning: overflow encountered in exp\n",
      "  hnc_err = np.linalg.norm(- 1 - self.h_r_matrix   + np.exp( -self.βu_r_matrix + self.h_r_matrix - self.c_r_matrix ))/np.sqrt(self.N_bins*self.N_species**2)\n",
      "/home/zach/plasma/hnc/hnc/hnc.py:638: RuntimeWarning: invalid value encountered in subtract\n",
      "  Δ_err = np.array(self.tot_err_list[-iters_to_check:-2]) - np.array(self.tot_err_list[-iters_to_check + 1:-1])\n"
     ]
    },
    {
     "name": "stdout",
     "output_type": "stream",
     "text": [
      "QUIT: Total error infinite.\n",
      "Exiting status 1, reverting to best index so far: 0\n",
      "Final iter:21, Total Error: 6.018e+01\n",
      "QUIT: Picard Err too high. Newton assumed not to converge. Try better initial condition or smaller α.\n"
     ]
    }
   ],
   "source": [
    "plasma_5 = lambda T_eV: PLASMA(Z, A, ni_cc, T_eV, T_eV, Zbar=Z, find_βuee=True,\n",
    "                 βu_options = {'add_bridge':True,'bridge':'yukawa', 'pseudopotential':False}, \n",
    "                 qsp_options= {'r_c':0,'which_Tij':'thermal'},\n",
    "                 hnc_options= {'kappa_multiscale':10, 'R_max':100,'N_bins':20000, \n",
    "                               'h_max':2e2,'oz_method':'standard'},\n",
    "                 hnc_solve_options={'alpha_Picard':0.5, 'num_iterations':1e4})\n",
    "\n",
    "plasma_new = plasma_5(2000 / eV_to_K)\n",
    "plasma_new.run_hnc()\n"
   ]
  },
  {
   "cell_type": "code",
   "execution_count": null,
   "id": "3e76519c-40cb-4920-8b98-27e8fbee9d9a",
   "metadata": {
    "tags": []
   },
   "outputs": [],
   "source": [
    "plasma_new.hnc.total_energy_density()"
   ]
  },
  {
   "cell_type": "code",
   "execution_count": null,
   "id": "0eb4751e-27c8-43cd-9b30-f3098593ef16",
   "metadata": {
    "tags": []
   },
   "outputs": [],
   "source": [
    "E_hnc_to_eV( plasma_new.hnc.total_energy_density()) "
   ]
  },
  {
   "cell_type": "code",
   "execution_count": null,
   "id": "0cd75f26-3f13-4523-b50c-5829ac3a2f17",
   "metadata": {
    "tags": []
   },
   "outputs": [],
   "source": [
    "plasma_new.hnc.excess_energy_density_matrix(), np.sum(plasma_new.hnc.excess_energy_density_matrix()), plasma_new.hnc.ideal_energy_density()"
   ]
  },
  {
   "cell_type": "code",
   "execution_count": null,
   "id": "1faf4992-9444-4eb2-a7a5-26eb4eb3988c",
   "metadata": {
    "tags": []
   },
   "outputs": [],
   "source": [
    "def plot_g_all_species(plasma, data_to_compare=None, data_names=None, gmax=None):\n",
    "    fig, ax = plt.subplots(ncols=1, nrows=1, figsize=(10,8))\n",
    "    fig.suptitle(\"Radial Distribution Function for all Species\", fontsize=20, y=1)\n",
    "\n",
    "    for i in range(plasma.N_species):\n",
    "        for j in range(plasma.N_species):\n",
    "            ax.plot(plasma.r_array, plasma.h_r_matrix[i,j]+1,'--.', label=plasma.name_matrix[i][j] + r\", $\\Gamma_{{ {0},{1} }}$ = {2:.2f}\".format(i,j,plasma.Gamma[i][j]) )\n",
    "\n",
    "    if data_to_compare:\n",
    "        for file_name, label in zip(data_to_compare, data_names):\n",
    "            r_datas, g_datas = np.array(read_csv(file_name, delimiter=',', header=1)).T\n",
    "            ax.plot(r_datas, g_datas, '-', label=label)\n",
    "            ax.legend(fontsize=15)\n",
    "\n",
    "    if gmax:\n",
    "        ax.set_ylim(0, gmax)\n",
    "\n",
    "    ax.tick_params(labelsize=20)\n",
    "    ax.set_xlabel(r\"$r/r_s$\", fontsize=20)\n",
    "    ax.set_xlim(plasma.del_r, 10)\n",
    "    ax.set_ylabel(r\"$g(r/r_s)$\", fontsize=20)\n",
    "    ax.set_ylim(0, 5)\n",
    "    ax.tick_params(labelsize=15)\n",
    "    ax.legend(fontsize=20, loc = 'upper left')\n",
    "\n",
    "    ax.set_xscale('log')\n",
    "    \n",
    "    # plt.tight_layout()\n",
    "    plt.show()"
   ]
  },
  {
   "cell_type": "code",
   "execution_count": null,
   "id": "14a4fb6b-cbb0-4926-a902-1856afdc7cfd",
   "metadata": {
    "tags": []
   },
   "outputs": [],
   "source": [
    "plot_g_all_species(plasma_new.hnc)"
   ]
  },
  {
   "cell_type": "code",
   "execution_count": null,
   "id": "5f5b20bb-963e-4213-9b43-06bd2c0cda18",
   "metadata": {
    "tags": []
   },
   "outputs": [],
   "source": [
    "def plot_gr2_all_species(plasma, data_to_compare=None, data_names=None, gmax=None):\n",
    "    fig, ax = plt.subplots(ncols=1, nrows=1, figsize=(10,8))\n",
    "    fig.suptitle(\"Radial Distribution Function for all Species\", fontsize=20, y=1)\n",
    "\n",
    "    for i in range(plasma.N_species):\n",
    "        for j in range(plasma.N_species):\n",
    "            ax.plot(plasma.r_array, (plasma.h_r_matrix[i,j]+1)*plasma.r_array**2,'--.', label=plasma.name_matrix[i][j] + r\", $\\Gamma_{{ {0},{1} }}$ = {2:.2f}\".format(i,j,plasma.Gamma[i][j]) )\n",
    "\n",
    "    if data_to_compare:\n",
    "        for file_name, label in zip(data_to_compare, data_names):\n",
    "            r_datas, g_datas = np.array(read_csv(file_name, delimiter=',', header=1)).T\n",
    "            ax.plot(r_datas, g_datas, '-', label=label)\n",
    "            ax.legend(fontsize=15)\n",
    "\n",
    "    if gmax:\n",
    "        ax.set_ylim(0, gmax)\n",
    "\n",
    "    ax.tick_params(labelsize=20)\n",
    "    ax.set_xlabel(r\"$r/r_s$\", fontsize=20)\n",
    "    # ax.set_xlim(plasma.del_r, 10)\n",
    "    ax.set_ylabel(r\"$g(r/r_s)$\", fontsize=20)\n",
    "    # ax.set_ylim(0, 5)\n",
    "    ax.tick_params(labelsize=15)\n",
    "    ax.legend(fontsize=20, loc = 'upper left')\n",
    "\n",
    "    ax.set_xscale('log')\n",
    "    ax.set_yscale('log')\n",
    "    \n",
    "    # plt.tight_layout()\n",
    "    plt.show()\n",
    "plot_gr2_all_species(plasma_new.hnc)"
   ]
  },
  {
   "cell_type": "code",
   "execution_count": null,
   "id": "e5f676ad-35ad-4e7a-a519-d2fe1ecf1221",
   "metadata": {
    "tags": []
   },
   "outputs": [],
   "source": [
    "from scipy.integrate import simpson\n",
    "def excess_energy_density_matrix(hnc):\n",
    "\n",
    "    g_matrix = hnc.h_r_matrix+1\n",
    "    rho_matrix = hnc.rho[:,np.newaxis]*hnc.rho[np.newaxis,:]\n",
    "    r = hnc.r_array[np.newaxis,np.newaxis,:]\n",
    "    dr = hnc.del_r\n",
    "    \n",
    "    u_matrix = hnc.βu_r_matrix*hnc.Temp_matrix[:,:,np.newaxis]\n",
    "    u_matrix = np.array([[1/hnc.r_array,-1/hnc.r_array],[-1/hnc.r_array,1/hnc.r_array]])\n",
    "    print(u_matrix.shape)\n",
    "    \n",
    "    # u_ex_matrix = np.sum(2*π*rho_matrix[:,:,np.newaxis]*u_matrix*g_matrix*r**2*dr,axis=2)\n",
    "    u_ex_matrix = simpson(2*π*rho_matrix[:,:,np.newaxis]*u_matrix*(g_matrix)*r**2, r , axis=2)\n",
    "\n",
    "    return u_ex_matrix\n",
    "E_ex_matrix = excess_energy_density_matrix(plasma_new.hnc) \n",
    "E_ex_matrix, np.sum(E_ex_matrix), E_hnc_to_eV(np.sum(E_ex_matrix))"
   ]
  },
  {
   "cell_type": "code",
   "execution_count": null,
   "id": "28d8d46a-9f11-4bef-a884-2fb0d5eb3762",
   "metadata": {},
   "outputs": [],
   "source": []
  }
 ],
 "metadata": {
  "kernelspec": {
   "display_name": "Python 3 (ipykernel)",
   "language": "python",
   "name": "python3"
  },
  "language_info": {
   "codemirror_mode": {
    "name": "ipython",
    "version": 3
   },
   "file_extension": ".py",
   "mimetype": "text/x-python",
   "name": "python",
   "nbconvert_exporter": "python",
   "pygments_lexer": "ipython3",
   "version": "3.10.6"
  }
 },
 "nbformat": 4,
 "nbformat_minor": 5
}
