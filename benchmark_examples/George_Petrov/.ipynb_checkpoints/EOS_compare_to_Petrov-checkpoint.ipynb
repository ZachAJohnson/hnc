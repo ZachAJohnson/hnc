{
 "cells": [
  {
   "cell_type": "markdown",
   "id": "d64f089f",
   "metadata": {
    "tags": []
   },
   "source": [
    "# Integral Equation Model Comparisons\n",
    "Purpose of this notebook is to EOS calculations for comparisons to George Petrov's Average Atom model, and Morales EOS Hydrogen paper\n",
    "\n",
    "[https://journals.aps.org/pre/abstract/10.1103/PhysRevE.81.021202](https://journals.aps.org/pre/abstract/10.1103/PhysRevE.81.021202)"
   ]
  },
  {
   "cell_type": "code",
   "execution_count": 1,
   "id": "2e5c11ba",
   "metadata": {
    "scrolled": true
   },
   "outputs": [
    {
     "name": "stdout",
     "output_type": "stream",
     "text": [
      "ModuleNotFoundError: No module named 'mendeleev'\n"
     ]
    },
    {
     "data": {
      "text/html": [
       "\n",
       "<style>\n",
       ".output_png {\n",
       "    display: table-cell;\n",
       "    text-align: center;\n",
       "    vertical-align: middle;\n",
       "}\n",
       "\n",
       "</style>\n"
      ],
      "text/plain": [
       "<IPython.core.display.HTML object>"
      ]
     },
     "execution_count": 1,
     "metadata": {},
     "output_type": "execute_result"
    }
   ],
   "source": [
    "import numpy as np\n",
    "import matplotlib.pyplot as plt\n",
    "from pandas import read_csv\n",
    "\n",
    "from hnc.hnc.PIE import Plasma_of_Ions_and_Electrons as PLASMA\n",
    "\n",
    "from hnc.hnc.constants import *\n",
    "from hnc.hnc.misc import n_from_rs, rs_from_n\n",
    "\n",
    "prop_cycle = plt.rcParams['axes.prop_cycle']\n",
    "colors = prop_cycle.by_key()['color']\n",
    "                \n",
    "from IPython.core.display import HTML\n",
    "HTML(\"\"\"\n",
    "<style>\n",
    ".output_png {\n",
    "    display: table-cell;\n",
    "    text-align: center;\n",
    "    vertical-align: middle;\n",
    "}\n",
    "\n",
    "</style>\n",
    "\"\"\")\n"
   ]
  },
  {
   "cell_type": "markdown",
   "id": "8fcfcf82-afd9-41ed-94aa-a960e951a43a",
   "metadata": {},
   "source": [
    "#### Load George Data"
   ]
  },
  {
   "cell_type": "code",
   "execution_count": 26,
   "id": "6aedd62a-dbf0-40fa-9c81-ebd62d6bed0e",
   "metadata": {},
   "outputs": [],
   "source": [
    "GP_H_file = \"H-rho=1.dat\"\n",
    "GP_df = read_csv(GP_H_file, delim_whitespace=True, header=0)\n",
    "GP_PMbar_1 = GP_df['P_ishikawa'][3:]\n",
    "GP_PMbar_2 = GP_df['P_fauss'][3:]\n",
    "GP_Te_eV = GP_df['Te'][3:]"
   ]
  },
  {
   "cell_type": "markdown",
   "id": "c3f94c86-6bf0-413a-bee0-92c63fe4fdf8",
   "metadata": {},
   "source": [
    "#### Load Morales Data"
   ]
  },
  {
   "cell_type": "code",
   "execution_count": 27,
   "id": "5f1686b1-4256-4e0c-b61a-0be35a5f70e2",
   "metadata": {},
   "outputs": [],
   "source": [
    "Morales_file = \"Morales_EOS_data.dat\"\n",
    "Morales_df = read_csv(Morales_file, delim_whitespace=True, header=4)\n",
    "Morales_EAU  = Morales_df['E[AU]']\n",
    "Morales_PGPa = Morales_df['P[GPa]']\n",
    "Morales_TK   = Morales_df['T[K]']\n",
    "Morales_PMbar =  1e-2*Morales_PGPa\n",
    "Morales_TeV = Morales_TK/eV_to_K"
   ]
  },
  {
   "cell_type": "markdown",
   "id": "bbea7b15",
   "metadata": {},
   "source": [
    "### Set Parameters in Paper and Plot"
   ]
  },
  {
   "cell_type": "code",
   "execution_count": 3,
   "id": "4d0a7939",
   "metadata": {
    "tags": []
   },
   "outputs": [],
   "source": [
    "name = 'Hydrogen'\n",
    "Z, A = 1,1 \n",
    "\n",
    "Te_eV_list = GP_Te_eV # eV\n",
    "Ti_eV_list = Te_eV_list\n",
    "ni_cc = 5.98e23\n",
    "\n",
    "ri_cm = rs_from_n(ni_cc)  # cm\n",
    "ri_AU = ri_cm*cm_to_AU    # AU "
   ]
  },
  {
   "cell_type": "code",
   "execution_count": 4,
   "id": "73694c05-2c2b-44e9-a4a3-3554916bb04d",
   "metadata": {},
   "outputs": [
    {
     "data": {
      "text/plain": [
       "1.3914542638521432"
      ]
     },
     "execution_count": 4,
     "metadata": {},
     "output_type": "execute_result"
    }
   ],
   "source": [
    "ri_AU\n"
   ]
  },
  {
   "cell_type": "markdown",
   "id": "840df6a9",
   "metadata": {},
   "source": [
    "#### Run Ornstein-Zernike Closure"
   ]
  },
  {
   "cell_type": "code",
   "execution_count": 5,
   "id": "38816387-97b8-463e-a7a4-d242cb364673",
   "metadata": {},
   "outputs": [],
   "source": [
    "def plasma_output(plasma):\n",
    "    plasma.run_hnc()\n",
    "    Pe_hnc_id, Pe_hnc_ex   = plasma.hnc.rho[1]*plasma.hnc.Temp_list[1],  np.sum( plasma.hnc.excess_pressure_matrix(),axis=1 )[1] \n",
    "    Pe_Mbar_id, Pe_Mbar_ex = P_hnc_to_Mbar(Pe_hnc_id), P_hnc_to_Mbar(Pe_hnc_ex)\n",
    "    Pe_Mbar = Pe_Mbar_id + Pe_Mbar_ex\n",
    "    return Pe_Mbar_id, Pe_Mbar_ex, Pe_Mbar\n",
    "\n",
    "name1 = 'OZ - g'\n",
    "plasma1 = lambda T_eV: PLASMA(Z, A, ni_cc, T_eV, T_eV, Zbar=Z,\n",
    "                 βu_options = {'add_bridge':False,'bridge':'ocp', 'pseudopotential':False}, \n",
    "                 qsp_options= {'r_c':0,'which_Tij':'geometric'},\n",
    "                 hnc_options= {'kappa_multiscale':10, 'R_max':20,'N_bins':1000, \n",
    "                               'h_max':2e2,'oz_method':'standard'},\n",
    "                 hnc_solve_options={'alpha_Picard':0.5, 'num_iterations':1e4})\n",
    "name2 = 'OZ - th'\n",
    "plasma2 = lambda T_eV: PLASMA(Z, A, ni_cc, T_eV, T_eV, Zbar=Z,\n",
    "                 βu_options = {'add_bridge':False,'bridge':'ocp', 'pseudopotential':False}, \n",
    "                 qsp_options= {'r_c':0,'which_Tij':'thermal'},\n",
    "                 hnc_options= {'kappa_multiscale':10, 'R_max':20,'N_bins':1000, \n",
    "                               'h_max':2e2,'oz_method':'standard'},\n",
    "                 hnc_solve_options={'alpha_Picard':0.5, 'num_iterations':1e4})\n",
    "name3 = 'OZ - g  Pauli'\n",
    "plasma3 = lambda T_eV: PLASMA(Z, A, ni_cc, T_eV, T_eV, Zbar=Z, find_βuee=True,\n",
    "                 βu_options = {'add_bridge':False,'bridge':'ocp', 'pseudopotential':False}, \n",
    "                 qsp_options= {'r_c':0,'which_Tij':'geometric'},\n",
    "                 hnc_options= {'kappa_multiscale':10, 'R_max':20,'N_bins':1000, \n",
    "                               'h_max':2e2,'oz_method':'standard'},\n",
    "                 hnc_solve_options={'alpha_Picard':0.5, 'num_iterations':1e4})\n",
    "name4 = 'SVT - th'\n",
    "plasma4 =  lambda T_eV: PLASMA(Z, A, ni_cc, T_eV, T_eV, Zbar=Z,\n",
    "                 βu_options = {'add_bridge':False,'bridge':'ocp', 'pseudopotential':False}, \n",
    "                 qsp_options= {'r_c':0},\n",
    "                 hnc_options= {'kappa_multiscale':10, 'R_max':20,'N_bins':1000, \n",
    "                               'h_max':2e2,'oz_method':'svt'},\n",
    "                 hnc_solve_options={'alpha_Picard':0.5,'num_iterations':1e4})\n",
    "\n",
    "P_hnc_to_bar = lambda P_hnc: (P_hnc/ri_AU**3) *  AU_to_bar \n",
    "P_hnc_to_Mbar = lambda P_hnc: 1e-6*P_hnc_to_bar(P_hnc)\n",
    "P_hnc_to_GPa = lambda P_hnc:  P_hnc_to_bar(P_hnc) * 1e5 / 1e9 "
   ]
  },
  {
   "cell_type": "markdown",
   "id": "1bfb565f-fd4f-4026-b214-d38de1408c82",
   "metadata": {},
   "source": [
    "####  Investigate Pressure "
   ]
  },
  {
   "cell_type": "code",
   "execution_count": 10,
   "id": "056611da-a6ca-4dae-b3a4-8e8e51da9e43",
   "metadata": {},
   "outputs": [],
   "source": [
    "# print(\"P = {0:.3e} [Mbar]\".format(P_hnc_to_Mbar(Pid)))\n",
    "# print(\"P = {0:.3e} [GPa]\".format(P_hnc_to_GPa(Pid)))"
   ]
  },
  {
   "cell_type": "markdown",
   "id": "fbfb5e3b-4c78-4a28-aaf1-4370c4095713",
   "metadata": {},
   "source": [
    "### Compute all plasma models for list of densities"
   ]
  },
  {
   "cell_type": "code",
   "execution_count": 7,
   "id": "25dd3863",
   "metadata": {
    "scrolled": true
   },
   "outputs": [
    {
     "name": "stdout",
     "output_type": "stream",
     "text": [
      "Te_in_eV: 1.000\n",
      "Ti_in_eV: 1.000\n",
      "0: Initial condition Total Error: 3.080e+00\n",
      "Exiting status 0, reverting to best index so far: 186\n",
      "Final iter:187, Total Error: 9.452e-09\n",
      "Te_in_eV: 1.000\n",
      "Ti_in_eV: 1.000\n",
      "0: Initial condition Total Error: 3.066e+00\n",
      "Exiting status 0, reverting to best index so far: 189\n",
      "Final iter:190, Total Error: 9.987e-09\n",
      "Te_in_eV: 1.000\n",
      "Ti_in_eV: 1.000\n"
     ]
    },
    {
     "name": "stderr",
     "output_type": "stream",
     "text": [
      "/home/zach/plasma/hnc/hnc/PIE.py:144: RuntimeWarning: overflow encountered in exp\n",
      "  κ = 3*(2*T*m_e) / (self.qsp.k_F**3 * r)  * np.sum(dt* t*np.sin(sin_arg*t) /(1+np.exp(t**2-η) )  )\n"
     ]
    },
    {
     "name": "stdout",
     "output_type": "stream",
     "text": [
      "0: Initial condition Total Error: 3.080e+00\n",
      "Exiting status 0, reverting to best index so far: 190\n",
      "Final iter:191, Total Error: 9.210e-09\n",
      "Te_in_eV: 1.000\n",
      "Ti_in_eV: 1.000\n",
      "0: Initial condition Total Error: 3.063e+00\n",
      "Exiting status 0, reverting to best index so far: 153\n",
      "Final iter:154, Total Error: 9.115e-09\n",
      "Te_in_eV: 2.000\n",
      "Ti_in_eV: 2.000\n",
      "0: Initial condition Total Error: 1.810e+00\n",
      "Exiting status 0, reverting to best index so far: 110\n",
      "Final iter:111, Total Error: 9.715e-09\n",
      "Te_in_eV: 2.000\n",
      "Ti_in_eV: 2.000\n",
      "0: Initial condition Total Error: 1.797e+00\n",
      "Exiting status 0, reverting to best index so far: 114\n",
      "Final iter:115, Total Error: 9.350e-09\n",
      "Te_in_eV: 2.000\n",
      "Ti_in_eV: 2.000\n",
      "0: Initial condition Total Error: 1.810e+00\n",
      "Exiting status 0, reverting to best index so far: 105\n",
      "Final iter:106, Total Error: 8.480e-09\n",
      "Te_in_eV: 2.000\n",
      "Ti_in_eV: 2.000\n",
      "0: Initial condition Total Error: 1.794e+00\n",
      "Exiting status 0, reverting to best index so far: 93\n",
      "Final iter:94, Total Error: 9.707e-09\n",
      "Te_in_eV: 5.000\n",
      "Ti_in_eV: 5.000\n",
      "0: Initial condition Total Error: 8.667e-01\n",
      "Exiting status 0, reverting to best index so far: 58\n",
      "Final iter:59, Total Error: 9.215e-09\n",
      "Te_in_eV: 5.000\n",
      "Ti_in_eV: 5.000\n",
      "0: Initial condition Total Error: 8.537e-01\n",
      "Exiting status 0, reverting to best index so far: 61\n",
      "Final iter:62, Total Error: 9.766e-09\n",
      "Te_in_eV: 5.000\n",
      "Ti_in_eV: 5.000\n",
      "0: Initial condition Total Error: 8.709e-01\n",
      "Exiting status 0, reverting to best index so far: 60\n",
      "Final iter:61, Total Error: 9.446e-09\n",
      "Te_in_eV: 5.000\n",
      "Ti_in_eV: 5.000\n",
      "0: Initial condition Total Error: 8.509e-01\n",
      "Exiting status 0, reverting to best index so far: 53\n",
      "Final iter:54, Total Error: 8.162e-09\n",
      "Te_in_eV: 10.000\n",
      "Ti_in_eV: 10.000\n",
      "0: Initial condition Total Error: 4.940e-01\n",
      "Exiting status 0, reverting to best index so far: 39\n",
      "Final iter:40, Total Error: 7.158e-09\n",
      "Te_in_eV: 10.000\n",
      "Ti_in_eV: 10.000\n",
      "0: Initial condition Total Error: 4.825e-01\n",
      "Exiting status 0, reverting to best index so far: 41\n",
      "Final iter:42, Total Error: 6.785e-09\n",
      "Te_in_eV: 10.000\n",
      "Ti_in_eV: 10.000\n",
      "0: Initial condition Total Error: 4.889e-01\n",
      "Exiting status 0, reverting to best index so far: 41\n",
      "Final iter:42, Total Error: 7.482e-09\n",
      "Te_in_eV: 10.000\n",
      "Ti_in_eV: 10.000\n",
      "0: Initial condition Total Error: 4.820e-01\n",
      "Exiting status 0, reverting to best index so far: 37\n",
      "Final iter:38, Total Error: 9.282e-09\n",
      "Te_in_eV: 20.000\n",
      "Ti_in_eV: 20.000\n",
      "0: Initial condition Total Error: 2.854e-01\n",
      "Exiting status 0, reverting to best index so far: 29\n",
      "Final iter:30, Total Error: 7.089e-09\n",
      "Te_in_eV: 20.000\n",
      "Ti_in_eV: 20.000\n",
      "0: Initial condition Total Error: 2.793e-01\n",
      "Exiting status 0, reverting to best index so far: 29\n",
      "Final iter:30, Total Error: 9.154e-09\n",
      "Te_in_eV: 20.000\n",
      "Ti_in_eV: 20.000\n",
      "0: Initial condition Total Error: 2.808e-01\n",
      "Exiting status 0, reverting to best index so far: 29\n",
      "Final iter:30, Total Error: 9.262e-09\n",
      "Te_in_eV: 20.000\n",
      "Ti_in_eV: 20.000\n",
      "0: Initial condition Total Error: 2.798e-01\n",
      "Exiting status 0, reverting to best index so far: 29\n",
      "Final iter:30, Total Error: 6.022e-09\n",
      "Te_in_eV: 50.000\n",
      "Ti_in_eV: 50.000\n",
      "0: Initial condition Total Error: 1.331e-01\n",
      "Exiting status 0, reverting to best index so far: 24\n",
      "Final iter:25, Total Error: 6.467e-09\n",
      "Te_in_eV: 50.000\n",
      "Ti_in_eV: 50.000\n",
      "0: Initial condition Total Error: 1.321e-01\n",
      "Exiting status 0, reverting to best index so far: 24\n",
      "Final iter:25, Total Error: 6.644e-09\n",
      "Te_in_eV: 50.000\n",
      "Ti_in_eV: 50.000\n",
      "0: Initial condition Total Error: 1.307e-01\n",
      "Exiting status 0, reverting to best index so far: 25\n",
      "Final iter:26, Total Error: 5.490e-09\n",
      "Te_in_eV: 50.000\n",
      "Ti_in_eV: 50.000\n",
      "0: Initial condition Total Error: 1.322e-01\n",
      "Exiting status 0, reverting to best index so far: 24\n",
      "Final iter:25, Total Error: 6.424e-09\n",
      "Te_in_eV: 100.000\n",
      "Ti_in_eV: 100.000\n",
      "0: Initial condition Total Error: 7.143e-02\n",
      "Exiting status 0, reverting to best index so far: 23\n",
      "Final iter:24, Total Error: 7.202e-09\n",
      "Te_in_eV: 100.000\n",
      "Ti_in_eV: 100.000\n",
      "0: Initial condition Total Error: 7.126e-02\n",
      "Exiting status 0, reverting to best index so far: 23\n",
      "Final iter:24, Total Error: 7.202e-09\n",
      "Te_in_eV: 100.000\n",
      "Ti_in_eV: 100.000\n",
      "0: Initial condition Total Error: 7.100e-02\n",
      "Exiting status 0, reverting to best index so far: 23\n",
      "Final iter:24, Total Error: 8.380e-09\n",
      "Te_in_eV: 100.000\n",
      "Ti_in_eV: 100.000\n",
      "0: Initial condition Total Error: 7.127e-02\n",
      "Exiting status 0, reverting to best index so far: 23\n",
      "Final iter:24, Total Error: 7.194e-09\n",
      "Te_in_eV: 200.000\n",
      "Ti_in_eV: 200.000\n",
      "0: Initial condition Total Error: 4.022e-02\n",
      "Exiting status 0, reverting to best index so far: 22\n",
      "Final iter:23, Total Error: 9.011e-09\n",
      "Te_in_eV: 200.000\n",
      "Ti_in_eV: 200.000\n",
      "0: Initial condition Total Error: 4.020e-02\n",
      "Exiting status 0, reverting to best index so far: 22\n",
      "Final iter:23, Total Error: 9.007e-09\n",
      "Te_in_eV: 200.000\n",
      "Ti_in_eV: 200.000\n",
      "0: Initial condition Total Error: 4.034e-02\n",
      "Exiting status 0, reverting to best index so far: 22\n",
      "Final iter:23, Total Error: 9.175e-09\n",
      "Te_in_eV: 200.000\n",
      "Ti_in_eV: 200.000\n",
      "0: Initial condition Total Error: 4.020e-02\n",
      "Exiting status 0, reverting to best index so far: 22\n",
      "Final iter:23, Total Error: 9.007e-09\n",
      "Te_in_eV: 500.000\n",
      "Ti_in_eV: 500.000\n",
      "0: Initial condition Total Error: 2.301e-02\n",
      "Exiting status 0, reverting to best index so far: 22\n",
      "Final iter:23, Total Error: 5.477e-09\n",
      "Te_in_eV: 500.000\n",
      "Ti_in_eV: 500.000\n",
      "0: Initial condition Total Error: 2.301e-02\n",
      "Exiting status 0, reverting to best index so far: 22\n",
      "Final iter:23, Total Error: 5.477e-09\n",
      "Te_in_eV: 500.000\n",
      "Ti_in_eV: 500.000\n",
      "0: Initial condition Total Error: 2.300e-02\n",
      "Exiting status 0, reverting to best index so far: 22\n",
      "Final iter:23, Total Error: 5.456e-09\n",
      "Te_in_eV: 500.000\n",
      "Ti_in_eV: 500.000\n",
      "0: Initial condition Total Error: 2.301e-02\n",
      "Exiting status 0, reverting to best index so far: 22\n",
      "Final iter:23, Total Error: 5.477e-09\n",
      "Te_in_eV: 1000.000\n",
      "Ti_in_eV: 1000.000\n",
      "0: Initial condition Total Error: 1.623e-02\n",
      "Exiting status 0, reverting to best index so far: 21\n",
      "Final iter:22, Total Error: 7.765e-09\n",
      "Te_in_eV: 1000.000\n",
      "Ti_in_eV: 1000.000\n",
      "0: Initial condition Total Error: 1.623e-02\n",
      "Exiting status 0, reverting to best index so far: 21\n",
      "Final iter:22, Total Error: 7.765e-09\n",
      "Te_in_eV: 1000.000\n",
      "Ti_in_eV: 1000.000\n",
      "0: Initial condition Total Error: 1.629e-02\n",
      "Exiting status 0, reverting to best index so far: 21\n",
      "Final iter:22, Total Error: 7.796e-09\n",
      "Te_in_eV: 1000.000\n",
      "Ti_in_eV: 1000.000\n",
      "0: Initial condition Total Error: 1.623e-02\n",
      "Exiting status 0, reverting to best index so far: 21\n",
      "Final iter:22, Total Error: 7.765e-09\n",
      "Te_in_eV: 2000.000\n",
      "Ti_in_eV: 2000.000\n",
      "0: Initial condition Total Error: 1.158e-02\n",
      "Exiting status 0, reverting to best index so far: 21\n",
      "Final iter:22, Total Error: 5.533e-09\n",
      "Te_in_eV: 2000.000\n",
      "Ti_in_eV: 2000.000\n",
      "0: Initial condition Total Error: 1.158e-02\n",
      "Exiting status 0, reverting to best index so far: 21\n",
      "Final iter:22, Total Error: 5.533e-09\n",
      "Te_in_eV: 2000.000\n",
      "Ti_in_eV: 2000.000\n",
      "0: Initial condition Total Error: 1.193e-02\n",
      "Exiting status 0, reverting to best index so far: 21\n",
      "Final iter:22, Total Error: 5.710e-09\n",
      "Te_in_eV: 2000.000\n",
      "Ti_in_eV: 2000.000\n",
      "0: Initial condition Total Error: 1.158e-02\n",
      "Exiting status 0, reverting to best index so far: 21\n",
      "Final iter:22, Total Error: 5.533e-09\n"
     ]
    }
   ],
   "source": [
    "P_list_1 = []\n",
    "P_list_2 = []\n",
    "P_list_3 = []\n",
    "P_list_4 = []\n",
    "\n",
    "for T_eV in Te_eV_list:\n",
    "    #1\n",
    "    plasma = plasma1(T_eV)\n",
    "    Pe_id, Pe_ex, Pe = plasma_output(plasma)\n",
    "    P_list_1.append( [Pe_id, Pe_ex, Pe] )\n",
    "    #2\n",
    "    plasma = plasma2(T_eV)\n",
    "    Pe_id, Pe_ex, Pe = plasma_output(plasma)\n",
    "    P_list_2.append( [Pe_id, Pe_ex, Pe] )\n",
    "    #3\n",
    "    plasma = plasma3(T_eV)\n",
    "    Pe_id, Pe_ex, Pe = plasma_output(plasma)\n",
    "    P_list_3.append( [Pe_id, Pe_ex, Pe] )\n",
    "    #4\n",
    "    plasma = plasma4(T_eV)\n",
    "    Pe_id, Pe_ex, Pe = plasma_output(plasma)\n",
    "    P_list_4.append( [Pe_id, Pe_ex, Pe] )\n",
    "    "
   ]
  },
  {
   "cell_type": "markdown",
   "id": "bfda576a-f2db-434c-92b6-dbcc7c4bb9e5",
   "metadata": {},
   "source": [
    "Now Plot "
   ]
  },
  {
   "cell_type": "code",
   "execution_count": 8,
   "id": "47071246-860e-4f63-8ae3-7438a4e072dd",
   "metadata": {},
   "outputs": [],
   "source": [
    "P_list_1 = np.array(P_list_1)\n",
    "P_list_2 = np.array(P_list_2)\n",
    "P_list_3 = np.array(P_list_3)\n",
    "P_list_4 = np.array(P_list_4)"
   ]
  },
  {
   "cell_type": "code",
   "execution_count": 25,
   "id": "ae7a87c9-7125-46b1-8c49-2b47bab2eca4",
   "metadata": {},
   "outputs": [
    {
     "data": {
      "text/plain": [
       "0    0.172347\n",
       "1    0.172347\n",
       "2    0.172347\n",
       "3    0.172347\n",
       "4    0.172347\n",
       "5    0.172347\n",
       "Name: T[K], dtype: float64"
      ]
     },
     "execution_count": 25,
     "metadata": {},
     "output_type": "execute_result"
    }
   ],
   "source": [
    "Morales_TeV"
   ]
  },
  {
   "cell_type": "code",
   "execution_count": 30,
   "id": "d6b31b8c-d5f9-45ee-849a-34638cbfb7d1",
   "metadata": {},
   "outputs": [
    {
     "data": {
      "image/png": "[encoded data removed]",
      "text/plain": [
       "<Figure size 1000x800 with 1 Axes>"
      ]
     },
     "metadata": {},
     "output_type": "display_data"
    }
   ],
   "source": [
    "fig, axs = plt.subplots( figsize=(10,8))\n",
    "axs = np.array([axs])\n",
    "# fig.suptitle(r\"$T_i $ eV\", fontsize=25, y=0.9)\n",
    "\n",
    "#Plot GP data \n",
    "axs[0].plot(GP_Te_eV, GP_PMbar_1, 'k-', label='GP Ishikawa')\n",
    "axs[0].plot(GP_Te_eV, GP_PMbar_2, 'k--', label='GP Fauss')\n",
    "\n",
    "#Plot Morales data\n",
    "axs[0].plot(Morales_TeV, Morales_PMbar, 'k-', label='Morales')\n",
    "\n",
    "# Plot Pressure ratio\n",
    "# axs[0].plot(GP_Te_eV, P_list_1[:,2], label=name1)\n",
    "axs[0].plot(Te_eV_list, P_list_2[:,2], label=name2)\n",
    "# axs[0].plot(Te_eV_list, P_list_3[:,2], label=name3)\n",
    "axs[0].plot(Te_eV_list, P_list_4[:,2],'--.', label=name4)\n",
    "\n",
    "# Plot Fermi Pressure\n",
    "P_Fermi_Mbar = 2/5 * plasma.qsp.E_F/(4/3*π*(plasma.qsp.ri)**3) * AU_to_bar/1e6\n",
    "axs[0].plot(GP_Te_eV, GP_Te_eV*0 +P_Fermi_Mbar,'r--', label=r\"$P_{Fermi}$ [Mbar]\"  )\n",
    "\n",
    "for ax in axs:\n",
    "    ax.legend(fontsize=15, loc='upper left')\n",
    "    ax.set_xscale('log')\n",
    "    ax.set_yscale('symlog', linthresh=1)\n",
    "    ax.set_ylim(-1e5, 1e5)\n",
    "    ax.set_ylabel(r\"$P_e$ [Mbar]\", fontsize=20)\n",
    "    ax.set_xlabel(r\"$T$ [eV]\", fontsize=20)\n",
    "    ax.tick_params(labelsize=15)\n",
    "plt.tight_layout()"
   ]
  },
  {
   "cell_type": "code",
   "execution_count": null,
   "id": "a504e7d3-6cba-414f-b118-8091c6320b48",
   "metadata": {},
   "outputs": [],
   "source": []
  },
  {
   "cell_type": "code",
   "execution_count": null,
   "id": "8c916475-9a7f-48bd-818b-0c6f22de08a1",
   "metadata": {},
   "outputs": [],
   "source": []
  }
 ],
 "metadata": {
  "kernelspec": {
   "display_name": "Python 3 (ipykernel)",
   "language": "python",
   "name": "python3"
  },
  "language_info": {
   "codemirror_mode": {
    "name": "ipython",
    "version": 3
   },
   "file_extension": ".py",
   "mimetype": "text/x-python",
   "name": "python",
   "nbconvert_exporter": "python",
   "pygments_lexer": "ipython3",
   "version": "3.10.6"
  }
 },
 "nbformat": 4,
 "nbformat_minor": 5
}
