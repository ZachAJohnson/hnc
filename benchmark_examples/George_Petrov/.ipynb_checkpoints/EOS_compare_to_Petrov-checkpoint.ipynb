{
 "cells": [
  {
   "cell_type": "markdown",
   "id": "d64f089f",
   "metadata": {
    "tags": []
   },
   "source": [
    "# Integral Equation Model Comparisons\n",
    "Purpose of this notebook is to EOS calculations for comparisons to Triola paper\n",
    "\n",
    "[DOI: https://doi.org/10.1063/5.0110725](https://doi.org/10.1063/5.0110725)"
   ]
  },
  {
   "cell_type": "code",
   "execution_count": 3,
   "id": "2e5c11ba",
   "metadata": {
    "scrolled": true
   },
   "outputs": [
    {
     "name": "stdout",
     "output_type": "stream",
     "text": [
      "ModuleNotFoundError: No module named 'mendeleev'\n"
     ]
    },
    {
     "data": {
      "text/html": [
       "\n",
       "<style>\n",
       ".output_png {\n",
       "    display: table-cell;\n",
       "    text-align: center;\n",
       "    vertical-align: middle;\n",
       "}\n",
       "\n",
       "</style>\n"
      ],
      "text/plain": [
       "<IPython.core.display.HTML object>"
      ]
     },
     "execution_count": 3,
     "metadata": {},
     "output_type": "execute_result"
    }
   ],
   "source": [
    "import numpy as np\n",
    "import matplotlib.pyplot as plt\n",
    "from pandas import read_csv\n",
    "\n",
    "from hnc.hnc.PIE import Plasma_of_Ions_and_Electrons as PLASMA\n",
    "\n",
    "from hnc.hnc.constants import *\n",
    "from hnc.hnc.misc import n_from_rs, rs_from_n\n",
    "\n",
    "prop_cycle = plt.rcParams['axes.prop_cycle']\n",
    "colors = prop_cycle.by_key()['color']\n",
    "                \n",
    "from IPython.core.display import HTML\n",
    "HTML(\"\"\"\n",
    "<style>\n",
    ".output_png {\n",
    "    display: table-cell;\n",
    "    text-align: center;\n",
    "    vertical-align: middle;\n",
    "}\n",
    "\n",
    "</style>\n",
    "\"\"\")\n"
   ]
  },
  {
   "cell_type": "markdown",
   "id": "8fcfcf82-afd9-41ed-94aa-a960e951a43a",
   "metadata": {},
   "source": [
    "#### Load George Data"
   ]
  },
  {
   "cell_type": "code",
   "execution_count": 53,
   "id": "6aedd62a-dbf0-40fa-9c81-ebd62d6bed0e",
   "metadata": {},
   "outputs": [],
   "source": [
    "GP_H_file = \"H-rho=1.dat\"\n",
    "GP_df = read_csv(GP_H_file, delim_whitespace=True, header=0)\n",
    "GP_PMbar_1 = GP_df['P_ishikawa'][3:]\n",
    "GP_PMbar_2 = GP_df['P_fauss'][3:]\n",
    "GP_Te_eV = GP_df['Te'][3:]"
   ]
  },
  {
   "cell_type": "markdown",
   "id": "bbea7b15",
   "metadata": {},
   "source": [
    "### Set Parameters in Paper and Plot"
   ]
  },
  {
   "cell_type": "code",
   "execution_count": 22,
   "id": "4d0a7939",
   "metadata": {
    "tags": []
   },
   "outputs": [],
   "source": [
    "name = 'Hydrogen'\n",
    "Z, A = 1,1 \n",
    "\n",
    "Te_eV_list = GP_Te_eV # eV\n",
    "Ti_eV_list = Te_eV_list\n",
    "ni_cc = 5.98e23\n",
    "\n",
    "ri_cm = rs_from_n(ni_cc)  # cm\n",
    "ri_AU = ri_cm*cm_to_AU    # AU "
   ]
  },
  {
   "cell_type": "markdown",
   "id": "840df6a9",
   "metadata": {},
   "source": [
    "#### Run Ornstein-Zernike Closure"
   ]
  },
  {
   "cell_type": "code",
   "execution_count": 26,
   "id": "38816387-97b8-463e-a7a4-d242cb364673",
   "metadata": {},
   "outputs": [],
   "source": [
    "def plasma_output(plasma):\n",
    "    plasma.run_hnc()\n",
    "    Pe_hnc_id, Pe_hnc_ex   = plasma.hnc.rho[1]*plasma.hnc.Temp_list[1],  np.sum( plasma.hnc.excess_pressure_matrix(),axis=1 )[1] \n",
    "    Pe_Mbar_id, Pe_Mbar_ex = P_hnc_to_Mbar(Pe_hnc_id), P_hnc_to_Mbar(Pe_hnc_ex)\n",
    "    Pe_Mbar = Pe_Mbar_id + Pe_Mbar_ex\n",
    "    return Pe_Mbar_id, Pe_Mbar_ex, Pe_Mbar\n",
    "\n",
    "P_list_1 = []\n",
    "name1 = 'OZ - g'\n",
    "plasma1 = lambda T_eV: PLASMA(Z, A, ni_cc, T_eV, T_eV, Zbar=Z,\n",
    "                 βu_options = {'add_bridge':False,'bridge':'ocp', 'pseudopotential':False}, \n",
    "                 qsp_options= {'r_c':0,'which_Tij':'geometric'},\n",
    "                 hnc_options= {'kappa_multiscale':10, 'R_max':20,'N_bins':1000, \n",
    "                               'h_max':2e2,'oz_method':'standard'},\n",
    "                 hnc_solve_options={'alpha_Picard':0.5, 'num_iterations':1e4})\n",
    "P_list_2 = []\n",
    "name2 = 'OZ - th'\n",
    "plasma2 = lambda T_eV: PLASMA(Z, A, ni_cc, T_eV, T_eV, Zbar=Z,\n",
    "                 βu_options = {'add_bridge':False,'bridge':'ocp', 'pseudopotential':False}, \n",
    "                 qsp_options= {'r_c':0,'which_Tij':'thermal'},\n",
    "                 hnc_options= {'kappa_multiscale':10, 'R_max':20,'N_bins':1000, \n",
    "                               'h_max':2e2,'oz_method':'standard'},\n",
    "                 hnc_solve_options={'alpha_Picard':0.5, 'num_iterations':1e4})\n",
    "P_list_3 = []\n",
    "name3 = 'OZ - g  Pauli'\n",
    "plasma3 = lambda T_eV: PLASMA(Z, A, ni_cc, T_eV, T_eV, Zbar=Z, find_βuee=True,\n",
    "                 βu_options = {'add_bridge':False,'bridge':'ocp', 'pseudopotential':False}, \n",
    "                 qsp_options= {'r_c':0,'which_Tij':'geometric'},\n",
    "                 hnc_options= {'kappa_multiscale':10, 'R_max':20,'N_bins':1000, \n",
    "                               'h_max':2e2,'oz_method':'standard'},\n",
    "                 hnc_solve_options={'alpha_Picard':0.5, 'num_iterations':1e4})\n",
    "P_list_4 = []\n",
    "name4 = 'SVT - th'\n",
    "plasma4 =  lambda T_eV: PLASMA(Z, A, ni_cc, T_eV, T_eV, Zbar=Z,\n",
    "                 βu_options = {'add_bridge':False,'bridge':'ocp', 'pseudopotential':False}, \n",
    "                 qsp_options= {'r_c':0},\n",
    "                 hnc_options= {'kappa_multiscale':10, 'R_max':20,'N_bins':1000, \n",
    "                               'h_max':2e2,'oz_method':'svt'},\n",
    "                 hnc_solve_options={'alpha_Picard':0.5,'num_iterations':1e4})\n",
    "\n",
    "P_hnc_to_bar = lambda P_hnc: (P_hnc/ri_AU**3) *  AU_to_bar \n",
    "P_hnc_to_Mbar = lambda P_hnc: 1e-6*P_hnc_to_bar(P_hnc)\n",
    "P_hnc_to_GPa = lambda P_hnc:  P_hnc_to_bar(P_hnc) * 1e5 / 1e9 "
   ]
  },
  {
   "cell_type": "markdown",
   "id": "1bfb565f-fd4f-4026-b214-d38de1408c82",
   "metadata": {},
   "source": [
    "####  Investigate Pressure "
   ]
  },
  {
   "cell_type": "code",
   "execution_count": 27,
   "id": "056611da-a6ca-4dae-b3a4-8e8e51da9e43",
   "metadata": {},
   "outputs": [
    {
     "ename": "NameError",
     "evalue": "name 'Pid' is not defined",
     "output_type": "error",
     "traceback": [
      "\u001b[0;31m---------------------------------------------------------------------------\u001b[0m",
      "\u001b[0;31mNameError\u001b[0m                                 Traceback (most recent call last)",
      "Cell \u001b[0;32mIn[27], line 1\u001b[0m\n\u001b[0;32m----> 1\u001b[0m \u001b[38;5;28mprint\u001b[39m(\u001b[38;5;124m\"\u001b[39m\u001b[38;5;124mP = \u001b[39m\u001b[38;5;132;01m{0:.3e}\u001b[39;00m\u001b[38;5;124m [Mbar]\u001b[39m\u001b[38;5;124m\"\u001b[39m\u001b[38;5;241m.\u001b[39mformat(P_hnc_to_Mbar(\u001b[43mPid\u001b[49m)))\n\u001b[1;32m      2\u001b[0m \u001b[38;5;28mprint\u001b[39m(\u001b[38;5;124m\"\u001b[39m\u001b[38;5;124mP = \u001b[39m\u001b[38;5;132;01m{0:.3e}\u001b[39;00m\u001b[38;5;124m [GPa]\u001b[39m\u001b[38;5;124m\"\u001b[39m\u001b[38;5;241m.\u001b[39mformat(P_hnc_to_GPa(Pid)))\n",
      "\u001b[0;31mNameError\u001b[0m: name 'Pid' is not defined"
     ]
    }
   ],
   "source": [
    "print(\"P = {0:.3e} [Mbar]\".format(P_hnc_to_Mbar(Pid)))\n",
    "print(\"P = {0:.3e} [GPa]\".format(P_hnc_to_GPa(Pid)))"
   ]
  },
  {
   "cell_type": "markdown",
   "id": "fbfb5e3b-4c78-4a28-aaf1-4370c4095713",
   "metadata": {},
   "source": [
    "### Compute all plasma models for list of densities"
   ]
  },
  {
   "cell_type": "code",
   "execution_count": 29,
   "id": "25dd3863",
   "metadata": {
    "scrolled": true
   },
   "outputs": [
    {
     "name": "stdout",
     "output_type": "stream",
     "text": [
      "Te_in_eV: 1.000\n",
      "Ti_in_eV: 1.000\n",
      "0: Initial condition Total Error: 3.074e+00\n",
      "Exiting status 0, reverting to best index so far: 186\n",
      "Final iter:187, Total Error: 9.949e-09\n",
      "Te_in_eV: 1.000\n",
      "Ti_in_eV: 1.000\n",
      "0: Initial condition Total Error: 3.063e+00\n",
      "Exiting status 0, reverting to best index so far: 191\n",
      "Final iter:192, Total Error: 9.617e-09\n",
      "Te_in_eV: 1.000\n",
      "Ti_in_eV: 1.000\n",
      "0: Initial condition Total Error: 3.060e+00\n",
      "Exiting status 0, reverting to best index so far: 153\n",
      "Final iter:154, Total Error: 9.183e-09\n",
      "Te_in_eV: 2.000\n",
      "Ti_in_eV: 2.000\n",
      "0: Initial condition Total Error: 1.803e+00\n",
      "Exiting status 0, reverting to best index so far: 111\n",
      "Final iter:112, Total Error: 9.461e-09\n",
      "Te_in_eV: 2.000\n",
      "Ti_in_eV: 2.000\n",
      "0: Initial condition Total Error: 1.792e+00\n",
      "Exiting status 0, reverting to best index so far: 116\n",
      "Final iter:117, Total Error: 9.165e-09\n",
      "Te_in_eV: 2.000\n",
      "Ti_in_eV: 2.000\n",
      "0: Initial condition Total Error: 1.788e+00\n",
      "Exiting status 0, reverting to best index so far: 94\n",
      "Final iter:95, Total Error: 8.407e-09\n",
      "Te_in_eV: 5.000\n",
      "Ti_in_eV: 5.000\n",
      "0: Initial condition Total Error: 8.570e-01\n",
      "Exiting status 0, reverting to best index so far: 59\n",
      "Final iter:60, Total Error: 9.786e-09\n",
      "Te_in_eV: 5.000\n",
      "Ti_in_eV: 5.000\n",
      "0: Initial condition Total Error: 8.422e-01\n",
      "Exiting status 0, reverting to best index so far: 64\n",
      "Final iter:65, Total Error: 8.060e-09\n",
      "Te_in_eV: 5.000\n",
      "Ti_in_eV: 5.000\n",
      "0: Initial condition Total Error: 8.374e-01\n",
      "Exiting status 0, reverting to best index so far: 53\n",
      "Final iter:54, Total Error: 8.402e-09\n",
      "Te_in_eV: 10.000\n",
      "Ti_in_eV: 10.000\n",
      "0: Initial condition Total Error: 4.820e-01\n",
      "Exiting status 0, reverting to best index so far: 40\n",
      "Final iter:41, Total Error: 7.120e-09\n",
      "Te_in_eV: 10.000\n",
      "Ti_in_eV: 10.000\n",
      "0: Initial condition Total Error: 4.638e-01\n",
      "Exiting status 0, reverting to best index so far: 43\n",
      "Final iter:44, Total Error: 7.260e-09\n",
      "Te_in_eV: 10.000\n",
      "Ti_in_eV: 10.000\n",
      "0: Initial condition Total Error: 4.610e-01\n",
      "Exiting status 0, reverting to best index so far: 37\n",
      "Final iter:38, Total Error: 9.217e-09\n",
      "Te_in_eV: 20.000\n",
      "Ti_in_eV: 20.000\n",
      "0: Initial condition Total Error: 2.765e-01\n",
      "Exiting status 0, reverting to best index so far: 29\n",
      "Final iter:30, Total Error: 8.890e-09\n",
      "Te_in_eV: 20.000\n",
      "Ti_in_eV: 20.000\n",
      "0: Initial condition Total Error: 2.618e-01\n",
      "Exiting status 0, reverting to best index so far: 31\n",
      "Final iter:32, Total Error: 6.131e-09\n",
      "Te_in_eV: 20.000\n",
      "Ti_in_eV: 20.000\n",
      "0: Initial condition Total Error: 2.617e-01\n",
      "Exiting status 0, reverting to best index so far: 29\n",
      "Final iter:30, Total Error: 5.922e-09\n",
      "Te_in_eV: 50.000\n",
      "Ti_in_eV: 50.000\n",
      "0: Initial condition Total Error: 1.309e-01\n",
      "Exiting status 0, reverting to best index so far: 24\n",
      "Final iter:25, Total Error: 6.709e-09\n",
      "Te_in_eV: 50.000\n",
      "Ti_in_eV: 50.000\n",
      "0: Initial condition Total Error: 1.274e-01\n",
      "Exiting status 0, reverting to best index so far: 24\n",
      "Final iter:25, Total Error: 7.337e-09\n",
      "Te_in_eV: 50.000\n",
      "Ti_in_eV: 50.000\n",
      "0: Initial condition Total Error: 1.276e-01\n",
      "Exiting status 0, reverting to best index so far: 24\n",
      "Final iter:25, Total Error: 6.543e-09\n",
      "Te_in_eV: 100.000\n",
      "Ti_in_eV: 100.000\n",
      "0: Initial condition Total Error: 7.100e-02\n",
      "Exiting status 0, reverting to best index so far: 23\n",
      "Final iter:24, Total Error: 7.172e-09\n",
      "Te_in_eV: 100.000\n",
      "Ti_in_eV: 100.000\n",
      "0: Initial condition Total Error: 7.037e-02\n",
      "Exiting status 0, reverting to best index so far: 23\n",
      "Final iter:24, Total Error: 7.166e-09\n",
      "Te_in_eV: 100.000\n",
      "Ti_in_eV: 100.000\n",
      "0: Initial condition Total Error: 7.039e-02\n",
      "Exiting status 0, reverting to best index so far: 23\n",
      "Final iter:24, Total Error: 7.139e-09\n",
      "Te_in_eV: 200.000\n",
      "Ti_in_eV: 200.000\n",
      "0: Initial condition Total Error: 4.016e-02\n",
      "Exiting status 0, reverting to best index so far: 22\n",
      "Final iter:23, Total Error: 8.998e-09\n",
      "Te_in_eV: 200.000\n",
      "Ti_in_eV: 200.000\n",
      "0: Initial condition Total Error: 4.007e-02\n",
      "Exiting status 0, reverting to best index so far: 22\n",
      "Final iter:23, Total Error: 8.981e-09\n",
      "Te_in_eV: 200.000\n",
      "Ti_in_eV: 200.000\n",
      "0: Initial condition Total Error: 4.008e-02\n",
      "Exiting status 0, reverting to best index so far: 22\n",
      "Final iter:23, Total Error: 8.982e-09\n",
      "Te_in_eV: 500.000\n",
      "Ti_in_eV: 500.000\n",
      "0: Initial condition Total Error: 2.301e-02\n",
      "Exiting status 0, reverting to best index so far: 22\n",
      "Final iter:23, Total Error: 5.476e-09\n",
      "Te_in_eV: 500.000\n",
      "Ti_in_eV: 500.000\n",
      "0: Initial condition Total Error: 2.301e-02\n",
      "Exiting status 0, reverting to best index so far: 22\n",
      "Final iter:23, Total Error: 5.475e-09\n",
      "Te_in_eV: 500.000\n",
      "Ti_in_eV: 500.000\n",
      "0: Initial condition Total Error: 2.301e-02\n",
      "Exiting status 0, reverting to best index so far: 22\n",
      "Final iter:23, Total Error: 5.475e-09\n",
      "Te_in_eV: 1000.000\n",
      "Ti_in_eV: 1000.000\n",
      "0: Initial condition Total Error: 1.623e-02\n",
      "Exiting status 0, reverting to best index so far: 21\n",
      "Final iter:22, Total Error: 7.764e-09\n",
      "Te_in_eV: 1000.000\n",
      "Ti_in_eV: 1000.000\n",
      "0: Initial condition Total Error: 1.623e-02\n",
      "Exiting status 0, reverting to best index so far: 21\n",
      "Final iter:22, Total Error: 7.764e-09\n",
      "Te_in_eV: 1000.000\n",
      "Ti_in_eV: 1000.000\n",
      "0: Initial condition Total Error: 1.623e-02\n",
      "Exiting status 0, reverting to best index so far: 21\n",
      "Final iter:22, Total Error: 7.764e-09\n",
      "Te_in_eV: 2000.000\n",
      "Ti_in_eV: 2000.000\n",
      "0: Initial condition Total Error: 1.158e-02\n",
      "Exiting status 0, reverting to best index so far: 21\n",
      "Final iter:22, Total Error: 5.533e-09\n",
      "Te_in_eV: 2000.000\n",
      "Ti_in_eV: 2000.000\n",
      "0: Initial condition Total Error: 1.158e-02\n",
      "Exiting status 0, reverting to best index so far: 21\n",
      "Final iter:22, Total Error: 5.533e-09\n",
      "Te_in_eV: 2000.000\n",
      "Ti_in_eV: 2000.000\n",
      "0: Initial condition Total Error: 1.158e-02\n",
      "Exiting status 0, reverting to best index so far: 21\n",
      "Final iter:22, Total Error: 5.533e-09\n"
     ]
    }
   ],
   "source": [
    "for T_eV in Te_eV_list:\n",
    "    #1\n",
    "    plasma = plasma1(T_eV)\n",
    "    Pe_id, Pe_ex, Pe = plasma_output(plasma)\n",
    "    P_list_1.append( Pe )\n",
    "    #2\n",
    "    plasma = plasma2(T_eV)\n",
    "    Pe_id, Pe_ex, Pe = plasma_output(plasma)\n",
    "    P_list_2.append( Pe )\n",
    "    #3\n",
    "    # plasma = plasma3(T_eV)\n",
    "    # Pe_id, Pe_ex, Pe = plasma_output(plasma)\n",
    "    # P_list_3.append( Pe )\n",
    "    #4\n",
    "    plasma = plasma4(T_eV)\n",
    "    Pe_id, Pe_ex, Pe = plasma_output(plasma)\n",
    "    P_list_4.append( Pe )\n",
    "    "
   ]
  },
  {
   "cell_type": "markdown",
   "id": "bfda576a-f2db-434c-92b6-dbcc7c4bb9e5",
   "metadata": {},
   "source": [
    "Now Plot "
   ]
  },
  {
   "cell_type": "code",
   "execution_count": 67,
   "id": "d6b31b8c-d5f9-45ee-849a-34638cbfb7d1",
   "metadata": {},
   "outputs": [
    {
     "data": {
      "image/png": "[encoded data removed]",
      "text/plain": [
       "<Figure size 1000x800 with 1 Axes>"
      ]
     },
     "metadata": {},
     "output_type": "display_data"
    }
   ],
   "source": [
    "fig, axs = plt.subplots( figsize=(10,8))\n",
    "axs = np.array([axs])\n",
    "# fig.suptitle(r\"$T_i $ eV\", fontsize=25, y=0.9)\n",
    "\n",
    "#Plot GP data \n",
    "axs[0].plot(GP_Te_eV, GP_PMbar_1, 'k-', label='GP Ishikawa')\n",
    "axs[0].plot(GP_Te_eV, GP_PMbar_2, 'k--', label='GP Fauss')\n",
    "\n",
    "# Plot Pressure ratio\n",
    "axs[0].plot(GP_Te_eV, P_list_1, label=name1)\n",
    "axs[0].plot(Te_eV_list, P_list_2, label=name2)\n",
    "axs[0].plot(Te_eV_list, P_list_4, label=name4)\n",
    "\n",
    "# Plot Fermi Pressure\n",
    "P_Fermi_Mbar = 2/3 * plasma.qsp.E_F/(4/3*π*(plasma.qsp.ri)**3) * AU_to_bar/1e6\n",
    "axs[0].plot(GP_Te_eV, GP_Te_eV*0 +P_Fermi_Mbar,'r--', label=r\"$P_{Fermi}$ [Mbar]\"  )\n",
    "\n",
    "for ax in axs:\n",
    "    ax.legend(fontsize=15, loc='upper left')\n",
    "    ax.set_xscale('log')\n",
    "    ax.set_yscale('symlog', linthresh=1)\n",
    "    ax.set_ylim(-1e5, 1e5)\n",
    "    ax.set_ylabel(r\"$P_e$ [Mbar]\", fontsize=20)\n",
    "    ax.set_xlabel(r\"$T$ [eV]\", fontsize=20)\n",
    "    ax.tick_params(labelsize=15)\n",
    "plt.tight_layout()"
   ]
  },
  {
   "cell_type": "code",
   "execution_count": null,
   "id": "a504e7d3-6cba-414f-b118-8091c6320b48",
   "metadata": {},
   "outputs": [],
   "source": []
  }
 ],
 "metadata": {
  "kernelspec": {
   "display_name": "Python 3 (ipykernel)",
   "language": "python",
   "name": "python3"
  },
  "language_info": {
   "codemirror_mode": {
    "name": "ipython",
    "version": 3
   },
   "file_extension": ".py",
   "mimetype": "text/x-python",
   "name": "python",
   "nbconvert_exporter": "python",
   "pygments_lexer": "ipython3",
   "version": "3.10.6"
  }
 },
 "nbformat": 4,
 "nbformat_minor": 5
}
