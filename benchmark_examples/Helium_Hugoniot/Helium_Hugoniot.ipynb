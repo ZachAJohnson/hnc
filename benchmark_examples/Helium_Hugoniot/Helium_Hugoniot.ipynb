{
 "cells": [
  {
   "cell_type": "markdown",
   "id": "d64f089f",
   "metadata": {
    "tags": []
   },
   "source": [
    "# Hugoniot for Helium\n",
    "Purpose of this notebook is to do Hugoniot calculations for Helium\n",
    "\n",
    "[\"Hugoniot Data for Helium in the Ionization Regime\"- Eggert 2008](https://journals.aps.org/prl/abstract/10.1103/PhysRevLett.100.124503)\n",
    "\n",
    "[\"First Principles Calculations of Shock Compressed Fluid Helium\"- Millitzer 2006](https://journals.aps.org/prl/abstract/10.1103/PhysRevLett.97.175501)\n"
   ]
  },
  {
   "cell_type": "code",
   "execution_count": 1,
   "id": "2e5c11ba",
   "metadata": {
    "scrolled": true,
    "tags": []
   },
   "outputs": [
    {
     "name": "stdout",
     "output_type": "stream",
     "text": [
      "ModuleNotFoundError: No module named 'mendeleev'\n"
     ]
    },
    {
     "data": {
      "text/html": [
       "\n",
       "<style>\n",
       ".output_png {\n",
       "    display: table-cell;\n",
       "    text-align: center;\n",
       "    vertical-align: middle;\n",
       "}\n",
       "\n",
       "</style>\n"
      ],
      "text/plain": [
       "<IPython.core.display.HTML object>"
      ]
     },
     "execution_count": 1,
     "metadata": {},
     "output_type": "execute_result"
    }
   ],
   "source": [
    "import numpy as np\n",
    "import matplotlib.pyplot as plt\n",
    "from pandas import read_csv\n",
    "\n",
    "from hnc.hnc.PIE import Plasma_of_Ions_and_Electrons as PLASMA\n",
    "\n",
    "from hnc.hnc.constants import *\n",
    "from hnc.hnc.misc import n_from_rs, rs_from_n\n",
    "\n",
    "prop_cycle = plt.rcParams['axes.prop_cycle']\n",
    "colors = prop_cycle.by_key()['color']\n",
    "                \n",
    "from IPython.core.display import HTML\n",
    "HTML(\"\"\"\n",
    "<style>\n",
    ".output_png {\n",
    "    display: table-cell;\n",
    "    text-align: center;\n",
    "    vertical-align: middle;\n",
    "}\n",
    "\n",
    "</style>\n",
    "\"\"\")\n"
   ]
  },
  {
   "cell_type": "markdown",
   "id": "209202a4-f18a-4e75-aeea-5c2cc38c7640",
   "metadata": {
    "tags": []
   },
   "source": [
    "#### Define Various Plasma Models"
   ]
  },
  {
   "cell_type": "code",
   "execution_count": 2,
   "id": "38816387-97b8-463e-a7a4-d242cb364673",
   "metadata": {
    "tags": []
   },
   "outputs": [],
   "source": [
    "P_hnc_to_AU   = lambda P_hnc, ri: (P_hnc/ri**3) \n",
    "P_hnc_to_Mbar = lambda P_hnc, ri: P_hnc_to_AU(P_hnc, ri)*AU_to_bar/1e6\n",
    "P_hnc_to_GPa = lambda P_hnc, ri: P_hnc_to_AU(P_hnc, ri)*AU_to_Pa/1e9\n",
    "\n",
    "def plasma_output(plasma):\n",
    "    plasma.run_hnc()\n",
    "    try: \n",
    "        plasma.hnc.βu_r_matrix[1,1] -= plasma.βP_ee\n",
    "    except:\n",
    "        plasma.hnc.βu_r_matrix[1,1] -= plasma.qsp.βv_Pauli(plasma.hnc.r_array, plasma.qsp.Λee)\n",
    "    P_hnc, E_density_hnc  = plasma.hnc.total_pressure(),  plasma.hnc.total_energy_density() \n",
    "    E_AU = E_density_hnc/plasma.hnc.rho[0]\n",
    "    P_AU = P_hnc_to_AU(P_hnc, plasma.qsp.ri)\n",
    "    try: \n",
    "        plasma.hnc.βu_r_matrix[1,1] += plasma.βP_ee\n",
    "    except:\n",
    "        plasma.hnc.βu_r_matrix[1,1] += plasma.qsp.βv_Pauli(plasma.hnc.r_array, plasma.qsp.Λee)\n",
    "    \n",
    "    return P_AU, E_AU \n",
    "\n",
    "name1 = 'OZ - g'\n",
    "plasma1 = lambda T_eV, ni_cc: PLASMA(Z, A, ni_cc, T_eV, T_eV, Zbar=Z,\n",
    "                 βu_options = {'add_bridge':False,'bridge':'ocp', 'pseudopotential':False}, \n",
    "                 qsp_options= {'r_c':0,'which_Tij':'geometric'},\n",
    "                 hnc_options= {'kappa_multiscale':10, 'R_max':10,'N_bins':500, \n",
    "                               'h_max':2e2,'oz_method':'standard'},\n",
    "                 hnc_solve_options={'alpha_Picard':0.5, 'num_iterations':1e4})\n",
    "name2 = 'OZ - th'\n",
    "plasma2 = lambda T_eV, ni_cc: PLASMA(Z, A, ni_cc, T_eV, T_eV, Zbar=Z,\n",
    "                 βu_options = {'add_bridge':False,'bridge':'ocp', 'pseudopotential':False}, \n",
    "                 qsp_options= {'r_c':0,'which_Tij':'thermal'},\n",
    "                 hnc_options= {'kappa_multiscale':10, 'R_max':10,'N_bins':500, \n",
    "                               'h_max':2e2,'oz_method':'standard'},\n",
    "                 hnc_solve_options={'alpha_Picard':0.5, 'num_iterations':1e4})\n",
    "name3 = 'OZ - th  Pauli'\n",
    "plasma3 = lambda T_eV, ni_cc: PLASMA(Z, A, ni_cc, T_eV, T_eV, Zbar=Z, find_βuee=True,\n",
    "                 βu_options = {'add_bridge':False,'bridge':'ocp', 'pseudopotential':False}, \n",
    "                 qsp_options= {'r_c':0,'which_Tij':'thermal'},\n",
    "                 hnc_options= {'kappa_multiscale':10, 'R_max':10,'N_bins':500, \n",
    "                               'h_max':2e2,'oz_method':'standard'},\n",
    "                 hnc_solve_options={'alpha_Picard':0.5, 'num_iterations':1e4})\n",
    "name4 = 'SVT - th'\n",
    "plasma4 =  lambda T_eV, ni_cc: PLASMA(Z, A, ni_cc, T_eV, T_eV, Zbar=Z,\n",
    "                 βu_options = {'add_bridge':False,'bridge':'ocp', 'pseudopotential':False}, \n",
    "                 qsp_options= {'r_c':0},\n",
    "                 hnc_options= {'kappa_multiscale':10, 'R_max':10,'N_bins':500, \n",
    "                               'h_max':2e2,'oz_method':'svt'},\n",
    "                 hnc_solve_options={'alpha_Picard':0.5,'num_iterations':1e4})"
   ]
  },
  {
   "cell_type": "markdown",
   "id": "2fb7fa8d-0c64-4459-a674-070b5b8f40b7",
   "metadata": {},
   "source": [
    "# Hugoniot Description and Assumptions\n",
    "\n",
    "From \"Monte Carlo results for the hydrogen Hugoniot\", we assume the hock Hugoniot curve is given by (note there is a sign typo in the paper)\n",
    "$$H = E-E_0 + \\frac{1}{2}(p+p_0)(V-V_0)= 0\n",
    "$$\n",
    "With initial conditions given by\n",
    "\\begin{align}\n",
    "p_0 = 0.12 GPa,\\  \\rho_0 = 0.123 \\textrm{ g/cm$^3$}, \\ E_0 = ? \\textrm{ eV/atom}\n",
    "\\end{align}\n",
    "\n",
    "Say we compute E(n, T), P(n, T) then we have 2 free parameters, potentially plotted in P, n space. Instead, we constrain with 1 equation, that given above.\n",
    "\n",
    "In this case we need to first compute the initial condition temperature to get the $E_0$ in the Hugoniot"
   ]
  },
  {
   "cell_type": "markdown",
   "id": "c05938fe-6156-45ac-aebf-1a7935f5b537",
   "metadata": {},
   "source": [
    "### Set Element and Known Parts of Initial Conditions"
   ]
  },
  {
   "cell_type": "code",
   "execution_count": 3,
   "id": "23b09996-75cc-40b0-be3f-6c03f4b1c997",
   "metadata": {
    "tags": []
   },
   "outputs": [],
   "source": [
    "name = 'Helium'\n",
    "Z, A = 2, 4\n",
    "\n",
    "\n",
    "ρ0_gpercc = 0.171 # g/cc\n",
    "n0_AU = ρ0_gpercc/ (2*m_p*AU_to_g)/cm_to_AU**3\n",
    "P0_GPa = 0.1235\n",
    "P0_AU = P0_GPa/(AU_to_Pa*1e-9)\n",
    "\n",
    "E0_eV = -79.0048 # eV\n",
    "E0_AU = E0_eV*eV_to_AU\n",
    "\n",
    "Hugoniot_func  = lambda T, n, P, E: E - E0_AU + 0.5 * (P+P0_AU)*(1/n - 1/n0_AU)\n",
    "Hugoniot_func = np.vectorize(Hugoniot_func)"
   ]
  },
  {
   "cell_type": "code",
   "execution_count": 4,
   "id": "c29becf6-252f-4a32-91e9-bf8b1f726ba6",
   "metadata": {
    "tags": []
   },
   "outputs": [],
   "source": [
    "# from scipy.optimize import root_scalar\n",
    "\n",
    "# def get_initial_conditions( P0_AU, ρ_gpercc, plasma_type=plasma3):\n",
    "#     ni_cc = ρ_gpercc/ (2*m_p*AU_to_g)\n",
    "    \n",
    "#     def find_T(T_eV):  \n",
    "#         plasma = plasma_type(T_eV, ni_cc)\n",
    "#         P_AU, E_AU  = plasma_output(plasma)\n",
    "#         print(f\"For ρ = {ρ_gpercc:.2f} [g/cc], T={T_eV:.3f} [eV], P={P_AU*AU_to_Pa/1e9} [GPa], E={E_AU*AU_to_eV} [eV]\" )\n",
    "#         return P_AU\n",
    "    \n",
    "#     sol = root_scalar(find_T, x0= 10, x1=20, xtol=0.01)\n",
    "#     T_eV_init = sol.root\n",
    "#     P_init_AU, E_init_AU = plasma_output(plasma_type(T_eV, ni_cc ))\n",
    "#     print(f\"Converged: ρ  = {ρ_gpercc:.2f} [g/cc], T={T_eV_init:.3f} [eV], P={P_init_AU*AU_to_Pa/1e9} [GPa], E={E_init_AU*AU_to_eV} [eV]\" )\n",
    "#     return sol, info\n",
    "# get_initial_conditions(P0_AU, ρ0_gpercc, plasma_type=plasma3)"
   ]
  },
  {
   "cell_type": "markdown",
   "id": "c3c7f6f7-11e6-4ec5-8024-394677b16d57",
   "metadata": {},
   "source": [
    "#### Compute all plasma models for grid of T and ρ"
   ]
  },
  {
   "cell_type": "code",
   "execution_count": 5,
   "id": "25dd3863",
   "metadata": {
    "scrolled": true,
    "tags": []
   },
   "outputs": [
    {
     "ename": "NameError",
     "evalue": "name 'Te_eV_list' is not defined",
     "output_type": "error",
     "traceback": [
      "\u001b[0;31m---------------------------------------------------------------------------\u001b[0m",
      "\u001b[0;31mNameError\u001b[0m                                 Traceback (most recent call last)",
      "Cell \u001b[0;32mIn[5], line 6\u001b[0m\n\u001b[1;32m      3\u001b[0m PE_list_3 \u001b[38;5;241m=\u001b[39m []\n\u001b[1;32m      4\u001b[0m PE_list_4 \u001b[38;5;241m=\u001b[39m []\n\u001b[0;32m----> 6\u001b[0m \u001b[38;5;28;01mfor\u001b[39;00m T_eV \u001b[38;5;129;01min\u001b[39;00m \u001b[43mTe_eV_list\u001b[49m:\n\u001b[1;32m      7\u001b[0m     \u001b[38;5;28;01mfor\u001b[39;00m rs \u001b[38;5;129;01min\u001b[39;00m ri_AU_list:\n\u001b[1;32m      8\u001b[0m         ni_cc \u001b[38;5;241m=\u001b[39m n_from_rs(rs)\u001b[38;5;241m*\u001b[39mcm_to_AU\u001b[38;5;241m*\u001b[39m\u001b[38;5;241m*\u001b[39m\u001b[38;5;241m3\u001b[39m\n",
      "\u001b[0;31mNameError\u001b[0m: name 'Te_eV_list' is not defined"
     ]
    }
   ],
   "source": [
    "PE_list_1 = []\n",
    "PE_list_2 = []\n",
    "PE_list_3 = []\n",
    "PE_list_4 = []\n",
    "\n",
    "for T_eV in Te_eV_list:\n",
    "    for rs in ri_AU_list:\n",
    "        ni_cc = n_from_rs(rs)*cm_to_AU**3\n",
    "        #1\n",
    "        # plasma = plasma1(T_eV, ni_cc)\n",
    "        # Pe_id, Pe_ex, Pe = plasma_output(plasma)\n",
    "        # P_list_1.append( [Pe_id, Pe_ex, Pe] )\n",
    "        #2\n",
    "        # plasma = plasma2(T_eV, ni_cc)\n",
    "        # Pe_id, Pe_ex, Pe = plasma_output(plasma)\n",
    "        # P_list_2.append( [Pe_id, Pe_ex, Pe] )\n",
    "        #3\n",
    "        plasma = plasma3(T_eV, ni_cc)\n",
    "        P_AU, E_AU  = plasma_output(plasma)\n",
    "        PE_list_3.append( [T_eV*eV_to_AU, ni_cc/cm_to_AU**3, P_AU, E_AU ] )\n",
    "        #4\n",
    "        # plasma = plasma4(T_eV, ni_cc)\n",
    "        # Pe_id, Pe_ex, Pe = plasma_output(plasma)\n",
    "        # P_list_4.append( [Pe_id, Pe_ex, Pe] )\n",
    "    "
   ]
  },
  {
   "cell_type": "markdown",
   "id": "d809b962-97cf-413f-9b1d-fffff9f8481c",
   "metadata": {},
   "source": [
    "Now Plot "
   ]
  },
  {
   "cell_type": "code",
   "execution_count": null,
   "id": "47071246-860e-4f63-8ae3-7438a4e072dd",
   "metadata": {
    "tags": []
   },
   "outputs": [],
   "source": [
    "PE_list_1 = np.array(PE_list_1)\n",
    "PE_list_2 = np.array(PE_list_2)\n",
    "PE_list_3 = np.array(PE_list_3)\n",
    "PE_list_4 = np.array(PE_list_4)"
   ]
  },
  {
   "cell_type": "code",
   "execution_count": null,
   "id": "6409fedf-41f6-4f0c-af1c-1d611f069f4c",
   "metadata": {},
   "outputs": [],
   "source": [
    "H_list = Hugoniot_func(*PE_list_3.T)\n",
    "H_list"
   ]
  },
  {
   "cell_type": "code",
   "execution_count": null,
   "id": "583a5b99-ab78-4e6c-aa18-ec7679082ece",
   "metadata": {},
   "outputs": [],
   "source": [
    "import numpy as np\n",
    "from tabulate import tabulate\n",
    "\n",
    "def generate_latex_table(data):\n",
    "    data = data.reshape(len(Te_eV_list), len(ri_AU_list),4)\n",
    "    # Assuming data is your NT x Nr x 4 tensor\n",
    "    # Replace the following line with your actual data\n",
    "    # data = np.random.rand(7, 3, 4)  # Example data: 7 Ts, 3 rs, and 4 values in the last dimension\n",
    "\n",
    "    # Extract the unique T and r values, and the P and E values\n",
    "    T_values = data[:, 0, 0]/eV_to_AU*eV_to_K\n",
    "    ni_AU_values = data[0, :, 1]\n",
    "    r_values = rs_from_n(ni_AU_values)\n",
    "    P_values = data[:, :, 2]*AU_to_Pa/1e9\n",
    "    E_values = data[:, :, 3]/eV_to_AU\n",
    "\n",
    "    # Create the table headers\n",
    "    headers = [\"$T$ [K]\"]\n",
    "    for r in r_values:\n",
    "        headers.extend([f\"($r_s={r:0.2f}$): $P$ [GPa]\", f\"$E$ [eV]\"])\n",
    "\n",
    "    # Create the table rows\n",
    "    table_rows = []\n",
    "    for i, T in enumerate(T_values):\n",
    "        row = [f\"{T}\"]\n",
    "        for j in range(len(r_values)):\n",
    "            row.extend([f\"{P_values[i, j]:.2f}\", f\"{E_values[i, j]:.2f}\"])\n",
    "        table_rows.append(row)\n",
    "\n",
    "    # Generate the LaTeX code\n",
    "    latex_table = tabulate(table_rows, headers, tablefmt=\"latex_raw\")\n",
    "\n",
    "    # Manually adjust the LaTeX code to add the rs line\n",
    "    rs_line = \" & \" + \" & \".join([f\"\\\\multicolumn{{2}}{{c|}}{{$r_s={r}$}}\" for r in r_values]) + \" \\\\\\\\ \\n\"\n",
    "    latex_table = latex_table.replace(\"\\\\toprule\", \"\\\\toprule\" + rs_line)\n",
    "\n",
    "    # Print the LaTeX code\n",
    "    print(latex_table)\n",
    "\n",
    "# Replace with your actual data\n",
    "generate_latex_table(PE_list_3)\n"
   ]
  },
  {
   "cell_type": "code",
   "execution_count": null,
   "id": "5fa44cb3-ff32-47e9-91b7-301b3f539460",
   "metadata": {},
   "outputs": [],
   "source": [
    "from scipy.interpolate import CloughTocher2DInterpolator, LinearNDInterpolator\n",
    "\n",
    "\n",
    "fig, ax = plt.subplots(figsize=(10,8))\n",
    "\n",
    "ρ_gpercc = 2*PE_list_3[:,1]*( (m_p*AU_to_g)*cm_to_AU**3)\n",
    "P_GPa = PE_list_3[:,2]*AU_to_Pa/1e9\n",
    "\n",
    "ρ_mesh, P_mesh = np.meshgrid(np.linspace( np.min(ρ_gpercc), np.max(ρ_gpercc),num=100), np.geomspace( np.min(np.abs(P_GPa)), np.max(P_GPa),num=100) )\n",
    "\n",
    "z = H_list\n",
    "# H_interp = CloughTocher2DInterpolator(list(zip(ρ_gpercc, P_GPa)), z)\n",
    "# H_mesh = H_interp(ρ_mesh, P_mesh)\n",
    "\n",
    "H_interp = LinearNDInterpolator(list(zip(ρ_gpercc, np.log10(np.abs(P_GPa)))), z, )\n",
    "H_mesh = H_interp(ρ_mesh, np.log10(np.abs(P_mesh)))\n",
    "\n",
    "cmesh = plt.pcolormesh(ρ_mesh, P_mesh, H_mesh, shading='auto')\n",
    "cntr2 = ax.contour(ρ_mesh, P_mesh, H_mesh, levels=[-0.1,0,0.1],colors='k', linestyles=['--','-','--'])#, cmap=\"RdBu_r\")\n",
    "\n",
    "ax.plot(ρ_gpercc, P_GPa, 'ko', ms=5)\n",
    "\n",
    "ax.set_yscale('log')\n",
    "\n",
    "ax.set_ylim(np.min(np.abs(P_GPa))*0.9, np.max(P_GPa)*1.1)\n",
    "ax.set_xlim(np.min(ρ_gpercc)*0.9, np.max(ρ_gpercc)*1.1)\n",
    "\n",
    "ax.set_xlabel(r\"$\\rho$ [g/cc]\", fontsize=20)\n",
    "ax.set_ylabel(r\"$P$ [GPa]\", fontsize=20)\n",
    "\n",
    "plt.subplots_adjust(hspace=0.5)\n",
    "\n",
    "plt.show()"
   ]
  },
  {
   "cell_type": "code",
   "execution_count": null,
   "id": "afb39be6-1b0b-43cd-bcae-34503b255140",
   "metadata": {},
   "outputs": [],
   "source": [
    "fig, ax = plt.subplots(figsize=(10,8))\n",
    "\n",
    "ρ_gpercc = 2*PE_list_3[:,1]*( (m_p*AU_to_g)*cm_to_AU**3)\n",
    "P_GPa = PE_list_3[:,2]*AU_to_Pa/1e9\n",
    "z = H_list\n",
    "# z = np.log10(np.abs(H_list))\n",
    "ax.tricontour(ρ_gpercc, np.log10(np.abs(P_GPa)) , z, levels=[-0.1,0,0.1], linewidths=0.5, colors='k')\n",
    "cntr2 = ax.tricontourf(ρ_gpercc, np.log10(np.abs(P_GPa)), z, levels=100, cmap=\"RdBu_r\")\n",
    "\n",
    "fig.colorbar(cntr2, ax=ax)\n",
    "\n",
    "ax.plot(ρ_gpercc, np.log10(P_GPa), 'ko', ms=5)\n",
    "\n",
    "# ax.set_yscale('log')\n",
    "\n",
    "# ax.set_ylim(np.min(P_GPa)*0.9, np.max(P_GPa)*1.1)\n",
    "ax.set_xlim(np.min(ρ_gpercc)*0.9, np.max(ρ_gpercc)*1.1)\n",
    "\n",
    "ax.set_xlabel(r\"$\\rho$ [g/cc]\", fontsize=20)\n",
    "ax.set_ylabel(r\"$P$ [GPa]\", fontsize=20)\n",
    "\n",
    "plt.subplots_adjust(hspace=0.5)\n",
    "plt.show()"
   ]
  },
  {
   "cell_type": "markdown",
   "id": "c5294184-cafa-49b3-b218-8c7649ec72d8",
   "metadata": {
    "tags": []
   },
   "source": [
    "\n",
    "## Try Root Finding Hugoniot"
   ]
  },
  {
   "cell_type": "code",
   "execution_count": 7,
   "id": "f11cba34-9e45-4ad2-a22b-9f8364719f14",
   "metadata": {
    "scrolled": true,
    "tags": []
   },
   "outputs": [
    {
     "name": "stdout",
     "output_type": "stream",
     "text": [
      "Te_in_eV: 10.000\n",
      "Ti_in_eV: 10.000\n",
      "0: Initial condition Total Error: 2.151e+00\n",
      "Exiting status 0, reverting to best index so far: 47\n",
      "Final iter:48, Total Error: 8.349e-09\n",
      "For ρ = 0.50 [g/cc], H=1.458 [AU], P=461.8449563007698 [GPa], E=-20.804073798705392 [eV]\n",
      "Te_in_eV: 10.000\n",
      "Ti_in_eV: 10.000\n",
      "0: Initial condition Total Error: 1.956e+00\n",
      "Exiting status 0, reverting to best index so far: 63\n",
      "Final iter:64, Total Error: 9.018e-09\n",
      "For ρ = 1.00 [g/cc], H=0.092 [AU], P=1013.8468166061824 [GPa], E=-25.26375428831976 [eV]\n",
      "Te_in_eV: 10.000\n",
      "Ti_in_eV: 10.000\n",
      "0: Initial condition Total Error: 1.961e+00\n",
      "Exiting status 0, reverting to best index so far: 64\n",
      "Final iter:65, Total Error: 8.769e-09\n",
      "For ρ = 1.03 [g/cc], H=-0.004 [AU], P=1055.4541763305149 [GPa], E=-25.418151683604286 [eV]\n",
      "Te_in_eV: 10.000\n",
      "Ti_in_eV: 10.000\n",
      "0: Initial condition Total Error: 1.960e+00\n",
      "Exiting status 0, reverting to best index so far: 64\n",
      "Final iter:65, Total Error: 8.676e-09\n",
      "Converged: ρ = 1.03 [g/cc], H=0.000 [AU], P=1053.6268171661447 [GPa], E=-25.411664443886085 [eV]\n",
      "\n",
      "Te_in_eV: 15.445\n",
      "Ti_in_eV: 15.445\n",
      "0: Initial condition Total Error: 1.851e+00\n",
      "Exiting status 0, reverting to best index so far: 38\n",
      "Final iter:39, Total Error: 5.738e-09\n",
      "For ρ = 0.50 [g/cc], H=1.797 [AU], P=804.4186774351869 [GPa], E=2.159689166509565 [eV]\n",
      "Te_in_eV: 15.445\n",
      "Ti_in_eV: 15.445\n",
      "0: Initial condition Total Error: 1.518e+00\n",
      "Exiting status 0, reverting to best index so far: 47\n",
      "Final iter:48, Total Error: 7.665e-09\n",
      "For ρ = 1.00 [g/cc], H=-0.351 [AU], P=1667.035776431408 [GPa], E=-4.304983941984971 [eV]\n",
      "Te_in_eV: 15.445\n",
      "Ti_in_eV: 15.445\n",
      "0: Initial condition Total Error: 1.534e+00\n",
      "Exiting status 0, reverting to best index so far: 45\n",
      "Final iter:46, Total Error: 9.508e-09\n",
      "For ρ = 0.92 [g/cc], H=-0.000 [AU], P=1519.3179903099722 [GPa], E=-3.6379442435909985 [eV]\n",
      "Te_in_eV: 15.445\n",
      "Ti_in_eV: 15.445\n",
      "0: Initial condition Total Error: 1.534e+00\n",
      "Exiting status 0, reverting to best index so far: 45\n",
      "Final iter:46, Total Error: 9.507e-09\n",
      "Converged: ρ = 0.92 [g/cc], H=-0.000 [AU], P=1519.2928785051897 [GPa], E=-3.6378208649404584 [eV]\n",
      "\n",
      "Te_in_eV: 23.853\n",
      "Ti_in_eV: 23.853\n",
      "0: Initial condition Total Error: 1.491e+00\n",
      "Exiting status 0, reverting to best index so far: 32\n",
      "Final iter:33, Total Error: 7.510e-09\n",
      "For ρ = 0.50 [g/cc], H=2.391 [AU], P=1371.14141844103 [GPa], E=41.06167824130143 [eV]\n",
      "Te_in_eV: 23.853\n",
      "Ti_in_eV: 23.853\n",
      "0: Initial condition Total Error: 1.208e+00\n",
      "Exiting status 0, reverting to best index so far: 37\n",
      "Final iter:38, Total Error: 9.288e-09\n",
      "For ρ = 1.00 [g/cc], H=-1.039 [AU], P=2755.178131676035 [GPa], E=31.955482532813146 [eV]\n",
      "Te_in_eV: 23.853\n",
      "Ti_in_eV: 23.853\n",
      "0: Initial condition Total Error: 1.255e+00\n",
      "Exiting status 0, reverting to best index so far: 36\n",
      "Final iter:37, Total Error: 7.312e-09\n",
      "For ρ = 0.85 [g/cc], H=-0.014 [AU], P=2328.289446263567 [GPa], E=33.92755035229969 [eV]\n",
      "Te_in_eV: 23.853\n",
      "Ti_in_eV: 23.853\n",
      "0: Initial condition Total Error: 1.255e+00\n",
      "Exiting status 0, reverting to best index so far: 36\n",
      "Final iter:37, Total Error: 7.239e-09\n",
      "Converged: ρ = 0.85 [g/cc], H=-0.000 [AU], P=2322.479949339855 [GPa], E=33.95807439302643 [eV]\n",
      "\n",
      "Te_in_eV: 36.840\n",
      "Ti_in_eV: 36.840\n"
     ]
    },
    {
     "name": "stderr",
     "output_type": "stream",
     "text": [
      "/home/zach/plasma/hnc/hnc/PIE.py:187: IntegrationWarning: The maximum number of subdivisions (50) has been achieved.\n",
      "  If increasing the limit yields no improvement it is advised to analyze \n",
      "  the integrand in order to determine the difficulties.  If the position of a \n",
      "  local difficulty can be determined (singularity, discontinuity) one will \n",
      "  probably gain from splitting up the interval and calling the integrator \n",
      "  on the subranges.  Perhaps a special-purpose integrator should be used.\n",
      "  κ = 3*(2*self.qsp.Te*m_e) / (self.qsp.k_F**3 * r) *quad(integrand, 0, t_max)[0]\n",
      "/home/zach/plasma/hnc/hnc/PIE.py:187: IntegrationWarning: The integral is probably divergent, or slowly convergent.\n",
      "  κ = 3*(2*self.qsp.Te*m_e) / (self.qsp.k_F**3 * r) *quad(integrand, 0, t_max)[0]\n"
     ]
    },
    {
     "name": "stdout",
     "output_type": "stream",
     "text": [
      "0: Initial condition Total Error: 1.079e+00\n",
      "Exiting status 0, reverting to best index so far: 29\n",
      "Final iter:30, Total Error: 7.223e-09\n",
      "For ρ = 0.50 [g/cc], H=3.340 [AU], P=2288.597068873915 [GPa], E=103.67923670721906 [eV]\n",
      "Te_in_eV: 36.840\n",
      "Ti_in_eV: 36.840\n",
      "0: Initial condition Total Error: 9.315e-01\n",
      "Exiting status 0, reverting to best index so far: 32\n",
      "Final iter:33, Total Error: 7.214e-09\n",
      "For ρ = 1.00 [g/cc], H=-2.140 [AU], P=4535.0876908780565 [GPa], E=91.91433254388218 [eV]\n",
      "Te_in_eV: 36.840\n",
      "Ti_in_eV: 36.840\n",
      "0: Initial condition Total Error: 9.724e-01\n",
      "Exiting status 0, reverting to best index so far: 31\n",
      "Final iter:32, Total Error: 6.718e-09\n",
      "For ρ = 0.80 [g/cc], H=-0.033 [AU], P=3653.373202312377 [GPa], E=95.47816789921502 [eV]\n",
      "Te_in_eV: 36.840\n",
      "Ti_in_eV: 36.840\n",
      "0: Initial condition Total Error: 9.731e-01\n",
      "Exiting status 0, reverting to best index so far: 31\n",
      "Final iter:32, Total Error: 6.658e-09\n",
      "Converged: ρ = 0.80 [g/cc], H=-0.001 [AU], P=3640.154075963127 [GPa], E=95.53953494052058 [eV]\n",
      "\n",
      "Te_in_eV: 56.898\n",
      "Ti_in_eV: 56.898\n",
      "0: Initial condition Total Error: 7.119e-01\n",
      "Exiting status 0, reverting to best index so far: 27\n",
      "Final iter:28, Total Error: 6.573e-09\n",
      "For ρ = 0.50 [g/cc], H=4.762 [AU], P=3740.439886299354 [GPa], E=200.5802520054769 [eV]\n",
      "Te_in_eV: 56.898\n",
      "Ti_in_eV: 56.898\n",
      "0: Initial condition Total Error: 6.687e-01\n",
      "Exiting status 0, reverting to best index so far: 29\n",
      "Final iter:30, Total Error: 5.943e-09\n",
      "For ρ = 1.00 [g/cc], H=-3.939 [AU], P=7386.655137855343 [GPa], E=187.05896953724198 [eV]\n",
      "Te_in_eV: 56.898\n",
      "Ti_in_eV: 56.898\n",
      "0: Initial condition Total Error: 6.854e-01\n",
      "Exiting status 0, reverting to best index so far: 28\n",
      "Final iter:29, Total Error: 6.895e-09\n",
      "For ρ = 0.77 [g/cc], H=-0.047 [AU], P=5736.665864097274 [GPa], E=192.0966392771192 [eV]\n",
      "Te_in_eV: 56.898\n",
      "Ti_in_eV: 56.898\n",
      "0: Initial condition Total Error: 6.856e-01\n",
      "Exiting status 0, reverting to best index so far: 28\n",
      "Final iter:29, Total Error: 6.859e-09\n",
      "Converged: ρ = 0.77 [g/cc], H=-0.001 [AU], P=5717.189036767689 [GPa], E=192.16467373775916 [eV]\n",
      "\n",
      "Te_in_eV: 87.876\n",
      "Ti_in_eV: 87.876\n"
     ]
    },
    {
     "name": "stderr",
     "output_type": "stream",
     "text": [
      "/home/zach/plasma/hnc/hnc/PIE.py:186: RuntimeWarning: overflow encountered in exp\n",
      "  integrand = lambda t: t*np.sin(sin_arg*t)/(1+np.exp(t**2-η))\n"
     ]
    },
    {
     "name": "stdout",
     "output_type": "stream",
     "text": [
      "0: Initial condition Total Error: 4.428e-01\n",
      "Exiting status 0, reverting to best index so far: 25\n",
      "Final iter:26, Total Error: 6.209e-09\n",
      "For ρ = 0.50 [g/cc], H=6.838 [AU], P=5998.310413814031 [GPa], E=347.63784143632637 [eV]\n",
      "Te_in_eV: 87.876\n",
      "Ti_in_eV: 87.876\n",
      "0: Initial condition Total Error: 4.471e-01\n",
      "Exiting status 0, reverting to best index so far: 26\n",
      "Final iter:27, Total Error: 6.952e-09\n",
      "For ρ = 1.00 [g/cc], H=-6.867 [AU], P=11867.62962007312 [GPa], E=333.7986423866382 [eV]\n",
      "Te_in_eV: 87.876\n",
      "Ti_in_eV: 87.876\n",
      "0: Initial condition Total Error: 4.464e-01\n",
      "Exiting status 0, reverting to best index so far: 25\n",
      "Final iter:26, Total Error: 8.929e-09\n",
      "For ρ = 0.75 [g/cc], H=-0.054 [AU], P=8932.293948513287 [GPa], E=339.75450916081184 [eV]\n",
      "Te_in_eV: 87.876\n",
      "Ti_in_eV: 87.876\n",
      "0: Initial condition Total Error: 4.464e-01\n",
      "Exiting status 0, reverting to best index so far: 25\n",
      "Final iter:26, Total Error: 8.903e-09\n",
      "Converged: ρ = 0.75 [g/cc], H=0.000 [AU], P=8909.045150602627 [GPa], E=339.8080618634933 [eV]\n",
      "\n",
      "Te_in_eV: 135.721\n",
      "Ti_in_eV: 135.721\n",
      "0: Initial condition Total Error: 2.681e-01\n",
      "Exiting status 0, reverting to best index so far: 25\n",
      "Final iter:26, Total Error: 5.718e-09\n",
      "For ρ = 0.50 [g/cc], H=9.894 [AU], P=9480.193406286971 [GPa], E=570.4202711346483 [eV]\n",
      "Te_in_eV: 135.721\n",
      "Ti_in_eV: 135.721\n",
      "0: Initial condition Total Error: 2.845e-01\n",
      "Exiting status 0, reverting to best index so far: 25\n",
      "Final iter:26, Total Error: 6.784e-09\n",
      "For ρ = 1.00 [g/cc], H=-11.556 [AU], P=18818.462007688348 [GPa], E=557.4361024116316 [eV]\n",
      "Te_in_eV: 135.721\n",
      "Ti_in_eV: 135.721\n",
      "0: Initial condition Total Error: 2.775e-01\n",
      "Exiting status 0, reverting to best index so far: 25\n",
      "Final iter:26, Total Error: 6.111e-09\n",
      "For ρ = 0.73 [g/cc], H=-0.054 [AU], P=13795.951122786872 [GPa], E=563.6155161017577 [eV]\n",
      "Te_in_eV: 135.721\n",
      "Ti_in_eV: 135.721\n",
      "0: Initial condition Total Error: 2.775e-01\n",
      "Exiting status 0, reverting to best index so far: 25\n",
      "Final iter:26, Total Error: 6.109e-09\n",
      "Converged: ρ = 0.73 [g/cc], H=0.000 [AU], P=13772.36217023361 [GPa], E=563.6482540710731 [eV]\n",
      "\n",
      "Te_in_eV: 209.614\n",
      "Ti_in_eV: 209.614\n",
      "0: Initial condition Total Error: 1.618e-01\n",
      "Exiting status 0, reverting to best index so far: 24\n",
      "Final iter:25, Total Error: 7.963e-09\n",
      "For ρ = 0.50 [g/cc], H=14.464 [AU], P=14838.941163065274 [GPa], E=909.6990196286916 [eV]\n",
      "Te_in_eV: 209.614\n",
      "Ti_in_eV: 209.614\n",
      "0: Initial condition Total Error: 1.766e-01\n",
      "Exiting status 0, reverting to best index so far: 24\n",
      "Final iter:25, Total Error: 8.756e-09\n",
      "For ρ = 1.00 [g/cc], H=-18.943 [AU], P=29539.528170084766 [GPa], E=898.1683896989043 [eV]\n",
      "Te_in_eV: 209.614\n",
      "Ti_in_eV: 209.614\n",
      "0: Initial condition Total Error: 1.696e-01\n",
      "Exiting status 0, reverting to best index so far: 24\n",
      "Final iter:25, Total Error: 8.307e-09\n",
      "For ρ = 0.72 [g/cc], H=-0.050 [AU], P=21213.272130097386 [GPa], E=904.0453902238208 [eV]\n",
      "Te_in_eV: 209.614\n",
      "Ti_in_eV: 209.614\n",
      "0: Initial condition Total Error: 1.696e-01\n",
      "Exiting status 0, reverting to best index so far: 24\n",
      "Final iter:25, Total Error: 8.306e-09\n",
      "Converged: ρ = 0.72 [g/cc], H=0.000 [AU], P=21191.340235638694 [GPa], E=904.0627867847596 [eV]\n",
      "\n",
      "Te_in_eV: 323.739\n",
      "Ti_in_eV: 323.739\n",
      "0: Initial condition Total Error: 9.956e-02\n",
      "Exiting status 0, reverting to best index so far: 24\n",
      "Final iter:25, Total Error: 5.287e-09\n",
      "For ρ = 0.50 [g/cc], H=21.391 [AU], P=23090.59164421311 [GPa], E=1429.1410614364077 [eV]\n",
      "Te_in_eV: 323.739\n",
      "Ti_in_eV: 323.739\n",
      "0: Initial condition Total Error: 1.097e-01\n",
      "Exiting status 0, reverting to best index so far: 24\n",
      "Final iter:25, Total Error: 5.678e-09\n",
      "For ρ = 1.00 [g/cc], H=-30.464 [AU], P=46055.48817241321 [GPa], E=1419.235502304346 [eV]\n",
      "Te_in_eV: 323.739\n",
      "Ti_in_eV: 323.739\n",
      "0: Initial condition Total Error: 1.046e-01\n",
      "Exiting status 0, reverting to best index so far: 24\n",
      "Final iter:25, Total Error: 5.472e-09\n",
      "For ρ = 0.71 [g/cc], H=-0.044 [AU], P=32573.437090277916 [GPa], E=1424.5224565134165 [eV]\n",
      "Te_in_eV: 323.739\n",
      "Ti_in_eV: 323.739\n",
      "0: Initial condition Total Error: 1.046e-01\n",
      "Exiting status 0, reverting to best index so far: 24\n",
      "Final iter:25, Total Error: 5.472e-09\n",
      "Converged: ρ = 0.71 [g/cc], H=0.000 [AU], P=32554.11142026339 [GPa], E=1424.5309569155008 [eV]\n",
      "\n",
      "Te_in_eV: 500.000\n",
      "Ti_in_eV: 500.000\n",
      "0: Initial condition Total Error: 6.393e-02\n",
      "Exiting status 0, reverting to best index so far: 23\n",
      "Final iter:24, Total Error: 7.224e-09\n",
      "For ρ = 0.50 [g/cc], H=31.979 [AU], P=35809.26213230247 [GPa], E=2227.324107516752 [eV]\n",
      "Te_in_eV: 500.000\n",
      "Ti_in_eV: 500.000\n",
      "0: Initial condition Total Error: 7.020e-02\n",
      "Exiting status 0, reverting to best index so far: 23\n",
      "Final iter:24, Total Error: 7.735e-09\n",
      "For ρ = 1.00 [g/cc], H=-48.339 [AU], P=71509.10576452625 [GPa], E=2218.9904154478213 [eV]\n",
      "Te_in_eV: 500.000\n",
      "Ti_in_eV: 500.000\n",
      "0: Initial condition Total Error: 6.695e-02\n",
      "Exiting status 0, reverting to best index so far: 23\n",
      "Final iter:24, Total Error: 7.477e-09\n",
      "For ρ = 0.70 [g/cc], H=-0.037 [AU], P=50031.59219314056 [GPa], E=2223.5780169968657 [eV]\n",
      "Te_in_eV: 500.000\n",
      "Ti_in_eV: 500.000\n",
      "0: Initial condition Total Error: 6.695e-02\n",
      "Exiting status 0, reverting to best index so far: 23\n",
      "Final iter:24, Total Error: 7.477e-09\n",
      "Converged: ρ = 0.70 [g/cc], H=0.000 [AU], P=50015.11771317516 [GPa], E=2223.5819598917174 [eV]\n",
      "\n"
     ]
    }
   ],
   "source": [
    "from scipy.optimize import root_scalar\n",
    "\n",
    "def get_Hugoniot_ρ_at_T( T_eV, plasma_type=plasma3, ρ_gpercc_guess = 0.5):\n",
    "    \n",
    "    def find_ρ(ρ_gpercc):\n",
    "        ni_cc = ρ_gpercc/ (2*m_p*AU_to_g)\n",
    "        plasma = plasma_type(T_eV, ni_cc)\n",
    "        P_AU, E_AU  = plasma_output(plasma)\n",
    "        info = np.array([T_eV*eV_to_AU, ni_cc/cm_to_AU**3, P_AU, E_AU ])\n",
    "        H = Hugoniot_func(*info)\n",
    "        print(f\"For ρ = {ρ_gpercc:.2f} [g/cc], H={H:.3f} [AU], P={P_AU*AU_to_Pa/1e9} [GPa], E={E_AU*AU_to_eV} [eV]\" )\n",
    "        return H\n",
    "    sol = root_scalar(find_ρ, x0=0.5, x1=1.0, xtol=0.01)\n",
    "    ρ_at_H = sol.root\n",
    "    P_at_H, E_at_H = plasma_output(plasma_type(T_eV, ρ_at_H/ (2*m_p*AU_to_g) ))\n",
    "    info = (T_eV, ρ_at_H, P_at_H, E_at_H  )\n",
    "    H_at_H = Hugoniot_func(T_eV*eV_to_AU, ρ_at_H/ (2*m_p*AU_to_g)/cm_to_AU**3, P_at_H, E_at_H )\n",
    "    print(f\"Converged: ρ = {ρ_at_H:.2f} [g/cc], H={H_at_H:.3f} [AU], P={P_at_H*AU_to_Pa/1e9} [GPa], E={E_at_H*AU_to_eV} [eV]\\n\" )\n",
    "    \n",
    "    return sol, info\n",
    "\n",
    "# Now find for many different temperatures\n",
    "T_array = np.geomspace(10, 5e2, num = 10 ) \n",
    "H_info_list  = []\n",
    "for T in T_array:\n",
    "    H_info_list.append( get_Hugoniot_ρ_at_T(T)[1] )"
   ]
  },
  {
   "cell_type": "markdown",
   "id": "85aef0a2-7e99-4b98-8f39-e75389a621da",
   "metadata": {},
   "source": [
    "### Plot Hugoniot"
   ]
  },
  {
   "cell_type": "code",
   "execution_count": 8,
   "id": "51c5a171-b7d7-41a3-a13b-2b451fb84374",
   "metadata": {
    "tags": []
   },
   "outputs": [
    {
     "data": {
      "image/png": "[encoded data removed]",
      "text/plain": [
       "<Figure size 1000x800 with 1 Axes>"
      ]
     },
     "metadata": {},
     "output_type": "display_data"
    }
   ],
   "source": [
    "fig, ax = plt.subplots(figsize=(10,8))\n",
    "\n",
    "H_ρ_gpercc_vals = np.array(H_info_list)[:,1]\n",
    "H_P_GPa_vals = np.array(H_info_list)[:,2]*AU_to_Pa/1e9\n",
    "ax.plot(H_ρ_gpercc_vals, H_P_GPa_vals,'--.')\n",
    "\n",
    "ax.set_yscale('log')\n",
    "\n",
    "# ax.set_ylim(np.min(P_GPa)*0.9, np.max(P_GPa)*1.1)\n",
    "# ax.set_xlim(np.min(ρ_gpercc)*0.9, np.max(ρ_gpercc)*1.1)\n",
    "\n",
    "ax.set_xlabel(r\"$\\rho$ [g/cc]\", fontsize=20)\n",
    "ax.set_ylabel(r\"$P$ [GPa]\", fontsize=20)\n",
    "\n",
    "plt.subplots_adjust(hspace=0.5)\n",
    "plt.show()"
   ]
  },
  {
   "cell_type": "markdown",
   "id": "71f635eb-4d0b-40a9-a0d5-436d6d4bae7e",
   "metadata": {
    "tags": []
   },
   "source": [
    "##### Diagnosing Low T Issues"
   ]
  },
  {
   "cell_type": "code",
   "execution_count": 7,
   "id": "8e78f11a-a25c-4d15-bd86-5c5178bfe3b3",
   "metadata": {
    "tags": []
   },
   "outputs": [],
   "source": [
    "plasma_test = lambda T_eV, ni_cc: PLASMA(Z, A, ni_cc, T_eV, T_eV, Zbar=Z, find_βuee=True,\n",
    "                 βu_options = {'add_bridge':False,'bridge':'ocp', 'pseudopotential':False}, \n",
    "                 qsp_options= {'r_c':0,'which_Tij':'thermal'},\n",
    "                 hnc_options= {'kappa_multiscale':10, 'R_max':10,'N_bins':500, \n",
    "                               'h_max':2e2,'oz_method':'standard'},\n",
    "                 hnc_solve_options={'alpha_Picard':0.5, 'num_iterations':1e4})\n"
   ]
  },
  {
   "cell_type": "code",
   "execution_count": 8,
   "id": "e00b923b-dcaa-4e91-9e8d-706f8ae02ad9",
   "metadata": {
    "tags": []
   },
   "outputs": [
    {
     "name": "stdout",
     "output_type": "stream",
     "text": [
      "Te_in_eV: 0.172\n",
      "Ti_in_eV: 0.172\n"
     ]
    },
    {
     "name": "stderr",
     "output_type": "stream",
     "text": [
      "/home/zach/plasma/hnc/hnc/PIE.py:186: RuntimeWarning: overflow encountered in exp\n",
      "  integrand = lambda t: t*np.sin(sin_arg*t)/(1+np.exp(t**2-η))\n",
      "/home/zach/plasma/hnc/hnc/PIE.py:193: RuntimeWarning: overflow encountered in exp\n",
      "  f_of_k = 1/(  1+np.exp((dense_hnc.k_array/self.qsp.ri)**2/(2*m_e*self.qsp.Te) - η) )\n"
     ]
    },
    {
     "name": "stdout",
     "output_type": "stream",
     "text": [
      "0: Initial condition Total Error: 1.071e+01\n",
      "Exiting status 0, reverting to best index so far: 508\n",
      "Final iter:509, Total Error: 9.970e-09\n",
      "For ρ = 0.44 [g/cc], H=0.075 [AU], P=-195.60135656457246 [GPa], E=-21.13621493642142 [eV]\n"
     ]
    }
   ],
   "source": [
    "plasma_type=plasma_type=plasma_test\n",
    "\n",
    "ρ_gpercc = 0.44\n",
    "T_eV = 2000/eV_to_K\n",
    "\n",
    "ni_cc = ρ_gpercc/ (2*m_p*AU_to_g)\n",
    "plasma = plasma_type(T_eV, ni_cc)\n",
    "P_AU, E_AU  = plasma_output(plasma)\n",
    "info = np.array([T_eV*eV_to_AU, ni_cc/cm_to_AU**3, P_AU, E_AU ])\n",
    "H = Hugoniot_func(*info)\n",
    "print(f\"For ρ = {ρ_gpercc:.2f} [g/cc], H={H:.3f} [AU], P={P_AU*AU_to_Pa/1e9} [GPa], E={E_AU*AU_to_eV} [eV]\" )"
   ]
  },
  {
   "cell_type": "code",
   "execution_count": 9,
   "id": "55af1c09-5083-47ac-b35c-4133dff5e1cb",
   "metadata": {
    "tags": []
   },
   "outputs": [
    {
     "name": "stdout",
     "output_type": "stream",
     "text": [
      "Te_in_eV: 0.172\n",
      "Ti_in_eV: 0.172\n",
      "0: Initial condition Total Error: 1.087e+01\n",
      "Exiting status 0, reverting to best index so far: 520\n",
      "Final iter:521, Total Error: 9.774e-09\n",
      "For ρ = 0.47 [g/cc], H=0.102 [AU], P=-203.18168192395922 [GPa], E=-20.994903497646526 [eV]\n"
     ]
    }
   ],
   "source": [
    "plasma_type=plasma_test\n",
    "ρ_gpercc = 0.47\n",
    "T_eV = 2000/eV_to_K\n",
    "\n",
    "ni_cc = ρ_gpercc/ (2*m_p*AU_to_g)\n",
    "plasma = plasma_type(T_eV, ni_cc)\n",
    "P_AU, E_AU  = plasma_output(plasma)\n",
    "info = np.array([T_eV*eV_to_AU, ni_cc/cm_to_AU**3, P_AU, E_AU ])\n",
    "H = Hugoniot_func(*info)\n",
    "print(f\"For ρ = {ρ_gpercc:.2f} [g/cc], H={H:.3f} [AU], P={P_AU*AU_to_Pa/1e9} [GPa], E={E_AU*AU_to_eV} [eV]\" )"
   ]
  },
  {
   "cell_type": "code",
   "execution_count": 10,
   "id": "93f5e31b-4da9-4c45-9ea2-25a788755c7c",
   "metadata": {
    "tags": []
   },
   "outputs": [
    {
     "name": "stdout",
     "output_type": "stream",
     "text": [
      "Te_in_eV: 0.172\n",
      "Ti_in_eV: 0.172\n",
      "0: Initial condition Total Error: 1.317e+01\n",
      "Exiting status 0, reverting to best index so far: 682\n",
      "Final iter:683, Total Error: 9.814e-09\n",
      "For ρ = 1.10 [g/cc], H=0.434 [AU], P=-293.9458255406018 [GPa], E=-19.2168652469881 [eV]\n"
     ]
    }
   ],
   "source": [
    "plasma_type=plasma_type=plasma_test\n",
    "\n",
    "ρ_gpercc = 1.1\n",
    "T_eV = 2000/eV_to_K\n",
    "\n",
    "ni_cc = ρ_gpercc/ (2*m_p*AU_to_g)\n",
    "plasma = plasma_type(T_eV, ni_cc)\n",
    "P_AU, E_AU  = plasma_output(plasma)\n",
    "info = np.array([T_eV*eV_to_AU, ni_cc/cm_to_AU**3, P_AU, E_AU ])\n",
    "H = Hugoniot_func(*info)\n",
    "print(f\"For ρ = {ρ_gpercc:.2f} [g/cc], H={H:.3f} [AU], P={P_AU*AU_to_Pa/1e9} [GPa], E={E_AU*AU_to_eV} [eV]\" )"
   ]
  },
  {
   "cell_type": "code",
   "execution_count": null,
   "id": "d1d3ed1a-c288-4ea9-915b-9a07b5f144f8",
   "metadata": {},
   "outputs": [],
   "source": []
  },
  {
   "cell_type": "code",
   "execution_count": null,
   "id": "24633a71-c250-49ea-b2d7-f60c82363098",
   "metadata": {},
   "outputs": [],
   "source": []
  }
 ],
 "metadata": {
  "kernelspec": {
   "display_name": "Python 3 (ipykernel)",
   "language": "python",
   "name": "python3"
  },
  "language_info": {
   "codemirror_mode": {
    "name": "ipython",
    "version": 3
   },
   "file_extension": ".py",
   "mimetype": "text/x-python",
   "name": "python",
   "nbconvert_exporter": "python",
   "pygments_lexer": "ipython3",
   "version": "3.10.6"
  }
 },
 "nbformat": 4,
 "nbformat_minor": 5
}
