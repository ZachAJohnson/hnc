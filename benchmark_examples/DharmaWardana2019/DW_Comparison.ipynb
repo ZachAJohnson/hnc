{
 "cells": [
  {
   "cell_type": "markdown",
   "id": "d64f089f",
   "metadata": {
    "tags": []
   },
   "source": [
    "# Comparison to Dharma-Wardana Hydrogen 2019 paper\n",
    "[DOI: https://doi.org/10.1103/PhysRevB.100.155143](https://doi.org/10.1103/PhysRevB.100.155143)"
   ]
  },
  {
   "cell_type": "code",
   "execution_count": null,
   "id": "2e5c11ba",
   "metadata": {
    "scrolled": true
   },
   "outputs": [
    {
     "data": {
      "text/html": [
       "\n",
       "<style>\n",
       ".output_png {\n",
       "    display: table-cell;\n",
       "    text-align: center;\n",
       "    vertical-align: middle;\n",
       "}\n",
       "\n",
       "</style>\n"
      ],
      "text/plain": [
       "<IPython.core.display.HTML object>"
      ]
     },
     "execution_count": 1,
     "metadata": {},
     "output_type": "execute_result"
    }
   ],
   "source": [
    "import numpy as np\n",
    "import matplotlib.pyplot as plt\n",
    "from pandas import read_csv\n",
    "\n",
    "from hnc.hnc.PIE import Plasma_of_Ions_and_Electrons as PLASMA\n",
    "\n",
    "from hnc.hnc.constants import *\n",
    "from hnc.hnc.misc import n_from_rs\n",
    "\n",
    "prop_cycle = plt.rcParams['axes.prop_cycle']\n",
    "colors = prop_cycle.by_key()['color']\n",
    "                \n",
    "from IPython.core.display import HTML\n",
    "HTML(\"\"\"\n",
    "<style>\n",
    ".output_png {\n",
    "    display: table-cell;\n",
    "    text-align: center;\n",
    "    vertical-align: middle;\n",
    "}\n",
    "\n",
    "</style>\n",
    "\"\"\")\n"
   ]
  },
  {
   "cell_type": "markdown",
   "id": "bbea7b15",
   "metadata": {},
   "source": [
    "### Set Parameters in Paper and Plot"
   ]
  },
  {
   "cell_type": "code",
   "execution_count": null,
   "id": "4d0a7939",
   "metadata": {
    "tags": []
   },
   "outputs": [],
   "source": [
    "name='Hydrogen'\n",
    "Z, A = 1, 1 #Hydrogen\n",
    "\n",
    "Te_eV = 0.34 # eV\n",
    "Ti_eV = Te_eV\n",
    "ri_AU = 0.4473 # AU\n",
    "ri_cm = ri_AU/cm_to_AU\n",
    "ni_cc = n_from_rs(ri_cm)\n",
    "\n",
    "def g_comparison(ax):\n",
    "    gee_data = read_csv('./DW_gee.txt', header=1, delim_whitespace=True)\n",
    "    gei_data = read_csv('./DW_gei.txt', header=1, delim_whitespace=True)\n",
    "    gii_data = read_csv('./DW_gii.txt', header=1, delim_whitespace=True)    \n",
    "    text = r\"{0}\\\\$n_i= ${1:.2e}[cc]\\\\ $T$ = {2:.3f} [eV]\\\\ $r_s$ = {3:.3f} \".format(name,ni_cc, Te_eV, ri_AU)\n",
    "    props = dict(boxstyle='round', facecolor='w')\n",
    "    ax.text(0.025,0.97, text, fontsize=15, transform=ax.transAxes, verticalalignment='top', bbox=props)\n",
    "    \n",
    "    ax.plot(np.array(gee_data['r/ri'])*ri_AU, gee_data['gee'], 'k^-', label=r\"$g_{ee}$ DW\")\n",
    "    ax.plot(np.array(gei_data['r/ri'])*ri_AU, gei_data['gei'], 'k.-', label=r\"$g_{ei}$ DW\")\n",
    "    ax.plot(np.array(gii_data['r/ri'])*ri_AU, gii_data['gii'], 'ko-', label=r\"$g_{ii}$ DW\")\n",
    "    \n",
    "    ax.set_ylabel(r\"$g_{ij}$\", fontsize=20)\n",
    "    ax.set_xlabel(r\"$r$ [AU]\", fontsize=20)\n",
    "    ax.tick_params(labelsize=15)\n",
    "    ax.legend(fontsize=14, loc='upper right')\n",
    "    \n",
    "fig, ax = plt.subplots(figsize=(8,6))\n",
    "g_comparison(ax)"
   ]
  },
  {
   "cell_type": "markdown",
   "id": "840df6a9",
   "metadata": {},
   "source": [
    "#### Run Ornstein-Zernike Closure"
   ]
  },
  {
   "cell_type": "code",
   "execution_count": null,
   "id": "4c2ab14a",
   "metadata": {},
   "outputs": [],
   "source": [
    "# c_s_k_guess = plasma_oz.hnc.c_s_k_matrix.copy()"
   ]
  },
  {
   "cell_type": "code",
   "execution_count": null,
   "id": "25dd3863",
   "metadata": {
    "scrolled": true
   },
   "outputs": [
    {
     "name": "stdout",
     "output_type": "stream",
     "text": [
      "Te_in_eV: 1.000\n",
      "Ti_in_eV: 1.000\n",
      "0: Initial condition Total Error: 1.038e+01\n",
      "Exiting status 0, reverting to best index so far: 762\n",
      "Final iter:763, Total Error: 9.776e-09\n"
     ]
    }
   ],
   "source": [
    "plasma_oz_geom = PLASMA(Z, A, ni_cc, Ti_eV, Te_eV, Zbar=Z,\n",
    "                 βu_options = {'add_bridge':False,'bridge':'ocp', 'pseudopotential':False}, \n",
    "                 qsp_options= {'r_c':0,'which_Tij':'geometric'},\n",
    "                 hnc_options= {'kappa_multiscale':10, 'R_max':20,'N_bins':1000, \n",
    "                               'h_max':2e2,'oz_method':'standard'},\n",
    "                 hnc_solve_options={'alpha_Picard':0.5, 'num_iterations':1e4})\n",
    "\n",
    "plasma_oz_geom.run_hnc()#c_s_k_guess = c_s_k_guess)"
   ]
  },
  {
   "cell_type": "code",
   "execution_count": null,
   "id": "741257c4",
   "metadata": {},
   "outputs": [
    {
     "name": "stdout",
     "output_type": "stream",
     "text": [
      "Te_in_eV: 1.000\n",
      "Ti_in_eV: 1.000\n",
      "0: Initial condition Total Error: 1.035e+01\n",
      "Exiting status 0, reverting to best index so far: 775\n",
      "Final iter:776, Total Error: 9.996e-09\n"
     ]
    }
   ],
   "source": [
    "plasma_oz_th = PLASMA(Z, A, ni_cc, Ti_eV, Te_eV, Zbar=Z,\n",
    "                 βu_options = {'add_bridge':False,'bridge':'ocp', 'pseudopotential':False}, \n",
    "                 qsp_options= {'r_c':0,'which_Tij':'thermal'},\n",
    "                 hnc_options= {'kappa_multiscale':10, 'R_max':20,'N_bins':1000, \n",
    "                               'h_max':2e2,'oz_method':'standard'},\n",
    "                 hnc_solve_options={'alpha_Picard':0.5, 'num_iterations':1e4})\n",
    "\n",
    "plasma_oz_th.run_hnc()#c_s_k_guess = c_s_k_guess)"
   ]
  },
  {
   "cell_type": "code",
   "execution_count": null,
   "id": "13b897ef-b712-46e3-99cc-bd0c1a1abec8",
   "metadata": {},
   "outputs": [
    {
     "name": "stdout",
     "output_type": "stream",
     "text": [
      "Te_in_eV: 1.000\n",
      "Ti_in_eV: 1.000\n",
      "0: Initial condition Total Error: 1.038e+01\n"
     ]
    },
    {
     "ename": "KeyboardInterrupt",
     "evalue": "",
     "output_type": "error",
     "traceback": [
      "\u001b[0;31m---------------------------------------------------------------------------\u001b[0m",
      "\u001b[0;31mKeyboardInterrupt\u001b[0m                         Traceback (most recent call last)",
      "\u001b[0;32m/tmp/ipykernel_36576/1881623309.py\u001b[0m in \u001b[0;36m<module>\u001b[0;34m\u001b[0m\n\u001b[1;32m      6\u001b[0m                  hnc_solve_options={'alpha_Picard':0.5, 'num_iterations':1e4})\n\u001b[1;32m      7\u001b[0m \u001b[0;34m\u001b[0m\u001b[0m\n\u001b[0;32m----> 8\u001b[0;31m \u001b[0mplasma_oz_geom_βP\u001b[0m\u001b[0;34m.\u001b[0m\u001b[0mrun_hnc\u001b[0m\u001b[0;34m(\u001b[0m\u001b[0;34m)\u001b[0m\u001b[0;31m#c_s_k_guess = c_s_k_guess)\u001b[0m\u001b[0;34m\u001b[0m\u001b[0;34m\u001b[0m\u001b[0m\n\u001b[0m",
      "\u001b[0;32m~/plasma/hnc/hnc/PIE.py\u001b[0m in \u001b[0;36mrun_hnc\u001b[0;34m(self, hnc, qsp, c_s_k_guess)\u001b[0m\n\u001b[1;32m    181\u001b[0m                         \u001b[0mhnc\u001b[0m\u001b[0;34m.\u001b[0m\u001b[0mc_s_k_matrix\u001b[0m \u001b[0;34m*=\u001b[0m \u001b[0;36m0\u001b[0m\u001b[0;34m\u001b[0m\u001b[0;34m\u001b[0m\u001b[0m\n\u001b[1;32m    182\u001b[0m \u001b[0;34m\u001b[0m\u001b[0m\n\u001b[0;32m--> 183\u001b[0;31m                 \u001b[0mconverged\u001b[0m \u001b[0;34m=\u001b[0m \u001b[0mhnc\u001b[0m\u001b[0;34m.\u001b[0m\u001b[0mHNC_solve\u001b[0m\u001b[0;34m(\u001b[0m\u001b[0;34m**\u001b[0m\u001b[0mself\u001b[0m\u001b[0;34m.\u001b[0m\u001b[0mhnc_solve_options\u001b[0m\u001b[0;34m)\u001b[0m\u001b[0;34m\u001b[0m\u001b[0;34m\u001b[0m\u001b[0m\n\u001b[0m\u001b[1;32m    184\u001b[0m \u001b[0;34m\u001b[0m\u001b[0m\n\u001b[1;32m    185\u001b[0m                 \u001b[0mhnc\u001b[0m\u001b[0;34m.\u001b[0m\u001b[0minvert_HNC_OZ\u001b[0m\u001b[0;34m(\u001b[0m\u001b[0;34m[\u001b[0m\u001b[0;36m1\u001b[0m\u001b[0;34m]\u001b[0m\u001b[0;34m)\u001b[0m\u001b[0;34m\u001b[0m\u001b[0;34m\u001b[0m\u001b[0m\n",
      "\u001b[0;32m~/plasma/hnc/hnc/hnc.py\u001b[0m in \u001b[0;36mHNC_solve\u001b[0;34m(self, alpha_method, num_iterations, tol, iters_to_wait, iters_to_use, alpha_Ng, alpha_Picard, alpha_oz, iters_to_check, verbose)\u001b[0m\n\u001b[1;32m    591\u001b[0m             \u001b[0mold_c_s_k_matrix\u001b[0m \u001b[0;34m=\u001b[0m \u001b[0mself\u001b[0m\u001b[0;34m.\u001b[0m\u001b[0mc_s_k_matrix\u001b[0m\u001b[0;34m.\u001b[0m\u001b[0mcopy\u001b[0m\u001b[0;34m(\u001b[0m\u001b[0;34m)\u001b[0m\u001b[0;34m\u001b[0m\u001b[0;34m\u001b[0m\u001b[0m\n\u001b[1;32m    592\u001b[0m             \u001b[0;32mif\u001b[0m \u001b[0miteration\u001b[0m \u001b[0;34m<\u001b[0m \u001b[0miters_to_wait\u001b[0m\u001b[0;34m:\u001b[0m \u001b[0;31m#Picard at first\u001b[0m\u001b[0;34m\u001b[0m\u001b[0;34m\u001b[0m\u001b[0m\n\u001b[0;32m--> 593\u001b[0;31m                 \u001b[0mguess_c_s_k_matrix\u001b[0m \u001b[0;34m=\u001b[0m \u001b[0mself\u001b[0m\u001b[0;34m.\u001b[0m\u001b[0mguess_c_s_k_matrix\u001b[0m\u001b[0;34m(\u001b[0m\u001b[0mself\u001b[0m\u001b[0;34m.\u001b[0m\u001b[0mc_s_k_matrix\u001b[0m\u001b[0;34m)\u001b[0m\u001b[0;34m\u001b[0m\u001b[0;34m\u001b[0m\u001b[0m\n\u001b[0m\u001b[1;32m    594\u001b[0m                 \u001b[0mself\u001b[0m\u001b[0;34m.\u001b[0m\u001b[0mc_s_k_matrix\u001b[0m \u001b[0;34m=\u001b[0m \u001b[0mself\u001b[0m\u001b[0;34m.\u001b[0m\u001b[0mPicard_c_s_k\u001b[0m\u001b[0;34m(\u001b[0m\u001b[0mself\u001b[0m\u001b[0;34m.\u001b[0m\u001b[0mc_s_k_matrix\u001b[0m\u001b[0;34m,\u001b[0m \u001b[0mguess_c_s_k_matrix\u001b[0m\u001b[0;34m,\u001b[0m \u001b[0malpha\u001b[0m\u001b[0;34m=\u001b[0m\u001b[0malpha_Picard\u001b[0m \u001b[0;34m)\u001b[0m\u001b[0;34m\u001b[0m\u001b[0;34m\u001b[0m\u001b[0m\n\u001b[1;32m    595\u001b[0m             \u001b[0;32melif\u001b[0m \u001b[0miteration\u001b[0m \u001b[0;34m==\u001b[0m \u001b[0miters_to_wait\u001b[0m\u001b[0;34m:\u001b[0m\u001b[0;34m\u001b[0m\u001b[0;34m\u001b[0m\u001b[0m\n",
      "\u001b[0;32m~/plasma/hnc/hnc/hnc.py\u001b[0m in \u001b[0;36mguess_c_s_k_matrix\u001b[0;34m(self, c_s_k_matrix)\u001b[0m\n\u001b[1;32m    496\u001b[0m \u001b[0;34m\u001b[0m\u001b[0m\n\u001b[1;32m    497\u001b[0m     \u001b[0;32mdef\u001b[0m \u001b[0mguess_c_s_k_matrix\u001b[0m\u001b[0;34m(\u001b[0m\u001b[0mself\u001b[0m\u001b[0;34m,\u001b[0m \u001b[0mc_s_k_matrix\u001b[0m\u001b[0;34m)\u001b[0m\u001b[0;34m:\u001b[0m\u001b[0;34m\u001b[0m\u001b[0;34m\u001b[0m\u001b[0m\n\u001b[0;32m--> 498\u001b[0;31m         \u001b[0mγs_k_matrix\u001b[0m \u001b[0;34m=\u001b[0m \u001b[0mself\u001b[0m\u001b[0;34m.\u001b[0m\u001b[0mget_γs_k_matrix\u001b[0m\u001b[0;34m(\u001b[0m\u001b[0mc_s_k_matrix\u001b[0m\u001b[0;34m)\u001b[0m                           \u001b[0;31m# 1. c_k, u_l_k -> γ_k   (Definition)\u001b[0m\u001b[0;34m\u001b[0m\u001b[0;34m\u001b[0m\u001b[0m\n\u001b[0m\u001b[1;32m    499\u001b[0m \u001b[0;34m\u001b[0m\u001b[0m\n\u001b[1;32m    500\u001b[0m         \u001b[0mγs_r_matrix\u001b[0m \u001b[0;34m=\u001b[0m \u001b[0mself\u001b[0m\u001b[0;34m.\u001b[0m\u001b[0mFT_k_2_r_matrix\u001b[0m\u001b[0;34m(\u001b[0m\u001b[0mγs_k_matrix\u001b[0m\u001b[0;34m)\u001b[0m \u001b[0;31m# γ_k        -> γ_r   (FT)\u001b[0m\u001b[0;34m\u001b[0m\u001b[0;34m\u001b[0m\u001b[0m\n",
      "\u001b[0;32m~/plasma/hnc/hnc/hnc.py\u001b[0m in \u001b[0;36mget_γs_k_matrix\u001b[0;34m(self, c_s_k_matrix)\u001b[0m\n\u001b[1;32m    222\u001b[0m     \u001b[0;32mdef\u001b[0m \u001b[0mget_γs_k_matrix\u001b[0m\u001b[0;34m(\u001b[0m\u001b[0mself\u001b[0m\u001b[0;34m,\u001b[0m \u001b[0mc_s_k_matrix\u001b[0m\u001b[0;34m)\u001b[0m\u001b[0;34m:\u001b[0m\u001b[0;34m\u001b[0m\u001b[0;34m\u001b[0m\u001b[0m\n\u001b[1;32m    223\u001b[0m         \u001b[0;32mif\u001b[0m \u001b[0mself\u001b[0m\u001b[0;34m.\u001b[0m\u001b[0moz_method\u001b[0m\u001b[0;34m==\u001b[0m\u001b[0;34m'standard'\u001b[0m\u001b[0;34m:\u001b[0m\u001b[0;34m\u001b[0m\u001b[0;34m\u001b[0m\u001b[0m\n\u001b[0;32m--> 224\u001b[0;31m             \u001b[0mγs_k_matrix\u001b[0m \u001b[0;34m=\u001b[0m \u001b[0mself\u001b[0m\u001b[0;34m.\u001b[0m\u001b[0mget_γs_k_matrix_standard\u001b[0m\u001b[0;34m(\u001b[0m\u001b[0mc_s_k_matrix\u001b[0m\u001b[0;34m)\u001b[0m\u001b[0;34m\u001b[0m\u001b[0;34m\u001b[0m\u001b[0m\n\u001b[0m\u001b[1;32m    225\u001b[0m         \u001b[0;32melif\u001b[0m \u001b[0mself\u001b[0m\u001b[0;34m.\u001b[0m\u001b[0moz_method\u001b[0m \u001b[0;32min\u001b[0m \u001b[0;34m[\u001b[0m\u001b[0;34m'svt'\u001b[0m\u001b[0;34m,\u001b[0m\u001b[0;34m'SVT'\u001b[0m\u001b[0;34m]\u001b[0m\u001b[0;34m:\u001b[0m\u001b[0;34m\u001b[0m\u001b[0;34m\u001b[0m\u001b[0m\n\u001b[1;32m    226\u001b[0m             \u001b[0mγs_k_matrix\u001b[0m \u001b[0;34m=\u001b[0m \u001b[0mself\u001b[0m\u001b[0;34m.\u001b[0m\u001b[0mget_γs_k_matrix_SVT\u001b[0m\u001b[0;34m(\u001b[0m\u001b[0mc_s_k_matrix\u001b[0m\u001b[0;34m)\u001b[0m\u001b[0;34m\u001b[0m\u001b[0;34m\u001b[0m\u001b[0m\n",
      "\u001b[0;32m~/plasma/hnc/hnc/hnc.py\u001b[0m in \u001b[0;36mget_γs_k_matrix_standard\u001b[0;34m(self, c_s_k_matrix)\u001b[0m\n\u001b[1;32m    234\u001b[0m         \u001b[0mc_k_matrix\u001b[0m \u001b[0;34m=\u001b[0m \u001b[0mc_s_k_matrix\u001b[0m \u001b[0;34m-\u001b[0m \u001b[0mself\u001b[0m\u001b[0;34m.\u001b[0m\u001b[0mβu_l_k_matrix\u001b[0m\u001b[0;34m\u001b[0m\u001b[0;34m\u001b[0m\u001b[0m\n\u001b[1;32m    235\u001b[0m         \u001b[0mC_matrix\u001b[0m \u001b[0;34m=\u001b[0m \u001b[0mself\u001b[0m\u001b[0;34m.\u001b[0m\u001b[0mrho\u001b[0m\u001b[0;34m[\u001b[0m\u001b[0mnp\u001b[0m\u001b[0;34m.\u001b[0m\u001b[0mnewaxis\u001b[0m\u001b[0;34m,\u001b[0m\u001b[0;34m:\u001b[0m\u001b[0;34m,\u001b[0m\u001b[0mnp\u001b[0m\u001b[0;34m.\u001b[0m\u001b[0mnewaxis\u001b[0m\u001b[0;34m]\u001b[0m \u001b[0;34m*\u001b[0m \u001b[0mc_k_matrix\u001b[0m\u001b[0;34m\u001b[0m\u001b[0;34m\u001b[0m\u001b[0m\n\u001b[0;32m--> 236\u001b[0;31m         \u001b[0mdenominator\u001b[0m \u001b[0;34m=\u001b[0m \u001b[0mself\u001b[0m\u001b[0;34m.\u001b[0m\u001b[0minvert_matrix\u001b[0m\u001b[0;34m(\u001b[0m\u001b[0mself\u001b[0m\u001b[0;34m.\u001b[0m\u001b[0mI\u001b[0m\u001b[0;34m[\u001b[0m\u001b[0;34m:\u001b[0m\u001b[0;34m,\u001b[0m\u001b[0;34m:\u001b[0m\u001b[0;34m,\u001b[0m\u001b[0mnp\u001b[0m\u001b[0;34m.\u001b[0m\u001b[0mnewaxis\u001b[0m\u001b[0;34m]\u001b[0m \u001b[0;34m-\u001b[0m \u001b[0mC_matrix\u001b[0m\u001b[0;34m)\u001b[0m\u001b[0;34m\u001b[0m\u001b[0;34m\u001b[0m\u001b[0m\n\u001b[0m\u001b[1;32m    237\u001b[0m         \u001b[0mnumerator\u001b[0m   \u001b[0;34m=\u001b[0m \u001b[0mself\u001b[0m\u001b[0;34m.\u001b[0m\u001b[0mA_times_B\u001b[0m\u001b[0;34m(\u001b[0m\u001b[0mC_matrix\u001b[0m\u001b[0;34m,\u001b[0m \u001b[0mc_s_k_matrix\u001b[0m \u001b[0;34m)\u001b[0m \u001b[0;34m-\u001b[0m  \u001b[0mself\u001b[0m\u001b[0;34m.\u001b[0m\u001b[0mβu_l_k_matrix\u001b[0m\u001b[0;34m\u001b[0m\u001b[0;34m\u001b[0m\u001b[0m\n\u001b[1;32m    238\u001b[0m         \u001b[0mγs_k_matrix\u001b[0m \u001b[0;34m=\u001b[0m \u001b[0mself\u001b[0m\u001b[0;34m.\u001b[0m\u001b[0mA_times_B\u001b[0m\u001b[0;34m(\u001b[0m\u001b[0mdenominator\u001b[0m\u001b[0;34m,\u001b[0m \u001b[0mnumerator\u001b[0m \u001b[0;34m)\u001b[0m\u001b[0;34m\u001b[0m\u001b[0;34m\u001b[0m\u001b[0m\n",
      "\u001b[0;32m~/plasma/hnc/hnc/hnc.py\u001b[0m in \u001b[0;36minvert_matrix\u001b[0;34m(self, A_matrix)\u001b[0m\n\u001b[1;32m    273\u001b[0m \u001b[0;34m\u001b[0m\u001b[0m\n\u001b[1;32m    274\u001b[0m         \u001b[0;32mfor\u001b[0m \u001b[0mk_index\u001b[0m \u001b[0;32min\u001b[0m \u001b[0mrange\u001b[0m\u001b[0;34m(\u001b[0m\u001b[0mself\u001b[0m\u001b[0;34m.\u001b[0m\u001b[0mN_bins\u001b[0m\u001b[0;34m)\u001b[0m\u001b[0;34m:\u001b[0m\u001b[0;34m\u001b[0m\u001b[0;34m\u001b[0m\u001b[0m\n\u001b[0;32m--> 275\u001b[0;31m             \u001b[0mA_inverse\u001b[0m\u001b[0;34m[\u001b[0m\u001b[0;34m:\u001b[0m\u001b[0;34m,\u001b[0m\u001b[0;34m:\u001b[0m\u001b[0;34m,\u001b[0m \u001b[0mk_index\u001b[0m\u001b[0;34m]\u001b[0m \u001b[0;34m=\u001b[0m \u001b[0mnp\u001b[0m\u001b[0;34m.\u001b[0m\u001b[0mlinalg\u001b[0m\u001b[0;34m.\u001b[0m\u001b[0minv\u001b[0m\u001b[0;34m(\u001b[0m\u001b[0mA_matrix\u001b[0m\u001b[0;34m[\u001b[0m\u001b[0;34m:\u001b[0m\u001b[0;34m,\u001b[0m\u001b[0;34m:\u001b[0m\u001b[0;34m,\u001b[0m\u001b[0mk_index\u001b[0m\u001b[0;34m]\u001b[0m\u001b[0;34m)\u001b[0m\u001b[0;34m\u001b[0m\u001b[0;34m\u001b[0m\u001b[0m\n\u001b[0m\u001b[1;32m    276\u001b[0m \u001b[0;34m\u001b[0m\u001b[0m\n\u001b[1;32m    277\u001b[0m         \u001b[0;32mreturn\u001b[0m \u001b[0mA_inverse\u001b[0m\u001b[0;34m\u001b[0m\u001b[0;34m\u001b[0m\u001b[0m\n",
      "\u001b[0;32m~/anaconda3/lib/python3.9/site-packages/numpy/core/overrides.py\u001b[0m in \u001b[0;36minv\u001b[0;34m(*args, **kwargs)\u001b[0m\n",
      "\u001b[0;32m~/anaconda3/lib/python3.9/site-packages/numpy/linalg/linalg.py\u001b[0m in \u001b[0;36minv\u001b[0;34m(a)\u001b[0m\n\u001b[1;32m    550\u001b[0m     \u001b[0msignature\u001b[0m \u001b[0;34m=\u001b[0m \u001b[0;34m'D->D'\u001b[0m \u001b[0;32mif\u001b[0m \u001b[0misComplexType\u001b[0m\u001b[0;34m(\u001b[0m\u001b[0mt\u001b[0m\u001b[0;34m)\u001b[0m \u001b[0;32melse\u001b[0m \u001b[0;34m'd->d'\u001b[0m\u001b[0;34m\u001b[0m\u001b[0;34m\u001b[0m\u001b[0m\n\u001b[1;32m    551\u001b[0m     \u001b[0mextobj\u001b[0m \u001b[0;34m=\u001b[0m \u001b[0mget_linalg_error_extobj\u001b[0m\u001b[0;34m(\u001b[0m\u001b[0m_raise_linalgerror_singular\u001b[0m\u001b[0;34m)\u001b[0m\u001b[0;34m\u001b[0m\u001b[0;34m\u001b[0m\u001b[0m\n\u001b[0;32m--> 552\u001b[0;31m     \u001b[0mainv\u001b[0m \u001b[0;34m=\u001b[0m \u001b[0m_umath_linalg\u001b[0m\u001b[0;34m.\u001b[0m\u001b[0minv\u001b[0m\u001b[0;34m(\u001b[0m\u001b[0ma\u001b[0m\u001b[0;34m,\u001b[0m \u001b[0msignature\u001b[0m\u001b[0;34m=\u001b[0m\u001b[0msignature\u001b[0m\u001b[0;34m,\u001b[0m \u001b[0mextobj\u001b[0m\u001b[0;34m=\u001b[0m\u001b[0mextobj\u001b[0m\u001b[0;34m)\u001b[0m\u001b[0;34m\u001b[0m\u001b[0;34m\u001b[0m\u001b[0m\n\u001b[0m\u001b[1;32m    553\u001b[0m     \u001b[0;32mreturn\u001b[0m \u001b[0mwrap\u001b[0m\u001b[0;34m(\u001b[0m\u001b[0mainv\u001b[0m\u001b[0;34m.\u001b[0m\u001b[0mastype\u001b[0m\u001b[0;34m(\u001b[0m\u001b[0mresult_t\u001b[0m\u001b[0;34m,\u001b[0m \u001b[0mcopy\u001b[0m\u001b[0;34m=\u001b[0m\u001b[0;32mFalse\u001b[0m\u001b[0;34m)\u001b[0m\u001b[0;34m)\u001b[0m\u001b[0;34m\u001b[0m\u001b[0;34m\u001b[0m\u001b[0m\n\u001b[1;32m    554\u001b[0m \u001b[0;34m\u001b[0m\u001b[0m\n",
      "\u001b[0;31mKeyboardInterrupt\u001b[0m: "
     ]
    }
   ],
   "source": [
    "plasma_oz_geom_βP = PLASMA(Z, A, ni_cc, Ti_eV, Te_eV, Zbar=Z, find_βuee=True,\n",
    "                 βu_options = {'add_bridge':False,'bridge':'ocp', 'pseudopotential':False}, \n",
    "                 qsp_options= {'r_c':0,'which_Tij':'geometric'},\n",
    "                 hnc_options= {'kappa_multiscale':10, 'R_max':20,'N_bins':1000, \n",
    "                               'h_max':2e2,'oz_method':'standard'},\n",
    "                 hnc_solve_options={'alpha_Picard':0.5, 'num_iterations':1e4})\n",
    "\n",
    "plasma_oz_geom_βP.run_hnc()#c_s_k_guess = c_s_k_guess)"
   ]
  },
  {
   "cell_type": "markdown",
   "id": "cd7e9697",
   "metadata": {},
   "source": [
    "#### Run SVT Closure"
   ]
  },
  {
   "cell_type": "code",
   "execution_count": null,
   "id": "4ca7fd3f",
   "metadata": {
    "scrolled": true
   },
   "outputs": [],
   "source": [
    "plasma_svt = PLASMA(Z, A, ni_cc, Ti_eV, Te_eV, Zbar=Z,\n",
    "                 βu_options = {'add_bridge':False,'bridge':'ocp', 'pseudopotential':False}, \n",
    "                 qsp_options= {'r_c':0},\n",
    "                 hnc_options= {'kappa_multiscale':10, 'R_max':20,'N_bins':1000, \n",
    "                               'h_max':2e2,'oz_method':'svt'},\n",
    "                 hnc_solve_options={'alpha_Picard':0.5,'num_iterations':1e4})\n",
    "\n",
    "plasma_svt.run_hnc()#c_s_k_guess = plasma_oz.hnc.c_s_k_matrix)"
   ]
  },
  {
   "cell_type": "markdown",
   "id": "054e2de5",
   "metadata": {},
   "source": [
    "#### See How Ion By Itself Does"
   ]
  },
  {
   "cell_type": "code",
   "execution_count": null,
   "id": "7fc7bf4d",
   "metadata": {},
   "outputs": [],
   "source": [
    "plasma_svt.run_onlyion_hnc()"
   ]
  },
  {
   "cell_type": "markdown",
   "id": "666d8d43",
   "metadata": {},
   "source": [
    "## Compare to Dharma-Wardana "
   ]
  },
  {
   "cell_type": "code",
   "execution_count": null,
   "id": "73aea458",
   "metadata": {},
   "outputs": [],
   "source": [
    "fig, ax = plt.subplots(figsize=(8,6), facecolor='w')\n",
    "fig.suptitle(\"No Bridge\", fontsize=25, y=0.95)\n",
    "\n",
    "ax.plot(plasma_oz_th.hnc.r_array*ri_AU, plasma_oz_th.hnc.h_r_matrix[1,1]+1, color=colors[0], label=r'$g_{ij}$ OZ-th')\n",
    "ax.plot(plasma_oz_th.hnc.r_array*ri_AU, plasma_oz_th.hnc.h_r_matrix[1,0]+1, color=colors[0])#, label=r'$g_{ei}$ OZ-th')\n",
    "ax.plot(plasma_oz_th.hnc.r_array*ri_AU, plasma_oz_th.hnc.h_r_matrix[0,0]+1, color=colors[0])#, label=r'$g_{ii}$ OZ-th')\n",
    "\n",
    "ax.plot(plasma_oz_th.hnc.r_array*ri_AU, plasma_oz_geom.hnc.h_r_matrix[1,1]+1,':', color=colors[1], linewidth=3, label=r'$g_{ij}$ OZ-g')\n",
    "ax.plot(plasma_oz_th.hnc.r_array*ri_AU, plasma_oz_geom.hnc.h_r_matrix[1,0]+1,':', color=colors[1], linewidth=3)#, label=r'$g_{ei}$ OZ-g')\n",
    "ax.plot(plasma_oz_th.hnc.r_array*ri_AU, plasma_oz_geom.hnc.h_r_matrix[0,0]+1,':', color=colors[1], linewidth=3)#, label=r'$g_{ii}$ OZ-g')\n",
    "\n",
    "ax.plot(plasma_oz_th.hnc.r_array*ri_AU, plasma_oz_geom_βP.hnc.h_r_matrix[1,1]+1,'-.', color=colors[2], label=r'$g_{ij}$ OZ-g $\\beta P$')\n",
    "ax.plot(plasma_oz_th.hnc.r_array*ri_AU, plasma_oz_geom_βP.hnc.h_r_matrix[1,0]+1,'-.', color=colors[2])#, label=r'$g_{ei}$ OZ-g')\n",
    "ax.plot(plasma_oz_th.hnc.r_array*ri_AU, plasma_oz_geom_βP.hnc.h_r_matrix[0,0]+1,'-.', color=colors[2])#, label=r'$g_{ii}$ OZ-g')\n",
    "\n",
    "ax.plot(plasma_svt.hnc.r_array*ri_AU, plasma_svt.hnc.h_r_matrix[1,1]+1, '--', color=colors[3], label=r'$g_{ij}$ SVT')\n",
    "ax.plot(plasma_svt.hnc.r_array*ri_AU, plasma_svt.hnc.h_r_matrix[1,0]+1, '--', color=colors[3])#, label=r'$g_{ei}$ SVT')\n",
    "ax.plot(plasma_svt.hnc.r_array*ri_AU, plasma_svt.hnc.h_r_matrix[0,0]+1, '--', color=colors[3])#, label=r'$g_{ii}$ SVT')\n",
    "\n",
    "ax.plot(plasma_svt.hnc.r_array*ri_AU, plasma_svt.onlyion_hnc.h_r_matrix[0,0]+1, 'k--', label=r'$g_{ii}$ Only Ion')\n",
    "\n",
    "g_comparison(ax)\n",
    "ax.set_xlim(0,ri_AU*5)\n"
   ]
  },
  {
   "cell_type": "markdown",
   "id": "58450022-7e93-4de8-b6e2-694450d4eb25",
   "metadata": {},
   "source": [
    "## To get better agreement of $g_{ee}$\n",
    "\n",
    "#### Ideas:\n",
    "> * Must be βv_ee somehow\n",
    "> * Switch method of computing βP_ee to DST instead of explicit\n",
    "> * See if Deutsch is used for βv_ee or something else. See two notebooks named \"QSP_HNC_Two_Electrons\" and \"QSP_HNC_Two_Electron_Plasma\""
   ]
  },
  {
   "cell_type": "code",
   "execution_count": null,
   "id": "71875c45-89d9-49cb-bf35-1036233a7ba4",
   "metadata": {},
   "outputs": [],
   "source": []
  }
 ],
 "metadata": {
  "kernelspec": {
   "display_name": "Python 3 (ipykernel)",
   "language": "python",
   "name": "python3"
  },
  "language_info": {
   "codemirror_mode": {
    "name": "ipython",
    "version": 3
   },
   "file_extension": ".py",
   "mimetype": "text/x-python",
   "name": "python",
   "nbconvert_exporter": "python",
   "pygments_lexer": "ipython3",
   "version": "3.9.13"
  }
 },
 "nbformat": 4,
 "nbformat_minor": 5
}
