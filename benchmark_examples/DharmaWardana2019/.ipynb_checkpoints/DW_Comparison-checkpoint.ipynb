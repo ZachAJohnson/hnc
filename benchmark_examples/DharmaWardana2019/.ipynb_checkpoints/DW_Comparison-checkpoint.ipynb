{
 "cells": [
  {
   "cell_type": "markdown",
   "id": "d64f089f",
   "metadata": {},
   "source": [
    "# Comparison to Dharma-Wardana Hydrogen 2019 paper\n",
    "[DOI: https://doi.org/10.1103/PhysRevB.100.155143](https://doi.org/10.1103/PhysRevB.100.155143)"
   ]
  },
  {
   "cell_type": "code",
   "execution_count": 1,
   "id": "2e5c11ba",
   "metadata": {
    "scrolled": true
   },
   "outputs": [
    {
     "data": {
      "text/html": [
       "\n",
       "<style>\n",
       ".output_png {\n",
       "    display: table-cell;\n",
       "    text-align: center;\n",
       "    vertical-align: middle;\n",
       "}\n",
       "\n",
       "</style>\n"
      ],
      "text/plain": [
       "<IPython.core.display.HTML object>"
      ]
     },
     "execution_count": 1,
     "metadata": {},
     "output_type": "execute_result"
    }
   ],
   "source": [
    "import numpy as np\n",
    "import matplotlib.pyplot as plt\n",
    "from pandas import read_csv\n",
    "\n",
    "from hnc.hnc.PIE import Plasma_of_Ions_and_Electrons as PLASMA\n",
    "\n",
    "from hnc.hnc.constants import *\n",
    "from hnc.hnc.misc import n_from_rs\n",
    "\n",
    "prop_cycle = plt.rcParams['axes.prop_cycle']\n",
    "colors = prop_cycle.by_key()['color']\n",
    "                \n",
    "from IPython.core.display import HTML\n",
    "HTML(\"\"\"\n",
    "<style>\n",
    ".output_png {\n",
    "    display: table-cell;\n",
    "    text-align: center;\n",
    "    vertical-align: middle;\n",
    "}\n",
    "\n",
    "</style>\n",
    "\"\"\")\n"
   ]
  },
  {
   "cell_type": "markdown",
   "id": "bbea7b15",
   "metadata": {},
   "source": [
    "### Set Parameters in Paper and Plot"
   ]
  },
  {
   "cell_type": "code",
   "execution_count": 22,
   "id": "4d0a7939",
   "metadata": {
    "scrolled": true
   },
   "outputs": [
    {
     "data": {
      "image/png": "[encoded data removed]",
      "text/plain": [
       "<Figure size 576x432 with 1 Axes>"
      ]
     },
     "metadata": {
      "needs_background": "light"
     },
     "output_type": "display_data"
    }
   ],
   "source": [
    "Z, A = 1, 1 #Hydrogen\n",
    "\n",
    "Te_eV = 0.34 # eV\n",
    "Ti_eV = Te_eV\n",
    "ri_AU = 0.4473 # AU\n",
    "ri_cm = ri_AU/cm_to_AU\n",
    "ni_cc = n_from_rs(ri_cm)\n",
    "\n",
    "def g_comparison(ax):\n",
    "    gee_data = read_csv('./DW_gee.txt', header=1, delim_whitespace=True)\n",
    "    gei_data = read_csv('./DW_gei.txt', header=1, delim_whitespace=True)\n",
    "    gii_data = read_csv('./DW_gii.txt', header=1, delim_whitespace=True)    \n",
    "    \n",
    "    ax.plot(np.array(gee_data['r/ri'])*ri_AU, gee_data['gee'], 'k^-', label=r\"$g_{ee}$ DW\")\n",
    "    ax.plot(np.array(gei_data['r/ri'])*ri_AU, gei_data['gei'], 'k.-', label=r\"$g_{ei}$ DW\")\n",
    "    ax.plot(np.array(gii_data['r/ri'])*ri_AU, gii_data['gii'], 'ko-', label=r\"$g_{ii}$ DW\")\n",
    "    \n",
    "    ax.set_ylabel(r\"$g_{ij}$\", fontsize=20)\n",
    "    ax.set_xlabel(r\"$r$ [AU]\", fontsize=20)\n",
    "    ax.tick_params(labelsize=15)\n",
    "    ax.legend(fontsize=14, loc='upper right')\n",
    "    \n",
    "fig, ax = plt.subplots(figsize=(8,6))\n",
    "g_comparison(ax)"
   ]
  },
  {
   "cell_type": "markdown",
   "id": "840df6a9",
   "metadata": {},
   "source": [
    "#### Run Ornstein-Zernike Closure"
   ]
  },
  {
   "cell_type": "code",
   "execution_count": 29,
   "id": "4c2ab14a",
   "metadata": {},
   "outputs": [],
   "source": [
    "# c_s_k_guess = plasma_oz.hnc.c_s_k_matrix.copy()"
   ]
  },
  {
   "cell_type": "code",
   "execution_count": 36,
   "id": "25dd3863",
   "metadata": {
    "scrolled": true
   },
   "outputs": [
    {
     "name": "stdout",
     "output_type": "stream",
     "text": [
      "Te_in_eV: 0.340\n",
      "Ti_in_eV: 0.340\n",
      "0: Initial condition Total Error: 1.397e+01\n",
      "Exiting status 0, reverting to best index so far: 1919\n",
      "Final iter:1920, Total Error: 9.994e-09\n"
     ]
    }
   ],
   "source": [
    "plasma_oz = PLASMA(Z, A, ni_cc, Ti_eV, Te_eV, Zbar=Z,\n",
    "                 βu_options = {'add_bridge':True,'bridge':'ocp', 'pseudopotential':False}, \n",
    "                 qsp_options= {'r_c':0},\n",
    "                 hnc_options= {'kappa_multiscale':10, 'R_max':20,'N_bins':1000, \n",
    "                               'h_max':2e2,'oz_method':'standard'},\n",
    "                 hnc_solve_options={'alpha_Picard':0.5, 'num_iterations':1e4})\n",
    "\n",
    "plasma_oz.run_hnc()#c_s_k_guess = c_s_k_guess)"
   ]
  },
  {
   "cell_type": "markdown",
   "id": "cd7e9697",
   "metadata": {},
   "source": [
    "#### Run SVT Closure"
   ]
  },
  {
   "cell_type": "code",
   "execution_count": null,
   "id": "4ca7fd3f",
   "metadata": {
    "scrolled": true
   },
   "outputs": [
    {
     "name": "stdout",
     "output_type": "stream",
     "text": [
      "Te_in_eV: 0.340\n",
      "Ti_in_eV: 0.340\n",
      "0: Initial condition Total Error: 1.397e+01\n"
     ]
    }
   ],
   "source": [
    "plasma_svt = PLASMA(Z, A, ni_cc, Ti_eV, Te_eV, Zbar=Z,\n",
    "                 βu_options = {'add_bridge':True,'bridge':'ocp', 'pseudopotential':False}, \n",
    "                 qsp_options= {'r_c':0},\n",
    "                 hnc_options= {'kappa_multiscale':10, 'R_max':20,'N_bins':1000, \n",
    "                               'h_max':2e2,'oz_method':'svt'},\n",
    "                 hnc_solve_options={'alpha_Picard':0.5,'num_iterations':1e4})\n",
    "\n",
    "plasma_svt.run_hnc()#c_s_k_guess = plasma_oz.hnc.c_s_k_matrix)"
   ]
  },
  {
   "cell_type": "markdown",
   "id": "666d8d43",
   "metadata": {},
   "source": [
    "## Compare to Dharma-Wardana "
   ]
  },
  {
   "cell_type": "code",
   "execution_count": null,
   "id": "73aea458",
   "metadata": {
    "scrolled": true
   },
   "outputs": [],
   "source": [
    "fig, ax = plt.subplots(figsize=(10,8))\n",
    "fig.suptitle(\"OCP Bridge\", fontsize=25, y=0.95)\n",
    "\n",
    "ax.plot(plasma_oz.hnc.r_array*ri_AU, plasma_oz.hnc.h_r_matrix[1,1]+1, label=r'$g_{ee}$ OZ')\n",
    "ax.plot(plasma_oz.hnc.r_array*ri_AU, plasma_oz.hnc.h_r_matrix[1,0]+1, label=r'$g_{ei}$ OZ')\n",
    "ax.plot(plasma_oz.hnc.r_array*ri_AU, plasma_oz.hnc.h_r_matrix[0,0]+1, label=r'$g_{ii}$ OZ')\n",
    "\n",
    "ax.plot(plasma_svt.hnc.r_array*ri_AU, plasma_svt.hnc.h_r_matrix[1,1]+1, '--', label=r'$g_{ee}$ SVT')\n",
    "ax.plot(plasma_svt.hnc.r_array*ri_AU, plasma_svt.hnc.h_r_matrix[1,0]+1, '--', label=r'$g_{ei}$ SVT')\n",
    "ax.plot(plasma_svt.hnc.r_array*ri_AU, plasma_svt.hnc.h_r_matrix[0,0]+1, '--', label=r'$g_{ii}$ SVT')\n",
    "\n",
    "g_comparison(ax)\n"
   ]
  },
  {
   "cell_type": "code",
   "execution_count": null,
   "id": "40f38dd2",
   "metadata": {
    "scrolled": true
   },
   "outputs": [],
   "source": []
  }
 ],
 "metadata": {
  "kernelspec": {
   "display_name": "Python 3 (ipykernel)",
   "language": "python",
   "name": "python3"
  },
  "language_info": {
   "codemirror_mode": {
    "name": "ipython",
    "version": 3
   },
   "file_extension": ".py",
   "mimetype": "text/x-python",
   "name": "python",
   "nbconvert_exporter": "python",
   "pygments_lexer": "ipython3",
   "version": "3.10.12"
  }
 },
 "nbformat": 4,
 "nbformat_minor": 5
}
