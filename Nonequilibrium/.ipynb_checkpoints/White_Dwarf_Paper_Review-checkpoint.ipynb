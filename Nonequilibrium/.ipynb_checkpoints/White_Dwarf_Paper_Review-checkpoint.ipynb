{
 "cells": [
  {
   "cell_type": "code",
   "execution_count": 9,
   "id": "7bda1336-fd02-434f-a9c3-255d612b2310",
   "metadata": {
    "tags": []
   },
   "outputs": [],
   "source": [
    "import numpy as np\n",
    "import matplotlib.pyplot as plt\n",
    "from pandas import read_csv\n",
    "\n",
    "from hnc.hnc.constants import *\n",
    "from hnc.hnc.misc import Fermi_Energy, Fermi_velocity\n"
   ]
  },
  {
   "cell_type": "code",
   "execution_count": 33,
   "id": "5671614b-f6d6-4f9c-8bde-c1e807ab0c1c",
   "metadata": {
    "tags": []
   },
   "outputs": [
    {
     "name": "stdout",
     "output_type": "stream",
     "text": [
      "For n_e = 6.000e+30 [1/cc]\n",
      "E_F is 1.204e+06 [eV]\n",
      "T_e is 8.617e+03 [eV]\n"
     ]
    }
   ],
   "source": [
    "n_i = 1e30*invcc_to_AU\n",
    "n_e = 6*n_i\n",
    "T_e = 1e8*K_to_AU\n",
    "print(f\"For n_e = {n_e*AU_to_invcc:0.3e} [1/cc]\")\n",
    "print(f\"E_F is {Fermi_Energy(n_e)*AU_to_eV:0.3e} [eV]\" )\n",
    "print(f\"T_e is {T_e*AU_to_eV:0.3e} [eV]\")"
   ]
  },
  {
   "cell_type": "markdown",
   "id": "62f873ea-4e55-4223-8d54-95f3260d0a52",
   "metadata": {},
   "source": [
    "### (https://www.astro.princeton.edu/~gk/A403/state.pdf)[https://www.astro.princeton.edu/~gk/A403/state.pdf]"
   ]
  },
  {
   "cell_type": "code",
   "execution_count": 34,
   "id": "2e0d427f-614a-43e3-aed4-bc07771027ab",
   "metadata": {
    "tags": []
   },
   "outputs": [
    {
     "name": "stdout",
     "output_type": "stream",
     "text": [
      "For dimensionless fermi momentum: x_f = 2.171e+00\n",
      "We have P_rel_degen = 480186495313.2235 [Mbar]\n",
      "We have P_rel_gas = 252190.5565502748 [Mbar]\n",
      "Wikipedia Chandrasekhar limit pressure: 10000000000000.0 [Mbar]\n"
     ]
    }
   ],
   "source": [
    "p_F = Fermi_velocity(n_e)*m_e\n",
    "x_f = p_F/(m_e*c)\n",
    "P_rel_degen = 8*π/3 * (c/(2*π))**(3) * c**2\n",
    "σB = 2*π**5 / ( 15 * (2*π)**3 * c**2 ) # check σB* AU_to_J/AU_to_s/AU_to_m**2/AU_to_K**4\n",
    "P_rel_gas = 4*σB/(3*c) * T_e**4 \n",
    "\n",
    "P_Chand_limit_Mbar = 10e23*Pa_to_AU*AU_to_bar/1e6\n",
    "print(f\"For dimensionless fermi momentum: x_f = {x_f:0.3e}\")\n",
    "print(f\"We have P_rel_degen = {P_rel_degen*AU_to_bar/1e6} [Mbar]\")\n",
    "print(f\"We have P_rel_gas = {P_rel_gas*AU_to_bar/1e6} [Mbar]\")\n",
    "print(f\"Wikipedia Chandrasekhar limit pressure: {P_Chand_limit_Mbar} [Mbar]\")"
   ]
  },
  {
   "cell_type": "code",
   "execution_count": 35,
   "id": "9c54035e-1d51-4252-a741-09266d48dc46",
   "metadata": {
    "tags": []
   },
   "outputs": [
    {
     "data": {
      "text/plain": [
       "5.251929386014324e-07"
      ]
     },
     "execution_count": 35,
     "metadata": {},
     "output_type": "execute_result"
    }
   ],
   "source": [
    "P_rel_gas/P_rel_degen"
   ]
  },
  {
   "cell_type": "code",
   "execution_count": null,
   "id": "0c49dcb9-4959-4bef-8e32-ea4bad67eca5",
   "metadata": {},
   "outputs": [],
   "source": []
  }
 ],
 "metadata": {
  "kernelspec": {
   "display_name": "Python 3 (ipykernel)",
   "language": "python",
   "name": "python3"
  },
  "language_info": {
   "codemirror_mode": {
    "name": "ipython",
    "version": 3
   },
   "file_extension": ".py",
   "mimetype": "text/x-python",
   "name": "python",
   "nbconvert_exporter": "python",
   "pygments_lexer": "ipython3",
   "version": "3.10.6"
  }
 },
 "nbformat": 4,
 "nbformat_minor": 5
}
