{
 "cells": [
  {
   "cell_type": "markdown",
   "id": "2f145104-7a48-4d19-906c-848a28f44ac7",
   "metadata": {},
   "source": [
    "# Comparison of Boercker and More Ornsten-Zernike "
   ]
  },
  {
   "cell_type": "code",
   "execution_count": 1,
   "id": "d38b501f-e82b-4ab8-b409-19f37fb13ec3",
   "metadata": {
    "tags": []
   },
   "outputs": [
    {
     "name": "stdout",
     "output_type": "stream",
     "text": [
      "ModuleNotFoundError: No module named 'mendeleev'\n"
     ]
    }
   ],
   "source": [
    "import numpy as np\n",
    "import matplotlib.pyplot as plt\n",
    "from pandas import read_csv\n",
    "\n",
    "# from hnc.hnc.PIE import Plasma_of_Ions_and_Electrons as PLASMA\n",
    "\n",
    "from hnc.hnc.hnc import  Integral_Equation_Solver as OZ\n",
    "from hnc.hnc.hnc_BandM import Integral_Equation_Solver as IET\n",
    "from hnc.hnc.constants import *\n",
    "from hnc.hnc.misc import n_from_rs, rs_from_n\n",
    "\n",
    "from pandas import read_csv\n",
    "\n",
    "prop_cycle = plt.rcParams['axes.prop_cycle']\n",
    "colors = prop_cycle.by_key()['color']\n",
    "                \n",
    "from IPython.core.display import HTML\n",
    "HTML(\"\"\"\n",
    "<style>\n",
    ".output_png {\n",
    "    display: table-cell;\n",
    "    text-align: center;\n",
    "    vertical-align: middle;\n",
    "}\n",
    "\n",
    "</style>\n",
    "\"\"\")\n",
    "import matplotlib as mpl\n",
    "from cycler import cycler\n",
    "mpl.rcParams['lines.linewidth'] = 2.2\n",
    "mpl.rcParams['axes.spines.right'] = False\n",
    "mpl.rcParams['axes.spines.top'] = False\n",
    "mpl.rcParams['axes.labelsize'] = 20\n",
    "mpl.rcParams['lines.markersize'] = 8\n",
    "mpl.rcParams['font.sans-serif'] = ['Arial', 'Tahoma', 'DejaVu Sans', 'Lucida Grande', 'Verdana']\n",
    "mpl.rcParams['font.size'] = 16\n",
    "mpl.rcParams['axes.grid'] = True\n",
    "mpl.rcParams['grid.color'] = '#636363'\n",
    "mpl.rcParams['grid.alpha'] = 0.12\n",
    "mpl.rcParams['grid.linewidth'] = 0.7\n",
    "mpl.rcParams['grid.linestyle'] = '-'\n",
    "mpl.rcParams['axes.prop_cycle'] = cycler('color',  ['#0AB34F', '#bf009f', '#00abc3', '#8e92c5', '#cc7014', '#e32851'])\n",
    "mpl.rcParams['legend.fancybox'] = True\n",
    "mpl.rcParams['legend.framealpha'] = 0.6\n",
    "mpl.rcParams['legend.fontsize'] = 14\n",
    "mpl.rcParams['figure.figsize'] = 8, 4.9443\n",
    "mpl.rcParams['figure.dpi'] = 100\n"
   ]
  },
  {
   "cell_type": "markdown",
   "id": "db1c9ae8-5810-4083-be85-6a5eddc9eec4",
   "metadata": {
    "tags": []
   },
   "source": [
    "## Comparison to Shaffer"
   ]
  },
  {
   "cell_type": "code",
   "execution_count": 2,
   "id": "6eb5f91d-0bd8-4434-9771-25d71a60943c",
   "metadata": {
    "tags": []
   },
   "outputs": [
    {
     "name": "stdout",
     "output_type": "stream",
     "text": [
      "T_i = 11604.53 [K]\n",
      "T_e = 464181.00 [K]\n"
     ]
    },
    {
     "data": {
      "text/plain": [
       "array([[1, 1],\n",
       "       [1, 1]])"
      ]
     },
     "execution_count": 2,
     "metadata": {},
     "output_type": "execute_result"
    }
   ],
   "source": [
    "Γi = 4\n",
    "Γe = 0.1\n",
    "\n",
    "Ti = 1*eV_to_AU\n",
    "Te = Γi/Γe*Ti\n",
    "print(f\"T_i = {Ti*AU_to_K:0.2f} [K]\")\n",
    "print(f\"T_e = {Te*AU_to_K:0.2f} [K]\")\n",
    "\n",
    "Zi, Ze = 1, 1\n",
    "\n",
    "ri = Zi**2/Ti/Γi\n",
    "re = Ze**2/Te/Γe\n",
    "\n",
    "ni = n_from_rs(ri)\n",
    "ne = n_from_rs(re)\n",
    "\n",
    "rei = rs_from_n(ni + ne)\n",
    "\n",
    "m_i = m_e*30\n",
    "\n",
    "Qsquare_matrix = np.array( [[Ze**2, Zi*Ze ],[Zi*Ze, Zi**2]])\n",
    "Qsquare_matrix\n"
   ]
  },
  {
   "cell_type": "code",
   "execution_count": 3,
   "id": "4d70b430-0c7e-491a-9b97-d16da7452869",
   "metadata": {},
   "outputs": [],
   "source": [
    "n_in_rs_array = np.array([ 3/(4*π*re**3/rei**3), 3/(4*π*ri**3/rei**3)] )\n",
    "T_AU_array = np.array([Te, Ti])\n",
    "mass_array = np.array([m_e, m_i])\n",
    "\n",
    "κ_screen = 0\n",
    "κ_multiscale = 1\n",
    "\n",
    "R_max, N_bins = 40, 2000\n",
    "dst_type = 4"
   ]
  },
  {
   "cell_type": "code",
   "execution_count": 13,
   "id": "6d5d09ee-e0ec-428d-b5a4-56afddca6974",
   "metadata": {
    "scrolled": true
   },
   "outputs": [],
   "source": [
    "# New solver\n",
    "iet = IET(2, n_in_rs_array, T_AU_array, κ_screen=κ_screen, kappa_multiscale=κ_multiscale , R_max=R_max, N_bins=N_bins, use_U00_closure=False, use_U00_svt_correction=True, dst_type = dst_type)\n",
    "iet.set_u_matrix(Qsquare_matrix[:,:,np.newaxis]/iet.r_array[np.newaxis,np.newaxis,:]/rei * np.exp(-iet.r_array[np.newaxis,np.newaxis,:]*κ_screen))\n",
    "# iet.U_s_k_matrix[1,0] *= Ti/Te\n",
    "# iet.U_s_k_matrix[0,1] *= Ti/Te\n",
    "iet.set_all_matrices_from_Usk(iet.U_s_k_matrix)\n",
    "\n",
    "\n",
    "# iet.HNC_solve(num_iterations=0e0, tol=1e-4, iters_to_wait=3e4, iters_to_use=3, alpha_Ng = 1e-3 ,\n",
    "#         alpha_Picard = 1e-2, alpha_oz = 0., iters_to_check=10 ,verbose=True, min_iters=20,dont_check=False)"
   ]
  },
  {
   "cell_type": "code",
   "execution_count": 14,
   "id": "02b564df-ecea-4b7f-98d2-2ceaf77dd9f6",
   "metadata": {
    "scrolled": true,
    "tags": []
   },
   "outputs": [],
   "source": [
    "# Old solver\n",
    "Tei = (Te*m_i + Ti*m_e)/(m_e + m_i) \n",
    "T_SVT_matrix = np.array( [[Te, Tei ],[Tei, Ti  ]]  )\n",
    "oz = OZ(2, np.ones((2,2)) , n_in_rs_array, T_SVT_matrix, mass_array, kappa=np.zeros((2,2)), kappa_multiscale=κ_multiscale , R_max=R_max, N_bins=N_bins, oz_method='standard', dst_type = dst_type)\n",
    "oz.set_βu_matrix(1/T_SVT_matrix[:,:,np.newaxis]*Qsquare_matrix[:,:,np.newaxis]/iet.r_array[np.newaxis,np.newaxis,:]/rei* np.exp(-iet.r_array[np.newaxis,np.newaxis,:]*κ_screen))\n",
    "oz.set_all_matrices_from_csk(oz.c_s_k_matrix)\n",
    "\n",
    "# oz.HNC_solve(num_iterations=0e0, tol=1e-4, iters_to_wait=3e4, iters_to_use=3, alpha_Ng = 1e-3 ,\n",
    "#         alpha_Picard = 1e-1, alpha_oz = 0., iters_to_check=10 ,verbose=True, min_iters=20)"
   ]
  },
  {
   "cell_type": "code",
   "execution_count": 15,
   "id": "01a24f07-2091-4af4-b26d-b5b2638a0052",
   "metadata": {
    "scrolled": true,
    "tags": []
   },
   "outputs": [],
   "source": [
    "# Old solver\n",
    "svt = OZ(2, np.ones((2,2)) , n_in_rs_array, T_SVT_matrix, mass_array, kappa=np.zeros((2,2)), kappa_multiscale=κ_multiscale , R_max=R_max, N_bins=N_bins, oz_method='svt', dst_type = dst_type)\n",
    "svt.set_βu_matrix(1/T_SVT_matrix[:,:,np.newaxis]*Qsquare_matrix[:,:,np.newaxis]/iet.r_array[np.newaxis,np.newaxis,:]/rei* np.exp(-svt.r_array[np.newaxis,np.newaxis,:]*κ_screen))\n",
    "svt.set_all_matrices_from_csk(svt.c_s_k_matrix)\n",
    "\n",
    "# svt.HNC_solve(num_iterations=0e0, tol=1e-4, iters_to_wait=3e4, iters_to_use=3, alpha_Ng = 1e-3 ,\n",
    "#         alpha_Picard = 1e-1, alpha_oz = 0., iters_to_check=10 ,verbose=True, min_iters=20)"
   ]
  },
  {
   "cell_type": "code",
   "execution_count": 16,
   "id": "efa1af12-55d3-4883-9b8c-7b059f2619b5",
   "metadata": {
    "tags": []
   },
   "outputs": [],
   "source": [
    "# iet.plot_species_convergence_c(n_slices = len(iet.h_r_matrix_list[::100]))"
   ]
  },
  {
   "cell_type": "code",
   "execution_count": 17,
   "id": "aa9e918b-7960-4f2f-93d8-895e2ac6bc0c",
   "metadata": {},
   "outputs": [],
   "source": [
    "# svt.plot_species_convergence_g(n_slices = len(iet.h_r_matrix_list[::100]))"
   ]
  },
  {
   "cell_type": "code",
   "execution_count": 18,
   "id": "3d8b1302-b360-4102-bd86-262c9500c14f",
   "metadata": {},
   "outputs": [],
   "source": [
    "# fig, ax =  iet.plot_u_all_species()\n",
    "# ax.plot(iet.r_array, iet.U_r_matrix[0,0],'--', label=r\"$U_{0,0}$\")\n",
    "# ax.plot(iet.r_array, iet.U_r_matrix[0,1],'--', label=r\"$U_{0,1}$\")\n",
    "# ax.plot(iet.r_array, iet.U_r_matrix[1,1],'--', label=r\"$U_{1,1}$\")\n",
    "# plt.legend(loc='upper right')"
   ]
  },
  {
   "cell_type": "markdown",
   "id": "bc95eb9d-ada9-4751-9168-b8e0df30fba5",
   "metadata": {},
   "source": [
    "### Data from Nathaniel and Scott"
   ]
  },
  {
   "cell_type": "code",
   "execution_count": 19,
   "id": "6fd85698-99f1-4e09-a4c7-bd2afb12ccbf",
   "metadata": {
    "tags": []
   },
   "outputs": [],
   "source": [
    "from pandas import read_csv\n",
    "\n",
    "# gii_data = read_csv(\"Shaffer2017_Fig2c_ii.txt\", delim_whitespace=True, header=2)\n",
    "# gei_data = read_csv(\"Shaffer2017_Fig2c_ei.txt\", delim_whitespace=True, header=2)\n",
    "# gee_data = read_csv(\"Shaffer2017_Fig2c_ee.txt\", delim_whitespace=True, header=2)\n",
    "# gii_data = read_csv(\"Shaffer2017_Fig2a_ii.txt\", delim_whitespace=True, header=2)\n",
    "# gei_data = read_csv(\"Shaffer2017_Fig2a_ei.txt\", delim_whitespace=True, header=2)\n",
    "# gee_data = read_csv(\"Shaffer2017_Fig2a_ee.txt\", delim_whitespace=True, header=2)\n",
    "gii_data = read_csv(\"Shaffer2017_Fig2b_ii.txt\", delim_whitespace=True, header=2)\n",
    "gei_data = read_csv(\"Shaffer2017_Fig2b_ei.txt\", delim_whitespace=True, header=2)\n",
    "gee_data = read_csv(\"Shaffer2017_Fig2b_ee.txt\", delim_whitespace=True, header=2)"
   ]
  },
  {
   "cell_type": "code",
   "execution_count": 22,
   "id": "21a3d033-b34f-4f3f-bb19-26abbe3482de",
   "metadata": {
    "tags": []
   },
   "outputs": [
    {
     "data": {
      "text/plain": [
       "array([1.25819590e+05, 1.55332891e+03, 2.01311593e+02, ...,\n",
       "       1.21572717e-09, 1.21450784e-09, 1.21329183e-09])"
      ]
     },
     "execution_count": 22,
     "metadata": {},
     "output_type": "execute_result"
    }
   ],
   "source": [
    "βe, βi = iet.β_list[0:2] \n",
    "ni = iet.rho[1]\n",
    "Uei_k = iet.U_s_k_matrix[0,1] + iet.u_l_k_matrix[0,1]\n",
    "\n",
    "\n",
    "ni*Uei_k**2*βe**2"
   ]
  },
  {
   "cell_type": "code",
   "execution_count": 21,
   "id": "aee8f2a0-08f0-4968-be13-ffb7202a3249",
   "metadata": {
    "tags": []
   },
   "outputs": [
    {
     "data": {
      "text/plain": [
       "<matplotlib.legend.Legend at 0x7e79ddf72470>"
      ]
     },
     "execution_count": 21,
     "metadata": {},
     "output_type": "execute_result"
    },
    {
     "data": {
      "image/png": "[encoded data removed]",
      "text/plain": [
       "<Figure size 1800x400 with 3 Axes>"
      ]
     },
     "metadata": {},
     "output_type": "display_data"
    }
   ],
   "source": [
    "fig, axs = plt.subplots(1,3, figsize=(18,4))\n",
    "fig.suptitle(\"Radial Distribution Function Comparison Between Methods\")\n",
    "\n",
    "ax = axs[0]\n",
    "ax.plot(iet.r_array, iet.h_r_matrix[1,1],'-', label='BM OZ',linewidth=5)\n",
    "ax.plot(oz.r_array, oz.h_r_matrix[1,1],'--', label=\"OZ MASS\",linewidth=5)\n",
    "ax.plot(svt.r_array, svt.h_r_matrix[1,1],':', label=\"SVT\", linewidth=5)\n",
    "ax.plot(gii_data['r/a'], gii_data['gii']-1,'o', label=\"Shaffer\")\n",
    "ax.set_ylabel(r'$h_{ii}$')\n",
    "\n",
    "ax = axs[1]\n",
    "ax.plot(iet.r_array, iet.h_r_matrix[0,1],'-', label='BM OZ',linewidth=5)\n",
    "ax.plot(oz.r_array, oz.h_r_matrix[0,1],'--', label=\"OZ MASS\",linewidth=5)\n",
    "ax.plot(svt.r_array, svt.h_r_matrix[0,1],':', label=\"SVT\", linewidth=5)\n",
    "ax.plot(gei_data['r/a'], gei_data['gei']-1,'o', label=\"Shaffer\")\n",
    "ax.set_ylabel(r'$h_{ei}$')\n",
    "\n",
    "\n",
    "ax = axs[2]\n",
    "ax.plot(iet.r_array, iet.h_r_matrix[0,0],'-', label='BM OZ',linewidth=5)\n",
    "ax.plot(oz.r_array, oz.h_r_matrix[0,0],'--', label=\"OZ MASS\",linewidth=5)\n",
    "ax.plot(svt.r_array, svt.h_r_matrix[0,0],':', label=\"SVT\", linewidth=5)\n",
    "ax.plot(gee_data['r/a'], gee_data['gee']-1,'o', label=\"Shaffer\")\n",
    "ax.set_ylabel(r'$h_{ee}$')\n",
    "\n",
    "for ax in axs:\n",
    "    ax.set_xlim(1e-2,5)\n",
    "    ax.set_xscale('log')\n",
    "    # ax.set_ylim(-1,0.6)\n",
    "ax.legend()"
   ]
  },
  {
   "cell_type": "code",
   "execution_count": 9,
   "id": "de6675cc-0a2f-4a78-bd75-75fab29166f0",
   "metadata": {
    "tags": []
   },
   "outputs": [
    {
     "data": {
      "text/plain": [
       "<matplotlib.legend.Legend at 0x7e79de73d0f0>"
      ]
     },
     "execution_count": 9,
     "metadata": {},
     "output_type": "execute_result"
    },
    {
     "data": {
      "image/png": "[encoded data removed]",
      "text/plain": [
       "<Figure size 1800x400 with 3 Axes>"
      ]
     },
     "metadata": {},
     "output_type": "display_data"
    }
   ],
   "source": [
    "fig, axs = plt.subplots(1,3, figsize=(18,4))\n",
    "fig.suptitle(\"Polarization Potential Comparison Between Methods\")\n",
    "\n",
    "ax = axs[0]\n",
    "ax.plot(iet.r_array, iet.U_r_matrix[1,1],'-', label='BM OZ',linewidth=5)\n",
    "ax.plot(iet.r_array, iet.u_r_matrix[1,1],'-',linewidth=5,alpha=0.3)\n",
    "# ax.plot(oz.r_array, oz.U_r_matrix[1,1],'--', label=\"OZ MASS\",linewidth=5)\n",
    "# ax.plot(oz.r_array, oz.u_r_matrix[1,1],'--',linewidth=5,alpha=0.3)\n",
    "# ax.plot(svt.r_array, svt.U_r_matrix[1,1],':', label=\"SVT\", linewidth=5)\n",
    "# ax.plot(svt.r_array, svt.u_r_matrix[1,1],':', linewidth=5,alpha=0.3)\n",
    "ax.set_ylabel(r'$U_{ii}$')\n",
    "\n",
    "ax = axs[1]\n",
    "ax.plot(iet.r_array, iet.U_r_matrix[0,1],'-', label='BM OZ',linewidth=5)\n",
    "ax.plot(iet.r_array, iet.u_r_matrix[0,1],'-',linewidth=5,alpha=0.3)\n",
    "# ax.plot(oz.r_array, oz.U_r_matrix[0,1]+1,'--', label=\"OZ MASS\",linewidth=5)\n",
    "# ax.plot(oz.r_array, oz.u_r_matrix[0,1],'--',linewidth=5,alpha=0.3)\n",
    "# ax.plot(svt.r_array, svt.U_r_matrix[0,1]+1,':', label=\"SVT\", linewidth=5)\n",
    "# ax.plot(svt.r_array, svt.u_r_matrix[0,1],':', linewidth=5,alpha=0.3)\n",
    "ax.set_ylabel(r'$U_{ei}$')\n",
    "\n",
    "\n",
    "ax = axs[2]\n",
    "\n",
    "ax.plot(iet.r_array, iet.U_r_matrix[0,0],'-', label='BM OZ',linewidth=5)\n",
    "ax.plot(iet.r_array, iet.u_r_matrix[0,0],'-',linewidth=5,alpha=0.3)\n",
    "# ax.plot(oz.r_array, oz.U_r_matrix[0,0]+1,'--', label=\"OZ MASS\",linewidth=5)\n",
    "# ax.plot(oz.r_array, oz.u_r_matrix[0,0],'--',linewidth=5,alpha=0.3)\n",
    "# ax.plot(svt.r_array, svt.U_r_matrix[0,0]+1,':', label=\"SVT\", linewidth=5)\n",
    "# ax.plot(svt.r_array, svt.u_r_matrix[0,0],':', linewidth=5,alpha=0.3)\n",
    "ax.set_ylabel(r'$U_{ee}$')\n",
    "\n",
    "for ax in axs:\n",
    "#     ax.set_xlim(0,3)\n",
    "    # ax.set_ylim(0,None)\n",
    "    ax.set_yscale('log')\n",
    "ax.legend()"
   ]
  },
  {
   "cell_type": "markdown",
   "id": "4a9a15cb-f099-45b0-b84d-f4929923a981",
   "metadata": {
    "tags": []
   },
   "source": [
    "\n",
    "### Single Species Check"
   ]
  },
  {
   "cell_type": "code",
   "execution_count": 16,
   "id": "320b1a58-3ff4-4c17-928c-4c2b28e9a7c0",
   "metadata": {
    "scrolled": true
   },
   "outputs": [],
   "source": [
    "# n_in_rs_array = np.array([ 3/(4*π), 3/(4*π)] )\n",
    "# T_AU_array = np.array([Te, Ti])\n",
    "# mass_array = np.array([m_e, m_i])\n",
    "# iet = IET(1, n_in_rs_array[0:1], T_AU_array[0:1], mass_array[0:1], κ_screen=0 )\n",
    "\n",
    "# iet.HNC_solve(num_iterations=1e4, tol=1e-6, iters_to_wait=3e4, iters_to_use=3, alpha_Ng = 1e-3 ,\n",
    "#         alpha_Picard = 1e-1, alpha_oz = 0., iters_to_check=10 ,verbose=True, min_iters=20)"
   ]
  },
  {
   "cell_type": "code",
   "execution_count": null,
   "id": "b4f07912-08c3-4199-939e-259df8c35699",
   "metadata": {},
   "outputs": [],
   "source": [
    "# iet.plot_species_convergence_g(n_slices = len(iet.h_r_matrix_list[::10]))"
   ]
  },
  {
   "cell_type": "code",
   "execution_count": null,
   "id": "18c69b60-4bd0-4a58-8654-65603e030fe2",
   "metadata": {},
   "outputs": [],
   "source": [
    "# fig, ax =  iet.plot_u_all_species()\n",
    "# ax.plot(iet.r_array, iet.U_r_matrix[0,0])\n"
   ]
  },
  {
   "cell_type": "code",
   "execution_count": null,
   "id": "a9fe4fb1-87fc-495b-a2e6-c4989e513f27",
   "metadata": {},
   "outputs": [],
   "source": []
  },
  {
   "cell_type": "markdown",
   "id": "611fc190-af09-4ce6-8a80-b82e56203876",
   "metadata": {
    "tags": []
   },
   "source": [
    "## Check Michael OCP [DOI: 10.3847/0004-637X/829/1/16](https://iopscience.iop.org/article/10.3847/0004-637X/829/1/16)"
   ]
  },
  {
   "cell_type": "code",
   "execution_count": null,
   "id": "3af311ed-6050-495f-9815-42fa223d35cd",
   "metadata": {
    "tags": []
   },
   "outputs": [],
   "source": [
    "Γ11 = 20\n",
    "\n",
    "T1 = 10*eV_to_AU\n",
    "T2 = 10*eV_to_AU\n",
    "\n",
    "Z1, Z2 = 1, 3\n",
    "x1, x2 = 0.9, 0.1\n",
    "\n",
    "r1 = Z1**2/T1/Γ11\n",
    "\n",
    "n1 = n_from_rs(r1)\n",
    "\n",
    "n = n1/x1\n",
    "n2 = n*x2\n",
    "r2 = rs_from_n(n2)\n",
    "r12 = rs_from_n(n1 + n2)\n",
    "\n",
    "print(f\"T_1 = {T1*AU_to_K:0.2f} [K]\")\n",
    "print(f\"T_2 = {T2*AU_to_K:0.2f} [K]\")\n",
    "\n",
    "m_1 = m_e*1\n",
    "m_2 = m_e*1\n",
    "\n",
    "Qsquare_matrix = np.array( [[Z1**2, Z1*Z2 ],[Z1*Z2, Z2**2]])\n",
    "Qsquare_matrix\n"
   ]
  },
  {
   "cell_type": "code",
   "execution_count": null,
   "id": "b0367633-2608-4d9d-ab8b-13cdea3f9d27",
   "metadata": {
    "tags": []
   },
   "outputs": [],
   "source": [
    "# n_in_rs_array = 0.9*np.array([ 3/(4*π), 3/(4*π*r2**3/r1**3)] )\n",
    "n_in_rs_array = np.array([ 3/(4*π*r1**3/r12**3), 3/(4*π*r2**3/r12**3)] )\n",
    "T_AU_array = np.array([T1, T2])\n",
    "mass_array = np.array([m_1, m_2])\n",
    "\n",
    "κ_screen = 0\n",
    "κ_multiscale = 0.0\n",
    "\n",
    "R_max, N_bins = 10, 500\n",
    "dst_type =3\n",
    "\n",
    "# New solver\n",
    "iet = IET(2, n_in_rs_array, T_AU_array, κ_screen=0.0, kappa_multiscale=κ_multiscale , R_max=R_max, N_bins=N_bins, use_U00_closure=False, dst_type = dst_type )\n",
    "iet.set_u_matrix(Qsquare_matrix[:,:,np.newaxis]/iet.r_array[np.newaxis,np.newaxis,:]/r12 * np.exp(-iet.r_array[np.newaxis,np.newaxis,:]*κ_screen))\n",
    "\n",
    "# Old solver\n",
    "T12 = (T1*m_2 + T2*m_1)/(m_1 + m_2) \n",
    "T_SVT_matrix = np.array( [[T1, T12 ],[T12, T2  ]]  )\n",
    "oz = OZ(2, np.ones((2,2)) , n_in_rs_array, T_SVT_matrix, mass_array, kappa=np.zeros((2,2)), kappa_multiscale=κ_multiscale , R_max=R_max, N_bins=N_bins, oz_method='standard', dst_type = dst_type)\n",
    "oz.set_βu_matrix(1/T_SVT_matrix[:,:,np.newaxis]*Qsquare_matrix[:,:,np.newaxis]/iet.r_array[np.newaxis,np.newaxis,:]/r12* np.exp(-iet.r_array[np.newaxis,np.newaxis,:]*κ_screen))\n"
   ]
  },
  {
   "cell_type": "code",
   "execution_count": null,
   "id": "3a951aad-8565-4396-8f00-3b6fc9ed0f67",
   "metadata": {
    "scrolled": true
   },
   "outputs": [],
   "source": [
    "iet.HNC_solve(num_iterations=1e4, tol=1e-4, iters_to_wait=3e4, iters_to_use=3, alpha_Ng = 1e-3 ,\n",
    "        alpha_Picard = 1e-1, alpha_oz = 0., iters_to_check=10 ,verbose=True, min_iters=20)"
   ]
  },
  {
   "cell_type": "code",
   "execution_count": null,
   "id": "cb17632a-a8cf-4024-b8a6-f78b4501662a",
   "metadata": {
    "scrolled": true,
    "tags": []
   },
   "outputs": [],
   "source": [
    "oz.HNC_solve(num_iterations=1e4, tol=1e-4, iters_to_wait=3e4, iters_to_use=3, alpha_Ng = 1e-3 ,\n",
    "        alpha_Picard = 1e-1, alpha_oz = 0., iters_to_check=10 ,verbose=True, min_iters=20)"
   ]
  },
  {
   "cell_type": "code",
   "execution_count": null,
   "id": "e7107da5-c119-4f94-9e9f-25e8ce0d3e2c",
   "metadata": {
    "tags": []
   },
   "outputs": [],
   "source": [
    "g11_data = read_csv(\"Ichimaru1993_Fig6_g11.txt\", delim_whitespace=True, header=2)\n",
    "g12_data = read_csv(\"Diaw2016_Fig4_g12.txt\", delim_whitespace=True, header=2)\n",
    "g22_data = read_csv(\"Diaw2016_Fig4_g22.txt\", delim_whitespace=True, header=2)\n",
    "\n",
    "\n",
    "fig, ax = plt.subplots()\n",
    "\n",
    "ax.plot(iet.r_array, iet.h_r_matrix[1,1]+1,'b-', label='BM OZ',linewidth=2)\n",
    "ax.plot(oz.r_array, oz.h_r_matrix[1,1]+1,'b--', label=\"OZ MASS\",linewidth=5)\n",
    "\n",
    "ax.plot(iet.r_array, iet.h_r_matrix[1,0]+1,'r-', label='BM OZ',linewidth=2)\n",
    "ax.plot(oz.r_array, oz.h_r_matrix[1,0]+1,'r--', label=\"OZ MASS\",linewidth=5)\n",
    "\n",
    "ax.plot(iet.r_array, iet.h_r_matrix[0,0]+1,'k-', label='BM OZ',linewidth=2)\n",
    "ax.plot(oz.r_array, oz.h_r_matrix[0,0]+1,'k--', label=\"OZ MASS\",linewidth=5)\n",
    "\n",
    "\n",
    "g11_data = read_csv(\"Ichimaru1993_Fig6_g11.txt\", delim_whitespace=True, header=2)\n",
    "ax.plot(g11_data['r/a'], g11_data['g11(r)'],'k+')\n",
    "g11_data = read_csv(\"Diaw2016_Fig4_g11.txt\", delim_whitespace=True, header=2)\n",
    "ax.plot(g11_data['r/a'], g11_data['g11(r)'],'kx')\n",
    "\n",
    "\n",
    "ax.plot(g12_data['r/a'], g12_data['g12(r)'],'r+')\n",
    "ax.plot(g22_data['r/a'], g22_data['g22(r)'],'b+')\n",
    "\n",
    "ax.set_xlim(0.5,4)\n",
    "ax.set_ylim(0,1.6)\n",
    "ax.legend()\n",
    "\n",
    "ax.set_title(\"Now digitize data and compare...\")"
   ]
  },
  {
   "cell_type": "code",
   "execution_count": null,
   "id": "a78c36b4-f2c7-4e7f-acfa-986de98063a0",
   "metadata": {
    "tags": []
   },
   "outputs": [],
   "source": [
    "fig, ax =  iet.plot_u_all_species()\n",
    "ax.plot(iet.r_array, iet.U_r_matrix[0,0],'--', label=r\"$U_{0,0}$\")\n",
    "ax.plot(iet.r_array, iet.U_r_matrix[0,1],'--', label=r\"$U_{0,1}$\")\n",
    "ax.plot(iet.r_array, iet.U_r_matrix[1,1],'--', label=r\"$U_{1,1}$\")\n",
    "plt.legend(loc='upper right')"
   ]
  },
  {
   "cell_type": "code",
   "execution_count": null,
   "id": "96b477bc-eea9-496e-a80c-59ef00326e40",
   "metadata": {
    "tags": []
   },
   "outputs": [],
   "source": [
    "test_HNC(iet)\n",
    "# test_BMOZ(iet)"
   ]
  },
  {
   "cell_type": "markdown",
   "id": "dfb12a49-1dbc-4114-b1fd-e65a962560a9",
   "metadata": {
    "tags": []
   },
   "source": [
    "## Check OCP [DOI: 10.3847/0004-637X/829/1/16](https://iopscience.iop.org/article/10.3847/0004-637X/829/1/16)"
   ]
  },
  {
   "cell_type": "code",
   "execution_count": null,
   "id": "921f5449-1885-4498-b105-cd044a43008f",
   "metadata": {
    "tags": []
   },
   "outputs": [],
   "source": [
    "Γe = 100\n",
    "Te = 10*eV_to_AU\n",
    "\n",
    "Ze = 1\n",
    "\n",
    "re = Ze**2/Te/Γe\n",
    "\n",
    "ne = n_from_rs(re)\n",
    "\n",
    "print(f\"T_e = {Te*AU_to_K:0.2f} [K]\")\n",
    "\n",
    "Qsquare_matrix = np.array( [[Ze**2]])\n",
    "Qsquare_matrix\n"
   ]
  },
  {
   "cell_type": "code",
   "execution_count": null,
   "id": "f5dea06c-cd80-4dec-80f4-0cc6f2c915d3",
   "metadata": {
    "tags": []
   },
   "outputs": [],
   "source": [
    "n_in_rs_array = np.array([ 3/(4*π)] )\n",
    "T_AU_array = np.array([Te])\n",
    "mass_array = np.array([m_e])\n",
    "\n",
    "κ_screen = 2\n",
    "κ_multiscale = 0.0\n",
    "\n",
    "R_max, N_bins = 20, 1000\n",
    "dst_type = 3\n",
    "\n",
    "# New solver\n",
    "iet = IET(1, n_in_rs_array, T_AU_array, κ_screen=0.0, kappa_multiscale=κ_multiscale , R_max=R_max, N_bins=N_bins, use_U00_closure=False, dst_type = dst_type )\n",
    "iet.set_u_matrix(Qsquare_matrix[:,:,np.newaxis]/iet.r_array[np.newaxis,np.newaxis,:]/re * np.exp(-iet.r_array[np.newaxis,np.newaxis,:]*κ_screen))\n",
    "\n",
    "# Old solver\n",
    "T_SVT_matrix = np.array( [[Te]]  )\n",
    "oz = OZ(1, np.ones((1,1)) , n_in_rs_array, T_SVT_matrix, mass_array, kappa=np.zeros((1,1)), kappa_multiscale=κ_multiscale , R_max=R_max, N_bins=N_bins, oz_method='standard', dst_type = dst_type)\n",
    "oz.set_βu_matrix(1/T_SVT_matrix[:,:,np.newaxis]*Qsquare_matrix[:,:,np.newaxis]/iet.r_array[np.newaxis,np.newaxis,:]/re* np.exp(-iet.r_array[np.newaxis,np.newaxis,:]*κ_screen))\n"
   ]
  },
  {
   "cell_type": "code",
   "execution_count": null,
   "id": "82cbce3b-011b-4942-b141-aa42c02139f9",
   "metadata": {
    "scrolled": true
   },
   "outputs": [],
   "source": [
    "iet.HNC_solve(num_iterations=1e4, tol=1e-9, iters_to_wait=3e4, iters_to_use=3, alpha_Ng = 1e-3 ,\n",
    "        alpha_Picard = 1e-1, alpha_oz = 0., iters_to_check=10 ,verbose=True, min_iters=20)"
   ]
  },
  {
   "cell_type": "code",
   "execution_count": null,
   "id": "6a237309-a4ce-408c-af73-40cb6289ad51",
   "metadata": {
    "scrolled": true,
    "tags": []
   },
   "outputs": [],
   "source": [
    "oz.HNC_solve(num_iterations=1e4, tol=1e-4, iters_to_wait=3e4, iters_to_use=3, alpha_Ng = 1e-3 ,\n",
    "        alpha_Picard = 1e-1, alpha_oz = 0., iters_to_check=10 ,verbose=True, min_iters=20)"
   ]
  },
  {
   "cell_type": "code",
   "execution_count": null,
   "id": "cd09a320-c767-4b76-945b-552f5d3e80c5",
   "metadata": {
    "tags": []
   },
   "outputs": [],
   "source": [
    "gii_data = read_csv(\"Bonitz2018_Fig3_Γ=100-HNC.txt\", delim_whitespace=True, header=2)\n",
    "\n",
    "fig, ax = plt.subplots()\n",
    "\n",
    "ax.plot(iet.r_array, iet.h_r_matrix[0,0]+1,'-', label='BM OZ',linewidth=3)\n",
    "ax.plot(oz.r_array, oz.h_r_matrix[0,0]+1,'--', label=\"OZ MASS\",linewidth=3)\n",
    "ax.plot(gii_data['r/a'], gii_data['gii'],'k+', label=\"Bonitz 2018\")\n",
    "\n",
    "# ax.plot(svt.r_array, svt.h_r_matrix[1,1]+1,':', label=\"SVT\", linewidth=5)\n",
    "\n",
    "ax.set_xlim(0.5,4)\n",
    "ax.set_ylim(0,1.55)\n",
    "ax.legend()"
   ]
  },
  {
   "cell_type": "code",
   "execution_count": null,
   "id": "1396da59-fc42-4561-a67c-dddf5066be5b",
   "metadata": {
    "tags": []
   },
   "outputs": [],
   "source": [
    "from scipy.interpolate import interp1d\n",
    "def test_BMOZ(iet):\n",
    "    cosθ_space = np.linspace(-1,1, num=1000)\n",
    "    r_space = np.linspace(iet.r_array[0],iet.r_array[-1]/2, num=200)\n",
    "\n",
    "    cosθ_mesh, r_mesh = np.meshgrid(cosθ_space, r_space, indexing='ij')\n",
    "\n",
    "    drdcosθ = (r_space[1]-r_space[0]) * (cosθ_space[1]-cosθ_space[0])\n",
    "    geom = drdcosθ*r_space**2*2*π\n",
    "\n",
    "\n",
    "    def integrate_f1_f2(r_input, r_array, f1, f2):\n",
    "        f1_interp = interp1d(r_array, f1, fill_value='extrapolate', bounds_error=False)\n",
    "        f2_interp = interp1d(r_array, f2, fill_value='extrapolate', bounds_error=False)\n",
    "\n",
    "        r1 = r_mesh\n",
    "        r2 = np.sqrt(r_mesh**2 + r_input**2 + 2*cosθ_mesh*r_mesh*r_input )\n",
    "        return np.sum(geom*f1_interp(r1)*f2_interp(r2))\n",
    "\n",
    "    def get_lhs_rhs_i_j(i,j):\n",
    "        rhs = np.zeros_like(iet.r_array)\n",
    "        lhs = np.zeros_like(iet.r_array)\n",
    "        for k in range(iet.N_species):\n",
    "            rhs += -iet.rho[k]*np.array( [integrate_f1_f2(r, iet.r_array, iet.h_r_matrix[i,k], iet.β_list[k]*iet.U_r_matrix[k,j]) for r in iet.r_array])\n",
    "\n",
    "        lhs = iet.h_r_matrix[i,j] + iet.β_list[j]*iet.U_r_matrix[i,j]\n",
    "        return lhs, rhs\n",
    "    \n",
    "    \n",
    "    # Plot\n",
    "    fig, ax = plt.subplots()\n",
    "\n",
    "    for i in range(iet.N_species):\n",
    "        for j in range(iet.N_species):\n",
    "            color = colors[j + iet.N_species*i]\n",
    "            rhs, lhs = get_lhs_rhs_i_j(i,j)\n",
    "            ax.plot(iet.r_array, rhs,'-', color=color, label=f'rhs ({i},{j})')\n",
    "            ax.plot(iet.r_array, lhs,'--',color=color, label=f'lhs ({i},{j})')\n",
    "            # Error estimate\n",
    "            error_est = np.linalg.norm(rhs-lhs)/np.linalg.norm(lhs)\n",
    "            print(\"{0}-{1} Estimated total OZ error: {2:.3e}\".format(i,j,error_est))\n",
    "\n",
    "    \n",
    "    ax.set_yscale('symlog',linthresh=0.001)\n",
    "    ax.legend()\n",
    "    ax.set_title(\"BM OZ test LHS vs RHS\")\n",
    "    ax.set_ylabel(\"OZ sides\")\n",
    "    ax.set_xlabel(r\"$r/r_i$\")\n",
    "\n",
    "def test_HNC(iet):\n",
    "    lhs = (iet.h_r_matrix + 1)\n",
    "    rhs = np.exp( -iet.β_list[np.newaxis,:,np.newaxis]*iet.u_r_matrix + iet.h_r_matrix + iet.β_list[np.newaxis,:,np.newaxis]*iet.U_r_matrix )\n",
    "    error = np.linalg.norm(lhs-rhs)/np.linalg.norm(lhs)\n",
    "    print(f\"HNC error: {error:0.3e}\")\n",
    "\n",
    "test_BMOZ(iet)\n",
    "test_HNC(iet)\n",
    "\n",
    "# iet.h_r_matrix  + iet.β_list[np.newaxis,:,np.newaxis] * iet.U_r_matrix - iet.A_times_B(iet.h_r_matrix, iet.rho[:, np.newaxis,np.newaxis]*iet.β_list[np.newaxis,:,np.newaxis] * iet.U_r_matrix)  "
   ]
  },
  {
   "cell_type": "code",
   "execution_count": null,
   "id": "493a07be-c941-4c4e-b30b-ae45fff17803",
   "metadata": {},
   "outputs": [],
   "source": []
  }
 ],
 "metadata": {
  "kernelspec": {
   "display_name": "Python 3 (ipykernel)",
   "language": "python",
   "name": "python3"
  },
  "language_info": {
   "codemirror_mode": {
    "name": "ipython",
    "version": 3
   },
   "file_extension": ".py",
   "mimetype": "text/x-python",
   "name": "python",
   "nbconvert_exporter": "python",
   "pygments_lexer": "ipython3",
   "version": "3.10.6"
  }
 },
 "nbformat": 4,
 "nbformat_minor": 5
}
