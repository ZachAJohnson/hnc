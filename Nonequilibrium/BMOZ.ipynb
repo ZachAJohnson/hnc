{
 "cells": [
  {
   "cell_type": "markdown",
   "id": "2f145104-7a48-4d19-906c-848a28f44ac7",
   "metadata": {},
   "source": [
    "# Comparison of Boercker and More Ornsten-Zernike "
   ]
  },
  {
   "cell_type": "code",
   "execution_count": 2,
   "id": "d38b501f-e82b-4ab8-b409-19f37fb13ec3",
   "metadata": {
    "tags": []
   },
   "outputs": [
    {
     "name": "stdout",
     "output_type": "stream",
     "text": [
      "ModuleNotFoundError: No module named 'mendeleev'\n"
     ]
    }
   ],
   "source": [
    "import numpy as np\n",
    "import matplotlib.pyplot as plt\n",
    "from pandas import read_csv\n",
    "\n",
    "# from hnc.hnc.PIE import Plasma_of_Ions_and_Electrons as PLASMA\n",
    "\n",
    "from hnc.hnc.hnc_BandM import Integral_Equation_Solver as IET\n",
    "from hnc.hnc.constants import *\n",
    "from hnc.hnc.misc import n_from_rs, rs_from_n\n",
    "\n",
    "from pandas import read_csv\n",
    "\n",
    "prop_cycle = plt.rcParams['axes.prop_cycle']\n",
    "colors = prop_cycle.by_key()['color']\n",
    "                \n",
    "from IPython.core.display import HTML\n",
    "HTML(\"\"\"\n",
    "<style>\n",
    ".output_png {\n",
    "    display: table-cell;\n",
    "    text-align: center;\n",
    "    vertical-align: middle;\n",
    "}\n",
    "\n",
    "</style>\n",
    "\"\"\")\n",
    "import matplotlib as mpl\n",
    "from cycler import cycler\n",
    "mpl.rcParams['lines.linewidth'] = 2.2\n",
    "mpl.rcParams['axes.spines.right'] = False\n",
    "mpl.rcParams['axes.spines.top'] = False\n",
    "mpl.rcParams['axes.labelsize'] = 20\n",
    "mpl.rcParams['lines.markersize'] = 8\n",
    "mpl.rcParams['font.sans-serif'] = ['Arial', 'Tahoma', 'DejaVu Sans', 'Lucida Grande', 'Verdana']\n",
    "mpl.rcParams['font.size'] = 16\n",
    "mpl.rcParams['axes.grid'] = True\n",
    "mpl.rcParams['grid.color'] = '#636363'\n",
    "mpl.rcParams['grid.alpha'] = 0.12\n",
    "mpl.rcParams['grid.linewidth'] = 0.7\n",
    "mpl.rcParams['grid.linestyle'] = '-'\n",
    "mpl.rcParams['axes.prop_cycle'] = cycler('color',  ['#0AB34F', '#bf009f', '#00abc3', '#8e92c5', '#cc7014', '#e32851'])\n",
    "mpl.rcParams['legend.fancybox'] = True\n",
    "mpl.rcParams['legend.framealpha'] = 0.6\n",
    "mpl.rcParams['legend.fontsize'] = 14\n",
    "mpl.rcParams['figure.figsize'] = 8, 4.9443\n",
    "mpl.rcParams['figure.dpi'] = 100\n"
   ]
  },
  {
   "cell_type": "code",
   "execution_count": 45,
   "id": "7da72736-da29-4011-a893-a2baf6690ee3",
   "metadata": {
    "tags": []
   },
   "outputs": [
    {
     "name": "stdout",
     "output_type": "stream",
     "text": [
      "[[[0.84507957 0.18947278 0.88226001 0.80639171 0.73075478]\n",
      "  [0.47093326 0.17648407 0.08685481 0.91178196 0.25910815]]\n",
      "\n",
      " [[0.52186007 0.94253457 0.78945756 0.95285033 0.29860918]\n",
      "  [0.55776303 0.53993399 0.41340915 0.80290759 0.76295171]]]\n"
     ]
    },
    {
     "data": {
      "text/plain": [
       "array([[0.52186007, 0.94253457, 0.78945756, 0.95285033, 0.29860918]])"
      ]
     },
     "execution_count": 45,
     "metadata": {},
     "output_type": "execute_result"
    }
   ],
   "source": [
    "\n",
    "a = np.random.rand(2,2,5)\n",
    "print(a)\n",
    "a[np.tril_indices(2,-1)]"
   ]
  },
  {
   "cell_type": "code",
   "execution_count": 56,
   "id": "31f9e784-5f6c-460e-94ad-1cabd6a6adaa",
   "metadata": {
    "tags": []
   },
   "outputs": [
    {
     "data": {
      "text/plain": [
       "array([[[0.84507957, 0.18947278, 0.88226001, 0.80639171, 0.73075478],\n",
       "        [0.52186007, 0.94253457, 0.78945756, 0.95285033, 0.29860918]],\n",
       "\n",
       "       [[0.52186007, 0.94253457, 0.78945756, 0.95285033, 0.29860918],\n",
       "        [0.55776303, 0.53993399, 0.41340915, 0.80290759, 0.76295171]]])"
      ]
     },
     "execution_count": 56,
     "metadata": {},
     "output_type": "execute_result"
    }
   ],
   "source": [
    "b = np.zeros((2,2,5))\n",
    "b[np.tril_indices(2,-1)] = a[np.tril_indices(2,-1)]\n",
    "b = b + np.transpose(b,axes=(1,0,2))\n",
    "b[np.diag_indices(2)] = a[np.diag_indices(2)]\n",
    "b"
   ]
  },
  {
   "cell_type": "code",
   "execution_count": null,
   "id": "812e9e6b-895e-400a-bb54-f96359b20a91",
   "metadata": {},
   "outputs": [],
   "source": []
  }
 ],
 "metadata": {
  "kernelspec": {
   "display_name": "Python 3 (ipykernel)",
   "language": "python",
   "name": "python3"
  },
  "language_info": {
   "codemirror_mode": {
    "name": "ipython",
    "version": 3
   },
   "file_extension": ".py",
   "mimetype": "text/x-python",
   "name": "python",
   "nbconvert_exporter": "python",
   "pygments_lexer": "ipython3",
   "version": "3.10.6"
  }
 },
 "nbformat": 4,
 "nbformat_minor": 5
}
