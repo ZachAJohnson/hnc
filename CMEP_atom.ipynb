{
 "cells": [
  {
   "cell_type": "markdown",
   "id": "415426e0",
   "metadata": {},
   "source": [
    "# Import"
   ]
  },
  {
   "cell_type": "code",
   "execution_count": 1,
   "id": "2e5c11ba",
   "metadata": {},
   "outputs": [],
   "source": [
    "import numpy as np\n",
    "import matplotlib.pyplot as plt\n",
    "from pandas import read_csv\n",
    "\n",
    "from CMEP import CMEP_Atom\n",
    "from qsps import QSP_HNC\n",
    "from constants import *\n",
    "# from hnc_Ng import  HNC_solver\n",
    "# from qsps import *\n",
    "\n",
    "prop_cycle = plt.rcParams['axes.prop_cycle']\n",
    "colors = prop_cycle.by_key()['color']\n",
    "        \n",
    "        \n",
    "from IPython.core.display import HTML\n",
    "HTML(\"\"\"\n",
    "<style>\n",
    ".output_png {\n",
    "    display: table-cell;\n",
    "    text-align: center;\n",
    "    vertical-align: middle;\n",
    "}\n",
    "</style>\n",
    "\"\"\")\n",
    "\n",
    "Ha_to_J = 4.359744e-18\n",
    "k_B = 1.380649e-23 \n",
    "m_p = 1.672621898e-27 # kg\n",
    "eV_to_K = 11604.5250061598\n",
    "J_to_erg = 1e7\n",
    "Ha_to_erg = Ha_to_J*J_to_erg"
   ]
  },
  {
   "cell_type": "markdown",
   "id": "01048544",
   "metadata": {},
   "source": [
    "# Function that sets up HNC QSP "
   ]
  },
  {
   "cell_type": "markdown",
   "id": "48448c02",
   "metadata": {},
   "source": [
    "## Load TCCW Cases"
   ]
  },
  {
   "cell_type": "code",
   "execution_count": 2,
   "id": "0b094fa9",
   "metadata": {},
   "outputs": [
    {
     "name": "stdout",
     "output_type": "stream",
     "text": [
      "Te = 1.248e+00 eV, n_i = 1.830e+21 1/cc\n",
      "Te = 1.448e+04 K, ρ = 1.224e-02 [g/cc] \n",
      "r_s = 9.584, r_c/r_s = 0.000\n"
     ]
    }
   ],
   "source": [
    "element='He'\n",
    "\n",
    "if element=='Xe':\n",
    "    ni_cc = 1.25e20\n",
    "    Te_eV = 16.64e3/eV_to_K\n",
    "    Ti_eV = 10.47e3/eV_to_K\n",
    "    Z, A = 54, 131\n",
    "\n",
    "elif element=='He':\n",
    "    ni_cc = 1.83e21 # 1/m^3\n",
    "    Te_eV = 14.48e3/eV_to_K\n",
    "    Ti_eV = 11.66e3/eV_to_K\n",
    "    Z, A = 2,4\n",
    "\n",
    "ni_AU = ni_cc*1e6*aB**3\n",
    "\n",
    "r_s_AU = QSP_HNC.rs_from_n(ni_AU)\n",
    "r_c = 0\n",
    "if r_c>1:\n",
    "    r_c=1e-5\n",
    "print(\"Te = {0:.3e} eV, n_i = {1:.3e} 1/cc\".format(Te_eV, ni_cc))\n",
    "print(\"Te = {0:.3e} K, ρ = {1:.3e} [g/cc] \".format(Te_eV*eV_to_K, 1e3*ni_cc*m_p*A ))\n",
    "print(\"r_s = {0:.3f}, r_c/r_s = {1:.3f}\".format(r_s_AU, r_c))"
   ]
  },
  {
   "cell_type": "code",
   "execution_count": 3,
   "id": "90707159",
   "metadata": {},
   "outputs": [
    {
     "data": {
      "text/plain": [
       "array([20.        , 17.08262993, 14.59081227, 12.46247232, 10.64459014,\n",
       "        9.09187971,  7.76566082,  6.6328955 ,  5.66536496,  4.83896665,\n",
       "        4.13311383,  3.5302227 ,  3.0152744 ,  2.57544084,  2.19976514,\n",
       "        1.87888869,  1.60481801,  1.37072561,  1.17077991,  1.        ])"
      ]
     },
     "execution_count": 3,
     "metadata": {},
     "output_type": "execute_result"
    }
   ],
   "source": [
    "np.geomspace(1,20,num=20)[::-1]"
   ]
  },
  {
   "cell_type": "code",
   "execution_count": 9,
   "id": "82585fc5",
   "metadata": {},
   "outputs": [
    {
     "name": "stdout",
     "output_type": "stream",
     "text": [
      "Te_in_eV: 1.248\n",
      "Ti_in_eV: 1.005\n",
      "0: Initial condition Total Error: 2.039e+01\n",
      "QUIT: Last 10 iterations error has been increasing\n",
      "Exiting status 2, reverting to best index so far: 69\n",
      "Final iter:79, Total Error: 6.179e-02\n",
      "\n",
      "Root Finder:  True The solution converged. final err: 1.567e-10\n"
     ]
    }
   ],
   "source": [
    "T_factors = np.geomspace(1,1,num=1)[::-1]\n",
    "c_list = []\n",
    "T_matrix_list = []\n",
    "atom_list = []\n",
    "for i, T_factor in enumerate(T_factors):\n",
    "    atom = CMEP_Atom(Z, A, ni_cc, T_factor*Ti_eV, T_factor*Te_eV, Zbar=Z,\n",
    "                     βu_options = {'add_bridge':True, 'pseudopotential':True}, \n",
    "                     qsp_options= {'r_c':0.3},\n",
    "                     hnc_options= {'kappa_multiscale':100, 'R_max':5,'N_bins':500, 'h_max':1e4},\n",
    "                     hnc_solve_options={'alpha_Picard':0.1,'tol':1e-8})\n",
    "    if i<2:\n",
    "        atom.run_hnc()\n",
    "    else:\n",
    "        slope = (c_list[-1]-c_list[-2])/(T_matrix_list[-1][:,:,np.newaxis]-T_matrix_list[-2][:,:,np.newaxis])\n",
    "        c_s_k_guess = c_list[-1] + slope*(atom.hnc.Temp_matrix[:,:,np.newaxis]-T_matrix_list[-1][:,:,np.newaxis])\n",
    "#         atom.run_hnc(c_s_k_guess = 1/atom.hnc.Temp_matrix[:,:,np.newaxis]*Tc_s_k_guess)\n",
    "        atom.run_hnc(c_s_k_guess = c_s_k_guess)\n",
    "        \n",
    "#     Tc_list.append(atom.hnc.Temp_matrix[:,:,np.newaxis]*atom.hnc.c_s_k_matrix)\n",
    "    c_list.append(atom.hnc.c_s_k_matrix.copy())\n",
    "    T_matrix_list.append(atom.hnc.Temp_matrix.copy())\n",
    "    atom_list.append(atom)\n",
    "    \n",
    "    "
   ]
  },
  {
   "cell_type": "code",
   "execution_count": 10,
   "id": "03caaa59",
   "metadata": {},
   "outputs": [
    {
     "name": "stdout",
     "output_type": "stream",
     "text": [
      "0: Initial condition Total Error: 2.039e+01\n",
      "QUIT: Last 10 iterations error has been increasing\n",
      "Exiting status 2, reverting to best index so far: 69\n",
      "Final iter:79, Total Error: 6.179e-02\n",
      "\n",
      "Root Finder:  True The solution converged. final err: 1.567e-10\n",
      "Te: 1.248 eV, Zbar = 2.000\n",
      "0: Initial condition Total Error: 4.405e-07\n",
      "QUIT: Last 10 iterations error has been increasing\n",
      "Exiting status 2, reverting to best index so far: 11\n",
      "Final iter:21, Total Error: 1.825e-07\n",
      "\n",
      "Root Finder:  True The solution converged. final err: 8.341e-12\n",
      "Te: 1.248 eV, Zbar = 2.000\n",
      "0: Initial condition Total Error: 1.970e-06\n",
      "QUIT: Last 10 iterations error has been increasing\n",
      "Exiting status 2, reverting to best index so far: 17\n",
      "Final iter:27, Total Error: 1.035e-06\n",
      "\n",
      "Root Finder:  True The solution converged. final err: 4.239e-12\n",
      "Te: 1.248 eV, Zbar = 2.000\n",
      "0: Initial condition Total Error: 1.970e-06\n",
      "QUIT: Last 10 iterations error has been increasing\n",
      "Exiting status 2, reverting to best index so far: 17\n",
      "Final iter:27, Total Error: 1.034e-06\n",
      "\n",
      "Root Finder:  True The solution converged. final err: 2.886e-12\n",
      "Te: 1.248 eV, Zbar = 2.000\n",
      "0: Initial condition Total Error: 4.406e-07\n",
      "QUIT: Last 10 iterations error has been increasing\n",
      "Exiting status 2, reverting to best index so far: 11\n",
      "Final iter:21, Total Error: 1.824e-07\n",
      "\n",
      "Root Finder:  True The solution converged. final err: 3.203e-12\n",
      "\n",
      "_____________________________\n",
      "Heat Capacity Results \n",
      "c^e_v = 8.405e+04 [J/m^3/K], c^i_v  = 1.354e+04 [J/m^3/K] \n",
      "c_v = 9.759e+04 [J/m^3/K] \n",
      "\n",
      "c^e_v/(ne kB)= 1.663 , c^i_v/(ni kB)   = 0.536 \n",
      "c_v/(n kB) = 1.287 \n"
     ]
    }
   ],
   "source": [
    "atom.run_hnc()\n",
    "atom.get_cv(ε_derivative=1e-7, ε_table=1e-6, Zbar_fixed=True)"
   ]
  },
  {
   "cell_type": "markdown",
   "id": "c9be665b",
   "metadata": {},
   "source": [
    "Seeing if full Zbar is sensitive to differing r_c"
   ]
  },
  {
   "cell_type": "code",
   "execution_count": null,
   "id": "7903fc17",
   "metadata": {},
   "outputs": [],
   "source": [
    "# r_c = 0.1\n",
    "Heat Capacity Results \n",
    "c^e_v = 3.261e+03 [J/m^3/K], c^i_v  = 3.512e+04 [J/m^3/K] \n",
    "c_v = 3.838e+04 [J/m^3/K] \n",
    "\n",
    "c^e_v/(ne kB)= 0.279 , c^i_v/(ni kB)   = 1.390 \n",
    "c_v/(n kB) = 1.039  "
   ]
  },
  {
   "cell_type": "code",
   "execution_count": null,
   "id": "df412678",
   "metadata": {},
   "outputs": [],
   "source": [
    "# r_c = 0\n",
    "Heat Capacity Results \n",
    "c^e_v = 1.864e+03 [J/m^3/K], c^i_v  = 3.508e+04 [J/m^3/K] \n",
    "c_v = 3.695e+04 [J/m^3/K] \n",
    "\n",
    "c^e_v/(ne kB)= 0.160 , c^i_v/(ni kB)   = 1.389 \n",
    "c_v/(n kB) = 1.000 "
   ]
  },
  {
   "cell_type": "code",
   "execution_count": 6,
   "id": "1afd975e",
   "metadata": {},
   "outputs": [
    {
     "name": "stdout",
     "output_type": "stream",
     "text": [
      "0: Initial condition Total Error: 2.440e-03\n",
      "Exiting status 0, reverting to best index so far: 6\n",
      "Final iter:8, Total Error: 5.909e-09\n",
      "0: Initial condition Total Error: 4.382e-03\n",
      "Exiting status 0, reverting to best index so far: 8\n",
      "Final iter:10, Total Error: 6.985e-09\n",
      "0: Initial condition Total Error: 4.456e-03\n",
      "Exiting status 0, reverting to best index so far: 8\n",
      "Final iter:10, Total Error: 8.409e-09\n",
      "0: Initial condition Total Error: 2.368e-03\n",
      "Exiting status 0, reverting to best index so far: 6\n",
      "Final iter:8, Total Error: 5.476e-09\n",
      "\n",
      "_____________________________\n",
      "Heat Capacity Results (Effective Ion Picture) \n",
      "c_p = 3.103e+04 [J/m^3/K] = 3.103e+05 [erg/cc/K]\n",
      "c_p^ideal = 2.071e+04 [J/m^3/K] = 2.071e+05 [erg/cc/K]\n",
      "c_v = 1.801e+04 [J/m^3/K] = 1.801e+05 [erg/cc/K]\n",
      "\n",
      "γ = cp/cv = 1.723e+00\n",
      "\n",
      "E/nkBT = 2.027, P/nkBT = 1.637 \n",
      "cp/nkB = 3.746, cv/nkB = 2.174 \n",
      "Total cv/nkB estimate (add ideal electrons):\n",
      "c_v_tot_estimate = 1.837\n"
     ]
    }
   ],
   "source": [
    "atom.get_effective_ion_cp()"
   ]
  },
  {
   "cell_type": "code",
   "execution_count": null,
   "id": "94a5814b",
   "metadata": {},
   "outputs": [],
   "source": []
  },
  {
   "cell_type": "code",
   "execution_count": null,
   "id": "894c498d",
   "metadata": {},
   "outputs": [],
   "source": []
  }
 ],
 "metadata": {
  "kernelspec": {
   "display_name": "Python 3 (ipykernel)",
   "language": "python",
   "name": "python3"
  },
  "language_info": {
   "codemirror_mode": {
    "name": "ipython",
    "version": 3
   },
   "file_extension": ".py",
   "mimetype": "text/x-python",
   "name": "python",
   "nbconvert_exporter": "python",
   "pygments_lexer": "ipython3",
   "version": "3.9.13"
  }
 },
 "nbformat": 4,
 "nbformat_minor": 5
}
