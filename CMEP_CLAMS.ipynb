{
 "cells": [
  {
   "cell_type": "markdown",
   "id": "415426e0",
   "metadata": {},
   "source": [
    "# Import"
   ]
  },
  {
   "cell_type": "code",
   "execution_count": 3,
   "id": "2e5c11ba",
   "metadata": {},
   "outputs": [],
   "source": [
    "import numpy as np\n",
    "import matplotlib.pyplot as plt\n",
    "from pandas import read_csv\n",
    "\n",
    "from CMEP import CMEP_Atom\n",
    "from qsps import QSP_HNC\n",
    "from constants import *\n",
    "# from hnc_Ng import  HNC_solver\n",
    "# from qsps import *\n",
    "\n",
    "prop_cycle = plt.rcParams['axes.prop_cycle']\n",
    "colors = prop_cycle.by_key()['color']\n",
    "        \n",
    "        \n",
    "from IPython.core.display import HTML\n",
    "HTML(\"\"\"\n",
    "<style>\n",
    ".output_png {\n",
    "    display: table-cell;\n",
    "    text-align: center;\n",
    "    vertical-align: middle;\n",
    "}\n",
    "</style>\n",
    "\"\"\")\n",
    "\n",
    "Ha_to_J = 4.359744e-18\n",
    "k_B = 1.380649e-23 \n",
    "m_p = 1.672621898e-27 # kg\n",
    "eV_to_K = 11604.5250061598\n",
    "J_to_erg = 1e7\n",
    "Ha_to_erg = Ha_to_J*J_to_erg"
   ]
  },
  {
   "cell_type": "markdown",
   "id": "01048544",
   "metadata": {},
   "source": [
    "# Function that sets up HNC QSP "
   ]
  },
  {
   "cell_type": "markdown",
   "id": "48448c02",
   "metadata": {},
   "source": [
    "## Load TCCW Cases"
   ]
  },
  {
   "cell_type": "markdown",
   "id": "6e924068",
   "metadata": {},
   "source": [
    "CLAMS: \n",
    "if element=='Xe':\n",
    "    ni_cc = 1.25e20\n",
    "    Te_eV = 16.64e3/eV_to_K\n",
    "    Ti_eV = 10.47e3/eV_to_K\n",
    "    Z, A = 54, 131\n",
    "\n",
    "elif element=='He':\n",
    "    ni_cc = 1.83e21 # 1/m^3\n",
    "    Te_eV = 14.48e3/eV_to_K\n",
    "    Ti_eV = 11.66e3/eV_to_K\n",
    "    Z, A = 2,4\n"
   ]
  },
  {
   "cell_type": "code",
   "execution_count": 12,
   "id": "0b094fa9",
   "metadata": {},
   "outputs": [
    {
     "name": "stdout",
     "output_type": "stream",
     "text": [
      "Te = 1.000e+00 eV, n_i = 1.000e+21 1/cc\n",
      "Te = 1.160e+04 K, ρ = 3.345e-03 [g/cc] \n",
      "r_s = 11.723, r_c/r_s = 0.000\n"
     ]
    }
   ],
   "source": [
    "element='He'\n",
    "\n",
    "if element=='He':\n",
    "    ni_cc = 1e21 # 1/m^3\n",
    "    Te_eV = 1\n",
    "    Ti_eV = Te_eV\n",
    "    Z, A = 2,2\n",
    "\n",
    "ni_AU = ni_cc*1e6*aB**3\n",
    "\n",
    "r_s_AU = QSP_HNC.rs_from_n(ni_AU)\n",
    "r_c = 0\n",
    "if r_c>1:\n",
    "    r_c=1e-5\n",
    "print(\"Te = {0:.3e} eV, n_i = {1:.3e} 1/cc\".format(Te_eV, ni_cc))\n",
    "print(\"Te = {0:.3e} K, ρ = {1:.3e} [g/cc] \".format(Te_eV*eV_to_K, 1e3*ni_cc*m_p*A ))\n",
    "print(\"r_s = {0:.3f}, r_c/r_s = {1:.3f}\".format(r_s_AU, r_c))"
   ]
  },
  {
   "cell_type": "code",
   "execution_count": 14,
   "id": "82585fc5",
   "metadata": {},
   "outputs": [
    {
     "name": "stdout",
     "output_type": "stream",
     "text": [
      "Zbar =  0.40423365518811 0.9707434707865503\n",
      "Te_in_eV: 1.000\n",
      "Ti_in_eV: 1.000\n",
      "0: Initial condition Total Error: 3.197e+00\n",
      "Exiting status 0, reverting to best index so far: 22\n",
      "Final iter:23, Total Error: 7.318e-09\n",
      "\tZbar:  0.40423365518811\n",
      "\tr_c =  0.6\n",
      "P_i = 0.936, P_e = 0.636\n"
     ]
    }
   ],
   "source": [
    "Te_eV_list = [Te_eV]#np.geomspace(3e2,2.5e4, num=10)/eV_to_K\n",
    "Pi_list = []\n",
    "Pe_list = []\n",
    "\n",
    "for i, Te_eV_i in enumerate(Te_eV_list):\n",
    "    \n",
    "    Zbar = CMEP_Atom.ThomasFermiZbar(Z,ni_cc, Te_eV_i )*(np.exp(-2000**2/(Te_eV_i*eV_to_K)**2)+1e-5)\n",
    "    print(\"Zbar = \",Zbar, (np.exp(-2000**2/(Te_eV*eV_to_K)**2)+1e-5))\n",
    "    atom = CMEP_Atom(Z, A, ni_cc, Ti_eV, Te_eV_i, Zbar=Zbar,\n",
    "                     βu_options = {'add_bridge':True, 'pseudopotential':False}, \n",
    "                     qsp_options= {'r_c':0.6},\n",
    "                     hnc_options= {'kappa_multiscale':10, 'R_max':5,'N_bins':500},\n",
    "                     hnc_solve_options={'alpha_Picard':1})\n",
    "    atom.run_hnc()\n",
    "    P_i, P_e = np.sum(atom.hnc.pressure_matrix(), axis=0)/atom.qsp.ri**3 \n",
    "    Pi_list.append(P_i/(atom.qsp.Ti*atom.ni_cc * (1e2*aB)**3))\n",
    "    Pe_list.append(P_e/(atom.qsp.Te*atom.Zbar*atom.ni_cc * (1e2*aB)**3))\n",
    "    print(\"\\tZbar: \", atom.Zbar)\n",
    "    print(\"\\tr_c = \", atom.r_c)\n",
    "    print(\"P_i = {0:.3f}, P_e = {1:.3f}\".format(P_i /(atom.qsp.Ti*atom.ni_cc * (1e2*aB)**3),P_e/(atom.qsp.Ti*atom.Zbar*atom.ni_cc * (1e2*aB)**3)))\n",
    "#     print(\"\\tP/P_id = {0:.3f}\".format(atom.hnc.Pressure/(atom.qsp.Ti*atom.ni_cc * (1e2*aB)**3)))"
   ]
  },
  {
   "cell_type": "code",
   "execution_count": 9,
   "id": "59a1627d",
   "metadata": {},
   "outputs": [
    {
     "name": "stdout",
     "output_type": "stream",
     "text": [
      "P_i = 0.896, P_e = 0.896\n"
     ]
    }
   ],
   "source": [
    "print(\"P_i = {0:.3f}, P_e = {0:.3f}\".format(P_i /(atom.qsp.Ti*atom.ni_cc * (1e2*aB)**3),P_e/(atom.qsp.Ti*atom.Zbar*atom.ni_cc * (1e2*aB)**3)))"
   ]
  },
  {
   "cell_type": "code",
   "execution_count": 10,
   "id": "b59676eb",
   "metadata": {},
   "outputs": [
    {
     "data": {
      "text/plain": [
       "(array([[0.0087737, 0.       ],\n",
       "        [0.       , 0.0045823]]),\n",
       " array([[ 0.03147093, -0.03238759],\n",
       "        [-0.03238759,  0.03045647]]))"
      ]
     },
     "execution_count": 10,
     "metadata": {},
     "output_type": "execute_result"
    }
   ],
   "source": [
    "np.diag(atom.hnc.rho*atom.hnc.Temp_list), atom.hnc.excess_pressure_matrix()"
   ]
  },
  {
   "cell_type": "code",
   "execution_count": 11,
   "id": "a2d60263",
   "metadata": {},
   "outputs": [
    {
     "ename": "TypeError",
     "evalue": "can't multiply sequence by non-int of type 'float'",
     "output_type": "error",
     "traceback": [
      "\u001b[0;31m---------------------------------------------------------------------------\u001b[0m",
      "\u001b[0;31mTypeError\u001b[0m                                 Traceback (most recent call last)",
      "\u001b[0;32m/tmp/ipykernel_23567/2424058491.py\u001b[0m in \u001b[0;36m<module>\u001b[0;34m\u001b[0m\n\u001b[1;32m      4\u001b[0m \u001b[0;31m# ax.plot(Te_eV_list*eV_to_K, np.gradient(Pi_list,Te_eV_list), '.', label='i')\u001b[0m\u001b[0;34m\u001b[0m\u001b[0;34m\u001b[0m\u001b[0m\n\u001b[1;32m      5\u001b[0m \u001b[0;34m\u001b[0m\u001b[0m\n\u001b[0;32m----> 6\u001b[0;31m \u001b[0max\u001b[0m\u001b[0;34m.\u001b[0m\u001b[0mplot\u001b[0m\u001b[0;34m(\u001b[0m\u001b[0mTe_eV_list\u001b[0m\u001b[0;34m*\u001b[0m\u001b[0meV_to_K\u001b[0m\u001b[0;34m,\u001b[0m \u001b[0mPe_list\u001b[0m\u001b[0;34m,\u001b[0m \u001b[0;34m'.'\u001b[0m\u001b[0;34m,\u001b[0m \u001b[0mlabel\u001b[0m\u001b[0;34m=\u001b[0m\u001b[0;34m'e'\u001b[0m\u001b[0;34m)\u001b[0m\u001b[0;34m\u001b[0m\u001b[0;34m\u001b[0m\u001b[0m\n\u001b[0m\u001b[1;32m      7\u001b[0m \u001b[0max\u001b[0m\u001b[0;34m.\u001b[0m\u001b[0mplot\u001b[0m\u001b[0;34m(\u001b[0m\u001b[0mTe_eV_list\u001b[0m\u001b[0;34m*\u001b[0m\u001b[0meV_to_K\u001b[0m\u001b[0;34m,\u001b[0m \u001b[0mPi_list\u001b[0m\u001b[0;34m,\u001b[0m \u001b[0;34m'.'\u001b[0m\u001b[0;34m,\u001b[0m \u001b[0mlabel\u001b[0m\u001b[0;34m=\u001b[0m\u001b[0;34m'i'\u001b[0m\u001b[0;34m)\u001b[0m\u001b[0;34m\u001b[0m\u001b[0;34m\u001b[0m\u001b[0m\n\u001b[1;32m      8\u001b[0m \u001b[0max\u001b[0m\u001b[0;34m.\u001b[0m\u001b[0mset_xscale\u001b[0m\u001b[0;34m(\u001b[0m\u001b[0;34m'log'\u001b[0m\u001b[0;34m)\u001b[0m\u001b[0;34m\u001b[0m\u001b[0;34m\u001b[0m\u001b[0m\n",
      "\u001b[0;31mTypeError\u001b[0m: can't multiply sequence by non-int of type 'float'"
     ]
    },
    {
     "data": {
      "image/png": "[encoded data removed]",
      "text/plain": [
       "<Figure size 576x432 with 1 Axes>"
      ]
     },
     "metadata": {
      "needs_background": "light"
     },
     "output_type": "display_data"
    }
   ],
   "source": [
    "fig, ax = plt.subplots(figsize=(8,6))\n",
    "\n",
    "# ax.plot(Te_eV_list*eV_to_K, np.gradient(Pe_list,Te_eV_list), '.', label='e')\n",
    "# ax.plot(Te_eV_list*eV_to_K, np.gradient(Pi_list,Te_eV_list), '.', label='i')\n",
    "\n",
    "ax.plot(Te_eV_list*eV_to_K, Pe_list, '.', label='e')\n",
    "ax.plot(Te_eV_list*eV_to_K, Pi_list, '.', label='i')\n",
    "ax.set_xscale('log')\n",
    "# ax.set_yscale('log')\n",
    "ax.legend()"
   ]
  },
  {
   "cell_type": "code",
   "execution_count": 15,
   "id": "aa391e38",
   "metadata": {},
   "outputs": [
    {
     "data": {
      "text/plain": [
       "array([[[-4.49483425e+02, -2.99655616e+02, -1.12370856e+02, ...,\n",
       "         -3.62482248e-03, -3.61030863e-03, -3.60307355e-03],\n",
       "        [ 0.00000000e+00,  0.00000000e+00,  0.00000000e+00, ...,\n",
       "          2.49679458e-03,  2.48679737e-03,  2.48181381e-03]],\n",
       "\n",
       "       [[ 0.00000000e+00,  0.00000000e+00,  0.00000000e+00, ...,\n",
       "          2.49679458e-03,  2.48679737e-03,  2.48181381e-03],\n",
       "        [-1.82463522e+00, -1.78519283e+00, -1.70908408e+00, ...,\n",
       "         -1.71979655e-03, -1.71291045e-03, -1.70947777e-03]]])"
      ]
     },
     "execution_count": 15,
     "metadata": {},
     "output_type": "execute_result"
    }
   ],
   "source": [
    "u_matrix = atom.hnc.βu_r_matrix*atom.hnc.Temp_matrix[:,:,np.newaxis]\n",
    "r = atom.hnc.r_array\n",
    "np.gradient(u_matrix, r, axis=2)"
   ]
  },
  {
   "cell_type": "code",
   "execution_count": 18,
   "id": "3911fadb",
   "metadata": {},
   "outputs": [
    {
     "data": {
      "text/plain": [
       "0.3"
      ]
     },
     "execution_count": 18,
     "metadata": {},
     "output_type": "execute_result"
    }
   ],
   "source": [
    "atom.r_c"
   ]
  },
  {
   "cell_type": "code",
   "execution_count": 16,
   "id": "03caaa59",
   "metadata": {},
   "outputs": [
    {
     "name": "stdout",
     "output_type": "stream",
     "text": [
      "0: Initial condition Total Error: 1.232e+00\n",
      "Exiting status 0, reverting to best index so far: 170\n",
      "Final iter:172, Total Error: 2.763e-07\n"
     ]
    }
   ],
   "source": [
    "atom.run_hnc()\n",
    "# atom.get_cv(ε_derivative=1e-7, ε_table=1e-6)"
   ]
  },
  {
   "cell_type": "code",
   "execution_count": 17,
   "id": "636cba4d",
   "metadata": {},
   "outputs": [
    {
     "data": {
      "text/plain": [
       "2.6325192305966776"
      ]
     },
     "execution_count": 17,
     "metadata": {},
     "output_type": "execute_result"
    }
   ],
   "source": [
    "atom.hnc.Pressure/(atom.qsp.Ti*atom.ni_cc * (1e2*aB)**3)"
   ]
  },
  {
   "cell_type": "code",
   "execution_count": 10,
   "id": "875f7c6e",
   "metadata": {},
   "outputs": [
    {
     "ename": "AttributeError",
     "evalue": "'HNC_solver' object has no attribute 'Peff_over_nkBT'",
     "output_type": "error",
     "traceback": [
      "\u001b[0;31m---------------------------------------------------------------------------\u001b[0m",
      "\u001b[0;31mAttributeError\u001b[0m                            Traceback (most recent call last)",
      "\u001b[0;32m/tmp/ipykernel_18787/1611720218.py\u001b[0m in \u001b[0;36m<module>\u001b[0;34m\u001b[0m\n\u001b[0;32m----> 1\u001b[0;31m \u001b[0matom\u001b[0m\u001b[0;34m.\u001b[0m\u001b[0mhnc\u001b[0m\u001b[0;34m.\u001b[0m\u001b[0mPeff_over_nkBT\u001b[0m\u001b[0;34m\u001b[0m\u001b[0;34m\u001b[0m\u001b[0m\n\u001b[0m",
      "\u001b[0;31mAttributeError\u001b[0m: 'HNC_solver' object has no attribute 'Peff_over_nkBT'"
     ]
    }
   ],
   "source": [
    "atom.hnc.Peff_over_nkBT"
   ]
  },
  {
   "cell_type": "code",
   "execution_count": 11,
   "id": "589edb28",
   "metadata": {},
   "outputs": [
    {
     "name": "stdout",
     "output_type": "stream",
     "text": [
      "0: Initial condition Total Error: 2.023e-01\n",
      "Exiting status 0, reverting to best index so far: 147\n",
      "Final iter:149, Total Error: 4.617e-07\n",
      "0: Initial condition Total Error: 1.914e-01\n",
      "Exiting status 0, reverting to best index so far: 146\n",
      "Final iter:148, Total Error: 4.773e-07\n",
      "0: Initial condition Total Error: 2.049e-01\n",
      "Exiting status 0, reverting to best index so far: 147\n",
      "Final iter:149, Total Error: 4.650e-07\n",
      "0: Initial condition Total Error: 1.937e-01\n",
      "Exiting status 0, reverting to best index so far: 146\n",
      "Final iter:148, Total Error: 4.808e-07\n",
      "\n",
      "_____________________________\n",
      "Heat Capacity Results (Effective Ion Picture) \n",
      "c_p = 6.316e+03 [J/m^3/K] = 6.316e+04 [erg/cc/K]\n",
      "c_p^ideal = 4.315e+03 [J/m^3/K] = 4.315e+04 [erg/cc/K]\n",
      "c_v = 3.387e+03 [J/m^3/K] = 3.387e+04 [erg/cc/K]\n",
      "\n",
      "γ = cp/cv = 1.865e+00\n",
      "\n",
      "E/nkBT = 2.187, P/nkBT = 1.897 \n",
      "cp/nkB = 3.660, cv/nkB = 1.962 \n",
      "\n",
      "Total cv/nkB estimate (add ideal electrons):\n",
      "c_v_tot_estimate = 1.689\n"
     ]
    }
   ],
   "source": [
    "atom.get_effective_ion_cp()"
   ]
  },
  {
   "cell_type": "code",
   "execution_count": null,
   "id": "7903fc17",
   "metadata": {},
   "outputs": [],
   "source": [
    "# r_c = 0.1\n",
    "Heat Capacity Results \n",
    "c^e_v = 3.261e+03 [J/m^3/K], c^i_v  = 3.512e+04 [J/m^3/K] \n",
    "c_v = 3.838e+04 [J/m^3/K] \n",
    "\n",
    "c^e_v/(ne kB)= 0.279 , c^i_v/(ni kB)   = 1.390 \n",
    "c_v/(n kB) = 1.039  "
   ]
  },
  {
   "cell_type": "code",
   "execution_count": null,
   "id": "df412678",
   "metadata": {},
   "outputs": [],
   "source": [
    "# r_c = 0\n",
    "Heat Capacity Results \n",
    "c^e_v = 1.864e+03 [J/m^3/K], c^i_v  = 3.508e+04 [J/m^3/K] \n",
    "c_v = 3.695e+04 [J/m^3/K] \n",
    "\n",
    "c^e_v/(ne kB)= 0.160 , c^i_v/(ni kB)   = 1.389 \n",
    "c_v/(n kB) = 1.000 "
   ]
  },
  {
   "cell_type": "code",
   "execution_count": 6,
   "id": "1afd975e",
   "metadata": {},
   "outputs": [
    {
     "name": "stdout",
     "output_type": "stream",
     "text": [
      "0: Initial condition Total Error: 2.440e-03\n",
      "Exiting status 0, reverting to best index so far: 6\n",
      "Final iter:8, Total Error: 5.909e-09\n",
      "0: Initial condition Total Error: 4.382e-03\n",
      "Exiting status 0, reverting to best index so far: 8\n",
      "Final iter:10, Total Error: 6.985e-09\n",
      "0: Initial condition Total Error: 4.456e-03\n",
      "Exiting status 0, reverting to best index so far: 8\n",
      "Final iter:10, Total Error: 8.409e-09\n",
      "0: Initial condition Total Error: 2.368e-03\n",
      "Exiting status 0, reverting to best index so far: 6\n",
      "Final iter:8, Total Error: 5.476e-09\n",
      "\n",
      "_____________________________\n",
      "Heat Capacity Results (Effective Ion Picture) \n",
      "c_p = 3.103e+04 [J/m^3/K] = 3.103e+05 [erg/cc/K]\n",
      "c_p^ideal = 2.071e+04 [J/m^3/K] = 2.071e+05 [erg/cc/K]\n",
      "c_v = 1.801e+04 [J/m^3/K] = 1.801e+05 [erg/cc/K]\n",
      "\n",
      "γ = cp/cv = 1.723e+00\n",
      "\n",
      "E/nkBT = 2.027, P/nkBT = 1.637 \n",
      "cp/nkB = 3.746, cv/nkB = 2.174 \n",
      "Total cv/nkB estimate (add ideal electrons):\n",
      "c_v_tot_estimate = 1.837\n"
     ]
    }
   ],
   "source": [
    "atom.get_effective_ion_cp()"
   ]
  },
  {
   "cell_type": "code",
   "execution_count": null,
   "id": "94a5814b",
   "metadata": {},
   "outputs": [],
   "source": []
  },
  {
   "cell_type": "code",
   "execution_count": null,
   "id": "894c498d",
   "metadata": {},
   "outputs": [],
   "source": []
  }
 ],
 "metadata": {
  "kernelspec": {
   "display_name": "Python 3 (ipykernel)",
   "language": "python",
   "name": "python3"
  },
  "language_info": {
   "codemirror_mode": {
    "name": "ipython",
    "version": 3
   },
   "file_extension": ".py",
   "mimetype": "text/x-python",
   "name": "python",
   "nbconvert_exporter": "python",
   "pygments_lexer": "ipython3",
   "version": "3.10.12"
  }
 },
 "nbformat": 4,
 "nbformat_minor": 5
}
