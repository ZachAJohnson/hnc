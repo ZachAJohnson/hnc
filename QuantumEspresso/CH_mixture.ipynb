{
 "cells": [
  {
   "cell_type": "code",
   "execution_count": 1,
   "id": "dca94424-f5fd-4bd9-9556-24b3324157b6",
   "metadata": {
    "tags": []
   },
   "outputs": [
    {
     "name": "stdout",
     "output_type": "stream",
     "text": [
      "ModuleNotFoundError: No module named 'mendeleev'\n"
     ]
    }
   ],
   "source": [
    "import matplotlib.pyplot as plt\n",
    "import numpy as np\n",
    "from pandas import read_csv\n",
    "import matplotlib as mpl\n",
    "from cycler import cycler\n",
    "from scipy.integrate import simpson\n",
    "from hnc.hnc.constants import *\n",
    "from hnc.hnc.misc import n_from_rs, rs_from_n\n"
   ]
  },
  {
   "cell_type": "markdown",
   "id": "f5e98526-0c7a-4bce-b25e-41ede18499ce",
   "metadata": {
    "tags": []
   },
   "source": [
    "### Pure Carbon to start (x=1)"
   ]
  },
  {
   "cell_type": "code",
   "execution_count": 2,
   "id": "76eb2a6c-2c88-4594-a2ed-433b9d473d1c",
   "metadata": {
    "tags": []
   },
   "outputs": [],
   "source": [
    "ni_cc = 1.10216e23\n",
    "ni_AU = ni_cc*invcc_to_AU\n",
    "T_eV  = 1 \n",
    "\n",
    "N_i = 100\n",
    "L = (N_i/ ni_AU )**(1/3)"
   ]
  },
  {
   "cell_type": "code",
   "execution_count": 19,
   "id": "b04ce5d6-a581-44da-8d18-2418dedba2d0",
   "metadata": {},
   "outputs": [],
   "source": [
    "# Carbon\n",
    "A_C, Z_C = 12.011, 6\n",
    "mC_AU = A_C*m_amu\n",
    "\n",
    "#Hydrogen\n",
    "A_H, Z_H = 1.00784, 1\n",
    "mH_AU = A_H*m_amu\n"
   ]
  },
  {
   "cell_type": "code",
   "execution_count": 24,
   "id": "2644f4be-2925-47b1-a53a-feed05134487",
   "metadata": {
    "tags": []
   },
   "outputs": [
    {
     "name": "stdout",
     "output_type": "stream",
     "text": [
      "In QE RAU, pure carbon (x=1) τp is 521.8980339488359 RAU, so 0.02 τp = 10.437960678976717\n",
      "In QE RAU, pure hydrogen (x=1) τp is 556.3919838415658 RAU, so 0.02 τp = 11.127839676831316\n"
     ]
    }
   ],
   "source": [
    "def Ion_Plasma_Frequency(ni, mi, Zbar):\n",
    "    ωp = np.sqrt(4 * π *Zbar**2 * ni /mi)\n",
    "    return ωp\n",
    "\n",
    "def ThomasFermiZbar( Z, n_AU, T_AU):\n",
    "        \"\"\"\n",
    "        Finite Temperature Thomas Fermi Charge State using \n",
    "        R.M. More, \"Pressure Ionization, Resonances, and the\n",
    "        Continuity of Bound and Free States\", Adv. in atomic \n",
    "        Mol. Phys., Vol. 21, p. 332 (Table IV).\n",
    "\n",
    "        Z = atomic number\n",
    "        n_AU = number density AU\n",
    "        T = temperature AU\n",
    "        \"\"\"\n",
    "\n",
    "        alpha = 14.3139\n",
    "        beta = 0.6624\n",
    "        a1 = 0.003323\n",
    "        a2 = 0.9718\n",
    "        a3 = 9.26148e-5\n",
    "        a4 = 3.10165\n",
    "        b0 = -1.7630\n",
    "        b1 = 1.43175\n",
    "        b2 = 0.31546\n",
    "        c1 = -0.366667\n",
    "        c2 = 0.983333\n",
    "\n",
    "        n_cc = n_AU * AU_to_invcc\n",
    "        T_eV = T_AU * AU_to_eV\n",
    "\n",
    "        convert = n_cc*1.6726219e-24\n",
    "        R = convert/Z\n",
    "        T0 = T_eV/Z**(4./3.)\n",
    "        Tf = T0/(1 + T0)\n",
    "        A = a1*T0**a2 + a3*T0**a4\n",
    "        B = -np.exp(b0 + b1*Tf + b2*Tf**7)\n",
    "        C = c1*Tf + c2\n",
    "        Q1 = A*R**B\n",
    "        Q = (R**C + Q1**C)**(1/C)\n",
    "        x = alpha*Q**beta\n",
    "\n",
    "        return Z*x/(1 + x + np.sqrt(1 + 2.*x))\n",
    "    \n",
    "ωp_AU = Ion_Plasma_Frequency(ni_AU, mC_AU, ThomasFermiZbar(Z_C, ni_AU, T_eV*eV_to_AU))\n",
    "τp_AU = 2*π/(ωp_AU)\n",
    "τp_RAU = τp_AU/2\n",
    "print(f\"In QE RAU, pure carbon (x=1) τp is {τp_RAU} RAU, so 0.02 τp = {τp_RAU*0.02}\")\n",
    "\n",
    "ωp_AU = Ion_Plasma_Frequency(ni_AU, mH_AU, ThomasFermiZbar(Z_H, ni_AU, T_eV*eV_to_AU))\n",
    "τp_AU = 2*π/(ωp_AU)\n",
    "τp_RAU = τp_AU/2\n",
    "print(f\"In QE RAU, pure hydrogen (x=1) τp is {τp_RAU} RAU, so 0.02 τp = {τp_RAU*0.02}\")"
   ]
  },
  {
   "cell_type": "code",
   "execution_count": 23,
   "id": "11b43dd9-f7a1-4910-be59-41fb309d68eb",
   "metadata": {
    "tags": []
   },
   "outputs": [
    {
     "data": {
      "text/plain": [
       "13.544967987570462"
      ]
     },
     "execution_count": 23,
     "metadata": {},
     "output_type": "execute_result"
    }
   ],
   "source": [
    "(ThomasFermiZbar(Z_C, ni_AU, T_eV*eV_to_AU)/ThomasFermiZbar(Z_H, ni_AU, T_eV*eV_to_AU))**2"
   ]
  }
 ],
 "metadata": {
  "kernelspec": {
   "display_name": "Python 3 (ipykernel)",
   "language": "python",
   "name": "python3"
  },
  "language_info": {
   "codemirror_mode": {
    "name": "ipython",
    "version": 3
   },
   "file_extension": ".py",
   "mimetype": "text/x-python",
   "name": "python",
   "nbconvert_exporter": "python",
   "pygments_lexer": "ipython3",
   "version": "3.10.6"
  }
 },
 "nbformat": 4,
 "nbformat_minor": 5
}
