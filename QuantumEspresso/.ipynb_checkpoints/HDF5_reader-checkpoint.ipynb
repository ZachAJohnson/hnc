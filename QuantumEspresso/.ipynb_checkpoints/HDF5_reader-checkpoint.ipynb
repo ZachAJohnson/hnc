{
 "cells": [
  {
   "cell_type": "markdown",
   "id": "ba330e9a-8815-4905-b126-84e47cfab138",
   "metadata": {},
   "source": [
    "### Loading QE Data\n",
    "\n",
    "To some extent the ['developers manual'](https://gitlab.com/QEF/q-e/-/wikis/Developers/Format-of-data-files) helps"
   ]
  },
  {
   "cell_type": "code",
   "execution_count": 20,
   "id": "249171bf-2dc2-471e-8c68-187a3a9e0d4d",
   "metadata": {},
   "outputs": [
    {
     "name": "stdout",
     "output_type": "stream",
     "text": [
      "<KeysViewHDF5 ['MillerIndices', 'rhotot_g']>\n",
      "(608630,)\n"
     ]
    },
    {
     "ename": "IndexError",
     "evalue": "too many indices for array: array is 1-dimensional, but 3 were indexed",
     "output_type": "error",
     "traceback": [
      "\u001b[0;31m---------------------------------------------------------------------------\u001b[0m",
      "\u001b[0;31mIndexError\u001b[0m                                Traceback (most recent call last)",
      "Cell \u001b[0;32mIn[20], line 36\u001b[0m\n\u001b[1;32m     32\u001b[0m     slice_index \u001b[38;5;241m=\u001b[39m charge_density\u001b[38;5;241m.\u001b[39mshape[\u001b[38;5;241m0\u001b[39m] \u001b[38;5;241m/\u001b[39m\u001b[38;5;241m/\u001b[39m \u001b[38;5;241m2\u001b[39m\n\u001b[1;32m     33\u001b[0m     plot_charge_density_slice(charge_density, slice_index)\n\u001b[0;32m---> 36\u001b[0m \u001b[43mmain\u001b[49m\u001b[43m(\u001b[49m\u001b[43m)\u001b[49m\n",
      "Cell \u001b[0;32mIn[20], line 33\u001b[0m, in \u001b[0;36mmain\u001b[0;34m()\u001b[0m\n\u001b[1;32m     31\u001b[0m \u001b[38;5;66;03m# # Plot a slice at a given index, for example, the middle slice\u001b[39;00m\n\u001b[1;32m     32\u001b[0m slice_index \u001b[38;5;241m=\u001b[39m charge_density\u001b[38;5;241m.\u001b[39mshape[\u001b[38;5;241m0\u001b[39m] \u001b[38;5;241m/\u001b[39m\u001b[38;5;241m/\u001b[39m \u001b[38;5;241m2\u001b[39m\n\u001b[0;32m---> 33\u001b[0m \u001b[43mplot_charge_density_slice\u001b[49m\u001b[43m(\u001b[49m\u001b[43mcharge_density\u001b[49m\u001b[43m,\u001b[49m\u001b[43m \u001b[49m\u001b[43mslice_index\u001b[49m\u001b[43m)\u001b[49m\n",
      "Cell \u001b[0;32mIn[20], line 16\u001b[0m, in \u001b[0;36mplot_charge_density_slice\u001b[0;34m(charge_density, slice_index)\u001b[0m\n\u001b[1;32m     15\u001b[0m \u001b[38;5;28;01mdef\u001b[39;00m \u001b[38;5;21mplot_charge_density_slice\u001b[39m(charge_density, slice_index):\n\u001b[0;32m---> 16\u001b[0m     slice_data \u001b[38;5;241m=\u001b[39m \u001b[43mcharge_density\u001b[49m\u001b[43m[\u001b[49m\u001b[43mslice_index\u001b[49m\u001b[43m,\u001b[49m\u001b[43m \u001b[49m\u001b[43m:\u001b[49m\u001b[43m,\u001b[49m\u001b[43m \u001b[49m\u001b[43m:\u001b[49m\u001b[43m]\u001b[49m\n\u001b[1;32m     18\u001b[0m     plt\u001b[38;5;241m.\u001b[39mfigure(figsize\u001b[38;5;241m=\u001b[39m(\u001b[38;5;241m10\u001b[39m, \u001b[38;5;241m8\u001b[39m))\n\u001b[1;32m     19\u001b[0m     plt\u001b[38;5;241m.\u001b[39mcontourf(slice_data, levels\u001b[38;5;241m=\u001b[39m\u001b[38;5;241m50\u001b[39m, cmap\u001b[38;5;241m=\u001b[39m\u001b[38;5;124m'\u001b[39m\u001b[38;5;124mviridis\u001b[39m\u001b[38;5;124m'\u001b[39m)\n",
      "\u001b[0;31mIndexError\u001b[0m: too many indices for array: array is 1-dimensional, but 3 were indexed"
     ]
    }
   ],
   "source": [
    "import h5py\n",
    "import numpy as np\n",
    "import matplotlib.pyplot as plt\n",
    "\n",
    "# Function to read the charge density from the HDF5 file\n",
    "def read_charge_density(filename):\n",
    "    with h5py.File(filename, 'r') as f:\n",
    "        # Assuming the dataset name is 'charge_density'\n",
    "        # This might differ, so you should check the structure of your HDF5 file\n",
    "        print(f.keys())\n",
    "        charge_density = f['rhotot_g'][:]\n",
    "    return charge_density\n",
    "\n",
    "# Function to plot a slice of the charge density as a contour plot\n",
    "def plot_charge_density_slice(charge_density, slice_index):\n",
    "    slice_data = charge_density[slice_index, :, :]\n",
    "    \n",
    "    plt.figure(figsize=(10, 8))\n",
    "    plt.contourf(slice_data, levels=50, cmap='viridis')\n",
    "    plt.colorbar(label='Charge Density')\n",
    "    plt.title(f'Charge Density Slice at Index {slice_index}')\n",
    "    plt.xlabel('X axis')\n",
    "    plt.ylabel('Y axis')\n",
    "    plt.show()\n",
    "\n",
    "# Main function\n",
    "def main():\n",
    "    filename = 'charge-density.hdf5'\n",
    "    charge_density = read_charge_density(filename)\n",
    "    print(charge_density.shape)\n",
    "    # # Plot a slice at a given index, for example, the middle slice\n",
    "    slice_index = charge_density.shape[0] // 2\n",
    "    plot_charge_density_slice(charge_density, slice_index)\n",
    "\n",
    "\n",
    "main()\n"
   ]
  },
  {
   "cell_type": "code",
   "execution_count": 1,
   "id": "daf10096-0e45-4f21-a9fb-f01a86d755b6",
   "metadata": {},
   "outputs": [
    {
     "name": "stdout",
     "output_type": "stream",
     "text": [
      "Charge density saved to charge_density.vtk\n"
     ]
    }
   ],
   "source": [
    "import h5py\n",
    "import numpy as np\n",
    "from scipy.fft import ifftn\n",
    "import pyvista as pv\n",
    "\n",
    "# Function to read the charge density from the HDF5 file\n",
    "def read_charge_density(filename):\n",
    "    with h5py.File(filename, 'r') as f:\n",
    "        miller_indices = f['MillerIndices'][:]\n",
    "        charge_density_g = f['rhotot_g'][:]\n",
    "    return miller_indices, charge_density_g\n",
    "\n",
    "# Function to reshape and transform the charge density\n",
    "def transform_charge_density(miller_indices, charge_density_g):\n",
    "    # Determine the grid size from Miller indices\n",
    "    grid_size = tuple(miller_indices.max(axis=0) + 1)\n",
    "    \n",
    "    # Initialize an empty complex array\n",
    "    charge_density_g_complex = np.zeros(grid_size, dtype=complex)\n",
    "    \n",
    "    # Fill the complex array with values from charge_density_g\n",
    "    for index, value in zip(miller_indices, charge_density_g):\n",
    "        charge_density_g_complex[tuple(index)] = value\n",
    "    \n",
    "    # Perform the inverse Fourier transform to get real space charge density\n",
    "    charge_density_real = np.real(ifftn(charge_density_g_complex))\n",
    "    \n",
    "    return charge_density_real\n",
    "\n",
    "# Function to save the charge density to a VTK file\n",
    "def save_charge_density_vtk(charge_density, filename):\n",
    "    # Create a PyVista ImageData object\n",
    "    grid = pv.ImageData()\n",
    "\n",
    "    # Set the dimensions of the grid\n",
    "    grid.dimensions = np.array(charge_density.shape) + 1\n",
    "\n",
    "    # Set the spacing (assuming unit spacing, adjust if necessary)\n",
    "    spacing = (1, 1, 1)  # Adjust this if your grid spacing is different\n",
    "    grid.spacing = spacing\n",
    "\n",
    "    # Set the origin (assuming origin at (0,0,0), adjust if necessary)\n",
    "    grid.origin = (0, 0, 0)\n",
    "\n",
    "    # Assign the charge density data to the grid\n",
    "    grid.cell_data[\"Charge Density\"] = charge_density.flatten(order=\"F\")\n",
    "\n",
    "    # Save the grid to a VTK file\n",
    "    grid.save(filename)\n",
    "\n",
    "# Main function\n",
    "def main():\n",
    "    filename = 'charge-density.hdf5'\n",
    "    miller_indices, charge_density_g = read_charge_density(filename)\n",
    "    \n",
    "    charge_density_real = transform_charge_density(miller_indices, charge_density_g)\n",
    "    \n",
    "    # Save the charge density to a VTK file\n",
    "    vtk_filename = 'charge_density.vtk'\n",
    "    save_charge_density_vtk(charge_density_real, vtk_filename)\n",
    "    print(f\"Charge density saved to {vtk_filename}\")\n",
    "\n",
    "if __name__ == '__main__':\n",
    "    main()\n"
   ]
  },
  {
   "cell_type": "code",
   "execution_count": null,
   "id": "680608c2-0578-463a-b36f-eb512451ad99",
   "metadata": {},
   "outputs": [],
   "source": []
  }
 ],
 "metadata": {
  "kernelspec": {
   "display_name": "Python 3 (ipykernel)",
   "language": "python",
   "name": "python3"
  },
  "language_info": {
   "codemirror_mode": {
    "name": "ipython",
    "version": 3
   },
   "file_extension": ".py",
   "mimetype": "text/x-python",
   "name": "python",
   "nbconvert_exporter": "python",
   "pygments_lexer": "ipython3",
   "version": "3.10.6"
  }
 },
 "nbformat": 4,
 "nbformat_minor": 5
}
