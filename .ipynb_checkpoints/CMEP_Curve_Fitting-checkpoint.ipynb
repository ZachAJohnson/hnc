{
 "cells": [
  {
   "cell_type": "markdown",
   "id": "415426e0",
   "metadata": {},
   "source": [
    "# Import"
   ]
  },
  {
   "cell_type": "code",
   "execution_count": 1,
   "id": "2e5c11ba",
   "metadata": {},
   "outputs": [],
   "source": [
    "import numpy as np\n",
    "import matplotlib.pyplot as plt\n",
    "from pandas import read_csv\n",
    "\n",
    "from CMEP import CMEP_Atom\n",
    "from qsps import QSP_HNC\n",
    "from constants import *\n",
    "# from hnc_Ng import  HNC_solver\n",
    "# from qsps import *\n",
    "\n",
    "prop_cycle = plt.rcParams['axes.prop_cycle']\n",
    "colors = prop_cycle.by_key()['color']\n",
    "        \n",
    "        \n",
    "from IPython.core.display import HTML\n",
    "HTML(\"\"\"\n",
    "<style>\n",
    ".output_png {\n",
    "    display: table-cell;\n",
    "    text-align: center;\n",
    "    vertical-align: middle;\n",
    "}\n",
    "</style>\n",
    "\"\"\")\n",
    "\n",
    "Ha_to_J = 4.359744e-18\n",
    "k_B = 1.380649e-23 \n",
    "m_p = 1.672621898e-27 # kg\n",
    "eV_to_K = 11604.5250061598\n",
    "J_to_erg = 1e7\n",
    "Ha_to_erg = Ha_to_J*J_to_erg"
   ]
  },
  {
   "cell_type": "markdown",
   "id": "01048544",
   "metadata": {},
   "source": [
    "# Function that sets up HNC QSP "
   ]
  },
  {
   "cell_type": "markdown",
   "id": "48448c02",
   "metadata": {},
   "source": [
    "## Load TCCW Cases"
   ]
  },
  {
   "cell_type": "code",
   "execution_count": 17,
   "id": "0b094fa9",
   "metadata": {},
   "outputs": [
    {
     "name": "stdout",
     "output_type": "stream",
     "text": [
      "Te_in_eV: 1.000\n",
      "Ti_in_eV: 1.000\n",
      "[[45.         -4.36751422]\n",
      " [-4.36751422  1.45527539]]\n",
      "0: Initial condition Total Error: 1.335e+01\n",
      "1: Change in c_r: 3.609e-01, HNC Error: 1.671e-02, Total Error: 4.770e+00\n",
      "2: Change in c_r: 3.448e-01, HNC Error: 3.999e-02, Total Error: 2.622e+00\n",
      "3: Change in c_r: 3.363e-01, HNC Error: 3.479e-02, Total Error: 1.749e+00\n",
      "4: Change in c_r: 3.177e-01, HNC Error: 2.945e-02, Total Error: 1.300e+00\n",
      "5: Change in c_r: 2.978e-01, HNC Error: 2.396e-02, Total Error: 1.009e+00\n",
      "6: Change in c_r: 2.778e-01, HNC Error: 1.955e-02, Total Error: 8.053e-01\n",
      "7: Change in c_r: 2.580e-01, HNC Error: 1.613e-02, Total Error: 6.555e-01\n",
      "8: Change in c_r: 2.388e-01, HNC Error: 1.346e-02, Total Error: 5.418e-01\n",
      "9: Change in c_r: 2.203e-01, HNC Error: 1.135e-02, Total Error: 4.533e-01\n",
      "10: Change in c_r: 2.026e-01, HNC Error: 9.670e-03, Total Error: 3.829e-01\n",
      "11: Change in c_r: 1.858e-01, HNC Error: 8.303e-03, Total Error: 3.260e-01\n",
      "12: Change in c_r: 1.700e-01, HNC Error: 7.177e-03, Total Error: 2.793e-01\n",
      "13: Change in c_r: 1.551e-01, HNC Error: 6.238e-03, Total Error: 2.406e-01\n",
      "14: Change in c_r: 1.411e-01, HNC Error: 5.445e-03, Total Error: 2.081e-01\n",
      "15: Change in c_r: 1.282e-01, HNC Error: 4.771e-03, Total Error: 1.808e-01\n",
      "16: Change in c_r: 1.162e-01, HNC Error: 4.191e-03, Total Error: 1.575e-01\n",
      "17: Change in c_r: 1.052e-01, HNC Error: 3.691e-03, Total Error: 1.376e-01\n",
      "18: Change in c_r: 9.505e-02, HNC Error: 3.256e-03, Total Error: 1.205e-01\n",
      "19: Change in c_r: 8.576e-02, HNC Error: 2.877e-03, Total Error: 1.057e-01\n",
      "20: Change in c_r: 7.727e-02, HNC Error: 2.546e-03, Total Error: 9.292e-02\n",
      "21: Change in c_r: 6.953e-02, HNC Error: 2.254e-03, Total Error: 8.180e-02\n",
      "22: Change in c_r: 6.250e-02, HNC Error: 1.998e-03, Total Error: 7.211e-02\n",
      "23: Change in c_r: 5.612e-02, HNC Error: 1.772e-03, Total Error: 6.363e-02\n",
      "24: Change in c_r: 5.035e-02, HNC Error: 1.572e-03, Total Error: 5.621e-02\n",
      "25: Change in c_r: 4.513e-02, HNC Error: 1.396e-03, Total Error: 4.970e-02\n",
      "26: Change in c_r: 4.043e-02, HNC Error: 1.240e-03, Total Error: 4.398e-02\n",
      "27: Change in c_r: 3.619e-02, HNC Error: 1.101e-03, Total Error: 3.894e-02\n",
      "28: Change in c_r: 3.237e-02, HNC Error: 9.788e-04, Total Error: 3.450e-02\n",
      "29: Change in c_r: 2.895e-02, HNC Error: 8.700e-04, Total Error: 3.058e-02\n",
      "Starting Ng loop, using best index so far:  29\n",
      "|d_n|^2 =  [2.046744011924857, 2.2891338966757706, 2.5588444559946923, 2.8586105807669173, 3.19135574248559]\n",
      " αs:  [  397.80187988 -1200.37719727  1351.21606445  -672.55712891\n",
      "   124.91638184]\n",
      "31: Change in c_r: 2.390e-01, HNC Error: 3.060e-06, Total Error: 1.692e-05\n",
      "|d_n|^2 =  [0.0003095390157115722, 2.046744011924857, 2.2891338966757706, 2.5588444559946923, 2.8586105807669173]\n",
      " αs:  [  0.95678403   8.46986301 -20.91446938  17.20450465  -4.71668231]\n",
      "32: Change in c_r: 1.490e-05, HNC Error: 5.480e-06, Total Error: 6.050e-05\n",
      "|d_n|^2 =  [0.0015066004847617334, 0.0003095390157115722, 2.046744011924857, 2.2891338966757706, 2.5588444559946923]\n",
      " αs:  [ 0.22843341  0.78066057 -0.34089037  0.56131798 -0.2295216 ]\n",
      "33: Change in c_r: 1.963e-05, HNC Error: 4.269e-06, Total Error: 1.615e-05\n",
      "|d_n|^2 =  [0.0009790352074705393, 0.0015066004847617334, 0.0003095390157115722, 2.046744011924857, 2.2891338966757706]\n",
      " αs:  [ 0.39427636  0.13698747  0.46639942  0.02113703 -0.01880029]\n",
      "34: Change in c_r: 2.497e-05, HNC Error: 3.645e-06, Total Error: 3.193e-05\n",
      "|d_n|^2 =  [0.001205746213582675, 0.0009790352074705393, 0.0015066004847617334, 0.0003095390157115722, 2.046744011924857]\n",
      " αs:  [ 6.02665649e-01  5.15247861e-01 -1.63662377e-01  4.57342532e-02\n",
      "  1.46141152e-05]\n",
      "35: Change in c_r: 1.043e-05, HNC Error: 2.449e-08, Total Error: 4.011e-07\n",
      "|d_n|^2 =  [7.725544269705615e-06, 0.001205746213582675, 0.0009790352074705393, 0.0015066004847617334, 0.0003095390157115722]\n",
      " αs:  [ 0.94696554  0.03385885  0.02428227 -0.00676298  0.00165632]\n",
      "36: Change in c_r: 1.780e-07, HNC Error: 7.453e-10, Total Error: 1.660e-08\n",
      "|d_n|^2 =  [5.689608815174046e-07, 7.725544269705615e-06, 0.001205746213582675, 0.0009790352074705393, 0.0015066004847617334]\n",
      " αs:  [ 1.20318254e+00 -2.05972564e-01  1.25758868e-03  2.39856508e-03\n",
      " -8.66128111e-04]\n",
      "37: Change in c_r: 5.479e-08, HNC Error: 3.758e-11, Total Error: 9.745e-10\n",
      "Exiting status 0, reverting to best index so far: 35\n",
      "Final iter:38, Total Error: 9.745e-10\n"
     ]
    }
   ],
   "source": [
    "ni_cc = 0.99961457e22\n",
    "Te_eV = 1\n",
    "Ti_eV = 1\n",
    "Z, A = 3, 1\n",
    "\n",
    "atom = CMEP_Atom(Z, A, ni_cc, Ti_eV, Te_eV, Zbar=Z,\n",
    "                     βu_options = {'add_bridge':True, 'pseudopotential':False}, \n",
    "                     qsp_options= {'r_c':0.0},\n",
    "                     hnc_options= {'kappa_multiscale':10, 'R_max':20,'N_bins':5000},\n",
    "                     hnc_solve_options={'alpha_Picard':1,'iters_to_wait':30,'verbose':True,'iters_to_use':5})\n",
    "print(atom.qsp.Γ_matrix)\n",
    "atom.run_onlyion_hnc()\n"
   ]
  },
  {
   "cell_type": "code",
   "execution_count": 148,
   "id": "332e3899",
   "metadata": {},
   "outputs": [],
   "source": [
    "def h_r_rinf(r, A, α, β, b):\n",
    "    return A/r * np.exp(-α*r)*np.sin(β*r + b)\n",
    "def h_r_r0(r, A, κ):\n",
    "    return np.exp(- A*np.exp(-κ*r))\n",
    "def h_r_rall(r, A, α, β, b, B, κ):\n",
    "    return A/r * np.exp(-α*r)*np.sin(β*r + b) - np.exp(B*np.exp(-κ*r))\n",
    "\n",
    "def h_r_rsin(r, A, α, β, b, B, κ):\n",
    "#     return A/r * np.exp(-α*r)*np.sin(β*(1-np.exp(-κ*r))*r + b)# - np.exp(B*np.exp(-κ*r))\n",
    "    return np.sin(β*r+b )\n",
    "\n",
    "def h_r_rall(r, A, α, β, b, B, κ):\n",
    "    return A/r * np.exp(-α*r)*np.sin(β*r + b)# - np.exp(B*np.exp(-κ*r))\n",
    "#     return np.sin(β*(1-np.exp(-κ*r*3))*r+b )\n"
   ]
  },
  {
   "cell_type": "code",
   "execution_count": 151,
   "id": "fceecdc7",
   "metadata": {},
   "outputs": [
    {
     "name": "stderr",
     "output_type": "stream",
     "text": [
      "/tmp/ipykernel_77929/1824941423.py:5: RuntimeWarning: divide by zero encountered in log\n",
      "  ax.plot(r_array, -np.log(atom.onlyion_hnc.h_r_matrix[0,0]+1))\n",
      "/tmp/ipykernel_77929/1824941423.py:11: RuntimeWarning: invalid value encountered in log\n",
      "  ax.plot(r_array, -np.log( h_r_rinf(r_array, 3.5, 1, 4, 0.85)   +1))\n"
     ]
    },
    {
     "data": {
      "text/plain": [
       "(0.0, 5.0)"
      ]
     },
     "execution_count": 151,
     "metadata": {},
     "output_type": "execute_result"
    },
    {
     "data": {
      "image/png": "[encoded data removed]",
      "text/plain": [
       "<Figure size 432x288 with 1 Axes>"
      ]
     },
     "metadata": {
      "needs_background": "light"
     },
     "output_type": "display_data"
    }
   ],
   "source": [
    "fig, ax = plt.subplots()\n",
    "\n",
    "# ax.plot(atom.onlyion_hnc.r_array, atom.onlyion_hnc.h_r_matrix[0,0]+1)\n",
    "r_array = atom.hnc.r_array\n",
    "ax.plot(r_array, -np.log(atom.onlyion_hnc.h_r_matrix[0,0]+1))\n",
    "# ax.plot(r_array, -np.log(atom.onlyion_hnc.h_r_matrix[0,0]+1)/np.sin(β*r + b))\n",
    "# ax.plot(r_array, atom.onlyion_hnc.h_r_matrix[0,0])\n",
    "# ax.plot(r_array, h_r_rinf(r_array, 3.5, 1, 4, 0.85))\n",
    "# ax.plot(r_array, h_r_rsin(r_array, 3.5, 1, 4, 0.85, 1, 1))\n",
    "# ax.plot(r_array, h_r_rall(r_array, 3.5, 1, 4, 0.85, 1, 0.5))\n",
    "ax.plot(r_array, -np.log( h_r_rinf(r_array, 3.5, 1, 4, 0.85)   +1))\n",
    "# ax.plot(r_array, -np.log( h_r_rinf(r_array, 3.5, 1, 4, 0.85)   +1) + 300*np.exp(-5*r_array) )\n",
    "# ax.plot(r_array, h_r_rinf(r_array, 3.5, 1, 4, 0.85))\n",
    "# ax.plot(r_array, -np.log(h_r_r0(r_array, 200, 5) ))\n",
    "# ax.plot(r_array, -np.log(h_r_r0(r_array, 300, 5) * h_r_rinf(r_array, 3.5, 1, 4, 0.85) ))\n",
    "ax.set_yscale('symlog',linthresh=0.1)\n",
    "ax.set_xlim(0,5)"
   ]
  },
  {
   "cell_type": "code",
   "execution_count": null,
   "id": "c24657af",
   "metadata": {},
   "outputs": [],
   "source": []
  },
  {
   "cell_type": "code",
   "execution_count": null,
   "id": "3e8b3c43",
   "metadata": {},
   "outputs": [],
   "source": []
  }
 ],
 "metadata": {
  "kernelspec": {
   "display_name": "Python 3 (ipykernel)",
   "language": "python",
   "name": "python3"
  },
  "language_info": {
   "codemirror_mode": {
    "name": "ipython",
    "version": 3
   },
   "file_extension": ".py",
   "mimetype": "text/x-python",
   "name": "python",
   "nbconvert_exporter": "python",
   "pygments_lexer": "ipython3",
   "version": "3.10.12"
  }
 },
 "nbformat": 4,
 "nbformat_minor": 5
}
