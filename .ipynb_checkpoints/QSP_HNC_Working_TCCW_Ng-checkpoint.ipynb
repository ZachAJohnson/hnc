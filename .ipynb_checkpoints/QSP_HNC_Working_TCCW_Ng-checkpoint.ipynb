{
 "cells": [
  {
   "cell_type": "code",
   "execution_count": 1,
   "id": "2e5c11ba",
   "metadata": {},
   "outputs": [
    {
     "data": {
      "text/html": [
       "\n",
       "<style>\n",
       ".output_png {\n",
       "    display: table-cell;\n",
       "    text-align: center;\n",
       "    vertical-align: middle;\n",
       "}\n",
       "</style>\n"
      ],
      "text/plain": [
       "<IPython.core.display.HTML object>"
      ]
     },
     "execution_count": 1,
     "metadata": {},
     "output_type": "execute_result"
    }
   ],
   "source": [
    "import numpy as np\n",
    "import matplotlib.pyplot as plt\n",
    "\n",
    "\n",
    "# from hnc_custom_screeningOZ_multiscale import  HNC_solver\n",
    "from hnc_Ng import  HNC_solver\n",
    "from qsps import *\n",
    "\n",
    "prop_cycle = plt.rcParams['axes.prop_cycle']\n",
    "colors = prop_cycle.by_key()['color']\n",
    "        \n",
    "        \n",
    "from IPython.core.display import HTML\n",
    "HTML(\"\"\"\n",
    "<style>\n",
    ".output_png {\n",
    "    display: table-cell;\n",
    "    text-align: center;\n",
    "    vertical-align: middle;\n",
    "}\n",
    "</style>\n",
    "\"\"\")"
   ]
  },
  {
   "cell_type": "code",
   "execution_count": 2,
   "id": "788a53a0",
   "metadata": {},
   "outputs": [],
   "source": [
    "# N_bins, R_max = 500, 3 "
   ]
  },
  {
   "cell_type": "code",
   "execution_count": 3,
   "id": "2b20a5d9",
   "metadata": {},
   "outputs": [],
   "source": [
    "def run_hnc(n_in_per_cc, T, Z, A, Zstar, num_iterations=1e3, alpha_Picard = 1e-3, alpha_Ng = 1e-3, tol=1e-8, c_k_guess=None , which_Tij='thermal',\n",
    "            oz_type='standard', method='best', add_bridge=False, bridge='yukawa' , pseudopotential=False, \n",
    "            r_c=0.6, nums_to_use=5):\n",
    "    n_in_AU = n_in_per_cc*1e6 *aB**3\n",
    "    ri = QSP_HNC.rs_from_n(n_in_AU)\n",
    "    qsp = QSP_HNC(Z, A, Zstar, Te, Ti, ri, Zstar*n_in_AU, which_Tij=which_Tij, r_c=r_c)\n",
    "\n",
    "    N_species = 2\n",
    "    Gamma = np.array(  [[qsp.Γii,  qsp.Γei],\n",
    "                        [qsp.Γei,  qsp.Γee]])\n",
    "\n",
    "\n",
    "    names = [\"Ion-1\", \"Electron\", ] \n",
    "    kappa = 1\n",
    "    rhos = np.array([  3/(4*np.pi), Zstar*3/(4*np.pi) ])\n",
    "    temps = np.array([qsp.Ti, qsp.Te_c])\n",
    "    masses= np.array([qsp.m_i, m_e])\n",
    "    hnc1 = HNC_solver(N_species, Gamma, rhos, temps, masses , tol=tol,\n",
    "                     kappa_multiscale=5, num_iterations=int(num_iterations), \n",
    "                     R_max=R_max, N_bins=N_bins, names=names, dst_type=3, oz_method=oz_type, h_max=1e8)\n",
    "\n",
    "    if pseudopotential==True:\n",
    "        βvei = qsp.βvei_atomic(hnc1.r_array)\n",
    "    else:\n",
    "        βvei = qsp.βvei(hnc1.r_array)\n",
    "    βu_r_matrix = np.array([[qsp.βvii(hnc1.r_array), βvei],\n",
    "                            [βvei, qsp.βvee(hnc1.r_array)]])\n",
    "\n",
    "    if add_bridge:\n",
    "        if bridge=='ocp':\n",
    "            βu_r_matrix[0,0] = βu_r_matrix[0,0] - hnc1.Bridge_function_OCP(hnc1.r_array, qsp.Γii)\n",
    "        elif bridge=='yukawa':\n",
    "            βu_r_matrix[0,0] = βu_r_matrix[0,0] - hnc1.Bridge_function_Yukawa(hnc1.r_array, qsp.Γii, qsp.get_κ())\n",
    "    hnc1.set_βu_matrix(βu_r_matrix)\n",
    "    hnc1.initialize_c_k()\n",
    "#     print(\"c asymm: \", hnc1.c_s_k_matrix[1,0]/hnc1.c_s_k_matrix[0,1])\n",
    "    if c_k_guess is not None:\n",
    "        for i in range(N_species):\n",
    "            for j in range(N_species):\n",
    "                if (c_k_guess[i,j]!=np.zeros(hnc1.N_bins)).all():\n",
    "#                 if i==j:\n",
    "                    hnc1.c_k_matrix[i,j] = c_k_guess[i,j]\n",
    "                    hnc1.c_r_matrix[i,j] = hnc1.FT_k_2_r(hnc1.c_k_matrix[i,j])\n",
    "                    hnc1.c_s_k_matrix[i,j] = hnc1.c_k_matrix[i,j] + hnc1.βu_l_k_matrix[i,j]\n",
    "                    hnc1.c_s_r_matrix[i,j] = hnc1.c_r_matrix[i,j] + hnc1.βu_l_r_matrix[i,j]\n",
    "\n",
    "#     print(\"c asymm: \", hnc1.c_s_k_matrix[1,0]/hnc1.c_s_k_matrix[0,1])\n",
    "    hnc1.set_C_matrix()\n",
    "    hnc1.HNC_solve(alpha_method=method, iters_to_use=nums_to_use, alpha_Ng=alpha_Ng, alpha_Picard = alpha_Picard,\n",
    "                   alpha_oz = 0e-4)\n",
    "#     print(hnc1.HNC_newton_solve())\n",
    "\n",
    "    return hnc1, qsp"
   ]
  },
  {
   "cell_type": "markdown",
   "id": "436ad893",
   "metadata": {},
   "source": [
    "# Priority 1"
   ]
  },
  {
   "cell_type": "markdown",
   "id": "48448c02",
   "metadata": {},
   "source": [
    "## atom"
   ]
  },
  {
   "cell_type": "code",
   "execution_count": 4,
   "id": "cb6d7e9e",
   "metadata": {},
   "outputs": [
    {
     "name": "stdout",
     "output_type": "stream",
     "text": [
      "\n",
      "______________________________\n",
      "Case num: 2 Case ID: Al1\n",
      "Te = 1.000e+00 eV, n_i = 6.030e+22 1/cc, r_c/r_s = 0.217\n"
     ]
    }
   ],
   "source": [
    "mixture_file = \"/home/zach/plasma/hnc/data/TCCW_single_species_data.csv\"\n",
    "tccw_mixture_data = read_csv(mixture_file)\n",
    "tccw_cases = [tccw_mixture_data.iloc[n] for n in range(len(tccw_mixture_data))]\n",
    "\n",
    "case_successes = {}\n",
    "SVT_case_successes = {}\n",
    "R_max = 5\n",
    "N_bins = 500\n",
    "max_attempts=1\n",
    "\n",
    "tccw_case = tccw_cases[2]\n",
    "α = 0.1\n",
    "case_converged=False\n",
    "case_attempts=0\n",
    "case_num= tccw_case[' ']\n",
    "case_id = tccw_case['Case ID']\n",
    "ni = tccw_case['Number Density [N/cc]']\n",
    "Te = tccw_case['Temperature [eV]']*eV\n",
    "Ti = Te\n",
    "Z = tccw_case['Atomic Number']\n",
    "Zstar = tccw_case['Zbar (TF)']\n",
    "A = tccw_case['Atomic Weight [a.u.]']\n",
    "r_s = tccw_case['Wigner-Seitz Radius [cm]']\n",
    "r_c = tccw_case['Average-Bound Radius [cm]']/r_s\n",
    "\n",
    "print('\\n______________________________\\nCase num: {0} Case ID: {1}'.format(case_num, case_id))\n",
    "print(\"Te = {0:.3e} eV, n_i = {1:.3e} 1/cc, r_c/r_s = {2:.3f}\".format(Te/eV, ni, r_c))\n"
   ]
  },
  {
   "cell_type": "code",
   "execution_count": 5,
   "id": "0b094fa9",
   "metadata": {},
   "outputs": [],
   "source": [
    "# ni = 6.03e22 # per cc, rs=3\n",
    "# Te = 1*eV \n",
    "# Ti   = 1*eV \n",
    "# Z, A = 13,27\n",
    "# Zstar= 3"
   ]
  },
  {
   "cell_type": "code",
   "execution_count": 6,
   "id": "a25f6b9f",
   "metadata": {},
   "outputs": [
    {
     "name": "stdout",
     "output_type": "stream",
     "text": [
      "Λei = 0.222\n",
      "Λee = 0.313\n",
      "Λei adjusted with R = 0.222\n",
      "Γii=81.917, Γie=-2.769, Γee=0.923 \n",
      "r_i=2.989\n",
      "r_e=2.073\n",
      "r_c=0.217\n",
      "θ  =8.57e-02\n"
     ]
    },
    {
     "ename": "AttributeError",
     "evalue": "'HNC_solver' object has no attribute 'h_max'",
     "output_type": "error",
     "traceback": [
      "\u001b[0;31m---------------------------------------------------------------------------\u001b[0m",
      "\u001b[0;31mAttributeError\u001b[0m                            Traceback (most recent call last)",
      "Cell \u001b[0;32mIn [6], line 1\u001b[0m\n\u001b[0;32m----> 1\u001b[0m atom, atomqsp \u001b[38;5;241m=\u001b[39m \u001b[43mrun_hnc\u001b[49m\u001b[43m(\u001b[49m\u001b[43mni\u001b[49m\u001b[43m,\u001b[49m\u001b[43m \u001b[49m\u001b[43mTe\u001b[49m\u001b[43m,\u001b[49m\u001b[43m \u001b[49m\u001b[43mZ\u001b[49m\u001b[43m,\u001b[49m\u001b[43m \u001b[49m\u001b[43mA\u001b[49m\u001b[43m,\u001b[49m\u001b[43m \u001b[49m\u001b[43mZstar\u001b[49m\u001b[43m,\u001b[49m\u001b[43m \u001b[49m\u001b[43mnum_iterations\u001b[49m\u001b[38;5;241;43m=\u001b[39;49m\u001b[38;5;241;43m130\u001b[39;49m\u001b[43m,\u001b[49m\u001b[43m \u001b[49m\u001b[43mmethod\u001b[49m\u001b[38;5;241;43m=\u001b[39;49m\u001b[38;5;124;43m'\u001b[39;49m\u001b[38;5;124;43mfixed\u001b[39;49m\u001b[38;5;124;43m'\u001b[39;49m\u001b[43m,\u001b[49m\u001b[43m \u001b[49m\n\u001b[1;32m      2\u001b[0m \u001b[43m                                \u001b[49m\u001b[43mtol\u001b[49m\u001b[38;5;241;43m=\u001b[39;49m\u001b[38;5;241;43m1e-8\u001b[39;49m\u001b[43m,\u001b[49m\u001b[43m  \u001b[49m\u001b[43malpha_Picard\u001b[49m\u001b[38;5;241;43m=\u001b[39;49m\u001b[38;5;241;43m0.5\u001b[39;49m\u001b[43m,\u001b[49m\u001b[43m \u001b[49m\u001b[43malpha_Ng\u001b[49m\u001b[43m \u001b[49m\u001b[38;5;241;43m=\u001b[39;49m\u001b[43m \u001b[49m\u001b[38;5;241;43m1e-8\u001b[39;49m\u001b[43m,\u001b[49m\u001b[43m \u001b[49m\u001b[43mpseudopotential\u001b[49m\u001b[38;5;241;43m=\u001b[39;49m\u001b[38;5;28;43;01mTrue\u001b[39;49;00m\u001b[43m,\u001b[49m\u001b[43m \u001b[49m\u001b[43moz_type\u001b[49m\u001b[38;5;241;43m=\u001b[39;49m\u001b[38;5;124;43m'\u001b[39;49m\u001b[38;5;124;43msvt\u001b[39;49m\u001b[38;5;124;43m'\u001b[39;49m\u001b[43m,\u001b[49m\u001b[43mr_c\u001b[49m\u001b[38;5;241;43m=\u001b[39;49m\u001b[38;5;241;43m0.217\u001b[39;49m\u001b[43m,\u001b[49m\n\u001b[1;32m      3\u001b[0m \u001b[43m                                  \u001b[49m\u001b[43mnums_to_use\u001b[49m\u001b[43m \u001b[49m\u001b[38;5;241;43m=\u001b[39;49m\u001b[43m \u001b[49m\u001b[38;5;241;43m10\u001b[39;49m\u001b[43m,\u001b[49m\u001b[43m \u001b[49m\u001b[43madd_bridge\u001b[49m\u001b[38;5;241;43m=\u001b[39;49m\u001b[38;5;28;43;01mTrue\u001b[39;49;00m\u001b[43m)\u001b[49m\n",
      "Cell \u001b[0;32mIn [3], line 49\u001b[0m, in \u001b[0;36mrun_hnc\u001b[0;34m(n_in_per_cc, T, Z, A, Zstar, num_iterations, alpha_Picard, alpha_Ng, tol, c_k_guess, which_Tij, oz_type, method, add_bridge, bridge, pseudopotential, r_c, nums_to_use)\u001b[0m\n\u001b[1;32m     47\u001b[0m \u001b[38;5;66;03m#     print(\"c asymm: \", hnc1.c_s_k_matrix[1,0]/hnc1.c_s_k_matrix[0,1])\u001b[39;00m\n\u001b[1;32m     48\u001b[0m     hnc1\u001b[38;5;241m.\u001b[39mset_C_matrix()\n\u001b[0;32m---> 49\u001b[0m     \u001b[43mhnc1\u001b[49m\u001b[38;5;241;43m.\u001b[39;49m\u001b[43mHNC_solve\u001b[49m\u001b[43m(\u001b[49m\u001b[43malpha_method\u001b[49m\u001b[38;5;241;43m=\u001b[39;49m\u001b[43mmethod\u001b[49m\u001b[43m,\u001b[49m\u001b[43m \u001b[49m\u001b[43miters_to_use\u001b[49m\u001b[38;5;241;43m=\u001b[39;49m\u001b[43mnums_to_use\u001b[49m\u001b[43m,\u001b[49m\u001b[43m \u001b[49m\u001b[43malpha_Ng\u001b[49m\u001b[38;5;241;43m=\u001b[39;49m\u001b[43malpha_Ng\u001b[49m\u001b[43m,\u001b[49m\u001b[43m \u001b[49m\u001b[43malpha_Picard\u001b[49m\u001b[43m \u001b[49m\u001b[38;5;241;43m=\u001b[39;49m\u001b[43m \u001b[49m\u001b[43malpha_Picard\u001b[49m\u001b[43m,\u001b[49m\n\u001b[1;32m     50\u001b[0m \u001b[43m                   \u001b[49m\u001b[43malpha_oz\u001b[49m\u001b[43m \u001b[49m\u001b[38;5;241;43m=\u001b[39;49m\u001b[43m \u001b[49m\u001b[38;5;241;43m0e-4\u001b[39;49m\u001b[43m,\u001b[49m\u001b[43m \u001b[49m\u001b[43mh_max\u001b[49m\u001b[38;5;241;43m=\u001b[39;49m\u001b[38;5;241;43m1e8\u001b[39;49m\u001b[43m)\u001b[49m\n\u001b[1;32m     51\u001b[0m \u001b[38;5;66;03m#     print(hnc1.HNC_newton_solve())\u001b[39;00m\n\u001b[1;32m     53\u001b[0m     \u001b[38;5;28;01mreturn\u001b[39;00m hnc1, qsp\n",
      "File \u001b[0;32m~/plasma/hnc/hnc_Ng.py:454\u001b[0m, in \u001b[0;36mHNC_solver.HNC_solve\u001b[0;34m(self, h_max, alpha_method, iters_to_wait, iters_to_use, alpha_Ng, alpha_Picard, alpha_oz, iters_to_check)\u001b[0m\n\u001b[1;32m    452\u001b[0m old_c_s_k_matrix \u001b[38;5;241m=\u001b[39m \u001b[38;5;28mself\u001b[39m\u001b[38;5;241m.\u001b[39mc_s_k_matrix\u001b[38;5;241m.\u001b[39mcopy()\n\u001b[1;32m    453\u001b[0m \u001b[38;5;28;01mif\u001b[39;00m iteration \u001b[38;5;241m<\u001b[39m iters_to_wait: \u001b[38;5;66;03m#Picard at first\u001b[39;00m\n\u001b[0;32m--> 454\u001b[0m     guess_c_s_k_matrix \u001b[38;5;241m=\u001b[39m \u001b[38;5;28;43mself\u001b[39;49m\u001b[38;5;241;43m.\u001b[39;49m\u001b[43mguess_c_s_k_matrix\u001b[49m\u001b[43m(\u001b[49m\u001b[38;5;28;43mself\u001b[39;49m\u001b[38;5;241;43m.\u001b[39;49m\u001b[43mc_s_k_matrix\u001b[49m\u001b[43m)\u001b[49m\n\u001b[1;32m    455\u001b[0m     \u001b[38;5;28mself\u001b[39m\u001b[38;5;241m.\u001b[39mc_s_k_matrix \u001b[38;5;241m=\u001b[39m \u001b[38;5;28mself\u001b[39m\u001b[38;5;241m.\u001b[39mPicard_c_s_k(\u001b[38;5;28mself\u001b[39m\u001b[38;5;241m.\u001b[39mc_s_k_matrix, guess_c_s_k_matrix, alpha\u001b[38;5;241m=\u001b[39malpha_Picard )\n\u001b[1;32m    456\u001b[0m \u001b[38;5;28;01melif\u001b[39;00m iteration \u001b[38;5;241m==\u001b[39m iters_to_wait:\n",
      "File \u001b[0;32m~/plasma/hnc/hnc_Ng.py:391\u001b[0m, in \u001b[0;36mHNC_solver.guess_c_s_k_matrix\u001b[0;34m(self, c_s_k_matrix)\u001b[0m\n\u001b[1;32m    389\u001b[0m γs_r_matrix \u001b[38;5;241m=\u001b[39m \u001b[38;5;28mself\u001b[39m\u001b[38;5;241m.\u001b[39mFT_k_2_r_matrix(γs_k_matrix) \u001b[38;5;66;03m# γ_k        -> γ_r   (FT)     \u001b[39;00m\n\u001b[1;32m    390\u001b[0m h_r_matrix \u001b[38;5;241m=\u001b[39m \u001b[38;5;241m-\u001b[39m\u001b[38;5;241m1\u001b[39m \u001b[38;5;241m+\u001b[39m np\u001b[38;5;241m.\u001b[39mexp(γs_r_matrix \u001b[38;5;241m-\u001b[39m \u001b[38;5;28mself\u001b[39m\u001b[38;5;241m.\u001b[39mβu_s_r_matrix) \u001b[38;5;66;03m# 2. γ_r,u_s_r  -> h_r   (HNC)   \u001b[39;00m\n\u001b[0;32m--> 391\u001b[0m h_r_matrix \u001b[38;5;241m=\u001b[39m np\u001b[38;5;241m.\u001b[39mwhere(h_r_matrix\u001b[38;5;241m>\u001b[39m\u001b[38;5;28;43mself\u001b[39;49m\u001b[38;5;241;43m.\u001b[39;49m\u001b[43mh_max\u001b[49m, h_max, h_r_matrix)\n\u001b[1;32m    392\u001b[0m h_k_matrix \u001b[38;5;241m=\u001b[39m \u001b[38;5;28mself\u001b[39m\u001b[38;5;241m.\u001b[39mFT_r_2_k_matrix(h_r_matrix)\n\u001b[1;32m    393\u001b[0m \u001b[38;5;66;03m# Plug into HNC equation\u001b[39;00m\n",
      "\u001b[0;31mAttributeError\u001b[0m: 'HNC_solver' object has no attribute 'h_max'"
     ]
    }
   ],
   "source": [
    "atom, atomqsp = run_hnc(ni, Te, Z, A, Zstar, num_iterations=130, method='fixed', \n",
    "                                tol=1e-8,  alpha_Picard=0.5, alpha_Ng = 1e-8, pseudopotential=True, oz_type='svt',r_c=0.217,\n",
    "                                  nums_to_use = 10, add_bridge=True)\n",
    "# atom, atomqsp = run_hnc(ni, Te, Z, A, Zstar, num_iterations=1e3, method='fixed', \n",
    "#                                 tol=1e-8,  alpha=1e-1, pseudopotential=True, oz_type='svt',r_c=0.217,\n",
    "#                                 nums_to_use = 1e4)"
   ]
  },
  {
   "cell_type": "code",
   "execution_count": null,
   "id": "7fa4e2e6",
   "metadata": {},
   "outputs": [],
   "source": [
    "fig, axs = plt.subplots(2,2, figsize=(16,12))\n",
    "# axs=np.array([[axs]])\n",
    "c_s_r_matrix_list = np.array([atom.FT_k_2_r_matrix(c_s_k_matrix) for c_s_k_matrix in atom.c_s_k_matrix_list])\n",
    "γs_matrix_list = np.array(atom.h_r_matrix_list)-c_s_r_matrix_list\n",
    "for i in range(2):\n",
    "        for j in range(2):\n",
    "            for k in range(100):\n",
    "                color = plt.cm.jet(k/100)\n",
    "                axs[i,j].plot(atom.r_array, γs_matrix_list[-k][i,j], color=color)\n",
    "\n",
    "            axs[-1,j].set_xlabel(r\"$r/r_s$\",fontsize=20)\n",
    "#             axs[i,j].set_xscale('log')\n",
    "            axs[i,j].set_xlim(0.2,5)\n",
    "            axs[i,j].tick_params(labelsize=20)\n",
    "            axs[-1,j].set_xlabel(r\"$k $\",fontsize=20)\n",
    "#             axs[i,j].set_yscale('symlog',linthresh=0.1)\n",
    "#             axs[i,j].set_ylim(-10, 1e1)\n",
    "\n",
    "        axs[i,0].set_ylabel(r\"$\\gamma_s(r)$\",fontsize=20)\n",
    "axs[0,1].set_xlim(0.2,0.3)\n",
    "# axs[0,0].set_xlim(0,0.3)\n",
    "    "
   ]
  },
  {
   "cell_type": "code",
   "execution_count": null,
   "id": "04782b84",
   "metadata": {},
   "outputs": [],
   "source": [
    "fig, axs = plt.subplots(2,2, figsize=(16,12))\n",
    "# axs=np.array([[axs]])\n",
    "c_s_r_matrix_list = np.array([atom.FT_k_2_r_matrix(c_s_k_matrix) for c_s_k_matrix in atom.c_s_k_matrix_list])\n",
    "γs_matrix_list = np.array(atom.h_r_matrix_list)-c_s_r_matrix_list\n",
    "for i in range(2):\n",
    "        for j in range(2):\n",
    "            for k in range(10):\n",
    "                color = plt.cm.jet(k/10)\n",
    "                axs[i,j].plot(atom.r_array, c_s_r_matrix_list[-k][i,j], color=color)\n",
    "\n",
    "            axs[-1,j].set_xlabel(r\"$r/r_s$\",fontsize=20)\n",
    "#             axs[i,j].set_xscale('log')\n",
    "            axs[i,j].set_xlim(0.2,5)\n",
    "            axs[i,j].tick_params(labelsize=20)\n",
    "            axs[-1,j].set_xlabel(r\"$k $\",fontsize=20)\n",
    "#             axs[i,j].set_yscale('symlog',linthresh=0.1)\n",
    "#             axs[i,j].set_ylim(-10, 1e1)\n",
    "\n",
    "        axs[i,0].set_ylabel(r\"$c_s(r)$\",fontsize=20)\n",
    "axs[0,1].set_xlim(0.2,0.3)\n",
    "axs[0,0].set_xlim(0,1)\n",
    "    "
   ]
  },
  {
   "cell_type": "code",
   "execution_count": null,
   "id": "d55962c8",
   "metadata": {},
   "outputs": [],
   "source": [
    "(atom.h_r_matrix_list[-2][0,1]+1)"
   ]
  },
  {
   "cell_type": "code",
   "execution_count": null,
   "id": "6cb84951",
   "metadata": {},
   "outputs": [],
   "source": [
    "atom.plot_species_convergence_g(n_slices= int(len(atom.h_r_matrix_list)/1)  )\n",
    "atom.plot_species_convergence_c(n_slices= int(len(atom.h_r_matrix_list)/1)  )\n",
    "atom.plot_species_convergence_ck(n_slices= int(len(atom.h_r_matrix_list)/1)  )"
   ]
  },
  {
   "cell_type": "code",
   "execution_count": null,
   "id": "ec99cd52",
   "metadata": {},
   "outputs": [],
   "source": [
    "Al_file = \"/home/zach/plasma/datasets/RDFs/Al_1.0eV_rs3_VASP.txt\"  # 1 eV\n",
    "Al_file = '/home/zach/plasma/datasets/RDFs/Al_0.5eV_rs3_KS-MD.txt' # 0.5 eV\n",
    "Al_data = read_csv(Al_file,header=0, names=['r','g'])"
   ]
  },
  {
   "cell_type": "code",
   "execution_count": null,
   "id": "32f44f3a",
   "metadata": {},
   "outputs": [],
   "source": [
    "fig, ax = plt.subplots(figsize=(10,8))\n",
    "fig.suptitle('Al TCCW Case, 1 eV, rs=3', fontsize=20, y=0.95)\n",
    "\n",
    "ax.plot(Al_data['r'], Al_data['g'],'ro', label = 'VASP' )\n",
    "# ax.plot(atom.r_array, atom_one_species.h_r_matrix[0,0] + 1, label='No electrons')\n",
    "ax.plot(atom.r_array, atom.h_r_matrix_list[-1][0,0] + 1, label='SVT Ashcroft Empy Yukawa Bridge')\n",
    "ax.plot(atom.r_array, atom.h_r_matrix_list[-2][0,0] + 1, label='SVT Ashcroft Empy Yukawa Bridge')\n",
    "# ax.plot(atom.r_array, atomSVT.h_r_matrix[0,0] + 1, label='SVT Ashcroft')\n",
    "# ax.plot(atom.r_array, atomSVT_Yuk.h_r_matrix[0,0] + 1,'--', label='SVT Ashcroft + Yukawa Bridge')\n",
    "# ax.plot(atom.r_array, atomSVT_OCP.h_r_matrix[0,0] + 1,'--', label='SVT Ashcroft + OCP Bridge')\n",
    "\n",
    "ax.set_ylabel(r'$g(r)$',fontsize=20)\n",
    "ax.set_xlabel(r'$r/r_s$',fontsize=20)\n",
    "ax.tick_params(labelsize=20)\n",
    "ax.set_xlim(0.5,4)\n",
    "ax.legend(fontsize=15)\n"
   ]
  },
  {
   "cell_type": "code",
   "execution_count": null,
   "id": "b8af0360",
   "metadata": {},
   "outputs": [],
   "source": []
  }
 ],
 "metadata": {
  "kernelspec": {
   "display_name": "Python 3 (ipykernel)",
   "language": "python",
   "name": "python3"
  },
  "language_info": {
   "codemirror_mode": {
    "name": "ipython",
    "version": 3
   },
   "file_extension": ".py",
   "mimetype": "text/x-python",
   "name": "python",
   "nbconvert_exporter": "python",
   "pygments_lexer": "ipython3",
   "version": "3.9.13"
  }
 },
 "nbformat": 4,
 "nbformat_minor": 5
}
