{
 "cells": [
  {
   "cell_type": "markdown",
   "id": "415426e0",
   "metadata": {},
   "source": [
    "# Import"
   ]
  },
  {
   "cell_type": "code",
   "execution_count": 26,
   "id": "2e5c11ba",
   "metadata": {},
   "outputs": [],
   "source": [
    "import numpy as np\n",
    "import matplotlib.pyplot as plt\n",
    "\n",
    "from hnc_Ng import  HNC_solver\n",
    "from qsps import *\n",
    "\n",
    "prop_cycle = plt.rcParams['axes.prop_cycle']\n",
    "colors = prop_cycle.by_key()['color']\n",
    "        \n",
    "        \n",
    "from IPython.core.display import HTML\n",
    "HTML(\"\"\"\n",
    "<style>\n",
    ".output_png {\n",
    "    display: table-cell;\n",
    "    text-align: center;\n",
    "    vertical-align: middle;\n",
    "}\n",
    "</style>\n",
    "\"\"\")\n",
    "\n",
    "Ha_to_J = 4.359744e-18\n",
    "k_B = 1.380649e-23 \n",
    "m_p = 1.672621898e-27 # kg\n",
    "eV_to_K = 11604.5250061598\n",
    "J_to_erg = 1e7\n",
    "Ha_to_erg = Ha_to_J*J_to_erg"
   ]
  },
  {
   "cell_type": "markdown",
   "id": "01048544",
   "metadata": {},
   "source": [
    "# Function that sets up HNC QSP "
   ]
  },
  {
   "cell_type": "code",
   "execution_count": 2,
   "id": "23c02987",
   "metadata": {},
   "outputs": [],
   "source": [
    "def set_hnc(n_in_per_cc, T, Z, A, Zstar, c_k_guess=None , which_Tij='thermal',\n",
    "            oz_type='standard', method='kryov', add_bridge=False, bridge='yukawa',\n",
    "            pseudopotential=False, r_c=0.6, no_coupling=False, N_bins = 500, R_max=5):\n",
    "    \n",
    "    n_in_AU = n_in_per_cc*1e6 *aB**3\n",
    "    ri = QSP_HNC.rs_from_n(n_in_AU)\n",
    "    qsp = QSP_HNC(Z, A, Zstar, T, T, ri, Zstar*n_in_AU, which_Tij=which_Tij, r_c=r_c)\n",
    "\n",
    "    N_species = 2\n",
    "    Gamma = np.array(  [[qsp.Γii,  qsp.Γei],\n",
    "                        [qsp.Γei,  qsp.Γee]])\n",
    "\n",
    "\n",
    "    names = [\"Ion-1\", \"Electron\", ] \n",
    "    kappa = 1\n",
    "    \n",
    "    rhos = np.array([  3/(4*np.pi), Zstar*3/(4*np.pi) ])\n",
    "    temps = np.array([qsp.Ti, qsp.Te_c])\n",
    "    masses= np.array([qsp.m_i, m_e])\n",
    "    hnc1 = HNC_solver(N_species, Gamma, rhos, temps, masses ,\n",
    "                     kappa_multiscale=10, R_max=R_max, N_bins=N_bins, \n",
    "                      names=names, dst_type=3, oz_method=oz_type)\n",
    "\n",
    "    if pseudopotential==True:\n",
    "        βvei = qsp.βvei_atomic(hnc1.r_array)\n",
    "    else:\n",
    "        βvei = qsp.βvei(hnc1.r_array)\n",
    "    βu_r_matrix = np.array([[qsp.βvii(hnc1.r_array), βvei],\n",
    "                            [βvei, qsp.βvee(hnc1.r_array)]])\n",
    "    if no_coupling:\n",
    "        βu_r_matrix[0,1]=0\n",
    "        βu_r_matrix[1,0]=0\n",
    "    \n",
    "    if add_bridge:\n",
    "        if bridge=='ocp':\n",
    "            βu_r_matrix[0,0] = βu_r_matrix[0,0] - hnc1.Bridge_function_OCP(hnc1.r_array, qsp.Γii)\n",
    "        elif bridge=='yukawa':\n",
    "            βu_r_matrix[0,0] = βu_r_matrix[0,0] - hnc1.Bridge_function_Yukawa(hnc1.r_array, qsp.Γii, qsp.get_κ())\n",
    "    hnc1.set_βu_matrix(βu_r_matrix)\n",
    "    hnc1.initialize_c_k()\n",
    "#     print(\"c asymm: \", hnc1.c_s_k_matrix[1,0]/hnc1.c_s_k_matrix[0,1])\n",
    "    if c_k_guess is not None:\n",
    "        for i in range(N_species):\n",
    "            for j in range(N_species):\n",
    "                if (c_k_guess[i,j]!=np.zeros(hnc1.N_bins)).all():\n",
    "#                 if i==j:\n",
    "                    hnc1.c_k_matrix[i,j] = c_k_guess[i,j]\n",
    "                    hnc1.c_r_matrix[i,j] = hnc1.FT_k_2_r(hnc1.c_k_matrix[i,j])\n",
    "                    hnc1.c_s_k_matrix[i,j] = hnc1.c_k_matrix[i,j] + hnc1.βu_l_k_matrix[i,j]\n",
    "                    hnc1.c_s_r_matrix[i,j] = hnc1.c_r_matrix[i,j] + hnc1.βu_l_r_matrix[i,j]\n",
    "\n",
    "#     print(\"c asymm: \", hnc1.c_s_k_matrix[1,0]/hnc1.c_s_k_matrix[0,1])\n",
    "    hnc1.set_C_matrix()\n",
    "\n",
    "    return hnc1, qsp"
   ]
  },
  {
   "cell_type": "markdown",
   "id": "48448c02",
   "metadata": {},
   "source": [
    "## Load TCCW Cases"
   ]
  },
  {
   "cell_type": "code",
   "execution_count": 3,
   "id": "754dd9d8",
   "metadata": {},
   "outputs": [],
   "source": [
    "AU_to_Pa  = 2.9421015697e13 \n",
    "Pa_to_bar = 1e-5\n",
    "AU_to_bar = AU_to_Pa*Pa_to_bar "
   ]
  },
  {
   "cell_type": "code",
   "execution_count": 4,
   "id": "0b094fa9",
   "metadata": {},
   "outputs": [
    {
     "name": "stdout",
     "output_type": "stream",
     "text": [
      "\n",
      "______________________________\n",
      "Case num: 0 Case ID: H1\n",
      "Te = 2.000e+00 eV, n_i = 5.980e+23 1/cc, r_c/r_s = 0.371\n",
      "Te = 2.321e+04 K, ρ = 1.008e+00 [g/cc] \n",
      "P  = 2.810e+06 [bar] = 9.551e-03 [AU]\n"
     ]
    }
   ],
   "source": [
    "mixture_file = \"/home/zach/plasma/hnc/data/TCCW_single_species_data.csv\"\n",
    "tccw_mixture_data = read_csv(mixture_file)\n",
    "tccw_cases = [tccw_mixture_data.iloc[n] for n in range(len(tccw_mixture_data))]\n",
    "\n",
    "case_successes = {}\n",
    "SVT_case_successes = {}\n",
    "# R_max = 3\n",
    "# N_bins = 100\n",
    "max_attempts=1\n",
    "\n",
    "tccw_case = tccw_cases[0]\n",
    "α = 0.1\n",
    "case_converged=False\n",
    "case_attempts=0\n",
    "case_num= tccw_case[' ']\n",
    "case_id = tccw_case['Case ID']\n",
    "ni_cc = tccw_case['Number Density [N/cc]']\n",
    "Te = tccw_case['Temperature [eV]']*eV\n",
    "Ti = Te\n",
    "Z = tccw_case['Atomic Number']\n",
    "Zstar = tccw_case['Zbar (TFDW)']\n",
    "P_GP_AU  = tccw_case['p (Bar)']/AU_to_bar\n",
    "A = tccw_case['Atomic Weight [a.u.]']\n",
    "r_s_cc = tccw_case['Wigner-Seitz Radius [cm]']\n",
    "r_c = tccw_case['Average-Bound Radius [cm]']/r_s_cc\n",
    "if r_c>1:\n",
    "    r_c=1e-5\n",
    "print('\\n______________________________\\nCase num: {0} Case ID: {1}'.format(case_num, case_id))\n",
    "print(\"Te = {0:.3e} eV, n_i = {1:.3e} 1/cc, r_c/r_s = {2:.3f}\".format(Te/eV, ni_cc, r_c))\n",
    "print(\"Te = {0:.3e} K, ρ = {1:.3e} [g/cc] \".format(Te/eV*eV_to_K, 1e3*ni_cc*m_p*A ))\n",
    "print(\"P  = {0:.3e} [bar] = {1:.3e} [AU]\".format(P_GP_AU*AU_to_bar, P_GP_AU))"
   ]
  },
  {
   "cell_type": "markdown",
   "id": "ca90c7da",
   "metadata": {},
   "source": [
    "# Make atom"
   ]
  },
  {
   "cell_type": "code",
   "execution_count": 5,
   "id": "c24fbe7f",
   "metadata": {},
   "outputs": [
    {
     "ename": "NameError",
     "evalue": "name 'atom_table' is not defined",
     "output_type": "error",
     "traceback": [
      "\u001b[0;31m---------------------------------------------------------------------------\u001b[0m",
      "\u001b[0;31mNameError\u001b[0m                                 Traceback (most recent call last)",
      "\u001b[0;32m/tmp/ipykernel_21330/2608411213.py\u001b[0m in \u001b[0;36m<module>\u001b[0;34m\u001b[0m\n\u001b[1;32m      1\u001b[0m \u001b[0mfig\u001b[0m\u001b[0;34m,\u001b[0m\u001b[0max\u001b[0m \u001b[0;34m=\u001b[0m \u001b[0mplt\u001b[0m\u001b[0;34m.\u001b[0m\u001b[0msubplots\u001b[0m\u001b[0;34m(\u001b[0m\u001b[0;34m)\u001b[0m\u001b[0;34m\u001b[0m\u001b[0;34m\u001b[0m\u001b[0m\n\u001b[0;32m----> 2\u001b[0;31m \u001b[0matom_list\u001b[0m \u001b[0;34m=\u001b[0m \u001b[0mnp\u001b[0m\u001b[0;34m.\u001b[0m\u001b[0marray\u001b[0m\u001b[0;34m(\u001b[0m\u001b[0matom_table\u001b[0m\u001b[0;34m)\u001b[0m\u001b[0;34m.\u001b[0m\u001b[0mflatten\u001b[0m\u001b[0;34m(\u001b[0m\u001b[0;34m)\u001b[0m\u001b[0;34m\u001b[0m\u001b[0;34m\u001b[0m\u001b[0m\n\u001b[0m\u001b[1;32m      3\u001b[0m \u001b[0;31m# for atom in atom_list:\u001b[0m\u001b[0;34m\u001b[0m\u001b[0;34m\u001b[0m\u001b[0m\n\u001b[1;32m      4\u001b[0m \u001b[0;31m#     ax.plot(atom.r_array, atom.h_r_matrix[0,0]+1 )\u001b[0m\u001b[0;34m\u001b[0m\u001b[0;34m\u001b[0m\u001b[0m\n\u001b[1;32m      5\u001b[0m \u001b[0;31m# ax.plot(atom.r_array, (atom_list[2].h_r_matrix[0,0]+1) - (atom_list[1].h_r_matrix[0,0]+1) )\u001b[0m\u001b[0;34m\u001b[0m\u001b[0;34m\u001b[0m\u001b[0m\n",
      "\u001b[0;31mNameError\u001b[0m: name 'atom_table' is not defined"
     ]
    },
    {
     "data": {
      "image/png": "[encoded data removed]",
      "text/plain": [
       "<Figure size 640x480 with 1 Axes>"
      ]
     },
     "metadata": {},
     "output_type": "display_data"
    }
   ],
   "source": [
    "fig,ax = plt.subplots()\n",
    "atom_list = np.array(atom_table).flatten()\n",
    "# for atom in atom_list:\n",
    "#     ax.plot(atom.r_array, atom.h_r_matrix[0,0]+1 )\n",
    "# ax.plot(atom.r_array, (atom_list[2].h_r_matrix[0,0]+1) - (atom_list[1].h_r_matrix[0,0]+1) )\n",
    "ax.plot(atom.r_array, np.exp(-atom.βueff_r_matrix[0,0]))\n",
    "ax.plot(atom.r_array, np.gradient(np.exp(-atom.βueff_r_matrix[0,0]),atom.r_array ))\n",
    "ax.plot(atom.r_array, np.heaviside(atom.r_array-2,0.5))\n",
    "ax.plot(atom.r_array, atom.h_r_matrix[0,0]+1)\n"
   ]
  },
  {
   "cell_type": "code",
   "execution_count": 6,
   "id": "9de12114",
   "metadata": {},
   "outputs": [
    {
     "ename": "NameError",
     "evalue": "name 'atom' is not defined",
     "output_type": "error",
     "traceback": [
      "\u001b[0;31m---------------------------------------------------------------------------\u001b[0m",
      "\u001b[0;31mNameError\u001b[0m                                 Traceback (most recent call last)",
      "\u001b[0;32m/tmp/ipykernel_21330/4182659987.py\u001b[0m in \u001b[0;36m<module>\u001b[0;34m\u001b[0m\n\u001b[1;32m     10\u001b[0m     \u001b[0mP\u001b[0m \u001b[0;34m=\u001b[0m \u001b[0mN\u001b[0m\u001b[0;34m*\u001b[0m\u001b[0mqsp\u001b[0m\u001b[0;34m.\u001b[0m\u001b[0mTi\u001b[0m\u001b[0;34m/\u001b[0m\u001b[0;34m(\u001b[0m\u001b[0mVol_AU\u001b[0m \u001b[0;34m-\u001b[0m \u001b[0mN\u001b[0m\u001b[0;34m*\u001b[0m\u001b[0mv_AU\u001b[0m\u001b[0;34m)\u001b[0m\u001b[0;34m\u001b[0m\u001b[0;34m\u001b[0m\u001b[0m\n\u001b[1;32m     11\u001b[0m     \u001b[0;32mreturn\u001b[0m \u001b[0mP\u001b[0m\u001b[0;34m\u001b[0m\u001b[0;34m\u001b[0m\u001b[0m\n\u001b[0;32m---> 12\u001b[0;31m \u001b[0mHS_Pressure\u001b[0m\u001b[0;34m(\u001b[0m\u001b[0matom\u001b[0m\u001b[0;34m,\u001b[0m \u001b[0matomqsp\u001b[0m\u001b[0;34m)\u001b[0m\u001b[0;34m\u001b[0m\u001b[0;34m\u001b[0m\u001b[0m\n\u001b[0m",
      "\u001b[0;31mNameError\u001b[0m: name 'atom' is not defined"
     ]
    }
   ],
   "source": [
    "def HS_Pressure(atom, qsp):\n",
    "#     R_HS = -0.5*np.sum( atom.del_r*( np.exp(-atom.βueff_r_matrix[0,0]) -1))\n",
    "    R_HS = 0.5*qsp.ri*atom.r_array[np.argmax(atom.h_r_matrix[0,0])]\n",
    "    n_AU = qsp.ni\n",
    "    Vol_AU = 4/3 * π * (R_max*qsp.ri)**3\n",
    "    N = Vol_AU*n_AU\n",
    "    \n",
    "    v_AU = 4/3*π*R_HS**3\n",
    "    print(Vol_AU/N, v_AU)\n",
    "    P = N*qsp.Ti/(Vol_AU - N*v_AU)\n",
    "    return P\n",
    "HS_Pressure(atom, atomqsp)"
   ]
  },
  {
   "cell_type": "code",
   "execution_count": 43,
   "id": "368f7435",
   "metadata": {},
   "outputs": [],
   "source": [
    "def get_U_P(atom, qsp):\n",
    "    r, dr = qsp.ri*atom.r_array, qsp.ri*atom.del_r\n",
    "    Vol_AU = 4/3 * π * (R_max*qsp.ri)**3\n",
    "    g_r, βveff_r, T, n_AU = atom.heff_r_matrix[0,0]+1, atom.βueff_r_matrix[0,0], qsp.Ti, qsp.ni\n",
    "    veff_r = βveff_r*T\n",
    "    F = -np.gradient(veff_r, r)\n",
    "    veff_r = βveff_r*T\n",
    "\n",
    "    N = Vol_AU*n_AU\n",
    "    \n",
    "    U_ideal = 3/2 * N * T\n",
    "    P_ideal = n_AU * T\n",
    "    \n",
    "    U_ex    = 2*π*n_AU*N * np.sum( veff_r * g_r * r**2 * dr, axis=0 )\n",
    "    P_ex    = 2*π/3 * n_AU**2 * np.sum( F * g_r * r**3 * dr, axis=0)\n",
    "    return U_ideal + U_ex, P_ideal + P_ex\n",
    "\n",
    "def get_H(atom, qsp):\n",
    "    Vol_AU = 4/3 * π * (R_max*qsp.ri)**3\n",
    "    U, P = get_U_P(atom, qsp)\n",
    "    return U + P*Vol_AU\n",
    "\n",
    "# get_U_P(atom, atomqsp), get_H(atom, atomqsp)"
   ]
  },
  {
   "cell_type": "code",
   "execution_count": 44,
   "id": "c59697d9",
   "metadata": {},
   "outputs": [
    {
     "name": "stdout",
     "output_type": "stream",
     "text": [
      "5.3819999999999996e+23 0.06615216\n",
      "Λei = 0.354\n",
      "Λee = 0.501\n",
      "Λei adjusted with R = 0.354\n",
      "Γii=6.382, Γie=-0.885, Γee=1.135 \n",
      "r_i=1.441\n",
      "r_e=1.566\n",
      "r_c=0.371\n",
      "θ  =8.81e-02\n",
      "0: Initial condition Total Error: 1.646e+01\n",
      "1: Change in c_r: 1.610e-01, HNC Error: 2.154e-02, Total Error: 1.120e+00\n",
      "2: Change in c_r: 1.135e-01, HNC Error: 1.302e-02, Total Error: 3.462e-01\n",
      "3: Change in c_r: 8.232e-02, HNC Error: 8.681e-03, Total Error: 1.670e-01\n",
      "4: Change in c_r: 5.745e-02, HNC Error: 5.726e-03, Total Error: 9.282e-02\n",
      "5: Change in c_r: 3.856e-02, HNC Error: 3.692e-03, Total Error: 5.442e-02\n",
      "6: Change in c_r: 2.521e-02, HNC Error: 2.350e-03, Total Error: 3.277e-02\n",
      "7: Change in c_r: 1.620e-02, HNC Error: 1.485e-03, Total Error: 2.000e-02\n",
      "8: Change in c_r: 1.030e-02, HNC Error: 9.335e-04, Total Error: 1.231e-02\n",
      "9: Change in c_r: 6.497e-03, HNC Error: 5.850e-04, Total Error: 7.612e-03\n",
      "10: Change in c_r: 4.080e-03, HNC Error: 3.658e-04, Total Error: 4.721e-03\n",
      "11: Change in c_r: 2.555e-03, HNC Error: 2.285e-04, Total Error: 2.933e-03\n",
      "12: Change in c_r: 1.597e-03, HNC Error: 1.425e-04, Total Error: 1.824e-03\n",
      "13: Change in c_r: 9.969e-04, HNC Error: 8.890e-05, Total Error: 1.135e-03\n",
      "14: Change in c_r: 6.219e-04, HNC Error: 5.542e-05, Total Error: 7.068e-04\n",
      "15: Change in c_r: 3.878e-04, HNC Error: 3.454e-05, Total Error: 4.402e-04\n",
      "16: Change in c_r: 2.417e-04, HNC Error: 2.153e-05, Total Error: 2.742e-04\n",
      "17: Change in c_r: 1.507e-04, HNC Error: 1.341e-05, Total Error: 1.708e-04\n",
      "18: Change in c_r: 9.389e-05, HNC Error: 8.359e-06, Total Error: 1.064e-04\n",
      "19: Change in c_r: 5.851e-05, HNC Error: 5.209e-06, Total Error: 6.630e-05\n",
      "20: Change in c_r: 3.646e-05, HNC Error: 3.245e-06, Total Error: 4.131e-05\n",
      "21: Change in c_r: 2.272e-05, HNC Error: 2.022e-06, Total Error: 2.574e-05\n",
      "22: Change in c_r: 1.415e-05, HNC Error: 1.260e-06, Total Error: 1.604e-05\n",
      "23: Change in c_r: 8.819e-06, HNC Error: 7.850e-07, Total Error: 9.991e-06\n",
      "24: Change in c_r: 5.495e-06, HNC Error: 4.891e-07, Total Error: 6.225e-06\n",
      "25: Change in c_r: 3.424e-06, HNC Error: 3.048e-07, Total Error: 3.879e-06\n",
      "26: Change in c_r: 2.133e-06, HNC Error: 1.899e-07, Total Error: 2.417e-06\n",
      "27: Change in c_r: 1.329e-06, HNC Error: 1.183e-07, Total Error: 1.506e-06\n",
      "28: Change in c_r: 8.282e-07, HNC Error: 7.372e-08, Total Error: 9.382e-07\n",
      "29: Change in c_r: 5.160e-07, HNC Error: 4.593e-08, Total Error: 5.846e-07\n",
      "30: Change in c_r: 3.215e-07, HNC Error: 2.862e-08, Total Error: 3.642e-07\n",
      "31: Change in c_r: 2.003e-07, HNC Error: 1.783e-08, Total Error: 2.269e-07\n",
      "32: Change in c_r: 1.248e-07, HNC Error: 1.111e-08, Total Error: 1.414e-07\n",
      "33: Change in c_r: 7.777e-08, HNC Error: 6.922e-09, Total Error: 8.810e-08\n",
      "34: Change in c_r: 4.845e-08, HNC Error: 4.313e-09, Total Error: 5.489e-08\n",
      "35: Change in c_r: 3.019e-08, HNC Error: 2.687e-09, Total Error: 3.420e-08\n",
      "36: Change in c_r: 1.881e-08, HNC Error: 1.674e-09, Total Error: 2.131e-08\n",
      "37: Change in c_r: 1.172e-08, HNC Error: 1.043e-09, Total Error: 1.328e-08\n",
      "38: Change in c_r: 7.303e-09, HNC Error: 6.502e-10, Total Error: 8.271e-09\n",
      "Exiting, reverting to best index so far:  37\n",
      "Final iter:39, Total Error: 8.271e-09\n",
      "5.3819999999999996e+23 0.0735024\n",
      "Λei = 0.354\n",
      "Λee = 0.500\n",
      "Λei adjusted with R = 0.354\n",
      "Γii=5.743, Γie=-0.884, Γee=1.133 \n",
      "r_i=1.441\n",
      "r_e=1.566\n",
      "r_c=0.371\n",
      "θ  =9.78e-02\n",
      "0: Initial condition Total Error: 8.136e-02\n",
      "1: Change in c_r: 5.527e-03, HNC Error: 6.204e-04, Total Error: 6.436e-03\n",
      "2: Change in c_r: 2.780e-03, HNC Error: 2.625e-04, Total Error: 3.371e-03\n",
      "3: Change in c_r: 1.684e-03, HNC Error: 1.574e-04, Total Error: 1.891e-03\n",
      "4: Change in c_r: 1.012e-03, HNC Error: 9.447e-05, Total Error: 1.134e-03\n",
      "5: Change in c_r: 6.074e-04, HNC Error: 5.671e-05, Total Error: 6.796e-04\n",
      "6: Change in c_r: 3.646e-04, HNC Error: 3.403e-05, Total Error: 4.075e-04\n",
      "7: Change in c_r: 2.188e-04, HNC Error: 2.042e-05, Total Error: 2.444e-04\n",
      "8: Change in c_r: 1.313e-04, HNC Error: 1.225e-05, Total Error: 1.466e-04\n",
      "9: Change in c_r: 7.879e-05, HNC Error: 7.349e-06, Total Error: 8.794e-05\n",
      "10: Change in c_r: 4.728e-05, HNC Error: 4.409e-06, Total Error: 5.275e-05\n",
      "11: Change in c_r: 2.836e-05, HNC Error: 2.645e-06, Total Error: 3.165e-05\n",
      "12: Change in c_r: 1.702e-05, HNC Error: 1.587e-06, Total Error: 1.898e-05\n",
      "13: Change in c_r: 1.021e-05, HNC Error: 9.520e-07, Total Error: 1.139e-05\n",
      "14: Change in c_r: 6.124e-06, HNC Error: 5.711e-07, Total Error: 6.832e-06\n",
      "15: Change in c_r: 3.674e-06, HNC Error: 3.426e-07, Total Error: 4.099e-06\n",
      "16: Change in c_r: 2.204e-06, HNC Error: 2.056e-07, Total Error: 2.459e-06\n",
      "17: Change in c_r: 1.322e-06, HNC Error: 1.233e-07, Total Error: 1.475e-06\n",
      "18: Change in c_r: 7.933e-07, HNC Error: 7.398e-08, Total Error: 8.850e-07\n",
      "19: Change in c_r: 4.759e-07, HNC Error: 4.438e-08, Total Error: 5.309e-07\n",
      "20: Change in c_r: 2.855e-07, HNC Error: 2.663e-08, Total Error: 3.185e-07\n",
      "21: Change in c_r: 1.713e-07, HNC Error: 1.597e-08, Total Error: 1.911e-07\n",
      "22: Change in c_r: 1.028e-07, HNC Error: 9.583e-09, Total Error: 1.146e-07\n",
      "23: Change in c_r: 6.164e-08, HNC Error: 5.749e-09, Total Error: 6.877e-08\n",
      "24: Change in c_r: 3.698e-08, HNC Error: 3.449e-09, Total Error: 4.125e-08\n",
      "25: Change in c_r: 2.219e-08, HNC Error: 2.069e-09, Total Error: 2.475e-08\n",
      "26: Change in c_r: 1.331e-08, HNC Error: 1.241e-09, Total Error: 1.485e-08\n",
      "27: Change in c_r: 7.985e-09, HNC Error: 7.446e-10, Total Error: 8.908e-09\n",
      "Exiting, reverting to best index so far:  26\n",
      "Final iter:28, Total Error: 8.908e-09\n",
      "5.3819999999999996e+23 0.08085264\n",
      "Λei = 0.354\n",
      "Λee = 0.500\n",
      "Λei adjusted with R = 0.354\n",
      "Γii=5.221, Γie=-0.883, Γee=1.132 \n",
      "r_i=1.441\n",
      "r_e=1.566\n",
      "r_c=0.371\n",
      "θ  =1.08e-01\n",
      "0: Initial condition Total Error: 1.970e-01\n",
      "1: Change in c_r: 1.418e-02, HNC Error: 1.778e-03, Total Error: 1.227e-02\n",
      "2: Change in c_r: 8.503e-03, HNC Error: 7.632e-04, Total Error: 8.808e-03\n",
      "3: Change in c_r: 4.730e-03, HNC Error: 4.593e-04, Total Error: 5.098e-03\n",
      "4: Change in c_r: 2.729e-03, HNC Error: 2.628e-04, Total Error: 2.952e-03\n",
      "5: Change in c_r: 1.573e-03, HNC Error: 1.521e-04, Total Error: 1.715e-03\n",
      "6: Change in c_r: 9.090e-04, HNC Error: 8.797e-05, Total Error: 9.945e-04\n",
      "7: Change in c_r: 5.257e-04, HNC Error: 5.091e-05, Total Error: 5.764e-04\n",
      "8: Change in c_r: 3.042e-04, HNC Error: 2.947e-05, Total Error: 3.339e-04\n",
      "9: Change in c_r: 1.761e-04, HNC Error: 1.706e-05, Total Error: 1.934e-04\n",
      "10: Change in c_r: 1.019e-04, HNC Error: 9.881e-06, Total Error: 1.120e-04\n",
      "11: Change in c_r: 5.903e-05, HNC Error: 5.721e-06, Total Error: 6.489e-05\n",
      "12: Change in c_r: 3.418e-05, HNC Error: 3.313e-06, Total Error: 3.758e-05\n",
      "13: Change in c_r: 1.979e-05, HNC Error: 1.919e-06, Total Error: 2.176e-05\n",
      "14: Change in c_r: 1.146e-05, HNC Error: 1.111e-06, Total Error: 1.260e-05\n",
      "15: Change in c_r: 6.637e-06, HNC Error: 6.434e-07, Total Error: 7.298e-06\n",
      "16: Change in c_r: 3.844e-06, HNC Error: 3.726e-07, Total Error: 4.226e-06\n",
      "17: Change in c_r: 2.226e-06, HNC Error: 2.158e-07, Total Error: 2.448e-06\n",
      "18: Change in c_r: 1.289e-06, HNC Error: 1.250e-07, Total Error: 1.417e-06\n",
      "19: Change in c_r: 7.465e-07, HNC Error: 7.236e-08, Total Error: 8.208e-07\n",
      "20: Change in c_r: 4.323e-07, HNC Error: 4.190e-08, Total Error: 4.753e-07\n",
      "21: Change in c_r: 2.503e-07, HNC Error: 2.427e-08, Total Error: 2.753e-07\n",
      "22: Change in c_r: 1.450e-07, HNC Error: 1.405e-08, Total Error: 1.594e-07\n",
      "23: Change in c_r: 8.395e-08, HNC Error: 8.138e-09, Total Error: 9.231e-08\n",
      "24: Change in c_r: 4.862e-08, HNC Error: 4.713e-09, Total Error: 5.346e-08\n",
      "25: Change in c_r: 2.815e-08, HNC Error: 2.729e-09, Total Error: 3.096e-08\n",
      "26: Change in c_r: 1.630e-08, HNC Error: 1.580e-09, Total Error: 1.793e-08\n",
      "27: Change in c_r: 9.441e-09, HNC Error: 9.153e-10, Total Error: 1.038e-08\n",
      "Exiting, reverting to best index so far:  26\n",
      "Final iter:28, Total Error: 1.038e-08\n",
      "5.98e+23 0.06615216\n",
      "Λei = 0.355\n",
      "Λee = 0.502\n",
      "Λei adjusted with R = 0.355\n",
      "Γii=6.610, Γie=-0.859, Γee=1.102 \n",
      "r_i=1.391\n",
      "r_e=1.512\n",
      "r_c=0.371\n",
      "θ  =8.21e-02\n",
      "0: Initial condition Total Error: 5.049e-01\n",
      "1: Change in c_r: 3.220e-02, HNC Error: 2.801e-03, Total Error: 6.022e-02\n",
      "2: Change in c_r: 2.184e-02, HNC Error: 1.948e-03, Total Error: 2.914e-02\n",
      "3: Change in c_r: 1.447e-02, HNC Error: 1.294e-03, Total Error: 1.786e-02\n",
      "4: Change in c_r: 9.315e-03, HNC Error: 8.237e-04, Total Error: 1.112e-02\n",
      "5: Change in c_r: 5.955e-03, HNC Error: 5.234e-04, Total Error: 6.990e-03\n",
      "6: Change in c_r: 3.793e-03, HNC Error: 3.320e-04, Total Error: 4.402e-03\n",
      "7: Change in c_r: 2.409e-03, HNC Error: 2.104e-04, Total Error: 2.777e-03\n"
     ]
    },
    {
     "name": "stdout",
     "output_type": "stream",
     "text": [
      "8: Change in c_r: 1.528e-03, HNC Error: 1.332e-04, Total Error: 1.753e-03\n",
      "9: Change in c_r: 9.681e-04, HNC Error: 8.431e-05, Total Error: 1.108e-03\n",
      "10: Change in c_r: 6.130e-04, HNC Error: 5.335e-05, Total Error: 7.001e-04\n",
      "11: Change in c_r: 3.879e-04, HNC Error: 3.375e-05, Total Error: 4.426e-04\n",
      "12: Change in c_r: 2.455e-04, HNC Error: 2.135e-05, Total Error: 2.799e-04\n",
      "13: Change in c_r: 1.553e-04, HNC Error: 1.350e-05, Total Error: 1.770e-04\n",
      "14: Change in c_r: 9.824e-05, HNC Error: 8.542e-06, Total Error: 1.119e-04\n",
      "15: Change in c_r: 6.214e-05, HNC Error: 5.402e-06, Total Error: 7.078e-05\n",
      "16: Change in c_r: 3.930e-05, HNC Error: 3.417e-06, Total Error: 4.476e-05\n",
      "17: Change in c_r: 2.486e-05, HNC Error: 2.161e-06, Total Error: 2.831e-05\n",
      "18: Change in c_r: 1.572e-05, HNC Error: 1.367e-06, Total Error: 1.790e-05\n",
      "19: Change in c_r: 9.944e-06, HNC Error: 8.645e-07, Total Error: 1.132e-05\n",
      "20: Change in c_r: 6.289e-06, HNC Error: 5.468e-07, Total Error: 7.162e-06\n",
      "21: Change in c_r: 3.978e-06, HNC Error: 3.458e-07, Total Error: 4.529e-06\n",
      "22: Change in c_r: 2.516e-06, HNC Error: 2.187e-07, Total Error: 2.865e-06\n",
      "23: Change in c_r: 1.591e-06, HNC Error: 1.383e-07, Total Error: 1.812e-06\n",
      "24: Change in c_r: 1.006e-06, HNC Error: 8.748e-08, Total Error: 1.146e-06\n",
      "25: Change in c_r: 6.365e-07, HNC Error: 5.533e-08, Total Error: 7.247e-07\n",
      "26: Change in c_r: 4.025e-07, HNC Error: 3.499e-08, Total Error: 4.584e-07\n",
      "27: Change in c_r: 2.546e-07, HNC Error: 2.213e-08, Total Error: 2.899e-07\n",
      "28: Change in c_r: 1.610e-07, HNC Error: 1.400e-08, Total Error: 1.833e-07\n",
      "29: Change in c_r: 1.018e-07, HNC Error: 8.853e-09, Total Error: 1.160e-07\n",
      "30: Change in c_r: 6.441e-08, HNC Error: 5.599e-09, Total Error: 7.334e-08\n",
      "31: Change in c_r: 4.073e-08, HNC Error: 3.541e-09, Total Error: 4.638e-08\n",
      "32: Change in c_r: 2.576e-08, HNC Error: 2.240e-09, Total Error: 2.934e-08\n",
      "33: Change in c_r: 1.629e-08, HNC Error: 1.417e-09, Total Error: 1.855e-08\n",
      "34: Change in c_r: 1.031e-08, HNC Error: 8.958e-10, Total Error: 1.174e-08\n",
      "35: Change in c_r: 6.518e-09, HNC Error: 5.666e-10, Total Error: 7.423e-09\n",
      "Exiting, reverting to best index so far:  34\n",
      "Final iter:36, Total Error: 7.423e-09\n",
      "5.98e+23 0.0735024\n",
      "Λei = 0.355\n",
      "Λee = 0.502\n",
      "Λei adjusted with R = 0.355\n",
      "Γii=5.949, Γie=-0.858, Γee=1.100 \n",
      "r_i=1.391\n",
      "r_e=1.512\n",
      "r_c=0.371\n",
      "θ  =9.12e-02\n",
      "0: Initial condition Total Error: 1.869e-01\n",
      "1: Change in c_r: 1.244e-02, HNC Error: 1.163e-03, Total Error: 1.695e-02\n",
      "2: Change in c_r: 7.637e-03, HNC Error: 6.921e-04, Total Error: 9.225e-03\n",
      "3: Change in c_r: 4.725e-03, HNC Error: 4.361e-04, Total Error: 5.456e-03\n",
      "4: Change in c_r: 2.900e-03, HNC Error: 2.657e-04, Total Error: 3.301e-03\n",
      "5: Change in c_r: 1.772e-03, HNC Error: 1.622e-04, Total Error: 2.007e-03\n",
      "6: Change in c_r: 1.082e-03, HNC Error: 9.887e-05, Total Error: 1.220e-03\n",
      "7: Change in c_r: 6.600e-04, HNC Error: 6.026e-05, Total Error: 7.428e-04\n",
      "8: Change in c_r: 4.024e-04, HNC Error: 3.672e-05, Total Error: 4.522e-04\n",
      "9: Change in c_r: 2.452e-04, HNC Error: 2.237e-05, Total Error: 2.754e-04\n",
      "10: Change in c_r: 1.494e-04, HNC Error: 1.363e-05, Total Error: 1.677e-04\n",
      "11: Change in c_r: 9.103e-05, HNC Error: 8.301e-06, Total Error: 1.021e-04\n",
      "12: Change in c_r: 5.545e-05, HNC Error: 5.057e-06, Total Error: 6.221e-05\n",
      "13: Change in c_r: 3.378e-05, HNC Error: 3.080e-06, Total Error: 3.789e-05\n",
      "14: Change in c_r: 2.058e-05, HNC Error: 1.876e-06, Total Error: 2.308e-05\n",
      "15: Change in c_r: 1.253e-05, HNC Error: 1.143e-06, Total Error: 1.406e-05\n",
      "16: Change in c_r: 7.635e-06, HNC Error: 6.961e-07, Total Error: 8.563e-06\n",
      "17: Change in c_r: 4.650e-06, HNC Error: 4.240e-07, Total Error: 5.216e-06\n",
      "18: Change in c_r: 2.833e-06, HNC Error: 2.583e-07, Total Error: 3.177e-06\n",
      "19: Change in c_r: 1.725e-06, HNC Error: 1.573e-07, Total Error: 1.935e-06\n",
      "20: Change in c_r: 1.051e-06, HNC Error: 9.583e-08, Total Error: 1.179e-06\n",
      "21: Change in c_r: 6.402e-07, HNC Error: 5.837e-08, Total Error: 7.180e-07\n",
      "22: Change in c_r: 3.899e-07, HNC Error: 3.556e-08, Total Error: 4.373e-07\n",
      "23: Change in c_r: 2.375e-07, HNC Error: 2.166e-08, Total Error: 2.664e-07\n",
      "24: Change in c_r: 1.447e-07, HNC Error: 1.319e-08, Total Error: 1.623e-07\n",
      "25: Change in c_r: 8.813e-08, HNC Error: 8.035e-09, Total Error: 9.884e-08\n",
      "26: Change in c_r: 5.368e-08, HNC Error: 4.895e-09, Total Error: 6.020e-08\n",
      "27: Change in c_r: 3.270e-08, HNC Error: 2.981e-09, Total Error: 3.667e-08\n",
      "28: Change in c_r: 1.992e-08, HNC Error: 1.816e-09, Total Error: 2.234e-08\n",
      "29: Change in c_r: 1.213e-08, HNC Error: 1.106e-09, Total Error: 1.361e-08\n",
      "30: Change in c_r: 7.389e-09, HNC Error: 6.737e-10, Total Error: 8.288e-09\n",
      "Exiting, reverting to best index so far:  29\n",
      "Final iter:31, Total Error: 8.288e-09\n",
      "5.98e+23 0.08085264\n",
      "Λei = 0.355\n",
      "Λee = 0.501\n",
      "Λei adjusted with R = 0.355\n",
      "Γii=5.408, Γie=-0.857, Γee=1.099 \n",
      "r_i=1.391\n",
      "r_e=1.512\n",
      "r_c=0.371\n",
      "θ  =1.00e-01\n",
      "0: Initial condition Total Error: 9.544e-02\n",
      "1: Change in c_r: 6.730e-03, HNC Error: 7.979e-04, Total Error: 6.499e-03\n",
      "2: Change in c_r: 4.119e-03, HNC Error: 3.687e-04, Total Error: 4.432e-03\n",
      "3: Change in c_r: 2.365e-03, HNC Error: 2.250e-04, Total Error: 2.598e-03\n",
      "4: Change in c_r: 1.391e-03, HNC Error: 1.314e-04, Total Error: 1.525e-03\n",
      "5: Change in c_r: 8.168e-04, HNC Error: 7.732e-05, Total Error: 8.995e-04\n",
      "6: Change in c_r: 4.801e-04, HNC Error: 4.547e-05, Total Error: 5.296e-04\n",
      "7: Change in c_r: 2.823e-04, HNC Error: 2.675e-05, Total Error: 3.118e-04\n",
      "8: Change in c_r: 1.661e-04, HNC Error: 1.574e-05, Total Error: 1.835e-04\n",
      "9: Change in c_r: 9.771e-05, HNC Error: 9.261e-06, Total Error: 1.080e-04\n",
      "10: Change in c_r: 5.749e-05, HNC Error: 5.450e-06, Total Error: 6.356e-05\n",
      "11: Change in c_r: 3.383e-05, HNC Error: 3.207e-06, Total Error: 3.740e-05\n",
      "12: Change in c_r: 1.991e-05, HNC Error: 1.887e-06, Total Error: 2.201e-05\n",
      "13: Change in c_r: 1.171e-05, HNC Error: 1.110e-06, Total Error: 1.295e-05\n",
      "14: Change in c_r: 6.893e-06, HNC Error: 6.534e-07, Total Error: 7.623e-06\n",
      "15: Change in c_r: 4.056e-06, HNC Error: 3.845e-07, Total Error: 4.486e-06\n",
      "16: Change in c_r: 2.387e-06, HNC Error: 2.263e-07, Total Error: 2.640e-06\n",
      "17: Change in c_r: 1.405e-06, HNC Error: 1.332e-07, Total Error: 1.553e-06\n",
      "18: Change in c_r: 8.265e-07, HNC Error: 7.836e-08, Total Error: 9.141e-07\n",
      "19: Change in c_r: 4.864e-07, HNC Error: 4.611e-08, Total Error: 5.379e-07\n",
      "20: Change in c_r: 2.862e-07, HNC Error: 2.713e-08, Total Error: 3.165e-07\n",
      "21: Change in c_r: 1.684e-07, HNC Error: 1.597e-08, Total Error: 1.863e-07\n",
      "22: Change in c_r: 9.911e-08, HNC Error: 9.396e-09, Total Error: 1.096e-07\n",
      "23: Change in c_r: 5.832e-08, HNC Error: 5.529e-09, Total Error: 6.450e-08\n",
      "24: Change in c_r: 3.432e-08, HNC Error: 3.254e-09, Total Error: 3.796e-08\n",
      "25: Change in c_r: 2.020e-08, HNC Error: 1.915e-09, Total Error: 2.234e-08\n",
      "26: Change in c_r: 1.188e-08, HNC Error: 1.127e-09, Total Error: 1.314e-08\n",
      "27: Change in c_r: 6.993e-09, HNC Error: 6.631e-10, Total Error: 7.734e-09\n",
      "Exiting, reverting to best index so far:  26\n",
      "Final iter:28, Total Error: 7.734e-09\n",
      "6.578e+23 0.06615216\n",
      "Λei = 0.356\n",
      "Λee = 0.503\n",
      "Λei adjusted with R = 0.356\n",
      "Γii=6.823, Γie=-0.836, Γee=1.072 \n",
      "r_i=1.348\n",
      "r_e=1.464\n",
      "r_c=0.371\n",
      "θ  =7.70e-02\n",
      "0: Initial condition Total Error: 6.039e-01\n",
      "1: Change in c_r: 3.797e-02, HNC Error: 3.200e-03, Total Error: 7.666e-02\n",
      "2: Change in c_r: 2.652e-02, HNC Error: 2.350e-03, Total Error: 3.645e-02\n",
      "3: Change in c_r: 1.794e-02, HNC Error: 1.583e-03, Total Error: 2.265e-02\n",
      "4: Change in c_r: 1.174e-02, HNC Error: 1.023e-03, Total Error: 1.425e-02\n",
      "5: Change in c_r: 7.624e-03, HNC Error: 6.587e-04, Total Error: 9.060e-03\n",
      "6: Change in c_r: 4.928e-03, HNC Error: 4.236e-04, Total Error: 5.776e-03\n",
      "7: Change in c_r: 3.175e-03, HNC Error: 2.720e-04, Total Error: 3.689e-03\n",
      "8: Change in c_r: 2.042e-03, HNC Error: 1.746e-04, Total Error: 2.359e-03\n",
      "9: Change in c_r: 1.312e-03, HNC Error: 1.120e-04, Total Error: 1.510e-03\n",
      "10: Change in c_r: 8.419e-04, HNC Error: 7.181e-05, Total Error: 9.669e-04\n",
      "11: Change in c_r: 5.401e-04, HNC Error: 4.604e-05, Total Error: 6.193e-04\n",
      "12: Change in c_r: 3.463e-04, HNC Error: 2.951e-05, Total Error: 3.968e-04\n",
      "13: Change in c_r: 2.220e-04, HNC Error: 1.892e-05, Total Error: 2.542e-04\n",
      "14: Change in c_r: 1.423e-04, HNC Error: 1.213e-05, Total Error: 1.629e-04\n",
      "15: Change in c_r: 9.124e-05, HNC Error: 7.772e-06, Total Error: 1.044e-04\n",
      "16: Change in c_r: 5.848e-05, HNC Error: 4.981e-06, Total Error: 6.691e-05\n",
      "17: Change in c_r: 3.748e-05, HNC Error: 3.193e-06, Total Error: 4.288e-05\n"
     ]
    },
    {
     "name": "stdout",
     "output_type": "stream",
     "text": [
      "18: Change in c_r: 2.402e-05, HNC Error: 2.046e-06, Total Error: 2.748e-05\n",
      "19: Change in c_r: 1.540e-05, HNC Error: 1.311e-06, Total Error: 1.761e-05\n",
      "20: Change in c_r: 9.868e-06, HNC Error: 8.404e-07, Total Error: 1.129e-05\n",
      "21: Change in c_r: 6.324e-06, HNC Error: 5.386e-07, Total Error: 7.234e-06\n",
      "22: Change in c_r: 4.053e-06, HNC Error: 3.452e-07, Total Error: 4.636e-06\n",
      "23: Change in c_r: 2.598e-06, HNC Error: 2.212e-07, Total Error: 2.971e-06\n",
      "24: Change in c_r: 1.665e-06, HNC Error: 1.418e-07, Total Error: 1.904e-06\n",
      "25: Change in c_r: 1.067e-06, HNC Error: 9.088e-08, Total Error: 1.220e-06\n",
      "26: Change in c_r: 6.839e-07, HNC Error: 5.824e-08, Total Error: 7.822e-07\n",
      "27: Change in c_r: 4.383e-07, HNC Error: 3.733e-08, Total Error: 5.013e-07\n",
      "28: Change in c_r: 2.809e-07, HNC Error: 2.392e-08, Total Error: 3.213e-07\n",
      "29: Change in c_r: 1.800e-07, HNC Error: 1.533e-08, Total Error: 2.059e-07\n",
      "30: Change in c_r: 1.154e-07, HNC Error: 9.826e-09, Total Error: 1.320e-07\n",
      "31: Change in c_r: 7.394e-08, HNC Error: 6.298e-09, Total Error: 8.457e-08\n",
      "32: Change in c_r: 4.739e-08, HNC Error: 4.036e-09, Total Error: 5.420e-08\n",
      "33: Change in c_r: 3.037e-08, HNC Error: 2.587e-09, Total Error: 3.474e-08\n",
      "34: Change in c_r: 1.947e-08, HNC Error: 1.658e-09, Total Error: 2.226e-08\n",
      "35: Change in c_r: 1.247e-08, HNC Error: 1.062e-09, Total Error: 1.427e-08\n",
      "36: Change in c_r: 7.995e-09, HNC Error: 6.810e-10, Total Error: 9.144e-09\n",
      "Exiting, reverting to best index so far:  35\n",
      "Final iter:37, Total Error: 9.144e-09\n",
      "6.578e+23 0.0735024\n",
      "Λei = 0.356\n",
      "Λee = 0.503\n",
      "Λei adjusted with R = 0.356\n",
      "Γii=6.141, Γie=-0.835, Γee=1.071 \n",
      "r_i=1.348\n",
      "r_e=1.464\n",
      "r_c=0.371\n",
      "θ  =8.56e-02\n",
      "0: Initial condition Total Error: 2.834e-01\n",
      "1: Change in c_r: 1.873e-02, HNC Error: 1.729e-03, Total Error: 2.823e-02\n",
      "2: Change in c_r: 1.213e-02, HNC Error: 1.089e-03, Total Error: 1.500e-02\n",
      "3: Change in c_r: 7.676e-03, HNC Error: 6.987e-04, Total Error: 9.054e-03\n",
      "4: Change in c_r: 4.791e-03, HNC Error: 4.323e-04, Total Error: 5.534e-03\n",
      "5: Change in c_r: 2.975e-03, HNC Error: 2.676e-04, Total Error: 3.405e-03\n",
      "6: Change in c_r: 1.844e-03, HNC Error: 1.654e-04, Total Error: 2.097e-03\n",
      "7: Change in c_r: 1.141e-03, HNC Error: 1.022e-04, Total Error: 1.293e-03\n",
      "8: Change in c_r: 7.053e-04, HNC Error: 6.314e-05, Total Error: 7.977e-04\n",
      "9: Change in c_r: 4.358e-04, HNC Error: 3.900e-05, Total Error: 4.923e-04\n",
      "10: Change in c_r: 2.692e-04, HNC Error: 2.408e-05, Total Error: 3.038e-04\n",
      "11: Change in c_r: 1.663e-04, HNC Error: 1.487e-05, Total Error: 1.875e-04\n",
      "12: Change in c_r: 1.027e-04, HNC Error: 9.182e-06, Total Error: 1.158e-04\n",
      "13: Change in c_r: 6.340e-05, HNC Error: 5.669e-06, Total Error: 7.147e-05\n",
      "14: Change in c_r: 3.915e-05, HNC Error: 3.500e-06, Total Error: 4.412e-05\n",
      "15: Change in c_r: 2.417e-05, HNC Error: 2.161e-06, Total Error: 2.724e-05\n",
      "16: Change in c_r: 1.492e-05, HNC Error: 1.334e-06, Total Error: 1.682e-05\n",
      "17: Change in c_r: 9.214e-06, HNC Error: 8.237e-07, Total Error: 1.038e-05\n",
      "18: Change in c_r: 5.689e-06, HNC Error: 5.086e-07, Total Error: 6.411e-06\n",
      "19: Change in c_r: 3.512e-06, HNC Error: 3.140e-07, Total Error: 3.958e-06\n",
      "20: Change in c_r: 2.168e-06, HNC Error: 1.939e-07, Total Error: 2.444e-06\n",
      "21: Change in c_r: 1.339e-06, HNC Error: 1.197e-07, Total Error: 1.509e-06\n",
      "22: Change in c_r: 8.265e-07, HNC Error: 7.389e-08, Total Error: 9.314e-07\n",
      "23: Change in c_r: 5.103e-07, HNC Error: 4.562e-08, Total Error: 5.751e-07\n",
      "24: Change in c_r: 3.151e-07, HNC Error: 2.817e-08, Total Error: 3.550e-07\n",
      "25: Change in c_r: 1.945e-07, HNC Error: 1.739e-08, Total Error: 2.192e-07\n",
      "26: Change in c_r: 1.201e-07, HNC Error: 1.074e-08, Total Error: 1.353e-07\n",
      "27: Change in c_r: 7.415e-08, HNC Error: 6.629e-09, Total Error: 8.355e-08\n",
      "28: Change in c_r: 4.578e-08, HNC Error: 4.093e-09, Total Error: 5.158e-08\n",
      "29: Change in c_r: 2.826e-08, HNC Error: 2.527e-09, Total Error: 3.185e-08\n",
      "30: Change in c_r: 1.745e-08, HNC Error: 1.560e-09, Total Error: 1.966e-08\n",
      "31: Change in c_r: 1.077e-08, HNC Error: 9.632e-10, Total Error: 1.214e-08\n",
      "32: Change in c_r: 6.652e-09, HNC Error: 5.946e-10, Total Error: 7.494e-09\n",
      "Exiting, reverting to best index so far:  31\n",
      "Final iter:33, Total Error: 7.494e-09\n",
      "6.578e+23 0.08085264\n",
      "Λei = 0.355\n",
      "Λee = 0.503\n",
      "Λei adjusted with R = 0.355\n",
      "Γii=5.582, Γie=-0.834, Γee=1.070 \n",
      "r_i=1.348\n",
      "r_e=1.464\n",
      "r_c=0.371\n",
      "θ  =9.41e-02\n",
      "0: Initial condition Total Error: 1.532e-08\n",
      "1: Change in c_r: 8.227e-09, HNC Error: 7.653e-10, Total Error: 9.142e-09\n",
      "Exiting, reverting to best index so far:  0\n",
      "Final iter:2, Total Error: 9.142e-09\n",
      "CPU times: user 12.1 s, sys: 415 ms, total: 12.5 s\n",
      "Wall time: 11.9 s\n"
     ]
    }
   ],
   "source": [
    "%%time\n",
    "N_bins, R_max = 500, 5\n",
    "\n",
    "N_table = 3\n",
    "atom_table = np.zeros((N_table,N_table)).tolist()\n",
    "H_table = np.zeros((N_table,N_table))\n",
    "P_table = np.zeros((N_table,N_table))\n",
    "T_table = np.zeros((N_table,N_table))\n",
    "ε = 0.1\n",
    "ni_list = [ni_cc*(1-ε), ni_cc*(1+ε)]\n",
    "Te_list = [Te*(1-ε), Te*(1+ε)]\n",
    "\n",
    "ni_list = ni_cc*np.linspace(1-ε, 1+ε, num = N_table)\n",
    "Te_list = Te*np.linspace(1-ε, 1+ε, num = N_table)\n",
    "\n",
    "for i, ni_i in enumerate(ni_list):\n",
    "    for j, Te_j in enumerate(Te_list):\n",
    "        print(ni_i, Te_j)\n",
    "        if (i,j) == (0, 0):\n",
    "            c_s_k_guess = atom.c_s_k_matrix.copy()\n",
    "        atom, atomqsp = set_hnc(ni_i, Te_j, Z, A, Zstar, \n",
    "                                    pseudopotential=True, oz_type='svt',r_c=r_c, \n",
    "                                    add_bridge=True, bridge='ocp', N_bins=N_bins, R_max=R_max)\n",
    "        if (i,j) != (0,0):\n",
    "            atom.c_s_k_matrix = c_s_k_guess.copy()\n",
    "        \n",
    "        atom.HNC_solve(alpha_method='fixed', alpha_Picard = 1, tol=1e-8, alpha_Ng=0, \n",
    "                       iters_to_wait=1e4, iters_to_use=2, num_iterations=1e3, verbose=True)\n",
    "        \n",
    "        atom.invert_HNC_OZ([])\n",
    "#         options={'eps':1e-6,'maxfev':10000,'factor':100,'xtol':1e-8} \n",
    "#         newton_kwargs= {'method':'hybr', 'options':options} \n",
    "#         sol = atom.HNC_newton_solve( **newton_kwargs)\n",
    "        atom.H = get_H(atom, atomqsp)\n",
    "        atom.U, atom.P = get_U_P(atom, atomqsp)\n",
    "        \n",
    "        H_table[i][j] = atom.H\n",
    "        P_table[i][j] = atom.P\n",
    "        T_table[i][j] = Te_j\n",
    "        atom_table[i][j] = atom"
   ]
  },
  {
   "cell_type": "code",
   "execution_count": 45,
   "id": "5bdd5af5",
   "metadata": {},
   "outputs": [
    {
     "name": "stdout",
     "output_type": "stream",
     "text": [
      "c_p = 1.648e+08 [J/m^3/K] = 1.648e+09 [erg/cc/K]\n",
      "c_p^ideal = 2.064e+07 [J/m^3/K] = 2.064e+08 [erg/cc/K]\n"
     ]
    }
   ],
   "source": [
    "from scipy.interpolate import LinearNDInterpolator\n",
    "T_P_data = list(zip( np.array(T_table).flatten(),np.array(P_table).flatten() ))\n",
    "H_TP = LinearNDInterpolator(T_P_data, np.array(H_table).flatten())\n",
    "\n",
    "T, P = np.average(T_table), np.average(P_table) \n",
    "C_p_AU = (H_TP(T*(1+1e-6), P) - H_TP(T*(1-1e-6), P))/(2*T*1e-6)\n",
    "Vol_cc = 4/3 * π * (R_max*r_s_cc)**3\n",
    "N = Vol_cc * ni_cc\n",
    "C_p_SI = C_p_AU * k_B\n",
    "m_p = 1.672621898e-27 # kg\n",
    "M = N  * A * m_p\n",
    "c_p_SI_mass = C_p_SI/M # J/kg/K\n",
    "c_p_SI_vol = C_p_SI/(Vol_cc*1e-6) #J/m^3/K\n",
    "print(\"c_p = {0:.3e} [J/m^3/K] = {1:.3e} [erg/cc/K]\".format(c_p_SI_vol, c_p_SI_vol*J_to_erg*1e-6 ))\n",
    "print(\"c_p^ideal = {0:.3e} [J/m^3/K] = {1:.3e} [erg/cc/K]\".format(5/2 * ni_cc* k_B * 1e6, 5/2 * ni_cc* k_B * 1e6*J_to_erg*1e-6 ))"
   ]
  },
  {
   "cell_type": "code",
   "execution_count": 46,
   "id": "ed15670f",
   "metadata": {},
   "outputs": [
    {
     "data": {
      "text/plain": [
       "(17.29160072348726, 9.416544575637387, 19.954998774503277)"
      ]
     },
     "execution_count": 46,
     "metadata": {},
     "output_type": "execute_result"
    }
   ],
   "source": [
    "# Compare to Ichimaru\n",
    "n_AU = ni_cc * (1e2*aB)**3\n",
    "E_over_nkBT = atom.U/( Te*N )\n",
    "P_over_nkBT = atom.P/(Te*n_AU)\n",
    "c_p_over_nkB = C_p_AU/N #c_p_SI_vol/k_B/(ni_cc*1e6)\n",
    "E_over_nkBT, P_over_nkBT, c_p_over_nkB  "
   ]
  },
  {
   "cell_type": "code",
   "execution_count": null,
   "id": "9ff1fa55",
   "metadata": {},
   "outputs": [],
   "source": [
    "# 2x2\n",
    "#(16.078004224152146, 7.958852940677674, 20.391840227664225)\n",
    "# 3x3\n",
    "#(17.29156071613095, 9.41653222069282, 19.954770080816058)\n",
    "# 4x4\n",
    "#(17.29156071613095, 9.41653222069282, 20.31577883096223)\n",
    "# 6x6\n",
    "#(17.29156071613095, 9.41653222069282, 20.341775951597302)\n",
    "\n"
   ]
  },
  {
   "cell_type": "code",
   "execution_count": 27,
   "id": "f9d9c237",
   "metadata": {},
   "outputs": [
    {
     "data": {
      "text/plain": [
       "10000000.0"
      ]
     },
     "execution_count": 27,
     "metadata": {},
     "output_type": "execute_result"
    }
   ],
   "source": [
    "#cp units are J/K/m^3"
   ]
  },
  {
   "cell_type": "code",
   "execution_count": 28,
   "id": "d6eba82d",
   "metadata": {},
   "outputs": [
    {
     "data": {
      "text/plain": [
       "0.0016794741870226524"
      ]
     },
     "execution_count": 28,
     "metadata": {},
     "output_type": "execute_result"
    }
   ],
   "source": [
    "c_p_SI_vol *J_to_erg*1e-6 # from J/K/m^3 to erg/K/cc"
   ]
  },
  {
   "cell_type": "code",
   "execution_count": 49,
   "id": "6c123c08",
   "metadata": {},
   "outputs": [
    {
     "data": {
      "text/plain": [
       "1.647540776360547"
      ]
     },
     "execution_count": 49,
     "metadata": {},
     "output_type": "execute_result"
    }
   ],
   "source": [
    "(c_p_over_nkB*ni_cc * k_B*1e6)/1e8 # in erg/"
   ]
  },
  {
   "cell_type": "code",
   "execution_count": null,
   "id": "933aa883",
   "metadata": {},
   "outputs": [],
   "source": [
    "# Ideal\n",
    "# (1.503495387998133, 1.0020009999999997, 2.5033223241241656)\n"
   ]
  },
  {
   "cell_type": "markdown",
   "id": "03443a5d",
   "metadata": {},
   "source": [
    "# βu_eff matching"
   ]
  },
  {
   "cell_type": "code",
   "execution_count": 177,
   "id": "ed1cfac5",
   "metadata": {},
   "outputs": [],
   "source": [
    "from pandas import read_csv\n",
    "from scipy.interpolate import interp1d\n",
    "# luke_file = '/home/zach/plasma/atomic_forces/data/Al_T0p5_tab.lammps.PAIR'\n",
    "luke_file = '/home/zach/plasma/atomic_forces/data/Al_T1_tab.lammps.PAIR'\n",
    "\n",
    "luke_data = read_csv(luke_file ,delim_whitespace=True,header=3, names=['r [A]','V [eV]','F [eV/A]'])\n",
    "# luke_r, luke_βV = 1e-10/aB/r_s*luke_data['r [A]'], 1/(Te/eV)*luke_data['V [eV]']\n",
    "luke_r, luke_βV = 1e-8/r_s*luke_data['r [A]'], 1/(Te/eV)*luke_data['V [eV]']\n",
    "luke_βV_function = interp1d(luke_r, luke_βV,fill_value='extrapolate',bounds_error=False)"
   ]
  },
  {
   "cell_type": "code",
   "execution_count": 178,
   "id": "88547e04",
   "metadata": {},
   "outputs": [],
   "source": [
    "from scipy.optimize import curve_fit\n",
    "\n",
    "class βu_fit():\n",
    "    def __init__(self, func, r_array, y_data, initial_guess):\n",
    "        self.r = r_array\n",
    "        self.y = y_data\n",
    "        self.y_vals = curve_fit(func, r_array, y_data, maxfev=int(1e5), p0=initial_guess)\n",
    "        self.y_fit  = func(r_array, *self.y_vals[0])\n",
    "        self.err = np.linalg.norm(self.y_fit-self.y)\n",
    "        print(func.__name__ + \" error: {0:.3e} \".format(self.err))\n",
    "\n",
    "def yukawa_plus(r, a, b, c, d):\n",
    "    return  a/r*np.exp(-b*r)/(1+np.exp(c*(r-d)))\n",
    "\n",
    "def yukawa_plus_gaussian(r, a ,b ,c, d ,e, f, g):\n",
    "    return  a/r*np.exp(-b*r)/(1+np.exp(c*(r-d))) + e*np.exp(-(f-r)**2/g)\n",
    "\n",
    "def yukawa_plus_cos(r, a ,b ,c, d , h, i, j, k, l):\n",
    "    return  a/r*np.exp(-b*r)/(1+np.exp(c*(r-d))) + h*np.cos((r-i)*j*np.exp(-k*r))*np.exp(-l*r)\n",
    "\n",
    "def yukawa_plus_gaussian_cos(r, a ,b ,c, d ,e, f, g, h, i, j, k, l):\n",
    "    return  a/r*np.exp(-b*r)/(1+np.exp(c*(r-d))) + e*np.cos((r-f)*g*np.exp(-h*r))*np.exp(-i*r) + j*np.exp(-(k-r)**2/l)\n"
   ]
  },
  {
   "cell_type": "code",
   "execution_count": 187,
   "id": "01e47bb9",
   "metadata": {},
   "outputs": [],
   "source": [
    "atom = atom_highres"
   ]
  },
  {
   "cell_type": "code",
   "execution_count": 188,
   "id": "1b257ec4",
   "metadata": {},
   "outputs": [
    {
     "name": "stdout",
     "output_type": "stream",
     "text": [
      "yukawa_plus error: 4.442e+01 \n",
      "yukawa_plus_cos error: 3.221e+01 \n"
     ]
    },
    {
     "name": "stderr",
     "output_type": "stream",
     "text": [
      "/tmp/ipykernel_64608/2646033414.py:19: RuntimeWarning: overflow encountered in exp\n",
      "  return  a/r*np.exp(-b*r)/(1+np.exp(c*(r-d))) + h*np.cos((r-i)*j*np.exp(-k*r))*np.exp(-l*r)\n",
      "/tmp/ipykernel_64608/2646033414.py:19: RuntimeWarning: overflow encountered in multiply\n",
      "  return  a/r*np.exp(-b*r)/(1+np.exp(c*(r-d))) + h*np.cos((r-i)*j*np.exp(-k*r))*np.exp(-l*r)\n",
      "/home/zach/.pyenv/versions/3.9.13/envs/atomic_3.9.13/lib/python3.9/site-packages/scipy/optimize/_minpack_py.py:881: OptimizeWarning: Covariance of the parameters could not be estimated\n",
      "  warnings.warn('Covariance of the parameters could not be estimated',\n"
     ]
    },
    {
     "name": "stdout",
     "output_type": "stream",
     "text": [
      "yukawa_plus_gaussian_cos error: 1.928e+01 \n"
     ]
    }
   ],
   "source": [
    "atom.invert_HNC_OZ([1])\n",
    "fit1 = βu_fit(yukawa_plus, atom.r_array, atom.βueff_r_matrix[0,0], initial_guess=[   atomqsp.Γii, atomqsp.get_κ(),2 , 1])\n",
    "try: \n",
    "    fit2 = βu_fit(yukawa_plus_cos, atom.r_array, atom.βueff_r_matrix[0,0], initial_guess=[  *fit1.y_vals[0], 1, 0.01, 1 , 10, 2])\n",
    "except:\n",
    "    pass\n",
    "try:\n",
    "    fit3 = βu_fit(yukawa_plus_gaussian_cos, atom.r_array, atom.βueff_r_matrix[0,0], initial_guess=[  *fit2.y_vals[0], -1, 1.9, 1])\n",
    "except:\n",
    "    pass"
   ]
  },
  {
   "cell_type": "code",
   "execution_count": 189,
   "id": "515a162b",
   "metadata": {},
   "outputs": [
    {
     "data": {
      "text/plain": [
       "1      0.007092\n",
       "2      0.016484\n",
       "3      0.025875\n",
       "4      0.035267\n",
       "5      0.044658\n",
       "         ...   \n",
       "601    5.636239\n",
       "602    5.645619\n",
       "603    5.654999\n",
       "604    5.664379\n",
       "605    5.673758\n",
       "Name: r [A], Length: 605, dtype: float64"
      ]
     },
     "execution_count": 189,
     "metadata": {},
     "output_type": "execute_result"
    }
   ],
   "source": [
    "luke_r"
   ]
  },
  {
   "cell_type": "code",
   "execution_count": 190,
   "id": "f90a68e6",
   "metadata": {},
   "outputs": [
    {
     "data": {
      "image/png": "[encoded data removed]",
      "text/plain": [
       "<Figure size 800x600 with 1 Axes>"
      ]
     },
     "metadata": {},
     "output_type": "display_data"
    }
   ],
   "source": [
    "fig, ax = plt.subplots(figsize=(8,6),facecolor='w')\n",
    "fig.suptitle(r\"{0} $T=${1:.1f} eV, $r_i$={2:.2f}\".format(case_id, Te/eV, atomqsp.ri), fontsize=20)\n",
    "\n",
    "\n",
    "yukawa_matrix = (atom.Gamma[:,:,np.newaxis]/atom.r_array * np.exp(-atom.r_array*atomqsp.get_κ())[np.newaxis,np.newaxis,:] ) [:-1,:-1]\n",
    "coulomb_matrix = (atom.Gamma[:,:,np.newaxis]/atom.r_array) [:-1,:-1]\n",
    "\n",
    "ax.plot(atom.r_array, atom.βu_r_matrix[0,0], 'k--',label='Initial')\n",
    "ax.plot(atom.r_array, yukawa_matrix[0,0],'k-.', label=\"Yukawa\")\n",
    "\n",
    "ax.plot(atom.r_array, atom.βueff_r_matrix[0,0],color=colors[0], label='Effective')    \n",
    "ax.plot(luke_r, luke_βV,'r-', label='Luke Force Match')\n",
    "\n",
    "ax.set_ylim(np.min([-10, 2*np.min(atom.βueff_r_matrix[0,0])]), np.max([1e3, 2*np.max(atom.βueff_r_matrix[0,0])]))\n",
    "ax.tick_params(labelsize=20)\n",
    "ax.set_xlabel(r\"$r/r_s$\",fontsize=20)\n",
    "ax.set_ylabel(r'$\\beta u(r/r_s)$',fontsize=20)\n",
    "ax.set_xlabel(r'$r/r_s$',fontsize=20)\n",
    "\n",
    "ax.set_xlim(0, 5)\n",
    "ax.set_yscale('symlog',linthresh=1)\n",
    "ax.tick_params(labelsize=15)\n",
    "ax.legend(fontsize=10)\n",
    "fig.tight_layout()"
   ]
  },
  {
   "cell_type": "code",
   "execution_count": null,
   "id": "5ae27008",
   "metadata": {},
   "outputs": [],
   "source": []
  },
  {
   "cell_type": "code",
   "execution_count": null,
   "id": "ad78ee98",
   "metadata": {},
   "outputs": [],
   "source": []
  },
  {
   "cell_type": "code",
   "execution_count": null,
   "id": "7bf70745",
   "metadata": {},
   "outputs": [],
   "source": []
  }
 ],
 "metadata": {
  "kernelspec": {
   "display_name": "Python 3 (ipykernel)",
   "language": "python",
   "name": "python3"
  },
  "language_info": {
   "codemirror_mode": {
    "name": "ipython",
    "version": 3
   },
   "file_extension": ".py",
   "mimetype": "text/x-python",
   "name": "python",
   "nbconvert_exporter": "python",
   "pygments_lexer": "ipython3",
   "version": "3.9.13"
  }
 },
 "nbformat": 4,
 "nbformat_minor": 5
}
