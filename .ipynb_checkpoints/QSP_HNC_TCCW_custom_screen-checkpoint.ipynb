{
 "cells": [
  {
   "cell_type": "code",
   "execution_count": 1,
   "id": "2e5c11ba",
   "metadata": {},
   "outputs": [],
   "source": [
    "import numpy as np\n",
    "import matplotlib.pyplot as plt\n",
    "\n",
    "\n",
    "from hnc_custom_screeningOZ_multiscale import  HNC_solver\n",
    "from qsps import *\n"
   ]
  },
  {
   "cell_type": "code",
   "execution_count": 2,
   "id": "489e8669",
   "metadata": {},
   "outputs": [],
   "source": [
    "N_bins = 500"
   ]
  },
  {
   "cell_type": "code",
   "execution_count": 3,
   "id": "2b20a5d9",
   "metadata": {},
   "outputs": [],
   "source": [
    "def run_hnc(n_in_per_cc, T, Z, A, Zstar, num_iterations=1e3, c_s_r_guess=None , method='best'):\n",
    "    ri = QSP_HNC.rs_from_n(n_in_per_cc*1e6 *aB**3)\n",
    "    qsp = QSP_HNC(Z, A, Zstar, Te, Ti, ri)\n",
    "\n",
    "    N_species = 2\n",
    "    Gamma = np.array(  [[qsp.Γii,  qsp.Γei],\n",
    "                        [qsp.Γei,  qsp.Γee]])\n",
    "\n",
    "\n",
    "    names = [\"Ion-1\", \"Electron\", ] \n",
    "    kappa = 1\n",
    "    rhos = np.array([  3/(4*np.pi), Zstar*3/(4*np.pi) ])\n",
    "    temps = qsp.Tij\n",
    "    masses= qsp.mij\n",
    "    hnc1 = HNC_solver(N_species, Gamma, rhos, temps, masses , tol=1e-5,\n",
    "                     kappa_multiscale=1, num_iterations=int(num_iterations), \n",
    "                     R_max=5, N_bins=N_bins, names=names, dst_type=3)\n",
    "\n",
    "    βu_r_matrix = np.array([[qsp.βvii(hnc1.r_array), qsp.βvei(hnc1.r_array)],\n",
    "                            [qsp.βvei(hnc1.r_array), qsp.βvee(hnc1.r_array)]])\n",
    "\n",
    "    hnc1.set_βu_matrix(βu_r_matrix)\n",
    "    hnc1.initialize_c_k()\n",
    "    if c_s_r_guess is not None:\n",
    "        for i in range(N_species):\n",
    "            for j in range(N_species):\n",
    "                if (c_s_r_guess[i,j]!=np.zeros(hnc1.N_bins)).all():\n",
    "                    hnc1.c_s_r_matrix[i,j] = c_s_r_guess[i,j]\n",
    "                    hnc1.c_s_k_matrix[i,j] = hnc1.FT_r_2_k(c_s_r_guess[i,j])\n",
    "                    hnc1.c_r_matrix[i,j] = hnc1.c_s_k_matrix[i,j] - hnc1.βu_l_k_matrix[i,j]\n",
    "\n",
    "    hnc1.set_C_matrix()\n",
    "    hnc1.HNC_solve(alpha_method=method, alpha_Picard = 1e-1, alpha_oz = 0e-4, h_max=1e4)\n",
    "\n",
    "    return hnc1, qsp"
   ]
  },
  {
   "cell_type": "code",
   "execution_count": 4,
   "id": "e4b595ee",
   "metadata": {},
   "outputs": [],
   "source": [
    "def run_hnc_one_species(n_in_per_cc, T, Z, A, Zstar, num_iterations=1e3, method='best' ):\n",
    "    ri = QSP_HNC.rs_from_n(n_in_per_cc*1e6 *aB**3)\n",
    "    qsp = QSP_HNC(Z, A, Zstar, Te, Ti, ri)\n",
    "\n",
    "    N_species = 1\n",
    "    Gamma = np.array(  [[qsp.Γii]])\n",
    "\n",
    "\n",
    "    names = [\"Ion-1\"] \n",
    "    kappa = 1\n",
    "    rho = np.array([  3/(4*np.pi)])\n",
    "    temps = np.array([[T]])\n",
    "    masses= np.array([[qsp.m_i]])\n",
    "    hnc1 = HNC_solver(N_species, Gamma,rho, temps,masses, kappa=kappa, tol=1e-5,\n",
    "                     kappa_multiscale=1, num_iterations=int(num_iterations), \n",
    "                     R_max=5, N_bins=N_bins, names=names, dst_type=3)\n",
    "\n",
    "    βu_r_matrix = np.array([[qsp.βvii(hnc1.r_array)]])\n",
    "\n",
    "    hnc1.set_βu_matrix(βu_r_matrix)\n",
    "    hnc1.initialize_c_k()\n",
    "    hnc1.set_C_matrix()\n",
    "    hnc1.HNC_solve(alpha_method=method, alpha_Picard = 1e-3, alpha_oz = 0e-4, h_max=1e4)\n",
    "    return hnc1, qsp"
   ]
  },
  {
   "cell_type": "markdown",
   "id": "436ad893",
   "metadata": {},
   "source": [
    "# Priority 1\n",
    "## Carbon"
   ]
  },
  {
   "cell_type": "code",
   "execution_count": null,
   "id": "31bb3daa",
   "metadata": {},
   "outputs": [
    {
     "name": "stdout",
     "output_type": "stream",
     "text": [
      "Λee = 0.328\n",
      "Λei = 0.232\n",
      "Γii=82.957, Γie=-1.500, Γee=0.500 \n",
      "r_i=1.476\n",
      "r_e=1.023\n",
      "θ  =4.18e-02\n",
      " HNC min: [1.] True Optimization terminated successfully.\n",
      " OZ min:  [0.] True Optimization terminated successfully.\n",
      "0: Err in c_r: 1.48e+02, OZ: 1.66e-11, HNC: 2.45e-10\n",
      " HNC min: [1.] True Optimization terminated successfully.\n",
      " OZ min:  [0.] True Optimization terminated successfully.\n",
      "1: Err in c_r: 3.68e+01, OZ: 1.47e-11, HNC: 7.86e-11\n",
      " HNC min: [1.] True Optimization terminated successfully.\n",
      " OZ min:  [0.] True Optimization terminated successfully.\n",
      "2: Err in c_r: 1.51e+01, OZ: 1.52e-11, HNC: 2.89e-10\n",
      " HNC min: [1.] True Optimization terminated successfully.\n",
      " OZ min:  [0.] True Optimization terminated successfully.\n",
      "3: Err in c_r: 8.58e+00, OZ: 1.37e-11, HNC: 7.10e-11\n",
      " HNC min: [1.] True Optimization terminated successfully.\n",
      " OZ min:  [0.] True Optimization terminated successfully.\n",
      "4: Err in c_r: 6.03e+00, OZ: 1.76e-11, HNC: 1.03e-09\n",
      " HNC min: [1.] True Optimization terminated successfully.\n",
      " OZ min:  [0.] True Optimization terminated successfully.\n",
      "5: Err in c_r: 4.27e+00, OZ: 5.10e-15, HNC: 2.77e-15\n",
      " HNC min: [1.] True Optimization terminated successfully.\n",
      " OZ min:  [0.] True Optimization terminated successfully.\n",
      "6: Err in c_r: 4.07e+00, OZ: 1.96e-11, HNC: 9.98e-10\n",
      " HNC min: [1.] True Optimization terminated successfully.\n",
      " OZ min:  [0.] True Optimization terminated successfully.\n",
      "7: Err in c_r: 2.53e+00, OZ: 2.65e-15, HNC: 2.36e-15\n"
     ]
    }
   ],
   "source": [
    "ni = 5.01e23 # per cc\n",
    "Te = 2*eV \n",
    "Ti   = 2*eV \n",
    "Z, A = 6,12\n",
    "Zstar= 3\n",
    "\n",
    "# c_s_r_guess = np.zeros((2,2,N_bins))\n",
    "# c_s_r_guess[0,0] = carbon_one_species.c_s_r_matrix\n",
    "\n",
    "carbon, carbonqsp = run_hnc(ni, Te, Z, A, Zstar ,method='best', num_iterations=1e3)\n"
   ]
  },
  {
   "cell_type": "code",
   "execution_count": null,
   "id": "2d0d4f7f",
   "metadata": {
    "scrolled": true
   },
   "outputs": [],
   "source": [
    "carbon.plot_species_convergence_g(n_slices= int(len(carbon.h_list)/1)  )\n",
    "carbon.plot_species_convergence_c(n_slices= int(len(carbon.h_list)/1)  )"
   ]
  },
  {
   "cell_type": "code",
   "execution_count": null,
   "id": "7fb2bdbb",
   "metadata": {},
   "outputs": [],
   "source": [
    "carbon_one_species, _ = run_hnc_one_species(ni, Te, Z, A, Zstar, method='best' )"
   ]
  },
  {
   "cell_type": "code",
   "execution_count": null,
   "id": "16a480d3",
   "metadata": {},
   "outputs": [],
   "source": [
    "carbon.plot_g_vs_murillo()\n",
    "carbon.plot_g_vs_murillo(gmax=3)"
   ]
  },
  {
   "cell_type": "code",
   "execution_count": null,
   "id": "39699a3d",
   "metadata": {},
   "outputs": [],
   "source": [
    "fig, ax = plt.subplots()\n",
    "\n",
    "ax.plot(carbon.r_array, carbon.h_r_matrix[0,0]+1, label='Ion and Electron')\n",
    "ax.plot(carbon.r_array, carbon_one_species.h_r_matrix[0,0]+1, label=\"Ion only\")\n",
    "ax.legend()\n",
    "\n"
   ]
  },
  {
   "cell_type": "code",
   "execution_count": null,
   "id": "8e06e1ea",
   "metadata": {},
   "outputs": [],
   "source": [
    "Zstar*np.sum(carbon.del_k*carbon.k_array**2*(carbon.h_r_matrix[0,0]+1))  - Zstar*np.sum(carbon.del_k*carbon.k_array**2*(carbon.h_r_matrix[0,1]+1))"
   ]
  },
  {
   "cell_type": "code",
   "execution_count": null,
   "id": "417ee0af",
   "metadata": {},
   "outputs": [],
   "source": [
    "-1895796.408371091"
   ]
  },
  {
   "cell_type": "markdown",
   "id": "a4f8d8ee",
   "metadata": {},
   "source": [
    "## Copper"
   ]
  },
  {
   "cell_type": "code",
   "execution_count": null,
   "id": "4ee2f167",
   "metadata": {},
   "outputs": [],
   "source": [
    "ni = 8.49e22 # per cc\n",
    "Te = 1*eV \n",
    "Ti   = 1*eV \n",
    "Z, A = 29,63.55\n",
    "Zstar= 1.206\n",
    "# c_s_r_guess = np.zeros((2,2,N_bins))\n",
    "# c_s_r_guess[0,0] = carbon_one_species.c_s_r_matrix\n",
    "\n",
    "\n",
    "copper,_ = run_hnc(ni, Te, Z, A, Zstar ,num_iterations=1e3, method='best')#, c_s_r_guess=c_s_r_guess)"
   ]
  },
  {
   "cell_type": "code",
   "execution_count": null,
   "id": "f7db4dd0",
   "metadata": {},
   "outputs": [],
   "source": [
    "copper.plot_species_convergence_g(n_slices= int(len(copper.h_list)/1)  )\n",
    "copper.plot_species_convergence_c(n_slices= int(len(copper.h_list)/1)  )"
   ]
  },
  {
   "cell_type": "code",
   "execution_count": null,
   "id": "d0b3b816",
   "metadata": {},
   "outputs": [],
   "source": [
    "copper_one_species,_ = run_hnc_one_species(ni, Te, Z, A, Zstar )"
   ]
  },
  {
   "cell_type": "code",
   "execution_count": null,
   "id": "8348c90b",
   "metadata": {},
   "outputs": [],
   "source": [
    "fig, ax = plt.subplots()\n",
    "\n",
    "ax.plot(copper.r_array, copper.h_r_matrix[0,0]+1, label='Ion and electron')\n",
    "ax.plot(copper.r_array, copper_one_species.h_r_matrix[0,0]+1, label=\"Only Ions\")\n",
    "ax.legend()\n",
    "\n"
   ]
  },
  {
   "cell_type": "markdown",
   "id": "bb251ae9",
   "metadata": {},
   "source": [
    "## Hydrogen"
   ]
  },
  {
   "cell_type": "code",
   "execution_count": null,
   "id": "2018bdd2",
   "metadata": {},
   "outputs": [],
   "source": [
    "ni = 5.98e23 # per cc\n",
    "Te = 2*eV \n",
    "Ti   = 2*eV \n",
    "Z, A = 1,1\n",
    "Zstar= 1\n",
    "hydrogen, _ = run_hnc(ni, Te, Z, A, Zstar )"
   ]
  },
  {
   "cell_type": "code",
   "execution_count": null,
   "id": "708bdacb",
   "metadata": {},
   "outputs": [],
   "source": [
    "hydrogen.plot_species_convergence_g(n_slices= int(len(hydrogen.h_list)/1)  )\n",
    "hydrogen.plot_species_convergence_c(n_slices= int(len(hydrogen.h_list)/1)  )"
   ]
  },
  {
   "cell_type": "code",
   "execution_count": null,
   "id": "946d5e36",
   "metadata": {},
   "outputs": [],
   "source": [
    "hydrogen_one_species,_ = run_hnc_one_species(ni, Te, Z, A, Zstar )"
   ]
  },
  {
   "cell_type": "code",
   "execution_count": null,
   "id": "01ddb961",
   "metadata": {},
   "outputs": [],
   "source": [
    "fig, ax = plt.subplots()\n",
    "\n",
    "ax.plot(hydrogen.r_array, hydrogen.h_r_matrix[0,0]+1,'.', label='Ion and electron')\n",
    "ax.plot(hydrogen.r_array, hydrogen_one_species.h_r_matrix[0,0]+1, '--',label=\"Only Ions\")\n",
    "ax.legend()"
   ]
  },
  {
   "cell_type": "markdown",
   "id": "48448c02",
   "metadata": {},
   "source": [
    "## Aluminum"
   ]
  },
  {
   "cell_type": "code",
   "execution_count": null,
   "id": "0b094fa9",
   "metadata": {},
   "outputs": [],
   "source": [
    "ni = 6.03e22 # per cc\n",
    "Te = 1*eV \n",
    "Ti   = 1*eV \n",
    "Z, A = 13,27\n",
    "Zstar= 3\n",
    "aluminum_i_one_species, _ = run_hnc_one_species(ni, Te, Z, A, Zstar, num_iterations=1e3 )\n",
    "# aluminum_e_one_species, _ = run_hnc_one_species(Zstar*ni, Te, 1, m_e/m_p, 1, num_iterations=1e3 )\n"
   ]
  },
  {
   "cell_type": "code",
   "execution_count": null,
   "id": "3d5cbc0e",
   "metadata": {},
   "outputs": [],
   "source": [
    "aluminum_i_one_species.plot_species_convergence_g(n_slices= int(len(aluminum_i_one_species.h_list)/1)  )\n",
    "aluminum_i_one_species.plot_species_convergence_c(n_slices= int(len(aluminum_i_one_species.h_list)/1)  )\n",
    "\n",
    "# aluminum_e_one_species.plot_species_convergence_g(n_slices= int(len(aluminum_i_one_species.h_list)/1)  )\n",
    "# aluminum_e_one_species.plot_species_convergence_c(n_slices= int(len(aluminum_i_one_species.h_list)/1)  )"
   ]
  },
  {
   "cell_type": "code",
   "execution_count": null,
   "id": "9acd52f8",
   "metadata": {},
   "outputs": [],
   "source": [
    "c_s_r_guess = np.zeros((2,2,N_bins))\n",
    "c_s_r_guess[0,0] = aluminum_i_one_species.c_s_r_matrix\n",
    "c_s_r_guess[1,1] = aluminum_e_one_species.c_s_r_matrix"
   ]
  },
  {
   "cell_type": "code",
   "execution_count": null,
   "id": "98566b2e",
   "metadata": {},
   "outputs": [],
   "source": [
    "aluminum, _ = run_hnc(ni, Te, Z, A, Zstar, method='fixed', num_iterations=2)#, c_s_r_guess=c_s_r_guess )"
   ]
  },
  {
   "cell_type": "code",
   "execution_count": null,
   "id": "6cb84951",
   "metadata": {},
   "outputs": [],
   "source": [
    "aluminum.plot_species_convergence_g(n_slices= int(len(aluminum.h_list)/1)  )\n",
    "aluminum.plot_species_convergence_c(n_slices= int(len(aluminum.h_list)/1)  )"
   ]
  },
  {
   "cell_type": "code",
   "execution_count": null,
   "id": "6f2f3a74",
   "metadata": {},
   "outputs": [],
   "source": [
    "aluminum.c_list[-1][1,1]/aluminum.c_list[0][1,1]"
   ]
  },
  {
   "cell_type": "code",
   "execution_count": null,
   "id": "dbf3708e",
   "metadata": {},
   "outputs": [],
   "source": []
  }
 ],
 "metadata": {
  "kernelspec": {
   "display_name": "Python 3 (ipykernel)",
   "language": "python",
   "name": "python3"
  },
  "language_info": {
   "codemirror_mode": {
    "name": "ipython",
    "version": 3
   },
   "file_extension": ".py",
   "mimetype": "text/x-python",
   "name": "python",
   "nbconvert_exporter": "python",
   "pygments_lexer": "ipython3",
   "version": "3.9.13"
  }
 },
 "nbformat": 4,
 "nbformat_minor": 5
}
