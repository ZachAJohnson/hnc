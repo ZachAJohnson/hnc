{
 "cells": [
  {
   "cell_type": "markdown",
   "id": "12fb96e2-e527-496f-baf7-8aba27ab6ea3",
   "metadata": {},
   "source": [
    "# Cool Front Image"
   ]
  },
  {
   "cell_type": "code",
   "execution_count": 16,
   "id": "2ad42399-0077-4594-945d-0fb869ef7c0e",
   "metadata": {
    "tags": []
   },
   "outputs": [],
   "source": [
    "import numpy as np\n",
    "import matplotlib.pyplot as plt\n",
    "from pandas import read_csv\n",
    "\n",
    "from scipy.spatial.distance import cdist\n",
    "from scipy.interpolate import interp1d\n",
    "\n",
    "import pyvista as pv\n",
    "\n",
    "from hnc.hnc.constants import *\n"
   ]
  },
  {
   "cell_type": "code",
   "execution_count": 17,
   "id": "af457884-4f0e-4ae8-bdf8-ab58dbbce15f",
   "metadata": {
    "tags": []
   },
   "outputs": [
    {
     "data": {
      "text/plain": [
       "NpzFile 'Luciano_Al_checlpoint_10000.npz' with keys: pos, vel, rdf_hist, species_heat_flux, species_pressure_kin_tensor..."
      ]
     },
     "execution_count": 17,
     "metadata": {},
     "output_type": "execute_result"
    }
   ],
   "source": [
    "Al_MD_file = \"Luciano_Al_checlpoint_10000.npz\" \n",
    "MD_data = np.load(Al_MD_file)\n",
    "MD_array = MD_data['pos']*cm_to_AU\n",
    "MD_data"
   ]
  },
  {
   "cell_type": "code",
   "execution_count": 18,
   "id": "0a692be8-3438-4af2-b350-dc5db0e6b2ed",
   "metadata": {
    "tags": []
   },
   "outputs": [
    {
     "name": "stdout",
     "output_type": "stream",
     "text": [
      "dx:  0.3018471998597433\n"
     ]
    }
   ],
   "source": [
    "# Constants\n",
    "L_simulation = 4.360647e-07*cm_to_AU\n",
    "L = L_simulation # Define smaller box\n",
    "\n",
    "# Define number of cells\n",
    "correlation_distance = 6\n",
    "N_cells_per_dim = int(L//correlation_distance)\n",
    "\n",
    "# Make grid compatible with these cells with approximate dx\n",
    "approx_dx = 0.25\n",
    "Nx_approx = (L/approx_dx)\n",
    "Nx = int(N_cells_per_dim*(Nx_approx//N_cells_per_dim))\n",
    "dx = L/Nx\n",
    "print(\"dx: \", dx)\n",
    "# # Create a 3D grid\n",
    "\n",
    "# Mesh grids for the entire domain (could be adjusted to only create necessary subcell meshes)\n",
    "x = np.linspace(0, L_simulation, Nx)\n",
    "y = np.linspace(0, L_simulation, Nx)\n",
    "z = np.linspace(0, L_simulation, Nx)\n",
    "X, Y, Z = np.meshgrid(x, y, z, indexing='ij')\n",
    "\n",
    "# # Compute the electron density at each grid point\n",
    "# electron_density = np.ones((Nx, Nx, Nx))\n",
    "\n",
    "x_indices_list = np.array(np.split(np.arange(Nx),N_cells_per_dim)).astype(int)\n",
    "subcell_L = x[x_indices_list[0,-1]] - x[x_indices_list[0,0]]\n",
    "# Ion positions: Nx3 matrix\n",
    "# Example positions, replace with your actual data\n",
    "ion_positions = MD_array \n",
    "ion_cell_indices = np.floor(ion_positions/subcell_L) "
   ]
  },
  {
   "cell_type": "code",
   "execution_count": null,
   "id": "702674f9-e365-43de-977e-63033a72223c",
   "metadata": {
    "tags": []
   },
   "outputs": [],
   "source": [
    "%%time\n",
    "\n",
    "def get_all_nearby_ions(subcell_indices):    \n",
    "    shift_Xi  = np.meshgrid( np.arange(-1,2),np.arange(-1,2), np.arange(-1,2), indexing='ij' )\n",
    "    adjacent_indices = (np.vstack([Xi.ravel() for Xi in shift_Xi]).T + subcell_indices)%N_cells_per_dim\n",
    "    adjacent_ion_indices = []\n",
    "    for index in adjacent_indices:\n",
    "        adjacent_ion_indices += list(np.where(np.all(ion_cell_indices == index, axis=1))[0])\n",
    "    \n",
    "    return adjacent_ion_indices\n",
    "\n",
    "\n",
    "def min_image_dist(p1, p2, L):\n",
    "    \"\"\" Calculate the minimum image distance accounting for periodic boundary conditions \"\"\"\n",
    "    return np.abs(p1 - p2) - L * np.round(np.abs(p1 - p2) / L)\n",
    "\n",
    "\n",
    "xi_slice = lambda i: slice(x_indices_list[i][0], x_indices_list[i][-1] + 1  ) \n",
    "slices = lambda xi, yi, zi: (xi_slice(xi), xi_slice(yi), xi_slice(zi) )\n",
    "\n",
    "class SubCell():\n",
    "    def __init__(self, cell_position, x_indices_list, cell_mesh, L_full_cell, ion_indices):\n",
    "        self.cell_position = cell_position\n",
    "        self.X, self.Y, self.Z = cell_mesh\n",
    "        self.Nx = len(self.X)\n",
    "        self.L_full_cell = L_full_cell\n",
    "        self.ion_indices = ion_indices\n",
    "        \n",
    "    def set_density(self, density_array):\n",
    "        grid_points = np.column_stack([self.X.ravel(), self.Y.ravel(), self.Z.ravel()])\n",
    "        for ion_index in self.ion_indices:\n",
    "            ion_pos = ion_positions[ion_index]\n",
    "            min_image_distances = np.array([min_image_dist(grid_points[:, i], ion_pos[i], self.L_full_cell) for i in range(3)]).T\n",
    "            distances = np.linalg.norm(min_image_distances, axis=1)\n",
    "            subcell_density = g_ei(distances).reshape((self.Nx, self.Nx, self.Nx))\n",
    "            density_array[slices(*self.cell_position)] *= subcell_density\n",
    "\n",
    "electron_density = np.ones((Nx, Nx, Nx))\n",
    "rendered_ion_positions = []\n",
    "# Instantiate subcells and calcuate density\n",
    "for ix in range(N_cells_per_dim):\n",
    "    for iy in range(N_cells_per_dim):\n",
    "        for iz in range(N_cells_per_dim):\n",
    "            nearby_ion_indices = get_all_nearby_ions( (ix,iy,iz) )\n",
    "            cell_mesh = X[slices(ix,iy,iz)], Y[slices(ix,iy,iz)], Z[slices(ix,iy,iz)]\n",
    "            subcell = SubCell( (ix,iy,iz), x_indices_list, cell_mesh, L_simulation, nearby_ion_indices  )\n",
    "            # X[slices(ix,iy,iz)].shape\n",
    "            subcell.set_density(electron_density) \n",
    "            for ion_indices in nearby_ion_indices:\n",
    "                rendered_ion_positions.append(ion_positions[ion_indices])\n",
    "# ion_positions[3942], subcell_L"
   ]
  },
  {
   "cell_type": "code",
   "execution_count": 96,
   "id": "ddd39a35-aa48-49c6-9dc3-94e971853ebc",
   "metadata": {
    "tags": []
   },
   "outputs": [
    {
     "name": "stdout",
     "output_type": "stream",
     "text": [
      "4674 number of ions in corner\n"
     ]
    }
   ],
   "source": [
    "# Create a point cloud with ion positions\n",
    "unique_rendered_ion_positions = np.unique(rendered_ion_positions, axis=0)\n",
    "print(f\"{len(unique_rendered_ion_positions)} number of ions in corner\")\n",
    "points = pv.PolyData(unique_rendered_ion_positions)\n",
    "\n",
    "# Save to a VTK file\n",
    "points.save(\"ion_positions.vtk\")"
   ]
  },
  {
   "cell_type": "code",
   "execution_count": 101,
   "id": "759402e7-08b3-4977-b273-ef6914a961ce",
   "metadata": {
    "scrolled": true,
    "tags": []
   },
   "outputs": [
    {
     "data": {
      "text/plain": [
       "array([[ 1.54453109,  1.08081696,  1.45989478],\n",
       "       [ 0.        ,  0.        ,  0.        ],\n",
       "       [ 0.        ,  0.        ,  0.        ],\n",
       "       [ 0.        ,  0.        ,  0.        ],\n",
       "       [ 0.        ,  0.        ,  0.        ],\n",
       "       [ 0.        ,  0.        ,  0.        ],\n",
       "       [ 0.        ,  0.        ,  0.        ],\n",
       "       [ 0.        ,  0.        ,  0.        ],\n",
       "       [ 0.        ,  0.        ,  0.        ],\n",
       "       [ 0.        ,  0.        ,  0.        ],\n",
       "       [ 3.51017935, 31.73244552, 32.18346841],\n",
       "       [ 0.        ,  0.        ,  0.        ],\n",
       "       [ 0.        ,  0.        ,  0.        ],\n",
       "       [ 0.        ,  0.        ,  0.        ],\n",
       "       [ 0.        ,  0.        ,  0.        ],\n",
       "       [ 0.        ,  0.        ,  0.        ],\n",
       "       [ 0.        ,  0.        ,  0.        ],\n",
       "       [ 0.        ,  0.        ,  0.        ],\n",
       "       [ 0.        ,  0.        ,  0.        ],\n",
       "       [ 0.        ,  0.        ,  0.        ],\n",
       "       [ 3.85760474, 31.77598294, 32.37205054],\n",
       "       [ 0.        ,  0.        ,  0.        ],\n",
       "       [ 0.        ,  0.        ,  0.        ],\n",
       "       [ 0.        ,  0.        ,  0.        ],\n",
       "       [ 0.        ,  0.        ,  0.        ],\n",
       "       [ 0.        ,  0.        ,  0.        ],\n",
       "       [ 0.        ,  0.        ,  0.        ],\n",
       "       [ 0.        ,  0.        ,  0.        ],\n",
       "       [ 0.        ,  0.        ,  0.        ],\n",
       "       [ 0.        ,  0.        ,  0.        ],\n",
       "       [ 4.17569305, 31.69935848, 32.52434367],\n",
       "       [ 0.        ,  0.        ,  0.        ],\n",
       "       [ 0.        ,  0.        ,  0.        ],\n",
       "       [ 0.        ,  0.        ,  0.        ],\n",
       "       [ 0.        ,  0.        ,  0.        ],\n",
       "       [ 0.        ,  0.        ,  0.        ],\n",
       "       [ 0.        ,  0.        ,  0.        ],\n",
       "       [ 0.        ,  0.        ,  0.        ],\n",
       "       [ 0.        ,  0.        ,  0.        ],\n",
       "       [ 0.        ,  0.        ,  0.        ],\n",
       "       [ 4.4259666 , 31.55237974, 32.61921259],\n",
       "       [ 0.        ,  0.        ,  0.        ],\n",
       "       [ 0.        ,  0.        ,  0.        ],\n",
       "       [ 0.        ,  0.        ,  0.        ],\n",
       "       [ 0.        ,  0.        ,  0.        ],\n",
       "       [ 0.        ,  0.        ,  0.        ],\n",
       "       [ 0.        ,  0.        ,  0.        ],\n",
       "       [ 0.        ,  0.        ,  0.        ],\n",
       "       [ 0.        ,  0.        ,  0.        ],\n",
       "       [ 0.        ,  0.        ,  0.        ],\n",
       "       [ 4.57928564, 31.40836455, 32.63457892],\n",
       "       [ 0.        ,  0.        ,  0.        ],\n",
       "       [ 0.        ,  0.        ,  0.        ],\n",
       "       [ 0.        ,  0.        ,  0.        ],\n",
       "       [ 0.        ,  0.        ,  0.        ],\n",
       "       [ 0.        ,  0.        ,  0.        ],\n",
       "       [ 0.        ,  0.        ,  0.        ],\n",
       "       [ 0.        ,  0.        ,  0.        ],\n",
       "       [ 0.        ,  0.        ,  0.        ],\n",
       "       [ 0.        ,  0.        ,  0.        ],\n",
       "       [11.83163559, 71.81690781,  3.72674796],\n",
       "       [ 0.        ,  0.        ,  0.        ],\n",
       "       [ 0.        ,  0.        ,  0.        ],\n",
       "       [ 0.        ,  0.        ,  0.        ],\n",
       "       [ 0.        ,  0.        ,  0.        ],\n",
       "       [ 0.        ,  0.        ,  0.        ],\n",
       "       [ 0.        ,  0.        ,  0.        ],\n",
       "       [ 0.        ,  0.        ,  0.        ],\n",
       "       [ 0.        ,  0.        ,  0.        ],\n",
       "       [ 0.        ,  0.        ,  0.        ],\n",
       "       [ 4.64299517, 31.27027411, 32.36832243],\n",
       "       [ 0.        ,  0.        ,  0.        ],\n",
       "       [ 0.        ,  0.        ,  0.        ],\n",
       "       [ 0.        ,  0.        ,  0.        ],\n",
       "       [ 0.        ,  0.        ,  0.        ],\n",
       "       [ 0.        ,  0.        ,  0.        ],\n",
       "       [ 0.        ,  0.        ,  0.        ],\n",
       "       [ 0.        ,  0.        ,  0.        ],\n",
       "       [ 0.        ,  0.        ,  0.        ],\n",
       "       [ 0.        ,  0.        ,  0.        ],\n",
       "       [ 4.62824012, 31.27178967, 32.10764841],\n",
       "       [ 0.        ,  0.        ,  0.        ],\n",
       "       [ 0.        ,  0.        ,  0.        ],\n",
       "       [ 0.        ,  0.        ,  0.        ],\n",
       "       [ 0.        ,  0.        ,  0.        ],\n",
       "       [ 0.        ,  0.        ,  0.        ],\n",
       "       [ 0.        ,  0.        ,  0.        ],\n",
       "       [ 0.        ,  0.        ,  0.        ],\n",
       "       [ 0.        ,  0.        ,  0.        ],\n",
       "       [ 0.        ,  0.        ,  0.        ],\n",
       "       [ 4.60359091, 31.28507772, 31.7908561 ],\n",
       "       [ 0.        ,  0.        ,  0.        ],\n",
       "       [ 0.        ,  0.        ,  0.        ],\n",
       "       [ 0.        ,  0.        ,  0.        ],\n",
       "       [ 0.        ,  0.        ,  0.        ],\n",
       "       [ 0.        ,  0.        ,  0.        ],\n",
       "       [ 0.        ,  0.        ,  0.        ],\n",
       "       [ 0.        ,  0.        ,  0.        ],\n",
       "       [ 0.        ,  0.        ,  0.        ],\n",
       "       [ 0.        ,  0.        ,  0.        ]])"
      ]
     },
     "execution_count": 101,
     "metadata": {},
     "output_type": "execute_result"
    }
   ],
   "source": [
    "\n",
    "# Example path data: an array of positions (x, y, z) over time\n",
    "# Replace this with your actual time-sequence position data\n",
    "traj_data = np.array(np.load(\"/home/zach/plasma/hnc/TCCW/Final_TCCW/Al1_single_particle_TS.npz\")['arr_0'])*cm_to_AU\n",
    "traj_data[0:100]\n",
    "# traj_ion_index = 3942\n",
    "# path_data = np.array([\n",
    "#     MD_array[traj_ion_index],\n",
    "#     MD_array[traj_ion_index]*[1.1,1.3,1],\n",
    "#     MD_array[traj_ion_index]*[1.1,1.2,1],\n",
    "#     MD_array[traj_ion_index]*[1.4,1.4,0.8],\n",
    "#     MD_array[traj_ion_index]*[1.3,1.5,0.7]\n",
    "# ])\n",
    "\n",
    "# # Create a line representing the path\n",
    "# path = pv.lines_from_points(traj_data)\n",
    "\n",
    "# # Save to a VTK file\n",
    "# path.save(\"particle_path.vtk\")"
   ]
  },
  {
   "cell_type": "code",
   "execution_count": 98,
   "id": "8d2b91a5-c402-4259-934c-f1cc0ac120ca",
   "metadata": {
    "tags": []
   },
   "outputs": [],
   "source": [
    "# Create a PyVista ImageData object\n",
    "grid = pv.ImageData()\n",
    "\n",
    "# Set the dimensions, spacing, and origin of the grid\n",
    "grid.dimensions = np.array(electron_density.shape) + 1\n",
    "grid.spacing = (L / (Nx - 1), L / (Nx - 1), L / (Nx - 1))\n",
    "grid.origin = (0, 0, 0)\n",
    "\n",
    "# Assign the electron density data to the grid\n",
    "grid.cell_data[\"Electron Density\"] = electron_density.flatten(order=\"F\")  # Use Fortran order for compatibility with VTK\n",
    "# grid.cell_data[\"values\"] = values.flatten(order=\"F\")\n",
    "# grid\n",
    "# Save the grid to a VTK file\n",
    "grid.save(\"electron_density.vtk\")\n"
   ]
  },
  {
   "cell_type": "code",
   "execution_count": null,
   "id": "5beb9157-d0f2-452c-9cda-b1cc0473c4df",
   "metadata": {},
   "outputs": [],
   "source": []
  }
 ],
 "metadata": {
  "kernelspec": {
   "display_name": "Python 3 (ipykernel)",
   "language": "python",
   "name": "python3"
  },
  "language_info": {
   "codemirror_mode": {
    "name": "ipython",
    "version": 3
   },
   "file_extension": ".py",
   "mimetype": "text/x-python",
   "name": "python",
   "nbconvert_exporter": "python",
   "pygments_lexer": "ipython3",
   "version": "3.10.6"
  }
 },
 "nbformat": 4,
 "nbformat_minor": 5
}
