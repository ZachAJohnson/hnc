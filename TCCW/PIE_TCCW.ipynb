{
 "cells": [
  {
   "cell_type": "markdown",
   "id": "415426e0",
   "metadata": {},
   "source": [
    "# Import"
   ]
  },
  {
   "cell_type": "code",
   "execution_count": 1,
   "id": "2e5c11ba",
   "metadata": {
    "tags": []
   },
   "outputs": [
    {
     "name": "stdout",
     "output_type": "stream",
     "text": [
      "ModuleNotFoundError: No module named 'mendeleev'\n"
     ]
    },
    {
     "data": {
      "text/html": [
       "\n",
       "<style>\n",
       ".output_png {\n",
       "    display: table-cell;\n",
       "    text-align: center;\n",
       "    vertical-align: middle;\n",
       "}\n",
       "\n",
       "</style>\n"
      ],
      "text/plain": [
       "<IPython.core.display.HTML object>"
      ]
     },
     "execution_count": 1,
     "metadata": {},
     "output_type": "execute_result"
    }
   ],
   "source": [
    "import numpy as np\n",
    "import matplotlib.pyplot as plt\n",
    "from pandas import read_csv\n",
    "\n",
    "from hnc.hnc.PIE import Plasma_of_Ions_and_Electrons as PLASMA\n",
    "\n",
    "from hnc.hnc.constants import *\n",
    "from hnc.hnc.misc import n_from_rs, rs_from_n\n",
    "\n",
    "prop_cycle = plt.rcParams['axes.prop_cycle']\n",
    "colors = prop_cycle.by_key()['color']\n",
    "                \n",
    "from IPython.core.display import HTML\n",
    "HTML(\"\"\"\n",
    "<style>\n",
    ".output_png {\n",
    "    display: table-cell;\n",
    "    text-align: center;\n",
    "    vertical-align: middle;\n",
    "}\n",
    "\n",
    "</style>\n",
    "\"\"\")\n"
   ]
  },
  {
   "cell_type": "markdown",
   "id": "01048544",
   "metadata": {},
   "source": [
    "# Function that sets up HNC QSP "
   ]
  },
  {
   "cell_type": "markdown",
   "id": "48448c02",
   "metadata": {},
   "source": [
    "## Load TCCW Cases"
   ]
  },
  {
   "cell_type": "code",
   "execution_count": 2,
   "id": "754dd9d8",
   "metadata": {
    "tags": []
   },
   "outputs": [],
   "source": [
    "AU_to_Pa  = 2.9421015697e13 \n",
    "Pa_to_bar = 1e-5\n",
    "AU_to_bar = AU_to_Pa*Pa_to_bar "
   ]
  },
  {
   "cell_type": "code",
   "execution_count": 3,
   "id": "1e03d793",
   "metadata": {
    "tags": []
   },
   "outputs": [],
   "source": [
    "cases_converged_thusfar = {'H1':True,'C1':True, 'Al1':True, 'Cu1': True, 'Be1': True, 'Au1': False, 'H2': True, 'H3': True, 'C2': False, 'C3': True, 'Al2': False, 'Al3': True,\n",
    " 'Cu2': False, 'Cu3': True, 'H11': False, 'H21': False, 'H31': False, 'C11': False, 'C21': False, 'C31': False, 'Al11': False, 'Al21': False, \n",
    " 'Al31': False, 'Cu11': False, 'Cu21': False, 'Cu31': False, 'H12': True, 'H22': True, 'H32': False, 'C12': True, 'C22': False, 'C32': False, \n",
    " 'Al12': True, 'Al22': False, 'Al32': False, 'Cu12': True, 'Cu22': False, 'Cu32': False, 'H13': True, 'H23': True, 'H33': True, 'C13': True,\n",
    "  'C23': True, 'C33': False, 'Al13': False, 'Al23': False, 'Al33': False, 'Cu13': True, 'Cu23': False, 'Cu33': False, 'H14': False, 'H24': False, \n",
    "  'H34': False, 'C14': False, 'C24': False, 'C34': False, 'Al14': False, 'Al24': False, 'Al34': False, 'Cu14': False, 'Cu24': False, 'Cu34': False,\n",
    "   'H15': False, 'H25': False, 'H35': False, 'C15': False, 'C25': False, 'C35': False, 'Al15': False, 'Al25': False, 'Al35': False, 'Cu15': False,\n",
    "    'Cu25': False, 'Cu35': False, 'H16': False}"
   ]
  },
  {
   "cell_type": "code",
   "execution_count": 5,
   "id": "0b094fa9",
   "metadata": {
    "tags": []
   },
   "outputs": [
    {
     "name": "stdout",
     "output_type": "stream",
     "text": [
      "\n",
      "______________________________\n",
      "Case num: 2 Case ID: Al1\n",
      "Te = 1.000e+00 eV, n_i = 6.030e+22 1/cc, r_c/r_s = 0.218\n",
      "Te = 1.160e+04 K, ρ = 2.983e+30 [g/cc] \n",
      "P  = 1.830e+05 [bar] = 6.220e-04 [AU]\n"
     ]
    }
   ],
   "source": [
    "mixture_file = \"/home/zach/plasma/hnc/TCCW/data/TCCW_single_species_data.csv\"\n",
    "tccw_mixture_data = read_csv(mixture_file)\n",
    "tccw_cases = [tccw_mixture_data.iloc[n] for n in range(len(tccw_mixture_data))]\n",
    "\n",
    "\n",
    "tccw_case = tccw_cases[2]\n",
    "α = 0.1\n",
    "case_converged=False\n",
    "case_attempts=0\n",
    "case_num= tccw_case[' ']\n",
    "case_id = tccw_case['Case ID']\n",
    "ni_cc = tccw_case['Number Density [N/cc]']\n",
    "Te_eV = tccw_case['Temperature [eV]']\n",
    "Ti_eV = Te_eV\n",
    "Z = tccw_case['Atomic Number']\n",
    "Zbar = tccw_case['Zbar (TFDW)']\n",
    "P_GP_AU  = tccw_case['p (Bar)']/AU_to_bar\n",
    "A = tccw_case['Atomic Weight [a.u.]']\n",
    "r_s_cc = tccw_case['Wigner-Seitz Radius [cm]']\n",
    "r_c = tccw_case['Average-Bound Radius [cm]']/r_s_cc\n",
    "if r_c>1:\n",
    "    r_c=1e-5\n",
    "print('\\n______________________________\\nCase num: {0} Case ID: {1}'.format(case_num, case_id))\n",
    "print(\"Te = {0:.3e} eV, n_i = {1:.3e} 1/cc, r_c/r_s = {2:.3f}\".format(Te_eV, ni_cc, r_c))\n",
    "print(\"Te = {0:.3e} K, ρ = {1:.3e} [g/cc] \".format(Te_eV*eV_to_K, 1e3*ni_cc*m_p*A ))\n",
    "print(\"P  = {0:.3e} [bar] = {1:.3e} [AU]\".format(P_GP_AU*AU_to_bar, P_GP_AU))"
   ]
  },
  {
   "cell_type": "code",
   "execution_count": 6,
   "id": "ca58c435",
   "metadata": {
    "tags": []
   },
   "outputs": [],
   "source": [
    "Zbar = 3"
   ]
  },
  {
   "cell_type": "code",
   "execution_count": 7,
   "id": "fc8fc285",
   "metadata": {
    "tags": []
   },
   "outputs": [],
   "source": [
    "# atom_2e = Two_Electron_Plasma(Z, A, ni_cc, Ti_eV, Te_eV, Zbar=Z,\n",
    "#              βu_options = {'add_bridge':True,'bridge':'yukawa', 'pseudopotential':True}, \n",
    "#              qsp_options= {'r_c':r_c,'which_Tij':'thermal'},\n",
    "#              hnc_options= {'kappa_multiscale':10, 'R_max':5,'N_bins':500,'oz_method':'svt'},\n",
    "#              hnc_solve_options={'alpha_Picard':0.5})\n",
    "# atom_2e.run_hnc()\n"
   ]
  },
  {
   "cell_type": "code",
   "execution_count": 8,
   "id": "a40cce82-4502-4ef3-990c-b74fcb9df4ee",
   "metadata": {
    "tags": []
   },
   "outputs": [],
   "source": [
    "# c_s_k_guess = atom_long.hnc.c_s_k_matrix.copy()"
   ]
  },
  {
   "cell_type": "code",
   "execution_count": 12,
   "id": "b3336994-5b9c-44e4-9343-5f83a7ea1355",
   "metadata": {
    "tags": []
   },
   "outputs": [
    {
     "name": "stdout",
     "output_type": "stream",
     "text": [
      "Te_in_eV: 1.000\n",
      "Ti_in_eV: 1.000\n",
      "0: Initial condition Total Error: 1.334e+01\n",
      "QUIT: Last 10 iterations error has been increasing\n",
      "Exiting status 2, reverting to best index so far: 184\n",
      "Final iter:193, Total Error: 1.250e-01\n"
     ]
    },
    {
     "name": "stderr",
     "output_type": "stream",
     "text": [
      "\n",
      "KeyboardInterrupt\n",
      "\n"
     ]
    }
   ],
   "source": [
    "atom_long = PLASMA(Z, A, ni_cc, Ti_eV, Te_eV, Zbar=Zbar, \n",
    "                 βu_options = {'add_bridge':True,'bridge':'yukawa', 'pseudopotential':True}, \n",
    "                 qsp_options={'r_c':r_c},\n",
    "                 hnc_options={'kappa_multiscale':10, 'R_max':10,'N_bins':1000},\n",
    "                 hnc_solve_options={'alpha_Picard':0.1},\n",
    "                 root_options={'options':{'maxfev':50000,'xtol':1e-14}})\n",
    "atom_long.run_hnc()#c_s_k_guess = c_s_k_guess)"
   ]
  },
  {
   "cell_type": "code",
   "execution_count": 17,
   "id": "e0a95006-3690-4761-a8eb-d1f49eacda29",
   "metadata": {
    "scrolled": true,
    "tags": []
   },
   "outputs": [
    {
     "name": "stdout",
     "output_type": "stream",
     "text": [
      "   Iteration     Total nfev        Cost      Cost reduction    Step norm     Optimality   \n",
      "       0              1         8.0739e+00                                    6.85e+01    \n",
      "       1              5         1.9256e+00      6.15e+00       1.90e-01       1.26e+01    \n",
      "       2              6         6.6877e-01      1.26e+00       3.81e-01       1.63e+01    \n",
      "       3              7         1.8542e-01      4.83e-01       7.61e-01       5.69e+00    \n",
      "       4              8         9.3444e-02      9.20e-02       1.52e+00       4.86e+00    \n",
      "       5              9         3.9483e-02      5.40e-02       1.52e+00       4.56e+00    \n",
      "       6             10         3.6681e-03      3.58e-02       1.52e+00       1.74e+00    \n",
      "       7             11         2.5925e-06      3.67e-03       5.50e-01       4.20e-02    \n",
      "       8             12         1.9649e-09      2.59e-06       3.61e-02       1.17e-03    \n",
      "       9             13         2.6890e-13      1.96e-09       1.09e-04       5.87e-06    \n",
      "      10             14         3.9242e-17      2.69e-13       5.91e-06       9.46e-08    \n",
      "      11             15         4.5476e-18      3.47e-17       6.40e-08       6.04e-08    \n",
      "`xtol` termination condition is satisfied.\n",
      "Function evaluations 15, initial cost 8.0739e+00, final cost 4.5476e-18, first-order optimality 6.04e-08.\n",
      "     message: `xtol` termination condition is satisfied.\n",
      "     success: True\n",
      "      status: 3\n",
      "         fun: [-1.936e-09 -9.135e-10 ... -2.444e-17 -1.455e-17]\n",
      "           x: [ 8.214e+01  7.663e+01 ...  7.765e-08  1.017e-08]\n",
      "        cost: 4.5475528225436295e-18\n",
      "         jac: [[ 9.753e-01 -2.478e-01 ... -1.907e-06  0.000e+00]\n",
      "               [-2.487e-02  7.633e-01 ...  9.537e-07  0.000e+00]\n",
      "               ...\n",
      "               [-2.792e-11 -2.018e-10 ...  1.000e+00  6.744e-10]\n",
      "               [ 3.670e-12 -1.704e-11 ...  1.332e-09  1.000e+00]]\n",
      "        grad: [-1.865e-09 -2.227e-10 ...  1.777e-12  1.844e-13]\n",
      "  optimality: 6.042160901517819e-08\n",
      " active_mask: [ 0.000e+00  0.000e+00 ...  0.000e+00  0.000e+00]\n",
      "        nfev: 15\n",
      "        njev: 12\n"
     ]
    }
   ],
   "source": [
    "from scipy.optimize import least_squares\n",
    "from scipy.interpolate import interp1d\n",
    "\n",
    "# def solve_least_squares(plasma, c_s_k_guess=None):\n",
    "#     if c_s_k_guess == None:\n",
    "#         c_s_k_guess = plasma.hnc.c_s_k_matrix\n",
    "    \n",
    "#     c_s_k_flat_guess = c_s_k_guess.flatten()\n",
    "    \n",
    "#     def min_function(c_s_k_flat):\n",
    "#         c_s_k_matrix = c_s_k_flat.reshape(plasma.hnc.c_s_k_matrix.shape)\n",
    "#         new_c_s_k_matrix = plasma.hnc.guess_c_s_k_matrix(c_s_k_matrix)\n",
    "#         new_c_s_k_flat = new_c_s_k_matrix.flatten() \n",
    "\n",
    "#         return c_s_k_flat - new_c_s_k_flat\n",
    "\n",
    "#     # c_s_k_upper_bound_matrix = plasma.hnc.c_s_k_ \n",
    "#     # c_s_k_guess = plasma_old.hnc.c_s_k_matrix.copy().flatten()\n",
    "#     # c_s_k_guess = plasma.hnc.c_s_k_matrix.copy().flatten()\n",
    "#     sol = least_squares(min_function, c_s_k_flat_guess, verbose=2)#, bounds = c_s_k_bounds)\n",
    "#     plasma.hnc.c_s_k_matrix = sol.x.reshape(plasma.hnc.c_s_k_matrix.shape)\n",
    "#     plasma.hnc.set_all_matrices_from_csk(plasma.hnc.c_s_k_matrix)\n",
    "#     print(sol)\n",
    "# solve_least_squares(atom_long)\n",
    "def custom_flat(hnc_matrix):\n",
    "    hnc_flat = np.concatenate([hnc_matrix[0,0],hnc_matrix[0,1],hnc_matrix[1,1]])\n",
    "    return hnc_flat\n",
    "\n",
    "def custom_unflat(hnc_flat):\n",
    "    hnc00, hnc01, hnc11 = np.split(hnc_flat,3)\n",
    "    hnc_matrix = np.zeros((2,2,len(hnc00)))\n",
    "    hnc_matrix[0,0] = hnc00\n",
    "    hnc_matrix[1,0] = hnc01\n",
    "    hnc_matrix[0,1] = hnc01\n",
    "    hnc_matrix[1,1] = hnc11\n",
    "    return hnc_matrix\n",
    "def solve_least_squares(plasma, sparse_k_array, c_s_k_guess=None, ftol=1e-8):\n",
    "    if c_s_k_guess is None:\n",
    "        c_s_k_guess = plasma.hnc.c_s_k_matrix\n",
    "\n",
    "    # Create functions for converting between sparse, not sparse and flattened versions of c_s_k\n",
    "    get_sparse_csk = lambda c_s_k_flat: np.concatenate([interp1d(plasma.hnc.k_array, c_s_k)(sparse_k_array) for c_s_k in np.split(c_s_k_flat,3) ])\n",
    "    get_csk = lambda sparse_hnc_csk: interp1d(sparse_k_array, sparse_hnc_csk, kind='linear')(plasma.hnc.k_array)\n",
    "    get_csk_matrix_from_sparse_csk_flat =  lambda sparse_c_s_k_flat: custom_unflat(np.concatenate([get_csk(sparse_csk) for sparse_csk in np.split(sparse_c_s_k_flat,3)]))\n",
    "    \n",
    "    def min_function(sparse_c_s_k_flat):\n",
    "        c_s_k_matrix = get_csk_matrix_from_sparse_csk_flat(sparse_c_s_k_flat)\n",
    "        new_c_s_k_matrix = plasma.hnc.guess_c_s_k_matrix(c_s_k_matrix)\n",
    "        plasma.hnc.c_s_k_matrix = new_c_s_k_matrix.copy()\n",
    "        new_c_s_k_flat = custom_flat(new_c_s_k_matrix)\n",
    "        return sparse_c_s_k_flat - get_sparse_csk(new_c_s_k_flat)\n",
    "    \n",
    "    c_s_k_flat_guess = custom_flat(c_s_k_guess)\n",
    "    c_s_k_sparse_guess = get_sparse_csk(c_s_k_flat_guess)\n",
    "    sol = least_squares(min_function, c_s_k_sparse_guess, verbose=2, ftol=ftol)#, bounds = c_s_k_bounds)\n",
    "    plasma.hnc.c_s_k_matrix = get_csk_matrix_from_sparse_csk_flat(sol.x)\n",
    "    plasma.hnc.set_all_matrices_from_csk(plasma.hnc.c_s_k_matrix)\n",
    "    print(sol)\n",
    "solve_least_squares(atom_long,np.linspace(atom_long.hnc.k_array[0], atom_long.hnc.k_array[-1], num=300) )\n"
   ]
  },
  {
   "cell_type": "code",
   "execution_count": 18,
   "id": "82585fc5",
   "metadata": {
    "scrolled": true,
    "tags": []
   },
   "outputs": [
    {
     "name": "stdout",
     "output_type": "stream",
     "text": [
      "Te_in_eV: 1.000\n",
      "Ti_in_eV: 1.000\n",
      "0: Initial condition Total Error: 1.783e+01\n"
     ]
    },
    {
     "ename": "KeyboardInterrupt",
     "evalue": "",
     "output_type": "error",
     "traceback": [
      "\u001b[0;31m---------------------------------------------------------------------------\u001b[0m",
      "\u001b[0;31mKeyboardInterrupt\u001b[0m                         Traceback (most recent call last)",
      "Cell \u001b[0;32mIn[18], line 7\u001b[0m\n\u001b[1;32m      1\u001b[0m atom \u001b[38;5;241m=\u001b[39m PLASMA(Z, A, ni_cc, Ti_eV, Te_eV, Zbar\u001b[38;5;241m=\u001b[39mZbar, \n\u001b[1;32m      2\u001b[0m                  βu_options \u001b[38;5;241m=\u001b[39m {\u001b[38;5;124m'\u001b[39m\u001b[38;5;124madd_bridge\u001b[39m\u001b[38;5;124m'\u001b[39m:\u001b[38;5;28;01mTrue\u001b[39;00m,\u001b[38;5;124m'\u001b[39m\u001b[38;5;124mbridge\u001b[39m\u001b[38;5;124m'\u001b[39m:\u001b[38;5;124m'\u001b[39m\u001b[38;5;124myukawa\u001b[39m\u001b[38;5;124m'\u001b[39m, \u001b[38;5;124m'\u001b[39m\u001b[38;5;124mpseudopotential\u001b[39m\u001b[38;5;124m'\u001b[39m:\u001b[38;5;28;01mTrue\u001b[39;00m}, \n\u001b[1;32m      3\u001b[0m                  qsp_options\u001b[38;5;241m=\u001b[39m{\u001b[38;5;124m'\u001b[39m\u001b[38;5;124mr_c\u001b[39m\u001b[38;5;124m'\u001b[39m:r_c},\n\u001b[1;32m      4\u001b[0m                  hnc_options\u001b[38;5;241m=\u001b[39m{\u001b[38;5;124m'\u001b[39m\u001b[38;5;124mkappa_multiscale\u001b[39m\u001b[38;5;124m'\u001b[39m:\u001b[38;5;241m10\u001b[39m, \u001b[38;5;124m'\u001b[39m\u001b[38;5;124mR_max\u001b[39m\u001b[38;5;124m'\u001b[39m:\u001b[38;5;241m5\u001b[39m,\u001b[38;5;124m'\u001b[39m\u001b[38;5;124mN_bins\u001b[39m\u001b[38;5;124m'\u001b[39m:\u001b[38;5;241m250\u001b[39m},\n\u001b[1;32m      5\u001b[0m                  hnc_solve_options\u001b[38;5;241m=\u001b[39m{\u001b[38;5;124m'\u001b[39m\u001b[38;5;124malpha_Picard\u001b[39m\u001b[38;5;124m'\u001b[39m:\u001b[38;5;241m0.1\u001b[39m},\n\u001b[1;32m      6\u001b[0m                  root_options\u001b[38;5;241m=\u001b[39m{\u001b[38;5;124m'\u001b[39m\u001b[38;5;124moptions\u001b[39m\u001b[38;5;124m'\u001b[39m:{\u001b[38;5;124m'\u001b[39m\u001b[38;5;124mmaxfev\u001b[39m\u001b[38;5;124m'\u001b[39m:\u001b[38;5;241m50000\u001b[39m,\u001b[38;5;124m'\u001b[39m\u001b[38;5;124mxtol\u001b[39m\u001b[38;5;124m'\u001b[39m:\u001b[38;5;241m1e-14\u001b[39m}}) \n\u001b[0;32m----> 7\u001b[0m \u001b[43matom\u001b[49m\u001b[38;5;241;43m.\u001b[39;49m\u001b[43mrun_hnc\u001b[49m\u001b[43m(\u001b[49m\u001b[43m)\u001b[49m\n\u001b[1;32m      8\u001b[0m \u001b[38;5;66;03m# atom.get_cp()\u001b[39;00m\n",
      "File \u001b[0;32m~/plasma/hnc/hnc/PIE.py:229\u001b[0m, in \u001b[0;36mPlasma_of_Ions_and_Electrons.run_hnc\u001b[0;34m(self, hnc, qsp, c_s_k_guess, newton)\u001b[0m\n\u001b[1;32m    226\u001b[0m \u001b[38;5;28;01melse\u001b[39;00m:\n\u001b[1;32m    227\u001b[0m \thnc\u001b[38;5;241m.\u001b[39mc_s_k_matrix \u001b[38;5;241m*\u001b[39m\u001b[38;5;241m=\u001b[39m \u001b[38;5;241m0\u001b[39m \n\u001b[0;32m--> 229\u001b[0m converged \u001b[38;5;241m=\u001b[39m \u001b[43mhnc\u001b[49m\u001b[38;5;241;43m.\u001b[39;49m\u001b[43mHNC_solve\u001b[49m\u001b[43m(\u001b[49m\u001b[38;5;241;43m*\u001b[39;49m\u001b[38;5;241;43m*\u001b[39;49m\u001b[38;5;28;43mself\u001b[39;49m\u001b[38;5;241;43m.\u001b[39;49m\u001b[43mhnc_solve_options\u001b[49m\u001b[43m)\u001b[49m\n\u001b[1;32m    231\u001b[0m hnc\u001b[38;5;241m.\u001b[39minvert_HNC_OZ([\u001b[38;5;241m1\u001b[39m])\n\u001b[1;32m    233\u001b[0m \u001b[38;5;28;01mif\u001b[39;00m newton\u001b[38;5;241m==\u001b[39m\u001b[38;5;28;01mFalse\u001b[39;00m:\n",
      "File \u001b[0;32m~/plasma/hnc/hnc/hnc.py:667\u001b[0m, in \u001b[0;36mIntegral_Equation_Solver.HNC_solve\u001b[0;34m(self, num_iterations, tol, iters_to_wait, iters_to_use, alpha_Ng, alpha_Picard, alpha_oz, iters_to_check, verbose, min_iters)\u001b[0m\n\u001b[1;32m    664\u001b[0m \u001b[38;5;28mself\u001b[39m\u001b[38;5;241m.\u001b[39mu_ex_list\u001b[38;5;241m.\u001b[39mappend(u_ex)\n\u001b[1;32m    666\u001b[0m hnc_err \u001b[38;5;241m=\u001b[39m np\u001b[38;5;241m.\u001b[39mlinalg\u001b[38;5;241m.\u001b[39mnorm(\u001b[38;5;241m-\u001b[39m \u001b[38;5;241m1\u001b[39m \u001b[38;5;241m-\u001b[39m \u001b[38;5;28mself\u001b[39m\u001b[38;5;241m.\u001b[39mh_r_matrix   \u001b[38;5;241m+\u001b[39m np\u001b[38;5;241m.\u001b[39mexp( \u001b[38;5;241m-\u001b[39m\u001b[38;5;28mself\u001b[39m\u001b[38;5;241m.\u001b[39mβu_r_matrix \u001b[38;5;241m+\u001b[39m \u001b[38;5;28mself\u001b[39m\u001b[38;5;241m.\u001b[39mh_r_matrix \u001b[38;5;241m-\u001b[39m \u001b[38;5;28mself\u001b[39m\u001b[38;5;241m.\u001b[39mc_r_matrix ))\u001b[38;5;241m/\u001b[39mnp\u001b[38;5;241m.\u001b[39msqrt(\u001b[38;5;28mself\u001b[39m\u001b[38;5;241m.\u001b[39mN_bins\u001b[38;5;241m*\u001b[39m\u001b[38;5;28mself\u001b[39m\u001b[38;5;241m.\u001b[39mN_species\u001b[38;5;241m*\u001b[39m\u001b[38;5;241m*\u001b[39m\u001b[38;5;241m2\u001b[39m)\n\u001b[0;32m--> 667\u001b[0m actual_tot_err \u001b[38;5;241m=\u001b[39m \u001b[38;5;28;43mself\u001b[39;49m\u001b[38;5;241;43m.\u001b[39;49m\u001b[43mtotal_err\u001b[49m\u001b[43m(\u001b[49m\u001b[38;5;28;43mself\u001b[39;49m\u001b[38;5;241;43m.\u001b[39;49m\u001b[43mc_s_k_matrix\u001b[49m\u001b[43m)\u001b[49m\n\u001b[1;32m    668\u001b[0m \u001b[38;5;28mself\u001b[39m\u001b[38;5;241m.\u001b[39mtot_err_list\u001b[38;5;241m.\u001b[39mappend(actual_tot_err)\n\u001b[1;32m    669\u001b[0m \u001b[38;5;28mself\u001b[39m\u001b[38;5;241m.\u001b[39mhnc_err_list\u001b[38;5;241m.\u001b[39mappend(hnc_err)\n",
      "File \u001b[0;32m~/plasma/hnc/hnc/hnc.py:446\u001b[0m, in \u001b[0;36mIntegral_Equation_Solver.total_err\u001b[0;34m(self, c_s_k_matrix)\u001b[0m\n\u001b[1;32m    443\u001b[0m c_k_matrix \u001b[38;5;241m=\u001b[39m c_s_k_matrix \u001b[38;5;241m-\u001b[39m \u001b[38;5;28mself\u001b[39m\u001b[38;5;241m.\u001b[39mβu_l_k_matrix\n\u001b[1;32m    445\u001b[0m \u001b[38;5;66;03m# C_matrix = self.rho[np.newaxis,:,np.newaxis] * c_k_matrix\u001b[39;00m\n\u001b[0;32m--> 446\u001b[0m γs_k_matrix \u001b[38;5;241m=\u001b[39m \u001b[38;5;28;43mself\u001b[39;49m\u001b[38;5;241;43m.\u001b[39;49m\u001b[43mget_γs_k_matrix\u001b[49m\u001b[43m(\u001b[49m\u001b[43mc_s_k_matrix\u001b[49m\u001b[43m)\u001b[49m\n\u001b[1;32m    447\u001b[0m h_k_matrix \u001b[38;5;241m=\u001b[39m c_s_k_matrix  \u001b[38;5;241m+\u001b[39m γs_k_matrix\n\u001b[1;32m    448\u001b[0m h_r_matrix \u001b[38;5;241m=\u001b[39m \u001b[38;5;28mself\u001b[39m\u001b[38;5;241m.\u001b[39mFT_k_2_r_matrix(h_k_matrix)\n",
      "File \u001b[0;32m~/plasma/hnc/hnc/hnc.py:241\u001b[0m, in \u001b[0;36mIntegral_Equation_Solver.get_γs_k_matrix\u001b[0;34m(self, c_s_k_matrix)\u001b[0m\n\u001b[1;32m    239\u001b[0m     γs_k_matrix \u001b[38;5;241m=\u001b[39m \u001b[38;5;28mself\u001b[39m\u001b[38;5;241m.\u001b[39mget_γs_k_matrix_standard(c_s_k_matrix)\n\u001b[1;32m    240\u001b[0m \u001b[38;5;28;01melif\u001b[39;00m \u001b[38;5;28mself\u001b[39m\u001b[38;5;241m.\u001b[39moz_method \u001b[38;5;129;01min\u001b[39;00m [\u001b[38;5;124m'\u001b[39m\u001b[38;5;124msvt\u001b[39m\u001b[38;5;124m'\u001b[39m,\u001b[38;5;124m'\u001b[39m\u001b[38;5;124mSVT\u001b[39m\u001b[38;5;124m'\u001b[39m]:\n\u001b[0;32m--> 241\u001b[0m     γs_k_matrix \u001b[38;5;241m=\u001b[39m \u001b[38;5;28;43mself\u001b[39;49m\u001b[38;5;241;43m.\u001b[39;49m\u001b[43mget_γs_k_matrix_SVT\u001b[49m\u001b[43m(\u001b[49m\u001b[43mc_s_k_matrix\u001b[49m\u001b[43m)\u001b[49m\n\u001b[1;32m    242\u001b[0m \u001b[38;5;28;01mreturn\u001b[39;00m γs_k_matrix\n",
      "File \u001b[0;32m~/plasma/hnc/hnc/hnc.py:277\u001b[0m, in \u001b[0;36mIntegral_Equation_Solver.get_γs_k_matrix_SVT\u001b[0;34m(self, c_s_k_matrix)\u001b[0m\n\u001b[1;32m    275\u001b[0m γs_k_matrix \u001b[38;5;241m=\u001b[39m np\u001b[38;5;241m.\u001b[39mzeros_like(\u001b[38;5;28mself\u001b[39m\u001b[38;5;241m.\u001b[39mγs_k_matrix)\n\u001b[1;32m    276\u001b[0m \u001b[38;5;28;01mfor\u001b[39;00m k \u001b[38;5;129;01min\u001b[39;00m \u001b[38;5;28mrange\u001b[39m(\u001b[38;5;28mself\u001b[39m\u001b[38;5;241m.\u001b[39mN_bins):\n\u001b[0;32m--> 277\u001b[0m     γs_k_matrix[:,:,k]   \u001b[38;5;241m=\u001b[39m \u001b[43msolve_sylvester\u001b[49m\u001b[43m(\u001b[49m\u001b[43mA\u001b[49m\u001b[43m[\u001b[49m\u001b[43m:\u001b[49m\u001b[43m,\u001b[49m\u001b[43m:\u001b[49m\u001b[43m,\u001b[49m\u001b[43mk\u001b[49m\u001b[43m]\u001b[49m\u001b[43m,\u001b[49m\u001b[43m \u001b[49m\u001b[43mB\u001b[49m\u001b[43m[\u001b[49m\u001b[43m:\u001b[49m\u001b[43m,\u001b[49m\u001b[43m:\u001b[49m\u001b[43m,\u001b[49m\u001b[43mk\u001b[49m\u001b[43m]\u001b[49m\u001b[43m,\u001b[49m\u001b[43m \u001b[49m\u001b[43mC\u001b[49m\u001b[43m[\u001b[49m\u001b[43m:\u001b[49m\u001b[43m,\u001b[49m\u001b[43m:\u001b[49m\u001b[43m,\u001b[49m\u001b[43mk\u001b[49m\u001b[43m]\u001b[49m\u001b[43m)\u001b[49m\n\u001b[1;32m    278\u001b[0m     \u001b[38;5;66;03m# γs_k_matrix[:,:,k] = solve_continuous_lyapunov(A[:,:,k], C[:,:,k])\u001b[39;00m\n\u001b[1;32m    279\u001b[0m \u001b[38;5;28;01mreturn\u001b[39;00m γs_k_matrix\n",
      "File \u001b[0;32m~/anaconda3/envs/zplasma/lib/python3.10/site-packages/scipy/linalg/_solvers.py:102\u001b[0m, in \u001b[0;36msolve_sylvester\u001b[0;34m(a, b, q)\u001b[0m\n\u001b[1;32m     98\u001b[0m y, scale, info \u001b[38;5;241m=\u001b[39m trsyl(r, s, f, tranb\u001b[38;5;241m=\u001b[39m\u001b[38;5;124m'\u001b[39m\u001b[38;5;124mC\u001b[39m\u001b[38;5;124m'\u001b[39m)\n\u001b[1;32m    100\u001b[0m y \u001b[38;5;241m=\u001b[39m scale\u001b[38;5;241m*\u001b[39my\n\u001b[0;32m--> 102\u001b[0m \u001b[38;5;28;01mif\u001b[39;00m info \u001b[38;5;241m<\u001b[39m \u001b[38;5;241m0\u001b[39m:\n\u001b[1;32m    103\u001b[0m     \u001b[38;5;28;01mraise\u001b[39;00m LinAlgError(\u001b[38;5;124m\"\u001b[39m\u001b[38;5;124mIllegal value encountered in \u001b[39m\u001b[38;5;124m\"\u001b[39m\n\u001b[1;32m    104\u001b[0m                       \u001b[38;5;124m\"\u001b[39m\u001b[38;5;124mthe \u001b[39m\u001b[38;5;132;01m%d\u001b[39;00m\u001b[38;5;124m term\u001b[39m\u001b[38;5;124m\"\u001b[39m \u001b[38;5;241m%\u001b[39m (\u001b[38;5;241m-\u001b[39minfo,))\n\u001b[1;32m    106\u001b[0m \u001b[38;5;28;01mreturn\u001b[39;00m np\u001b[38;5;241m.\u001b[39mdot(np\u001b[38;5;241m.\u001b[39mdot(u, y), v\u001b[38;5;241m.\u001b[39mconj()\u001b[38;5;241m.\u001b[39mtranspose())\n",
      "\u001b[0;31mKeyboardInterrupt\u001b[0m: "
     ]
    }
   ],
   "source": [
    "atom = PLASMA(Z, A, ni_cc, Ti_eV, Te_eV, Zbar=Zbar, \n",
    "                 βu_options = {'add_bridge':True,'bridge':'yukawa', 'pseudopotential':True}, \n",
    "                 qsp_options={'r_c':r_c},\n",
    "                 hnc_options={'kappa_multiscale':10, 'R_max':5,'N_bins':250},\n",
    "                 hnc_solve_options={'alpha_Picard':0.1},\n",
    "                 root_options={'options':{'maxfev':50000,'xtol':1e-14}}) \n",
    "atom.run_hnc()\n",
    "# atom.get_cp()"
   ]
  },
  {
   "cell_type": "code",
   "execution_count": null,
   "id": "6ce00888-8ff1-4792-a00f-0f472ff646b8",
   "metadata": {
    "tags": []
   },
   "outputs": [],
   "source": [
    "# c_s_k_guess = atom.hnc.c_s_k_matrix.copy()"
   ]
  },
  {
   "cell_type": "code",
   "execution_count": 53,
   "id": "1e85b381",
   "metadata": {
    "tags": []
   },
   "outputs": [
    {
     "name": "stdout",
     "output_type": "stream",
     "text": [
      "Te_in_eV: 1.000\n",
      "Ti_in_eV: 1.000\n",
      "0: Initial condition Total Error: 9.036e+00\n",
      "Warning: HNC_solver did not converge within the specified number of iterations.\n",
      "Exiting status 1, reverting to best index so far: 1001\n",
      "Final iter:1001, Total Error: 1.358e-08\n",
      "\n",
      "Root Finder:  True The solution converged. final err: 1.337e-13\n"
     ]
    }
   ],
   "source": [
    "atom_oz = PLASMA(Z, A, ni_cc, Ti_eV, Te_eV, Zbar=Zbar, \n",
    "                 βu_options = {'add_bridge':True,'bridge':'yukawa', 'pseudopotential':True}, \n",
    "                 qsp_options={'r_c':r_c},\n",
    "                 hnc_options={'kappa_multiscale':10, 'R_max':20,'N_bins':1000, 'oz_method':'standard'},\n",
    "                 hnc_solve_options={'alpha_Picard':0.25,'num_iterations':10000})\n",
    "atom_oz.run_hnc()\n",
    "# atom.get_cp()"
   ]
  },
  {
   "cell_type": "code",
   "execution_count": null,
   "id": "a218f35f",
   "metadata": {},
   "outputs": [],
   "source": [
    "# atom_oz.run_onlyion_hnc()"
   ]
  },
  {
   "cell_type": "code",
   "execution_count": 19,
   "id": "8fa6f5fc",
   "metadata": {
    "tags": []
   },
   "outputs": [
    {
     "data": {
      "text/html": [
       "<div>\n",
       "<style scoped>\n",
       "    .dataframe tbody tr th:only-of-type {\n",
       "        vertical-align: middle;\n",
       "    }\n",
       "\n",
       "    .dataframe tbody tr th {\n",
       "        vertical-align: top;\n",
       "    }\n",
       "\n",
       "    .dataframe thead th {\n",
       "        text-align: right;\n",
       "    }\n",
       "</style>\n",
       "<table border=\"1\" class=\"dataframe\">\n",
       "  <thead>\n",
       "    <tr style=\"text-align: right;\">\n",
       "      <th></th>\n",
       "      <th>r</th>\n",
       "      <th>g</th>\n",
       "    </tr>\n",
       "  </thead>\n",
       "  <tbody>\n",
       "    <tr>\n",
       "      <th>0</th>\n",
       "      <td>0.980066</td>\n",
       "      <td>0.004092</td>\n",
       "    </tr>\n",
       "    <tr>\n",
       "      <th>1</th>\n",
       "      <td>1.059801</td>\n",
       "      <td>0.009002</td>\n",
       "    </tr>\n",
       "    <tr>\n",
       "      <th>2</th>\n",
       "      <td>1.106312</td>\n",
       "      <td>0.031097</td>\n",
       "    </tr>\n",
       "    <tr>\n",
       "      <th>3</th>\n",
       "      <td>1.179402</td>\n",
       "      <td>0.134206</td>\n",
       "    </tr>\n",
       "    <tr>\n",
       "      <th>4</th>\n",
       "      <td>1.212625</td>\n",
       "      <td>0.247136</td>\n",
       "    </tr>\n",
       "    <tr>\n",
       "      <th>5</th>\n",
       "      <td>1.285714</td>\n",
       "      <td>0.576105</td>\n",
       "    </tr>\n",
       "    <tr>\n",
       "      <th>6</th>\n",
       "      <td>1.338870</td>\n",
       "      <td>0.892799</td>\n",
       "    </tr>\n",
       "    <tr>\n",
       "      <th>7</th>\n",
       "      <td>1.392027</td>\n",
       "      <td>1.145663</td>\n",
       "    </tr>\n",
       "    <tr>\n",
       "      <th>8</th>\n",
       "      <td>1.458472</td>\n",
       "      <td>1.413257</td>\n",
       "    </tr>\n",
       "    <tr>\n",
       "      <th>9</th>\n",
       "      <td>1.485050</td>\n",
       "      <td>1.481997</td>\n",
       "    </tr>\n",
       "    <tr>\n",
       "      <th>10</th>\n",
       "      <td>1.511628</td>\n",
       "      <td>1.565466</td>\n",
       "    </tr>\n",
       "    <tr>\n",
       "      <th>11</th>\n",
       "      <td>1.544850</td>\n",
       "      <td>1.587561</td>\n",
       "    </tr>\n",
       "    <tr>\n",
       "      <th>12</th>\n",
       "      <td>1.591362</td>\n",
       "      <td>1.567921</td>\n",
       "    </tr>\n",
       "    <tr>\n",
       "      <th>13</th>\n",
       "      <td>1.651163</td>\n",
       "      <td>1.501637</td>\n",
       "    </tr>\n",
       "    <tr>\n",
       "      <th>14</th>\n",
       "      <td>1.717608</td>\n",
       "      <td>1.420622</td>\n",
       "    </tr>\n",
       "    <tr>\n",
       "      <th>15</th>\n",
       "      <td>1.764120</td>\n",
       "      <td>1.339607</td>\n",
       "    </tr>\n",
       "    <tr>\n",
       "      <th>16</th>\n",
       "      <td>1.790698</td>\n",
       "      <td>1.278232</td>\n",
       "    </tr>\n",
       "    <tr>\n",
       "      <th>17</th>\n",
       "      <td>1.843854</td>\n",
       "      <td>1.209493</td>\n",
       "    </tr>\n",
       "    <tr>\n",
       "      <th>18</th>\n",
       "      <td>1.877076</td>\n",
       "      <td>1.157938</td>\n",
       "    </tr>\n",
       "    <tr>\n",
       "      <th>19</th>\n",
       "      <td>1.976744</td>\n",
       "      <td>1.025368</td>\n",
       "    </tr>\n",
       "    <tr>\n",
       "      <th>20</th>\n",
       "      <td>2.116279</td>\n",
       "      <td>0.900164</td>\n",
       "    </tr>\n",
       "    <tr>\n",
       "      <th>21</th>\n",
       "      <td>2.215947</td>\n",
       "      <td>0.870704</td>\n",
       "    </tr>\n",
       "    <tr>\n",
       "      <th>22</th>\n",
       "      <td>2.289037</td>\n",
       "      <td>0.855974</td>\n",
       "    </tr>\n",
       "    <tr>\n",
       "      <th>23</th>\n",
       "      <td>2.428571</td>\n",
       "      <td>0.887889</td>\n",
       "    </tr>\n",
       "    <tr>\n",
       "      <th>24</th>\n",
       "      <td>2.627907</td>\n",
       "      <td>0.966448</td>\n",
       "    </tr>\n",
       "    <tr>\n",
       "      <th>25</th>\n",
       "      <td>2.740864</td>\n",
       "      <td>1.000818</td>\n",
       "    </tr>\n",
       "    <tr>\n",
       "      <th>26</th>\n",
       "      <td>2.867110</td>\n",
       "      <td>1.035188</td>\n",
       "    </tr>\n",
       "    <tr>\n",
       "      <th>27</th>\n",
       "      <td>2.946844</td>\n",
       "      <td>1.052373</td>\n",
       "    </tr>\n",
       "    <tr>\n",
       "      <th>28</th>\n",
       "      <td>3.059801</td>\n",
       "      <td>1.049918</td>\n",
       "    </tr>\n",
       "    <tr>\n",
       "      <th>29</th>\n",
       "      <td>3.172757</td>\n",
       "      <td>1.020458</td>\n",
       "    </tr>\n",
       "  </tbody>\n",
       "</table>\n",
       "</div>"
      ],
      "text/plain": [
       "           r         g\n",
       "0   0.980066  0.004092\n",
       "1   1.059801  0.009002\n",
       "2   1.106312  0.031097\n",
       "3   1.179402  0.134206\n",
       "4   1.212625  0.247136\n",
       "5   1.285714  0.576105\n",
       "6   1.338870  0.892799\n",
       "7   1.392027  1.145663\n",
       "8   1.458472  1.413257\n",
       "9   1.485050  1.481997\n",
       "10  1.511628  1.565466\n",
       "11  1.544850  1.587561\n",
       "12  1.591362  1.567921\n",
       "13  1.651163  1.501637\n",
       "14  1.717608  1.420622\n",
       "15  1.764120  1.339607\n",
       "16  1.790698  1.278232\n",
       "17  1.843854  1.209493\n",
       "18  1.877076  1.157938\n",
       "19  1.976744  1.025368\n",
       "20  2.116279  0.900164\n",
       "21  2.215947  0.870704\n",
       "22  2.289037  0.855974\n",
       "23  2.428571  0.887889\n",
       "24  2.627907  0.966448\n",
       "25  2.740864  1.000818\n",
       "26  2.867110  1.035188\n",
       "27  2.946844  1.052373\n",
       "28  3.059801  1.049918\n",
       "29  3.172757  1.020458"
      ]
     },
     "execution_count": 19,
     "metadata": {},
     "output_type": "execute_result"
    }
   ],
   "source": [
    "MD_data = read_csv(\"/home/zach/plasma/datasets/RDFs/Al_1.0eV_rs3_VASP.txt\",  header=1)\n",
    "MD_data.columns=['r','g']\n",
    "MD_data"
   ]
  },
  {
   "cell_type": "code",
   "execution_count": 20,
   "id": "a2ebe64a-be70-4c94-9e16-9679e04e2597",
   "metadata": {
    "tags": []
   },
   "outputs": [
    {
     "data": {
      "text/plain": [
       "array([ 4.04103821e-05,  2.95678043e-05,  2.07643312e-05,  1.32658281e-05,\n",
       "        7.64973952e-06,  3.20413575e-06,  5.16071903e-07, -1.10271877e-06,\n",
       "       -1.05335800e-06,  0.00000000e+00])"
      ]
     },
     "execution_count": 20,
     "metadata": {},
     "output_type": "execute_result"
    }
   ],
   "source": [
    "atom.hnc.invert_HNC_OZ([1])\n",
    "atom.hnc.βueff_r_matrix[0,0][-10:]-atom.hnc.βueff_r_matrix[0,0][-1]"
   ]
  },
  {
   "cell_type": "code",
   "execution_count": 25,
   "id": "71646433-04bf-4f76-9174-97036e1d6f3a",
   "metadata": {
    "tags": []
   },
   "outputs": [],
   "source": [
    "atom_long.hnc.invert_HNC_OZ([1])"
   ]
  },
  {
   "cell_type": "code",
   "execution_count": 21,
   "id": "439e5056",
   "metadata": {
    "tags": []
   },
   "outputs": [
    {
     "data": {
      "text/plain": [
       "<matplotlib.legend.Legend at 0x7f82a3ae8130>"
      ]
     },
     "execution_count": 21,
     "metadata": {},
     "output_type": "execute_result"
    },
    {
     "data": {
      "image/png": "[encoded data removed]",
      "text/plain": [
       "<Figure size 1000x800 with 1 Axes>"
      ]
     },
     "metadata": {},
     "output_type": "display_data"
    }
   ],
   "source": [
    "# AA_data = read_csv(\"/home/zach/plasma/atoMEC/examples/density.csv\", delim_whitespace=True, header=0)\n",
    "\n",
    "fig, ax = plt.subplots(figsize=(10,8))\n",
    "# nf_0 = Zbar/(4/3*np.pi*atom.qsp.ri**3)\n",
    "# ax.plot(AA_data['r[a_0]'], np.array(AA_data['n[unbound]'])/nf_0,'k.' ,label=\"AA\" )\n",
    "# ax.plot(atom_2e.hnc.r_array*atom_2e.qsp.ri, atom_2e.hnc.h_r_matrix[0,0]+1,'--', label='2 electron SVT ')\n",
    "# ax.plot(atom.hnc.r_array, atom.hnc.h_r_matrix[0,0]+1,'--', label='1 electron SVT ')\n",
    "ax.plot(atom_long.hnc.r_array, atom_long.hnc.h_r_matrix[0,0]+1,'-.', label='1 electron SVT-long ')\n",
    "# ax.plot(atom_oz.hnc.r_array, atom_oz.hnc.h_r_matrix[0,0]+1,'--', label='1 electron OZ ')\n",
    "# ax.plot(atom.hnc.r_array, atom_oz.onlyion_hnc.h_r_matrix[0,0]+1,'--', label='Only Ion')\n",
    "ax.plot(MD_data['r'], MD_data['g'], label='VASP')\n",
    "\n",
    "# ax.plot(atom_oz.hnc.r_array*atom_oz.qsp.ri, atom_oz.hnc.h_r_matrix[0,0]+1,'--', label='my OZ CHNC')\n",
    "\n",
    "ax.set_xlim(0,6)\n",
    "ax.set_ylabel(r'$g_{ii}$',fontsize=20)\n",
    "ax.set_xlabel(r'$r$ [A.U.]',fontsize=20)\n",
    "ax.tick_params(labelsize=20)\n",
    "# ax.set_yscale('symlog', linthresh=2)\n",
    "\n",
    "# [i.set_linewidth(0.1) for i in ax.spines.itervalues()]\n",
    "ax.legend(fontsize=15)"
   ]
  },
  {
   "cell_type": "markdown",
   "id": "a24f12c8-f572-4819-8d10-3d249732bf9b",
   "metadata": {},
   "source": [
    "## Born Green Viscocity\n",
    "See [Morioka 2004](https://www.sciencedirect.com/science/article/pii/S0022309304003692)\n",
    "\n",
    "\\begin{align}\n",
    "η = f_{BG} \\frac{2 \\pi}{15} \\left(\\frac{M}{RT} \\right)^{1/2} \\frac{n^2}{N_a} \\int^\\infty_0 g(r) \\frac{d\\phi}{dr}r^4 dr\n",
    "\\end{align}\n",
    "Resulting units is Pa s\n"
   ]
  },
  {
   "cell_type": "code",
   "execution_count": 83,
   "id": "e06013a0-539a-4b40-8672-e36e74567909",
   "metadata": {
    "tags": []
   },
   "outputs": [
    {
     "name": "stdout",
     "output_type": "stream",
     "text": [
      "SI: η = 2.745e-03 [kg m^-1 s^-1] (or [Pa s])\n",
      "CGS: η = 2.745e-02 [g cm^-1 s^-1]\n"
     ]
    },
    {
     "data": {
      "image/png": "[encoded data removed]",
      "text/plain": [
       "<Figure size 1500x1000 with 1 Axes>"
      ]
     },
     "metadata": {},
     "output_type": "display_data"
    }
   ],
   "source": [
    "from scipy.integrate import simpson\n",
    "\n",
    "def get_ηBG(plasma):\n",
    "    plasma.hnc.invert_HNC_OZ([1])\n",
    "    fBG = -1\n",
    "    n_AU = n_from_rs(plasma.qsp.ri)\n",
    "    r_array = plasma.hnc.r_array*plasma.qsp.ri\n",
    "    gii = plasma.hnc.h_r_matrix[0,0]+1\n",
    "    dφdr = plasma.qsp.Ti*np.gradient(plasma.hnc.βueff_r_matrix[0,0], r_array)\n",
    "\n",
    "    integrand = r_array**4 * gii * dφdr\n",
    "    ##\n",
    "    fig, ax = plt.subplots()\n",
    "    ax.plot(r_array, dφdr*r_array**4)\n",
    "    ###\n",
    "    integral = simpson(integrand, x=r_array)\n",
    "    η = fBG* 2*π/15 * (plasma.qsp.βi*plasma.qsp.m_i)**0.5*n_AU**2*integral\n",
    "    return η\n",
    "\n",
    "η_SI = get_ηBG(atom_long)*AU_to_Pa*AU_to_s # Pa s = kg m^-1 s^-1 \n",
    "print(f\"SI: η = {η_SI:0.3e} [kg m^-1 s^-1] (or [Pa s])\")\n",
    "η_cgs = η_SI * 1000/100 # g cm^-1 s^-1\n",
    "print(f\"CGS: η = {η_cgs:0.3e} [g cm^-1 s^-1]\")"
   ]
  },
  {
   "cell_type": "markdown",
   "id": "5d4d6ed0-5a7f-4bac-bc71-6336ef5fe009",
   "metadata": {},
   "source": [
    "# Plot Fixed Neutrality Issue βu_eff"
   ]
  },
  {
   "cell_type": "code",
   "execution_count": null,
   "id": "65747a76-c029-467f-9356-b29049377219",
   "metadata": {
    "tags": []
   },
   "outputs": [],
   "source": [
    "plt.style.use('~/plasma/hnc/hnc_paper.mplstyle')\n",
    "\n",
    "atom.hnc.invert_HNC_OZ([1])\n",
    "βu_r_raw = atom.hnc.βueff_r_matrix[0,0]\n",
    "βu_r_raw_fix1 = βu_r_raw - βu_r_raw[-1]\n",
    "βu_r_raw_fix2 = βu_r_raw - (βu_r_raw[-1]*atom.hnc.r_array[-1])/atom.hnc.r_array\n",
    "tapering_func = lambda r: np.exp( -0.02*r**2/(5-r))\n",
    "βu_r_raw_fix3 = βu_r_raw*tapering_func(atom.hnc.r_array)\n",
    "βu_r_raw_fix4 = βu_r_raw_fix1*tapering_func(atom.hnc.r_array)\n",
    "\n",
    "\n",
    "fig, axs  = plt.subplots(1,2,figsize=(20,8))\n",
    "yukawa_matrix = (atom_long.hnc.Gamma[:,:,np.newaxis]/atom_long.hnc.r_array * np.exp(-atom_long.hnc.r_array*atom_long.qsp.get_κ())[np.newaxis,np.newaxis,:] ) [:-1,:-1]\n",
    "\n",
    "axs[0].set_title(r\"$\\beta u$\")\n",
    "axs[0].plot(atom.hnc.r_array, βu_r_raw,'k--', label='Raw')\n",
    "axs[0].plot(atom_long.hnc.r_array, atom_long.hnc.βueff_r_matrix[0,0],'k-.', label='Long')\n",
    "axs[0].plot(atom.hnc.r_array, βu_r_raw_fix1, label=r'Constant Shift to $\\beta u_{eff}$')\n",
    "axs[0].plot(atom.hnc.r_array, βu_r_raw_fix2 , label=r'Subtraction of Coulomb directly')\n",
    "axs[0].plot(atom.hnc.r_array, βu_r_raw_fix3, label=r'Tapered raw')\n",
    "axs[0].plot(atom.hnc.r_array, βu_r_raw_fix4, label=r'Tapered shifted')\n",
    "axs[0].plot(atom_long.hnc.r_array, yukawa_matrix[0,0],'-.', label='Yukawa')\n",
    "\n",
    "axs[1].set_title(r\"$F$\")\n",
    "dudx = lambda u: -(u[1:]-u[:-1])/atom.hnc.del_r\n",
    "axs[1].plot(atom.hnc.r_array[1:], dudx(βu_r_raw),'k--', label='Raw')\n",
    "axs[1].plot(atom_long.hnc.r_array[1:], dudx(atom_long.hnc.βueff_r_matrix[0,0]),'k-.', label='Long')\n",
    "axs[1].plot(atom.hnc.r_array[1:], dudx(βu_r_raw_fix1), label=r'Constant Shift to $\\beta u_{eff}$')\n",
    "axs[1].plot(atom.hnc.r_array[1:], dudx(βu_r_raw_fix2) , label=r'Subtraction of Coulomb directly')\n",
    "axs[1].plot(atom.hnc.r_array[1:], dudx(βu_r_raw_fix3), label=r'Tapered raw ')\n",
    "axs[1].plot(atom.hnc.r_array[1:], dudx(βu_r_raw_fix4), label=r'Tapered shifted')\n",
    "βueff_r_header=\"r/r_i \\t\\t\\t βuii_eff(r/r_i)\"\n",
    "np.savetxt(\"./fits/{0}_βu_eff_raw.txt\".format(case_id), np.array([atom.hnc.r_array, βu_r_raw]).T, header=βueff_r_header)\n",
    "np.savetxt(\"./fits/{0}_βu_eff_shifted.txt\".format(case_id), np.array([atom.hnc.r_array, βu_r_raw_fix1]).T, header=βueff_r_header)\n",
    "np.savetxt(\"./fits/{0}_βu_eff_tapered.txt\".format(case_id), np.array([atom.hnc.r_array, βu_r_raw_fix3]).T, header=βueff_r_header)\n",
    "np.savetxt(\"./fits/{0}_βu_eff_shifted_tapered.txt\".format(case_id), np.array([atom.hnc.r_array, βu_r_raw_fix4]).T, header=βueff_r_header)\n",
    "\n",
    "axs[1].set_xlim(4,10)\n",
    "\n",
    "for ax in axs:\n",
    "    ax.set_yscale('symlog',linthresh=1e-8)\n",
    "\n",
    "    ax.legend(fontsize=15)\n"
   ]
  },
  {
   "cell_type": "markdown",
   "id": "1fafbad0-1163-46f6-b182-8c4fcd2db08e",
   "metadata": {},
   "source": [
    "### Plot $\\beta u^{eff}$"
   ]
  },
  {
   "cell_type": "code",
   "execution_count": null,
   "id": "8b688be3-73d7-4133-989e-2d1ccc90c871",
   "metadata": {},
   "outputs": [],
   "source": [
    "plt.style.use('~/plasma/hnc/hnc_paper.mplstyle')\n",
    "def make_gij(ax):\n",
    "    ax.plot(atom.hnc.r_array*atom.qsp.ri, atom.hnc.h_r_matrix[0,0]+1,'-', label=r'$g_{ii}$')\n",
    "    ax.plot(atom.hnc.r_array*atom.qsp.ri, atom.hnc.h_r_matrix[0,1]+1,'--', label=r'$g_{ei}$')\n",
    "    ax.plot(atom.hnc.r_array*atom.qsp.ri, atom.hnc.h_r_matrix[1,1]+1,':', label=r'$g_{ee}$')\n",
    "\n",
    "    # ax.set_yscale('symlog', linthresh=5)\n",
    "    ax.set_xlim(0,10)\n",
    "    ax.set_ylim(-0.05,5)\n",
    "\n",
    "    ax.set_xlabel(r\"$r$ [AU]\")#, fontsize=25)\n",
    "    ax.set_ylabel(r\"$g_{ij}$\")#, fontsize=25)\n",
    "    ax.legend()\n",
    "\n",
    "fig, ax = plt.subplots()\n",
    "make_gij(ax)\n",
    "plt.savefig(\"gij_Al1.png\")"
   ]
  },
  {
   "cell_type": "code",
   "execution_count": null,
   "id": "fcf42576-2011-4547-a124-80ce8f9e54fa",
   "metadata": {},
   "outputs": [],
   "source": [
    "plt.style.use('~/plasma/hnc/hnc_paper.mplstyle')\n",
    "\n",
    "atom.hnc.invert_HNC_OZ([1])\n",
    "def make_βu(ax):\n",
    "    yukawa_matrix = (atom.hnc.Gamma[:,:,np.newaxis]/atom.hnc.r_array * np.exp(-atom.hnc.r_array*atom.qsp.get_κ())[np.newaxis,np.newaxis,:] ) [:-1,:-1]\n",
    "    coulomb_matrix = (atom.hnc.Gamma[:,:,np.newaxis]/atom.hnc.r_array) [:-1,:-1]\n",
    "\n",
    "    ax.plot(atom.hnc.r_array*atom.qsp.ri, atom.hnc.βueff_r_matrix[0,0],'-', label='HNC Inversion')\n",
    "    ax.plot(atom.hnc.r_array*atom.qsp.ri, yukawa_matrix[0,0],'-.', label='Yukawa')\n",
    "    ax.plot(atom.hnc.r_array*atom.qsp.ri, coulomb_matrix[0,0],'--', label='Coulomb')\n",
    "\n",
    "    ax.set_yscale('symlog', linthresh=1)\n",
    "\n",
    "    ax.set_xlabel(r\"$r$ [AU]\")#, fontsize=25)\n",
    "    ax.set_ylabel(r\"$\\beta u_{\\rm eff}$\")#, fontsize=25)\n",
    "    ax.legend()\n",
    "\n",
    "fig, ax = plt.subplots()\n",
    "make_βu(ax)\n",
    "plt.savefig(\"βu_Al1.png\")"
   ]
  },
  {
   "cell_type": "markdown",
   "id": "ba8fe197-7fe9-41fd-861b-6c7b30e4816e",
   "metadata": {},
   "source": [
    "### Now Plot Both Together"
   ]
  },
  {
   "cell_type": "code",
   "execution_count": null,
   "id": "386768bf-6ba8-4c8a-ae4c-9e62f33df40d",
   "metadata": {},
   "outputs": [],
   "source": [
    "plt.style.use('~/plasma/mpl_styles/paper.mplstyle')\n",
    "\n",
    "fig, axs = plt.subplots(1,2, figsize=(18,8))\n",
    "\n",
    "make_gij(axs[0])\n",
    "make_βu(axs[1])\n",
    "plt.tight_layout()\n",
    "plt.savefig(\"βu_gij_Al1.png\")"
   ]
  },
  {
   "cell_type": "markdown",
   "id": "aaa27ccc",
   "metadata": {
    "jp-MarkdownHeadingCollapsed": true,
    "tags": []
   },
   "source": [
    "\n",
    "# Run Many Cases"
   ]
  },
  {
   "cell_type": "code",
   "execution_count": null,
   "id": "ea4eac8a",
   "metadata": {},
   "outputs": [],
   "source": [
    "\n",
    "for tccw_case in tccw_cases[6:]:\n",
    "    α = 0.1\n",
    "    case_converged=False\n",
    "    case_attempts=0\n",
    "    case_num= tccw_case[' ']\n",
    "    case_id = tccw_case['Case ID']\n",
    "    ni_cc = tccw_case['Number Density [N/cc]']\n",
    "    Te_eV = tccw_case['Temperature [eV]']\n",
    "    Ti_eV = Te_eV\n",
    "    Z = tccw_case['Atomic Number']\n",
    "    Zbar = tccw_case['Zbar (TFDW)']\n",
    "    P_GP_AU  = tccw_case['p (Bar)']/AU_to_bar\n",
    "    A = tccw_case['Atomic Weight [a.u.]']\n",
    "    r_s_cc = tccw_case['Wigner-Seitz Radius [cm]']\n",
    "    r_c = tccw_case['Average-Bound Radius [cm]']/r_s_cc\n",
    "    if r_c>1:\n",
    "        r_c=1e-5\n",
    "    print('\\n______________________________\\nCase num: {0} Case ID: {1}'.format(case_num, case_id))\n",
    "    print(\"Te = {0:.3e} eV, n_i = {1:.3e} 1/cc, r_c/r_s = {2:.3f}\".format(Te_eV, ni_cc, r_c))\n",
    "    print(\"Te = {0:.3e} K, ρ = {1:.3e} [g/cc] \".format(Te_eV*eV_to_K, 1e3*ni_cc*m_p*A ))\n",
    "    print(\"P  = {0:.3e} [bar] = {1:.3e} [AU]\".format(P_GP_AU*AU_to_bar, P_GP_AU))\n",
    "    \n",
    "    α = 1\n",
    "    converged=False\n",
    "    while not converged:\n",
    "        atom = CMEP_Atom(Z, A, ni_cc, Ti_eV, Te_eV, Zbar=Zbar, \n",
    "                     βu_options = {'add_bridge':True}, \n",
    "                     qsp_options={'r_c':r_c},\n",
    "                     hnc_options={'kappa_multiscale':10, 'R_max':10,'N_bins':1000},\n",
    "                     hnc_solve_options={'alpha_Picard':α})\n",
    "        atom.run_hnc()\n",
    "        if atom.hnc.newton_succeed==True:\n",
    "            converged=True\n",
    "        else:\n",
    "            α*=0.5\n",
    "            \n",
    "    atom.get_cp()"
   ]
  },
  {
   "cell_type": "markdown",
   "id": "42f921c0",
   "metadata": {
    "jp-MarkdownHeadingCollapsed": true,
    "tags": []
   },
   "source": [
    "# Only Ion"
   ]
  },
  {
   "cell_type": "code",
   "execution_count": null,
   "id": "ceb33761",
   "metadata": {},
   "outputs": [],
   "source": [
    "atom.run_onlyion_hnc()"
   ]
  },
  {
   "cell_type": "code",
   "execution_count": null,
   "id": "9282fb4d",
   "metadata": {},
   "outputs": [],
   "source": [
    "atom.onlyion_hnc.plot_species_convergence_g()"
   ]
  },
  {
   "cell_type": "code",
   "execution_count": null,
   "id": "93af658e",
   "metadata": {},
   "outputs": [],
   "source": [
    "# c_s_k_guess = atom.hnc.c_s_k_matrix.copy()*0\n",
    "c_s_k_guess[0,0] = atom.onlyion_hnc.c_s_k_matrix[0,0]*0.\n",
    "\n",
    "\n",
    "atom.run_hnc(c_s_k_guess = c_s_k_guess)"
   ]
  },
  {
   "cell_type": "markdown",
   "id": "ca90c7da",
   "metadata": {
    "jp-MarkdownHeadingCollapsed": true,
    "tags": []
   },
   "source": [
    "\n",
    "# Make atom"
   ]
  },
  {
   "cell_type": "code",
   "execution_count": null,
   "id": "1d208743",
   "metadata": {},
   "outputs": [],
   "source": [
    "Zbar_list  = np.linspace(3,Zbar, num=100)\n",
    "# Zbar_list = [1,3]\n",
    "atom_list= []\n",
    "for i, Zbar_i in enumerate(Zbar_list):\n",
    "    print(\"Zbar = {0:.3f}\".format( Zbar_i ))\n",
    "    \n",
    "    atom = CMEP_Atom(Z, A, ni_cc, Ti_eV, Te_eV, Zbar=Zbar_i, \n",
    "                 βu_options = {'add_bridge':True}, \n",
    "                 qsp_options={'r_c':r_c},\n",
    "                 hnc_options={'kappa_multiscale':10},\n",
    "                 hnc_solve_options={'alpha_Picard':0.5})\n",
    "    if i>=1:\n",
    "        Z2_matrix = [[Zbar_list[i]]]\n",
    "        guess_2 = \n",
    "        c_s_k_guess = atom_list[-1].hnc.c_s_k_matrix\n",
    "        c_s_k_guess[0,0] *= (Zbar_list[i]/Zbar_list[i-1])**2 \n",
    "        c_s_k_guess[0,1] *= (Zbar_list[i]/Zbar_list[i-1])**1 \n",
    "        c_s_k_guess[1,0] *= (Zbar_list[i]/Zbar_list[i-1])**1\n",
    "#         c_s_k_guess[0,0] *= 0\n",
    "    else:\n",
    "        c_s_k_guess *=0\n",
    "    atom.run_hnc(c_s_k_guess=c_s_k_guess)\n",
    "    atom_list.append( atom )"
   ]
  },
  {
   "cell_type": "code",
   "execution_count": null,
   "id": "33cb4d79",
   "metadata": {},
   "outputs": [],
   "source": [
    "fig, axs = plt.subplots(2, 2, facecolor='w', figsize=(10,8) )\n",
    "\n",
    "atom3_guess = atom2.hnc.c_s_k_matrix + (atom2.hnc.c_s_k_matrix-atom1.hnc.c_s_k_matrix)/(2-1)*(3-2) \n",
    "atom3_guess = atom2.hnc.c_s_k_matrix + (atom2.hnc.c_s_k_matrix/atom1.hnc.c_s_k_matrix)/(2-1)*(3-2) \n",
    "\n",
    "for i in range(2):\n",
    "    for j in range(2):\n",
    "        for k, atom in enumerate(atom_list):\n",
    "            color = plt.cm.viridis(k/len(atom_list))\n",
    "            Z_factor = (Zbar_list[0]/Zbar_list[k])**-1\n",
    "            axs[i, j].plot(atom.hnc.r_array, atom.hnc.c_s_k_matrix[i,j], '--',label= \"Zbar\", color= color)\n",
    "            axs[i, j].plot(atom.hnc.r_array, Z_factor*atom_list[0].hnc.c_s_k_matrix[i,j],'.', label= \"Zbar\", color= color)\n",
    "#             axs[i, j].plot(atom.hnc.r_array, atom2.hnc.c_s_k_matrix[i,j], label= \"Zbar=2\")\n",
    "#             axs[i, j].plot(atom.hnc.r_array, atom6.hnc.c_s_k_matrix[i,j], label= \"Zbar=6\")\n",
    "#         axs[i, j].plot(atom2.hnc.r_array, atom2.hnc.c_s_k_matrix[i,j]-atom1.hnc.c_s_k_matrix[i,j], label= \"Zbar=2/1\")\n",
    "#         axs[i, j].plot(atom2.hnc.r_array, atom3.hnc.c_s_k_matrix[i,j]-atom2.hnc.c_s_k_matrix[i,j], label= \"Zbar=3/2\")\n",
    "#         axs[i, j].plot(atom2.hnc.r_array, atom3_guess[i,j] , 'k--', label= \"Zbar=3 (guess)\")\n",
    "        \n",
    "#         axs[i, j].plot(atom3.hnc.r_array, atom3.hnc.c_s_k_matrix[i,j],'k', label= \"Zbar=3\")\n",
    "#         axs[i, j].plot(atom100.hnc.r_array, atom80.hnc.c_s_k_matrix[i,j]-100/80*atom100.hnc.c_s_k_matrix[i,j], label= \"80/100 eV\")\n",
    "#         axs[i, j].plot(atom100.hnc.r_array, atom60.hnc.c_s_k_matrix[i,j], label= \"60 eV\")\n",
    "         \n",
    "#         axs[i, j].plot(atom100.hnc.r_array, T_rescale[i,j]*atom100.hnc.c_s_k_matrix[i,j], label= \"rescaled 100 eV\")\n",
    "        \n",
    "        axs[i,j].set_xscale('log')\n",
    "#         axs[i, j].set_yscale('symlog', linthresh=0.1)\n",
    "#         axs[i, j].legend()\n",
    "        \n",
    "plt.tight_layout()"
   ]
  },
  {
   "cell_type": "code",
   "execution_count": null,
   "id": "f17f101c",
   "metadata": {},
   "outputs": [],
   "source": []
  },
  {
   "cell_type": "code",
   "execution_count": null,
   "id": "2f659b61",
   "metadata": {},
   "outputs": [],
   "source": [
    "atom.get_cp(ε_derivative=1e-6, ε_table=1e-1, N_table= 2 )"
   ]
  },
  {
   "cell_type": "code",
   "execution_count": null,
   "id": "e66d6294",
   "metadata": {},
   "outputs": [],
   "source": [
    "fig, ax = plt.subplots()\n",
    "\n",
    "# ax.plot(atom.hnc.r_array, atom.hnc.βueff_r_matrix[0,0])\n",
    "ax.plot(atom.hnc.r_array, atom.hnc.h_r_matrix[0,0]+1)\n",
    "# ax.set_yscale('symlog', linthresh=1)"
   ]
  },
  {
   "cell_type": "markdown",
   "id": "935642fe",
   "metadata": {},
   "source": [
    "###### Hydrogen H1\n",
    "\n",
    "c_p = 1.667e+08 [J/m^3/K] = 1.667e+09 [erg/cc/K]\n",
    "\n",
    "\n",
    "c_p^ideal = 2.064e+07 [J/m^3/K] = 2.064e+08 [erg/cc/K]\n",
    "\n",
    "c_v = 1.229e+08 [J/m^3/K] = 1.229e+09 [erg/cc/K]\n",
    "\n",
    "\n",
    "γ = cp/cv = 1.357e+00\n",
    "\n",
    "###### Aluminum Al1\n",
    "\n",
    "c_p = 5.560e+06 [J/m^3/K] = 5.560e+07 [erg/cc/K]\n",
    "\n",
    "c_p^ideal = 2.081e+06 [J/m^3/K] = 2.081e+07 [erg/cc/K]\n",
    "\n",
    "c_v = 3.559e+06 [J/m^3/K] = 3.559e+07 [erg/cc/K]\n",
    "\n",
    "c_p_over_nkB = 6.678\n",
    "\n",
    "c_v_over_nkB = 4.275\n",
    "\n",
    "γ = cp/cv = 1.562e+00\n",
    "\n",
    "##### Carbon C1\n",
    "\n",
    "c_p = 1.005e+09 [J/m^3/K] = 1.005e+10 [erg/cc/K]\n",
    "\n",
    "c_p^ideal = 1.729e+07 [J/m^3/K] = 1.729e+08 [erg/cc/K]\n",
    "\n",
    "c_v = 7.410e+08 [J/m^3/K] = 7.410e+09 [erg/cc/K]\n",
    "\n",
    "γ = cp/cv = 1.357e+00\n",
    "\n",
    "##### Copper Cu1\n",
    "c_p = 6.829e+07 [J/m^3/K] = 6.829e+08 [erg/cc/K]\n",
    "\n",
    "c_p^ideal = 2.930e+06 [J/m^3/K] = 2.930e+07 [erg/cc/K]\n",
    "\n",
    "c_v = 4.460e+07 [J/m^3/K] = 4.460e+08 [erg/cc/K]\n",
    "\n",
    "γ = cp/cv = 1.531e+00"
   ]
  },
  {
   "cell_type": "code",
   "execution_count": null,
   "id": "ed15670f",
   "metadata": {},
   "outputs": [],
   "source": [
    "# Compare to Ichimaru\n",
    "n_AU = ni_cc * (1e2*aB)**3\n",
    "E_over_nkBT = atom.U/( Te*N )\n",
    "P_over_nkBT = atom.P/(Te*n_AU)\n",
    "c_p_over_nkB = C_p_AU/N #c_p_SI_vol/k_B/(ni_cc*1e6)\n",
    "E_over_nkBT, P_over_nkBT, c_p_over_nkB  "
   ]
  },
  {
   "cell_type": "code",
   "execution_count": null,
   "id": "9ff1fa55",
   "metadata": {},
   "outputs": [],
   "source": [
    "# 2x2\n",
    "#(16.078004224152146, 7.958852940677674, 20.391840227664225)\n",
    "# 3x3\n",
    "#(17.29156071613095, 9.41653222069282, 19.954770080816058)\n",
    "# 4x4\n",
    "#(17.29156071613095, 9.41653222069282, 20.31577883096223)\n",
    "# 6x6\n",
    "#(17.29156071613095, 9.41653222069282, 20.341775951597302)\n",
    "\n"
   ]
  },
  {
   "cell_type": "code",
   "execution_count": null,
   "id": "f9d9c237",
   "metadata": {},
   "outputs": [],
   "source": [
    "#cp units are J/K/m^3"
   ]
  },
  {
   "cell_type": "code",
   "execution_count": null,
   "id": "d6eba82d",
   "metadata": {},
   "outputs": [],
   "source": [
    "c_p_SI_vol *J_to_erg*1e-6 # from J/K/m^3 to erg/K/cc"
   ]
  },
  {
   "cell_type": "code",
   "execution_count": null,
   "id": "6c123c08",
   "metadata": {},
   "outputs": [],
   "source": [
    "(c_p_over_nkB*ni_cc * k_B*1e6)/1e8 # in erg/"
   ]
  },
  {
   "cell_type": "code",
   "execution_count": null,
   "id": "933aa883",
   "metadata": {},
   "outputs": [],
   "source": [
    "# Ideal\n",
    "# (1.503495387998133, 1.0020009999999997, 2.5033223241241656)\n"
   ]
  },
  {
   "cell_type": "markdown",
   "id": "03443a5d",
   "metadata": {
    "tags": []
   },
   "source": [
    "# βu_eff matching"
   ]
  },
  {
   "cell_type": "code",
   "execution_count": null,
   "id": "ed1cfac5",
   "metadata": {},
   "outputs": [],
   "source": [
    "from pandas import read_csv\n",
    "from scipy.interpolate import interp1d\n",
    "# luke_file = '/home/zach/plasma/atomic_forces/data/Al_T0p5_tab.lammps.PAIR'\n",
    "luke_file = '/home/zach/plasma/atomic_forces/data/Al_T1_tab.lammps.PAIR'\n",
    "\n",
    "luke_data = read_csv(luke_file ,delim_whitespace=True,header=3, names=['r [A]','V [eV]','F [eV/A]'])\n",
    "# luke_r, luke_βV = 1e-10/aB/r_s*luke_data['r [A]'], 1/(Te/eV)*luke_data['V [eV]']\n",
    "luke_r, luke_βV = 1e-8/r_s*luke_data['r [A]'], 1/(Te/eV)*luke_data['V [eV]']\n",
    "luke_βV_function = interp1d(luke_r, luke_βV,fill_value='extrapolate',bounds_error=False)"
   ]
  },
  {
   "cell_type": "code",
   "execution_count": null,
   "id": "88547e04",
   "metadata": {},
   "outputs": [],
   "source": [
    "from scipy.optimize import curve_fit\n",
    "\n",
    "class βu_fit():\n",
    "    def __init__(self, func, r_array, y_data, initial_guess):\n",
    "        self.r = r_array\n",
    "        self.y = y_data\n",
    "        self.y_vals = curve_fit(func, r_array, y_data, maxfev=int(1e5), p0=initial_guess)\n",
    "        self.y_fit  = func(r_array, *self.y_vals[0])\n",
    "        self.err = np.linalg.norm(self.y_fit-self.y)\n",
    "        print(func.__name__ + \" error: {0:.3e} \".format(self.err))\n",
    "\n",
    "def yukawa_plus(r, a, b, c, d):\n",
    "    return  a/r*np.exp(-b*r)/(1+np.exp(c*(r-d)))\n",
    "\n",
    "def yukawa_plus_gaussian(r, a ,b ,c, d ,e, f, g):\n",
    "    return  a/r*np.exp(-b*r)/(1+np.exp(c*(r-d))) + e*np.exp(-(f-r)**2/g)\n",
    "\n",
    "def yukawa_plus_cos(r, a ,b ,c, d , h, i, j, k, l):\n",
    "    return  a/r*np.exp(-b*r)/(1+np.exp(c*(r-d))) + h*np.cos((r-i)*j*np.exp(-k*r))*np.exp(-l*r)\n",
    "\n",
    "def yukawa_plus_gaussian_cos(r, a ,b ,c, d ,e, f, g, h, i, j, k, l):\n",
    "    return  a/r*np.exp(-b*r)/(1+np.exp(c*(r-d))) + e*np.cos((r-f)*g*np.exp(-h*r))*np.exp(-i*r) + j*np.exp(-(k-r)**2/l)\n"
   ]
  },
  {
   "cell_type": "code",
   "execution_count": null,
   "id": "01e47bb9",
   "metadata": {},
   "outputs": [],
   "source": [
    "atom = atom_highres"
   ]
  },
  {
   "cell_type": "code",
   "execution_count": null,
   "id": "1b257ec4",
   "metadata": {},
   "outputs": [],
   "source": [
    "atom.invert_HNC_OZ([1])\n",
    "fit1 = βu_fit(yukawa_plus, atom.r_array, atom.βueff_r_matrix[0,0], initial_guess=[   atomqsp.Γii, atomqsp.get_κ(),2 , 1])\n",
    "try: \n",
    "    fit2 = βu_fit(yukawa_plus_cos, atom.r_array, atom.βueff_r_matrix[0,0], initial_guess=[  *fit1.y_vals[0], 1, 0.01, 1 , 10, 2])\n",
    "except:\n",
    "    pass\n",
    "try:\n",
    "    fit3 = βu_fit(yukawa_plus_gaussian_cos, atom.r_array, atom.βueff_r_matrix[0,0], initial_guess=[  *fit2.y_vals[0], -1, 1.9, 1])\n",
    "except:\n",
    "    pass"
   ]
  },
  {
   "cell_type": "code",
   "execution_count": null,
   "id": "515a162b",
   "metadata": {},
   "outputs": [],
   "source": [
    "luke_r"
   ]
  },
  {
   "cell_type": "code",
   "execution_count": null,
   "id": "f90a68e6",
   "metadata": {},
   "outputs": [],
   "source": [
    "fig, ax = plt.subplots(figsize=(8,6),facecolor='w')\n",
    "fig.suptitle(r\"{0} $T=${1:.1f} eV, $r_i$={2:.2f}\".format(case_id, Te/eV, atomqsp.ri), fontsize=20)\n",
    "\n",
    "\n",
    "yukawa_matrix = (atom.Gamma[:,:,np.newaxis]/atom.r_array * np.exp(-atom.r_array*atomqsp.get_κ())[np.newaxis,np.newaxis,:] ) [:-1,:-1]\n",
    "coulomb_matrix = (atom.Gamma[:,:,np.newaxis]/atom.r_array) [:-1,:-1]\n",
    "\n",
    "ax.plot(atom.r_array, atom.βu_r_matrix[0,0], 'k--',label='Initial')\n",
    "ax.plot(atom.r_array, yukawa_matrix[0,0],'k-.', label=\"Yukawa\")\n",
    "\n",
    "ax.plot(atom.r_array, atom.βueff_r_matrix[0,0],color=colors[0], label='Effective')    \n",
    "ax.plot(luke_r, luke_βV,'r-', label='Luke Force Match')\n",
    "\n",
    "ax.set_ylim(np.min([-10, 2*np.min(atom.βueff_r_matrix[0,0])]), np.max([1e3, 2*np.max(atom.βueff_r_matrix[0,0])]))\n",
    "ax.tick_params(labelsize=20)\n",
    "ax.set_xlabel(r\"$r/r_s$\",fontsize=20)\n",
    "ax.set_ylabel(r'$\\beta u(r/r_s)$',fontsize=20)\n",
    "ax.set_xlabel(r'$r/r_s$',fontsize=20)\n",
    "\n",
    "ax.set_xlim(0, 5)\n",
    "ax.set_yscale('symlog',linthresh=1)\n",
    "ax.tick_params(labelsize=15)\n",
    "ax.legend(fontsize=10)\n",
    "fig.tight_layout()"
   ]
  },
  {
   "cell_type": "code",
   "execution_count": null,
   "id": "5ae27008",
   "metadata": {},
   "outputs": [],
   "source": []
  },
  {
   "cell_type": "code",
   "execution_count": null,
   "id": "ad78ee98",
   "metadata": {},
   "outputs": [],
   "source": []
  },
  {
   "cell_type": "code",
   "execution_count": null,
   "id": "7bf70745",
   "metadata": {},
   "outputs": [],
   "source": []
  }
 ],
 "metadata": {
  "kernelspec": {
   "display_name": "Python 3 (ipykernel)",
   "language": "python",
   "name": "python3"
  },
  "language_info": {
   "codemirror_mode": {
    "name": "ipython",
    "version": 3
   },
   "file_extension": ".py",
   "mimetype": "text/x-python",
   "name": "python",
   "nbconvert_exporter": "python",
   "pygments_lexer": "ipython3",
   "version": "3.10.6"
  }
 },
 "nbformat": 4,
 "nbformat_minor": 5
}
