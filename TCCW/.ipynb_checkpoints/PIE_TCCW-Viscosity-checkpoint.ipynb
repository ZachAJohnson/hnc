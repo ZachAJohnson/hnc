{
 "cells": [
  {
   "cell_type": "markdown",
   "id": "415426e0",
   "metadata": {},
   "source": [
    "# Import"
   ]
  },
  {
   "cell_type": "code",
   "execution_count": null,
   "id": "2e5c11ba",
   "metadata": {
    "tags": []
   },
   "outputs": [],
   "source": [
    "import numpy as np\n",
    "import matplotlib.pyplot as plt\n",
    "from pandas import read_csv\n",
    "\n",
    "from hnc.hnc.PIE import Plasma_of_Ions_and_Electrons as PLASMA\n",
    "\n",
    "from hnc.hnc.constants import *\n",
    "from hnc.hnc.misc import n_from_rs, rs_from_n\n",
    "\n",
    "prop_cycle = plt.rcParams['axes.prop_cycle']\n",
    "colors = prop_cycle.by_key()['color']\n",
    "                \n",
    "from IPython.core.display import HTML\n",
    "HTML(\"\"\"\n",
    "<style>\n",
    ".output_png {\n",
    "    display: table-cell;\n",
    "    text-align: center;\n",
    "    vertical-align: middle;\n",
    "}\n",
    "\n",
    "</style>\n",
    "\"\"\")\n",
    "\n",
    "import matplotlib as mpl\n",
    "from cycler import cycler\n",
    "\n",
    "\n",
    "plt.style.use('../hnc_paper_MM.mplstyle')"
   ]
  },
  {
   "cell_type": "markdown",
   "id": "01048544",
   "metadata": {},
   "source": [
    "# Function that sets up HNC QSP "
   ]
  },
  {
   "cell_type": "code",
   "execution_count": 27,
   "id": "ca58c435",
   "metadata": {
    "tags": []
   },
   "outputs": [
    {
     "data": {
      "text/plain": [
       "(3      3.000\n",
       " 4      3.000\n",
       " 5      3.005\n",
       " 6      3.068\n",
       " 7      3.892\n",
       " 8      6.107\n",
       " 9      8.401\n",
       " 10    10.120\n",
       " 11    12.150\n",
       " 12    12.880\n",
       " Name: Z_bar, dtype: float64,\n",
       " 3        1.0\n",
       " 4        2.0\n",
       " 5        5.0\n",
       " 6       10.0\n",
       " 7       20.0\n",
       " 8       50.0\n",
       " 9      100.0\n",
       " 10     200.0\n",
       " 11     500.0\n",
       " 12    1000.0\n",
       " Name: Te(eV), dtype: float64)"
      ]
     },
     "execution_count": 27,
     "metadata": {},
     "output_type": "execute_result"
    }
   ],
   "source": [
    "Al_file = \"data/Al-rho=2,70-2023-09-03.dat\"\n",
    "Z, A = 13, 26\n",
    "ni_cc = 6.03e22\n",
    "Al_df = read_csv(Al_file, delim_whitespace = True, header=0)\n",
    "\n",
    "Al_Zbars = Al_df['Z_bar'][3:] \n",
    "Al_TeVs = Al_df['Te(eV)'][3:]\n",
    "Al_Zbars, Al_TeVs"
   ]
  },
  {
   "cell_type": "code",
   "execution_count": 30,
   "id": "81c06537-2b68-4b84-8a52-eb91846de546",
   "metadata": {},
   "outputs": [],
   "source": [
    "r_c = 0.6"
   ]
  },
  {
   "cell_type": "code",
   "execution_count": 31,
   "id": "b3336994-5b9c-44e4-9343-5f83a7ea1355",
   "metadata": {
    "tags": []
   },
   "outputs": [],
   "source": [
    "plasma_svt_func = lambda T_eV, ni_cc, Zbar: PLASMA(Z, A, ni_cc, T_eV, T_eV, Zbar=Zbar, \n",
    "                 βu_options = {'add_bridge':True,'bridge':'yukawa', 'pseudopotential':True}, \n",
    "                 qsp_options={'r_c':r_c},\n",
    "                 hnc_options={'kappa_multiscale':10, 'R_max':10,'N_bins':250},\n",
    "                 hnc_solve_options={'alpha_Picard':0.1},\n",
    "                 root_options={'options':{'maxfev':50000,'xtol':1e-14}})"
   ]
  },
  {
   "cell_type": "code",
   "execution_count": 32,
   "id": "1e85b381",
   "metadata": {
    "tags": []
   },
   "outputs": [],
   "source": [
    "plasma_oz_func = lambda T_eV, ni_cc, Zbar: PLASMA(Z, A, ni_cc, T_eV, T_eV, Zbar=Zbar, \n",
    "                 βu_options = {'add_bridge':True,'bridge':'yukawa', 'pseudopotential':True}, \n",
    "                 qsp_options={'r_c':r_c},\n",
    "                 hnc_options={'kappa_multiscale':10, 'R_max':20,'N_bins':1000, 'oz_method':'standard'},\n",
    "                 hnc_solve_options={'alpha_Picard':0.25,'num_iterations':10000})"
   ]
  },
  {
   "cell_type": "markdown",
   "id": "a24f12c8-f572-4819-8d10-3d249732bf9b",
   "metadata": {},
   "source": [
    "## Born Green Viscosity\n",
    "See [Morioka 2004](https://www.sciencedirect.com/science/article/pii/S0022309304003692)\n",
    "\n",
    "\\begin{align}\n",
    "η = f_{BG} \\frac{2 \\pi}{15} \\left(\\frac{M}{RT} \\right)^{1/2} \\frac{n^2}{N_a} \\int^\\infty_0 g(r) \\frac{d\\phi}{dr}r^4 dr\n",
    "\\end{align}\n",
    "Resulting units is Pa s\n"
   ]
  },
  {
   "cell_type": "code",
   "execution_count": 33,
   "id": "e06013a0-539a-4b40-8672-e36e74567909",
   "metadata": {
    "tags": []
   },
   "outputs": [],
   "source": [
    "from scipy.integrate import simpson\n",
    "\n",
    "def get_ηBG(plasma, units = 'SI'):\n",
    "    plasma.hnc.invert_HNC_OZ([1])\n",
    "    fBG = -1\n",
    "    n_AU = n_from_rs(plasma.qsp.ri)\n",
    "    r_array = plasma.hnc.r_array*plasma.qsp.ri\n",
    "    gii = plasma.hnc.h_r_matrix[0,0]+1\n",
    "    dφdr = plasma.qsp.Ti*np.gradient(plasma.hnc.βueff_r_matrix[0,0], r_array)\n",
    "\n",
    "    integrand = r_array**4 * gii * dφdr\n",
    "    ##\n",
    "    fig, ax = plt.subplots()\n",
    "    ax.plot(r_array, dφdr*r_array**4)\n",
    "    ###\n",
    "    integral = simpson(integrand, x=r_array)\n",
    "    η = fBG* 2*π/15 * (plasma.qsp.βi*plasma.qsp.m_i)**0.5*n_AU**2*integral\n",
    "    η_SI = η*AU_to_Pa*AU_to_s # Pa s = kg m^-1 s^-1 \n",
    "    η_cgs = η_SI * 1000/100 # g cm^-1 s^-1\n",
    "    \n",
    "    if units=='SI' or units=='si':\n",
    "        print(f\"SI: η = {η_SI:0.3e} [kg m^-1 s^-1] (or [Pa s])\")\n",
    "        return η_SI\n",
    "    elif units=='cgs':\n",
    "        print(f\"CGS: η = {η_cgs:0.3e} [g cm^-1 s^-1]\")\n",
    "        return η_cgs\n",
    "    elif units=='AU':\n",
    "        return η"
   ]
  },
  {
   "cell_type": "code",
   "execution_count": null,
   "id": "18cd9e24-0b7d-46a0-842d-a55adced488c",
   "metadata": {},
   "outputs": [
    {
     "name": "stdout",
     "output_type": "stream",
     "text": [
      "Te_in_eV: 1.000\n",
      "Ti_in_eV: 1.000\n",
      "0: Initial condition Total Error: 1.003e+01\n",
      "Warning: HNC_solver did not converge within the specified number of iterations.\n",
      "Exiting status 1, reverting to best index so far: 1001\n",
      "Final iter:1001, Total Error: 1.439e-03\n",
      "\n",
      "Root Finder:  False The iteration is not making good progress, as measured by the \n",
      "  improvement from the last ten iterations. final err: 6.130e-11\n",
      "SI: η = 2.648e-03 [kg m^-1 s^-1] (or [Pa s])\n",
      "CGS: η = 2.648e-02 [g cm^-1 s^-1]\n",
      "Te_in_eV: 2.000\n",
      "Ti_in_eV: 2.000\n",
      "0: Initial condition Total Error: 6.228e+00\n"
     ]
    }
   ],
   "source": [
    "# Get list of viscosities\n",
    "\n",
    "Al_η_cgs = np.zeros_like(Al_TeVs)\n",
    "\n",
    "for i, (T_eV, Zbar) in enumerate(zip(  Al_TeVs, Al_Zbars  )):\n",
    "    plasma = plasma_svt_func(T_eV, ni_cc, Zbar)\n",
    "    plasma.run_hnc()\n",
    "    Al_η_cgs[i] = get_ηBG(plasma, units='cgs')\n",
    "    "
   ]
  },
  {
   "cell_type": "markdown",
   "id": "d53d7b7b-d1ac-4204-8679-8d7c9f5b982f",
   "metadata": {},
   "source": [
    "## Plot viscocities"
   ]
  },
  {
   "cell_type": "code",
   "execution_count": null,
   "id": "5ae27008",
   "metadata": {},
   "outputs": [],
   "source": [
    "fig, ax = plt.subplots()\n",
    "\n",
    "ax.plot(Al_TeVs, Al_η_cgs, label='Born Green')\n",
    "\n",
    "ax."
   ]
  },
  {
   "cell_type": "code",
   "execution_count": null,
   "id": "ad78ee98",
   "metadata": {},
   "outputs": [],
   "source": []
  },
  {
   "cell_type": "code",
   "execution_count": null,
   "id": "7bf70745",
   "metadata": {},
   "outputs": [],
   "source": []
  }
 ],
 "metadata": {
  "kernelspec": {
   "display_name": "Python 3 (ipykernel)",
   "language": "python",
   "name": "python3"
  },
  "language_info": {
   "codemirror_mode": {
    "name": "ipython",
    "version": 3
   },
   "file_extension": ".py",
   "mimetype": "text/x-python",
   "name": "python",
   "nbconvert_exporter": "python",
   "pygments_lexer": "ipython3",
   "version": "3.10.6"
  }
 },
 "nbformat": 4,
 "nbformat_minor": 5
}
