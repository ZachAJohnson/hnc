{
 "cells": [
  {
   "cell_type": "markdown",
   "id": "415426e0",
   "metadata": {},
   "source": [
    "# Import"
   ]
  },
  {
   "cell_type": "code",
   "execution_count": 1,
   "id": "2e5c11ba",
   "metadata": {
    "tags": []
   },
   "outputs": [
    {
     "data": {
      "text/html": [
       "\n",
       "<style>\n",
       ".output_png {\n",
       "    display: table-cell;\n",
       "    text-align: center;\n",
       "    vertical-align: middle;\n",
       "}\n",
       "\n",
       "</style>\n"
      ],
      "text/plain": [
       "<IPython.core.display.HTML object>"
      ]
     },
     "execution_count": 1,
     "metadata": {},
     "output_type": "execute_result"
    }
   ],
   "source": [
    "import numpy as np\n",
    "import matplotlib.pyplot as plt\n",
    "from pandas import read_csv\n",
    "\n",
    "from hnc.hnc.PIE import Plasma_of_Ions_and_Electrons as PLASMA\n",
    "\n",
    "from hnc.hnc.constants import *\n",
    "from hnc.hnc.misc import n_from_rs, rs_from_n\n",
    "\n",
    "from pandas import read_csv\n",
    "\n",
    "prop_cycle = plt.rcParams['axes.prop_cycle']\n",
    "colors = prop_cycle.by_key()['color']\n",
    "                \n",
    "from IPython.core.display import HTML\n",
    "HTML(\"\"\"\n",
    "<style>\n",
    ".output_png {\n",
    "    display: table-cell;\n",
    "    text-align: center;\n",
    "    vertical-align: middle;\n",
    "}\n",
    "\n",
    "</style>\n",
    "\"\"\")\n"
   ]
  },
  {
   "cell_type": "markdown",
   "id": "01048544",
   "metadata": {},
   "source": [
    "# Function that sets up HNC QSP "
   ]
  },
  {
   "cell_type": "markdown",
   "id": "c961fbc5-d0c8-45ea-b238-9e611ea79173",
   "metadata": {},
   "source": [
    "### Create and run plasma"
   ]
  },
  {
   "cell_type": "code",
   "execution_count": 37,
   "id": "ca58c435",
   "metadata": {
    "tags": []
   },
   "outputs": [],
   "source": [
    "name='Al'\n",
    "Z, A = 13, 27\n",
    "mi = m_p * A\n",
    "ρ_gpercc =  2.7 \n",
    "ni_cc = ρ_gpercc/(mi*AU_to_g)\n",
    "ri_cm = rs_from_n(ni_cc)\n",
    "ri_AU = ri_cm*cm_to_AU\n",
    "\n",
    "Te_eV = 1\n",
    "Ti_eV = 1\n",
    "\n",
    "ri_AU\n",
    "Zbar = 3"
   ]
  },
  {
   "cell_type": "markdown",
   "id": "bb89b469-e9f3-4ba9-bb07-defe0c60eea4",
   "metadata": {},
   "source": [
    "### Make βu_ii, βu_fi from using bound density from AA\n",
    "If we assume the bound state does not deform at all, then we can calculate potentials based on it easily via integration"
   ]
  },
  {
   "cell_type": "markdown",
   "id": "3808a279-aa7e-458b-9781-8b8b2671681f",
   "metadata": {},
   "source": [
    "### Solving"
   ]
  },
  {
   "cell_type": "code",
   "execution_count": 38,
   "id": "e0a95006-3690-4761-a8eb-d1f49eacda29",
   "metadata": {
    "scrolled": true,
    "tags": []
   },
   "outputs": [],
   "source": [
    "from scipy.optimize import least_squares\n",
    "from scipy.interpolate import interp1d\n",
    "\n",
    "def custom_flat(hnc_matrix):\n",
    "    hnc_flat = np.concatenate([hnc_matrix[0,0],hnc_matrix[0,1],hnc_matrix[1,1]])\n",
    "    return hnc_flat\n",
    "\n",
    "def custom_unflat(hnc_flat):\n",
    "    hnc00, hnc01, hnc11 = np.split(hnc_flat,3)\n",
    "    hnc_matrix = np.zeros((2,2,len(hnc00)))\n",
    "    hnc_matrix[0,0] = hnc00\n",
    "    hnc_matrix[1,0] = hnc01\n",
    "    hnc_matrix[0,1] = hnc01\n",
    "    hnc_matrix[1,1] = hnc11\n",
    "    return hnc_matrix\n",
    "\n",
    "def solve_least_squares(plasma, sparse_k_array, c_s_k_guess=None, ftol=1e-8):\n",
    "    if c_s_k_guess is None:\n",
    "        c_s_k_guess = plasma.hnc.c_s_k_matrix\n",
    "\n",
    "    # Create functions for converting between sparse, not sparse and flattened versions of c_s_k\n",
    "    get_sparse_csk = lambda c_s_k_flat: np.concatenate([interp1d(plasma.hnc.k_array, c_s_k)(sparse_k_array) for c_s_k in np.split(c_s_k_flat,3) ])\n",
    "    get_csk = lambda sparse_hnc_csk: interp1d(sparse_k_array, sparse_hnc_csk, kind='linear')(plasma.hnc.k_array)\n",
    "    get_csk_matrix_from_sparse_csk_flat =  lambda sparse_c_s_k_flat: custom_unflat(np.concatenate([get_csk(sparse_csk) for sparse_csk in np.split(sparse_c_s_k_flat,3)]))\n",
    "    \n",
    "    def min_function(sparse_c_s_k_flat):\n",
    "        c_s_k_matrix = get_csk_matrix_from_sparse_csk_flat(sparse_c_s_k_flat)\n",
    "        new_c_s_k_matrix = plasma.hnc.guess_c_s_k_matrix(c_s_k_matrix)\n",
    "        plasma.hnc.c_s_k_matrix = new_c_s_k_matrix.copy()\n",
    "        new_c_s_k_flat = custom_flat(new_c_s_k_matrix)\n",
    "        return sparse_c_s_k_flat - get_sparse_csk(new_c_s_k_flat)\n",
    "    \n",
    "    c_s_k_flat_guess = custom_flat(c_s_k_guess)\n",
    "    c_s_k_sparse_guess = get_sparse_csk(c_s_k_flat_guess)\n",
    "    sol = least_squares(min_function, c_s_k_sparse_guess, verbose=2, ftol=ftol)#, bounds = c_s_k_bounds)\n",
    "    plasma.hnc.c_s_k_matrix = get_csk_matrix_from_sparse_csk_flat(sol.x)\n",
    "    plasma.hnc.set_all_matrices_from_csk(plasma.hnc.c_s_k_matrix)\n",
    "    print(sol)\n",
    "\n",
    "def best_shift(plasma, guess_c_s_k, ftol=1e-8, set=True):\n",
    "    \n",
    "    def min_function(multiplier_list):\n",
    "        xii, xei, xee = multiplier_list\n",
    "        multiplier_matrix = np.array([[xii,xei],[xei,xee]])\n",
    "        c_s_k_matrix = multiplier_matrix[:,:,np.newaxis] * guess_c_s_k\n",
    "        new_c_s_k_matrix = plasma.hnc.guess_c_s_k_matrix(c_s_k_matrix)\n",
    "        \n",
    "        return c_s_k_matrix.flatten() - new_c_s_k_matrix.flatten()\n",
    "    \n",
    "    sol = least_squares(min_function, np.ones((3)) , verbose=2, ftol=ftol)#, bounds = c_s_k_bounds)\n",
    "    xii, xei, xee = sol.x\n",
    "    multiplier_matrix = np.array([[xii,xei],[xei,xee]])\n",
    "    \n",
    "    plasma.hnc.c_s_k_matrix = multiplier_matrix[:,:,np.newaxis] * guess_c_s_k\n",
    "    print(sol)\n",
    "    return sol"
   ]
  },
  {
   "cell_type": "markdown",
   "id": "cba9d711-f4d4-4ff4-b50b-467fc7784ce7",
   "metadata": {},
   "source": [
    "### Testing Ashcroft Smoothed\n",
    "The regular ashcroft potential is \n",
    "$$ \\beta v^A_{ei} = \n",
    "\\left\\{\\begin{array}{ll}\n",
    " -\\alpha \\bar{Z}/R_c &  r<= R_c \\\\ \n",
    " -\\bar{Z}/r & r > R_c\n",
    "\\end{array}\\right\\}\n",
    "$$\n",
    "\n",
    "or in k-space\n",
    "$$\n",
    "\\beta \\tilde{v}^A_{ei} = -\\frac{4\\pi\\bar{Z}}{k^2} \\left( \\cos(k R_c)(1-\\alpha) + \\alpha\\sin(k R_c)/ k R_c  \\right)\n",
    "$$\n",
    "We smooth the Ashcroft potential to account for finite electron spread as \n",
    "$$\n",
    "\\beta \\tilde{v}^{SA}_{ei} = -4\\pi\\bar{Z}\\left( \\frac{1}{k^2} - \\frac{1}{k^2+1/\\Lambda_{ei}^2}  \\right) \\left( \\cos(k R_c)(1-\\alpha) + \\alpha \\sin(k R_c)/ k R_c  \\right)\n",
    "$$\n",
    "for $\\Lambda_{ij} = \\sqrt{2\\pi \\mu_{ij} T_{ij}}$ the inter-particle thermal deBroglie wavelength.\n",
    "One can verify that setting $R_c=0$ and FTing reduces to the Deutsch potential\n",
    "$$\n",
    "\\beta v^D = \\frac{\\beta Z}{r} \\left( 1- e^{r/\\Lambda_{ei}}   \\right)\n",
    "$$\n"
   ]
  },
  {
   "cell_type": "code",
   "execution_count": 39,
   "id": "9968309a-db3a-452c-a2d1-578e156dfae5",
   "metadata": {},
   "outputs": [],
   "source": [
    "def make_Ashcroft_βvei(atom, α=1, Rc = 0.4):\n",
    "    k = atom.hnc.k_array\n",
    "    βvei= atom.hnc.FT_k_2_r(  4*π*atom.qsp.Γei* (np.cos(k*Rc)*(1-α) + α*np.sin(k*Rc)/(k*Rc)) * (1/k**2 - 1/(k**2 + 1/atom.qsp.Λei**2)) )\n",
    "    atom.hnc.βu_r_matrix[0,1] = βvei\n",
    "    atom.hnc.βu_r_matrix[1,0] = βvei\n",
    "    atom.hnc.set_βu_matrix(atom.hnc.βu_r_matrix)\n"
   ]
  },
  {
   "cell_type": "code",
   "execution_count": 40,
   "id": "82585fc5",
   "metadata": {
    "scrolled": true,
    "tags": []
   },
   "outputs": [],
   "source": [
    "def plasma_f(α, Rc):\n",
    "    plasma = PLASMA(Z, A, ni_cc, Ti_eV, Te_eV, Zbar=Zbar, find_βuee=True,\n",
    "             βu_options = {'add_bridge':True,'bridge':'yukawa', 'pseudopotential':False}, \n",
    "             hnc_options={'kappa_multiscale':10, 'R_max':10,'N_bins':1000,'oz_method':'svt'},\n",
    "             hnc_solve_options={'num_iterations':10000,'alpha_Picard':0.1, 'verbose':False,'iters_to_wait':500},\n",
    "             root_options={'options':{'maxfev':100,'xtol':1e-14}})\n",
    "    \n",
    "    # Make the smoothed Ashcroft potential \n",
    "    make_Ashcroft_βvei(plasma, α=α, Rc = Rc)\n",
    "    \n",
    "    return plasma"
   ]
  },
  {
   "cell_type": "code",
   "execution_count": 41,
   "id": "e8f83c6b-b72c-46d2-a691-b34323bd695f",
   "metadata": {
    "scrolled": true,
    "tags": []
   },
   "outputs": [
    {
     "ename": "NameError",
     "evalue": "name 'atom2' is not defined",
     "output_type": "error",
     "traceback": [
      "\u001b[0;31m---------------------------------------------------------------------------\u001b[0m",
      "\u001b[0;31mNameError\u001b[0m                                 Traceback (most recent call last)",
      "Cell \u001b[0;32mIn[41], line 2\u001b[0m\n\u001b[1;32m      1\u001b[0m \u001b[38;5;66;03m# atom3.run_hnc(newton=False, c_s_k_guess = atom2.hnc.c_s_k_matrix.copy())\u001b[39;00m\n\u001b[0;32m----> 2\u001b[0m solve_least_squares(\u001b[43matom2\u001b[49m, np\u001b[38;5;241m.\u001b[39mlinspace(atom2\u001b[38;5;241m.\u001b[39mhnc\u001b[38;5;241m.\u001b[39mk_array[\u001b[38;5;241m0\u001b[39m], atom2\u001b[38;5;241m.\u001b[39mhnc\u001b[38;5;241m.\u001b[39mk_array[\u001b[38;5;241m-\u001b[39m\u001b[38;5;241m1\u001b[39m], num\u001b[38;5;241m=\u001b[39m\u001b[38;5;241m200\u001b[39m))\n\u001b[1;32m      3\u001b[0m solve_least_squares(atom3, np\u001b[38;5;241m.\u001b[39mlinspace(atom3\u001b[38;5;241m.\u001b[39mhnc\u001b[38;5;241m.\u001b[39mk_array[\u001b[38;5;241m0\u001b[39m], atom3\u001b[38;5;241m.\u001b[39mhnc\u001b[38;5;241m.\u001b[39mk_array[\u001b[38;5;241m-\u001b[39m\u001b[38;5;241m1\u001b[39m], num\u001b[38;5;241m=\u001b[39m\u001b[38;5;241m400\u001b[39m))\u001b[38;5;66;03m#, c_s_k_guess = atom2.hnc.c_s_k_matrix.copy())\u001b[39;00m\n",
      "\u001b[0;31mNameError\u001b[0m: name 'atom2' is not defined"
     ]
    }
   ],
   "source": [
    "# atom3.run_hnc(newton=False, c_s_k_guess = atom2.hnc.c_s_k_matrix.copy())\n",
    "solve_least_squares(atom2, np.linspace(atom2.hnc.k_array[0], atom2.hnc.k_array[-1], num=200))\n",
    "solve_least_squares(atom3, np.linspace(atom3.hnc.k_array[0], atom3.hnc.k_array[-1], num=400))#, c_s_k_guess = atom2.hnc.c_s_k_matrix.copy())"
   ]
  },
  {
   "cell_type": "code",
   "execution_count": 31,
   "id": "82a8516b-61fe-4baf-84b5-dfe38056d411",
   "metadata": {
    "tags": []
   },
   "outputs": [],
   "source": [
    "# solve_least_squares(atom3, np.linspace(atom3.hnc.k_array[0], atom3.hnc.k_array[-1], num=1000), c_s_k_guess = atom2.hnc.c_s_k_matrix.copy())"
   ]
  },
  {
   "cell_type": "code",
   "execution_count": null,
   "id": "5feeedf4-a313-4859-a9e0-416026f6db0d",
   "metadata": {
    "tags": []
   },
   "outputs": [],
   "source": [
    "atom3.hnc.plot_g_all_species()"
   ]
  },
  {
   "cell_type": "code",
   "execution_count": null,
   "id": "c0c0989e-3d11-4444-b559-abfad3682431",
   "metadata": {
    "scrolled": true,
    "tags": []
   },
   "outputs": [],
   "source": [
    "atom4.run_hnc(newton=False)#, c_s_k_guess = atom2.hnc.c_s_k_matrix.copy())"
   ]
  },
  {
   "cell_type": "code",
   "execution_count": null,
   "id": "546dbe1d-c960-40ab-ba2f-c71717eab64f",
   "metadata": {
    "scrolled": true,
    "tags": []
   },
   "outputs": [],
   "source": [
    "# solve_least_squares(atom4, np.linspace(atom4.hnc.k_array[0], atom4.hnc.k_array[-1], num=300), c_s_k_guess = atom3.hnc.c_s_k_matrix.copy())\n",
    "# solve_least_squares(atom4, np.linspace(atom4.hnc.k_array[0], atom4.hnc.k_array[-1], num=200))#, c_s_k_guess = atom3.hnc.c_s_k_matrix.copy())"
   ]
  },
  {
   "cell_type": "code",
   "execution_count": null,
   "id": "c7132398-8246-48d8-ab6a-221c2d592c24",
   "metadata": {
    "tags": []
   },
   "outputs": [],
   "source": [
    "# atom4_saved_csk = atom4.hnc.c_s_k_matrix.copy()"
   ]
  },
  {
   "cell_type": "code",
   "execution_count": null,
   "id": "c442e089-5d5e-420c-98e3-fd639a1f5232",
   "metadata": {
    "tags": []
   },
   "outputs": [],
   "source": [
    "atom4.hnc.plot_g_all_species()"
   ]
  },
  {
   "cell_type": "code",
   "execution_count": null,
   "id": "6b306c5c-aa81-4fbf-8b34-f97315093d56",
   "metadata": {
    "scrolled": true,
    "tags": []
   },
   "outputs": [],
   "source": [
    "# atom5.run_hnc(newton=False)#, c_s_k_guess = atom4.hnc.c_s_k_matrix.copy())\n",
    "# solve_least_squares(atom5, np.linspace(atom5.hnc.k_array[0], atom5.hnc.k_array[-1], num=400))#, c_s_k_guess = atom4.hnc.c_s_k_matrix.copy())\n",
    "solve_least_squares(atom5, np.linspace(atom5.hnc.k_array[0], atom5.hnc.k_array[-1], num=1000))#, c_s_k_guess = atom4.hnc.c_s_k_matrix.copy())"
   ]
  },
  {
   "cell_type": "code",
   "execution_count": null,
   "id": "908a94d0-23b4-4d4a-8d85-51619b2ff77b",
   "metadata": {
    "tags": []
   },
   "outputs": [],
   "source": [
    "# atom5_save_csk = atom5.hnc.c_s_k_matrix.copy()"
   ]
  },
  {
   "cell_type": "code",
   "execution_count": null,
   "id": "397f602d-887a-41e3-8e8b-9a0ca1f12cf2",
   "metadata": {
    "tags": []
   },
   "outputs": [],
   "source": [
    "atom5.hnc.plot_g_all_species()"
   ]
  },
  {
   "cell_type": "code",
   "execution_count": 43,
   "id": "f8f71057-8294-4a3f-a02f-329182154d29",
   "metadata": {
    "scrolled": true
   },
   "outputs": [
    {
     "name": "stdout",
     "output_type": "stream",
     "text": [
      "Te_in_eV: 1.000\n",
      "Ti_in_eV: 1.000\n",
      "0: Initial condition Total Error: 1.275e+01\n"
     ]
    },
    {
     "name": "stderr",
     "output_type": "stream",
     "text": [
      "/home/zach/plasma/hnc/hnc/PIE.py:163: RuntimeWarning: overflow encountered in exp\n",
      "  f_of_k = 1/(  1+np.exp((dense_hnc.k_array/self.qsp.ri)**2/(2*m_e*self.qsp.Te) - η) )\n"
     ]
    },
    {
     "name": "stdout",
     "output_type": "stream",
     "text": [
      "Starting Ng loop, using best index so far:  499\n",
      "|d_n|^2 =  [2.2813388845679947, 2.2931358012099223, 2.3049908788181215]\n",
      " αs:  [ 17593.77921067 -34906.99688438  17314.2176737 ]\n",
      "|d_n|^2 =  [0.0761025057822158, 2.2813388845679947, 2.2931358012099223]\n",
      " αs:  [  0.62034584  71.9225833  -71.54292914]\n",
      "|d_n|^2 =  [1.0013832631711799, 0.0761025057822158, 2.2813388845679947]\n",
      " αs:  [ 0.05667314  0.94617339 -0.00284653]\n",
      "|d_n|^2 =  [0.087758876304799, 1.0013832631711799, 0.0761025057822158]\n",
      " αs:  [ 0.91627906 -0.07106097  0.15478191]\n",
      "|d_n|^2 =  [0.018584564585805922, 0.087758876304799, 1.0013832631711799]\n",
      " αs:  [0.92714812 0.06206699 0.01078489]\n",
      "|d_n|^2 =  [0.016122327697425047, 0.018584564585805922, 0.087758876304799]\n",
      " αs:  [0.49680083 0.34987946 0.1533197 ]\n",
      "|d_n|^2 =  [0.017958843606601684, 0.016122327697425047, 0.018584564585805922]\n",
      " αs:  [-7.67139728  8.42443154  0.24696574]\n",
      "|d_n|^2 =  [0.014593401194517597, 0.017958843606601684, 0.016122327697425047]\n",
      " αs:  [ 7.44448306 -1.4943076  -4.95017546]\n",
      "|d_n|^2 =  [0.01655144575096807, 0.014593401194517597, 0.017958843606601684]\n",
      " αs:  [ 7.97320956  1.75573973 -8.72894929]\n",
      "|d_n|^2 =  [0.006816529423341541, 0.01655144575096807, 0.014593401194517597]\n",
      " αs:  [ 1.51099581 -1.34779044  0.83679462]\n",
      "|d_n|^2 =  [0.000724435781237162, 0.006816529423341541, 0.01655144575096807]\n",
      " αs:  [ 0.77873877  0.32640306 -0.10514184]\n",
      "|d_n|^2 =  [0.00024486464528536845, 0.000724435781237162, 0.006816529423341541]\n",
      " αs:  [ 1.00648413  0.02633673 -0.03282086]\n",
      "|d_n|^2 =  [3.7947788658464856e-05, 0.00024486464528536845, 0.000724435781237162]\n",
      " αs:  [0.88536929 0.0635523  0.05107841]\n",
      "|d_n|^2 =  [2.220237878794259e-05, 3.7947788658464856e-05, 0.00024486464528536845]\n",
      " αs:  [ 1.59375695 -0.7535445   0.15978754]\n",
      "|d_n|^2 =  [1.2601498230076726e-05, 2.220237878794259e-05, 3.7947788658464856e-05]\n",
      " αs:  [ 0.89728125  0.36298961 -0.26027086]\n",
      "|d_n|^2 =  [3.4929973190682717e-06, 1.2601498230076726e-05, 2.220237878794259e-05]\n",
      " αs:  [ 1.22709971 -0.27890304  0.05180333]\n",
      "|d_n|^2 =  [6.559688282474298e-07, 3.4929973190682717e-06, 1.2601498230076726e-05]\n",
      " αs:  [ 1.53524867 -0.64842928  0.11318061]\n",
      "Exiting status 0, reverting to best index so far: 515\n",
      "Final iter:518, Total Error: 7.985e-09\n",
      "Te_in_eV: 1.000\n",
      "Ti_in_eV: 1.000\n",
      "0: Initial condition Total Error: 1.276e+01\n",
      "Starting Ng loop, using best index so far:  499\n",
      "|d_n|^2 =  [2.0784539295054363, 2.090193355395908, 2.1019950930541853]\n",
      " αs:  [ 14973.59783314 -29690.1612036   14717.56337046]\n",
      "|d_n|^2 =  [0.06881642697164825, 2.0784539295054363, 2.090193355395908]\n",
      " αs:  [  0.60197028  68.78434283 -68.38631311]\n",
      "|d_n|^2 =  [0.6977245346844151, 0.06881642697164825, 2.0784539295054363]\n",
      " αs:  [ 0.08174413  0.91962694 -0.00137106]\n",
      "|d_n|^2 =  [0.0424716298824388, 0.6977245346844151, 0.06881642697164825]\n",
      " αs:  [ 0.93731773 -0.04698711  0.10966938]\n",
      "|d_n|^2 =  [0.009605355332095318, 0.0424716298824388, 0.6977245346844151]\n",
      " αs:  [0.90990939 0.0839797  0.00611092]\n",
      "|d_n|^2 =  [0.00925576541372541, 0.009605355332095318, 0.0424716298824388]\n",
      " αs:  [0.51915568 0.31663704 0.16420729]\n",
      "|d_n|^2 =  [0.010198589716725036, 0.00925576541372541, 0.009605355332095318]\n",
      " αs:  [-7.65168674  8.30639601  0.34529073]\n",
      "|d_n|^2 =  [0.009748120366722542, 0.010198589716725036, 0.00925576541372541]\n",
      " αs:  [-16.26108224  -0.43317632  17.69425855]\n",
      "|d_n|^2 =  [0.0014806580784082976, 0.009748120366722542, 0.010198589716725036]\n",
      " αs:  [ 1.2430602 -3.34924    3.1061798]\n",
      "|d_n|^2 =  [0.00024519881962782597, 0.0014806580784082976, 0.009748120366722542]\n",
      " αs:  [ 1.07509502 -0.05626912 -0.0188259 ]\n",
      "|d_n|^2 =  [4.681157746623251e-05, 0.00024519881962782597, 0.0014806580784082976]\n",
      " αs:  [ 1.25804625 -0.28200779  0.02396154]\n",
      "|d_n|^2 =  [3.4912005927068055e-05, 4.681157746623251e-05, 0.00024519881962782597]\n",
      " αs:  [ 0.53009736  0.50204626 -0.03214362]\n",
      "|d_n|^2 =  [6.054882079500899e-06, 3.4912005927068055e-05, 4.681157746623251e-05]\n",
      " αs:  [ 1.30263462 -0.17388578 -0.12874884]\n",
      "|d_n|^2 =  [1.289636156186643e-05, 6.054882079500899e-06, 3.4912005927068055e-05]\n",
      " αs:  [ 1.01613231 -0.38989142  0.37375911]\n",
      "|d_n|^2 =  [1.0764397460689233e-05, 1.289636156186643e-05, 6.054882079500899e-06]\n",
      " αs:  [ 3.0040368  -2.35072936  0.34669255]\n",
      "|d_n|^2 =  [1.1343676906805998e-05, 1.0764397460689233e-05, 1.289636156186643e-05]\n",
      " αs:  [-5.76739505 10.17926782 -3.41187277]\n",
      "|d_n|^2 =  [9.398320096780876e-07, 1.1343676906805998e-05, 1.0764397460689233e-05]\n",
      " αs:  [ 1.09757288  0.57744988 -0.67502277]\n",
      "|d_n|^2 =  [4.9023817508561e-07, 9.398320096780876e-07, 1.1343676906805998e-05]\n",
      " αs:  [ 1.42510148 -0.39182254 -0.03327894]\n",
      "Exiting status 0, reverting to best index so far: 516\n",
      "Final iter:519, Total Error: 5.993e-09\n",
      "Te_in_eV: 1.000\n",
      "Ti_in_eV: 1.000\n",
      "0: Initial condition Total Error: 1.278e+01\n",
      "Starting Ng loop, using best index so far:  499\n",
      "|d_n|^2 =  [1.583650373239621, 1.594487136861292, 1.6053928103548492]\n",
      " αs:  [ 10492.45935867 -20771.47985668  10280.02049801]\n",
      "|d_n|^2 =  [0.03580303167272073, 1.583650373239621, 1.594487136861292]\n",
      " αs:  [  0.63911808  51.7629057  -51.40202378]\n",
      "|d_n|^2 =  [0.2601426082924926, 0.03580303167272073, 1.583650373239621]\n",
      " αs:  [ 1.17118225e-01  8.83475279e-01 -5.93503879e-04]\n",
      "|d_n|^2 =  [0.011086412264618394, 0.2601426082924926, 0.03580303167272073]\n",
      " αs:  [ 0.93007506 -0.02628053  0.09620548]\n",
      "|d_n|^2 =  [0.002948095127364461, 0.011086412264618394, 0.2601426082924926]\n",
      " αs:  [ 1.00688747 -0.0169521   0.01006463]\n",
      "|d_n|^2 =  [0.0032195496737803917, 0.002948095127364461, 0.011086412264618394]\n",
      " αs:  [0.39147106 0.41987351 0.18865543]\n",
      "|d_n|^2 =  [0.0034584128389985296, 0.0032195496737803917, 0.002948095127364461]\n",
      " αs:  [-7.76354491  7.13063125  1.63291365]\n",
      "|d_n|^2 =  [0.003503007851605564, 0.0034584128389985296, 0.0032195496737803917]\n",
      " αs:  [ 61.09155472 -85.10965113  25.01809641]\n",
      "|d_n|^2 =  [0.0005995808241601084, 0.003503007851605564, 0.0034584128389985296]\n",
      " αs:  [ 1.04287367 -7.04924754  7.00637387]\n",
      "|d_n|^2 =  [2.857286724214542e-05, 0.0005995808241601084, 0.003503007851605564]\n",
      " αs:  [ 1.01394938 -0.0216948   0.00774542]\n",
      "|d_n|^2 =  [7.974598446699126e-06, 2.857286724214542e-05, 0.0005995808241601084]\n",
      " αs:  [ 1.13085665 -0.11666831 -0.01418834]\n",
      "|d_n|^2 =  [3.306403897194736e-06, 7.974598446699126e-06, 2.857286724214542e-05]\n",
      " αs:  [ 1.2665146  -0.36131151  0.09479691]\n",
      "|d_n|^2 =  [2.8889441943510443e-06, 3.306403897194736e-06, 7.974598446699126e-06]\n",
      " αs:  [ 2.91614349 -1.71851039 -0.19763311]\n",
      "|d_n|^2 =  [7.112000246790636e-07, 2.8889441943510443e-06, 3.306403897194736e-06]\n",
      " αs:  [ 0.91618538  0.50321643 -0.41940181]\n",
      "|d_n|^2 =  [6.428209649155875e-07, 7.112000246790636e-07, 2.8889441943510443e-06]\n",
      " αs:  [ 2.35787061 -0.93293918 -0.42493144]\n",
      "|d_n|^2 =  [4.0689005721653297e-07, 6.428209649155875e-07, 7.112000246790636e-07]\n",
      " αs:  [ 1.28312222 -0.8506212   0.56749898]\n",
      "Exiting status 0, reverting to best index so far: 514\n",
      "Final iter:517, Total Error: 7.583e-09\n",
      "Te_in_eV: 1.000\n",
      "Ti_in_eV: 1.000\n",
      "0: Initial condition Total Error: 1.280e+01\n",
      "Starting Ng loop, using best index so far:  499\n",
      "|d_n|^2 =  [0.5758777031162826, 0.5818747094602554, 0.5879323830604838]\n",
      " αs:  [ 4678.86053067 -9213.81478721  4535.95425654]\n",
      "|d_n|^2 =  [0.0012318878390686738, 0.5758777031162826, 0.5818747094602554]\n",
      " αs:  [  0.89138806  10.44670512 -10.33809318]\n",
      "|d_n|^2 =  [0.005350823637135416, 0.0012318878390686738, 0.5758777031162826]\n",
      " αs:  [ 1.99402831e-01  8.00990252e-01 -3.93083217e-04]\n",
      "|d_n|^2 =  [0.0002205285928302778, 0.005350823637135416, 0.0012318878390686738]\n",
      " αs:  [0.82698186 0.01006058 0.16295756]\n",
      "|d_n|^2 =  [0.00038532695330827153, 0.0002205285928302778, 0.005350823637135416]\n",
      " αs:  [ 0.31435859  0.7258177  -0.04017629]\n",
      "|d_n|^2 =  [0.0002894558737738597, 0.00038532695330827153, 0.0002205285928302778]\n",
      " αs:  [ 1.08337811 -1.08231935  0.99894124]\n",
      "|d_n|^2 =  [0.000267889867764934, 0.0002894558737738597, 0.00038532695330827153]\n",
      " αs:  [ 0.72806356  1.00880107 -0.73686463]\n",
      "|d_n|^2 =  [0.0004975083040305456, 0.000267889867764934, 0.0002894558737738597]\n",
      " αs:  [ 0.63449537 -4.26556669  4.63107132]\n",
      "|d_n|^2 =  [0.0005516345436482174, 0.0004975083040305456, 0.000267889867764934]\n",
      " αs:  [ 0.89201989 -0.74005096  0.84803107]\n",
      "|d_n|^2 =  [3.5277161781705147e-05, 0.0005516345436482174, 0.0004975083040305456]\n",
      " αs:  [ 0.95181636  0.0974485  -0.04926486]\n",
      "|d_n|^2 =  [6.806995183950484e-06, 3.5277161781705147e-05, 0.0005516345436482174]\n",
      " αs:  [ 1.21864112e+00 -2.19674141e-01  1.03302334e-03]\n",
      "|d_n|^2 =  [1.23542427599439e-06, 6.806995183950484e-06, 3.5277161781705147e-05]\n",
      " αs:  [ 0.54904498  0.53542607 -0.08447104]\n",
      "|d_n|^2 =  [5.76105423027846e-07, 1.23542427599439e-06, 6.806995183950484e-06]\n",
      " αs:  [ 3.39853318 -2.26967536 -0.12885781]\n",
      "Exiting status 0, reverting to best index so far: 511\n",
      "Final iter:514, Total Error: 7.953e-10\n"
     ]
    }
   ],
   "source": [
    "Rc_list = np.linspace(1e-5,0.3, num=2)[::-1]\n",
    "α_list = np.linspace(-1,1,num=4)\n",
    "plasma_list = []*len(Rc_list)\n",
    "\n",
    "c_s_k_guess = None\n",
    "# for Rc in Rc_list:\n",
    "for α in α_list:\n",
    "    plasma = plasma_f(α, 0.4)\n",
    "    plasma_list.append(plasma)\n",
    "    plasma.run_hnc(newton=False)#, c_s_k_guess = c_s_k_guess)\n",
    "    # c_s_k_guess = plasma.hnc.c_s_k_matrix.copy()\n",
    "    # best_shift(plasma, c_s_k_guess, ftol=1e-8, set=True)\n",
    "    # solve_least_squares(plasma, np.linspace(plasma.hnc.k_array[0], plasma.hnc.k_array[-1], num=500))"
   ]
  },
  {
   "cell_type": "code",
   "execution_count": null,
   "id": "760eed1b-c74a-4109-af6c-820e2e5807bc",
   "metadata": {},
   "outputs": [],
   "source": [
    "for plasma in plasma_list[7:]:\n",
    "    solve_least_squares(plasma, np.linspace(plasma.hnc.k_array[0], plasma.hnc.k_array[-1], num=1000))"
   ]
  },
  {
   "cell_type": "markdown",
   "id": "d4694fbb-951d-4685-8d4e-4d4ccc1b8cf4",
   "metadata": {},
   "source": [
    "### Plot and Comparison to QMD"
   ]
  },
  {
   "cell_type": "code",
   "execution_count": 44,
   "id": "05de8240-003a-4445-a56c-2889805b98f8",
   "metadata": {},
   "outputs": [
    {
     "name": "stdout",
     "output_type": "stream",
     "text": [
      "Te_in_eV: 1.000\n",
      "Ti_in_eV: 1.000\n",
      "0: Initial condition Total Error: 2.804e+01\n",
      "Starting Ng loop, using best index so far:  499\n",
      "|d_n|^2 =  [1.429463516757614, 1.4389924536307688, 1.4485827183519493]\n",
      " αs:  [ 10999.29844727 -21777.27251725  10778.97406998]\n",
      "|d_n|^2 =  [0.016696524496966292, 1.429463516757614, 1.4389924536307688]\n",
      " αs:  [  0.76678787  34.57331934 -34.34010722]\n",
      "|d_n|^2 =  [0.16031600941248397, 0.016696524496966292, 1.429463516757614]\n",
      " αs:  [ 0.08674555  0.91501462 -0.00176017]\n",
      "|d_n|^2 =  [0.010411035204568432, 0.16031600941248397, 0.016696524496966292]\n",
      " αs:  [ 0.92824918 -0.04917453  0.12092535]\n",
      "|d_n|^2 =  [0.002717469128109417, 0.010411035204568432, 0.16031600941248397]\n",
      " αs:  [ 1.14901769 -0.17587277  0.02685508]\n",
      "|d_n|^2 =  [0.0030259110709960767, 0.002717469128109417, 0.010411035204568432]\n",
      " αs:  [ 3.16162858 -2.44851363  0.28688505]\n",
      "|d_n|^2 =  [0.0029597503571182167, 0.0030259110709960767, 0.002717469128109417]\n",
      " αs:  [  7.35157717 -12.26598489   5.91440773]\n",
      "|d_n|^2 =  [0.0006373182839867361, 0.0029597503571182167, 0.0030259110709960767]\n",
      " αs:  [ 0.83599602  1.16329899 -0.999295  ]\n",
      "|d_n|^2 =  [8.484868548229561e-05, 0.0006373182839867361, 0.0029597503571182167]\n",
      " αs:  [ 1.12355884 -0.12848159  0.00492275]\n",
      "|d_n|^2 =  [1.8164049854596448e-05, 8.484868548229561e-05, 0.0006373182839867361]\n",
      " αs:  [ 0.75534384  0.25809543 -0.01343927]\n",
      "|d_n|^2 =  [6.860597801891135e-06, 1.8164049854596448e-05, 8.484868548229561e-05]\n",
      " αs:  [ 2.719797   -1.58423167 -0.13556533]\n",
      "|d_n|^2 =  [3.2651974575439257e-06, 6.860597801891135e-06, 1.8164049854596448e-05]\n",
      " αs:  [ 4.42184629 -4.35114884  0.92930255]\n",
      "|d_n|^2 =  [4.102137139452417e-07, 3.2651974575439257e-06, 6.860597801891135e-06]\n",
      " αs:  [ 1.24924733 -0.4500161   0.20076877]\n",
      "|d_n|^2 =  [2.3742690305659622e-07, 4.102137139452417e-07, 3.2651974575439257e-06]\n",
      " αs:  [ 0.76851154  0.28782372 -0.05633527]\n",
      "Exiting status 0, reverting to best index so far: 512\n",
      "Final iter:515, Total Error: 2.104e-09\n"
     ]
    }
   ],
   "source": [
    "ocp =  PLASMA(Z, A, ni_cc, Ti_eV, Te_eV, Zbar=Zbar, find_βuee=True,\n",
    "                 βu_options = {'add_bridge':True,'bridge':'yukawa', 'pseudopotential':False}, \n",
    "                 hnc_options={'kappa_multiscale':10, 'R_max':10,'N_bins':1000,'oz_method':'standard'},\n",
    "                 hnc_solve_options={'num_iterations':10000,'alpha_Picard':0.1, 'verbose':False,'iters_to_wait':500},\n",
    "                 root_options={'options':{'maxfev':100,'xtol':1e-14}})\n",
    "\n",
    "ocp.run_ocp_hnc();"
   ]
  },
  {
   "cell_type": "code",
   "execution_count": 45,
   "id": "8fa6f5fc",
   "metadata": {
    "tags": []
   },
   "outputs": [],
   "source": [
    "MD_data = read_csv(\"/home/zach/plasma/datasets/RDFs/Al_1.0eV_rs3_VASP.txt\",  header=1)\n",
    "MD_data.columns=['r','g']\n",
    "MD_data;"
   ]
  },
  {
   "cell_type": "code",
   "execution_count": 48,
   "id": "439e5056",
   "metadata": {
    "tags": []
   },
   "outputs": [
    {
     "data": {
      "text/plain": [
       "<matplotlib.legend.Legend at 0x7ff947fd7fd0>"
      ]
     },
     "execution_count": 48,
     "metadata": {},
     "output_type": "execute_result"
    },
    {
     "data": {
      "image/png": "[encoded data removed]",
      "text/plain": [
       "<Figure size 1000x800 with 1 Axes>"
      ]
     },
     "metadata": {},
     "output_type": "display_data"
    }
   ],
   "source": [
    "fig, ax = plt.subplots(figsize=(10,8))\n",
    "ax.set_title(\"Continuous Smoothed Ashcroft\", fontsize=20)\n",
    "\n",
    "colors = plt.cm.coolwarm(np.linspace(0,1,len(plasma_list) ))\n",
    "\n",
    "# Model Comparison\n",
    "for i, (color, Rc, plasma) in enumerate(zip(colors, α_list, plasma_list)):\n",
    "    if i>8:\n",
    "        continue\n",
    "    ax.plot(plasma.hnc.r_array, plasma.hnc.h_r_matrix[0,0]+1,'-', color=color,label=r\"$R_c$ = {0:.2f}\".format(Rc))\n",
    "\n",
    "# OCP\n",
    "ax.plot(ocp.ocp_hnc.r_array, ocp.ocp_hnc.h_r_matrix[0,0]+1,'k--', label='Only Ion')\n",
    "\n",
    "# Data\n",
    "ax.plot(MD_data['r'], MD_data['g'], 'k',label='VASP')\n",
    "\n",
    "# Plotting functions\n",
    "# ax.set_title(r\"$R_c = {}$\".format(Rc),fontsize=20)\n",
    "ax.set_xlim(0,6)\n",
    "ax.set_ylim(0,2)\n",
    "ax.set_ylabel(r'$g_{ii}$',fontsize=20)\n",
    "ax.set_xlabel(r'$r/r_i$ ',fontsize=20)\n",
    "ax.tick_params(labelsize=20)\n",
    "# ax.set_yscale('symlog', linthresh=2)\n",
    "\n",
    "# [i.set_linewidth(0.1) for i in ax.spines.itervalues()]\n",
    "ax.legend(fontsize=15)"
   ]
  },
  {
   "cell_type": "code",
   "execution_count": null,
   "id": "99de975e-e95e-46e3-8bb9-1f462f604101",
   "metadata": {},
   "outputs": [],
   "source": []
  },
  {
   "cell_type": "markdown",
   "id": "c68b5e49-0c31-4a1d-b1e5-b94429b4feb4",
   "metadata": {},
   "source": [
    "### Effective Potential"
   ]
  },
  {
   "cell_type": "code",
   "execution_count": 49,
   "id": "aa4b7f23-59e6-4c2a-8378-facd53bbbd65",
   "metadata": {},
   "outputs": [],
   "source": [
    "for i, (color, Rc, plasma) in enumerate(zip(colors, Rc_list, plasma_list)):\n",
    "    if i>8:\n",
    "        continue\n",
    "    plasma.hnc.invert_HNC_OZ([1])\n",
    "    ax.plot(plasma.hnc.r_array, plasma.hnc.βueff_r_matrix[0,0],'-', color=color,label=r\"$R_c$ = {0:.2f}\".format(Rc))\n",
    "\n",
    "    # np.savetxt(f\"/home/zach/plasma/hnc/TCCW/data/dcf_data/{name}_{Ti_eV:0.2e}eV_rs{ri_AU:0.3f}_svt-hnc-softAshcroft-Rc{Rc:0.2f}-α1_c_k_matrix.csv\", plasma.hnc.c_k_matrix.reshape(4,atom2.hnc.N_bins))"
   ]
  },
  {
   "cell_type": "code",
   "execution_count": 53,
   "id": "58fcaf67-798e-42a9-8d20-c177f4ee48e4",
   "metadata": {},
   "outputs": [
    {
     "data": {
      "text/plain": [
       "<matplotlib.legend.Legend at 0x7ff9470df190>"
      ]
     },
     "execution_count": 53,
     "metadata": {},
     "output_type": "execute_result"
    },
    {
     "data": {
      "image/png": "[encoded data removed]",
      "text/plain": [
       "<Figure size 1000x800 with 1 Axes>"
      ]
     },
     "metadata": {},
     "output_type": "display_data"
    }
   ],
   "source": [
    "Luke_pair = read_csv(\"../data/Al_T1_tab.lammps.PAIR\", delim_whitespace=True, header=4)\n",
    "\n",
    "\n",
    "fig, ax = plt.subplots(figsize=(10,8))\n",
    "\n",
    "# LUKE Potfit VASP\n",
    "ax.plot(Luke_pair['r[A]']*Angstrom_to_AU/ri_AU, plasma.qsp.βie_c*Luke_pair['u[eV]']*eV_to_AU, 'k-.',label='Force Matched VASP')\n",
    "\n",
    "# Coulomb and Yukawa\n",
    "ax.plot(plasma.hnc.r_array, plasma.hnc.βu_r_matrix[0,0],'k-', label='Coulomb')\n",
    "ax.plot(plasma.hnc.r_array, plasma.qsp.βv_Yukawa(plasma.hnc.r_array),'k--', label='Yukawa')\n",
    "\n",
    "# Models\n",
    "for i, (color, Rc, plasma) in enumerate(zip(colors, α_list, plasma_list)):\n",
    "    if i>8:\n",
    "        continue\n",
    "    plasma.hnc.invert_HNC_OZ([1])\n",
    "    ax.plot(plasma.hnc.r_array, plasma.hnc.βueff_r_matrix[0,0],'-', color=color,label=r\"$R_c$ = {0:.2f}\".format(Rc))\n",
    "\n",
    "# ax.set_title(r\"$R_c = {}$\".format(Rc),fontsize=20)\n",
    "# ax.set_xlim(None,6)\n",
    "# ax.set_ylim(1e-4,1e1)\n",
    "ax.set_ylabel(r'$\\beta u^{\\text{eff}}_{ii}$',fontsize=20)\n",
    "ax.set_xlabel(r'$r/r_i$ ',fontsize=20)\n",
    "ax.tick_params(labelsize=20)\n",
    "ax.set_yscale('symlog', linthresh=1)\n",
    "ax.set_xscale('log')\n",
    "# ax.set_yscale('log')\n",
    "\n",
    "ax.legend(fontsize=15)"
   ]
  },
  {
   "cell_type": "markdown",
   "id": "7e947eb9-84bd-49bf-8c74-f396aaee8fd4",
   "metadata": {},
   "source": [
    "### Large r oscillations"
   ]
  },
  {
   "cell_type": "code",
   "execution_count": null,
   "id": "3ac0fead-65dc-4667-8196-5754e196f21c",
   "metadata": {
    "tags": []
   },
   "outputs": [],
   "source": [
    "# AA_data = read_csv(\"/home/zach/plasma/atoMEC/examples/density.csv\", delim_whitespace=True, header=0)\n",
    "\n",
    "fig, ax = plt.subplots(figsize=(10,8))\n",
    "# nf_0 = Zbar/(4/3*np.pi*atom.qsp.ri**3)\n",
    "# ax.plot(AA_data['r[a_0]'], np.array(AA_data['n[unbound]'])/nf_0,'k.' ,label=\"AA\" )\n",
    "# ax.plot(atom_2e.hnc.r_array*atom_2e.qsp.ri, atom_2e.hnc.h_r_matrix[0,0]+1,'--', label='2 electron SVT ')\n",
    "# ax.plot(atom1.hnc.r_array, atom1.hnc.h_r_matrix[0,0]+1,'--', label='Ashcroft Pseudopotential')\n",
    "ax.plot(atom1.hnc.r_array, atom1.hnc.h_r_matrix[0,0],'--', label='OZ - HNC Pauli (AA bound)')\n",
    "ax.plot(atom2.hnc.r_array, atom2.hnc.h_r_matrix[0,0],'--', label='SVT- HNC Pauli (AA bound)')\n",
    "# ax.plot(atom3.hnc.r_array, atom3.hnc.h_r_matrix[0,0],'--', label='SVT- HNC Pauli (pointlike bound)')\n",
    "# ax.plot(atom4.hnc.r_array, atom4.hnc.h_r_matrix[0,0]+1,'--', label='OZ- HNC Pauli (pointlike bound, core-core)')\n",
    "# ax.plot(atom5.hnc.r_array, atom5.hnc.h_r_matrix[0,0]+1,'--', label='SVT- HNC Pauli (pointlike bound, core-core)')\n",
    "# ax.plot(atom_long.hnc.r_array, atom_long.hnc.h_r_matrix[0,0]+1,'-.', label='1 electron SVT-long ')\n",
    "# ax.plot(atom_oz.hnc.r_array, atom_oz.hnc.h_r_matrix[0,0]+1,'--', label='1 electron OZ ')\n",
    "# ax.plot(atom.hnc.r_array, atom_oz.onlyion_hnc.h_r_matrix[0,0]+1,'--', label='Only Ion')\n",
    "ax.plot(MD_data['r'], MD_data['g']-1, label='VASP')\n",
    "\n",
    "# ax.plot(atom_oz.hnc.r_array*atom_oz.qsp.ri, atom_oz.hnc.h_r_matrix[0,0]+1,'--', label='my OZ CHNC')\n",
    "\n",
    "ax.set_xlim(0,10)\n",
    "ax.set_ylabel(r'$g_{ii}$',fontsize=20)\n",
    "ax.set_xlabel(r'$r$ [A.U.]',fontsize=20)\n",
    "ax.tick_params(labelsize=20)\n",
    "ax.set_yscale('symlog', linthresh=0.0001)\n",
    "\n",
    "# [i.set_linewidth(0.1) for i in ax.spines.itervalues()]\n",
    "ax.legend(fontsize=15)"
   ]
  },
  {
   "cell_type": "code",
   "execution_count": null,
   "id": "6b9f15b2-63c4-4cd4-b53a-b5c82da1e08a",
   "metadata": {
    "tags": []
   },
   "outputs": [],
   "source": [
    "# np.savetxt(f\"/home/zach/plasma/hnc/TCCW/data/dcf_data/{name}_{Ti_eV:0.2e}eV_rs{ri_AU:0.3f}_oz-hnc-Pauli-bound-dist_c_k_matrix.csv\", atom1.hnc.c_k_matrix.reshape(4,atom1.hnc.N_bins))\n",
    "# np.savetxt(f\"/home/zach/plasma/hnc/TCCW/data/dcf_data/{name}_{Ti_eV:0.2e}eV_rs{ri_AU:0.3f}_svt-hnc-softAshcroft-Rc0p2_c_k_matrix.csv\", atom2.hnc.c_k_matrix.reshape(4,atom2.hnc.N_bins))\n",
    "# np.savetxt(f\"/home/zach/plasma/hnc/TCCW/data/dcf_data/{name}_{Ti_eV:0.2e}eV_rs{ri_AU:0.3f}_svt-hnc-Pauli-bound-point_c_k_matrix.csv\", atom3.hnc.c_k_matrix.reshape(4,atom3.hnc.N_bins))"
   ]
  },
  {
   "cell_type": "code",
   "execution_count": null,
   "id": "4e80c29c-6538-4c6f-895b-6b8bec5dea02",
   "metadata": {
    "tags": []
   },
   "outputs": [],
   "source": [
    "# AA_data = read_csv(\"/home/zach/plasma/atoMEC/examples/density.csv\", delim_whitespace=True, header=0)\n",
    "\n",
    "fig, ax = plt.subplots(figsize=(10,8))\n",
    "\n",
    "# Model Comparison\n",
    "for i, (color, Rc, plasma) in enumerate(zip(colors, Rc_list, plasma_list)):\n",
    "    if i>8:\n",
    "        continue\n",
    "    ax.plot(plasma.hnc.r_array, plasma.hnc.h_r_matrix[0,0]+1,'-', color=color)#,label=r\"$R_c$ = {0:.2f}\".format(Rc))\n",
    "    ax.plot(plasma.hnc.r_array, plasma.hnc.h_r_matrix[0,1]+1,'--', color=color)#,label=r\"$R_c$ = {0:.2f}\".format(Rc))\n",
    "    ax.plot(plasma.hnc.r_array, plasma.hnc.h_r_matrix[1,1]+1,'-.', color=color)#,label=r\"$R_c$ = {0:.2f}\".format(Rc))\n",
    "    \n",
    "\n",
    "ax.plot(MD_data['r'], MD_data['g'], 'k-',label='VASP')\n",
    "\n",
    "# ax.plot(atom_oz.hnc.r_array*atom_oz.qsp.ri, atom_oz.hnc.h_r_matrix[0,0]+1,'--', label='my OZ CHNC')\n",
    "\n",
    "ax.set_xlim(0,3)\n",
    "ax.set_ylabel(r'$g_{ii}$',fontsize=20)\n",
    "ax.set_xlabel(r'$r$ [A.U.]',fontsize=20)\n",
    "ax.tick_params(labelsize=20)\n",
    "ax.set_yscale('symlog', linthresh=2)\n",
    "ax.set_ylim(0,None)\n",
    "# [i.set_linewidth(0.1) for i in ax.spines.itervalues()]\n",
    "ax.legend(fontsize=15)"
   ]
  },
  {
   "cell_type": "markdown",
   "id": "14efd131-bb46-4303-8313-9ea9d7ebfa37",
   "metadata": {
    "tags": []
   },
   "source": [
    "### Bound and Free state Examination"
   ]
  },
  {
   "cell_type": "code",
   "execution_count": null,
   "id": "7b00fddc-bff8-4871-9785-08b5115cf991",
   "metadata": {
    "tags": []
   },
   "outputs": [],
   "source": [
    "bound_file = \"/home/zach/plasma/hnc/TCCW/data/Al_rs_3.000_T_1.000e+00eV.csv\"\n",
    "AA_data = read_csv(bound_file, delim_whitespace=True, header=0)\n",
    "AA_r_AU_full = np.array(AA_data['r[a_0]'])\n",
    "AA_nb_AU_full = np.array(AA_data['n(bound)'])\n",
    "\n",
    "# Only use some values for speed\n",
    "min_r_to_use = 0.2*atom.hnc.r_array[0]*atom.qsp.ri # in AU\n",
    "indcs = np.where(AA_r_AU_full > min_r_to_use)\n",
    "AA_r_AU = AA_r_AU_full[indcs]\n",
    "AA_nb_AU = AA_nb_AU_full[indcs]\n",
    "\n",
    "# Plot bound states\n",
    "fig, ax = plt.subplots(figsize=(8,6))\n",
    "\n",
    "ax.plot(AA_r_AU_full/atom.qsp.ri*2, 4*π*AA_nb_AU_full*AA_r_AU_full**2)\n",
    "# ax.plot(AA_r_AU_full/atom.qsp.ri, AA_nb_AU_full)\n",
    "ax.plot(atom2.hnc.r_array, (atom2.hnc.h_r_matrix[0,0]+1) )\n",
    "ax.plot(atom2.hnc.r_array*2, 4*π*atom2.hnc.r_array**2*(atom2.hnc.h_r_matrix[0,1]+1) )\n",
    "# ax.plot(atom2.hnc.r_array, 4*π*(atom2.hnc.r_array*atom2.qsp.ri)**2*(atom2.hnc.h_r_matrix[0,1]+1)*(atom2.hnc.rho[1]/atom2.qsp.ri**3),'--', label='HNC bound Pauli')\n",
    "ax.axvspan(AA_r_AU_full[0]/atom.qsp.ri, min_r_to_use/atom.qsp.ri, color='k', alpha=0.1)\n",
    "ax.set_xlabel(r'$r/r_i$')\n",
    "ax.set_ylabel(r'$4 \\pi n_b r^2$ [AU]')\n",
    "# ax.set_xscale('log')\n",
    "ax.set_xlim(np.min(AA_r_AU_full/atom.qsp.ri), 2*np.max(AA_r_AU_full/atom.qsp.ri))\n",
    "ax.set_ylim(0, 15)\n"
   ]
  },
  {
   "cell_type": "markdown",
   "id": "a24f12c8-f572-4819-8d10-3d249732bf9b",
   "metadata": {},
   "source": [
    "## Born Green Viscocity\n",
    "See [Morioka 2004](https://www.sciencedirect.com/science/article/pii/S0022309304003692)\n",
    "\n",
    "\\begin{align}\n",
    "η = f_{BG} \\frac{2 \\pi}{15} \\left(\\frac{M}{RT} \\right)^{1/2} \\frac{n^2}{N_a} \\int^\\infty_0 g(r) \\frac{d\\phi}{dr}r^4 dr\n",
    "\\end{align}\n",
    "Resulting units is Pa s\n"
   ]
  },
  {
   "cell_type": "code",
   "execution_count": null,
   "id": "e06013a0-539a-4b40-8672-e36e74567909",
   "metadata": {
    "tags": []
   },
   "outputs": [],
   "source": [
    "from scipy.integrate import simpson\n",
    "\n",
    "def get_ηBG(plasma):\n",
    "    plasma.hnc.invert_HNC_OZ([1])\n",
    "    fBG = -1\n",
    "    n_AU = n_from_rs(plasma.qsp.ri)\n",
    "    r_array = plasma.hnc.r_array*plasma.qsp.ri\n",
    "    gii = plasma.hnc.h_r_matrix[0,0]+1\n",
    "    dφdr = plasma.qsp.Ti*np.gradient(plasma.hnc.βueff_r_matrix[0,0], r_array)\n",
    "\n",
    "    integrand = r_array**4 * gii * dφdr\n",
    "    ##\n",
    "    fig, ax = plt.subplots()\n",
    "    ax.plot(r_array, dφdr*r_array**4)\n",
    "    ###\n",
    "    integral = simpson(integrand, x=r_array)\n",
    "    η = fBG* 2*π/15 * (plasma.qsp.βi*plasma.qsp.m_i)**0.5*n_AU**2*integral\n",
    "    return η\n",
    "\n",
    "η_SI = get_ηBG(atom2)*AU_to_Pa*AU_to_s # Pa s = kg m^-1 s^-1 \n",
    "print(f\"SI: η = {η_SI:0.3e} [kg m^-1 s^-1] (or [Pa s])\")\n",
    "η_cgs = η_SI * 1000/100 # g cm^-1 s^-1\n",
    "print(f\"CGS: η = {η_cgs:0.3e} [g cm^-1 s^-1]\")"
   ]
  },
  {
   "cell_type": "code",
   "execution_count": null,
   "id": "1d208743",
   "metadata": {},
   "outputs": [],
   "source": [
    "Zbar_list  = np.linspace(3,Zbar, num=100)\n",
    "# Zbar_list = [1,3]\n",
    "atom_list= []\n",
    "for i, Zbar_i in enumerate(Zbar_list):\n",
    "    print(\"Zbar = {0:.3f}\".format( Zbar_i ))\n",
    "    \n",
    "    atom = CMEP_Atom(Z, A, ni_cc, Ti_eV, Te_eV, Zbar=Zbar_i, \n",
    "                 βu_options = {'add_bridge':True}, \n",
    "                 qsp_options={'r_c':r_c},\n",
    "                 hnc_options={'kappa_multiscale':10},\n",
    "                 hnc_solve_options={'alpha_Picard':0.5})\n",
    "    if i>=1:\n",
    "        Z2_matrix = [[Zbar_list[i]]]\n",
    "        guess_2 = \n",
    "        c_s_k_guess = atom_list[-1].hnc.c_s_k_matrix\n",
    "        c_s_k_guess[0,0] *= (Zbar_list[i]/Zbar_list[i-1])**2 \n",
    "        c_s_k_guess[0,1] *= (Zbar_list[i]/Zbar_list[i-1])**1 \n",
    "        c_s_k_guess[1,0] *= (Zbar_list[i]/Zbar_list[i-1])**1\n",
    "#         c_s_k_guess[0,0] *= 0\n",
    "    else:\n",
    "        c_s_k_guess *=0\n",
    "    atom.run_hnc(c_s_k_guess=c_s_k_guess)\n",
    "    atom_list.append( atom )"
   ]
  },
  {
   "cell_type": "code",
   "execution_count": null,
   "id": "33cb4d79",
   "metadata": {},
   "outputs": [],
   "source": [
    "fig, axs = plt.subplots(2, 2, facecolor='w', figsize=(10,8) )\n",
    "\n",
    "atom3_guess = atom2.hnc.c_s_k_matrix + (atom2.hnc.c_s_k_matrix-atom1.hnc.c_s_k_matrix)/(2-1)*(3-2) \n",
    "atom3_guess = atom2.hnc.c_s_k_matrix + (atom2.hnc.c_s_k_matrix/atom1.hnc.c_s_k_matrix)/(2-1)*(3-2) \n",
    "\n",
    "for i in range(2):\n",
    "    for j in range(2):\n",
    "        for k, atom in enumerate(atom_list):\n",
    "            color = plt.cm.viridis(k/len(atom_list))\n",
    "            Z_factor = (Zbar_list[0]/Zbar_list[k])**-1\n",
    "            axs[i, j].plot(atom.hnc.r_array, atom.hnc.c_s_k_matrix[i,j], '--',label= \"Zbar\", color= color)\n",
    "            axs[i, j].plot(atom.hnc.r_array, Z_factor*atom_list[0].hnc.c_s_k_matrix[i,j],'.', label= \"Zbar\", color= color)\n",
    "#             axs[i, j].plot(atom.hnc.r_array, atom2.hnc.c_s_k_matrix[i,j], label= \"Zbar=2\")\n",
    "#             axs[i, j].plot(atom.hnc.r_array, atom6.hnc.c_s_k_matrix[i,j], label= \"Zbar=6\")\n",
    "#         axs[i, j].plot(atom2.hnc.r_array, atom2.hnc.c_s_k_matrix[i,j]-atom1.hnc.c_s_k_matrix[i,j], label= \"Zbar=2/1\")\n",
    "#         axs[i, j].plot(atom2.hnc.r_array, atom3.hnc.c_s_k_matrix[i,j]-atom2.hnc.c_s_k_matrix[i,j], label= \"Zbar=3/2\")\n",
    "#         axs[i, j].plot(atom2.hnc.r_array, atom3_guess[i,j] , 'k--', label= \"Zbar=3 (guess)\")\n",
    "        \n",
    "#         axs[i, j].plot(atom3.hnc.r_array, atom3.hnc.c_s_k_matrix[i,j],'k', label= \"Zbar=3\")\n",
    "#         axs[i, j].plot(atom100.hnc.r_array, atom80.hnc.c_s_k_matrix[i,j]-100/80*atom100.hnc.c_s_k_matrix[i,j], label= \"80/100 eV\")\n",
    "#         axs[i, j].plot(atom100.hnc.r_array, atom60.hnc.c_s_k_matrix[i,j], label= \"60 eV\")\n",
    "         \n",
    "#         axs[i, j].plot(atom100.hnc.r_array, T_rescale[i,j]*atom100.hnc.c_s_k_matrix[i,j], label= \"rescaled 100 eV\")\n",
    "        \n",
    "        axs[i,j].set_xscale('log')\n",
    "#         axs[i, j].set_yscale('symlog', linthresh=0.1)\n",
    "#         axs[i, j].legend()\n",
    "        \n",
    "plt.tight_layout()"
   ]
  },
  {
   "cell_type": "code",
   "execution_count": null,
   "id": "f17f101c",
   "metadata": {},
   "outputs": [],
   "source": []
  },
  {
   "cell_type": "code",
   "execution_count": null,
   "id": "2f659b61",
   "metadata": {},
   "outputs": [],
   "source": [
    "atom.get_cp(ε_derivative=1e-6, ε_table=1e-1, N_table= 2 )"
   ]
  },
  {
   "cell_type": "code",
   "execution_count": null,
   "id": "e66d6294",
   "metadata": {},
   "outputs": [],
   "source": [
    "fig, ax = plt.subplots()\n",
    "\n",
    "# ax.plot(atom.hnc.r_array, atom.hnc.βueff_r_matrix[0,0])\n",
    "ax.plot(atom.hnc.r_array, atom.hnc.h_r_matrix[0,0]+1)\n",
    "# ax.set_yscale('symlog', linthresh=1)"
   ]
  },
  {
   "cell_type": "markdown",
   "id": "935642fe",
   "metadata": {},
   "source": [
    "###### Hydrogen H1\n",
    "\n",
    "c_p = 1.667e+08 [J/m^3/K] = 1.667e+09 [erg/cc/K]\n",
    "\n",
    "\n",
    "c_p^ideal = 2.064e+07 [J/m^3/K] = 2.064e+08 [erg/cc/K]\n",
    "\n",
    "c_v = 1.229e+08 [J/m^3/K] = 1.229e+09 [erg/cc/K]\n",
    "\n",
    "\n",
    "γ = cp/cv = 1.357e+00\n",
    "\n",
    "###### Aluminum Al1\n",
    "\n",
    "c_p = 5.560e+06 [J/m^3/K] = 5.560e+07 [erg/cc/K]\n",
    "\n",
    "c_p^ideal = 2.081e+06 [J/m^3/K] = 2.081e+07 [erg/cc/K]\n",
    "\n",
    "c_v = 3.559e+06 [J/m^3/K] = 3.559e+07 [erg/cc/K]\n",
    "\n",
    "c_p_over_nkB = 6.678\n",
    "\n",
    "c_v_over_nkB = 4.275\n",
    "\n",
    "γ = cp/cv = 1.562e+00\n",
    "\n",
    "##### Carbon C1\n",
    "\n",
    "c_p = 1.005e+09 [J/m^3/K] = 1.005e+10 [erg/cc/K]\n",
    "\n",
    "c_p^ideal = 1.729e+07 [J/m^3/K] = 1.729e+08 [erg/cc/K]\n",
    "\n",
    "c_v = 7.410e+08 [J/m^3/K] = 7.410e+09 [erg/cc/K]\n",
    "\n",
    "γ = cp/cv = 1.357e+00\n",
    "\n",
    "##### Copper Cu1\n",
    "c_p = 6.829e+07 [J/m^3/K] = 6.829e+08 [erg/cc/K]\n",
    "\n",
    "c_p^ideal = 2.930e+06 [J/m^3/K] = 2.930e+07 [erg/cc/K]\n",
    "\n",
    "c_v = 4.460e+07 [J/m^3/K] = 4.460e+08 [erg/cc/K]\n",
    "\n",
    "γ = cp/cv = 1.531e+00"
   ]
  },
  {
   "cell_type": "code",
   "execution_count": null,
   "id": "ed15670f",
   "metadata": {},
   "outputs": [],
   "source": [
    "# Compare to Ichimaru\n",
    "n_AU = ni_cc * (1e2*aB)**3\n",
    "E_over_nkBT = atom.U/( Te*N )\n",
    "P_over_nkBT = atom.P/(Te*n_AU)\n",
    "c_p_over_nkB = C_p_AU/N #c_p_SI_vol/k_B/(ni_cc*1e6)\n",
    "E_over_nkBT, P_over_nkBT, c_p_over_nkB  "
   ]
  },
  {
   "cell_type": "code",
   "execution_count": null,
   "id": "9ff1fa55",
   "metadata": {},
   "outputs": [],
   "source": [
    "# 2x2\n",
    "#(16.078004224152146, 7.958852940677674, 20.391840227664225)\n",
    "# 3x3\n",
    "#(17.29156071613095, 9.41653222069282, 19.954770080816058)\n",
    "# 4x4\n",
    "#(17.29156071613095, 9.41653222069282, 20.31577883096223)\n",
    "# 6x6\n",
    "#(17.29156071613095, 9.41653222069282, 20.341775951597302)\n",
    "\n"
   ]
  },
  {
   "cell_type": "code",
   "execution_count": null,
   "id": "f9d9c237",
   "metadata": {},
   "outputs": [],
   "source": [
    "#cp units are J/K/m^3"
   ]
  },
  {
   "cell_type": "code",
   "execution_count": null,
   "id": "d6eba82d",
   "metadata": {},
   "outputs": [],
   "source": [
    "c_p_SI_vol *J_to_erg*1e-6 # from J/K/m^3 to erg/K/cc"
   ]
  },
  {
   "cell_type": "code",
   "execution_count": null,
   "id": "6c123c08",
   "metadata": {},
   "outputs": [],
   "source": [
    "(c_p_over_nkB*ni_cc * k_B*1e6)/1e8 # in erg/"
   ]
  },
  {
   "cell_type": "code",
   "execution_count": null,
   "id": "933aa883",
   "metadata": {},
   "outputs": [],
   "source": [
    "# Ideal\n",
    "# (1.503495387998133, 1.0020009999999997, 2.5033223241241656)\n"
   ]
  },
  {
   "cell_type": "markdown",
   "id": "03443a5d",
   "metadata": {
    "tags": []
   },
   "source": [
    "# βu_eff matching"
   ]
  },
  {
   "cell_type": "code",
   "execution_count": null,
   "id": "ed1cfac5",
   "metadata": {},
   "outputs": [],
   "source": [
    "from pandas import read_csv\n",
    "from scipy.interpolate import interp1d\n",
    "# luke_file = '/home/zach/plasma/atomic_forces/data/Al_T0p5_tab.lammps.PAIR'\n",
    "luke_file = '/home/zach/plasma/atomic_forces/data/Al_T1_tab.lammps.PAIR'\n",
    "\n",
    "luke_data = read_csv(luke_file ,delim_whitespace=True,header=3, names=['r [A]','V [eV]','F [eV/A]'])\n",
    "# luke_r, luke_βV = 1e-10/aB/r_s*luke_data['r [A]'], 1/(Te/eV)*luke_data['V [eV]']\n",
    "luke_r, luke_βV = 1e-8/r_s*luke_data['r [A]'], 1/(Te/eV)*luke_data['V [eV]']\n",
    "luke_βV_function = interp1d(luke_r, luke_βV,fill_value='extrapolate',bounds_error=False)"
   ]
  },
  {
   "cell_type": "code",
   "execution_count": null,
   "id": "88547e04",
   "metadata": {},
   "outputs": [],
   "source": [
    "from scipy.optimize import curve_fit\n",
    "\n",
    "class βu_fit():\n",
    "    def __init__(self, func, r_array, y_data, initial_guess):\n",
    "        self.r = r_array\n",
    "        self.y = y_data\n",
    "        self.y_vals = curve_fit(func, r_array, y_data, maxfev=int(1e5), p0=initial_guess)\n",
    "        self.y_fit  = func(r_array, *self.y_vals[0])\n",
    "        self.err = np.linalg.norm(self.y_fit-self.y)\n",
    "        print(func.__name__ + \" error: {0:.3e} \".format(self.err))\n",
    "\n",
    "def yukawa_plus(r, a, b, c, d):\n",
    "    return  a/r*np.exp(-b*r)/(1+np.exp(c*(r-d)))\n",
    "\n",
    "def yukawa_plus_gaussian(r, a ,b ,c, d ,e, f, g):\n",
    "    return  a/r*np.exp(-b*r)/(1+np.exp(c*(r-d))) + e*np.exp(-(f-r)**2/g)\n",
    "\n",
    "def yukawa_plus_cos(r, a ,b ,c, d , h, i, j, k, l):\n",
    "    return  a/r*np.exp(-b*r)/(1+np.exp(c*(r-d))) + h*np.cos((r-i)*j*np.exp(-k*r))*np.exp(-l*r)\n",
    "\n",
    "def yukawa_plus_gaussian_cos(r, a ,b ,c, d ,e, f, g, h, i, j, k, l):\n",
    "    return  a/r*np.exp(-b*r)/(1+np.exp(c*(r-d))) + e*np.cos((r-f)*g*np.exp(-h*r))*np.exp(-i*r) + j*np.exp(-(k-r)**2/l)\n"
   ]
  },
  {
   "cell_type": "code",
   "execution_count": null,
   "id": "01e47bb9",
   "metadata": {},
   "outputs": [],
   "source": [
    "atom = atom_highres"
   ]
  },
  {
   "cell_type": "code",
   "execution_count": null,
   "id": "1b257ec4",
   "metadata": {},
   "outputs": [],
   "source": [
    "atom.invert_HNC_OZ([1])\n",
    "fit1 = βu_fit(yukawa_plus, atom.r_array, atom.βueff_r_matrix[0,0], initial_guess=[   atomqsp.Γii, atomqsp.get_κ(),2 , 1])\n",
    "try: \n",
    "    fit2 = βu_fit(yukawa_plus_cos, atom.r_array, atom.βueff_r_matrix[0,0], initial_guess=[  *fit1.y_vals[0], 1, 0.01, 1 , 10, 2])\n",
    "except:\n",
    "    pass\n",
    "try:\n",
    "    fit3 = βu_fit(yukawa_plus_gaussian_cos, atom.r_array, atom.βueff_r_matrix[0,0], initial_guess=[  *fit2.y_vals[0], -1, 1.9, 1])\n",
    "except:\n",
    "    pass"
   ]
  },
  {
   "cell_type": "code",
   "execution_count": null,
   "id": "515a162b",
   "metadata": {},
   "outputs": [],
   "source": [
    "luke_r"
   ]
  },
  {
   "cell_type": "code",
   "execution_count": null,
   "id": "f90a68e6",
   "metadata": {},
   "outputs": [],
   "source": [
    "fig, ax = plt.subplots(figsize=(8,6),facecolor='w')\n",
    "fig.suptitle(r\"{0} $T=${1:.1f} eV, $r_i$={2:.2f}\".format(case_id, Te/eV, atomqsp.ri), fontsize=20)\n",
    "\n",
    "\n",
    "yukawa_matrix = (atom.Gamma[:,:,np.newaxis]/atom.r_array * np.exp(-atom.r_array*atomqsp.get_κ())[np.newaxis,np.newaxis,:] ) [:-1,:-1]\n",
    "coulomb_matrix = (atom.Gamma[:,:,np.newaxis]/atom.r_array) [:-1,:-1]\n",
    "\n",
    "ax.plot(atom.r_array, atom.βu_r_matrix[0,0], 'k--',label='Initial')\n",
    "ax.plot(atom.r_array, yukawa_matrix[0,0],'k-.', label=\"Yukawa\")\n",
    "\n",
    "ax.plot(atom.r_array, atom.βueff_r_matrix[0,0],color=colors[0], label='Effective')    \n",
    "ax.plot(luke_r, luke_βV,'r-', label='Luke Force Match')\n",
    "\n",
    "ax.set_ylim(np.min([-10, 2*np.min(atom.βueff_r_matrix[0,0])]), np.max([1e3, 2*np.max(atom.βueff_r_matrix[0,0])]))\n",
    "ax.tick_params(labelsize=20)\n",
    "ax.set_xlabel(r\"$r/r_s$\",fontsize=20)\n",
    "ax.set_ylabel(r'$\\beta u(r/r_s)$',fontsize=20)\n",
    "ax.set_xlabel(r'$r/r_s$',fontsize=20)\n",
    "\n",
    "ax.set_xlim(0, 5)\n",
    "ax.set_yscale('symlog',linthresh=1)\n",
    "ax.tick_params(labelsize=15)\n",
    "ax.legend(fontsize=10)\n",
    "fig.tight_layout()"
   ]
  },
  {
   "cell_type": "code",
   "execution_count": null,
   "id": "5ae27008",
   "metadata": {},
   "outputs": [],
   "source": []
  },
  {
   "cell_type": "code",
   "execution_count": null,
   "id": "ad78ee98",
   "metadata": {},
   "outputs": [],
   "source": []
  },
  {
   "cell_type": "code",
   "execution_count": null,
   "id": "7bf70745",
   "metadata": {},
   "outputs": [],
   "source": []
  }
 ],
 "metadata": {
  "kernelspec": {
   "display_name": "Python 3 (ipykernel)",
   "language": "python",
   "name": "python3"
  },
  "language_info": {
   "codemirror_mode": {
    "name": "ipython",
    "version": 3
   },
   "file_extension": ".py",
   "mimetype": "text/x-python",
   "name": "python",
   "nbconvert_exporter": "python",
   "pygments_lexer": "ipython3",
   "version": "3.10.6"
  }
 },
 "nbformat": 4,
 "nbformat_minor": 5
}
