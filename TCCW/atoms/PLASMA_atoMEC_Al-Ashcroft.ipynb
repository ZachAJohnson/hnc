{
 "cells": [
  {
   "cell_type": "markdown",
   "id": "415426e0",
   "metadata": {},
   "source": [
    "# Import"
   ]
  },
  {
   "cell_type": "code",
   "execution_count": 1,
   "id": "2e5c11ba",
   "metadata": {
    "tags": []
   },
   "outputs": [
    {
     "name": "stdout",
     "output_type": "stream",
     "text": [
      "ModuleNotFoundError: No module named 'mendeleev'\n"
     ]
    },
    {
     "data": {
      "text/html": [
       "\n",
       "<style>\n",
       ".output_png {\n",
       "    display: table-cell;\n",
       "    text-align: center;\n",
       "    vertical-align: middle;\n",
       "}\n",
       "\n",
       "</style>\n"
      ],
      "text/plain": [
       "<IPython.core.display.HTML object>"
      ]
     },
     "execution_count": 1,
     "metadata": {},
     "output_type": "execute_result"
    }
   ],
   "source": [
    "import numpy as np\n",
    "import matplotlib.pyplot as plt\n",
    "from pandas import read_csv\n",
    "\n",
    "from hnc.hnc.PIE import Plasma_of_Ions_and_Electrons as PLASMA\n",
    "\n",
    "from hnc.hnc.constants import *\n",
    "from hnc.hnc.misc import n_from_rs, rs_from_n\n",
    "\n",
    "from pandas import read_csv\n",
    "\n",
    "prop_cycle = plt.rcParams['axes.prop_cycle']\n",
    "colors = prop_cycle.by_key()['color']\n",
    "                \n",
    "from IPython.core.display import HTML\n",
    "HTML(\"\"\"\n",
    "<style>\n",
    ".output_png {\n",
    "    display: table-cell;\n",
    "    text-align: center;\n",
    "    vertical-align: middle;\n",
    "}\n",
    "\n",
    "</style>\n",
    "\"\"\")\n"
   ]
  },
  {
   "cell_type": "markdown",
   "id": "01048544",
   "metadata": {},
   "source": [
    "# Function that sets up HNC QSP "
   ]
  },
  {
   "cell_type": "markdown",
   "id": "c961fbc5-d0c8-45ea-b238-9e611ea79173",
   "metadata": {},
   "source": [
    "### Create and run plasma"
   ]
  },
  {
   "cell_type": "code",
   "execution_count": 2,
   "id": "ca58c435",
   "metadata": {
    "tags": []
   },
   "outputs": [],
   "source": [
    "name='Al'\n",
    "Z, A = 13, 27\n",
    "mi = m_p * A\n",
    "ρ_gpercc =  2.7 \n",
    "ni_cc = ρ_gpercc/(mi*AU_to_g)\n",
    "ri_cm = rs_from_n(ni_cc)\n",
    "ri_AU = ri_cm*cm_to_AU\n",
    "\n",
    "Te_eV = 1\n",
    "Ti_eV = 1\n",
    "\n",
    "ri_AU\n",
    "Zbar = 3"
   ]
  },
  {
   "cell_type": "markdown",
   "id": "bb89b469-e9f3-4ba9-bb07-defe0c60eea4",
   "metadata": {},
   "source": [
    "### Make βu_ii, βu_fi from using bound density from AA\n",
    "If we assume the bound state does not deform at all, then we can calculate potentials based on it easily via integration"
   ]
  },
  {
   "cell_type": "markdown",
   "id": "3808a279-aa7e-458b-9781-8b8b2671681f",
   "metadata": {},
   "source": [
    "### Solving"
   ]
  },
  {
   "cell_type": "code",
   "execution_count": 3,
   "id": "e0a95006-3690-4761-a8eb-d1f49eacda29",
   "metadata": {
    "scrolled": true,
    "tags": []
   },
   "outputs": [],
   "source": [
    "from scipy.optimize import least_squares\n",
    "from scipy.interpolate import interp1d\n",
    "\n",
    "def custom_flat(hnc_matrix):\n",
    "    hnc_flat = np.concatenate([hnc_matrix[0,0],hnc_matrix[0,1],hnc_matrix[1,1]])\n",
    "    return hnc_flat\n",
    "\n",
    "def custom_unflat(hnc_flat):\n",
    "    hnc00, hnc01, hnc11 = np.split(hnc_flat,3)\n",
    "    hnc_matrix = np.zeros((2,2,len(hnc00)))\n",
    "    hnc_matrix[0,0] = hnc00\n",
    "    hnc_matrix[1,0] = hnc01\n",
    "    hnc_matrix[0,1] = hnc01\n",
    "    hnc_matrix[1,1] = hnc11\n",
    "    return hnc_matrix\n",
    "\n",
    "def solve_least_squares(plasma, sparse_k_array, c_s_k_guess=None, ftol=1e-8):\n",
    "    if c_s_k_guess is None:\n",
    "        c_s_k_guess = plasma.hnc.c_s_k_matrix\n",
    "\n",
    "    # Create functions for converting between sparse, not sparse and flattened versions of c_s_k\n",
    "    get_sparse_csk = lambda c_s_k_flat: np.concatenate([interp1d(plasma.hnc.k_array, c_s_k)(sparse_k_array) for c_s_k in np.split(c_s_k_flat,3) ])\n",
    "    get_csk = lambda sparse_hnc_csk: interp1d(sparse_k_array, sparse_hnc_csk, kind='cubic')(plasma.hnc.k_array)\n",
    "    get_csk_matrix_from_sparse_csk_flat =  lambda sparse_c_s_k_flat: custom_unflat(np.concatenate([get_csk(sparse_csk) for sparse_csk in np.split(sparse_c_s_k_flat,3)]))\n",
    "    \n",
    "    def min_function(sparse_c_s_k_flat):\n",
    "        c_s_k_matrix = get_csk_matrix_from_sparse_csk_flat(sparse_c_s_k_flat)\n",
    "        new_c_s_k_matrix = plasma.hnc.guess_c_s_k_matrix(c_s_k_matrix)\n",
    "        plasma.hnc.c_s_k_matrix = new_c_s_k_matrix.copy()\n",
    "        new_c_s_k_flat = custom_flat(new_c_s_k_matrix)\n",
    "        return sparse_c_s_k_flat - get_sparse_csk(new_c_s_k_flat)\n",
    "    \n",
    "    c_s_k_flat_guess = custom_flat(c_s_k_guess)\n",
    "    c_s_k_sparse_guess = get_sparse_csk(c_s_k_flat_guess)\n",
    "    sol = least_squares(min_function, c_s_k_sparse_guess, verbose=2, ftol=ftol)#, bounds = c_s_k_bounds)\n",
    "    plasma.hnc.c_s_k_matrix = get_csk_matrix_from_sparse_csk_flat(sol.x)\n",
    "    plasma.hnc.set_all_matrices_from_csk(plasma.hnc.c_s_k_matrix)\n",
    "    print(sol)\n",
    "\n",
    "def best_shift(plasma, guess_c_s_k, ftol=1e-8, set=True):\n",
    "    \n",
    "    def min_function(multiplier_list):\n",
    "        xii, xei, xee = multiplier_list\n",
    "        multiplier_matrix = np.array([[xii,xei],[xei,xee]])\n",
    "        c_s_k_matrix = multiplier_matrix[:,:,np.newaxis] * guess_c_s_k\n",
    "        new_c_s_k_matrix = plasma.hnc.guess_c_s_k_matrix(c_s_k_matrix)\n",
    "        \n",
    "        return c_s_k_matrix.flatten() - new_c_s_k_matrix.flatten()\n",
    "    \n",
    "    sol = least_squares(min_function, np.ones((3)) , verbose=2, ftol=ftol)#, bounds = c_s_k_bounds)\n",
    "    xii, xei, xee = sol.x\n",
    "    multiplier_matrix = np.array([[xii,xei],[xei,xee]])\n",
    "    \n",
    "    plasma.hnc.c_s_k_matrix = multiplier_matrix[:,:,np.newaxis] * guess_c_s_k\n",
    "    print(sol)\n",
    "    return sol"
   ]
  },
  {
   "cell_type": "markdown",
   "id": "cba9d711-f4d4-4ff4-b50b-467fc7784ce7",
   "metadata": {},
   "source": [
    "### Testing Ashcroft Smoothed\n",
    "The regular ashcroft potential is \n",
    "$$ \\beta v^A_{ei} = \n",
    "\\left\\{\\begin{array}{ll}\n",
    " -\\alpha \\bar{Z}/R_c &  r<= R_c \\\\ \n",
    " -\\bar{Z}/r & r > R_c\n",
    "\\end{array}\\right\\}\n",
    "$$\n",
    "\n",
    "or in k-space\n",
    "$$\n",
    "\\beta \\tilde{v}^A_{ei} = -\\frac{4\\pi\\bar{Z}}{k^2} \\left( \\cos(k R_c)(1-\\alpha) + \\alpha\\sin(k R_c)/ k R_c  \\right)\n",
    "$$\n",
    "We smooth the Ashcroft potential to account for finite electron spread as \n",
    "$$\n",
    "\\beta \\tilde{v}^{SA}_{ei} = -4\\pi\\bar{Z}\\left( \\frac{1}{k^2} - \\frac{1}{k^2+1/\\Lambda_{ei}^2}  \\right) \\left( \\cos(k R_c)(1-\\alpha) + \\alpha \\sin(k R_c)/ k R_c  \\right)\n",
    "$$\n",
    "for $\\Lambda_{ij} = \\sqrt{2\\pi \\mu_{ij} T_{ij}}$ the inter-particle thermal deBroglie wavelength.\n",
    "One can verify that setting $R_c=0$ and FTing reduces to the Deutsch potential\n",
    "$$\n",
    "\\beta v^D = \\frac{\\beta Z}{r} \\left( 1- e^{r/\\Lambda_{ei}}   \\right)\n",
    "$$\n"
   ]
  },
  {
   "cell_type": "code",
   "execution_count": 4,
   "id": "9968309a-db3a-452c-a2d1-578e156dfae5",
   "metadata": {
    "tags": []
   },
   "outputs": [],
   "source": [
    "def make_Ashcroft_βvei(atom, α=1, Rc = 0.4):\n",
    "    k = atom.hnc.k_array\n",
    "    βvei= atom.hnc.FT_k_2_r(  4*π*atom.qsp.Γei* (np.cos(k*Rc)*(1-α) + α*np.sin(k*Rc)/(k*Rc)) * (1/k**2 - 1/(k**2 + 1/atom.qsp.Λei**2)) )\n",
    "    atom.hnc.βu_r_matrix[0,1] = βvei\n",
    "    atom.hnc.βu_r_matrix[1,0] = βvei\n",
    "    atom.hnc.set_βu_matrix(atom.hnc.βu_r_matrix)\n"
   ]
  },
  {
   "cell_type": "code",
   "execution_count": 5,
   "id": "82585fc5",
   "metadata": {
    "scrolled": true,
    "tags": []
   },
   "outputs": [],
   "source": [
    "def plasma_f(α, Rc, closure='svt'):\n",
    "    plasma = PLASMA(Z, A, ni_cc, Ti_eV, Te_eV, Zbar=Zbar, find_βuee=False,\n",
    "             βu_options = {'add_bridge':True,'bridge':'yukawa', 'pseudopotential':False}, \n",
    "             qsp_options = {'Te_c_type':'VMC'},\n",
    "             hnc_options={'kappa_multiscale':10, 'R_max':10,'N_bins':1000,'oz_method':closure},\n",
    "             hnc_solve_options={'num_iterations':10000,'alpha_Picard':0.1, 'verbose':False,'iters_to_wait':500},\n",
    "             root_options={'options':{'maxfev':100,'xtol':1e-14}})\n",
    "    \n",
    "    # Make the smoothed Ashcroft potential \n",
    "    make_Ashcroft_βvei(plasma, α=α, Rc = Rc)\n",
    "    \n",
    "    return plasma"
   ]
  },
  {
   "cell_type": "code",
   "execution_count": 21,
   "id": "55fce0a6-b0be-4ec8-adf0-fca37b39a842",
   "metadata": {
    "tags": []
   },
   "outputs": [
    {
     "name": "stdout",
     "output_type": "stream",
     "text": [
      "0 :  1.0 0.6\n",
      "Te_in_eV: 1.000\n",
      "Ti_in_eV: 1.000\n",
      "0: Initial condition Total Error: 1.273e+01\n",
      "Starting Ng loop, using best index so far:  499\n",
      "Exiting status 0, reverting to best index so far: 512\n",
      "Final iter:515, Total Error: 5.424e-09\n",
      "1 :  1.4 0.6\n",
      "Te_in_eV: 1.000\n",
      "Ti_in_eV: 1.000\n",
      "0: Initial condition Total Error: 1.273e+01\n",
      "Starting Ng loop, using best index so far:  499\n",
      "Exiting status 0, reverting to best index so far: 515\n",
      "Final iter:518, Total Error: 2.577e-09\n",
      "2 :  1.5 0.6\n",
      "Te_in_eV: 1.000\n",
      "Ti_in_eV: 1.000\n",
      "0: Initial condition Total Error: 1.273e+01\n",
      "Starting Ng loop, using best index so far:  499\n",
      "Exiting status 0, reverting to best index so far: 514\n",
      "Final iter:517, Total Error: 1.545e-09\n",
      "3 :  1.6 0.6\n",
      "Te_in_eV: 1.000\n",
      "Ti_in_eV: 1.000\n",
      "0: Initial condition Total Error: 1.273e+01\n",
      "Starting Ng loop, using best index so far:  499\n",
      "Exiting status 0, reverting to best index so far: 515\n",
      "Final iter:518, Total Error: 7.342e-09\n"
     ]
    }
   ],
   "source": [
    "# Rc_list = np.array([0.6,0.8])\n",
    "Rc_list = np.array([0.6])\n",
    "color_list = plt.cm.coolwarm(np.linspace(0,1,len(Rc_list) ))\n",
    "color_indexes = range(len(color_list))\n",
    "\n",
    "# α_list = np.array([1,1.4,1.5,1.6])\n",
    "α_list = np.array([1,1.4,1.5,1.6])\n",
    "style_list = ['-','--',':','-.','--.'][:len(α_list)]\n",
    "\n",
    "Num_params = len(α_list)*len(Rc_list)\n",
    "params_list = np.array(np.meshgrid(α_list,Rc_list)).T.reshape(Num_params,2)\n",
    "line_list = np.array(np.meshgrid(style_list,color_indexes)).T.reshape(Num_params,2)\n",
    "\n",
    "plasma_list = [[]]*len(params_list)\n",
    "\n",
    "# c_s_k_guess = None\n",
    "for i, params in enumerate(params_list):\n",
    "    α, Rc = params\n",
    "    print(i,\": \",α, Rc)\n",
    "    plasma = plasma_f(α, Rc, closure='standard')\n",
    "    plasma.run_hnc(newton=False)#, c_s_k_guess = c_s_k_guess)\n",
    "    plasma_list[i] = plasma\n",
    "    # c_s_k_guess = plasma.hnc.c_s_k_matrix.copy()\n",
    "    # best_shift(plasma, c_s_k_guess.copy(), ftol=1e-8, set=True)\n",
    "    # solve_least_squares(plasma, np.linspace(plasma.hnc.k_array[0], plasma.hnc.k_array[-1], num=1000))"
   ]
  },
  {
   "cell_type": "code",
   "execution_count": null,
   "id": "f470ddea-b6dd-4cd9-a7c8-808ed9e67626",
   "metadata": {
    "tags": []
   },
   "outputs": [],
   "source": [
    "for plasma in [ plasma_list[-1], plasma_list[-2]]:\n",
    "    solve_least_squares(plasma, np.linspace(plasma.hnc.k_array[0], plasma.hnc.k_array[-1], num=1000))"
   ]
  },
  {
   "cell_type": "markdown",
   "id": "d4694fbb-951d-4685-8d4e-4d4ccc1b8cf4",
   "metadata": {},
   "source": [
    "### Plot and Comparison to QMD"
   ]
  },
  {
   "cell_type": "code",
   "execution_count": 41,
   "id": "05de8240-003a-4445-a56c-2889805b98f8",
   "metadata": {
    "tags": []
   },
   "outputs": [
    {
     "name": "stdout",
     "output_type": "stream",
     "text": [
      "Te_in_eV: 1.000\n",
      "Ti_in_eV: 1.000\n",
      "0: Initial condition Total Error: 2.553e+01\n",
      "Starting Ng loop, using best index so far:  499\n",
      "Exiting status 0, reverting to best index so far: 513\n",
      "Final iter:516, Total Error: 5.980e-09\n",
      "Te_in_eV: 1.000\n",
      "Ti_in_eV: 1.000\n",
      "0: Initial condition Total Error: 2.508e+02\n",
      "Starting Ng loop, using best index so far:  499\n",
      "Exiting status 0, reverting to best index so far: 499\n",
      "Final iter:502, Total Error: 2.956e-09\n",
      "Te_in_eV: 1.000\n",
      "Ti_in_eV: 1.000\n",
      "0: Initial condition Total Error: 2.553e+01\n",
      "Starting Ng loop, using best index so far:  999\n",
      "Exiting status 0, reverting to best index so far: 1008\n",
      "Final iter:1011, Total Error: 6.810e-10\n",
      "0: Initial condition Total Error: 1.335e+03\n",
      "Starting Ng loop, using best index so far:  499\n",
      "Exiting status 0, reverting to best index so far: 526\n",
      "Final iter:529, Total Error: 4.558e-09\n",
      "Te_in_eV: 1.000\n",
      "Ti_in_eV: 1.000\n",
      "0: Initial condition Total Error: 2.553e+01\n",
      "Starting Ng loop, using best index so far:  999\n",
      "Exiting status 0, reverting to best index so far: 1008\n",
      "Final iter:1011, Total Error: 6.810e-10\n",
      "0: Initial condition Total Error: 1.343e+02\n",
      "Starting Ng loop, using best index so far:  499\n",
      "Exiting status 0, reverting to best index so far: 505\n",
      "Final iter:508, Total Error: 7.105e-09\n"
     ]
    },
    {
     "data": {
      "text/plain": [
       "0"
      ]
     },
     "execution_count": 41,
     "metadata": {},
     "output_type": "execute_result"
    }
   ],
   "source": [
    "ocp =  PLASMA(Z, A, ni_cc, Ti_eV, Te_eV, Zbar=Zbar, find_βuee=False,\n",
    "                 βu_options = {'add_bridge':True,'bridge':'yukawa', 'pseudopotential':False}, \n",
    "                 hnc_options={'kappa_multiscale':10, 'R_max':10,'N_bins':1000,'oz_method':'standard'},\n",
    "                 hnc_solve_options={'num_iterations':10000,'alpha_Picard':0.1, 'verbose':False,'iters_to_wait':500},\n",
    "                 root_options={'options':{'maxfev':100,'xtol':1e-14}})\n",
    "ocp.run_ocp_hnc();\n",
    "yp =  PLASMA(Z, A, ni_cc, Ti_eV, Te_eV, Zbar=Zbar, find_βuee=False,\n",
    "                 βu_options = {'add_bridge':True,'bridge':'yukawa', 'pseudopotential':False}, \n",
    "                 hnc_options={'kappa_multiscale':10, 'R_max':10,'N_bins':1000,'oz_method':'standard'},\n",
    "                 hnc_solve_options={'num_iterations':10000,'alpha_Picard':0.1, 'verbose':False,'iters_to_wait':500},\n",
    "                 root_options={'options':{'maxfev':100,'xtol':1e-14}})\n",
    "yp.run_yukawa_hnc();\n",
    "\n",
    "custom = PLASMA(Z, A, ni_cc, Ti_eV, Te_eV, Zbar=Zbar, find_βuee=False,\n",
    "                 βu_options = {'add_bridge':True,'bridge':'yukawa', 'pseudopotential':False}, \n",
    "                 hnc_options={'kappa_multiscale':10, 'R_max':10,'N_bins':1000,'oz_method':'standard'},\n",
    "                 hnc_solve_options={'num_iterations':10000,'alpha_Picard':0.1, 'verbose':False,'iters_to_wait':1000},\n",
    "                 root_options={'options':{'maxfev':100,'xtol':1e-14}})\n",
    "\n",
    "custom.run_ocp_hnc();\n",
    "# custom.ocp_hnc.set_βu_matrix(np.array([[330/(custom.hnc.r_array)**1*np.exp(-3*custom.hnc.r_array) + 0.75/custom.hnc.r_array**3*np.cos(-4*custom.hnc.r_array + 1.5)  ]]))\n",
    "custom.ocp_hnc.set_βu_matrix(np.array([[custom.qsp.Γii/custom.hnc.r_array**1.4 - custom.hnc.Bridge_function_Yukawa(custom.hnc.r_array, custom.qsp.Γii, custom.qsp.get_κ())]]))\n",
    "# custom.ocp_hnc.set_βu_matrix(np.array([[custom.qsp.Γii/custom.hnc.r_array]])) \n",
    "custom.ocp_hnc.initialize_c_k()\n",
    "custom.ocp_hnc.set_C_matrix()\n",
    "# custom.ocp_hnc.c_s_k_matrix = c_s_k_guess.copy()\n",
    "custom.ocp_hnc.HNC_solve(**ocp.hnc_solve_options)\n",
    "\n",
    "\n",
    "custom2 = PLASMA(Z, A, ni_cc, Ti_eV, Te_eV, Zbar=Zbar, find_βuee=False,\n",
    "                 βu_options = {'add_bridge':True,'bridge':'yukawa', 'pseudopotential':False}, \n",
    "                 hnc_options={'kappa_multiscale':10, 'R_max':10,'N_bins':1000,'oz_method':'standard'},\n",
    "                 hnc_solve_options={'num_iterations':10000,'alpha_Picard':0.1, 'verbose':False,'iters_to_wait':1000},\n",
    "                 root_options={'options':{'maxfev':100,'xtol':1e-14}})\n",
    "\n",
    "custom2.run_ocp_hnc();\n",
    "# custom2.ocp_hnc.set_βu_matrix(np.array([[330/(custom2.hnc.r_array)**1*np.exp(-3*custom2.hnc.r_array) + 0.75/custom2.hnc.r_array**3*np.cos(-4*custom2.hnc.r_array + 1.5)  ]]))\n",
    "custom2.ocp_hnc.set_βu_matrix(np.array([[0.5*custom2.qsp.Γii/custom2.hnc.r_array**1 - custom2.hnc.Bridge_function_Yukawa(custom2.hnc.r_array, custom2.qsp.Γii, custom2.qsp.get_κ())]]))\n",
    "# custom2.ocp_hnc.set_βu_matrix(np.array([[custom2.qsp.Γii/custom2.hnc.r_array]])) \n",
    "custom2.ocp_hnc.initialize_c_k()\n",
    "custom2.ocp_hnc.set_C_matrix()\n",
    "# custom2.ocp_hnc.c_s_k_matrix = c_s_k_guess.copy()\n",
    "custom2.ocp_hnc.HNC_solve(**ocp.hnc_solve_options)"
   ]
  },
  {
   "cell_type": "code",
   "execution_count": 28,
   "id": "8fa6f5fc",
   "metadata": {
    "tags": []
   },
   "outputs": [],
   "source": [
    "MD_data = read_csv(\"/home/zach/plasma/datasets/RDFs/Al_1.0eV_rs3_VASP.txt\",  header=1)\n",
    "MD_data.columns=['r','g']\n",
    "MD_data;"
   ]
  },
  {
   "cell_type": "code",
   "execution_count": 42,
   "id": "439e5056",
   "metadata": {
    "tags": []
   },
   "outputs": [
    {
     "data": {
      "text/plain": [
       "<matplotlib.legend.Legend at 0x7f2edaaa88e0>"
      ]
     },
     "execution_count": 42,
     "metadata": {},
     "output_type": "execute_result"
    },
    {
     "data": {
      "image/png": "[encoded data removed]",
      "text/plain": [
       "<Figure size 1000x800 with 1 Axes>"
      ]
     },
     "metadata": {},
     "output_type": "display_data"
    }
   ],
   "source": [
    "fig, ax = plt.subplots(figsize=(10,8))\n",
    "ax.set_title(\"Smoothed Ashcroft\", fontsize=20)\n",
    "\n",
    "\n",
    "# Model Comparison\n",
    "for i, ( line, params, plasma) in enumerate(zip(line_list, params_list, plasma_list)):\n",
    "    # if i==6:\n",
    "    #     continue\n",
    "    α, Rc = params\n",
    "    color, style = color_list[int(line[1])], line[0]\n",
    "    # ax.plot(plasma.hnc.r_array, plasma.hnc.h_r_matrix[0,0]+1,'-', color=color, linestyle=style, label=r\"$\\alpha, R_c$ = {0:.2f}, {1:.2f}\".format(α,Rc))\n",
    "\n",
    "# OCP\n",
    "ax.plot(ocp.ocp_hnc.r_array, ocp.ocp_hnc.h_r_matrix[0,0]+1,'k--', label='OCP')\n",
    "ax.plot(yp.yuk_hnc.r_array, yp.yuk_hnc.h_r_matrix[0,0]+1,'k-.', label='Yukawa')\n",
    "ax.plot(custom.ocp_hnc.r_array, custom.ocp_hnc.h_r_matrix[0,0]+1,'g-.', label=r'$\\Gamma_{ii}/r^{1.4}$')\n",
    "ax.plot(custom2.ocp_hnc.r_array, custom2.ocp_hnc.h_r_matrix[0,0]+1,'b-.', label=r'$\\Gamma_{ii}/r^{0.8}$')\n",
    "\n",
    "# Data\n",
    "ax.plot(MD_data['r'], MD_data['g'], 'k',label='VASP')\n",
    "\n",
    "# Plotting functions\n",
    "# ax.set_title(r\"$R_c = {}$\".format(Rc),fontsize=20)\n",
    "ax.set_xlim(1,4)\n",
    "ax.set_ylim(0,2)\n",
    "ax.set_ylabel(r'$g_{ii}$',fontsize=20)\n",
    "ax.set_xlabel(r'$r/r_i$ ',fontsize=20)\n",
    "ax.tick_params(labelsize=20)\n",
    "# ax.set_yscale('symlog', linthresh=2)\n",
    "\n",
    "# [i.set_linewidth(0.1) for i in ax.spines.itervalues()]\n",
    "ax.legend(fontsize=12, loc='upper right')\n"
   ]
  },
  {
   "cell_type": "code",
   "execution_count": 43,
   "id": "c74ef742-b0e6-417d-ab21-d894d72df8da",
   "metadata": {
    "tags": []
   },
   "outputs": [
    {
     "name": "stdout",
     "output_type": "stream",
     "text": [
      "[1.68, 2.48, 3.25]\n",
      "[1.68, 2.47, 3.24]\n",
      "[1.6600000000000001, 2.49, 3.2800000000000002]\n"
     ]
    }
   ],
   "source": [
    "from scipy.signal import find_peaks\n",
    "\n",
    "for hnc in [ocp.ocp_hnc, custom.ocp_hnc, custom2.ocp_hnc]:\n",
    "    print(get_peaks(hnc))"
   ]
  },
  {
   "cell_type": "code",
   "execution_count": 37,
   "id": "98876296-4bfc-4e7b-b188-5c1c9cb3de75",
   "metadata": {
    "tags": []
   },
   "outputs": [
    {
     "name": "stdout",
     "output_type": "stream",
     "text": [
      "Data:  [1.5448504983388704, 2.2890365448504983, 2.946843853820598]\n",
      "1.0 0.6 [1.68, 2.47, 3.25]\n",
      "1.4 0.6 [1.68, 2.47, 3.25]\n",
      "1.5 0.6 [1.67, 2.48, 3.25]\n",
      "1.6 0.6 [1.67, 2.48, 3.25]\n"
     ]
    }
   ],
   "source": [
    "from scipy.signal import find_peaks\n",
    "\n",
    "print(\"Data: \", [MD_data['r'][indx] for indx in find_peaks(np.abs(MD_data['g']-1))[0]])\n",
    "\n",
    "def get_peaks(hnc):\n",
    "    peak_locs = [\n",
    "        hnc.r_array[index] for index in find_peaks(np.abs(hnc.h_r_matrix[0,0]))[0]]\n",
    "    first_peak_index = np.argmin(np.abs(np.array(peak_locs)-1.5))\n",
    "    second_peak_index = np.argmin(np.abs(np.array(peak_locs)-2.2))\n",
    "    third_peak_index = np.argmin(np.abs(np.array(peak_locs)-3.2))\n",
    "    return [peak_locs[index] for index in [first_peak_index,second_peak_index,third_peak_index]]\n",
    "\n",
    "# Model Comparison\n",
    "for i, ( line, params, plasma) in enumerate(zip(line_list, params_list, plasma_list)):\n",
    "    α, Rc = params\n",
    "    print(α, Rc, get_peaks(plasma.hnc))"
   ]
  },
  {
   "cell_type": "markdown",
   "id": "c68b5e49-0c31-4a1d-b1e5-b94429b4feb4",
   "metadata": {
    "tags": []
   },
   "source": [
    "### Effective Potential"
   ]
  },
  {
   "cell_type": "code",
   "execution_count": null,
   "id": "aa4b7f23-59e6-4c2a-8378-facd53bbbd65",
   "metadata": {
    "tags": []
   },
   "outputs": [],
   "source": [
    "for i, (color, params, plasma) in enumerate(zip(colors, params_list, plasma_list)):\n",
    "    α, Rc = params\n",
    "    plasma.hnc.invert_HNC_OZ([1])\n",
    "    ax.plot(plasma.hnc.r_array, plasma.hnc.βueff_r_matrix[0,0],'-', color=color,label=r\"$\\alpha, R_c$ = {0:.2f}, {1:.2f}\".format(α,Rc))\n",
    "\n",
    "    # np.savetxt(f\"/home/zach/plasma/hnc/TCCW/data/dcf_data/{name}_{Ti_eV:0.2e}eV_rs{ri_AU:0.3f}_svt-hnc-softAshcroft-Rc{Rc:0.2f}-α1_c_k_matrix.csv\", plasma.hnc.c_k_matrix.reshape(4,atom2.hnc.N_bins))"
   ]
  },
  {
   "cell_type": "code",
   "execution_count": null,
   "id": "58fcaf67-798e-42a9-8d20-c177f4ee48e4",
   "metadata": {
    "tags": []
   },
   "outputs": [],
   "source": [
    "Luke_pair = read_csv(\"../data/Al_T1_tab.lammps.PAIR\", delim_whitespace=True, header=4)\n",
    "\n",
    "\n",
    "fig, ax = plt.subplots(figsize=(10,8))\n",
    "\n",
    "# LUKE Potfit VASP\n",
    "ax.plot(Luke_pair['r[A]']*Angstrom_to_AU/ri_AU, plasma.qsp.βie_c*Luke_pair['u[eV]']*eV_to_AU, 'k-.',label='Force Matched VASP')\n",
    "# ax.plot(Luke_pair['r[A]']*Angstrom_to_AU/ri_AU, 1/(Luke_pair['r[A]']*Angstrom_to_AU/ri_AU)**4.25, 'k:',label='Force Matched VASP')\n",
    "# Coulomb and Yukawa\n",
    "yp.yuk_hnc.invert_HNC_OZ([])\n",
    "# custom.ocp_hnc.invert_HNC_OZ([])\n",
    "ax.plot(plasma.hnc.r_array, plasma.hnc.βu_r_matrix[0,0],'k-', label='Coulomb')\n",
    "ax.plot(plasma.hnc.r_array, plasma.qsp.βv_Yukawa(plasma.hnc.r_array),'k--', label='Yukawa')\n",
    "ax.plot(plasma.hnc.r_array, yp.yuk_hnc.βueff_r_matrix[0,0],'k:', label='Yukawa-2')\n",
    "ax.plot(plasma.hnc.r_array, custom.ocp_hnc.βueff_r_matrix[0,0],'r--', label='Custom')\n",
    "\n",
    "# Model Comparison\n",
    "for i, ( line, params, plasma) in enumerate(zip(line_list, params_list, plasma_list)):\n",
    "    if i==6:\n",
    "        continue\n",
    "    α, Rc = params\n",
    "    color, style = color_list[int(line[1])], line[0]\n",
    "    plasma.hnc.invert_HNC_OZ([1])\n",
    "    ax.plot(plasma.hnc.r_array, plasma.hnc.βueff_r_matrix[0,0],'-', color=color, linestyle=style, label=r\"$\\alpha, R_c$ = {0:.2f}, {1:.2f}\".format(α,Rc))\n",
    "\n",
    "\n",
    "# ax.set_title(r\"$R_c = {}$\".format(Rc),fontsize=20)\n",
    "ax.set_xlim(1e-2,10)\n",
    "ax.set_ylim(-1,1e4)\n",
    "ax.set_ylabel(r'$\\beta u^{\\text{eff}}_{ii}$',fontsize=20)\n",
    "ax.set_xlabel(r'$r/r_i$ ',fontsize=20)\n",
    "ax.tick_params(labelsize=20)\n",
    "ax.set_yscale('symlog', linthresh=1)\n",
    "ax.set_xscale('log')\n",
    "# ax.set_yscale('log')\n",
    "\n",
    "ax.legend(fontsize=15)"
   ]
  },
  {
   "cell_type": "code",
   "execution_count": null,
   "id": "9ddc3d4e-fe0b-468c-affa-6b7a9bd59713",
   "metadata": {
    "tags": []
   },
   "outputs": [],
   "source": [
    "# np.savetxt(\"Al1_βu_eff_raw.txt\", np.array([plasma_list[2].hnc.r_array,plasma_list[2].hnc.βueff_r_matrix[0,0] ]).T, header='r/r_i \t\t\t βuii_eff(r/r_i)')\n",
    "# np.savetxt(\"Al1_g_r_raw.txt\", np.array([plasma_list[2].hnc.r_array,plasma_list[2].hnc.h_r_matrix[0,0]+1, plasma_list[2].hnc.h_r_matrix[1,0]+1,plasma_list[2].hnc.h_r_matrix[1,1]+1 ]).T, header='r/r_i \t\t\t\t gii(r/r_i) \t\t\t\t gie(r/r_i) \t\t\t\t gee(r/r_i)')"
   ]
  },
  {
   "cell_type": "markdown",
   "id": "7e947eb9-84bd-49bf-8c74-f396aaee8fd4",
   "metadata": {
    "jp-MarkdownHeadingCollapsed": true,
    "tags": []
   },
   "source": [
    "### Large r oscillations"
   ]
  },
  {
   "cell_type": "code",
   "execution_count": null,
   "id": "4e80c29c-6538-4c6f-895b-6b8bec5dea02",
   "metadata": {
    "tags": []
   },
   "outputs": [],
   "source": [
    "# AA_data = read_csv(\"/home/zach/plasma/atoMEC/examples/density.csv\", delim_whitespace=True, header=0)\n",
    "\n",
    "fig, ax = plt.subplots(figsize=(10,8))\n",
    "\n",
    "# Model Comparison\n",
    "for i, (color, Rc, plasma) in enumerate(zip(colors, Rc_list, plasma_list)):\n",
    "    if i>2:\n",
    "        continue\n",
    "    ax.plot(plasma.hnc.r_array, plasma.hnc.h_r_matrix[0,0]+1,'-', color=color,label=r\"$R_c$ = {0:.2f}\".format(Rc))\n",
    "    ax.plot(plasma.hnc.r_array, plasma.hnc.h_r_matrix[0,1]+1,'--', color=color)#,label=r\"$R_c$ = {0:.2f}\".format(Rc))\n",
    "    ax.plot(plasma.hnc.r_array, plasma.hnc.h_r_matrix[1,1]+1,'-.', color=color)#,label=r\"$R_c$ = {0:.2f}\".format(Rc))\n",
    "    \n",
    "\n",
    "ax.plot(MD_data['r'], MD_data['g'], 'k-',label='VASP')\n",
    "\n",
    "# ax.plot(atom_oz.hnc.r_array*atom_oz.qsp.ri, atom_oz.hnc.h_r_matrix[0,0]+1,'--', label='my OZ CHNC')\n",
    "\n",
    "ax.set_xlim(0,3)\n",
    "ax.set_ylabel(r'$g_{ii}$',fontsize=20)\n",
    "ax.set_xlabel(r'$r$ [A.U.]',fontsize=20)\n",
    "ax.tick_params(labelsize=20)\n",
    "ax.set_yscale('symlog', linthresh=2)\n",
    "ax.set_ylim(0,None)\n",
    "# [i.set_linewidth(0.1) for i in ax.spines.itervalues()]\n",
    "ax.legend(fontsize=15)"
   ]
  },
  {
   "cell_type": "markdown",
   "id": "9994bcb2-b177-4a08-b242-e4e608fd396a",
   "metadata": {},
   "source": [
    "#### Save DCF"
   ]
  },
  {
   "cell_type": "code",
   "execution_count": null,
   "id": "6b9f15b2-63c4-4cd4-b53a-b5c82da1e08a",
   "metadata": {
    "tags": []
   },
   "outputs": [],
   "source": [
    "# np.savetxt(f\"/home/zach/plasma/hnc/TCCW/data/dcf_data/{name}_{Ti_eV:0.2e}eV_rs{ri_AU:0.3f}_oz-hnc-Pauli-bound-dist_c_k_matrix.csv\", atom1.hnc.c_k_matrix.reshape(4,atom1.hnc.N_bins))\n",
    "# np.savetxt(f\"/home/zach/plasma/hnc/TCCW/data/dcf_data/{name}_{Ti_eV:0.2e}eV_rs{ri_AU:0.3f}_svt-hnc-softAshcroft-Rc0p2_c_k_matrix.csv\", atom2.hnc.c_k_matrix.reshape(4,atom2.hnc.N_bins))\n",
    "# np.savetxt(f\"/home/zach/plasma/hnc/TCCW/data/dcf_data/{name}_{Ti_eV:0.2e}eV_rs{ri_AU:0.3f}_svt-hnc-Pauli-bound-point_c_k_matrix.csv\", atom3.hnc.c_k_matrix.reshape(4,atom3.hnc.N_bins))"
   ]
  },
  {
   "cell_type": "markdown",
   "id": "14efd131-bb46-4303-8313-9ea9d7ebfa37",
   "metadata": {
    "tags": []
   },
   "source": [
    "### Bound and Free state Examination"
   ]
  },
  {
   "cell_type": "code",
   "execution_count": null,
   "id": "c863ba17-ca5e-44cb-80a6-f56896f01370",
   "metadata": {
    "tags": []
   },
   "outputs": [],
   "source": [
    "from scipy.integrate import simpson\n",
    "\n",
    "ne_bar = Zbar*plasma.qsp.ni\n",
    "\n",
    "bound_file = \"/home/zach/plasma/hnc/TCCW/data/Al_ri_2.989_T_1.000e+00eV.csv\"\n",
    "AA_data = read_csv(bound_file, delim_whitespace=True, header=0)\n",
    "AA_r_AU_full = np.array(AA_data['r[a_0]'])\n",
    "AA_nb_AU_full = np.array(AA_data['n(bound)'])\n",
    "AA_nub_AU_full = np.array(AA_data['n(unbound)'])\n",
    "AA_ntb_AU_full = np.array(AA_data['n(tightbound)'])\n",
    "N_b, N_ub, N_tb = simpson(4*π*AA_nb_AU_full*AA_r_AU_full**2,  AA_r_AU_full), simpson(4*π*AA_nub_AU_full*AA_r_AU_full**2,  AA_r_AU_full), simpson(4*π*AA_ntb_AU_full*AA_r_AU_full**2,  AA_r_AU_full)\n",
    "# Get Zbar\n",
    "Zbar =  Z - simpson(4*π*AA_nb_AU_full*AA_r_AU_full**2,  AA_r_AU_full)\n",
    "\n",
    "\n",
    "# Plot bound states\n",
    "fig, axs = plt.subplots(1,2, figsize=(12,6))\n",
    "\n",
    "\n",
    "# Model Comparison\n",
    "for i, ( line, params, plasma) in enumerate(zip(line_list, params_list, plasma_list)):\n",
    "    if i==6:\n",
    "        continue\n",
    "    α, Rc = params\n",
    "    color, style = color_list[int(line[1])], line[0]\n",
    "    nb_hnc = (plasma.hnc.h_r_matrix[0,1]+1)*ne_bar\n",
    "    δnb_hnc = (plasma.hnc.h_r_matrix[0,1])*ne_bar\n",
    "    r_hnc = plasma.hnc.r_array*plasma.qsp.ri\n",
    "\n",
    "    axs[0].plot(plasma.hnc.r_array, 4*π*r_hnc**2*δnb_hnc, color=color, linestyle=style, label=r\"$\\alpha, R_c$ = {0:.2f}, {1:.2f}\".format(α,Rc))\n",
    "    axs[1].plot(plasma.hnc.r_array, δnb_hnc, color=color, linestyle=style)\n",
    "\n",
    "\n",
    "    \n",
    "# # Model Comparison\n",
    "# for i, (color, params, plasma) in enumerate(zip(colors, params_list, plasma_list)):\n",
    "#     α, Rc = params\n",
    "#     nb_hnc = (plasma.hnc.h_r_matrix[0,1]+1)*ne_bar\n",
    "#     δnb_hnc = (plasma.hnc.h_r_matrix[0,1])*ne_bar\n",
    "#     r_hnc = plasma.hnc.r_array*plasma.qsp.ri\n",
    "#     axs[0].plot(plasma.hnc.r_array, 4*π*r_hnc**2*δnb_hnc,'--', color=color,label=r\"$\\alpha, R_c$ = {0:.2f}, {1:.2f}\".format(α,Rc))\n",
    "#     axs[1].plot(plasma.hnc.r_array, δnb_hnc,'--', color=color)#,label=r\"$R_c$ = {0:.2f}\".format(Rc))\n",
    "\n",
    "\n",
    "axs[0].set_ylabel(r'$4 \\pi n_e r^2$ [AU]')\n",
    "axs[0].plot(AA_r_AU_full/plasma.qsp.ri, 4*π*AA_nb_AU_full*AA_r_AU_full**2, label='bound')\n",
    "axs[0].plot(AA_r_AU_full/plasma.qsp.ri, 4*π*AA_nub_AU_full*AA_r_AU_full**2, label='unbound')\n",
    "axs[0].plot(AA_r_AU_full/plasma.qsp.ri, 4*π*(AA_nub_AU_full-ne_bar)*AA_r_AU_full**2, label=r'$\\delta$ unbound')\n",
    "axs[0].plot(AA_r_AU_full/plasma.qsp.ri, 4*π*AA_ntb_AU_full*AA_r_AU_full**2, label='tightly bound (<-10 AU)')\n",
    "axs[0].set_ylim(-1, 4)\n",
    "axs[0].set_xlim(0, np.max(AA_r_AU_full/plasma.qsp.ri))\n",
    "\n",
    "axs[1].set_ylabel(r'$n_e$ [AU]')\n",
    "axs[1].plot(AA_r_AU_full/plasma.qsp.ri, AA_nb_AU_full, label='bound')\n",
    "axs[1].plot(AA_r_AU_full/plasma.qsp.ri, AA_nub_AU_full, label='unbound')\n",
    "axs[1].plot(AA_r_AU_full/plasma.qsp.ri, AA_nub_AU_full-ne_bar, label=r'$\\delta$- unbound')\n",
    "axs[1].plot(AA_r_AU_full/plasma.qsp.ri, AA_ntb_AU_full, label='tightly bound (<-10 AU)')\n",
    "axs[1].set_xscale('log')\n",
    "axs[1].set_yscale('symlog',linthresh=1e-2)\n",
    "axs[1].set_xlim(1e-2, plasma.hnc.r_array[-1])\n",
    "# axs[1].set_ylim(-0.1,0.1)\n",
    "\n",
    "# Data\n",
    "axs[1].plot(MD_data['r'], ne_bar*(MD_data['g']-1), 'k',label='VASP hii normalized')\n",
    "\n",
    "\n",
    "for ax in axs:\n",
    "    # ax.axvspan(AA_r_AU_full[0]/plasma.qsp.ri, min_r_to_use/plasma.qsp.ri, color='k', alpha=0.1)\n",
    "    ax.set_xlabel(r'$r/r_i$')\n",
    "    # ax.set_xlim(np.min(AA_r_AU_full/plasma.qsp.ri), np.max(AA_r_AU_full/plasma.qsp.ri))\n",
    "    ax.legend(fontsize=10)\n",
    "plt.tight_layout()\n",
    "\n",
    "AA_r_AU_full[915],r_hnc[30], simpson((4*π*r_hnc**2*δnb_hnc)[:30], x=r_hnc[:30]), simpson(4*π*(AA_nub_AU_full*AA_r_AU_full**2)[:915],  AA_r_AU_full[:915])"
   ]
  },
  {
   "cell_type": "code",
   "execution_count": null,
   "id": "1aec63a4-2acd-4270-aafb-a1e66cd4cc13",
   "metadata": {
    "tags": []
   },
   "outputs": [],
   "source": [
    "# Model Comparison\n",
    "for i, ( line, params, plasma) in enumerate(zip(line_list, params_list, plasma_list)):\n",
    "    α, Rc = params\n",
    "    color, style = color_list[int(line[1])], line[0]\n",
    "    nb_hnc = (plasma.hnc.h_r_matrix[0,1]+1)*ne_bar\n",
    "    δnb_hnc = (plasma.hnc.h_r_matrix[0,1])*ne_bar\n",
    "    r_hnc = plasma.hnc.r_array*plasma.qsp.ri\n",
    "\n",
    "    print(simpson(4*π*r_hnc**2*δnb_hnc,r_hnc))"
   ]
  },
  {
   "cell_type": "code",
   "execution_count": null,
   "id": "7c1441d1-9538-4616-8670-40856c063d67",
   "metadata": {
    "tags": []
   },
   "outputs": [],
   "source": [
    "simpson(AA_nb_AU_full*AA_r_AU_full**4,AA_r_AU_full)/simpson(AA_nb_AU_full*AA_r_AU_full**2,AA_r_AU_full)"
   ]
  },
  {
   "cell_type": "markdown",
   "id": "a24f12c8-f572-4819-8d10-3d249732bf9b",
   "metadata": {
    "tags": []
   },
   "source": [
    "# Transport\n",
    "## Born Green Viscocity\n",
    "See [Morioka 2004](https://www.sciencedirect.com/science/article/pii/S0022309304003692)\n",
    "\n",
    "\\begin{align}\n",
    "η = f_{BG} \\frac{2 \\pi}{15} \\left(\\frac{M}{RT} \\right)^{1/2} \\frac{n^2}{N_a} \\int^\\infty_0 g(r) \\frac{d\\phi}{dr}r^4 dr\n",
    "\\end{align}\n",
    "Resulting units is Pa s\n"
   ]
  },
  {
   "cell_type": "code",
   "execution_count": null,
   "id": "e06013a0-539a-4b40-8672-e36e74567909",
   "metadata": {
    "tags": []
   },
   "outputs": [],
   "source": [
    "from scipy.integrate import simpson\n",
    "\n",
    "def get_ηBG(plasma, plot=False):\n",
    "    plasma.hnc.invert_HNC_OZ([1])\n",
    "    fBG = -1\n",
    "    n_AU = n_from_rs(plasma.qsp.ri)\n",
    "    r_array = plasma.hnc.r_array*plasma.qsp.ri\n",
    "    gii = plasma.hnc.h_r_matrix[0,0]+1\n",
    "    dφdr = plasma.qsp.Ti*np.gradient(plasma.hnc.βueff_r_matrix[0,0], r_array)\n",
    "\n",
    "    integrand = r_array**4 * gii * dφdr\n",
    "    if plot==True:\n",
    "        fig, ax = plt.subplots()\n",
    "        ax.plot(r_array, dφdr*r_array**4)\n",
    "    \n",
    "    integral = simpson(integrand, x=r_array)\n",
    "    η = fBG* 2*π/15 * (plasma.qsp.βi*plasma.qsp.m_i)**0.5*n_AU**2*integral\n",
    "    return η\n",
    "\n",
    "# Model Comparison\n",
    "for i, ( line, params, plasma) in enumerate(zip(line_list, params_list, plasma_list)):\n",
    "    α, Rc = params\n",
    "    η_SI = get_ηBG(plasma)*AU_to_Pa*AU_to_s # Pa s = kg m^-1 s^-1 \n",
    "    print(f\"α={α}, Rc={Rc}\")\n",
    "    # print(f\"\\tSI: η = {η_SI:0.3e} [kg m^-1 s^-1] (or [Pa s])\")\n",
    "    η_cgs = η_SI * 1000/100 # g cm^-1 s^-1\n",
    "    print(f\"\\tCGS: η = {η_cgs:0.3e} [g cm^-1 s^-1]\")"
   ]
  },
  {
   "cell_type": "code",
   "execution_count": null,
   "id": "1d208743",
   "metadata": {},
   "outputs": [],
   "source": [
    "Zbar_list  = np.linspace(3,Zbar, num=100)\n",
    "# Zbar_list = [1,3]\n",
    "atom_list= []\n",
    "for i, Zbar_i in enumerate(Zbar_list):\n",
    "    print(\"Zbar = {0:.3f}\".format( Zbar_i ))\n",
    "    \n",
    "    atom = PLASMA(Z, A, ni_cc, Ti_eV, Te_eV, Zbar=Zbar_i, \n",
    "                 βu_options = {'add_bridge':True}, \n",
    "                 qsp_options={'r_c':0},\n",
    "                 hnc_options={'kappa_multiscale':10},\n",
    "                 hnc_solve_options={'alpha_Picard':0.5})\n",
    "    if i>=1:\n",
    "        Z2_matrix = [[Zbar_list[i]]]\n",
    "        # guess_2 = \n",
    "        c_s_k_guess = atom_list[-1].hnc.c_s_k_matrix\n",
    "        c_s_k_guess[0,0] *= (Zbar_list[i]/Zbar_list[i-1])**2 \n",
    "        c_s_k_guess[0,1] *= (Zbar_list[i]/Zbar_list[i-1])**1 \n",
    "        c_s_k_guess[1,0] *= (Zbar_list[i]/Zbar_list[i-1])**1\n",
    "#         c_s_k_guess[0,0] *= 0\n",
    "    else:\n",
    "        c_s_k_guess *=0\n",
    "    atom.run_hnc(c_s_k_guess=c_s_k_guess)\n",
    "    atom_list.append( atom )"
   ]
  },
  {
   "cell_type": "code",
   "execution_count": null,
   "id": "33cb4d79",
   "metadata": {},
   "outputs": [],
   "source": [
    "fig, axs = plt.subplots(2, 2, facecolor='w', figsize=(10,8) )\n",
    "\n",
    "atom3_guess = atom2.hnc.c_s_k_matrix + (atom2.hnc.c_s_k_matrix-atom1.hnc.c_s_k_matrix)/(2-1)*(3-2) \n",
    "atom3_guess = atom2.hnc.c_s_k_matrix + (atom2.hnc.c_s_k_matrix/atom1.hnc.c_s_k_matrix)/(2-1)*(3-2) \n",
    "\n",
    "for i in range(2):\n",
    "    for j in range(2):\n",
    "        for k, atom in enumerate(atom_list):\n",
    "            color = plt.cm.viridis(k/len(atom_list))\n",
    "            Z_factor = (Zbar_list[0]/Zbar_list[k])**-1\n",
    "            axs[i, j].plot(atom.hnc.r_array, atom.hnc.c_s_k_matrix[i,j], '--',label= \"Zbar\", color= color)\n",
    "            axs[i, j].plot(atom.hnc.r_array, Z_factor*atom_list[0].hnc.c_s_k_matrix[i,j],'.', label= \"Zbar\", color= color)\n",
    "#             axs[i, j].plot(atom.hnc.r_array, atom2.hnc.c_s_k_matrix[i,j], label= \"Zbar=2\")\n",
    "#             axs[i, j].plot(atom.hnc.r_array, atom6.hnc.c_s_k_matrix[i,j], label= \"Zbar=6\")\n",
    "#         axs[i, j].plot(atom2.hnc.r_array, atom2.hnc.c_s_k_matrix[i,j]-atom1.hnc.c_s_k_matrix[i,j], label= \"Zbar=2/1\")\n",
    "#         axs[i, j].plot(atom2.hnc.r_array, atom3.hnc.c_s_k_matrix[i,j]-atom2.hnc.c_s_k_matrix[i,j], label= \"Zbar=3/2\")\n",
    "#         axs[i, j].plot(atom2.hnc.r_array, atom3_guess[i,j] , 'k--', label= \"Zbar=3 (guess)\")\n",
    "        \n",
    "#         axs[i, j].plot(atom3.hnc.r_array, atom3.hnc.c_s_k_matrix[i,j],'k', label= \"Zbar=3\")\n",
    "#         axs[i, j].plot(atom100.hnc.r_array, atom80.hnc.c_s_k_matrix[i,j]-100/80*atom100.hnc.c_s_k_matrix[i,j], label= \"80/100 eV\")\n",
    "#         axs[i, j].plot(atom100.hnc.r_array, atom60.hnc.c_s_k_matrix[i,j], label= \"60 eV\")\n",
    "         \n",
    "#         axs[i, j].plot(atom100.hnc.r_array, T_rescale[i,j]*atom100.hnc.c_s_k_matrix[i,j], label= \"rescaled 100 eV\")\n",
    "        \n",
    "        axs[i,j].set_xscale('log')\n",
    "#         axs[i, j].set_yscale('symlog', linthresh=0.1)\n",
    "#         axs[i, j].legend()\n",
    "        \n",
    "plt.tight_layout()"
   ]
  },
  {
   "cell_type": "code",
   "execution_count": null,
   "id": "f17f101c",
   "metadata": {},
   "outputs": [],
   "source": []
  },
  {
   "cell_type": "code",
   "execution_count": null,
   "id": "2f659b61",
   "metadata": {},
   "outputs": [],
   "source": [
    "atom.get_cp(ε_derivative=1e-6, ε_table=1e-1, N_table= 2 )"
   ]
  },
  {
   "cell_type": "code",
   "execution_count": null,
   "id": "e66d6294",
   "metadata": {},
   "outputs": [],
   "source": [
    "fig, ax = plt.subplots()\n",
    "\n",
    "# ax.plot(atom.hnc.r_array, atom.hnc.βueff_r_matrix[0,0])\n",
    "ax.plot(atom.hnc.r_array, atom.hnc.h_r_matrix[0,0]+1)\n",
    "# ax.set_yscale('symlog', linthresh=1)"
   ]
  },
  {
   "cell_type": "markdown",
   "id": "935642fe",
   "metadata": {},
   "source": [
    "###### Hydrogen H1\n",
    "\n",
    "c_p = 1.667e+08 [J/m^3/K] = 1.667e+09 [erg/cc/K]\n",
    "\n",
    "\n",
    "c_p^ideal = 2.064e+07 [J/m^3/K] = 2.064e+08 [erg/cc/K]\n",
    "\n",
    "c_v = 1.229e+08 [J/m^3/K] = 1.229e+09 [erg/cc/K]\n",
    "\n",
    "\n",
    "γ = cp/cv = 1.357e+00\n",
    "\n",
    "###### Aluminum Al1\n",
    "\n",
    "c_p = 5.560e+06 [J/m^3/K] = 5.560e+07 [erg/cc/K]\n",
    "\n",
    "c_p^ideal = 2.081e+06 [J/m^3/K] = 2.081e+07 [erg/cc/K]\n",
    "\n",
    "c_v = 3.559e+06 [J/m^3/K] = 3.559e+07 [erg/cc/K]\n",
    "\n",
    "c_p_over_nkB = 6.678\n",
    "\n",
    "c_v_over_nkB = 4.275\n",
    "\n",
    "γ = cp/cv = 1.562e+00\n",
    "\n",
    "##### Carbon C1\n",
    "\n",
    "c_p = 1.005e+09 [J/m^3/K] = 1.005e+10 [erg/cc/K]\n",
    "\n",
    "c_p^ideal = 1.729e+07 [J/m^3/K] = 1.729e+08 [erg/cc/K]\n",
    "\n",
    "c_v = 7.410e+08 [J/m^3/K] = 7.410e+09 [erg/cc/K]\n",
    "\n",
    "γ = cp/cv = 1.357e+00\n",
    "\n",
    "##### Copper Cu1\n",
    "c_p = 6.829e+07 [J/m^3/K] = 6.829e+08 [erg/cc/K]\n",
    "\n",
    "c_p^ideal = 2.930e+06 [J/m^3/K] = 2.930e+07 [erg/cc/K]\n",
    "\n",
    "c_v = 4.460e+07 [J/m^3/K] = 4.460e+08 [erg/cc/K]\n",
    "\n",
    "γ = cp/cv = 1.531e+00"
   ]
  },
  {
   "cell_type": "code",
   "execution_count": null,
   "id": "ed15670f",
   "metadata": {},
   "outputs": [],
   "source": [
    "# Compare to Ichimaru\n",
    "n_AU = ni_cc * (1e2*aB)**3\n",
    "E_over_nkBT = atom.U/( Te*N )\n",
    "P_over_nkBT = atom.P/(Te*n_AU)\n",
    "c_p_over_nkB = C_p_AU/N #c_p_SI_vol/k_B/(ni_cc*1e6)\n",
    "E_over_nkBT, P_over_nkBT, c_p_over_nkB  "
   ]
  },
  {
   "cell_type": "code",
   "execution_count": null,
   "id": "9ff1fa55",
   "metadata": {},
   "outputs": [],
   "source": [
    "# 2x2\n",
    "#(16.078004224152146, 7.958852940677674, 20.391840227664225)\n",
    "# 3x3\n",
    "#(17.29156071613095, 9.41653222069282, 19.954770080816058)\n",
    "# 4x4\n",
    "#(17.29156071613095, 9.41653222069282, 20.31577883096223)\n",
    "# 6x6\n",
    "#(17.29156071613095, 9.41653222069282, 20.341775951597302)\n",
    "\n"
   ]
  },
  {
   "cell_type": "code",
   "execution_count": null,
   "id": "f9d9c237",
   "metadata": {},
   "outputs": [],
   "source": [
    "#cp units are J/K/m^3"
   ]
  },
  {
   "cell_type": "code",
   "execution_count": null,
   "id": "d6eba82d",
   "metadata": {},
   "outputs": [],
   "source": [
    "c_p_SI_vol *J_to_erg*1e-6 # from J/K/m^3 to erg/K/cc"
   ]
  },
  {
   "cell_type": "code",
   "execution_count": null,
   "id": "6c123c08",
   "metadata": {},
   "outputs": [],
   "source": [
    "(c_p_over_nkB*ni_cc * k_B*1e6)/1e8 # in erg/"
   ]
  },
  {
   "cell_type": "code",
   "execution_count": null,
   "id": "933aa883",
   "metadata": {},
   "outputs": [],
   "source": [
    "# Ideal\n",
    "# (1.503495387998133, 1.0020009999999997, 2.5033223241241656)\n"
   ]
  },
  {
   "cell_type": "markdown",
   "id": "03443a5d",
   "metadata": {
    "tags": []
   },
   "source": [
    "# βu_eff matching"
   ]
  },
  {
   "cell_type": "code",
   "execution_count": null,
   "id": "ed1cfac5",
   "metadata": {
    "tags": []
   },
   "outputs": [],
   "source": [
    "from pandas import read_csv\n",
    "from scipy.interpolate import interp1d\n",
    "# luke_file = '/home/zach/plasma/atomic_forces/data/Al_T0p5_tab.lammps.PAIR'\n",
    "luke_file = '/home/zach/plasma/atomic_forces/data/Al_T1_tab.lammps.PAIR'\n",
    "\n",
    "luke_data = read_csv(luke_file ,delim_whitespace=True,header=3, names=['r [A]','V [eV]','F [eV/A]'])\n",
    "# luke_r, luke_βV = 1e-10/aB/r_s*luke_data['r [A]'], 1/(Te/eV)*luke_data['V [eV]']\n",
    "luke_r, luke_βV = 1e-8/ri_AU*luke_data['r [A]'], 1/(Te_eV)*luke_data['V [eV]']\n",
    "luke_βV_function = interp1d(luke_r, luke_βV,fill_value='extrapolate',bounds_error=False)"
   ]
  },
  {
   "cell_type": "code",
   "execution_count": null,
   "id": "88547e04",
   "metadata": {
    "tags": []
   },
   "outputs": [],
   "source": [
    "from scipy.optimize import curve_fit\n",
    "\n",
    "class βu_fit():\n",
    "    def __init__(self, func, r_array, y_data, initial_guess):\n",
    "        self.r = r_array\n",
    "        self.y = y_data\n",
    "        self.y_vals = curve_fit(func, r_array, y_data, maxfev=int(1e5), p0=initial_guess)\n",
    "        self.y_fit  = func(r_array, *self.y_vals[0])\n",
    "        self.err = np.linalg.norm(self.y_fit-self.y)\n",
    "        print(func.__name__ + \" error: {0:.3e} \".format(self.err))\n",
    "\n",
    "def yukawa(r, Γ, κ):\n",
    "    return  Γ/r*np.exp(-κ*r)\n",
    "\n",
    "def yukawa_plus(r, a, b, c, d):\n",
    "    return  a/r*np.exp(-b*r)/(1+np.exp(c*(r-d)))\n",
    "\n",
    "def yukawa_plus_gaussian(r, a ,b ,c, d ,e, f, g):\n",
    "    return  a/r*np.exp(-b*r)/(1+np.exp(c*(r-d))) + e*np.exp(-(f-r)**2/g)\n",
    "\n",
    "def yukawa_plus_cos(r, a ,b ,c, d , h, i, j, k, l):\n",
    "    return  a/r*np.exp(-b*r)/(1+np.exp(c*(r-d))) + h*np.cos((r-i)*j*np.exp(-k*r))*np.exp(-l*r)\n",
    "\n",
    "def yukawa_plus_gaussian_cos(r, a ,b ,c, d ,e, f, g, h, i, j, k, l):\n",
    "    return  a/r*np.exp(-b*r)/(1+np.exp(c*(r-d))) + e*np.cos((r-f)*g*np.exp(-h*r))*np.exp(-i*r) + j*np.exp(-(k-r)**2/l)\n"
   ]
  },
  {
   "cell_type": "code",
   "execution_count": null,
   "id": "01e47bb9",
   "metadata": {
    "tags": []
   },
   "outputs": [],
   "source": [
    "atom, atomqsp = plasma.hnc, plasma.qsp"
   ]
  },
  {
   "cell_type": "code",
   "execution_count": null,
   "id": "1b257ec4",
   "metadata": {
    "tags": []
   },
   "outputs": [],
   "source": [
    "atom.invert_HNC_OZ([1])\n",
    "fit1 = βu_fit(yukawa, atom.r_array, atom.βueff_r_matrix[0,0], initial_guess=[   atomqsp.Γii, atomqsp.get_κ()])\n",
    "try: \n",
    "    fit2 = βu_fit(yukawa_plus_cos, atom.r_array, atom.βueff_r_matrix[0,0], initial_guess=[  *fit1.y_vals[0], 1, 0.01, 1 , 10, 2])\n",
    "except:\n",
    "    pass\n",
    "try:\n",
    "    fit3 = βu_fit(yukawa_plus_gaussian_cos, atom.r_array, atom.βueff_r_matrix[0,0], initial_guess=[  *fit2.y_vals[0], -1, 1.9, 1])\n",
    "except:\n",
    "    pass"
   ]
  },
  {
   "cell_type": "code",
   "execution_count": null,
   "id": "f90a68e6",
   "metadata": {
    "tags": []
   },
   "outputs": [],
   "source": [
    "from hnc.hnc.misc import P_Ideal_Fermi_Gas\n",
    "\n",
    "fig, ax = plt.subplots(figsize=(10,8),facecolor='w')\n",
    "# fig.suptitle(r\"{0} $T=${1:.1f} eV, $r_i$={2:.2f}\".format(case_id, Te/eV, atomqsp.ri), fontsize=20)\n",
    "\n",
    "#Compare to Yukawa and Coulomb\n",
    "coulomb_matrix = (atom.Γ_matrix[:,:,np.newaxis]/atom.r_array) [:-1,:-1]\n",
    "\n",
    "ax.plot(atom.r_array, atom.βu_r_matrix[0,0], 'k--',label='Initial')\n",
    "ax.plot(plasma.hnc.r_array, plasma.qsp.βv_Yukawa(plasma.hnc.r_array),'k--', label='Yukawa')\n",
    "\n",
    "# Plot effective potential and fit\n",
    "for i, plasma in enumerate(plasma_list):\n",
    "    if i>2:\n",
    "        continue\n",
    "    fit = βu_fit(yukawa, atom.r_array, plasma.hnc.βueff_r_matrix[0,0], initial_guess=[   atomqsp.Γii, atomqsp.get_κ()])\n",
    "    ax.plot(atom.r_array, plasma.hnc.βueff_r_matrix[0,0],color=colors[i], label= r\"$\\beta u^{\\text{eff}}_{ii}$\")    \n",
    "    ax.plot(fit.r, fit.y_fit, color=colors[0],linestyle='--',label=r\"$\\beta u^{\\text{eff}}_{ii}$ Yukawa Fit\")\n",
    "\n",
    "\n",
    "\n",
    "\n",
    "# LUKE Potfit VASP\n",
    "ax.plot(Luke_pair['r[A]']*Angstrom_to_AU/ri_AU, plasma.qsp.βie_c*Luke_pair['u[eV]']*eV_to_AU, 'r-.',label='Force Matched VASP')\n",
    "\n",
    "ax.tick_params(labelsize=20)\n",
    "ax.set_xlabel(r\"$r/r_s$\",fontsize=20)\n",
    "ax.set_ylabel(r'$\\beta u(r/r_s)$',fontsize=20)\n",
    "ax.set_xlabel(r'$r/r_s$',fontsize=20)\n",
    "\n",
    "ax.set_xlim(1e-2, 3)\n",
    "# ax.set_xscale('log')\n",
    "ax.set_yscale('symlog',linthresh=1)\n",
    "# ax.set_yscale('log')\n",
    "# ax.set_ylim(np.min([-10, 2*np.min(atom.βueff_r_matrix[0,0])]), np.max([1e3, 2*np.max(atom.βueff_r_matrix[0,0])]))\n",
    "ax.set_ylim(-1e0,1e3)\n",
    "ax.tick_params(labelsize=15)\n",
    "ax.legend(fontsize=10)\n",
    "\n",
    "\n",
    "fig.tight_layout()"
   ]
  },
  {
   "cell_type": "code",
   "execution_count": null,
   "id": "5ae27008",
   "metadata": {},
   "outputs": [],
   "source": []
  },
  {
   "cell_type": "code",
   "execution_count": null,
   "id": "ad78ee98",
   "metadata": {},
   "outputs": [],
   "source": []
  },
  {
   "cell_type": "code",
   "execution_count": null,
   "id": "7bf70745",
   "metadata": {},
   "outputs": [],
   "source": []
  }
 ],
 "metadata": {
  "kernelspec": {
   "display_name": "Python 3 (ipykernel)",
   "language": "python",
   "name": "python3"
  },
  "language_info": {
   "codemirror_mode": {
    "name": "ipython",
    "version": 3
   },
   "file_extension": ".py",
   "mimetype": "text/x-python",
   "name": "python",
   "nbconvert_exporter": "python",
   "pygments_lexer": "ipython3",
   "version": "3.10.6"
  }
 },
 "nbformat": 4,
 "nbformat_minor": 5
}
