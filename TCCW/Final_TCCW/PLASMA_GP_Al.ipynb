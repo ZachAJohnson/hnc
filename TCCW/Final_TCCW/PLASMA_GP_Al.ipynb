{
 "cells": [
  {
   "cell_type": "markdown",
   "id": "415426e0",
   "metadata": {
    "tags": []
   },
   "source": [
    "# Import"
   ]
  },
  {
   "cell_type": "code",
   "execution_count": 1,
   "id": "2e5c11ba",
   "metadata": {
    "tags": []
   },
   "outputs": [
    {
     "name": "stdout",
     "output_type": "stream",
     "text": [
      "ModuleNotFoundError: No module named 'mendeleev'\n"
     ]
    }
   ],
   "source": [
    "import numpy as np\n",
    "import matplotlib.pyplot as plt\n",
    "from pandas import read_csv\n",
    "\n",
    "from hnc.hnc.PIE import Plasma_of_Ions_and_Electrons as PLASMA\n",
    "\n",
    "from hnc.hnc.constants import *\n",
    "from hnc.hnc.misc import n_from_rs, rs_from_n\n",
    "\n",
    "from pandas import read_csv\n",
    "\n",
    "prop_cycle = plt.rcParams['axes.prop_cycle']\n",
    "colors = prop_cycle.by_key()['color']\n",
    "                \n",
    "from IPython.core.display import HTML\n",
    "HTML(\"\"\"\n",
    "<style>\n",
    ".output_png {\n",
    "    display: table-cell;\n",
    "    text-align: center;\n",
    "    vertical-align: middle;\n",
    "}\n",
    "\n",
    "</style>\n",
    "\"\"\")\n",
    "import matplotlib as mpl\n",
    "from cycler import cycler\n",
    "mpl.rcParams['lines.linewidth'] = 2.2\n",
    "mpl.rcParams['axes.spines.right'] = False\n",
    "mpl.rcParams['axes.spines.top'] = False\n",
    "mpl.rcParams['axes.labelsize'] = 20\n",
    "mpl.rcParams['lines.markersize'] = 8\n",
    "mpl.rcParams['font.sans-serif'] = ['Arial', 'Tahoma', 'DejaVu Sans', 'Lucida Grande', 'Verdana']\n",
    "mpl.rcParams['font.size'] = 16\n",
    "mpl.rcParams['axes.grid'] = True\n",
    "mpl.rcParams['grid.color'] = '#636363'\n",
    "mpl.rcParams['grid.alpha'] = 0.12\n",
    "mpl.rcParams['grid.linewidth'] = 0.7\n",
    "mpl.rcParams['grid.linestyle'] = '-'\n",
    "mpl.rcParams['axes.prop_cycle'] = cycler('color',  ['#0AB34F', '#bf009f', '#00abc3', '#8e92c5', '#cc7014', '#e32851'])\n",
    "mpl.rcParams['legend.fancybox'] = True\n",
    "mpl.rcParams['legend.framealpha'] = 0.6\n",
    "mpl.rcParams['legend.fontsize'] = 14\n",
    "mpl.rcParams['figure.figsize'] = 8, 4.9443\n",
    "mpl.rcParams['figure.dpi'] = 100\n"
   ]
  },
  {
   "cell_type": "markdown",
   "id": "01048544",
   "metadata": {},
   "source": [
    "# Function that sets up HNC QSP "
   ]
  },
  {
   "cell_type": "markdown",
   "id": "c961fbc5-d0c8-45ea-b238-9e611ea79173",
   "metadata": {},
   "source": [
    "### Create and run plasma"
   ]
  },
  {
   "cell_type": "code",
   "execution_count": 2,
   "id": "ca58c435",
   "metadata": {
    "tags": []
   },
   "outputs": [],
   "source": [
    "name='Al'\n",
    "Z, A = 13, 27\n",
    "mi = m_p * A\n",
    "ρ_gpercc =  2.7 \n",
    "ni_cc = ρ_gpercc/(mi*AU_to_g)\n",
    "ri_cm = rs_from_n(ni_cc)\n",
    "ri_AU = ri_cm*cm_to_AU\n"
   ]
  },
  {
   "cell_type": "markdown",
   "id": "bb89b469-e9f3-4ba9-bb07-defe0c60eea4",
   "metadata": {},
   "source": [
    "### Make βu_ii, βu_fi from using bound density from AA\n",
    "If we assume the bound state does not deform at all, then we can calculate potentials based on it easily via integration"
   ]
  },
  {
   "cell_type": "markdown",
   "id": "3808a279-aa7e-458b-9781-8b8b2671681f",
   "metadata": {},
   "source": [
    "### Solving"
   ]
  },
  {
   "cell_type": "code",
   "execution_count": 3,
   "id": "e0a95006-3690-4761-a8eb-d1f49eacda29",
   "metadata": {
    "scrolled": true,
    "tags": []
   },
   "outputs": [],
   "source": [
    "from scipy.optimize import least_squares\n",
    "from scipy.interpolate import interp1d,CubicSpline, PchipInterpolator\n",
    "\n",
    "def custom_flat(hnc_matrix):\n",
    "    hnc_flat = np.concatenate([hnc_matrix[0,0],hnc_matrix[0,1],hnc_matrix[1,1]])\n",
    "    return hnc_flat\n",
    "\n",
    "def custom_unflat(hnc_flat):\n",
    "    hnc00, hnc01, hnAl11 = np.split(hnc_flat,3)\n",
    "    hnc_matrix = np.zeros((2,2,len(hnc00)))\n",
    "    hnc_matrix[0,0] = hnc00\n",
    "    hnc_matrix[1,0] = hnc01\n",
    "    hnc_matrix[0,1] = hnc01\n",
    "    hnc_matrix[1,1] = hnAl11\n",
    "    return hnc_matrix\n",
    "\n",
    "def solve_least_squares(plasma, sparse_k_array, c_s_k_guess=None, ftol=1e-8):\n",
    "    if c_s_k_guess is None:\n",
    "        c_s_k_guess = plasma.hnc.c_s_k_matrix\n",
    "\n",
    "    # Create functions for converting between sparse, not sparse and flattened versions of c_s_k\n",
    "    get_sparse_csk = lambda c_s_k_flat: np.concatenate([PchipInterpolator(plasma.hnc.k_array, c_s_k)(sparse_k_array) for c_s_k in np.split(c_s_k_flat,3) ])\n",
    "    get_csk = lambda sparse_hnc_csk: PchipInterpolator(sparse_k_array, sparse_hnc_csk)(plasma.hnc.k_array)\n",
    "    get_csk_matrix_from_sparse_csk_flat =  lambda sparse_c_s_k_flat: custom_unflat(np.concatenate([get_csk(sparse_csk) for sparse_csk in np.split(sparse_c_s_k_flat,3)]))\n",
    "    \n",
    "    def min_function(sparse_c_s_k_flat):\n",
    "        c_s_k_matrix = get_csk_matrix_from_sparse_csk_flat(sparse_c_s_k_flat)\n",
    "        new_c_s_k_matrix = plasma.hnc.guess_c_s_k_matrix(c_s_k_matrix)\n",
    "        plasma.hnc.c_s_k_matrix = new_c_s_k_matrix.copy()\n",
    "        new_c_s_k_flat = custom_flat(new_c_s_k_matrix)\n",
    "        return sparse_c_s_k_flat - get_sparse_csk(new_c_s_k_flat)\n",
    "    \n",
    "    c_s_k_flat_guess = custom_flat(c_s_k_guess)\n",
    "    c_s_k_sparse_guess = get_sparse_csk(c_s_k_flat_guess)\n",
    "    sol = least_squares(min_function, c_s_k_sparse_guess, verbose=2, ftol=ftol)#, bounds = c_s_k_bounds)\n",
    "    plasma.hnc.c_s_k_matrix = get_csk_matrix_from_sparse_csk_flat(sol.x)\n",
    "    plasma.hnc.set_all_matrices_from_csk(plasma.hnc.c_s_k_matrix)\n",
    "    print(sol)\n",
    "\n",
    "def best_shift(plasma, c_s_k_guess = None, ftol=1e-8, set=True):\n",
    "    if c_s_k_guess is None:\n",
    "        c_s_k_guess = plasma.hnc.c_s_k_matrix\n",
    "\n",
    "    def min_function(multiplier_list):\n",
    "        xii, xei, xee = multiplier_list\n",
    "        multiplier_matrix = np.array([[xii,xei],[xei,xee]])\n",
    "        c_s_k_matrix = multiplier_matrix[:,:,np.newaxis] * c_s_k_guess\n",
    "        new_c_s_k_matrix = plasma.hnc.guess_c_s_k_matrix(c_s_k_matrix)\n",
    "        \n",
    "        return c_s_k_matrix.flatten() - new_c_s_k_matrix.flatten()\n",
    "    \n",
    "    sol = least_squares(min_function, np.ones((3)) , verbose=2, ftol=ftol)#, bounds = c_s_k_bounds)\n",
    "    xii, xei, xee = sol.x\n",
    "    multiplier_matrix = np.array([[xii,xei],[xei,xee]])\n",
    "    \n",
    "    plasma.hnc.c_s_k_matrix = multiplier_matrix[:,:,np.newaxis] * c_s_k_guess\n",
    "    print(sol)\n",
    "    return sol"
   ]
  },
  {
   "cell_type": "code",
   "execution_count": 4,
   "id": "fc42200c-65f7-4ce9-ab04-b02a9fbb159c",
   "metadata": {
    "tags": []
   },
   "outputs": [],
   "source": [
    "def make_Ashcroft_βvei(atom, α=1, Rc = 0.4):\n",
    "    # Assumes Rc in terms of Wigner-Seitz radius already as are hnc units\n",
    "    k = atom.hnc.k_array\n",
    "    βvei= atom.hnc.FT_k_2_r(  4*π*atom.qsp.Γei* (np.cos(k*Rc)*(1-α) + α*np.sin(k*Rc)/(k*Rc)) * (1/k**2 - 1/(k**2 + 1/atom.qsp.Λei**2)) )\n",
    "    atom.hnc.βu_r_matrix[0,1] = βvei\n",
    "    atom.hnc.βu_r_matrix[1,0] = βvei\n",
    "    atom.hnc.set_βu_matrix(atom.hnc.βu_r_matrix)"
   ]
  },
  {
   "cell_type": "code",
   "execution_count": 5,
   "id": "82585fc5",
   "metadata": {
    "scrolled": true,
    "tags": []
   },
   "outputs": [],
   "source": [
    "def plasma_f(T_eV, Rc, Zbar, closure='svt'):\n",
    "    plasma = PLASMA(Z, A, ni_cc, T_eV, T_eV, Zbar=Zbar, find_βuee=False,\n",
    "             βu_options = {'add_bridge':True,'bridge':'yukawa', 'pseudopotential':False}, \n",
    "             qsp_options = {'Te_c_type':'DMC'},\n",
    "             hnc_options={'kappa_multiscale':10, 'R_max':20,'N_bins':2000,'oz_method':closure},\n",
    "             hnc_solve_options={'num_iterations':10000,'alpha_Picard':0.1, 'verbose':False,'iters_to_wait':2000},\n",
    "             root_options={'options':{'maxfev':100,'xtol':1e-14}})\n",
    "    \n",
    "    # Make the smoothed Ashcroft potential \n",
    "    make_Ashcroft_βvei(plasma, α=0, Rc = Rc)\n",
    "    \n",
    "    return plasma"
   ]
  },
  {
   "cell_type": "code",
   "execution_count": 6,
   "id": "b233f72f-454e-4eef-a41b-7164bc145e79",
   "metadata": {
    "tags": []
   },
   "outputs": [],
   "source": [
    "def ocp_f(T_eV, Zbar):\n",
    "    ocp = PLASMA(Z, A, ni_cc, T_eV, T_eV, Zbar=Zbar, find_βuee=False,\n",
    "             βu_options = {'add_bridge':True,'bridge':'yukawa', 'pseudopotential':False}, \n",
    "                 hnc_options={'kappa_multiscale':10, 'R_max':20,'N_bins':2000,'oz_method':'standard'},\n",
    "                 hnc_solve_options={'num_iterations':10000,'alpha_Picard':0.1, 'verbose':False,'iters_to_wait':2000},\n",
    "                 root_options={'options':{'maxfev':100,'xtol':1e-14}})\n",
    "    ocp.run_ocp_hnc()\n",
    "    return ocp\n",
    "\n",
    "def yp_f(T_eV, Zbar):\n",
    "    yukawa_plasma =  PLASMA(Z, A, ni_cc, T_eV, T_eV, Zbar=Zbar, find_βuee=False,\n",
    "                 βu_options = {'add_bridge':True,'bridge':'yukawa', 'pseudopotential':False}, \n",
    "                 hnc_options={'kappa_multiscale':10, 'R_max':20,'N_bins':2000,'oz_method':'standard'},\n",
    "                 hnc_solve_options={'num_iterations':10000,'alpha_Picard':0.1, 'verbose':False,'iters_to_wait':2000},\n",
    "                 root_options={'options':{'maxfev':100,'xtol':1e-14}})\n",
    "    yukawa_plasma.run_yukawa_hnc();\n",
    "    return yukawa_plasma"
   ]
  },
  {
   "cell_type": "code",
   "execution_count": 7,
   "id": "ff3f642e-3630-4c56-aaec-6c01816ab406",
   "metadata": {
    "tags": []
   },
   "outputs": [],
   "source": [
    "def save_plasma(plasma, Rc):\n",
    "    T_eV = plasma.Ti_eV\n",
    "    Zbar = plasma.qsp.Zbar\n",
    "    ocp = ocp_f( T_eV, Zbar)\n",
    "    yp  = yp_f(T_eV, Zbar )\n",
    "    \n",
    "    # Make header\n",
    "    info_header = (f\"# Zach Johnson Dec/11/2023 CHNC for TCCW Paper\" + '\\n' + \n",
    "                   f\"# Ti={T_eV:0.3e}[eV], Tie={plasma.qsp.Tie_c*AU_to_eV:0.3e}[eV] , Te_c={plasma.qsp.Te_c*AU_to_eV:0.3e}[eV], n_i={plasma.ni_cc:0.3e}[1/cc], n_e={Zbar*plasma.ni_cc:0.3e}[1/cc]\" + '\\n' + \n",
    "                   f\"# ri={ri_AU:0.3f}, Zbar={Zbar:0.3f}, Rc={Rc:0.3f}[AU], Γii={plasma.qsp.Γii:0.3e}, Γei={plasma.qsp.Γei:0.3e} , Γee={plasma.qsp.Γee:0.3e}, κ={plasma.qsp.get_κ():0.3e}\" \n",
    "                  )\n",
    "    column_header = f\"{'r/ri':10}  {'g_ii':10}  {'g_ei':10}  {'g_ee':10}  {'OCP:g_ii':10}  {'Yuk:g_ii':10}  {'βu_ii_eff':10}  {'βu_OCP':10}  {'βu_Yuk':10}\"\n",
    "    header = info_header + '\\n' + column_header\n",
    "    \n",
    "    # Make save array\n",
    "    save_array = np.array([  plasma.hnc.r_array, plasma.hnc.h_r_matrix[0,0]+1, plasma.hnc.h_r_matrix[0,1]+1, plasma.hnc.h_r_matrix[1,1]+1,\n",
    "                           ocp.ocp_hnc.h_r_matrix[0,0]+1, yp.yuk_hnc.h_r_matrix[0,0] + 1, plasma.βueff_r_matrix_with_B[0,0],\n",
    "                           ocp.ocp_hnc.βu_r_matrix[0,0], yp.yuk_hnc.βu_r_matrix[0,0]]).T\n",
    "    \n",
    "    np.savetxt(f\"/home/zach/plasma/hnc/TCCW/Final_TCCW/results/CHNC_Al_rs{ri_AU:0.3f}_TeV{plasma.Ti_eV:0.3f}.dat\", save_array, \n",
    "               header=header, fmt='%10.5e', comments='')"
   ]
  },
  {
   "cell_type": "markdown",
   "id": "6507e969-fa00-4875-9bb7-ef9e005264a2",
   "metadata": {
    "tags": []
   },
   "source": [
    "### Now Load Data from George\n",
    "Rc is interpreted as the average bound radius, in AU in the file. Empty-core Ashcroft assumed."
   ]
  },
  {
   "cell_type": "code",
   "execution_count": 8,
   "id": "bacb9b12-75c2-4796-ad97-6a36f3d5519c",
   "metadata": {
    "tags": []
   },
   "outputs": [
    {
     "data": {
      "text/html": [
       "<div>\n",
       "<style scoped>\n",
       "    .dataframe tbody tr th:only-of-type {\n",
       "        vertical-align: middle;\n",
       "    }\n",
       "\n",
       "    .dataframe tbody tr th {\n",
       "        vertical-align: top;\n",
       "    }\n",
       "\n",
       "    .dataframe thead th {\n",
       "        text-align: right;\n",
       "    }\n",
       "</style>\n",
       "<table border=\"1\" class=\"dataframe\">\n",
       "  <thead>\n",
       "    <tr style=\"text-align: right;\">\n",
       "      <th></th>\n",
       "      <th>Te(eV)</th>\n",
       "      <th>rho/rho0</th>\n",
       "      <th>Ne_b</th>\n",
       "      <th>Ne_quasi</th>\n",
       "      <th>Ne_sc</th>\n",
       "      <th>Z_bar</th>\n",
       "      <th>Rc</th>\n",
       "      <th>mu</th>\n",
       "      <th>nu_mom</th>\n",
       "      <th>nu_tot</th>\n",
       "      <th>sigma</th>\n",
       "      <th>k_th</th>\n",
       "      <th>L</th>\n",
       "      <th>G</th>\n",
       "    </tr>\n",
       "  </thead>\n",
       "  <tbody>\n",
       "    <tr>\n",
       "      <th>0</th>\n",
       "      <td>0.1</td>\n",
       "      <td>1.0</td>\n",
       "      <td>10.000</td>\n",
       "      <td>0.0</td>\n",
       "      <td>3.000</td>\n",
       "      <td>3.000</td>\n",
       "      <td>0.514</td>\n",
       "      <td>0.288900</td>\n",
       "      <td>0.01607</td>\n",
       "      <td>0.09550</td>\n",
       "      <td>1.0740</td>\n",
       "      <td>0.01299</td>\n",
       "      <td>3.293</td>\n",
       "      <td>1.713000e-08</td>\n",
       "    </tr>\n",
       "    <tr>\n",
       "      <th>1</th>\n",
       "      <td>0.2</td>\n",
       "      <td>1.0</td>\n",
       "      <td>10.000</td>\n",
       "      <td>0.0</td>\n",
       "      <td>3.000</td>\n",
       "      <td>3.000</td>\n",
       "      <td>0.517</td>\n",
       "      <td>0.329200</td>\n",
       "      <td>0.01455</td>\n",
       "      <td>0.07732</td>\n",
       "      <td>1.0620</td>\n",
       "      <td>0.02592</td>\n",
       "      <td>3.321</td>\n",
       "      <td>2.510000e-08</td>\n",
       "    </tr>\n",
       "    <tr>\n",
       "      <th>2</th>\n",
       "      <td>0.5</td>\n",
       "      <td>1.0</td>\n",
       "      <td>10.000</td>\n",
       "      <td>0.0</td>\n",
       "      <td>3.000</td>\n",
       "      <td>3.000</td>\n",
       "      <td>0.518</td>\n",
       "      <td>0.330800</td>\n",
       "      <td>0.01410</td>\n",
       "      <td>0.07276</td>\n",
       "      <td>1.1130</td>\n",
       "      <td>0.06950</td>\n",
       "      <td>3.399</td>\n",
       "      <td>2.533000e-08</td>\n",
       "    </tr>\n",
       "    <tr>\n",
       "      <th>3</th>\n",
       "      <td>1.0</td>\n",
       "      <td>1.0</td>\n",
       "      <td>10.000</td>\n",
       "      <td>0.0</td>\n",
       "      <td>3.000</td>\n",
       "      <td>3.000</td>\n",
       "      <td>0.521</td>\n",
       "      <td>0.331400</td>\n",
       "      <td>0.01352</td>\n",
       "      <td>0.06448</td>\n",
       "      <td>1.2280</td>\n",
       "      <td>0.14220</td>\n",
       "      <td>3.153</td>\n",
       "      <td>2.608000e-08</td>\n",
       "    </tr>\n",
       "    <tr>\n",
       "      <th>4</th>\n",
       "      <td>2.0</td>\n",
       "      <td>1.0</td>\n",
       "      <td>10.000</td>\n",
       "      <td>0.0</td>\n",
       "      <td>3.000</td>\n",
       "      <td>3.000</td>\n",
       "      <td>0.525</td>\n",
       "      <td>0.327300</td>\n",
       "      <td>0.01493</td>\n",
       "      <td>0.05904</td>\n",
       "      <td>1.2480</td>\n",
       "      <td>0.22160</td>\n",
       "      <td>2.417</td>\n",
       "      <td>3.186000e-08</td>\n",
       "    </tr>\n",
       "    <tr>\n",
       "      <th>5</th>\n",
       "      <td>5.0</td>\n",
       "      <td>1.0</td>\n",
       "      <td>10.000</td>\n",
       "      <td>0.0</td>\n",
       "      <td>3.005</td>\n",
       "      <td>3.005</td>\n",
       "      <td>0.533</td>\n",
       "      <td>0.258500</td>\n",
       "      <td>0.02399</td>\n",
       "      <td>0.05507</td>\n",
       "      <td>1.0810</td>\n",
       "      <td>0.29680</td>\n",
       "      <td>1.494</td>\n",
       "      <td>6.148000e-08</td>\n",
       "    </tr>\n",
       "    <tr>\n",
       "      <th>6</th>\n",
       "      <td>10.0</td>\n",
       "      <td>1.0</td>\n",
       "      <td>9.932</td>\n",
       "      <td>0.0</td>\n",
       "      <td>3.068</td>\n",
       "      <td>3.068</td>\n",
       "      <td>0.538</td>\n",
       "      <td>0.007439</td>\n",
       "      <td>0.04736</td>\n",
       "      <td>0.07723</td>\n",
       "      <td>0.7355</td>\n",
       "      <td>0.35850</td>\n",
       "      <td>1.327</td>\n",
       "      <td>1.238000e-07</td>\n",
       "    </tr>\n",
       "    <tr>\n",
       "      <th>7</th>\n",
       "      <td>20.0</td>\n",
       "      <td>1.0</td>\n",
       "      <td>9.108</td>\n",
       "      <td>0.0</td>\n",
       "      <td>3.892</td>\n",
       "      <td>3.892</td>\n",
       "      <td>0.513</td>\n",
       "      <td>-0.692100</td>\n",
       "      <td>0.10870</td>\n",
       "      <td>0.20160</td>\n",
       "      <td>0.2711</td>\n",
       "      <td>0.51860</td>\n",
       "      <td>2.602</td>\n",
       "      <td>2.779000e-07</td>\n",
       "    </tr>\n",
       "    <tr>\n",
       "      <th>8</th>\n",
       "      <td>50.0</td>\n",
       "      <td>1.0</td>\n",
       "      <td>6.893</td>\n",
       "      <td>0.0</td>\n",
       "      <td>6.107</td>\n",
       "      <td>6.107</td>\n",
       "      <td>0.486</td>\n",
       "      <td>-3.522000</td>\n",
       "      <td>0.27120</td>\n",
       "      <td>0.55740</td>\n",
       "      <td>0.2203</td>\n",
       "      <td>1.42500</td>\n",
       "      <td>3.520</td>\n",
       "      <td>6.410000e-07</td>\n",
       "    </tr>\n",
       "    <tr>\n",
       "      <th>9</th>\n",
       "      <td>100.0</td>\n",
       "      <td>1.0</td>\n",
       "      <td>4.599</td>\n",
       "      <td>0.0</td>\n",
       "      <td>8.401</td>\n",
       "      <td>8.401</td>\n",
       "      <td>0.397</td>\n",
       "      <td>-9.565000</td>\n",
       "      <td>0.27220</td>\n",
       "      <td>0.59680</td>\n",
       "      <td>0.4190</td>\n",
       "      <td>5.61800</td>\n",
       "      <td>3.649</td>\n",
       "      <td>8.146000e-07</td>\n",
       "    </tr>\n",
       "    <tr>\n",
       "      <th>10</th>\n",
       "      <td>200.0</td>\n",
       "      <td>1.0</td>\n",
       "      <td>2.876</td>\n",
       "      <td>0.0</td>\n",
       "      <td>10.120</td>\n",
       "      <td>10.120</td>\n",
       "      <td>0.267</td>\n",
       "      <td>-25.010000</td>\n",
       "      <td>0.24740</td>\n",
       "      <td>0.76060</td>\n",
       "      <td>0.9042</td>\n",
       "      <td>24.74000</td>\n",
       "      <td>3.722</td>\n",
       "      <td>7.491000e-07</td>\n",
       "    </tr>\n",
       "    <tr>\n",
       "      <th>11</th>\n",
       "      <td>500.0</td>\n",
       "      <td>1.0</td>\n",
       "      <td>0.852</td>\n",
       "      <td>0.0</td>\n",
       "      <td>12.150</td>\n",
       "      <td>12.150</td>\n",
       "      <td>0.212</td>\n",
       "      <td>-84.930000</td>\n",
       "      <td>0.16360</td>\n",
       "      <td>0.95970</td>\n",
       "      <td>2.1470</td>\n",
       "      <td>116.80000</td>\n",
       "      <td>2.960</td>\n",
       "      <td>4.634000e-07</td>\n",
       "    </tr>\n",
       "    <tr>\n",
       "      <th>12</th>\n",
       "      <td>1000.0</td>\n",
       "      <td>1.0</td>\n",
       "      <td>0.118</td>\n",
       "      <td>0.0</td>\n",
       "      <td>12.880</td>\n",
       "      <td>12.880</td>\n",
       "      <td>0.326</td>\n",
       "      <td>-204.600000</td>\n",
       "      <td>0.09960</td>\n",
       "      <td>1.03400</td>\n",
       "      <td>5.5930</td>\n",
       "      <td>415.20000</td>\n",
       "      <td>2.020</td>\n",
       "      <td>2.608000e-07</td>\n",
       "    </tr>\n",
       "  </tbody>\n",
       "</table>\n",
       "</div>"
      ],
      "text/plain": [
       "    Te(eV)  rho/rho0    Ne_b  Ne_quasi   Ne_sc   Z_bar     Rc          mu  \\\n",
       "0      0.1       1.0  10.000       0.0   3.000   3.000  0.514    0.288900   \n",
       "1      0.2       1.0  10.000       0.0   3.000   3.000  0.517    0.329200   \n",
       "2      0.5       1.0  10.000       0.0   3.000   3.000  0.518    0.330800   \n",
       "3      1.0       1.0  10.000       0.0   3.000   3.000  0.521    0.331400   \n",
       "4      2.0       1.0  10.000       0.0   3.000   3.000  0.525    0.327300   \n",
       "5      5.0       1.0  10.000       0.0   3.005   3.005  0.533    0.258500   \n",
       "6     10.0       1.0   9.932       0.0   3.068   3.068  0.538    0.007439   \n",
       "7     20.0       1.0   9.108       0.0   3.892   3.892  0.513   -0.692100   \n",
       "8     50.0       1.0   6.893       0.0   6.107   6.107  0.486   -3.522000   \n",
       "9    100.0       1.0   4.599       0.0   8.401   8.401  0.397   -9.565000   \n",
       "10   200.0       1.0   2.876       0.0  10.120  10.120  0.267  -25.010000   \n",
       "11   500.0       1.0   0.852       0.0  12.150  12.150  0.212  -84.930000   \n",
       "12  1000.0       1.0   0.118       0.0  12.880  12.880  0.326 -204.600000   \n",
       "\n",
       "     nu_mom   nu_tot   sigma       k_th      L             G  \n",
       "0   0.01607  0.09550  1.0740    0.01299  3.293  1.713000e-08  \n",
       "1   0.01455  0.07732  1.0620    0.02592  3.321  2.510000e-08  \n",
       "2   0.01410  0.07276  1.1130    0.06950  3.399  2.533000e-08  \n",
       "3   0.01352  0.06448  1.2280    0.14220  3.153  2.608000e-08  \n",
       "4   0.01493  0.05904  1.2480    0.22160  2.417  3.186000e-08  \n",
       "5   0.02399  0.05507  1.0810    0.29680  1.494  6.148000e-08  \n",
       "6   0.04736  0.07723  0.7355    0.35850  1.327  1.238000e-07  \n",
       "7   0.10870  0.20160  0.2711    0.51860  2.602  2.779000e-07  \n",
       "8   0.27120  0.55740  0.2203    1.42500  3.520  6.410000e-07  \n",
       "9   0.27220  0.59680  0.4190    5.61800  3.649  8.146000e-07  \n",
       "10  0.24740  0.76060  0.9042   24.74000  3.722  7.491000e-07  \n",
       "11  0.16360  0.95970  2.1470  116.80000  2.960  4.634000e-07  \n",
       "12  0.09960  1.03400  5.5930  415.20000  2.020  2.608000e-07  "
      ]
     },
     "execution_count": 8,
     "metadata": {},
     "output_type": "execute_result"
    }
   ],
   "source": [
    "GP_data   = read_csv(\"/home/zach/plasma/hnc/TCCW/Final_TCCW/GP_data/Al_combined.dat\", header=0, delim_whitespace=True)\n",
    "T_eV_list = GP_data['Te(eV)']\n",
    "Rc_list   = GP_data['Rc'] # AU\n",
    "Zbar_list = GP_data['Z_bar'] #Average atom Zbar GP_data\n",
    "GP_data"
   ]
  },
  {
   "cell_type": "code",
   "execution_count": 9,
   "id": "64b48338-a027-49ae-bbd4-a0da8ddb85bf",
   "metadata": {
    "tags": []
   },
   "outputs": [
    {
     "name": "stdout",
     "output_type": "stream",
     "text": [
      "Te_in_eV: 1.000\n",
      "Ti_in_eV: 1.000\n"
     ]
    }
   ],
   "source": [
    "plasma_list = []\n",
    "\n",
    "for T_eV, Rc, Zbar in zip(T_eV_list[3:4], Rc_list[3:4], Zbar_list[3:4]):\n",
    "    plasma = plasma_f(T_eV, Rc/ri_AU, Zbar )    \n",
    "    plasma_list.append(plasma)"
   ]
  },
  {
   "cell_type": "code",
   "execution_count": 10,
   "id": "5b29afc7-9dc5-49a0-a8b4-08d5fa60b633",
   "metadata": {
    "tags": []
   },
   "outputs": [
    {
     "name": "stdout",
     "output_type": "stream",
     "text": [
      "T_eV = 1.0\n",
      "0: Initial condition Total Error: 8.992e+00\n"
     ]
    },
    {
     "ename": "KeyboardInterrupt",
     "evalue": "",
     "output_type": "error",
     "traceback": [
      "\u001b[0;31m---------------------------------------------------------------------------\u001b[0m",
      "\u001b[0;31mKeyboardInterrupt\u001b[0m                         Traceback (most recent call last)",
      "Cell \u001b[0;32mIn[10], line 5\u001b[0m\n\u001b[1;32m      2\u001b[0m \u001b[38;5;28;01mfor\u001b[39;00m Rc, plasma \u001b[38;5;129;01min\u001b[39;00m \u001b[38;5;28mzip\u001b[39m(Rc_list[\u001b[38;5;241m3\u001b[39m:\u001b[38;5;241m4\u001b[39m], plasma_list): \n\u001b[1;32m      3\u001b[0m     \u001b[38;5;66;03m# if T_eV == 1.0:\u001b[39;00m\n\u001b[1;32m      4\u001b[0m     \u001b[38;5;28mprint\u001b[39m(\u001b[38;5;124mf\u001b[39m\u001b[38;5;124m\"\u001b[39m\u001b[38;5;124mT_eV = \u001b[39m\u001b[38;5;132;01m{\u001b[39;00mplasma\u001b[38;5;241m.\u001b[39mTi_eV\u001b[38;5;132;01m}\u001b[39;00m\u001b[38;5;124m\"\u001b[39m)\n\u001b[0;32m----> 5\u001b[0m     \u001b[43mplasma\u001b[49m\u001b[38;5;241;43m.\u001b[39;49m\u001b[43mrun_hnc\u001b[49m\u001b[43m(\u001b[49m\u001b[43mc_s_k_guess\u001b[49m\u001b[43m \u001b[49m\u001b[38;5;241;43m=\u001b[39;49m\u001b[43m \u001b[49m\u001b[43mguess_c_s_k_matrix\u001b[49m\u001b[43m)\u001b[49m\n\u001b[1;32m      6\u001b[0m     \u001b[38;5;28;01mif\u001b[39;00m plasma\u001b[38;5;241m.\u001b[39mhnc\u001b[38;5;241m.\u001b[39mtot_err_list[\u001b[38;5;241m-\u001b[39m\u001b[38;5;241m1\u001b[39m] \u001b[38;5;241m>\u001b[39m \u001b[38;5;241m1e-7\u001b[39m:\n\u001b[1;32m      7\u001b[0m         best_shift(plasma)\n",
      "File \u001b[0;32m~/plasma/hnc/hnc/PIE.py:259\u001b[0m, in \u001b[0;36mPlasma_of_Ions_and_Electrons.run_hnc\u001b[0;34m(self, hnc, qsp, c_s_k_guess, newton)\u001b[0m\n\u001b[1;32m    256\u001b[0m \u001b[38;5;28;01melse\u001b[39;00m:\n\u001b[1;32m    257\u001b[0m \thnc\u001b[38;5;241m.\u001b[39mc_s_k_matrix \u001b[38;5;241m*\u001b[39m\u001b[38;5;241m=\u001b[39m \u001b[38;5;241m0\u001b[39m \n\u001b[0;32m--> 259\u001b[0m converged \u001b[38;5;241m=\u001b[39m \u001b[43mhnc\u001b[49m\u001b[38;5;241;43m.\u001b[39;49m\u001b[43mHNC_solve\u001b[49m\u001b[43m(\u001b[49m\u001b[38;5;241;43m*\u001b[39;49m\u001b[38;5;241;43m*\u001b[39;49m\u001b[38;5;28;43mself\u001b[39;49m\u001b[38;5;241;43m.\u001b[39;49m\u001b[43mhnc_solve_options\u001b[49m\u001b[43m)\u001b[49m\n\u001b[1;32m    261\u001b[0m hnc\u001b[38;5;241m.\u001b[39minvert_HNC_OZ([\u001b[38;5;241m1\u001b[39m])\n\u001b[1;32m    263\u001b[0m \u001b[38;5;28;01mif\u001b[39;00m newton\u001b[38;5;241m==\u001b[39m\u001b[38;5;28;01mFalse\u001b[39;00m:\n",
      "File \u001b[0;32m~/plasma/hnc/hnc/hnc.py:634\u001b[0m, in \u001b[0;36mIntegral_Equation_Solver.HNC_solve\u001b[0;34m(self, num_iterations, tol, iters_to_wait, iters_to_use, alpha_Ng, alpha_Picard, alpha_oz, iters_to_check, verbose, min_iters)\u001b[0m\n\u001b[1;32m    631\u001b[0m \u001b[38;5;28mself\u001b[39m\u001b[38;5;241m.\u001b[39mu_ex_list\u001b[38;5;241m.\u001b[39mappend(u_ex)\n\u001b[1;32m    633\u001b[0m hnc_err \u001b[38;5;241m=\u001b[39m np\u001b[38;5;241m.\u001b[39mlinalg\u001b[38;5;241m.\u001b[39mnorm(\u001b[38;5;241m-\u001b[39m \u001b[38;5;241m1\u001b[39m \u001b[38;5;241m-\u001b[39m \u001b[38;5;28mself\u001b[39m\u001b[38;5;241m.\u001b[39mh_r_matrix   \u001b[38;5;241m+\u001b[39m np\u001b[38;5;241m.\u001b[39mexp( \u001b[38;5;241m-\u001b[39m\u001b[38;5;28mself\u001b[39m\u001b[38;5;241m.\u001b[39mβu_r_matrix \u001b[38;5;241m+\u001b[39m \u001b[38;5;28mself\u001b[39m\u001b[38;5;241m.\u001b[39mh_r_matrix \u001b[38;5;241m-\u001b[39m \u001b[38;5;28mself\u001b[39m\u001b[38;5;241m.\u001b[39mc_r_matrix ))\u001b[38;5;241m/\u001b[39mnp\u001b[38;5;241m.\u001b[39msqrt(\u001b[38;5;28mself\u001b[39m\u001b[38;5;241m.\u001b[39mN_bins\u001b[38;5;241m*\u001b[39m\u001b[38;5;28mself\u001b[39m\u001b[38;5;241m.\u001b[39mN_species\u001b[38;5;241m*\u001b[39m\u001b[38;5;241m*\u001b[39m\u001b[38;5;241m2\u001b[39m)\n\u001b[0;32m--> 634\u001b[0m actual_tot_err \u001b[38;5;241m=\u001b[39m \u001b[38;5;28;43mself\u001b[39;49m\u001b[38;5;241;43m.\u001b[39;49m\u001b[43mtotal_err\u001b[49m\u001b[43m(\u001b[49m\u001b[38;5;28;43mself\u001b[39;49m\u001b[38;5;241;43m.\u001b[39;49m\u001b[43mc_s_k_matrix\u001b[49m\u001b[43m)\u001b[49m\n\u001b[1;32m    635\u001b[0m \u001b[38;5;28mself\u001b[39m\u001b[38;5;241m.\u001b[39mtot_err_list\u001b[38;5;241m.\u001b[39mappend(actual_tot_err)\n\u001b[1;32m    636\u001b[0m \u001b[38;5;28mself\u001b[39m\u001b[38;5;241m.\u001b[39mhnc_err_list\u001b[38;5;241m.\u001b[39mappend(hnc_err)\n",
      "File \u001b[0;32m~/plasma/hnc/hnc/hnc.py:413\u001b[0m, in \u001b[0;36mIntegral_Equation_Solver.total_err\u001b[0;34m(self, c_s_k_matrix)\u001b[0m\n\u001b[1;32m    410\u001b[0m c_k_matrix \u001b[38;5;241m=\u001b[39m c_s_k_matrix \u001b[38;5;241m-\u001b[39m \u001b[38;5;28mself\u001b[39m\u001b[38;5;241m.\u001b[39mβu_l_k_matrix\n\u001b[1;32m    412\u001b[0m \u001b[38;5;66;03m# C_matrix = self.rho[np.newaxis,:,np.newaxis] * c_k_matrix\u001b[39;00m\n\u001b[0;32m--> 413\u001b[0m γs_k_matrix \u001b[38;5;241m=\u001b[39m \u001b[38;5;28;43mself\u001b[39;49m\u001b[38;5;241;43m.\u001b[39;49m\u001b[43mget_γs_k_matrix\u001b[49m\u001b[43m(\u001b[49m\u001b[43mc_s_k_matrix\u001b[49m\u001b[43m)\u001b[49m\n\u001b[1;32m    414\u001b[0m h_k_matrix \u001b[38;5;241m=\u001b[39m c_s_k_matrix  \u001b[38;5;241m+\u001b[39m γs_k_matrix\n\u001b[1;32m    415\u001b[0m h_r_matrix \u001b[38;5;241m=\u001b[39m \u001b[38;5;28mself\u001b[39m\u001b[38;5;241m.\u001b[39mFT_k_2_r_matrix(h_k_matrix)\n",
      "File \u001b[0;32m~/plasma/hnc/hnc/hnc.py:242\u001b[0m, in \u001b[0;36mIntegral_Equation_Solver.get_γs_k_matrix\u001b[0;34m(self, c_s_k_matrix)\u001b[0m\n\u001b[1;32m    240\u001b[0m     γs_k_matrix \u001b[38;5;241m=\u001b[39m \u001b[38;5;28mself\u001b[39m\u001b[38;5;241m.\u001b[39mget_γs_k_matrix_standard(c_s_k_matrix)\n\u001b[1;32m    241\u001b[0m \u001b[38;5;28;01melif\u001b[39;00m \u001b[38;5;28mself\u001b[39m\u001b[38;5;241m.\u001b[39moz_method \u001b[38;5;129;01min\u001b[39;00m [\u001b[38;5;124m'\u001b[39m\u001b[38;5;124msvt\u001b[39m\u001b[38;5;124m'\u001b[39m,\u001b[38;5;124m'\u001b[39m\u001b[38;5;124mSVT\u001b[39m\u001b[38;5;124m'\u001b[39m]:\n\u001b[0;32m--> 242\u001b[0m     γs_k_matrix \u001b[38;5;241m=\u001b[39m \u001b[38;5;28;43mself\u001b[39;49m\u001b[38;5;241;43m.\u001b[39;49m\u001b[43mget_γs_k_matrix_SVT\u001b[49m\u001b[43m(\u001b[49m\u001b[43mc_s_k_matrix\u001b[49m\u001b[43m)\u001b[49m\n\u001b[1;32m    243\u001b[0m \u001b[38;5;28;01mreturn\u001b[39;00m γs_k_matrix\n",
      "File \u001b[0;32m~/plasma/hnc/hnc/hnc.py:278\u001b[0m, in \u001b[0;36mIntegral_Equation_Solver.get_γs_k_matrix_SVT\u001b[0;34m(self, c_s_k_matrix)\u001b[0m\n\u001b[1;32m    276\u001b[0m γs_k_matrix \u001b[38;5;241m=\u001b[39m np\u001b[38;5;241m.\u001b[39mzeros_like(\u001b[38;5;28mself\u001b[39m\u001b[38;5;241m.\u001b[39mγs_k_matrix)\n\u001b[1;32m    277\u001b[0m \u001b[38;5;28;01mfor\u001b[39;00m k \u001b[38;5;129;01min\u001b[39;00m \u001b[38;5;28mrange\u001b[39m(\u001b[38;5;28mself\u001b[39m\u001b[38;5;241m.\u001b[39mN_bins):\n\u001b[0;32m--> 278\u001b[0m     γs_k_matrix[:,:,k]   \u001b[38;5;241m=\u001b[39m \u001b[43msolve_sylvester\u001b[49m\u001b[43m(\u001b[49m\u001b[43mA\u001b[49m\u001b[43m[\u001b[49m\u001b[43m:\u001b[49m\u001b[43m,\u001b[49m\u001b[43m:\u001b[49m\u001b[43m,\u001b[49m\u001b[43mk\u001b[49m\u001b[43m]\u001b[49m\u001b[43m,\u001b[49m\u001b[43m \u001b[49m\u001b[43mB\u001b[49m\u001b[43m[\u001b[49m\u001b[43m:\u001b[49m\u001b[43m,\u001b[49m\u001b[43m:\u001b[49m\u001b[43m,\u001b[49m\u001b[43mk\u001b[49m\u001b[43m]\u001b[49m\u001b[43m,\u001b[49m\u001b[43m \u001b[49m\u001b[43mC\u001b[49m\u001b[43m[\u001b[49m\u001b[43m:\u001b[49m\u001b[43m,\u001b[49m\u001b[43m:\u001b[49m\u001b[43m,\u001b[49m\u001b[43mk\u001b[49m\u001b[43m]\u001b[49m\u001b[43m)\u001b[49m\n\u001b[1;32m    279\u001b[0m     \u001b[38;5;66;03m# γs_k_matrix[:,:,k] = solve_continuous_lyapunov(A[:,:,k], C[:,:,k])\u001b[39;00m\n\u001b[1;32m    280\u001b[0m \u001b[38;5;28;01mreturn\u001b[39;00m γs_k_matrix\n",
      "File \u001b[0;32m~/anaconda3/envs/zplasma/lib/python3.10/site-packages/scipy/linalg/_solvers.py:88\u001b[0m, in \u001b[0;36msolve_sylvester\u001b[0;34m(a, b, q)\u001b[0m\n\u001b[1;32m     85\u001b[0m r, u \u001b[38;5;241m=\u001b[39m schur(a, output\u001b[38;5;241m=\u001b[39m\u001b[38;5;124m'\u001b[39m\u001b[38;5;124mreal\u001b[39m\u001b[38;5;124m'\u001b[39m)\n\u001b[1;32m     87\u001b[0m \u001b[38;5;66;03m# Compute the Schur decomposition of b\u001b[39;00m\n\u001b[0;32m---> 88\u001b[0m s, v \u001b[38;5;241m=\u001b[39m \u001b[43mschur\u001b[49m\u001b[43m(\u001b[49m\u001b[43mb\u001b[49m\u001b[38;5;241;43m.\u001b[39;49m\u001b[43mconj\u001b[49m\u001b[43m(\u001b[49m\u001b[43m)\u001b[49m\u001b[38;5;241;43m.\u001b[39;49m\u001b[43mtranspose\u001b[49m\u001b[43m(\u001b[49m\u001b[43m)\u001b[49m\u001b[43m,\u001b[49m\u001b[43m \u001b[49m\u001b[43moutput\u001b[49m\u001b[38;5;241;43m=\u001b[39;49m\u001b[38;5;124;43m'\u001b[39;49m\u001b[38;5;124;43mreal\u001b[39;49m\u001b[38;5;124;43m'\u001b[39;49m\u001b[43m)\u001b[49m\n\u001b[1;32m     90\u001b[0m \u001b[38;5;66;03m# Construct f = u'*q*v\u001b[39;00m\n\u001b[1;32m     91\u001b[0m f \u001b[38;5;241m=\u001b[39m np\u001b[38;5;241m.\u001b[39mdot(np\u001b[38;5;241m.\u001b[39mdot(u\u001b[38;5;241m.\u001b[39mconj()\u001b[38;5;241m.\u001b[39mtranspose(), q), v)\n",
      "File \u001b[0;32m~/anaconda3/envs/zplasma/lib/python3.10/site-packages/scipy/linalg/_decomp_schur.py:120\u001b[0m, in \u001b[0;36mschur\u001b[0;34m(a, output, lwork, overwrite_a, sort, check_finite)\u001b[0m\n\u001b[1;32m    118\u001b[0m     \u001b[38;5;28;01mraise\u001b[39;00m \u001b[38;5;167;01mValueError\u001b[39;00m(\u001b[38;5;124m\"\u001b[39m\u001b[38;5;124margument must be \u001b[39m\u001b[38;5;124m'\u001b[39m\u001b[38;5;124mreal\u001b[39m\u001b[38;5;124m'\u001b[39m\u001b[38;5;124m, or \u001b[39m\u001b[38;5;124m'\u001b[39m\u001b[38;5;124mcomplex\u001b[39m\u001b[38;5;124m'\u001b[39m\u001b[38;5;124m\"\u001b[39m)\n\u001b[1;32m    119\u001b[0m \u001b[38;5;28;01mif\u001b[39;00m check_finite:\n\u001b[0;32m--> 120\u001b[0m     a1 \u001b[38;5;241m=\u001b[39m \u001b[43masarray_chkfinite\u001b[49m\u001b[43m(\u001b[49m\u001b[43ma\u001b[49m\u001b[43m)\u001b[49m\n\u001b[1;32m    121\u001b[0m \u001b[38;5;28;01melse\u001b[39;00m:\n\u001b[1;32m    122\u001b[0m     a1 \u001b[38;5;241m=\u001b[39m asarray(a)\n",
      "File \u001b[0;32m~/anaconda3/envs/zplasma/lib/python3.10/site-packages/numpy/lib/function_base.py:629\u001b[0m, in \u001b[0;36masarray_chkfinite\u001b[0;34m(a, dtype, order)\u001b[0m\n\u001b[1;32m    566\u001b[0m \u001b[38;5;250m\u001b[39m\u001b[38;5;124;03m\"\"\"Convert the input to an array, checking for NaNs or Infs.\u001b[39;00m\n\u001b[1;32m    567\u001b[0m \n\u001b[1;32m    568\u001b[0m \u001b[38;5;124;03mParameters\u001b[39;00m\n\u001b[0;32m   (...)\u001b[0m\n\u001b[1;32m    626\u001b[0m \n\u001b[1;32m    627\u001b[0m \u001b[38;5;124;03m\"\"\"\u001b[39;00m\n\u001b[1;32m    628\u001b[0m a \u001b[38;5;241m=\u001b[39m asarray(a, dtype\u001b[38;5;241m=\u001b[39mdtype, order\u001b[38;5;241m=\u001b[39morder)\n\u001b[0;32m--> 629\u001b[0m \u001b[38;5;28;01mif\u001b[39;00m a\u001b[38;5;241m.\u001b[39mdtype\u001b[38;5;241m.\u001b[39mchar \u001b[38;5;129;01min\u001b[39;00m typecodes[\u001b[38;5;124m'\u001b[39m\u001b[38;5;124mAllFloat\u001b[39m\u001b[38;5;124m'\u001b[39m] \u001b[38;5;129;01mand\u001b[39;00m \u001b[38;5;129;01mnot\u001b[39;00m \u001b[43mnp\u001b[49m\u001b[38;5;241;43m.\u001b[39;49m\u001b[43misfinite\u001b[49m\u001b[43m(\u001b[49m\u001b[43ma\u001b[49m\u001b[43m)\u001b[49m\u001b[38;5;241m.\u001b[39mall():\n\u001b[1;32m    630\u001b[0m     \u001b[38;5;28;01mraise\u001b[39;00m \u001b[38;5;167;01mValueError\u001b[39;00m(\n\u001b[1;32m    631\u001b[0m         \u001b[38;5;124m\"\u001b[39m\u001b[38;5;124marray must not contain infs or NaNs\u001b[39m\u001b[38;5;124m\"\u001b[39m)\n\u001b[1;32m    632\u001b[0m \u001b[38;5;28;01mreturn\u001b[39;00m a\n",
      "\u001b[0;31mKeyboardInterrupt\u001b[0m: "
     ]
    }
   ],
   "source": [
    "guess_c_s_k_matrix = None\n",
    "for Rc, plasma in zip(Rc_list[3:4], plasma_list): \n",
    "    # if T_eV == 1.0:\n",
    "    print(f\"T_eV = {plasma.Ti_eV}\")\n",
    "    plasma.run_hnc(c_s_k_guess = guess_c_s_k_matrix)\n",
    "    if plasma.hnc.tot_err_list[-1] > 1e-7:\n",
    "        best_shift(plasma)\n",
    "        solve_least_squares(plasma, np.linspace(plasma.hnc.k_array[0], plasma.hnc.k_array[-1], num=200))\n",
    "        # solve_least_squares(plasma, np.linspace(plasma.hnc.k_array[0], plasma.hnc.k_array[-1], num=400))\n",
    "        # solve_least_squares(plasma, np.linspace(plasma.hnc.k_array[0], plasma.hnc.k_array[-1], num=2000))\n",
    "        save_plasma(plasma, Rc)\n",
    "    else:\n",
    "        save_plasma(plasma, Rc)\n",
    "    # guess_c_s_k_matrix = plasma.hnc.c_s_k_matrix.copy()"
   ]
  },
  {
   "cell_type": "code",
   "execution_count": null,
   "id": "392b679e-0a90-46f0-9f17-62693c81895e",
   "metadata": {
    "tags": []
   },
   "outputs": [],
   "source": [
    "solve_least_squares(plasma, np.linspace(plasma.hnc.k_array[0], plasma.hnc.k_array[-1], num=2000))\n",
    "save_plasma(plasma, Rc)\n"
   ]
  },
  {
   "cell_type": "markdown",
   "id": "eea3c898-0008-4f9c-a85b-64090beab818",
   "metadata": {
    "tags": []
   },
   "source": [
    "## Aluminum Final Plots"
   ]
  },
  {
   "cell_type": "code",
   "execution_count": null,
   "id": "c2c4862b-6554-4924-8054-8d2155ab0611",
   "metadata": {
    "tags": []
   },
   "outputs": [],
   "source": [
    "Al1_GP = read_csv(\"~/plasma/hnc/TCCW/Final_TCCW/GP_data/GP_Al1_profile.dat\", delim_whitespace=True, header=0)\n",
    "Al1_GP"
   ]
  },
  {
   "cell_type": "code",
   "execution_count": null,
   "id": "78b62f0e-34b6-4347-876f-e159379bfd90",
   "metadata": {
    "tags": []
   },
   "outputs": [],
   "source": [
    "Al1_CHNC = read_csv(\"~/plasma/hnc/TCCW/Final_TCCW/results/CHNC_Al_rs2.998_TeV1.000.dat\", delim_whitespace=True, header=3)\n",
    "Al1_ri = 2.998\n",
    "Al1_Zbar = 3\n",
    "Al1_ne0 = Al1_Zbar/(4/3*np.pi*Al1_ri**3)\n",
    "Al1_CHNC"
   ]
  },
  {
   "cell_type": "code",
   "execution_count": null,
   "id": "57a25256-fb21-4791-9b12-cd3e8683e760",
   "metadata": {},
   "outputs": [],
   "source": [
    "colors=['#0AB34F', '#bf009f', '#00abc3', '#8e92c5', '#cc7014', '#e32851']"
   ]
  },
  {
   "cell_type": "code",
   "execution_count": null,
   "id": "6aa8aad2-9c09-4495-8910-d6e88d9176bb",
   "metadata": {
    "tags": []
   },
   "outputs": [],
   "source": [
    "def g_ei_plot(ax):\n",
    "    ax.plot(Al1_GP['x'], (Al1_GP['ne_s']/Al1_ne0-1)*4*π*(Al1_GP['r'])**2,'k--', label=\"AA-NRL Free\"  )\n",
    "    ax.plot(Al1_CHNC['r/ri'],(Al1_CHNC['g_ei']-1)*4*π*(Al1_CHNC['r/ri']*Al1_ri)**2, color=colors[1],linestyle=':',label=\"PM-HNC Free\"  )\n",
    "\n",
    "    ax.set_xlim(0,1)\n",
    "    ax.set_ylim(-10,35)\n",
    "    ax.set_ylabel(r\"$4\\pi r^2 h_{ei}$\")\n",
    "    ax.set_xlabel(r\"$r/a_i$\")\n",
    "    ax.legend()\n",
    "\n",
    "fig, ax  = plt.subplots()\n",
    "g_ei_plot(ax)"
   ]
  },
  {
   "cell_type": "code",
   "execution_count": null,
   "id": "882981da-275c-4eb2-ac16-76f58e1b7fb4",
   "metadata": {
    "tags": []
   },
   "outputs": [],
   "source": [
    "np.concatenate([list(np.linspace(0.1*10**n,1*10**n,num=10)) for n in range(5)])"
   ]
  },
  {
   "cell_type": "code",
   "execution_count": null,
   "id": "6afd8664-07af-4d2d-84d9-cd9fd8bc8a4a",
   "metadata": {
    "tags": []
   },
   "outputs": [],
   "source": [
    "from matplotlib.ticker import AutoMinorLocator\n",
    "\n",
    "def βu_ii_eff_plot(ax):\n",
    "    ax.plot(Al1_CHNC['r/ri'],Al1_CHNC['βu_ii_eff'], label=\"PM-HNC\"  )\n",
    "    ax.plot(Al1_CHNC['r/ri'],Al1_CHNC['βu_OCP'],linestyle=(0,(5,1,1,1,1,1)),color=colors[3], label=\"Coulomb\"  )\n",
    "    ax.plot(Al1_CHNC['r/ri'],Al1_CHNC['βu_Yuk'],'-.', color=colors[4] ,label=\"Yukawa\"  )\n",
    "\n",
    "    ax.set_xlim(0,4)\n",
    "    ax.set_ylim(-0.5,1e4)\n",
    "    ax.set_yscale('symlog', linthresh=1)\n",
    "    ax.set_ylabel(r\"$\\beta u_{ii}$\")\n",
    "    ax.set_xlabel(r\"$r/a_i$\")\n",
    "    \n",
    "    custom_minor_ticks = list(np.linspace(-1,1,num=21)) + list(np.concatenate([list(np.linspace(1*10**n,10*10**n,num=10)) for n in range(4)]))\n",
    "    ax.set_yticks(custom_minor_ticks, minor=True)\n",
    "\n",
    "    ax.legend()\n",
    "    \n",
    "fig, ax  = plt.subplots()\n",
    "βu_ii_eff_plot(ax)"
   ]
  },
  {
   "cell_type": "code",
   "execution_count": null,
   "id": "d2029e82-558f-4c65-87e2-975b2d1cba56",
   "metadata": {
    "tags": []
   },
   "outputs": [],
   "source": [
    "plasma = plasma_list[0]\n",
    "def βu_ii_plot(ax):\n",
    "    ax.plot(Al1_CHNC['r/ri'], plasma.qsp.Ti*plasma.hnc.βu_r_matrix[0,0]/plasma.Zbar**2, label=r\"$u_{ii}/\\langle Z\\rangle^2$\"  )\n",
    "    ax.plot(Al1_CHNC['r/ri'],-plasma.qsp.Tie_c*plasma.hnc.βu_r_matrix[0,1]/plasma.Zbar,':', label=r\"$-u_{ie}/\\langle Z\\rangle$\"  )\n",
    "    ax.plot(Al1_CHNC['r/ri'], plasma.qsp.Te_c*plasma.hnc.βu_r_matrix[1,1],'--', label=r\"$u_{ee}$\"  )\n",
    "\n",
    "    ax.set_xlim(0,1)\n",
    "    ax.set_ylim(2e-1,5e1)\n",
    "    ax.set_yscale('log')\n",
    "    ax.set_ylabel(r\"$u_{ij}/(Z_i Z_j) $ [au]\")\n",
    "    ax.set_xlabel(r\"$r/a_i$\")\n",
    "    ax.legend()\n",
    "    \n",
    "fig, ax  = plt.subplots()\n",
    "βu_ii_plot(ax)"
   ]
  },
  {
   "cell_type": "code",
   "execution_count": null,
   "id": "161f2ea3-9308-43ca-9c16-ffd7988d82c7",
   "metadata": {
    "tags": []
   },
   "outputs": [],
   "source": [
    "from scipy.interpolate import CubicSpline, PchipInterpolator\n",
    "\n",
    "# def g_ii_plot(ax):\n",
    "#     ax.plot(Al1_CHNC['r/ri'],Al1_CHNC['g_ii'], label=\"CHNC\"  )\n",
    "#     ax.plot(Al1_CHNC['r/ri'],Al1_CHNC['OCP:g_ii'],':', label=\"OCP\"  )\n",
    "#     ax.plot(Al1_CHNC['r/ri'],Al1_CHNC['Yuk:g_ii'],'--', label=\"Yukawa\"  )\n",
    "\n",
    "#     # Data from community TCCW\n",
    "#     upper_data = read_csv(\"/home/zach/plasma/hnc/TCCW/Final_TCCW/Fig5c_Upper.txt\", delim_whitespace=True, header=1)\n",
    "#     lower_data = read_csv(\"/home/zach/plasma/hnc/TCCW/Final_TCCW/Fig5c_Lower.txt\", delim_whitespace=True, header=1)\n",
    "    \n",
    "#     ax.fill_between(lower_data['r/ri'],lower_data['gii'], PchipInterpolator(upper_data['r/ri'], upper_data['gii'])(lower_data['r/ri']), alpha=0.5, color='k', label='Workshop DFT Spread')\n",
    "#     ax.set_xlim(0,4)\n",
    "#     ax.set_ylim(0,2)\n",
    "#     # ax.set_yscale('symlog', linthresh=0.1)\n",
    "#     ax.set_ylabel(r\"$g_{ii}$\")\n",
    "#     ax.set_xlabel(r\"$r/a_i$\")\n",
    "#     ax.legend()\n",
    "\n",
    "# fig, ax  = plt.subplots( figsize=(8, 4.9443))\n",
    "# g_ii_plot(ax)\n",
    "\n",
    "def g_ij_plot(ax):\n",
    "    ax.plot(Al1_CHNC['r/ri'],Al1_CHNC['g_ii'], label=\"PM-HNC ii\"  )\n",
    "    ax.plot(Al1_CHNC['r/ri'],Al1_CHNC['g_ei'],':', label=\"PM-HNC ei\"  )\n",
    "    ax.plot(Al1_CHNC['r/ri'],Al1_CHNC['g_ee'],'-.', label=\"PM-HNC ee\"  )\n",
    "    \n",
    "    ax.plot(Al1_GP['x'], (Al1_GP['ne_s']/Al1_ne0), 'k--', label=\"AA-NRL ei \"  )\n",
    "    \n",
    "    ax.plot(Al1_CHNC['r/ri'],Al1_CHNC['OCP:g_ii'],linestyle=(0,(5,1,1,1,1,1)), label=\"Coulomb HNC ii\"  )\n",
    "    ax.plot(Al1_CHNC['r/ri'],Al1_CHNC['Yuk:g_ii'],'-.', label=\"Yukawa HNC ii\"  )\n",
    "\n",
    "     \n",
    "    # Data from community TCCW\n",
    "    upper_data = read_csv(\"/home/zach/plasma/hnc/TCCW/Final_TCCW/Fig5c_Upper.txt\", delim_whitespace=True, header=1)\n",
    "    lower_data = read_csv(\"/home/zach/plasma/hnc/TCCW/Final_TCCW/Fig5c_Lower.txt\", delim_whitespace=True, header=1)\n",
    "    \n",
    "    ax.fill_between(lower_data['r/ri'],lower_data['gii'], PchipInterpolator(upper_data['r/ri'], upper_data['gii'])(lower_data['r/ri']), alpha=0.5, color='k', label='Workshop DFT Spread')\n",
    "\n",
    "    ax.set_xlim(0,6)\n",
    "    ax.set_ylim(0,2.5)\n",
    "    # ax.set_yscale('symlog', linthresh=0.1)\n",
    "    ax.set_ylabel(r\"$g_{ij}$\")\n",
    "    ax.set_xlabel(r\"$r/a_i$\")\n",
    "    ax.legend(loc='upper right',fontsize=12)\n",
    "\n",
    "fig, ax  = plt.subplots( figsize=(8, 4.9443))\n",
    "g_ij_plot(ax)"
   ]
  },
  {
   "cell_type": "code",
   "execution_count": null,
   "id": "e97ad2d5-2bab-4590-b347-00dec02114db",
   "metadata": {
    "tags": []
   },
   "outputs": [],
   "source": [
    "fig, axs = plt.subplots(2,2, figsize=(12, 9))\n",
    "\n",
    "βu_ii_plot(axs[0,0])\n",
    "βu_ii_eff_plot(axs[0,1])\n",
    "g_ei_plot(axs[1,0])\n",
    "g_ij_plot(axs[1,1])\n",
    "axs[0,1].axhline(y=1,color='k',linewidth=0.4)\n",
    "axs[0,1].fill_between(np.linspace(0,10),-1,1,color='k',alpha=0.05)\n",
    "axs[0,1].text(0.03, 1.08, \"log-scale\",fontsize=14)\n",
    "axs[0,1].text(0.03, 0.75, \"linear-scale\",fontsize=14)\n",
    "# Subfigure Labels\n",
    "axs[0,0].text(0.07, 0.95, \"a)\", transform=axs[0,0].transAxes, fontsize=18)\n",
    "axs[0,1].text(0.07, 0.95, \"b)\", transform=axs[0,1].transAxes, fontsize=18)\n",
    "axs[1,0].text(0.07, 0.95, \"c)\", transform=axs[1,0].transAxes, fontsize=18)\n",
    "axs[1,1].text(0.07, 0.95, \"d)\", transform=axs[1,1].transAxes, fontsize=18)\n",
    "\n",
    "plt.tight_layout()\n",
    "plt.savefig(\"/home/zach/plasma/hnc/TCCW/Final_TCCW/Al1_gβu_plot.png\", dpi=400)\n"
   ]
  },
  {
   "cell_type": "markdown",
   "id": "3bb3ab3d-15b9-4341-a7bb-810c0d419ad6",
   "metadata": {
    "tags": []
   },
   "source": [
    "## Make Viscosity points"
   ]
  },
  {
   "cell_type": "code",
   "execution_count": null,
   "id": "03ad752b-6d4a-4845-99a9-be4272ff3fea",
   "metadata": {
    "tags": []
   },
   "outputs": [],
   "source": [
    "from scipy.interpolate import CubicSpline, PchipInterpolator\n",
    "\n",
    "Al_GP_df = read_csv(\"/home/zach/plasma/hnc/TCCW/Final_TCCW/GP_data/Al_combined.dat\", delim_whitespace=True)\n",
    "\n",
    "# ____ Al ____\n",
    "GP_Al_T_few = Al_GP_df[\"Te(eV)\"].to_numpy()\n",
    "GP_Al_Z_bar = Al_GP_df[\"Z_bar\"].to_numpy()\n",
    "GP_Al_Rc    = Al_GP_df[\"Rc\"].to_numpy()\n",
    "\n",
    "# Pchip spline\n",
    "Zbar_interp = PchipInterpolator(GP_Al_T_few, GP_Al_Z_bar)\n",
    "Zbar_interp\n",
    "\n",
    "Rc_interp_Pchip   = PchipInterpolator(GP_Al_T_few, GP_Al_Rc)\n",
    "Rc_interp_cubic   = CubicSpline(GP_Al_T_few, GP_Al_Rc)\n",
    "\n",
    "fig, ax = plt.subplots()\n",
    "ax.plot(GP_Al_T_few, GP_Al_Rc, 'ko', label='GP AA')\n",
    "T_geomspace = np.geomspace(np.min(GP_Al_T_few), np.max(GP_Al_T_few))\n",
    "\n",
    "ax.plot(T_geomspace, Rc_interp_Pchip(T_geomspace), label='Pchip')\n",
    "ax.plot(T_geomspace, Rc_interp_cubic(T_geomspace),'--', label='Cubic Spline')\n",
    "\n",
    "# ax.set_yscale('log')\n",
    "ax.set_xscale('log')\n",
    "ax.legend()\n",
    "ax.set_xlabel('T [eV]')\n",
    "ax.set_ylabel(r'$R_c$')"
   ]
  },
  {
   "cell_type": "code",
   "execution_count": null,
   "id": "cfd9abf2-9379-4ed5-935b-734f6837ae0b",
   "metadata": {
    "tags": []
   },
   "outputs": [],
   "source": [
    "Smith_lowT_TeV = 0.22405429\n",
    "Smith_lowT_η = 0.32007164\n",
    "\n",
    "Rc_interp = Rc_interp_Pchip\n",
    "plasma_min = plasma_f(Smith_lowT_TeV, Rc_interp(Smith_lowT_TeV), Zbar_interp(Smith_lowT_TeV), closure='svt')"
   ]
  },
  {
   "cell_type": "code",
   "execution_count": null,
   "id": "40311114-f37b-4187-98e7-fb70fc04d56f",
   "metadata": {
    "tags": []
   },
   "outputs": [],
   "source": [
    "plasma_min.run_hnc()"
   ]
  },
  {
   "cell_type": "code",
   "execution_count": null,
   "id": "00c1d242-1fcb-436e-b4a7-398a8a66e375",
   "metadata": {
    "tags": []
   },
   "outputs": [],
   "source": [
    "plasma_min.run_hnc(c_s_k_guess = plasma_min.hnc.c_s_k_matrix)"
   ]
  },
  {
   "cell_type": "code",
   "execution_count": null,
   "id": "8c5c34ef-ea12-4436-a3d9-4af38759e3c0",
   "metadata": {
    "tags": []
   },
   "outputs": [],
   "source": [
    "plasma_min.hnc.plot_g_all_species()"
   ]
  },
  {
   "cell_type": "markdown",
   "id": "48cacec0-48d6-4d14-a6e0-fa6763e40347",
   "metadata": {
    "tags": []
   },
   "source": [
    "## Born Green Viscocity\n",
    "See [Morioka 2004](https://www.sciencedirect.com/science/article/pii/S0022309304003692)\n",
    "\n",
    "\\begin{align}\n",
    "η = f_{BG} \\frac{2 \\pi}{15} \\left(\\frac{M}{RT} \\right)^{1/2} \\frac{n^2}{N_a} \\int^\\infty_0 g(r) \\frac{d\\phi}{dr}r^4 dr\n",
    "\\end{align}\n",
    "Resulting units is Pa s\n"
   ]
  },
  {
   "cell_type": "code",
   "execution_count": null,
   "id": "704a797b-e251-4009-bd71-13e3959f4e22",
   "metadata": {
    "tags": []
   },
   "outputs": [],
   "source": [
    "from scipy.integrate import simpson\n",
    "\n",
    "def get_ηBG(plasma):\n",
    "    plasma.hnc.invert_HNC_OZ([1])\n",
    "    fBG = -1\n",
    "    n_AU = n_from_rs(plasma.qsp.ri)\n",
    "    r_array = plasma.hnc.r_array*plasma.qsp.ri\n",
    "    gii = plasma.hnc.h_r_matrix[0,0]+1\n",
    "    dφdr = plasma.qsp.Ti*np.gradient(plasma.hnc.βueff_r_matrix[0,0], r_array)\n",
    "\n",
    "    integrand = r_array**4 * gii * dφdr\n",
    "    ##\n",
    "    fig, ax = plt.subplots()\n",
    "    ax.plot(r_array, dφdr*r_array**4)\n",
    "    ###\n",
    "    integral = simpson(integrand, x=r_array)\n",
    "    η = fBG* 2*π/15 * (plasma.qsp.βi*plasma.qsp.m_i)**0.5*n_AU**2*integral\n",
    "    return η\n",
    "\n",
    "η_SI = get_ηBG(plasma_min)*AU_to_Pa*AU_to_s # Pa s = kg m^-1 s^-1 \n",
    "# print(f\"SI: η = {η_SI:0.3e} [kg m^-1 s^-1] (or [Pa s])\")\n",
    "# η_cgs = η_SI * 1000/100 # g cm^-1 s^-1\n",
    "# print(f\"CGS: η = {η_cgs:0.3e} [g cm^-1 s^-1]\")\n",
    "ηCHNC_minT_mPas = η_SI*1000\n",
    "print(f\"CGS: η = {ηCHNC_minT_mPas:0.3e} [m Pa s]\")\n",
    "\n",
    "Smith_lowT_η"
   ]
  },
  {
   "cell_type": "code",
   "execution_count": null,
   "id": "8ed27458-38d1-4fa4-a934-72c5e407fac5",
   "metadata": {
    "scrolled": true,
    "tags": []
   },
   "outputs": [],
   "source": [
    "η_plasma_list = []\n",
    "for T_eV, Rc, Zbar in zip(GP_Al_T_few[2:], GP_Al_Rc[2:], GP_Al_Z_bar[2:]):\n",
    "    print(T_eV, Rc, Zbar)\n",
    "    tmp_plasma = plasma_f(T_eV, Rc, Zbar, closure='svt')\n",
    "    tmp_plasma.run_hnc()\n",
    "    η_plasma_list.append(tmp_plasma)"
   ]
  },
  {
   "cell_type": "code",
   "execution_count": null,
   "id": "43980a34-7891-43d6-8810-9b7f08b8b684",
   "metadata": {
    "scrolled": true,
    "tags": []
   },
   "outputs": [],
   "source": [
    "ηCHNC_unnormalized_mPaS_list = []\n",
    "for plasma in η_plasma_list:\n",
    "    ηCHNC_unnormalized_mPaS_list.append( get_ηBG(plasma)*AU_to_Pa*AU_to_s*1000  )"
   ]
  },
  {
   "cell_type": "code",
   "execution_count": null,
   "id": "edc42220-a660-47c9-9742-de93887c80b9",
   "metadata": {
    "tags": []
   },
   "outputs": [],
   "source": [
    "(Smith_lowT_η/ηCHNC_minT_mPas)"
   ]
  },
  {
   "cell_type": "code",
   "execution_count": null,
   "id": "f1a37c31-b9fb-428a-8363-85486bd0b584",
   "metadata": {
    "tags": []
   },
   "outputs": [],
   "source": [
    "TCHNC_eV_final = np.concatenate([[Smith_lowT_TeV] ,GP_Al_T_few[2:]])\n",
    "ηCHNC_normalized_mPaS_list = np.array(ηCHNC_unnormalized_mPaS_list)* (Smith_lowT_η/ηCHNC_minT_mPas)\n",
    "\n",
    "ηCHNC_mPas_unnormalized_final = np.concatenate([[ηCHNC_minT_mPas] , ηCHNC_unnormalized_mPaS_list ])\n",
    "ηCHNC_mPas_normalized_final = np.concatenate([[Smith_lowT_η] , ηCHNC_normalized_mPaS_list ])\n",
    "\n",
    "np.savetxt(\"/home/zach/plasma/hnc/TCCW/Final_TCCW/results/Al_η_MPas_Final.dat\", np.array([TCHNC_eV_final, ηCHNC_mPas_unnormalized_final, ηCHNC_mPas_normalized_final ]).T, \n",
    "           header=\"T[eV]   η[mPas](unnormalized)  η[mPas](Smith-normalized) \", comments='')\n",
    "# /home/zach/plasma/hnc/TCCW/Final_TCCW/results/η_cgs_Al_Final.dat"
   ]
  },
  {
   "cell_type": "code",
   "execution_count": null,
   "id": "22329472-d36f-4db8-a371-a73967ff000c",
   "metadata": {},
   "outputs": [],
   "source": []
  }
 ],
 "metadata": {
  "kernelspec": {
   "display_name": "Python 3 (ipykernel)",
   "language": "python",
   "name": "python3"
  },
  "language_info": {
   "codemirror_mode": {
    "name": "ipython",
    "version": 3
   },
   "file_extension": ".py",
   "mimetype": "text/x-python",
   "name": "python",
   "nbconvert_exporter": "python",
   "pygments_lexer": "ipython3",
   "version": "3.10.6"
  }
 },
 "nbformat": 4,
 "nbformat_minor": 5
}
