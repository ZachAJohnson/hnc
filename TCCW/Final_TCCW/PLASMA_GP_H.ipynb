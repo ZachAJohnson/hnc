{
 "cells": [
  {
   "cell_type": "markdown",
   "id": "415426e0",
   "metadata": {
    "tags": []
   },
   "source": [
    "# Import"
   ]
  },
  {
   "cell_type": "code",
   "execution_count": 2,
   "id": "2e5c11ba",
   "metadata": {
    "tags": []
   },
   "outputs": [
    {
     "ename": "ModuleNotFoundError",
     "evalue": "No module named 'atomic_forces'",
     "output_type": "error",
     "traceback": [
      "\u001b[1;31m---------------------------------------------------------------------------\u001b[0m",
      "\u001b[1;31mModuleNotFoundError\u001b[0m                       Traceback (most recent call last)",
      "\u001b[1;32m~\\AppData\\Local\\Temp/ipykernel_11488/2319665302.py\u001b[0m in \u001b[0;36m<module>\u001b[1;34m\u001b[0m\n\u001b[0;32m      7\u001b[0m \u001b[0msys\u001b[0m\u001b[1;33m.\u001b[0m\u001b[0mpath\u001b[0m\u001b[1;33m.\u001b[0m\u001b[0mappend\u001b[0m\u001b[1;33m(\u001b[0m\u001b[1;34m\"C:\\\\Users\\zachc\\Documents\\GitHub\"\u001b[0m\u001b[1;33m)\u001b[0m\u001b[1;33m\u001b[0m\u001b[1;33m\u001b[0m\u001b[0m\n\u001b[0;32m      8\u001b[0m \u001b[1;33m\u001b[0m\u001b[0m\n\u001b[1;32m----> 9\u001b[1;33m \u001b[1;32mfrom\u001b[0m \u001b[0mhnc\u001b[0m\u001b[1;33m.\u001b[0m\u001b[0mhnc\u001b[0m\u001b[1;33m.\u001b[0m\u001b[0mPIE\u001b[0m \u001b[1;32mimport\u001b[0m \u001b[0mPlasma_of_Ions_and_Electrons\u001b[0m \u001b[1;32mas\u001b[0m \u001b[0mPLASMA\u001b[0m\u001b[1;33m\u001b[0m\u001b[1;33m\u001b[0m\u001b[0m\n\u001b[0m\u001b[0;32m     10\u001b[0m \u001b[1;33m\u001b[0m\u001b[0m\n\u001b[0;32m     11\u001b[0m \u001b[1;32mfrom\u001b[0m \u001b[0mhnc\u001b[0m\u001b[1;33m.\u001b[0m\u001b[0mhnc\u001b[0m\u001b[1;33m.\u001b[0m\u001b[0mconstants\u001b[0m \u001b[1;32mimport\u001b[0m \u001b[1;33m*\u001b[0m\u001b[1;33m\u001b[0m\u001b[1;33m\u001b[0m\u001b[0m\n",
      "\u001b[1;32m~\\Documents\\GitHub\\hnc\\hnc\\PIE.py\u001b[0m in \u001b[0;36m<module>\u001b[1;34m\u001b[0m\n\u001b[0;32m      5\u001b[0m \u001b[1;33m\u001b[0m\u001b[0m\n\u001b[0;32m      6\u001b[0m \u001b[1;32mfrom\u001b[0m \u001b[1;33m.\u001b[0m\u001b[0mhnc\u001b[0m \u001b[1;32mimport\u001b[0m  \u001b[0mIntegral_Equation_Solver\u001b[0m \u001b[1;32mas\u001b[0m \u001b[0mIET_solver\u001b[0m\u001b[1;33m\u001b[0m\u001b[1;33m\u001b[0m\u001b[0m\n\u001b[1;32m----> 7\u001b[1;33m \u001b[1;32mfrom\u001b[0m \u001b[1;33m.\u001b[0m\u001b[0mqsps\u001b[0m \u001b[1;32mimport\u001b[0m \u001b[0mQuantum_Statistical_Potentials\u001b[0m \u001b[1;32mas\u001b[0m \u001b[0mQSPs\u001b[0m\u001b[1;33m\u001b[0m\u001b[1;33m\u001b[0m\u001b[0m\n\u001b[0m\u001b[0;32m      8\u001b[0m \u001b[1;33m\u001b[0m\u001b[0m\n\u001b[0;32m      9\u001b[0m \u001b[1;32mfrom\u001b[0m \u001b[1;33m.\u001b[0m\u001b[0mconstants\u001b[0m \u001b[1;32mimport\u001b[0m \u001b[1;33m*\u001b[0m\u001b[1;33m\u001b[0m\u001b[1;33m\u001b[0m\u001b[0m\n",
      "\u001b[1;32m~\\Documents\\GitHub\\hnc\\hnc\\qsps.py\u001b[0m in \u001b[0;36m<module>\u001b[1;34m\u001b[0m\n\u001b[0;32m     11\u001b[0m \u001b[1;31m# Build Components for QSP's\u001b[0m\u001b[1;33m\u001b[0m\u001b[1;33m\u001b[0m\u001b[0m\n\u001b[0;32m     12\u001b[0m \u001b[1;32mfrom\u001b[0m \u001b[1;33m.\u001b[0m\u001b[0mconstants\u001b[0m \u001b[1;32mimport\u001b[0m \u001b[1;33m*\u001b[0m\u001b[1;33m\u001b[0m\u001b[1;33m\u001b[0m\u001b[0m\n\u001b[1;32m---> 13\u001b[1;33m \u001b[1;32mfrom\u001b[0m \u001b[1;33m.\u001b[0m\u001b[0mmisc\u001b[0m \u001b[1;32mimport\u001b[0m \u001b[0mrs_from_n\u001b[0m\u001b[1;33m,\u001b[0m \u001b[0mn_from_rs\u001b[0m\u001b[1;33m,\u001b[0m \u001b[0mP_Ideal_Fermi_Gas\u001b[0m\u001b[1;33m\u001b[0m\u001b[1;33m\u001b[0m\u001b[0m\n\u001b[0m\u001b[0;32m     14\u001b[0m \u001b[1;33m\u001b[0m\u001b[0m\n\u001b[0;32m     15\u001b[0m \u001b[1;32mclass\u001b[0m \u001b[0mQuantum_Statistical_Potentials\u001b[0m\u001b[1;33m(\u001b[0m\u001b[1;33m)\u001b[0m\u001b[1;33m:\u001b[0m\u001b[1;33m\u001b[0m\u001b[1;33m\u001b[0m\u001b[0m\n",
      "\u001b[1;32m~\\Documents\\GitHub\\hnc\\hnc\\misc.py\u001b[0m in \u001b[0;36m<module>\u001b[1;34m\u001b[0m\n\u001b[0;32m      1\u001b[0m \u001b[1;32mfrom\u001b[0m \u001b[0mscipy\u001b[0m\u001b[1;33m.\u001b[0m\u001b[0moptimize\u001b[0m \u001b[1;32mimport\u001b[0m \u001b[0mroot\u001b[0m\u001b[1;33m\u001b[0m\u001b[1;33m\u001b[0m\u001b[0m\n\u001b[1;32m----> 2\u001b[1;33m \u001b[1;32mfrom\u001b[0m \u001b[0matomic_forces\u001b[0m\u001b[1;33m.\u001b[0m\u001b[0matomOFDFT\u001b[0m\u001b[1;33m.\u001b[0m\u001b[0mpython\u001b[0m\u001b[1;33m.\u001b[0m\u001b[0mphysics\u001b[0m \u001b[1;32mimport\u001b[0m \u001b[0mThomasFermi\u001b[0m\u001b[1;33m,\u001b[0m \u001b[0mFermiDirac\u001b[0m\u001b[1;33m\u001b[0m\u001b[1;33m\u001b[0m\u001b[0m\n\u001b[0m\u001b[0;32m      3\u001b[0m \u001b[1;33m\u001b[0m\u001b[0m\n\u001b[0;32m      4\u001b[0m \u001b[1;32mimport\u001b[0m \u001b[0mnumpy\u001b[0m \u001b[1;32mas\u001b[0m \u001b[0mnp\u001b[0m\u001b[1;33m\u001b[0m\u001b[1;33m\u001b[0m\u001b[0m\n\u001b[0;32m      5\u001b[0m \u001b[1;32mfrom\u001b[0m \u001b[1;33m.\u001b[0m\u001b[0mconstants\u001b[0m \u001b[1;32mimport\u001b[0m \u001b[1;33m*\u001b[0m\u001b[1;33m\u001b[0m\u001b[1;33m\u001b[0m\u001b[0m\n",
      "\u001b[1;31mModuleNotFoundError\u001b[0m: No module named 'atomic_forces'"
     ]
    }
   ],
   "source": [
    "import numpy as np\n",
    "import matplotlib.pyplot as plt\n",
    "from pandas import read_csv\n",
    "\n",
    "\n",
    "import sys\n",
    "sys.path.append(\"C:\\\\Users\\zachc\\Documents\\GitHub\")\n",
    "\n",
    "from hnc.hnc.PIE import Plasma_of_Ions_and_Electrons as PLASMA\n",
    "\n",
    "from hnc.hnc.constants import *\n",
    "from hnc.hnc.misc import n_from_rs, rs_from_n\n",
    "\n",
    "from pandas import read_csv\n",
    "\n",
    "prop_cycle = plt.rcParams['axes.prop_cycle']\n",
    "colors = prop_cycle.by_key()['color']\n",
    "                \n",
    "from IPython.core.display import HTML\n",
    "HTML(\"\"\"\n",
    "<style>\n",
    ".output_png {\n",
    "    display: table-cell;\n",
    "    text-align: center;\n",
    "    vertical-align: middle;\n",
    "}\n",
    "\n",
    "</style>\n",
    "\"\"\")\n",
    "import matplotlib as mpl\n",
    "from cycler import cycler\n",
    "mpl.rcParams['lines.linewidth'] = 2.2\n",
    "mpl.rcParams['axes.spines.right'] = False\n",
    "mpl.rcParams['axes.spines.top'] = False\n",
    "mpl.rcParams['axes.labelsize'] = 20\n",
    "mpl.rcParams['lines.markersize'] = 8\n",
    "mpl.rcParams['font.sans-serif'] = ['Arial', 'Tahoma', 'DejaVu Sans', 'Lucida Grande', 'Verdana']\n",
    "mpl.rcParams['font.size'] = 16\n",
    "mpl.rcParams['axes.grid'] = True\n",
    "mpl.rcParams['grid.color'] = '#636363'\n",
    "mpl.rcParams['grid.alpha'] = 0.12\n",
    "mpl.rcParams['grid.linewidth'] = 0.7\n",
    "mpl.rcParams['grid.linestyle'] = '-'\n",
    "mpl.rcParams['axes.prop_cycle'] = cycler('color',  ['#0AB34F', '#bf009f', '#00abc3', '#8e92c5', '#cc7014', '#e32851'])\n",
    "mpl.rcParams['legend.fancybox'] = True\n",
    "mpl.rcParams['legend.framealpha'] = 0.6\n",
    "mpl.rcParams['legend.fontsize'] = 14\n",
    "mpl.rcParams['figure.figsize'] = 8, 4.9443\n",
    "mpl.rcParams['figure.dpi'] = 100\n",
    "\n",
    "colors = ['#0AB34F', '#bf009f', '#00abc3', '#8e92c5', '#cc7014', '#e32851']\n"
   ]
  },
  {
   "cell_type": "markdown",
   "id": "01048544",
   "metadata": {},
   "source": [
    "# Function that sets up HNC QSP "
   ]
  },
  {
   "cell_type": "markdown",
   "id": "c961fbc5-d0c8-45ea-b238-9e611ea79173",
   "metadata": {},
   "source": [
    "### Create and run plasma"
   ]
  },
  {
   "cell_type": "code",
   "execution_count": null,
   "id": "ca58c435",
   "metadata": {
    "tags": []
   },
   "outputs": [],
   "source": [
    "name='H'\n",
    "Z, A = 1,1\n",
    "mi = m_p * A\n",
    "\n",
    "ni_cc = 5.98e23\n",
    "ri_cm = rs_from_n(ni_cc)\n",
    "ri_AU = ri_cm*cm_to_AU\n"
   ]
  },
  {
   "cell_type": "markdown",
   "id": "bb89b469-e9f3-4ba9-bb07-defe0c60eea4",
   "metadata": {},
   "source": [
    "### Make βu_ii, βu_fi from using bound density from AA\n",
    "If we assume the bound state does not deform at all, then we can calculate potentials based on it easily via integration"
   ]
  },
  {
   "cell_type": "markdown",
   "id": "3808a279-aa7e-458b-9781-8b8b2671681f",
   "metadata": {},
   "source": [
    "### Solving"
   ]
  },
  {
   "cell_type": "code",
   "execution_count": null,
   "id": "e0a95006-3690-4761-a8eb-d1f49eacda29",
   "metadata": {
    "scrolled": true,
    "tags": []
   },
   "outputs": [],
   "source": [
    "from scipy.optimize import least_squares\n",
    "from scipy.interpolate import interp1d,CubicSpline, PchipInterpolator\n",
    "\n",
    "def custom_flat(hnc_matrix):\n",
    "    hnc_flat = np.concatenate([hnc_matrix[0,0],hnc_matrix[0,1],hnc_matrix[1,1]])\n",
    "    return hnc_flat\n",
    "\n",
    "def custom_unflat(hnc_flat):\n",
    "    hnc00, hnc01, hnc11 = np.split(hnc_flat,3)\n",
    "    hnc_matrix = np.zeros((2,2,len(hnc00)))\n",
    "    hnc_matrix[0,0] = hnc00\n",
    "    hnc_matrix[1,0] = hnc01\n",
    "    hnc_matrix[0,1] = hnc01\n",
    "    hnc_matrix[1,1] = hnc11\n",
    "    return hnc_matrix\n",
    "\n",
    "def solve_least_squares(plasma, sparse_k_array, c_s_k_guess=None, ftol=1e-8):\n",
    "    if c_s_k_guess is None:\n",
    "        c_s_k_guess = plasma.hnc.c_s_k_matrix\n",
    "\n",
    "    # Create functions for converting between sparse, not sparse and flattened versions of c_s_k\n",
    "    get_sparse_csk = lambda c_s_k_flat: np.concatenate([PchipInterpolator(plasma.hnc.k_array, c_s_k)(sparse_k_array) for c_s_k in np.split(c_s_k_flat,3) ])\n",
    "    get_csk = lambda sparse_hnc_csk: PchipInterpolator(sparse_k_array, sparse_hnc_csk)(plasma.hnc.k_array)\n",
    "    get_csk_matrix_from_sparse_csk_flat =  lambda sparse_c_s_k_flat: custom_unflat(np.concatenate([get_csk(sparse_csk) for sparse_csk in np.split(sparse_c_s_k_flat,3)]))\n",
    "    \n",
    "    def min_function(sparse_c_s_k_flat):\n",
    "        c_s_k_matrix = get_csk_matrix_from_sparse_csk_flat(sparse_c_s_k_flat)\n",
    "        new_c_s_k_matrix = plasma.hnc.guess_c_s_k_matrix(c_s_k_matrix)\n",
    "        plasma.hnc.c_s_k_matrix = new_c_s_k_matrix.copy()\n",
    "        new_c_s_k_flat = custom_flat(new_c_s_k_matrix)\n",
    "        return sparse_c_s_k_flat - get_sparse_csk(new_c_s_k_flat)\n",
    "    \n",
    "    c_s_k_flat_guess = custom_flat(c_s_k_guess)\n",
    "    c_s_k_sparse_guess = get_sparse_csk(c_s_k_flat_guess)\n",
    "    sol = least_squares(min_function, c_s_k_sparse_guess, verbose=2, ftol=ftol)#, bounds = c_s_k_bounds)\n",
    "    plasma.hnc.c_s_k_matrix = get_csk_matrix_from_sparse_csk_flat(sol.x)\n",
    "    plasma.hnc.set_all_matrices_from_csk(plasma.hnc.c_s_k_matrix)\n",
    "    print(sol)\n",
    "\n",
    "def best_shift(plasma, c_s_k_guess = None, ftol=1e-8, set=True):\n",
    "    if c_s_k_guess is None:\n",
    "        c_s_k_guess = plasma.hnc.c_s_k_matrix\n",
    "\n",
    "    def min_function(multiplier_list):\n",
    "        xii, xei, xee = multiplier_list\n",
    "        multiplier_matrix = np.array([[xii,xei],[xei,xee]])\n",
    "        c_s_k_matrix = multiplier_matrix[:,:,np.newaxis] * c_s_k_guess\n",
    "        new_c_s_k_matrix = plasma.hnc.guess_c_s_k_matrix(c_s_k_matrix)\n",
    "        \n",
    "        return c_s_k_matrix.flatten() - new_c_s_k_matrix.flatten()\n",
    "    \n",
    "    sol = least_squares(min_function, np.ones((3)) , verbose=2, ftol=ftol)#, bounds = c_s_k_bounds)\n",
    "    xii, xei, xee = sol.x\n",
    "    multiplier_matrix = np.array([[xii,xei],[xei,xee]])\n",
    "    \n",
    "    plasma.hnc.c_s_k_matrix = multiplier_matrix[:,:,np.newaxis] * c_s_k_guess\n",
    "    print(sol)\n",
    "    return sol"
   ]
  },
  {
   "cell_type": "code",
   "execution_count": null,
   "id": "82585fc5",
   "metadata": {
    "scrolled": true,
    "tags": []
   },
   "outputs": [],
   "source": [
    "def plasma_f(T_eV, Rc, Zbar, closure='svt'):\n",
    "    plasma = PLASMA(Z, A, ni_cc, T_eV, T_eV, Zbar=Zbar, find_βuee=False,\n",
    "             βu_options = {'add_bridge':True,'bridge':'yukawa', 'pseudopotential':False}, \n",
    "             qsp_options = {'Te_c_type':'DMC'},\n",
    "             hnc_options={'kappa_multiscale':10, 'R_max':10,'N_bins':1000,'oz_method':closure},\n",
    "             hnc_solve_options={'num_iterations':10000,'alpha_Picard':0.1, 'verbose':False,'iters_to_wait':500},\n",
    "             root_options={'options':{'maxfev':100,'xtol':1e-14}})\n",
    "\n",
    "    return plasma"
   ]
  },
  {
   "cell_type": "code",
   "execution_count": null,
   "id": "b233f72f-454e-4eef-a41b-7164bc145e79",
   "metadata": {
    "tags": []
   },
   "outputs": [],
   "source": [
    "def ocp_f(T_eV, Zbar):\n",
    "    ocp = PLASMA(Z, A, ni_cc, T_eV, T_eV, Zbar=Zbar, find_βuee=False,\n",
    "             βu_options = {'add_bridge':True,'bridge':'yukawa', 'pseudopotential':False}, \n",
    "                 hnc_options={'kappa_multiscale':10, 'R_max':10,'N_bins':1000,'oz_method':'standard'},\n",
    "                 hnc_solve_options={'num_iterations':10000,'alpha_Picard':0.1, 'verbose':False,'iters_to_wait':500},\n",
    "                 root_options={'options':{'maxfev':100,'xtol':1e-14}})\n",
    "    ocp.run_ocp_hnc()\n",
    "    return ocp\n",
    "\n",
    "def yp_f(T_eV, Zbar):\n",
    "    yukawa_plasma =  PLASMA(Z, A, ni_cc, T_eV, T_eV, Zbar=Zbar, find_βuee=False,\n",
    "                 βu_options = {'add_bridge':True,'bridge':'yukawa', 'pseudopotential':False}, \n",
    "                 hnc_options={'kappa_multiscale':10, 'R_max':10,'N_bins':1000,'oz_method':'standard'},\n",
    "                 hnc_solve_options={'num_iterations':10000,'alpha_Picard':0.1, 'verbose':False,'iters_to_wait':500},\n",
    "                 root_options={'options':{'maxfev':100,'xtol':1e-14}})\n",
    "    yukawa_plasma.run_yukawa_hnc();\n",
    "    return yukawa_plasma"
   ]
  },
  {
   "cell_type": "code",
   "execution_count": null,
   "id": "3feee028-be65-4e7d-800b-2604ac7616ba",
   "metadata": {
    "tags": []
   },
   "outputs": [],
   "source": [
    "def save_plasma(plasma, Rc):\n",
    "    T_eV = plasma.Ti_eV\n",
    "    Zbar = plasma.qsp.Zbar\n",
    "    ocp = ocp_f( T_eV, Zbar)\n",
    "    yp  = yp_f(T_eV, Zbar )\n",
    "    \n",
    "    # Make header\n",
    "    info_header = (f\"# Zach Johnson Dec/11/2023 CHNC for TCCW Paper\" + '\\n' + \n",
    "                   f\"# Ti={T_eV:0.3e}[eV], Tie={plasma.qsp.Tie_c*AU_to_eV:0.3e}[eV] , Te_c={plasma.qsp.Te_c*AU_to_eV:0.3e}[eV], n_i={plasma.ni_cc:0.3e}[1/cc], n_e={Zbar*plasma.ni_cc:0.3e}[1/cc]\" + '\\n' + \n",
    "                   f\"# ri={ri_AU:0.3f}, Zbar={Zbar:0.3f}, Rc={Rc:0.3f}[AU], Γii={plasma.qsp.Γii:0.3e}, Γei={plasma.qsp.Γei:0.3e} , Γee={plasma.qsp.Γee:0.3e}, κ={plasma.qsp.get_κ():0.3e}\" \n",
    "                  )\n",
    "    column_header = f\"{'r/ri':10}  {'g_ii':10}  {'g_ei':10}  {'g_ee':10}  {'OCP:g_ii':10}  {'Yuk:g_ii':10}  {'βu_ii_eff':10}  {'βu_OCP':10}  {'βu_Yuk':10}\"\n",
    "    header = info_header + '\\n' + column_header\n",
    "    \n",
    "    # Make save array\n",
    "    save_array = np.array([  plasma.hnc.r_array, plasma.hnc.h_r_matrix[0,0]+1, plasma.hnc.h_r_matrix[0,1]+1, plasma.hnc.h_r_matrix[1,1]+1,\n",
    "                           ocp.ocp_hnc.h_r_matrix[0,0]+1, yp.yuk_hnc.h_r_matrix[0,0] + 1, plasma.βueff_r_matrix_with_B[0,0],\n",
    "                           ocp.ocp_hnc.βu_r_matrix[0,0], yp.yuk_hnc.βu_r_matrix[0,0]]).T\n",
    "    \n",
    "    np.savetxt(f\"/home/zach/plasma/hnc/TCCW/Final_TCCW/results/CHNC_H_rs{ri_AU:0.3f}_TeV{plasma.Ti_eV:0.3f}.dat\", save_array, \n",
    "               header=header, fmt='%10.5e', comments='')"
   ]
  },
  {
   "cell_type": "markdown",
   "id": "6507e969-fa00-4875-9bb7-ef9e005264a2",
   "metadata": {},
   "source": [
    "### Now Load Data from George\n",
    "Rc is interpreted as the average bound radius, in AU in the file. Empty-core Ashcroft assumed."
   ]
  },
  {
   "cell_type": "code",
   "execution_count": null,
   "id": "bacb9b12-75c2-4796-ad97-6a36f3d5519c",
   "metadata": {
    "tags": []
   },
   "outputs": [],
   "source": [
    "GP_data   = read_csv(\"/home/zach/plasma/hnc/TCCW/Final_TCCW/GP_data/H_combined.dat\", header=0, delim_whitespace=True)\n",
    "T_eV_list = GP_data['Te(eV)']\n",
    "Rc_list   = GP_data['Rc'] # AU\n",
    "Zbar_list = GP_data['Z_bar'] #Average atom Zbar GP_data\n",
    "GP_data"
   ]
  },
  {
   "cell_type": "code",
   "execution_count": null,
   "id": "4823e523-960e-437e-b215-d1806614ed1a",
   "metadata": {
    "tags": []
   },
   "outputs": [],
   "source": [
    "plasma_list = []\n",
    "\n",
    "for T_eV, Rc, Zbar in zip(T_eV_list, Rc_list, Zbar_list):\n",
    "    plasma = plasma_f(T_eV, Rc/ri_AU, Zbar )\n",
    "    # plasma = plasma_f(T_eV, Rc/ri_AU, None )# TF\n",
    "    plasma_list.append(plasma)"
   ]
  },
  {
   "cell_type": "code",
   "execution_count": null,
   "id": "d371d3e3-bf1c-4a55-b636-45381014d495",
   "metadata": {
    "scrolled": true,
    "tags": []
   },
   "outputs": [],
   "source": [
    "guess_c_s_k_matrix = None\n",
    "for Rc, plasma in zip(Rc_list[-1::], plasma_list[-1::]): \n",
    "    # if T_eV == 2.0:\n",
    "    plasma.run_hnc(c_s_k_guess = guess_c_s_k_matrix)\n",
    "    if plasma.hnc.tot_err_list[-1] > 1e-7:\n",
    "        best_shift(plasma)\n",
    "        solve_least_squares(plasma, np.linspace(plasma.hnc.k_array[0], plasma.hnc.k_array[-1], num=200))\n",
    "        solve_least_squares(plasma, np.linspace(plasma.hnc.k_array[0], plasma.hnc.k_array[-1], num=400))\n",
    "        save_plasma(plasma, Rc)\n",
    "    else:\n",
    "        save_plasma(plasma, Rc)\n",
    "    # guess_c_s_k_matrix = plasma.hnc.c_s_k_matrix.copy()"
   ]
  },
  {
   "cell_type": "markdown",
   "id": "d4694fbb-951d-4685-8d4e-4d4ccc1b8cf4",
   "metadata": {},
   "source": [
    "### Plot and Comparison to QMD"
   ]
  },
  {
   "cell_type": "code",
   "execution_count": null,
   "id": "0352950e-8a41-4b2f-8430-f33aeeee8ddc",
   "metadata": {
    "tags": []
   },
   "outputs": [],
   "source": [
    "\n",
    "# for plasma, Rc in zip(plasma_list[4:5], Rc_list[4:5]):    \n",
    "#     save_plasma(plasma, Rc)"
   ]
  },
  {
   "cell_type": "markdown",
   "id": "67b7ecdc-b914-4619-b9c4-993ca0edb643",
   "metadata": {
    "jp-MarkdownHeadingCollapsed": true,
    "tags": []
   },
   "source": [
    "## Paper Plots"
   ]
  },
  {
   "cell_type": "code",
   "execution_count": null,
   "id": "af82bdb6-4cf4-4d04-8851-d69dcda773e0",
   "metadata": {
    "tags": []
   },
   "outputs": [],
   "source": [
    "H1_GP = read_csv(\"GP_data/GP_H1_profile.dat\", delim_whitespace=True, header=0)\n",
    "H1_GP"
   ]
  },
  {
   "cell_type": "code",
   "execution_count": null,
   "id": "0215f768-a532-4ab2-9b5e-652771cadcf2",
   "metadata": {
    "tags": []
   },
   "outputs": [],
   "source": [
    "H1_CHNC = read_csv(\"results/CHNC_H_rs1.391_TeV2.000.dat\", delim_whitespace=True, header=3)\n",
    "H1_ri = 1.391\n",
    "H1_Zbar = 1\n",
    "H1_ne0 = H1_Zbar/(4/3*np.pi*H1_ri**3)\n",
    "H1_CHNC"
   ]
  },
  {
   "cell_type": "code",
   "execution_count": null,
   "id": "5f43b15a-f12f-457a-bf73-082c43ea9cbd",
   "metadata": {
    "tags": []
   },
   "outputs": [],
   "source": [
    "def g_ei_plot(ax):\n",
    "    ax.plot(H1_GP['x'], (H1_GP['ne_s']/H1_ne0-1)*4*π*(H1_GP['r'])**2,'k--', label=\"AA-NRL Free\"  )\n",
    "    ax.plot(H1_CHNC['r/ri'],(H1_CHNC['g_ei']-1)*4*π*(H1_CHNC['r/ri']*H1_ri)**2, linestyle=':', color=colors[1], label=\"PM-HNC Free\"  )\n",
    "\n",
    "    ax.set_xlim(0,1)\n",
    "    ax.set_ylim(-5,5)\n",
    "    ax.set_ylabel(r\"$4\\pi r^2 h_{ei}$\")\n",
    "    ax.set_xlabel(r\"$r/a_i$\")\n",
    "    ax.legend()\n",
    "\n",
    "fig, ax  = plt.subplots()\n",
    "g_ei_plot(ax)"
   ]
  },
  {
   "cell_type": "code",
   "execution_count": null,
   "id": "91c201b3-7eaa-474f-bc3a-5c43715baf31",
   "metadata": {
    "tags": []
   },
   "outputs": [],
   "source": [
    "def βu_ii_eff_plot(ax):\n",
    "\n",
    "    ax.plot(H1_CHNC['r/ri'],H1_CHNC['βu_ii_eff'], label=\"PM-HNC\"  )\n",
    "    ax.plot(H1_CHNC['r/ri'],H1_CHNC['βu_OCP'],linestyle=(0,(5,1,1,1,1,1)),color=colors[3], label=\"Coulomb\"  )\n",
    "    ax.plot(H1_CHNC['r/ri'],H1_CHNC['βu_Yuk'],'-.', label=\"Yukawa\"  ,color=colors[4])\n",
    "\n",
    "\n",
    "    ax.set_xlim(0,4)\n",
    "    \n",
    "    ax.set_yscale('symlog', linthresh=1)\n",
    "    ax.set_ylabel(r\"$\\beta u_{ii}$\")\n",
    "    ax.set_xlabel(r\"$r/a_i$\")\n",
    "    ax.legend()\n",
    "    \n",
    "    \n",
    "    custom_minor_ticks = list(np.linspace(-1,1,num=21)) + list(np.concatenate([list(np.linspace(1*10**n,10*10**n,num=10)) for n in range(2)]))\n",
    "    ax.set_yticks(custom_minor_ticks, minor=True)\n",
    "    ax.set_ylim(-0.1,1e3)\n",
    "    \n",
    "fig, ax  = plt.subplots()\n",
    "βu_ii_eff_plot(ax)"
   ]
  },
  {
   "cell_type": "code",
   "execution_count": null,
   "id": "6ac3e190-f546-4d47-af1c-d21f9184264a",
   "metadata": {
    "tags": []
   },
   "outputs": [],
   "source": [
    "plasma = plasma_list[4]\n",
    "def βu_ii_plot(ax):\n",
    "    ax.plot(H1_CHNC['r/ri'], plasma.qsp.Ti*plasma.hnc.βu_r_matrix[0,0], label=r\"$u_{ii}$\"  )\n",
    "    ax.plot(H1_CHNC['r/ri'],-plasma.qsp.Tie_c*plasma.hnc.βu_r_matrix[0,1],':', label=r\"$-u_{ie}$\"  )\n",
    "    ax.plot(H1_CHNC['r/ri'], plasma.qsp.Te_c*plasma.hnc.βu_r_matrix[1,1],'--', label=r\"$u_{ee}$\"  )\n",
    "\n",
    "    ax.set_xlim(0,1)\n",
    "    ax.set_ylim(3e-1,1e2)\n",
    "    ax.set_yscale('log')\n",
    "    ax.set_ylabel(r\"$u_{ij}/(Q_i Q_j)$ [au]\")\n",
    "    ax.set_xlabel(r\"$r/a_i$\")\n",
    "    ax.legend()\n",
    "    \n",
    "fig, ax  = plt.subplots()\n",
    "βu_ii_plot(ax)"
   ]
  },
  {
   "cell_type": "code",
   "execution_count": null,
   "id": "b5fb1f83-691f-49b7-8178-d163ca40bf90",
   "metadata": {
    "tags": []
   },
   "outputs": [],
   "source": [
    "from scipy.interpolate import CubicSpline, PchipInterpolator\n",
    "\n",
    "def g_ii_plot(ax):\n",
    "    ax.plot(H1_CHNC['r/ri'],H1_CHNC['g_ii'], label=\"PM-HNC\"  )\n",
    "    ax.plot(H1_CHNC['r/ri'],H1_CHNC['OCP:g_ii'],':', label=\"OCP\"  )\n",
    "    ax.plot(H1_CHNC['r/ri'],H1_CHNC['Yuk:g_ii'],'--', label=\"Yukawa\"  )\n",
    "\n",
    "    # Data from community TCCW\n",
    "    upper_data = read_csv(\"Fig5a_Upper.txt\", delim_whitespace=True, header=1)\n",
    "    lower_data = read_csv(\"Fig5a_Lower.txt\", delim_whitespace=True, header=1)\n",
    "    \n",
    "    ax.fill_between(lower_data['r/ri'],lower_data['gii'], PchipInterpolator(upper_data['r/ri'], upper_data['gii'])(lower_data['r/ri']), alpha=0.5, color='k', label='Workshop DFT Spread')\n",
    "    \n",
    "    ax.set_xlim(0,4)\n",
    "    ax.set_ylim(0,1.2)\n",
    "    # ax.set_yscale('symlog', linthresh=0.1)\n",
    "    ax.set_ylabel(r\"$g_{ii}$\")\n",
    "    ax.set_xlabel(r\"$r/a_i$\")\n",
    "    ax.legend()\n",
    "\n",
    "# fig, ax  = plt.subplots( figsize=(8, 4.9443))\n",
    "# g_ii_plot(ax)\n",
    "\n",
    "def g_ij_plot(ax):\n",
    "    ax.plot(H1_CHNC['r/ri'],H1_CHNC['g_ii'], label=\"PM-HNC ii\"  )\n",
    "    ax.plot(H1_CHNC['r/ri'],H1_CHNC['g_ei'],':', label=\"PM-HNC ei\"  )\n",
    "    ax.plot(H1_CHNC['r/ri'],H1_CHNC['g_ee'],'--', label=\"PM-HNC ee\"  )\n",
    "    \n",
    "    ax.plot(H1_CHNC['r/ri'],H1_CHNC['OCP:g_ii'],linestyle=(0,(5,1,1,1,1,1)), label=\"Coulomb HNC ii\" )\n",
    "    ax.plot(H1_CHNC['r/ri'],H1_CHNC['Yuk:g_ii'],'-.', label=\"Yukawa HNC ii\")\n",
    "    \n",
    "    ax.plot(H1_GP['x'], (H1_GP['ne_s']/H1_ne0), 'k--', label=\"AA-NRL ei \"  )\n",
    "\n",
    "    # Data from community TCCW\n",
    "    upper_data = read_csv(\"Fig5a_Upper.txt\", delim_whitespace=True, header=1)\n",
    "    lower_data = read_csv(\"Fig5a_Lower.txt\", delim_whitespace=True, header=1)\n",
    "    \n",
    "    ax.fill_between(lower_data['r/ri'],lower_data['gii'], PchipInterpolator(upper_data['r/ri'], upper_data['gii'])(lower_data['r/ri']), alpha=0.5, color='k', label='Workshop DFT Spread')\n",
    "    ax.set_xlim(0,4)\n",
    "    ax.set_ylim(0,1.5)\n",
    "    # ax.set_yscale('symlog', linthresh=0.1)\n",
    "    ax.set_ylabel(r\"$g_{ij}$\")\n",
    "    ax.set_xlabel(r\"$r/a_i$\")\n",
    "    ax.legend(loc='lower right',fontsize=12)\n",
    "\n",
    "fig, ax  = plt.subplots( figsize=(8, 4.9443))\n",
    "g_ij_plot(ax)"
   ]
  },
  {
   "cell_type": "code",
   "execution_count": null,
   "id": "c37f8a01-798a-4884-988e-92fef2ef238a",
   "metadata": {
    "tags": []
   },
   "outputs": [],
   "source": [
    "fig, axs = plt.subplots(2,2, figsize=(12, 9))\n",
    "βu_ii_plot(axs[0,0])\n",
    "βu_ii_eff_plot(axs[0,1])\n",
    "\n",
    "g_ei_plot(axs[1,0])\n",
    "g_ij_plot(axs[1,1])\n",
    "axs[0,1].axhline(y=1,color='k',linewidth=0.4)\n",
    "axs[0,1].fill_between(np.linspace(0,10),-1,1,color='k',alpha=0.05)\n",
    "axs[0,1].text(0.03, 1.10, \"log-scale\",fontsize=14)\n",
    "axs[0,1].text(0.03, 0.8, \"linear-scale\",fontsize=14)\n",
    "# Subfigure Labels\n",
    "axs[0,0].text(0.05, 0.95, \"a)\", transform=axs[0,0].transAxes, fontsize=18)\n",
    "axs[0,1].text(0.05, 0.95, \"b)\", transform=axs[0,1].transAxes, fontsize=18)\n",
    "axs[1,0].text(0.05, 0.95, \"c)\", transform=axs[1,0].transAxes, fontsize=18)\n",
    "axs[1,1].text(0.05, 0.95, \"d)\", transform=axs[1,1].transAxes, fontsize=18)\n",
    "\n",
    "plt.tight_layout()\n",
    "plt.savefig(\"H1_gβu_plot.png\", dpi=400)\n"
   ]
  },
  {
   "cell_type": "markdown",
   "id": "50966b31-3a79-410d-858d-9037723b8844",
   "metadata": {
    "tags": []
   },
   "source": [
    "## Specific Heat"
   ]
  },
  {
   "cell_type": "code",
   "execution_count": null,
   "id": "8ffc1842-aadf-4d48-8c7a-20f593ea8c49",
   "metadata": {
    "tags": []
   },
   "outputs": [],
   "source": [
    "plasma_list[-1].run_hnc()"
   ]
  },
  {
   "cell_type": "code",
   "execution_count": null,
   "id": "de1ab369-d543-4939-80d8-24738b5c2e95",
   "metadata": {
    "tags": []
   },
   "outputs": [],
   "source": [
    "plasma_list[-1].get_effective_ion_cp()"
   ]
  },
  {
   "cell_type": "code",
   "execution_count": null,
   "id": "e52d8167-53c8-402a-a1cc-cd3a41628598",
   "metadata": {
    "tags": []
   },
   "outputs": [],
   "source": [
    "plasma_list[-1].get_effective_ion_cp(ε_derivative=1e-6, ε_table=1e-16, N_table=2)"
   ]
  },
  {
   "cell_type": "code",
   "execution_count": null,
   "id": "f7100614-3756-4931-9f1d-8d28f8039bae",
   "metadata": {
    "tags": []
   },
   "outputs": [],
   "source": [
    "plasma_list[-1].ni_cc, plasma_list[-1].ni_cc "
   ]
  },
  {
   "cell_type": "code",
   "execution_count": null,
   "id": "353a4551-9f1b-4846-b6c9-23c0232de57e",
   "metadata": {
    "tags": []
   },
   "outputs": [],
   "source": [
    "plasma_list[-1].n_table, plasma_list[-1].T_table "
   ]
  },
  {
   "cell_type": "code",
   "execution_count": null,
   "id": "95fdc64b-8007-4ca5-a73f-fd08f8ac6453",
   "metadata": {
    "tags": []
   },
   "outputs": [],
   "source": [
    "plasma_list[-1].run_hnc(c_s_k_guess = plasma_list[-1].hnc.c_s_k_matrix.copy())"
   ]
  },
  {
   "cell_type": "code",
   "execution_count": null,
   "id": "5601b10a-c4ba-47a8-9fae-b1bb60c28d07",
   "metadata": {
    "tags": []
   },
   "outputs": [],
   "source": [
    "plasma_list[-1].get_effective_ion_cp(ε_derivative=1e-8, ε_table=1e-6, N_table=2)"
   ]
  },
  {
   "cell_type": "code",
   "execution_count": null,
   "id": "49ee3050-0f85-4c50-80d9-3cd861ecbd2c",
   "metadata": {
    "tags": []
   },
   "outputs": [],
   "source": [
    "plasma_list[-1].get_effective_ion_cp(ε_derivative=1e-6, ε_table=1e-4, N_table=3)"
   ]
  },
  {
   "cell_type": "markdown",
   "id": "ced464fa-b5af-4d1b-93ab-da36d25bd3d2",
   "metadata": {
    "tags": []
   },
   "source": [
    "## Conductivity from Ziman\n",
    "\n",
    "https://arxiv.org/pdf/1508.06101.pdf eq.5 in Hansen & McDonald the eqn's 10.2.4, 10.2.11\n",
    "\n",
    "$$\n",
    "\\sigma^{-1} = \\rho= \\frac{1}{32 \\sqrt{\\pi} Z} \\frac{m_e^2}{(2 m_e T_e^c)^{3/2}} \\int^{\\infty}_0 e^{-q^2/(8 m_e T_e^c)}  |\\tilde{V}(q)|^2 S_{ii}(q) q^3 dq\n",
    "$$\n",
    "where the screened potential \n",
    "$$\\tilde{V}(q) = V(q)/\\epsilon,$$\n",
    "for $$\\frac{1}{\\epsilon}  = 1 + \\frac{4 \\pi}{k^2}\\chi_{ee}(k) $$ \n",
    "and \n",
    "$$\\chi_{ee}(k) = -\\beta_e^c n_e S_{ee}(k) $$"
   ]
  },
  {
   "cell_type": "code",
   "execution_count": null,
   "id": "a2b39035-eccd-49fe-b31b-644d5df51104",
   "metadata": {
    "tags": []
   },
   "outputs": [],
   "source": [
    "from scipy.integrate import simpson\n",
    "\n",
    "def conductivity(plasma):\n",
    "    q_array = plasma.hnc.k_array/plasma.qsp.ri \n",
    "    \n",
    "    rhosum = np.sum(plasma.hnc.rho/plasma.qsp.ri**3)\n",
    "    x = plasma.hnc.rho/plasma.qsp.ri**3/rhosum\n",
    "    S_matrix = np.diag(x)[:,:,np.newaxis] + rhosum * x[:,np.newaxis,np.newaxis]*x[np.newaxis,:,np.newaxis]*plasma.hnc.h_k_matrix\n",
    "    χ_ee = -plasma.qsp.βe_c*plasma.qsp.ne*S_matrix[1,1]\n",
    "    kTF = plasma.qsp.get_κ()/plasma.qsp.ri\n",
    "    # χ_ee = -q_array**2/(4*π)* kTF**2/(kTF**2 + q_array**2)\n",
    "    ε = 1/( 1 + 4*π/q_array**2 * χ_ee)\n",
    "    Vtilde = -plasma.Zbar/(plasma.hnc.r_array*plasma.qsp.ri)/ε\n",
    "    # print(ε)\n",
    "    integrand = np.exp(-plasma.qsp.βe_c * q_array**2/8) * np.abs(Vtilde)**2 * S_matrix[0,0] * q_array**3\n",
    "    ρ_AU = 1/(  32*np.sqrt(π)*plasma.Zbar*(2*plasma.qsp.Te_c)**1.5) * simpson(integrand, q_array)  \n",
    "    σ_AU = 1/ρ_AU\n",
    "    σ_Spercm = σ_AU * AU_to_Siemens/AU_to_cm\n",
    "    return σ_Spercm\n",
    "print(f\"Conductivity: σ = {conductivity(plasma):0.3e}\")"
   ]
  },
  {
   "cell_type": "code",
   "execution_count": null,
   "id": "9228768d-2f84-4c36-b2ca-92f9d050c2e3",
   "metadata": {
    "tags": []
   },
   "outputs": [],
   "source": [
    "fig, ax = plt.subplots( facecolor='white')\n",
    "\n",
    "ax.plot(T_eV_list, [conductivity(plasma) for plasma in plasma_list], label='Ziman')\n",
    "\n",
    "ax.set_ylabel(r\"$\\sigma $[S/cm]\")\n",
    "ax.set_xlabel(r\"$T$ [eV]\")\n",
    "\n",
    "\n",
    "# Inset Text Box\n",
    "# props = dict(boxstyle='round', facecolor='white', alpha=0.5)\n",
    "# inset_text = f\"H\\n {sci_notation(ni_cc,3)} [cc$^{{-1}}$]\" \n",
    "# ax.text(0.35, 0.95, inset_text, transform=ax.transAxes, fontsize=14,\n",
    "#         verticalalignment='top', bbox=props)\n",
    "\n",
    "# ax.errorbar([tccw_TeV],[tccw_η_cgs], yerr=[tccw_η_cgs_err], barsabove=True, capsize=5, marker='.', label='MD Simulation')\n",
    "\n",
    "# Scales\n",
    "ax.set_yscale('log')\n",
    "ax.set_xscale('log')\n",
    "# ax.set_ylim(5e4,5e6)\n",
    "\n",
    "# Legend\n",
    "ax.legend()\n"
   ]
  },
  {
   "cell_type": "code",
   "execution_count": null,
   "id": "e359f971-abf3-4a92-8317-2dee2cea94c0",
   "metadata": {},
   "outputs": [],
   "source": []
  },
  {
   "cell_type": "code",
   "execution_count": null,
   "id": "09633b03-ef67-4438-a59b-c0a2f1d9e8a0",
   "metadata": {},
   "outputs": [],
   "source": []
  },
  {
   "cell_type": "code",
   "execution_count": null,
   "id": "44e931b8-b3c2-40e2-ada8-25dbdd75152d",
   "metadata": {},
   "outputs": [],
   "source": []
  },
  {
   "cell_type": "code",
   "execution_count": null,
   "id": "3245be84-3a55-4b99-9d67-9d0d099d8f9b",
   "metadata": {},
   "outputs": [],
   "source": []
  }
 ],
 "metadata": {
  "kernelspec": {
   "display_name": "Python 3 (ipykernel)",
   "language": "python",
   "name": "python3"
  },
  "language_info": {
   "codemirror_mode": {
    "name": "ipython",
    "version": 3
   },
   "file_extension": ".py",
   "mimetype": "text/x-python",
   "name": "python",
   "nbconvert_exporter": "python",
   "pygments_lexer": "ipython3",
   "version": "3.10.1"
  }
 },
 "nbformat": 4,
 "nbformat_minor": 5
}
