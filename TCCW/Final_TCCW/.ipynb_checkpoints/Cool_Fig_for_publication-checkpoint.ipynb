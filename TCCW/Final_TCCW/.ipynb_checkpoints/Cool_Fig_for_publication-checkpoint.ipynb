{
 "cells": [
  {
   "cell_type": "markdown",
   "id": "12fb96e2-e527-496f-baf7-8aba27ab6ea3",
   "metadata": {},
   "source": [
    "# Cool Front Image"
   ]
  },
  {
   "cell_type": "code",
   "execution_count": 1,
   "id": "2ad42399-0077-4594-945d-0fb869ef7c0e",
   "metadata": {},
   "outputs": [],
   "source": [
    "import numpy as np\n",
    "import matplotlib.pyplot as plt\n",
    "from pandas import read_csv\n",
    "\n",
    "from scipy.spatial.distance import cdist\n",
    "from scipy.interpolate import interp1d\n",
    "\n",
    "import pyvista as pv\n",
    "\n",
    "from hnc.hnc.constants import *\n"
   ]
  },
  {
   "cell_type": "code",
   "execution_count": 2,
   "id": "3f4456e6-fdb9-4f75-af5a-a7b0ee7a20e6",
   "metadata": {},
   "outputs": [],
   "source": [
    "gij_file = \"results/CHNC_Al_rs2.998_TeV1.000.dat\"\n",
    "gij_data = read_csv(gij_file, delim_whitespace=True, header=3)\n",
    "rs = 2.998 # AU\n",
    "r_data, gei_data = gij_data['r/ri']*rs, gij_data['g_ei']"
   ]
  },
  {
   "cell_type": "code",
   "execution_count": 3,
   "id": "af457884-4f0e-4ae8-bdf8-ab58dbbce15f",
   "metadata": {},
   "outputs": [
    {
     "data": {
      "text/plain": [
       "NpzFile 'results/Luciano_Al_checlpoint_10000.npz' with keys: pos, vel, rdf_hist, species_heat_flux, species_pressure_kin_tensor..."
      ]
     },
     "execution_count": 3,
     "metadata": {},
     "output_type": "execute_result"
    }
   ],
   "source": [
    "Al_MD_file = \"results/Luciano_Al_checlpoint_10000.npz\" \n",
    "MD_data = np.load(Al_MD_file)\n",
    "MD_array = MD_data['pos']*cm_to_AU\n",
    "MD_data"
   ]
  },
  {
   "cell_type": "code",
   "execution_count": 4,
   "id": "49825f46-84ba-44f1-8e90-3e01d957fa7c",
   "metadata": {},
   "outputs": [],
   "source": [
    "# Radial distribution function g_ei(r)\n",
    "g_ei = interp1d(r_data, gei_data, fill_value='extrapolate', bounds_error=False)"
   ]
  },
  {
   "cell_type": "code",
   "execution_count": 40,
   "id": "28cfd849-7d07-4987-a1d0-5f1eb5b54a1f",
   "metadata": {},
   "outputs": [
    {
     "data": {
      "text/plain": [
       "(0.0, 5.0)"
      ]
     },
     "execution_count": 40,
     "metadata": {},
     "output_type": "execute_result"
    },
    {
     "data": {
      "image/png": "[encoded data removed]",
      "text/plain": [
       "<Figure size 640x480 with 1 Axes>"
      ]
     },
     "metadata": {},
     "output_type": "display_data"
    }
   ],
   "source": [
    "fig, ax = plt.subplots()\n",
    "\n",
    "ax.plot(r_data, gei_data)\n",
    "ax.set_xlim(0,5)"
   ]
  },
  {
   "cell_type": "code",
   "execution_count": 76,
   "id": "ee64c1e8-2135-4c1d-94dc-6c75439989c9",
   "metadata": {
    "scrolled": true
   },
   "outputs": [
    {
     "name": "stdout",
     "output_type": "stream",
     "text": [
      "CPU times: user 7.65 s, sys: 3.56 ms, total: 7.65 s\n",
      "Wall time: 7.66 s\n"
     ]
    }
   ],
   "source": [
    "%%time\n",
    "\n",
    "# Constants\n",
    "L_simulation = 4.360647e-07*cm_to_AU\n",
    "L = L_simulation/4 # Define smaller box\n",
    "\n",
    "approx_dx = 0.2\n",
    "num_points = int(L/approx_dx)\n",
    "\n",
    "\n",
    "# Ion positions: Nx3 matrix\n",
    "# Example positions, replace with your actual data\n",
    "ion_positions = MD_array \n",
    "\n",
    "# Create a 3D grid\n",
    "x = np.linspace(0, L, num_points)\n",
    "y = np.linspace(0, L, num_points)\n",
    "z = np.linspace(0, L, num_points)\n",
    "xx, yy, zz = np.meshgrid(x, y, z, indexing='ij')\n",
    "\n",
    "# Compute the electron density at each grid point\n",
    "electron_density = np.ones((num_points, num_points, num_points))\n",
    "\n",
    "def min_image_dist(p1, p2, L):\n",
    "    \"\"\" Calculate the minimum image distance accounting for periodic boundary conditions \"\"\"\n",
    "    return np.abs(p1 - p2) - L * np.round(np.abs(p1 - p2) / L)\n",
    "\n",
    "new_ion_MD_array = []\n",
    "for ion in ion_positions:\n",
    "    if np.all(ion < L):\n",
    "        # Calculate distances from this ion to all points in the grid considering periodic boundary conditions\n",
    "        grid_points = np.column_stack([xx.ravel(), yy.ravel(), zz.ravel()])\n",
    "        min_image_distances = np.array([min_image_dist(grid_points[:, i], ion[i], L_simulation) for i in range(3)]).T\n",
    "        distances = np.linalg.norm(min_image_distances, axis=1)\n",
    "        densities = g_ei(distances).reshape((num_points, num_points, num_points))\n",
    "        \n",
    "        # Sum the contributions of this ion's g_ei to the electron density\n",
    "        electron_density *= densities\n",
    "        new_ion_MD_array.append(ion)\n",
    "\n",
    "new_ion_MD_array = np.array(new_ion_MD_array)\n",
    "# For visualization, you can use your preferred plotting code similar to previous descriptions"
   ]
  },
  {
   "cell_type": "code",
   "execution_count": 78,
   "id": "ddd39a35-aa48-49c6-9dc3-94e971853ebc",
   "metadata": {},
   "outputs": [
    {
     "name": "stdout",
     "output_type": "stream",
     "text": [
      "71 number of ions in corner\n"
     ]
    }
   ],
   "source": [
    "# Create a point cloud with ion positions\n",
    "print(f\"{len(new_ion_MD_array)} number of ions in corner\")\n",
    "points = pv.PolyData(new_ion_MD_array)\n",
    "\n",
    "# Save to a VTK file\n",
    "points.save(\"ion_positions.vtk\")"
   ]
  },
  {
   "cell_type": "code",
   "execution_count": null,
   "id": "759402e7-08b3-4977-b273-ef6914a961ce",
   "metadata": {},
   "outputs": [],
   "source": [
    "\n",
    "# Example path data: an array of positions (x, y, z) over time\n",
    "# Replace this with your actual time-sequence position data\n",
    "new_ion_MD_array[5]\n",
    "path_data = np.array([\n",
    "    new_ion_MD_array[5],\n",
    "    new_ion_MD_array*[1.1,1.3,1],\n",
    "    new_ion_MD_array*[1.1,1.2,1],\n",
    "    new_ion_MD_array*[1.4,1.4,0.8],\n",
    "    new_ion_MD_array*[1.3,1.5,0.7]\n",
    "])\n",
    "\n",
    "# Create a line representing the path\n",
    "path = pv.lines_from_points(path_data)\n",
    "\n",
    "# Save to a VTK file\n",
    "path.save(\"particle_path.vtk\")"
   ]
  },
  {
   "cell_type": "code",
   "execution_count": 79,
   "id": "8d2b91a5-c402-4259-934c-f1cc0ac120ca",
   "metadata": {},
   "outputs": [],
   "source": [
    "# Create a PyVista ImageData object\n",
    "grid = pv.ImageData()\n",
    "\n",
    "# Set the dimensions, spacing, and origin of the grid\n",
    "grid.dimensions = np.array(electron_density.shape) + 1\n",
    "grid.spacing = (L / (num_points - 1), L / (num_points - 1), L / (num_points - 1))\n",
    "grid.origin = (0, 0, 0)\n",
    "\n",
    "# Assign the electron density data to the grid\n",
    "grid.cell_data[\"Electron Density\"] = electron_density.flatten(order=\"F\")  # Use Fortran order for compatibility with VTK\n",
    "# grid.cell_data[\"values\"] = values.flatten(order=\"F\")\n",
    "# grid\n",
    "# Save the grid to a VTK file\n",
    "grid.save(\"electron_density.vtk\")\n"
   ]
  },
  {
   "cell_type": "code",
   "execution_count": 105,
   "id": "81ab41ff-6df8-4a9b-ba57-f6256fb41b43",
   "metadata": {},
   "outputs": [],
   "source": [
    "# import pyvista as pv\n",
    "\n",
    "# # Constants\n",
    "# L = 82.5\n",
    "# num_points = 40\n",
    "\n",
    "# # Assuming 'electron_density' is your computed 3D numpy array\n",
    "# # Example data structure for electron_density, replace with your actual data\n",
    "# electron_density = np.random.rand(num_points, num_points, num_points)\n",
    "\n",
    "# # Create a PyVista ImageData object\n",
    "# grid = pv.ImageData()\n",
    "\n",
    "# # Set the dimensions, spacing, and origin of the grid\n",
    "# grid.dimensions = np.array(electron_density.shape) + 1\n",
    "# grid.spacing = (L / (num_points - 1), L / (num_points - 1), L / (num_points - 1))\n",
    "# grid.origin = (0, 0, 0)\n",
    "\n",
    "# # Assign the electron density data to the grid\n",
    "# grid.cell_data[\"Electron Density\"] = electron_density.flatten(order=\"F\")  # Use Fortran order for compatibility with VTK\n",
    "# # grid.cell_data[\"values\"] = values.flatten(order=\"F\")\n",
    "# # grid\n",
    "# # Save the grid to a VTK file\n",
    "# grid.save(\"electron_density.vtk\")\n"
   ]
  },
  {
   "cell_type": "code",
   "execution_count": null,
   "id": "d3fbd113-db2c-4003-a565-3e500ae9b8fb",
   "metadata": {},
   "outputs": [],
   "source": []
  },
  {
   "cell_type": "code",
   "execution_count": 104,
   "id": "fecf1fbc-be5e-4fa1-8edf-e25ff5ca85ca",
   "metadata": {},
   "outputs": [],
   "source": [
    "# # Plotting\n",
    "# fig = plt.figure(figsize=(10, 8))\n",
    "# ax = fig.add_subplot(111, projection='3d')\n",
    "# # ax.scatter(ion_positions[:, 0], ion_positions[:, 1], ion_positions[:, 2], color='red', label='Ions')\n",
    "# ax.scatter(xx.ravel(), yy.ravel(), zz.ravel(), c=electron_density.ravel(), alpha=0.01, label='Electron Density')\n",
    "# plt.legend()\n",
    "# plt.title('Electron Density in 3D with Ion Positions')\n",
    "# plt.show()"
   ]
  }
 ],
 "metadata": {
  "kernelspec": {
   "display_name": "Python 3 (ipykernel)",
   "language": "python",
   "name": "python3"
  },
  "language_info": {
   "codemirror_mode": {
    "name": "ipython",
    "version": 3
   },
   "file_extension": ".py",
   "mimetype": "text/x-python",
   "name": "python",
   "nbconvert_exporter": "python",
   "pygments_lexer": "ipython3",
   "version": "3.10.6"
  }
 },
 "nbformat": 4,
 "nbformat_minor": 5
}
