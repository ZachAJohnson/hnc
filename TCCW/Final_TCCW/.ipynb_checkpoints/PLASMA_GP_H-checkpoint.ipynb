{
 "cells": [
  {
   "cell_type": "markdown",
   "id": "415426e0",
   "metadata": {
    "tags": []
   },
   "source": [
    "# Import"
   ]
  },
  {
   "cell_type": "code",
   "execution_count": 1,
   "id": "2e5c11ba",
   "metadata": {
    "tags": []
   },
   "outputs": [
    {
     "name": "stdout",
     "output_type": "stream",
     "text": [
      "ModuleNotFoundError: No module named 'mendeleev'\n"
     ]
    }
   ],
   "source": [
    "import numpy as np\n",
    "import matplotlib.pyplot as plt\n",
    "from pandas import read_csv\n",
    "\n",
    "from hnc.hnc.PIE import Plasma_of_Ions_and_Electrons as PLASMA\n",
    "\n",
    "from hnc.hnc.constants import *\n",
    "from hnc.hnc.misc import n_from_rs, rs_from_n\n",
    "\n",
    "from pandas import read_csv\n",
    "\n",
    "prop_cycle = plt.rcParams['axes.prop_cycle']\n",
    "colors = prop_cycle.by_key()['color']\n",
    "                \n",
    "from IPython.core.display import HTML\n",
    "HTML(\"\"\"\n",
    "<style>\n",
    ".output_png {\n",
    "    display: table-cell;\n",
    "    text-align: center;\n",
    "    vertical-align: middle;\n",
    "}\n",
    "\n",
    "</style>\n",
    "\"\"\")\n",
    "import matplotlib as mpl\n",
    "from cycler import cycler\n",
    "mpl.rcParams['lines.linewidth'] = 2.2\n",
    "mpl.rcParams['axes.spines.right'] = False\n",
    "mpl.rcParams['axes.spines.top'] = False\n",
    "mpl.rcParams['axes.labelsize'] = 20\n",
    "mpl.rcParams['lines.markersize'] = 8\n",
    "mpl.rcParams['font.sans-serif'] = ['Arial', 'Tahoma', 'DejaVu Sans', 'Lucida Grande', 'Verdana']\n",
    "mpl.rcParams['font.size'] = 16\n",
    "mpl.rcParams['axes.grid'] = True\n",
    "mpl.rcParams['grid.color'] = '#636363'\n",
    "mpl.rcParams['grid.alpha'] = 0.12\n",
    "mpl.rcParams['grid.linewidth'] = 0.7\n",
    "mpl.rcParams['grid.linestyle'] = '-'\n",
    "mpl.rcParams['axes.prop_cycle'] = cycler('color',  ['#0AB34F', '#bf009f', '#00abc3', '#8e92c5', '#cc7014', '#e32851'])\n",
    "mpl.rcParams['legend.fancybox'] = True\n",
    "mpl.rcParams['legend.framealpha'] = 0.6\n",
    "mpl.rcParams['legend.fontsize'] = 14\n",
    "mpl.rcParams['figure.figsize'] = 8, 4.9443\n",
    "mpl.rcParams['figure.dpi'] = 100\n",
    "\n",
    "colors = ['#0AB34F', '#bf009f', '#00abc3', '#8e92c5', '#cc7014', '#e32851']\n"
   ]
  },
  {
   "cell_type": "markdown",
   "id": "01048544",
   "metadata": {},
   "source": [
    "# Function that sets up HNC QSP "
   ]
  },
  {
   "cell_type": "markdown",
   "id": "c961fbc5-d0c8-45ea-b238-9e611ea79173",
   "metadata": {},
   "source": [
    "### Create and run plasma"
   ]
  },
  {
   "cell_type": "code",
   "execution_count": 2,
   "id": "ca58c435",
   "metadata": {
    "tags": []
   },
   "outputs": [],
   "source": [
    "name='H'\n",
    "Z, A = 1,1\n",
    "mi = m_p * A\n",
    "\n",
    "ni_cc = 5.98e23\n",
    "ri_cm = rs_from_n(ni_cc)\n",
    "ri_AU = ri_cm*cm_to_AU\n"
   ]
  },
  {
   "cell_type": "markdown",
   "id": "bb89b469-e9f3-4ba9-bb07-defe0c60eea4",
   "metadata": {},
   "source": [
    "### Make βu_ii, βu_fi from using bound density from AA\n",
    "If we assume the bound state does not deform at all, then we can calculate potentials based on it easily via integration"
   ]
  },
  {
   "cell_type": "markdown",
   "id": "3808a279-aa7e-458b-9781-8b8b2671681f",
   "metadata": {},
   "source": [
    "### Solving"
   ]
  },
  {
   "cell_type": "code",
   "execution_count": 3,
   "id": "e0a95006-3690-4761-a8eb-d1f49eacda29",
   "metadata": {
    "scrolled": true,
    "tags": []
   },
   "outputs": [],
   "source": [
    "from scipy.optimize import least_squares\n",
    "from scipy.interpolate import interp1d,CubicSpline, PchipInterpolator\n",
    "\n",
    "def custom_flat(hnc_matrix):\n",
    "    hnc_flat = np.concatenate([hnc_matrix[0,0],hnc_matrix[0,1],hnc_matrix[1,1]])\n",
    "    return hnc_flat\n",
    "\n",
    "def custom_unflat(hnc_flat):\n",
    "    hnc00, hnc01, hnc11 = np.split(hnc_flat,3)\n",
    "    hnc_matrix = np.zeros((2,2,len(hnc00)))\n",
    "    hnc_matrix[0,0] = hnc00\n",
    "    hnc_matrix[1,0] = hnc01\n",
    "    hnc_matrix[0,1] = hnc01\n",
    "    hnc_matrix[1,1] = hnc11\n",
    "    return hnc_matrix\n",
    "\n",
    "def solve_least_squares(plasma, sparse_k_array, c_s_k_guess=None, ftol=1e-8):\n",
    "    if c_s_k_guess is None:\n",
    "        c_s_k_guess = plasma.hnc.c_s_k_matrix\n",
    "\n",
    "    # Create functions for converting between sparse, not sparse and flattened versions of c_s_k\n",
    "    get_sparse_csk = lambda c_s_k_flat: np.concatenate([PchipInterpolator(plasma.hnc.k_array, c_s_k)(sparse_k_array) for c_s_k in np.split(c_s_k_flat,3) ])\n",
    "    get_csk = lambda sparse_hnc_csk: PchipInterpolator(sparse_k_array, sparse_hnc_csk)(plasma.hnc.k_array)\n",
    "    get_csk_matrix_from_sparse_csk_flat =  lambda sparse_c_s_k_flat: custom_unflat(np.concatenate([get_csk(sparse_csk) for sparse_csk in np.split(sparse_c_s_k_flat,3)]))\n",
    "    \n",
    "    def min_function(sparse_c_s_k_flat):\n",
    "        c_s_k_matrix = get_csk_matrix_from_sparse_csk_flat(sparse_c_s_k_flat)\n",
    "        new_c_s_k_matrix = plasma.hnc.guess_c_s_k_matrix(c_s_k_matrix)\n",
    "        plasma.hnc.c_s_k_matrix = new_c_s_k_matrix.copy()\n",
    "        new_c_s_k_flat = custom_flat(new_c_s_k_matrix)\n",
    "        return sparse_c_s_k_flat - get_sparse_csk(new_c_s_k_flat)\n",
    "    \n",
    "    c_s_k_flat_guess = custom_flat(c_s_k_guess)\n",
    "    c_s_k_sparse_guess = get_sparse_csk(c_s_k_flat_guess)\n",
    "    sol = least_squares(min_function, c_s_k_sparse_guess, verbose=2, ftol=ftol)#, bounds = c_s_k_bounds)\n",
    "    plasma.hnc.c_s_k_matrix = get_csk_matrix_from_sparse_csk_flat(sol.x)\n",
    "    plasma.hnc.set_all_matrices_from_csk(plasma.hnc.c_s_k_matrix)\n",
    "    print(sol)\n",
    "\n",
    "def best_shift(plasma, c_s_k_guess = None, ftol=1e-8, set=True):\n",
    "    if c_s_k_guess is None:\n",
    "        c_s_k_guess = plasma.hnc.c_s_k_matrix\n",
    "\n",
    "    def min_function(multiplier_list):\n",
    "        xii, xei, xee = multiplier_list\n",
    "        multiplier_matrix = np.array([[xii,xei],[xei,xee]])\n",
    "        c_s_k_matrix = multiplier_matrix[:,:,np.newaxis] * c_s_k_guess\n",
    "        new_c_s_k_matrix = plasma.hnc.guess_c_s_k_matrix(c_s_k_matrix)\n",
    "        \n",
    "        return c_s_k_matrix.flatten() - new_c_s_k_matrix.flatten()\n",
    "    \n",
    "    sol = least_squares(min_function, np.ones((3)) , verbose=2, ftol=ftol)#, bounds = c_s_k_bounds)\n",
    "    xii, xei, xee = sol.x\n",
    "    multiplier_matrix = np.array([[xii,xei],[xei,xee]])\n",
    "    \n",
    "    plasma.hnc.c_s_k_matrix = multiplier_matrix[:,:,np.newaxis] * c_s_k_guess\n",
    "    print(sol)\n",
    "    return sol"
   ]
  },
  {
   "cell_type": "code",
   "execution_count": 4,
   "id": "82585fc5",
   "metadata": {
    "scrolled": true,
    "tags": []
   },
   "outputs": [],
   "source": [
    "def plasma_f(T_eV, Rc, Zbar, closure='svt'):\n",
    "    plasma = PLASMA(Z, A, ni_cc, T_eV, T_eV, Zbar=Zbar, find_βuee=False,\n",
    "             βu_options = {'add_bridge':True,'bridge':'yukawa', 'pseudopotential':False}, \n",
    "             qsp_options = {'Te_c_type':'DMC'},\n",
    "             hnc_options={'kappa_multiscale':10, 'R_max':10,'N_bins':1000,'oz_method':closure},\n",
    "             hnc_solve_options={'num_iterations':10000,'alpha_Picard':0.1, 'verbose':False,'iters_to_wait':500},\n",
    "             root_options={'options':{'maxfev':100,'xtol':1e-14}})\n",
    "\n",
    "    return plasma"
   ]
  },
  {
   "cell_type": "code",
   "execution_count": 5,
   "id": "b233f72f-454e-4eef-a41b-7164bc145e79",
   "metadata": {
    "tags": []
   },
   "outputs": [],
   "source": [
    "def ocp_f(T_eV, Zbar):\n",
    "    ocp = PLASMA(Z, A, ni_cc, T_eV, T_eV, Zbar=Zbar, find_βuee=False,\n",
    "             βu_options = {'add_bridge':True,'bridge':'yukawa', 'pseudopotential':False}, \n",
    "                 hnc_options={'kappa_multiscale':10, 'R_max':10,'N_bins':1000,'oz_method':'standard'},\n",
    "                 hnc_solve_options={'num_iterations':10000,'alpha_Picard':0.1, 'verbose':False,'iters_to_wait':500},\n",
    "                 root_options={'options':{'maxfev':100,'xtol':1e-14}})\n",
    "    ocp.run_ocp_hnc()\n",
    "    return ocp\n",
    "\n",
    "def yp_f(T_eV, Zbar):\n",
    "    yukawa_plasma =  PLASMA(Z, A, ni_cc, T_eV, T_eV, Zbar=Zbar, find_βuee=False,\n",
    "                 βu_options = {'add_bridge':True,'bridge':'yukawa', 'pseudopotential':False}, \n",
    "                 hnc_options={'kappa_multiscale':10, 'R_max':10,'N_bins':1000,'oz_method':'standard'},\n",
    "                 hnc_solve_options={'num_iterations':10000,'alpha_Picard':0.1, 'verbose':False,'iters_to_wait':500},\n",
    "                 root_options={'options':{'maxfev':100,'xtol':1e-14}})\n",
    "    yukawa_plasma.run_yukawa_hnc();\n",
    "    return yukawa_plasma"
   ]
  },
  {
   "cell_type": "code",
   "execution_count": 6,
   "id": "3feee028-be65-4e7d-800b-2604ac7616ba",
   "metadata": {
    "tags": []
   },
   "outputs": [],
   "source": [
    "def save_plasma(plasma, Rc):\n",
    "    T_eV = plasma.Ti_eV\n",
    "    Zbar = plasma.qsp.Zbar\n",
    "    ocp = ocp_f( T_eV, Zbar)\n",
    "    yp  = yp_f(T_eV, Zbar )\n",
    "    \n",
    "    # Make header\n",
    "    info_header = (f\"# Zach Johnson Dec/11/2023 CHNC for TCCW Paper\" + '\\n' + \n",
    "                   f\"# Ti={T_eV:0.3e}[eV], Tie={plasma.qsp.Tie_c*AU_to_eV:0.3e}[eV] , Te_c={plasma.qsp.Te_c*AU_to_eV:0.3e}[eV], n_i={plasma.ni_cc:0.3e}[1/cc], n_e={Zbar*plasma.ni_cc:0.3e}[1/cc]\" + '\\n' + \n",
    "                   f\"# ri={ri_AU:0.3f}, Zbar={Zbar:0.3f}, Rc={Rc:0.3f}[AU], Γii={plasma.qsp.Γii:0.3e}, Γei={plasma.qsp.Γei:0.3e} , Γee={plasma.qsp.Γee:0.3e}, κ={plasma.qsp.get_κ():0.3e}\" \n",
    "                  )\n",
    "    column_header = f\"{'r/ri':10}  {'g_ii':10}  {'g_ei':10}  {'g_ee':10}  {'OCP:g_ii':10}  {'Yuk:g_ii':10}  {'βu_ii_eff':10}  {'βu_OCP':10}  {'βu_Yuk':10}\"\n",
    "    header = info_header + '\\n' + column_header\n",
    "    \n",
    "    # Make save array\n",
    "    save_array = np.array([  plasma.hnc.r_array, plasma.hnc.h_r_matrix[0,0]+1, plasma.hnc.h_r_matrix[0,1]+1, plasma.hnc.h_r_matrix[1,1]+1,\n",
    "                           ocp.ocp_hnc.h_r_matrix[0,0]+1, yp.yuk_hnc.h_r_matrix[0,0] + 1, plasma.βueff_r_matrix_with_B[0,0],\n",
    "                           ocp.ocp_hnc.βu_r_matrix[0,0], yp.yuk_hnc.βu_r_matrix[0,0]]).T\n",
    "    \n",
    "    np.savetxt(f\"/home/zach/plasma/hnc/TCCW/Final_TCCW/results/CHNC_H_rs{ri_AU:0.3f}_TeV{plasma.Ti_eV:0.3f}.dat\", save_array, \n",
    "               header=header, fmt='%10.5e', comments='')"
   ]
  },
  {
   "cell_type": "markdown",
   "id": "6507e969-fa00-4875-9bb7-ef9e005264a2",
   "metadata": {},
   "source": [
    "### Now Load Data from George\n",
    "Rc is interpreted as the average bound radius, in AU in the file. Empty-core Ashcroft assumed."
   ]
  },
  {
   "cell_type": "code",
   "execution_count": 7,
   "id": "bacb9b12-75c2-4796-ad97-6a36f3d5519c",
   "metadata": {
    "tags": []
   },
   "outputs": [
    {
     "data": {
      "text/html": [
       "<div>\n",
       "<style scoped>\n",
       "    .dataframe tbody tr th:only-of-type {\n",
       "        vertical-align: middle;\n",
       "    }\n",
       "\n",
       "    .dataframe tbody tr th {\n",
       "        vertical-align: top;\n",
       "    }\n",
       "\n",
       "    .dataframe thead th {\n",
       "        text-align: right;\n",
       "    }\n",
       "</style>\n",
       "<table border=\"1\" class=\"dataframe\">\n",
       "  <thead>\n",
       "    <tr style=\"text-align: right;\">\n",
       "      <th></th>\n",
       "      <th>Te(eV)</th>\n",
       "      <th>rho/rho0</th>\n",
       "      <th>Ne_b</th>\n",
       "      <th>Ne_quasi</th>\n",
       "      <th>Ne_sc</th>\n",
       "      <th>Z_bar</th>\n",
       "      <th>Rc</th>\n",
       "      <th>mu</th>\n",
       "      <th>nu_mom</th>\n",
       "      <th>nu_tot</th>\n",
       "      <th>sigma</th>\n",
       "      <th>k_th</th>\n",
       "      <th>L</th>\n",
       "      <th>G</th>\n",
       "    </tr>\n",
       "  </thead>\n",
       "  <tbody>\n",
       "    <tr>\n",
       "      <th>0</th>\n",
       "      <td>0.1</td>\n",
       "      <td>1.0</td>\n",
       "      <td>0.0</td>\n",
       "      <td>0.0</td>\n",
       "      <td>1.0</td>\n",
       "      <td>1.0</td>\n",
       "      <td>0</td>\n",
       "      <td>0.60830</td>\n",
       "      <td>0.112600</td>\n",
       "      <td>0.44460</td>\n",
       "      <td>0.3495</td>\n",
       "      <td>0.004226</td>\n",
       "      <td>3.290</td>\n",
       "      <td>1.235000e-05</td>\n",
       "    </tr>\n",
       "    <tr>\n",
       "      <th>1</th>\n",
       "      <td>0.2</td>\n",
       "      <td>1.0</td>\n",
       "      <td>0.0</td>\n",
       "      <td>0.0</td>\n",
       "      <td>1.0</td>\n",
       "      <td>1.0</td>\n",
       "      <td>0</td>\n",
       "      <td>0.60960</td>\n",
       "      <td>0.111800</td>\n",
       "      <td>0.44000</td>\n",
       "      <td>0.3526</td>\n",
       "      <td>0.008530</td>\n",
       "      <td>3.291</td>\n",
       "      <td>1.231000e-05</td>\n",
       "    </tr>\n",
       "    <tr>\n",
       "      <th>2</th>\n",
       "      <td>0.5</td>\n",
       "      <td>1.0</td>\n",
       "      <td>0.0</td>\n",
       "      <td>0.0</td>\n",
       "      <td>1.0</td>\n",
       "      <td>1.0</td>\n",
       "      <td>0</td>\n",
       "      <td>0.61320</td>\n",
       "      <td>0.109700</td>\n",
       "      <td>0.42720</td>\n",
       "      <td>0.3618</td>\n",
       "      <td>0.021930</td>\n",
       "      <td>3.298</td>\n",
       "      <td>1.221000e-05</td>\n",
       "    </tr>\n",
       "    <tr>\n",
       "      <th>3</th>\n",
       "      <td>1.0</td>\n",
       "      <td>1.0</td>\n",
       "      <td>0.0</td>\n",
       "      <td>0.0</td>\n",
       "      <td>1.0</td>\n",
       "      <td>1.0</td>\n",
       "      <td>0</td>\n",
       "      <td>0.61840</td>\n",
       "      <td>0.106800</td>\n",
       "      <td>0.40890</td>\n",
       "      <td>0.3765</td>\n",
       "      <td>0.045970</td>\n",
       "      <td>3.323</td>\n",
       "      <td>1.207000e-05</td>\n",
       "    </tr>\n",
       "    <tr>\n",
       "      <th>4</th>\n",
       "      <td>2.0</td>\n",
       "      <td>1.0</td>\n",
       "      <td>0.0</td>\n",
       "      <td>0.0</td>\n",
       "      <td>1.0</td>\n",
       "      <td>1.0</td>\n",
       "      <td>0</td>\n",
       "      <td>0.62610</td>\n",
       "      <td>0.102800</td>\n",
       "      <td>0.38020</td>\n",
       "      <td>0.4044</td>\n",
       "      <td>0.101200</td>\n",
       "      <td>3.404</td>\n",
       "      <td>1.190000e-05</td>\n",
       "    </tr>\n",
       "    <tr>\n",
       "      <th>5</th>\n",
       "      <td>5.0</td>\n",
       "      <td>1.0</td>\n",
       "      <td>0.0</td>\n",
       "      <td>0.0</td>\n",
       "      <td>1.0</td>\n",
       "      <td>1.0</td>\n",
       "      <td>0</td>\n",
       "      <td>0.62760</td>\n",
       "      <td>0.099500</td>\n",
       "      <td>0.32790</td>\n",
       "      <td>0.4783</td>\n",
       "      <td>0.311000</td>\n",
       "      <td>3.539</td>\n",
       "      <td>1.198000e-05</td>\n",
       "    </tr>\n",
       "    <tr>\n",
       "      <th>6</th>\n",
       "      <td>10.0</td>\n",
       "      <td>1.0</td>\n",
       "      <td>0.0</td>\n",
       "      <td>0.0</td>\n",
       "      <td>1.0</td>\n",
       "      <td>1.0</td>\n",
       "      <td>0</td>\n",
       "      <td>0.54060</td>\n",
       "      <td>0.101800</td>\n",
       "      <td>0.28640</td>\n",
       "      <td>0.5767</td>\n",
       "      <td>0.821000</td>\n",
       "      <td>3.874</td>\n",
       "      <td>1.215000e-05</td>\n",
       "    </tr>\n",
       "    <tr>\n",
       "      <th>7</th>\n",
       "      <td>20.0</td>\n",
       "      <td>1.0</td>\n",
       "      <td>0.0</td>\n",
       "      <td>0.0</td>\n",
       "      <td>1.0</td>\n",
       "      <td>1.0</td>\n",
       "      <td>0</td>\n",
       "      <td>0.09214</td>\n",
       "      <td>0.103100</td>\n",
       "      <td>0.24640</td>\n",
       "      <td>0.8232</td>\n",
       "      <td>2.499000</td>\n",
       "      <td>4.130</td>\n",
       "      <td>1.116000e-05</td>\n",
       "    </tr>\n",
       "    <tr>\n",
       "      <th>8</th>\n",
       "      <td>50.0</td>\n",
       "      <td>1.0</td>\n",
       "      <td>0.0</td>\n",
       "      <td>0.0</td>\n",
       "      <td>1.0</td>\n",
       "      <td>1.0</td>\n",
       "      <td>0</td>\n",
       "      <td>-2.42900</td>\n",
       "      <td>0.088140</td>\n",
       "      <td>0.19200</td>\n",
       "      <td>1.9690</td>\n",
       "      <td>13.760000</td>\n",
       "      <td>3.803</td>\n",
       "      <td>7.608000e-06</td>\n",
       "    </tr>\n",
       "    <tr>\n",
       "      <th>9</th>\n",
       "      <td>100.0</td>\n",
       "      <td>1.0</td>\n",
       "      <td>0.0</td>\n",
       "      <td>0.0</td>\n",
       "      <td>1.0</td>\n",
       "      <td>1.0</td>\n",
       "      <td>0</td>\n",
       "      <td>-8.66900</td>\n",
       "      <td>0.063270</td>\n",
       "      <td>0.14550</td>\n",
       "      <td>4.4600</td>\n",
       "      <td>61.560000</td>\n",
       "      <td>3.756</td>\n",
       "      <td>4.457000e-06</td>\n",
       "    </tr>\n",
       "    <tr>\n",
       "      <th>10</th>\n",
       "      <td>200.0</td>\n",
       "      <td>1.0</td>\n",
       "      <td>0.0</td>\n",
       "      <td>0.0</td>\n",
       "      <td>1.0</td>\n",
       "      <td>1.0</td>\n",
       "      <td>0</td>\n",
       "      <td>-24.91000</td>\n",
       "      <td>0.038590</td>\n",
       "      <td>0.10460</td>\n",
       "      <td>10.5900</td>\n",
       "      <td>289.100000</td>\n",
       "      <td>3.713</td>\n",
       "      <td>2.246000e-06</td>\n",
       "    </tr>\n",
       "    <tr>\n",
       "      <th>11</th>\n",
       "      <td>500.0</td>\n",
       "      <td>1.0</td>\n",
       "      <td>0.0</td>\n",
       "      <td>0.0</td>\n",
       "      <td>1.0</td>\n",
       "      <td>1.0</td>\n",
       "      <td>0</td>\n",
       "      <td>-87.34000</td>\n",
       "      <td>0.017010</td>\n",
       "      <td>0.06576</td>\n",
       "      <td>32.4700</td>\n",
       "      <td>1913.000000</td>\n",
       "      <td>3.207</td>\n",
       "      <td>7.975000e-07</td>\n",
       "    </tr>\n",
       "    <tr>\n",
       "      <th>12</th>\n",
       "      <td>1000.0</td>\n",
       "      <td>1.0</td>\n",
       "      <td>0.0</td>\n",
       "      <td>0.0</td>\n",
       "      <td>1.0</td>\n",
       "      <td>1.0</td>\n",
       "      <td>0</td>\n",
       "      <td>-212.90000</td>\n",
       "      <td>0.008435</td>\n",
       "      <td>0.04601</td>\n",
       "      <td>61.3700</td>\n",
       "      <td>4656.000000</td>\n",
       "      <td>2.065</td>\n",
       "      <td>3.585000e-07</td>\n",
       "    </tr>\n",
       "    <tr>\n",
       "      <th>13</th>\n",
       "      <td>2000.0</td>\n",
       "      <td>1.0</td>\n",
       "      <td>0.0</td>\n",
       "      <td>0.0</td>\n",
       "      <td>1.0</td>\n",
       "      <td>1.0</td>\n",
       "      <td>0</td>\n",
       "      <td>-501.50000</td>\n",
       "      <td>0.004255</td>\n",
       "      <td>0.03237</td>\n",
       "      <td>71.6200</td>\n",
       "      <td>6286.000000</td>\n",
       "      <td>1.194</td>\n",
       "      <td>2.500000e-07</td>\n",
       "    </tr>\n",
       "  </tbody>\n",
       "</table>\n",
       "</div>"
      ],
      "text/plain": [
       "    Te(eV)  rho/rho0  Ne_b  Ne_quasi  Ne_sc  Z_bar  Rc         mu    nu_mom  \\\n",
       "0      0.1       1.0   0.0       0.0    1.0    1.0   0    0.60830  0.112600   \n",
       "1      0.2       1.0   0.0       0.0    1.0    1.0   0    0.60960  0.111800   \n",
       "2      0.5       1.0   0.0       0.0    1.0    1.0   0    0.61320  0.109700   \n",
       "3      1.0       1.0   0.0       0.0    1.0    1.0   0    0.61840  0.106800   \n",
       "4      2.0       1.0   0.0       0.0    1.0    1.0   0    0.62610  0.102800   \n",
       "5      5.0       1.0   0.0       0.0    1.0    1.0   0    0.62760  0.099500   \n",
       "6     10.0       1.0   0.0       0.0    1.0    1.0   0    0.54060  0.101800   \n",
       "7     20.0       1.0   0.0       0.0    1.0    1.0   0    0.09214  0.103100   \n",
       "8     50.0       1.0   0.0       0.0    1.0    1.0   0   -2.42900  0.088140   \n",
       "9    100.0       1.0   0.0       0.0    1.0    1.0   0   -8.66900  0.063270   \n",
       "10   200.0       1.0   0.0       0.0    1.0    1.0   0  -24.91000  0.038590   \n",
       "11   500.0       1.0   0.0       0.0    1.0    1.0   0  -87.34000  0.017010   \n",
       "12  1000.0       1.0   0.0       0.0    1.0    1.0   0 -212.90000  0.008435   \n",
       "13  2000.0       1.0   0.0       0.0    1.0    1.0   0 -501.50000  0.004255   \n",
       "\n",
       "     nu_tot    sigma         k_th      L             G  \n",
       "0   0.44460   0.3495     0.004226  3.290  1.235000e-05  \n",
       "1   0.44000   0.3526     0.008530  3.291  1.231000e-05  \n",
       "2   0.42720   0.3618     0.021930  3.298  1.221000e-05  \n",
       "3   0.40890   0.3765     0.045970  3.323  1.207000e-05  \n",
       "4   0.38020   0.4044     0.101200  3.404  1.190000e-05  \n",
       "5   0.32790   0.4783     0.311000  3.539  1.198000e-05  \n",
       "6   0.28640   0.5767     0.821000  3.874  1.215000e-05  \n",
       "7   0.24640   0.8232     2.499000  4.130  1.116000e-05  \n",
       "8   0.19200   1.9690    13.760000  3.803  7.608000e-06  \n",
       "9   0.14550   4.4600    61.560000  3.756  4.457000e-06  \n",
       "10  0.10460  10.5900   289.100000  3.713  2.246000e-06  \n",
       "11  0.06576  32.4700  1913.000000  3.207  7.975000e-07  \n",
       "12  0.04601  61.3700  4656.000000  2.065  3.585000e-07  \n",
       "13  0.03237  71.6200  6286.000000  1.194  2.500000e-07  "
      ]
     },
     "execution_count": 7,
     "metadata": {},
     "output_type": "execute_result"
    }
   ],
   "source": [
    "GP_data   = read_csv(\"/home/zach/plasma/hnc/TCCW/Final_TCCW/GP_data/H_combined.dat\", header=0, delim_whitespace=True)\n",
    "T_eV_list = GP_data['Te(eV)']\n",
    "Rc_list   = GP_data['Rc'] # AU\n",
    "Zbar_list = GP_data['Z_bar'] #Average atom Zbar GP_data\n",
    "GP_data"
   ]
  },
  {
   "cell_type": "code",
   "execution_count": 8,
   "id": "4823e523-960e-437e-b215-d1806614ed1a",
   "metadata": {
    "tags": []
   },
   "outputs": [
    {
     "name": "stdout",
     "output_type": "stream",
     "text": [
      "Te_in_eV: 0.100\n",
      "Ti_in_eV: 0.100\n",
      "Te_in_eV: 0.200\n",
      "Ti_in_eV: 0.200\n",
      "Te_in_eV: 0.500\n",
      "Ti_in_eV: 0.500\n",
      "Te_in_eV: 1.000\n",
      "Ti_in_eV: 1.000\n",
      "Te_in_eV: 2.000\n",
      "Ti_in_eV: 2.000\n",
      "Te_in_eV: 5.000\n",
      "Ti_in_eV: 5.000\n",
      "Te_in_eV: 10.000\n",
      "Ti_in_eV: 10.000\n",
      "Te_in_eV: 20.000\n",
      "Ti_in_eV: 20.000\n",
      "Te_in_eV: 50.000\n",
      "Ti_in_eV: 50.000\n",
      "Te_in_eV: 100.000\n",
      "Ti_in_eV: 100.000\n",
      "Te_in_eV: 200.000\n",
      "Ti_in_eV: 200.000\n",
      "Te_in_eV: 500.000\n",
      "Ti_in_eV: 500.000\n",
      "Te_in_eV: 1000.000\n",
      "Ti_in_eV: 1000.000\n",
      "Te_in_eV: 2000.000\n",
      "Ti_in_eV: 2000.000\n"
     ]
    }
   ],
   "source": [
    "plasma_list = []\n",
    "\n",
    "for T_eV, Rc, Zbar in zip(T_eV_list, Rc_list, Zbar_list):\n",
    "    plasma = plasma_f(T_eV, Rc/ri_AU, Zbar )\n",
    "    # plasma = plasma_f(T_eV, Rc/ri_AU, None )# TF\n",
    "    plasma_list.append(plasma)"
   ]
  },
  {
   "cell_type": "code",
   "execution_count": 9,
   "id": "d371d3e3-bf1c-4a55-b636-45381014d495",
   "metadata": {
    "scrolled": true,
    "tags": []
   },
   "outputs": [
    {
     "name": "stdout",
     "output_type": "stream",
     "text": [
      "0: Initial condition Total Error: 1.960e-02\n"
     ]
    },
    {
     "ename": "KeyboardInterrupt",
     "evalue": "",
     "output_type": "error",
     "traceback": [
      "\u001b[0;31m---------------------------------------------------------------------------\u001b[0m",
      "\u001b[0;31mKeyboardInterrupt\u001b[0m                         Traceback (most recent call last)",
      "Cell \u001b[0;32mIn[9], line 4\u001b[0m\n\u001b[1;32m      1\u001b[0m guess_c_s_k_matrix \u001b[38;5;241m=\u001b[39m \u001b[38;5;28;01mNone\u001b[39;00m\n\u001b[1;32m      2\u001b[0m \u001b[38;5;28;01mfor\u001b[39;00m Rc, plasma \u001b[38;5;129;01min\u001b[39;00m \u001b[38;5;28mzip\u001b[39m(Rc_list[\u001b[38;5;241m-\u001b[39m\u001b[38;5;241m1\u001b[39m::], plasma_list[\u001b[38;5;241m-\u001b[39m\u001b[38;5;241m1\u001b[39m::]): \n\u001b[1;32m      3\u001b[0m     \u001b[38;5;66;03m# if T_eV == 2.0:\u001b[39;00m\n\u001b[0;32m----> 4\u001b[0m     \u001b[43mplasma\u001b[49m\u001b[38;5;241;43m.\u001b[39;49m\u001b[43mrun_hnc\u001b[49m\u001b[43m(\u001b[49m\u001b[43mc_s_k_guess\u001b[49m\u001b[43m \u001b[49m\u001b[38;5;241;43m=\u001b[39;49m\u001b[43m \u001b[49m\u001b[43mguess_c_s_k_matrix\u001b[49m\u001b[43m)\u001b[49m\n\u001b[1;32m      5\u001b[0m     \u001b[38;5;28;01mif\u001b[39;00m plasma\u001b[38;5;241m.\u001b[39mhnc\u001b[38;5;241m.\u001b[39mtot_err_list[\u001b[38;5;241m-\u001b[39m\u001b[38;5;241m1\u001b[39m] \u001b[38;5;241m>\u001b[39m \u001b[38;5;241m1e-7\u001b[39m:\n\u001b[1;32m      6\u001b[0m         best_shift(plasma)\n",
      "File \u001b[0;32m~/plasma/hnc/hnc/PIE.py:259\u001b[0m, in \u001b[0;36mPlasma_of_Ions_and_Electrons.run_hnc\u001b[0;34m(self, hnc, qsp, c_s_k_guess, newton)\u001b[0m\n\u001b[1;32m    256\u001b[0m \u001b[38;5;28;01melse\u001b[39;00m:\n\u001b[1;32m    257\u001b[0m \thnc\u001b[38;5;241m.\u001b[39mc_s_k_matrix \u001b[38;5;241m*\u001b[39m\u001b[38;5;241m=\u001b[39m \u001b[38;5;241m0\u001b[39m \n\u001b[0;32m--> 259\u001b[0m converged \u001b[38;5;241m=\u001b[39m \u001b[43mhnc\u001b[49m\u001b[38;5;241;43m.\u001b[39;49m\u001b[43mHNC_solve\u001b[49m\u001b[43m(\u001b[49m\u001b[38;5;241;43m*\u001b[39;49m\u001b[38;5;241;43m*\u001b[39;49m\u001b[38;5;28;43mself\u001b[39;49m\u001b[38;5;241;43m.\u001b[39;49m\u001b[43mhnc_solve_options\u001b[49m\u001b[43m)\u001b[49m\n\u001b[1;32m    261\u001b[0m hnc\u001b[38;5;241m.\u001b[39minvert_HNC_OZ([\u001b[38;5;241m1\u001b[39m])\n\u001b[1;32m    263\u001b[0m \u001b[38;5;28;01mif\u001b[39;00m newton\u001b[38;5;241m==\u001b[39m\u001b[38;5;28;01mFalse\u001b[39;00m:\n",
      "File \u001b[0;32m~/plasma/hnc/hnc/hnc.py:634\u001b[0m, in \u001b[0;36mIntegral_Equation_Solver.HNC_solve\u001b[0;34m(self, num_iterations, tol, iters_to_wait, iters_to_use, alpha_Ng, alpha_Picard, alpha_oz, iters_to_check, verbose, min_iters)\u001b[0m\n\u001b[1;32m    631\u001b[0m \u001b[38;5;28mself\u001b[39m\u001b[38;5;241m.\u001b[39mu_ex_list\u001b[38;5;241m.\u001b[39mappend(u_ex)\n\u001b[1;32m    633\u001b[0m hnc_err \u001b[38;5;241m=\u001b[39m np\u001b[38;5;241m.\u001b[39mlinalg\u001b[38;5;241m.\u001b[39mnorm(\u001b[38;5;241m-\u001b[39m \u001b[38;5;241m1\u001b[39m \u001b[38;5;241m-\u001b[39m \u001b[38;5;28mself\u001b[39m\u001b[38;5;241m.\u001b[39mh_r_matrix   \u001b[38;5;241m+\u001b[39m np\u001b[38;5;241m.\u001b[39mexp( \u001b[38;5;241m-\u001b[39m\u001b[38;5;28mself\u001b[39m\u001b[38;5;241m.\u001b[39mβu_r_matrix \u001b[38;5;241m+\u001b[39m \u001b[38;5;28mself\u001b[39m\u001b[38;5;241m.\u001b[39mh_r_matrix \u001b[38;5;241m-\u001b[39m \u001b[38;5;28mself\u001b[39m\u001b[38;5;241m.\u001b[39mc_r_matrix ))\u001b[38;5;241m/\u001b[39mnp\u001b[38;5;241m.\u001b[39msqrt(\u001b[38;5;28mself\u001b[39m\u001b[38;5;241m.\u001b[39mN_bins\u001b[38;5;241m*\u001b[39m\u001b[38;5;28mself\u001b[39m\u001b[38;5;241m.\u001b[39mN_species\u001b[38;5;241m*\u001b[39m\u001b[38;5;241m*\u001b[39m\u001b[38;5;241m2\u001b[39m)\n\u001b[0;32m--> 634\u001b[0m actual_tot_err \u001b[38;5;241m=\u001b[39m \u001b[38;5;28;43mself\u001b[39;49m\u001b[38;5;241;43m.\u001b[39;49m\u001b[43mtotal_err\u001b[49m\u001b[43m(\u001b[49m\u001b[38;5;28;43mself\u001b[39;49m\u001b[38;5;241;43m.\u001b[39;49m\u001b[43mc_s_k_matrix\u001b[49m\u001b[43m)\u001b[49m\n\u001b[1;32m    635\u001b[0m \u001b[38;5;28mself\u001b[39m\u001b[38;5;241m.\u001b[39mtot_err_list\u001b[38;5;241m.\u001b[39mappend(actual_tot_err)\n\u001b[1;32m    636\u001b[0m \u001b[38;5;28mself\u001b[39m\u001b[38;5;241m.\u001b[39mhnc_err_list\u001b[38;5;241m.\u001b[39mappend(hnc_err)\n",
      "File \u001b[0;32m~/plasma/hnc/hnc/hnc.py:413\u001b[0m, in \u001b[0;36mIntegral_Equation_Solver.total_err\u001b[0;34m(self, c_s_k_matrix)\u001b[0m\n\u001b[1;32m    410\u001b[0m c_k_matrix \u001b[38;5;241m=\u001b[39m c_s_k_matrix \u001b[38;5;241m-\u001b[39m \u001b[38;5;28mself\u001b[39m\u001b[38;5;241m.\u001b[39mβu_l_k_matrix\n\u001b[1;32m    412\u001b[0m \u001b[38;5;66;03m# C_matrix = self.rho[np.newaxis,:,np.newaxis] * c_k_matrix\u001b[39;00m\n\u001b[0;32m--> 413\u001b[0m γs_k_matrix \u001b[38;5;241m=\u001b[39m \u001b[38;5;28;43mself\u001b[39;49m\u001b[38;5;241;43m.\u001b[39;49m\u001b[43mget_γs_k_matrix\u001b[49m\u001b[43m(\u001b[49m\u001b[43mc_s_k_matrix\u001b[49m\u001b[43m)\u001b[49m\n\u001b[1;32m    414\u001b[0m h_k_matrix \u001b[38;5;241m=\u001b[39m c_s_k_matrix  \u001b[38;5;241m+\u001b[39m γs_k_matrix\n\u001b[1;32m    415\u001b[0m h_r_matrix \u001b[38;5;241m=\u001b[39m \u001b[38;5;28mself\u001b[39m\u001b[38;5;241m.\u001b[39mFT_k_2_r_matrix(h_k_matrix)\n",
      "File \u001b[0;32m~/plasma/hnc/hnc/hnc.py:242\u001b[0m, in \u001b[0;36mIntegral_Equation_Solver.get_γs_k_matrix\u001b[0;34m(self, c_s_k_matrix)\u001b[0m\n\u001b[1;32m    240\u001b[0m     γs_k_matrix \u001b[38;5;241m=\u001b[39m \u001b[38;5;28mself\u001b[39m\u001b[38;5;241m.\u001b[39mget_γs_k_matrix_standard(c_s_k_matrix)\n\u001b[1;32m    241\u001b[0m \u001b[38;5;28;01melif\u001b[39;00m \u001b[38;5;28mself\u001b[39m\u001b[38;5;241m.\u001b[39moz_method \u001b[38;5;129;01min\u001b[39;00m [\u001b[38;5;124m'\u001b[39m\u001b[38;5;124msvt\u001b[39m\u001b[38;5;124m'\u001b[39m,\u001b[38;5;124m'\u001b[39m\u001b[38;5;124mSVT\u001b[39m\u001b[38;5;124m'\u001b[39m]:\n\u001b[0;32m--> 242\u001b[0m     γs_k_matrix \u001b[38;5;241m=\u001b[39m \u001b[38;5;28;43mself\u001b[39;49m\u001b[38;5;241;43m.\u001b[39;49m\u001b[43mget_γs_k_matrix_SVT\u001b[49m\u001b[43m(\u001b[49m\u001b[43mc_s_k_matrix\u001b[49m\u001b[43m)\u001b[49m\n\u001b[1;32m    243\u001b[0m \u001b[38;5;28;01mreturn\u001b[39;00m γs_k_matrix\n",
      "File \u001b[0;32m~/plasma/hnc/hnc/hnc.py:278\u001b[0m, in \u001b[0;36mIntegral_Equation_Solver.get_γs_k_matrix_SVT\u001b[0;34m(self, c_s_k_matrix)\u001b[0m\n\u001b[1;32m    276\u001b[0m γs_k_matrix \u001b[38;5;241m=\u001b[39m np\u001b[38;5;241m.\u001b[39mzeros_like(\u001b[38;5;28mself\u001b[39m\u001b[38;5;241m.\u001b[39mγs_k_matrix)\n\u001b[1;32m    277\u001b[0m \u001b[38;5;28;01mfor\u001b[39;00m k \u001b[38;5;129;01min\u001b[39;00m \u001b[38;5;28mrange\u001b[39m(\u001b[38;5;28mself\u001b[39m\u001b[38;5;241m.\u001b[39mN_bins):\n\u001b[0;32m--> 278\u001b[0m     γs_k_matrix[:,:,k]   \u001b[38;5;241m=\u001b[39m \u001b[43msolve_sylvester\u001b[49m\u001b[43m(\u001b[49m\u001b[43mA\u001b[49m\u001b[43m[\u001b[49m\u001b[43m:\u001b[49m\u001b[43m,\u001b[49m\u001b[43m:\u001b[49m\u001b[43m,\u001b[49m\u001b[43mk\u001b[49m\u001b[43m]\u001b[49m\u001b[43m,\u001b[49m\u001b[43m \u001b[49m\u001b[43mB\u001b[49m\u001b[43m[\u001b[49m\u001b[43m:\u001b[49m\u001b[43m,\u001b[49m\u001b[43m:\u001b[49m\u001b[43m,\u001b[49m\u001b[43mk\u001b[49m\u001b[43m]\u001b[49m\u001b[43m,\u001b[49m\u001b[43m \u001b[49m\u001b[43mC\u001b[49m\u001b[43m[\u001b[49m\u001b[43m:\u001b[49m\u001b[43m,\u001b[49m\u001b[43m:\u001b[49m\u001b[43m,\u001b[49m\u001b[43mk\u001b[49m\u001b[43m]\u001b[49m\u001b[43m)\u001b[49m\n\u001b[1;32m    279\u001b[0m     \u001b[38;5;66;03m# γs_k_matrix[:,:,k] = solve_continuous_lyapunov(A[:,:,k], C[:,:,k])\u001b[39;00m\n\u001b[1;32m    280\u001b[0m \u001b[38;5;28;01mreturn\u001b[39;00m γs_k_matrix\n",
      "File \u001b[0;32m~/anaconda3/envs/zplasma/lib/python3.10/site-packages/scipy/linalg/_solvers.py:85\u001b[0m, in \u001b[0;36msolve_sylvester\u001b[0;34m(a, b, q)\u001b[0m\n\u001b[1;32m     31\u001b[0m \u001b[38;5;250m\u001b[39m\u001b[38;5;124;03m\"\"\"\u001b[39;00m\n\u001b[1;32m     32\u001b[0m \u001b[38;5;124;03mComputes a solution (X) to the Sylvester equation :math:`AX + XB = Q`.\u001b[39;00m\n\u001b[1;32m     33\u001b[0m \n\u001b[0;32m   (...)\u001b[0m\n\u001b[1;32m     81\u001b[0m \n\u001b[1;32m     82\u001b[0m \u001b[38;5;124;03m\"\"\"\u001b[39;00m\n\u001b[1;32m     84\u001b[0m \u001b[38;5;66;03m# Compute the Schur decomposition form of a\u001b[39;00m\n\u001b[0;32m---> 85\u001b[0m r, u \u001b[38;5;241m=\u001b[39m \u001b[43mschur\u001b[49m\u001b[43m(\u001b[49m\u001b[43ma\u001b[49m\u001b[43m,\u001b[49m\u001b[43m \u001b[49m\u001b[43moutput\u001b[49m\u001b[38;5;241;43m=\u001b[39;49m\u001b[38;5;124;43m'\u001b[39;49m\u001b[38;5;124;43mreal\u001b[39;49m\u001b[38;5;124;43m'\u001b[39;49m\u001b[43m)\u001b[49m\n\u001b[1;32m     87\u001b[0m \u001b[38;5;66;03m# Compute the Schur decomposition of b\u001b[39;00m\n\u001b[1;32m     88\u001b[0m s, v \u001b[38;5;241m=\u001b[39m schur(b\u001b[38;5;241m.\u001b[39mconj()\u001b[38;5;241m.\u001b[39mtranspose(), output\u001b[38;5;241m=\u001b[39m\u001b[38;5;124m'\u001b[39m\u001b[38;5;124mreal\u001b[39m\u001b[38;5;124m'\u001b[39m)\n",
      "File \u001b[0;32m~/anaconda3/envs/zplasma/lib/python3.10/site-packages/scipy/linalg/_decomp_schur.py:123\u001b[0m, in \u001b[0;36mschur\u001b[0;34m(a, output, lwork, overwrite_a, sort, check_finite)\u001b[0m\n\u001b[1;32m    121\u001b[0m \u001b[38;5;28;01melse\u001b[39;00m:\n\u001b[1;32m    122\u001b[0m     a1 \u001b[38;5;241m=\u001b[39m asarray(a)\n\u001b[0;32m--> 123\u001b[0m \u001b[38;5;28;01mif\u001b[39;00m \u001b[38;5;28;43mlen\u001b[39;49m\u001b[43m(\u001b[49m\u001b[43ma1\u001b[49m\u001b[38;5;241;43m.\u001b[39;49m\u001b[43mshape\u001b[49m\u001b[43m)\u001b[49m \u001b[38;5;241m!=\u001b[39m \u001b[38;5;241m2\u001b[39m \u001b[38;5;129;01mor\u001b[39;00m (a1\u001b[38;5;241m.\u001b[39mshape[\u001b[38;5;241m0\u001b[39m] \u001b[38;5;241m!=\u001b[39m a1\u001b[38;5;241m.\u001b[39mshape[\u001b[38;5;241m1\u001b[39m]):\n\u001b[1;32m    124\u001b[0m     \u001b[38;5;28;01mraise\u001b[39;00m \u001b[38;5;167;01mValueError\u001b[39;00m(\u001b[38;5;124m'\u001b[39m\u001b[38;5;124mexpected square matrix\u001b[39m\u001b[38;5;124m'\u001b[39m)\n\u001b[1;32m    125\u001b[0m typ \u001b[38;5;241m=\u001b[39m a1\u001b[38;5;241m.\u001b[39mdtype\u001b[38;5;241m.\u001b[39mchar\n",
      "\u001b[0;31mKeyboardInterrupt\u001b[0m: "
     ]
    }
   ],
   "source": [
    "guess_c_s_k_matrix = None\n",
    "for Rc, plasma in zip(Rc_list[-1::], plasma_list[-1::]): \n",
    "    # if T_eV == 2.0:\n",
    "    plasma.run_hnc(c_s_k_guess = guess_c_s_k_matrix)\n",
    "    if plasma.hnc.tot_err_list[-1] > 1e-7:\n",
    "        best_shift(plasma)\n",
    "        solve_least_squares(plasma, np.linspace(plasma.hnc.k_array[0], plasma.hnc.k_array[-1], num=200))\n",
    "        solve_least_squares(plasma, np.linspace(plasma.hnc.k_array[0], plasma.hnc.k_array[-1], num=400))\n",
    "        save_plasma(plasma, Rc)\n",
    "    else:\n",
    "        save_plasma(plasma, Rc)\n",
    "    # guess_c_s_k_matrix = plasma.hnc.c_s_k_matrix.copy()"
   ]
  },
  {
   "cell_type": "markdown",
   "id": "d4694fbb-951d-4685-8d4e-4d4ccc1b8cf4",
   "metadata": {},
   "source": [
    "### Plot and Comparison to QMD"
   ]
  },
  {
   "cell_type": "code",
   "execution_count": null,
   "id": "0352950e-8a41-4b2f-8430-f33aeeee8ddc",
   "metadata": {
    "tags": []
   },
   "outputs": [],
   "source": [
    "\n",
    "# for plasma, Rc in zip(plasma_list[4:5], Rc_list[4:5]):    \n",
    "#     save_plasma(plasma, Rc)"
   ]
  },
  {
   "cell_type": "markdown",
   "id": "67b7ecdc-b914-4619-b9c4-993ca0edb643",
   "metadata": {
    "jp-MarkdownHeadingCollapsed": true,
    "tags": []
   },
   "source": [
    "## Paper Plots"
   ]
  },
  {
   "cell_type": "code",
   "execution_count": null,
   "id": "af82bdb6-4cf4-4d04-8851-d69dcda773e0",
   "metadata": {
    "tags": []
   },
   "outputs": [],
   "source": [
    "H1_GP = read_csv(\"GP_data/GP_H1_profile.dat\", delim_whitespace=True, header=0)\n",
    "H1_GP"
   ]
  },
  {
   "cell_type": "code",
   "execution_count": null,
   "id": "0215f768-a532-4ab2-9b5e-652771cadcf2",
   "metadata": {
    "tags": []
   },
   "outputs": [],
   "source": [
    "H1_CHNC = read_csv(\"results/CHNC_H_rs1.391_TeV2.000.dat\", delim_whitespace=True, header=3)\n",
    "H1_ri = 1.391\n",
    "H1_Zbar = 1\n",
    "H1_ne0 = H1_Zbar/(4/3*np.pi*H1_ri**3)\n",
    "H1_CHNC"
   ]
  },
  {
   "cell_type": "code",
   "execution_count": null,
   "id": "5f43b15a-f12f-457a-bf73-082c43ea9cbd",
   "metadata": {
    "tags": []
   },
   "outputs": [],
   "source": [
    "def g_ei_plot(ax):\n",
    "    ax.plot(H1_GP['x'], (H1_GP['ne_s']/H1_ne0-1)*4*π*(H1_GP['r'])**2,'k--', label=\"AA-NRL Free\"  )\n",
    "    ax.plot(H1_CHNC['r/ri'],(H1_CHNC['g_ei']-1)*4*π*(H1_CHNC['r/ri']*H1_ri)**2, linestyle=':', color=colors[1], label=\"PM-HNC Free\"  )\n",
    "\n",
    "    ax.set_xlim(0,1)\n",
    "    ax.set_ylim(-5,5)\n",
    "    ax.set_ylabel(r\"$4\\pi r^2 h_{ei}$\")\n",
    "    ax.set_xlabel(r\"$r/a_i$\")\n",
    "    ax.legend()\n",
    "\n",
    "fig, ax  = plt.subplots()\n",
    "g_ei_plot(ax)"
   ]
  },
  {
   "cell_type": "code",
   "execution_count": null,
   "id": "91c201b3-7eaa-474f-bc3a-5c43715baf31",
   "metadata": {
    "tags": []
   },
   "outputs": [],
   "source": [
    "def βu_ii_eff_plot(ax):\n",
    "\n",
    "    ax.plot(H1_CHNC['r/ri'],H1_CHNC['βu_ii_eff'], label=\"PM-HNC\"  )\n",
    "    ax.plot(H1_CHNC['r/ri'],H1_CHNC['βu_OCP'],linestyle=(0,(5,1,1,1,1,1)),color=colors[3], label=\"Coulomb\"  )\n",
    "    ax.plot(H1_CHNC['r/ri'],H1_CHNC['βu_Yuk'],'-.', label=\"Yukawa\"  ,color=colors[4])\n",
    "\n",
    "\n",
    "    ax.set_xlim(0,4)\n",
    "    \n",
    "    ax.set_yscale('symlog', linthresh=1)\n",
    "    ax.set_ylabel(r\"$\\beta u_{ii}$\")\n",
    "    ax.set_xlabel(r\"$r/a_i$\")\n",
    "    ax.legend()\n",
    "    \n",
    "    \n",
    "    custom_minor_ticks = list(np.linspace(-1,1,num=21)) + list(np.concatenate([list(np.linspace(1*10**n,10*10**n,num=10)) for n in range(2)]))\n",
    "    ax.set_yticks(custom_minor_ticks, minor=True)\n",
    "    ax.set_ylim(-0.1,1e3)\n",
    "    \n",
    "fig, ax  = plt.subplots()\n",
    "βu_ii_eff_plot(ax)"
   ]
  },
  {
   "cell_type": "code",
   "execution_count": null,
   "id": "6ac3e190-f546-4d47-af1c-d21f9184264a",
   "metadata": {
    "tags": []
   },
   "outputs": [],
   "source": [
    "plasma = plasma_list[4]\n",
    "def βu_ii_plot(ax):\n",
    "    ax.plot(H1_CHNC['r/ri'], plasma.qsp.Ti*plasma.hnc.βu_r_matrix[0,0], label=r\"$u_{ii}$\"  )\n",
    "    ax.plot(H1_CHNC['r/ri'],-plasma.qsp.Tie_c*plasma.hnc.βu_r_matrix[0,1],':', label=r\"$-u_{ie}$\"  )\n",
    "    ax.plot(H1_CHNC['r/ri'], plasma.qsp.Te_c*plasma.hnc.βu_r_matrix[1,1],'--', label=r\"$u_{ee}$\"  )\n",
    "\n",
    "    ax.set_xlim(0,1)\n",
    "    ax.set_ylim(3e-1,1e2)\n",
    "    ax.set_yscale('log')\n",
    "    ax.set_ylabel(r\"$u_{ij}/(Q_i Q_j)$ [au]\")\n",
    "    ax.set_xlabel(r\"$r/a_i$\")\n",
    "    ax.legend()\n",
    "    \n",
    "fig, ax  = plt.subplots()\n",
    "βu_ii_plot(ax)"
   ]
  },
  {
   "cell_type": "code",
   "execution_count": null,
   "id": "b5fb1f83-691f-49b7-8178-d163ca40bf90",
   "metadata": {
    "tags": []
   },
   "outputs": [],
   "source": [
    "from scipy.interpolate import CubicSpline, PchipInterpolator\n",
    "\n",
    "def g_ii_plot(ax):\n",
    "    ax.plot(H1_CHNC['r/ri'],H1_CHNC['g_ii'], label=\"PM-HNC\"  )\n",
    "    ax.plot(H1_CHNC['r/ri'],H1_CHNC['OCP:g_ii'],':', label=\"OCP\"  )\n",
    "    ax.plot(H1_CHNC['r/ri'],H1_CHNC['Yuk:g_ii'],'--', label=\"Yukawa\"  )\n",
    "\n",
    "    # Data from community TCCW\n",
    "    upper_data = read_csv(\"Fig5a_Upper.txt\", delim_whitespace=True, header=1)\n",
    "    lower_data = read_csv(\"Fig5a_Lower.txt\", delim_whitespace=True, header=1)\n",
    "    \n",
    "    ax.fill_between(lower_data['r/ri'],lower_data['gii'], PchipInterpolator(upper_data['r/ri'], upper_data['gii'])(lower_data['r/ri']), alpha=0.5, color='k', label='Workshop DFT Spread')\n",
    "    \n",
    "    ax.set_xlim(0,4)\n",
    "    ax.set_ylim(0,1.2)\n",
    "    # ax.set_yscale('symlog', linthresh=0.1)\n",
    "    ax.set_ylabel(r\"$g_{ii}$\")\n",
    "    ax.set_xlabel(r\"$r/a_i$\")\n",
    "    ax.legend()\n",
    "\n",
    "# fig, ax  = plt.subplots( figsize=(8, 4.9443))\n",
    "# g_ii_plot(ax)\n",
    "\n",
    "def g_ij_plot(ax):\n",
    "    ax.plot(H1_CHNC['r/ri'],H1_CHNC['g_ii'], label=\"PM-HNC ii\"  )\n",
    "    ax.plot(H1_CHNC['r/ri'],H1_CHNC['g_ei'],':', label=\"PM-HNC ei\"  )\n",
    "    ax.plot(H1_CHNC['r/ri'],H1_CHNC['g_ee'],'--', label=\"PM-HNC ee\"  )\n",
    "    \n",
    "    ax.plot(H1_CHNC['r/ri'],H1_CHNC['OCP:g_ii'],linestyle=(0,(5,1,1,1,1,1)), label=\"Coulomb HNC ii\" )\n",
    "    ax.plot(H1_CHNC['r/ri'],H1_CHNC['Yuk:g_ii'],'-.', label=\"Yukawa HNC ii\")\n",
    "    \n",
    "    ax.plot(H1_GP['x'], (H1_GP['ne_s']/H1_ne0), 'k--', label=\"AA-NRL ei \"  )\n",
    "\n",
    "    # Data from community TCCW\n",
    "    upper_data = read_csv(\"Fig5a_Upper.txt\", delim_whitespace=True, header=1)\n",
    "    lower_data = read_csv(\"Fig5a_Lower.txt\", delim_whitespace=True, header=1)\n",
    "    \n",
    "    ax.fill_between(lower_data['r/ri'],lower_data['gii'], PchipInterpolator(upper_data['r/ri'], upper_data['gii'])(lower_data['r/ri']), alpha=0.5, color='k', label='Workshop DFT Spread')\n",
    "    ax.set_xlim(0,4)\n",
    "    ax.set_ylim(0,1.5)\n",
    "    # ax.set_yscale('symlog', linthresh=0.1)\n",
    "    ax.set_ylabel(r\"$g_{ij}$\")\n",
    "    ax.set_xlabel(r\"$r/a_i$\")\n",
    "    ax.legend(loc='lower right',fontsize=12)\n",
    "\n",
    "fig, ax  = plt.subplots( figsize=(8, 4.9443))\n",
    "g_ij_plot(ax)"
   ]
  },
  {
   "cell_type": "code",
   "execution_count": null,
   "id": "c37f8a01-798a-4884-988e-92fef2ef238a",
   "metadata": {
    "tags": []
   },
   "outputs": [],
   "source": [
    "fig, axs = plt.subplots(2,2, figsize=(12, 9))\n",
    "βu_ii_plot(axs[0,0])\n",
    "βu_ii_eff_plot(axs[0,1])\n",
    "\n",
    "g_ei_plot(axs[1,0])\n",
    "g_ij_plot(axs[1,1])\n",
    "axs[0,1].axhline(y=1,color='k',linewidth=0.4)\n",
    "axs[0,1].fill_between(np.linspace(0,10),-1,1,color='k',alpha=0.05)\n",
    "axs[0,1].text(0.03, 1.10, \"log-scale\",fontsize=14)\n",
    "axs[0,1].text(0.03, 0.8, \"linear-scale\",fontsize=14)\n",
    "# Subfigure Labels\n",
    "axs[0,0].text(0.05, 0.95, \"a)\", transform=axs[0,0].transAxes, fontsize=18)\n",
    "axs[0,1].text(0.05, 0.95, \"b)\", transform=axs[0,1].transAxes, fontsize=18)\n",
    "axs[1,0].text(0.05, 0.95, \"c)\", transform=axs[1,0].transAxes, fontsize=18)\n",
    "axs[1,1].text(0.05, 0.95, \"d)\", transform=axs[1,1].transAxes, fontsize=18)\n",
    "\n",
    "plt.tight_layout()\n",
    "plt.savefig(\"H1_gβu_plot.png\", dpi=400)\n"
   ]
  },
  {
   "cell_type": "markdown",
   "id": "50966b31-3a79-410d-858d-9037723b8844",
   "metadata": {
    "tags": []
   },
   "source": [
    "## Specific Heat"
   ]
  },
  {
   "cell_type": "code",
   "execution_count": 10,
   "id": "8ffc1842-aadf-4d48-8c7a-20f593ea8c49",
   "metadata": {
    "tags": []
   },
   "outputs": [
    {
     "name": "stdout",
     "output_type": "stream",
     "text": [
      "0: Initial condition Total Error: 1.960e-02\n",
      "Exiting status 0, reverting to best index so far: 138\n",
      "Final iter:139, Total Error: 9.513e-09\n"
     ]
    }
   ],
   "source": [
    "plasma_list[-1].run_hnc()"
   ]
  },
  {
   "cell_type": "code",
   "execution_count": null,
   "id": "de1ab369-d543-4939-80d8-24738b5c2e95",
   "metadata": {
    "tags": []
   },
   "outputs": [],
   "source": [
    "plasma_list[-1].get_effective_ion_cp()"
   ]
  },
  {
   "cell_type": "code",
   "execution_count": 11,
   "id": "e52d8167-53c8-402a-a1cc-cd3a41628598",
   "metadata": {
    "tags": []
   },
   "outputs": [
    {
     "name": "stdout",
     "output_type": "stream",
     "text": [
      "0: Initial condition Total Error: 2.999e-02\n",
      "Exiting status 0, reverting to best index so far: 142\n",
      "Final iter:143, Total Error: 9.538e-09\n",
      "0: Initial condition Total Error: 2.999e-02\n",
      "Exiting status 0, reverting to best index so far: 142\n",
      "Final iter:143, Total Error: 9.538e-09\n",
      "0: Initial condition Total Error: 2.999e-02\n",
      "Exiting status 0, reverting to best index so far: 142\n",
      "Final iter:143, Total Error: 9.538e-09\n",
      "0: Initial condition Total Error: 2.999e-02\n",
      "Exiting status 0, reverting to best index so far: 142\n",
      "Final iter:143, Total Error: 9.538e-09\n"
     ]
    },
    {
     "ename": "QhullError",
     "evalue": "QH6154 Qhull precision error: Initial simplex is flat (facet 1 is coplanar with the interior point)\n\nWhile executing:  | qhull d Qc Q12 Qbb Qz Qt\nOptions selected for Qhull 2019.1.r 2019/06/21:\n  run-id 2051034054  delaunay  Qcoplanar-keep  Q12-allow-wide  Qbbound-last\n  Qz-infinity-point  Qtriangulate  _pre-merge  _zero-centrum  Qinterior-keep\n  Pgood  _max-width 4.8e-13  Error-roundoff 1e-13  _one-merge 7.1e-13\n  Visible-distance 2e-13  U-max-coplanar 2e-13  Width-outside 4.1e-13\n  _wide-facet 1.2e-12  _maxoutside 8.2e-13\n\nprecision problems (corrected unless 'Q0' or an error)\n      2 degenerate hyperplanes recomputed with gaussian elimination\n      2 nearly singular or axis-parallel hyperplanes\n      2 zero divisors during back substitute\n      2 zero divisors during gaussian elimination\n\nThe input to qhull appears to be less than 3 dimensional, or a\ncomputation has overflowed.\n\nQhull could not construct a clearly convex simplex from points:\n- p2(v4):    73   6.6 6.8e-13\n- p4(v3):    73   6.6    73\n- p1(v2):    73   6.6     0\n- p0(v1):    73   6.6 6.8e-13\n\nThe center point is coplanar with a facet, or a vertex is coplanar\nwith a neighboring facet.  The maximum round off error for\ncomputing distances is 1e-13.  The center point, facets and distances\nto the center point are as follows:\n\ncenter point     73.5    6.605    18.37\n\nfacet p4 p1 p0 distance= -9.8e-15\nfacet p2 p1 p0 distance= -1.1e-14\nfacet p2 p4 p0 distance= -4.4e-16\nfacet p2 p4 p1 distance= 9.8e-15\n\nThese points either have a maximum or minimum x-coordinate, or\nthey maximize the determinant for k coordinates.  Trial points\nare first selected from points that maximize a coordinate.\n\nThe min and max coordinates for each dimension are:\n  0:      73.5      73.5  difference= 1.421e-14\n  1:     6.605     6.605  difference= 4.752e-13\n  2:         0      73.5  difference= 73.5\n\nIf the input should be full dimensional, you have several options that\nmay determine an initial simplex:\n  - use 'QJ'  to joggle the input and make it full dimensional\n  - use 'QbB' to scale the points to the unit cube\n  - use 'QR0' to randomly rotate the input for different maximum points\n  - use 'Qs'  to search all points for the initial simplex\n  - use 'En'  to specify a maximum roundoff error less than 1e-13.\n  - trace execution with 'T3' to see the determinant for each point.\n\nIf the input is lower dimensional:\n  - use 'QJ' to joggle the input and make it full dimensional\n  - use 'Qbk:0Bk:0' to delete coordinate k from the input.  You should\n    pick the coordinate with the least range.  The hull will have the\n    correct topology.\n  - determine the flat containing the points, rotate the points\n    into a coordinate plane, and delete the other coordinates.\n  - add one or more points to make the input full dimensional.\n",
     "output_type": "error",
     "traceback": [
      "\u001b[0;31m---------------------------------------------------------------------------\u001b[0m",
      "\u001b[0;31mQhullError\u001b[0m                                Traceback (most recent call last)",
      "Cell \u001b[0;32mIn[11], line 1\u001b[0m\n\u001b[0;32m----> 1\u001b[0m \u001b[43mplasma_list\u001b[49m\u001b[43m[\u001b[49m\u001b[38;5;241;43m-\u001b[39;49m\u001b[38;5;241;43m1\u001b[39;49m\u001b[43m]\u001b[49m\u001b[38;5;241;43m.\u001b[39;49m\u001b[43mget_effective_ion_cp\u001b[49m\u001b[43m(\u001b[49m\u001b[43mε_derivative\u001b[49m\u001b[38;5;241;43m=\u001b[39;49m\u001b[38;5;241;43m1e-6\u001b[39;49m\u001b[43m,\u001b[49m\u001b[43m \u001b[49m\u001b[43mε_table\u001b[49m\u001b[38;5;241;43m=\u001b[39;49m\u001b[38;5;241;43m1e-16\u001b[39;49m\u001b[43m,\u001b[49m\u001b[43m \u001b[49m\u001b[43mN_table\u001b[49m\u001b[38;5;241;43m=\u001b[39;49m\u001b[38;5;241;43m2\u001b[39;49m\u001b[43m)\u001b[49m\n",
      "File \u001b[0;32m~/plasma/hnc/hnc/PIE.py:364\u001b[0m, in \u001b[0;36mPlasma_of_Ions_and_Electrons.get_effective_ion_cp\u001b[0;34m(self, ε_derivative, **table_kwargs)\u001b[0m\n\u001b[1;32m    361\u001b[0m \u001b[38;5;28mself\u001b[39m\u001b[38;5;241m.\u001b[39mmake_nT_table(\u001b[38;5;241m*\u001b[39m\u001b[38;5;241m*\u001b[39mtable_kwargs)\n\u001b[1;32m    363\u001b[0m T_P_data \u001b[38;5;241m=\u001b[39m \u001b[38;5;28mlist\u001b[39m(\u001b[38;5;28mzip\u001b[39m( np\u001b[38;5;241m.\u001b[39marray(\u001b[38;5;28mself\u001b[39m\u001b[38;5;241m.\u001b[39mT_table)\u001b[38;5;241m.\u001b[39mflatten(),np\u001b[38;5;241m.\u001b[39marray(\u001b[38;5;28mself\u001b[39m\u001b[38;5;241m.\u001b[39mPeff_table)\u001b[38;5;241m.\u001b[39mflatten() ))\n\u001b[0;32m--> 364\u001b[0m H_TP \u001b[38;5;241m=\u001b[39m \u001b[43mLinearNDInterpolator\u001b[49m\u001b[43m(\u001b[49m\u001b[43mT_P_data\u001b[49m\u001b[43m,\u001b[49m\u001b[43m \u001b[49m\u001b[43mnp\u001b[49m\u001b[38;5;241;43m.\u001b[39;49m\u001b[43marray\u001b[49m\u001b[43m(\u001b[49m\u001b[38;5;28;43mself\u001b[39;49m\u001b[38;5;241;43m.\u001b[39;49m\u001b[43mHeff_table\u001b[49m\u001b[43m)\u001b[49m\u001b[38;5;241;43m.\u001b[39;49m\u001b[43mflatten\u001b[49m\u001b[43m(\u001b[49m\u001b[43m)\u001b[49m\u001b[43m)\u001b[49m\n\u001b[1;32m    366\u001b[0m T, P \u001b[38;5;241m=\u001b[39m np\u001b[38;5;241m.\u001b[39maverage(\u001b[38;5;28mself\u001b[39m\u001b[38;5;241m.\u001b[39mT_table), np\u001b[38;5;241m.\u001b[39maverage(\u001b[38;5;28mself\u001b[39m\u001b[38;5;241m.\u001b[39mPeff_table) \t\t\n\u001b[1;32m    368\u001b[0m \u001b[38;5;28mself\u001b[39m\u001b[38;5;241m.\u001b[39mCeff_p_AU \u001b[38;5;241m=\u001b[39m (H_TP(T\u001b[38;5;241m*\u001b[39m(\u001b[38;5;241m1\u001b[39m\u001b[38;5;241m+\u001b[39mε_derivative), P) \u001b[38;5;241m-\u001b[39m H_TP(T\u001b[38;5;241m*\u001b[39m(\u001b[38;5;241m1\u001b[39m\u001b[38;5;241m-\u001b[39mε_derivative), P))\u001b[38;5;241m/\u001b[39m(\u001b[38;5;241m2\u001b[39m\u001b[38;5;241m*\u001b[39mT\u001b[38;5;241m*\u001b[39mε_derivative)\n",
      "File \u001b[0;32minterpnd.pyx:290\u001b[0m, in \u001b[0;36mscipy.interpolate.interpnd.LinearNDInterpolator.__init__\u001b[0;34m()\u001b[0m\n",
      "File \u001b[0;32m_qhull.pyx:1827\u001b[0m, in \u001b[0;36mscipy.spatial._qhull.Delaunay.__init__\u001b[0;34m()\u001b[0m\n",
      "File \u001b[0;32m_qhull.pyx:353\u001b[0m, in \u001b[0;36mscipy.spatial._qhull._Qhull.__init__\u001b[0;34m()\u001b[0m\n",
      "\u001b[0;31mQhullError\u001b[0m: QH6154 Qhull precision error: Initial simplex is flat (facet 1 is coplanar with the interior point)\n\nWhile executing:  | qhull d Qc Q12 Qbb Qz Qt\nOptions selected for Qhull 2019.1.r 2019/06/21:\n  run-id 2051034054  delaunay  Qcoplanar-keep  Q12-allow-wide  Qbbound-last\n  Qz-infinity-point  Qtriangulate  _pre-merge  _zero-centrum  Qinterior-keep\n  Pgood  _max-width 4.8e-13  Error-roundoff 1e-13  _one-merge 7.1e-13\n  Visible-distance 2e-13  U-max-coplanar 2e-13  Width-outside 4.1e-13\n  _wide-facet 1.2e-12  _maxoutside 8.2e-13\n\nprecision problems (corrected unless 'Q0' or an error)\n      2 degenerate hyperplanes recomputed with gaussian elimination\n      2 nearly singular or axis-parallel hyperplanes\n      2 zero divisors during back substitute\n      2 zero divisors during gaussian elimination\n\nThe input to qhull appears to be less than 3 dimensional, or a\ncomputation has overflowed.\n\nQhull could not construct a clearly convex simplex from points:\n- p2(v4):    73   6.6 6.8e-13\n- p4(v3):    73   6.6    73\n- p1(v2):    73   6.6     0\n- p0(v1):    73   6.6 6.8e-13\n\nThe center point is coplanar with a facet, or a vertex is coplanar\nwith a neighboring facet.  The maximum round off error for\ncomputing distances is 1e-13.  The center point, facets and distances\nto the center point are as follows:\n\ncenter point     73.5    6.605    18.37\n\nfacet p4 p1 p0 distance= -9.8e-15\nfacet p2 p1 p0 distance= -1.1e-14\nfacet p2 p4 p0 distance= -4.4e-16\nfacet p2 p4 p1 distance= 9.8e-15\n\nThese points either have a maximum or minimum x-coordinate, or\nthey maximize the determinant for k coordinates.  Trial points\nare first selected from points that maximize a coordinate.\n\nThe min and max coordinates for each dimension are:\n  0:      73.5      73.5  difference= 1.421e-14\n  1:     6.605     6.605  difference= 4.752e-13\n  2:         0      73.5  difference= 73.5\n\nIf the input should be full dimensional, you have several options that\nmay determine an initial simplex:\n  - use 'QJ'  to joggle the input and make it full dimensional\n  - use 'QbB' to scale the points to the unit cube\n  - use 'QR0' to randomly rotate the input for different maximum points\n  - use 'Qs'  to search all points for the initial simplex\n  - use 'En'  to specify a maximum roundoff error less than 1e-13.\n  - trace execution with 'T3' to see the determinant for each point.\n\nIf the input is lower dimensional:\n  - use 'QJ' to joggle the input and make it full dimensional\n  - use 'Qbk:0Bk:0' to delete coordinate k from the input.  You should\n    pick the coordinate with the least range.  The hull will have the\n    correct topology.\n  - determine the flat containing the points, rotate the points\n    into a coordinate plane, and delete the other coordinates.\n  - add one or more points to make the input full dimensional.\n"
     ]
    }
   ],
   "source": [
    "plasma_list[-1].get_effective_ion_cp(ε_derivative=1e-6, ε_table=1e-16, N_table=2)"
   ]
  },
  {
   "cell_type": "code",
   "execution_count": 15,
   "id": "f7100614-3756-4931-9f1d-8d28f8039bae",
   "metadata": {
    "tags": []
   },
   "outputs": [
    {
     "data": {
      "text/plain": [
       "5.98e+23"
      ]
     },
     "execution_count": 15,
     "metadata": {},
     "output_type": "execute_result"
    }
   ],
   "source": [
    "plasma_list[-1].ni_cc, plasma_list[-1].ni_cc "
   ]
  },
  {
   "cell_type": "code",
   "execution_count": 13,
   "id": "353a4551-9f1b-4846-b6c9-23c0232de57e",
   "metadata": {
    "tags": []
   },
   "outputs": [
    {
     "data": {
      "text/plain": [
       "(array([[5.98e+23, 5.98e+23],\n",
       "        [5.98e+23, 5.98e+23]]),\n",
       " array([[73.4986508, 73.4986508],\n",
       "        [73.4986508, 73.4986508]]))"
      ]
     },
     "execution_count": 13,
     "metadata": {},
     "output_type": "execute_result"
    }
   ],
   "source": [
    "plasma_list[-1].n_table, plasma_list[-1].T_table "
   ]
  },
  {
   "cell_type": "code",
   "execution_count": null,
   "id": "95fdc64b-8007-4ca5-a73f-fd08f8ac6453",
   "metadata": {
    "tags": []
   },
   "outputs": [],
   "source": [
    "plasma_list[-1].run_hnc(c_s_k_guess = plasma_list[-1].hnc.c_s_k_matrix.copy())"
   ]
  },
  {
   "cell_type": "code",
   "execution_count": null,
   "id": "5601b10a-c4ba-47a8-9fae-b1bb60c28d07",
   "metadata": {
    "tags": []
   },
   "outputs": [],
   "source": [
    "plasma_list[-1].get_effective_ion_cp(ε_derivative=1e-8, ε_table=1e-6, N_table=2)"
   ]
  },
  {
   "cell_type": "code",
   "execution_count": null,
   "id": "49ee3050-0f85-4c50-80d9-3cd861ecbd2c",
   "metadata": {
    "tags": []
   },
   "outputs": [],
   "source": [
    "plasma_list[-1].get_effective_ion_cp(ε_derivative=1e-6, ε_table=1e-4, N_table=3)"
   ]
  },
  {
   "cell_type": "markdown",
   "id": "ced464fa-b5af-4d1b-93ab-da36d25bd3d2",
   "metadata": {
    "tags": []
   },
   "source": [
    "## Conductivity from Ziman\n",
    "\n",
    "https://arxiv.org/pdf/1508.06101.pdf eq.5 in Hansen & McDonald the eqn's 10.2.4, 10.2.11\n",
    "\n",
    "$$\n",
    "\\sigma^{-1} = \\rho= \\frac{1}{32 \\sqrt{\\pi} Z} \\frac{m_e^2}{(2 m_e T_e^c)^{3/2}} \\int^{\\infty}_0 e^{-q^2/(8 m_e T_e^c)}  |\\tilde{V}(q)|^2 S_{ii}(q) q^3 dq\n",
    "$$\n",
    "where the screened potential \n",
    "$$\\tilde{V}(q) = V(q)/\\epsilon,$$\n",
    "for $$\\frac{1}{\\epsilon}  = 1 + \\frac{4 \\pi}{k^2}\\chi_{ee}(k) $$ \n",
    "and \n",
    "$$\\chi_{ee}(k) = -\\beta_e^c n_e S_{ee}(k) $$"
   ]
  },
  {
   "cell_type": "code",
   "execution_count": null,
   "id": "a2b39035-eccd-49fe-b31b-644d5df51104",
   "metadata": {
    "tags": []
   },
   "outputs": [],
   "source": [
    "from scipy.integrate import simpson\n",
    "\n",
    "def conductivity(plasma):\n",
    "    q_array = plasma.hnc.k_array/plasma.qsp.ri \n",
    "    \n",
    "    rhosum = np.sum(plasma.hnc.rho/plasma.qsp.ri**3)\n",
    "    x = plasma.hnc.rho/plasma.qsp.ri**3/rhosum\n",
    "    S_matrix = np.diag(x)[:,:,np.newaxis] + rhosum * x[:,np.newaxis,np.newaxis]*x[np.newaxis,:,np.newaxis]*plasma.hnc.h_k_matrix\n",
    "    χ_ee = -plasma.qsp.βe_c*plasma.qsp.ne*S_matrix[1,1]\n",
    "    kTF = plasma.qsp.get_κ()/plasma.qsp.ri\n",
    "    # χ_ee = -q_array**2/(4*π)* kTF**2/(kTF**2 + q_array**2)\n",
    "    ε = 1/( 1 + 4*π/q_array**2 * χ_ee)\n",
    "    Vtilde = -plasma.Zbar/(plasma.hnc.r_array*plasma.qsp.ri)/ε\n",
    "    # print(ε)\n",
    "    integrand = np.exp(-plasma.qsp.βe_c * q_array**2/8) * np.abs(Vtilde)**2 * S_matrix[0,0] * q_array**3\n",
    "    ρ_AU = 1/(  32*np.sqrt(π)*plasma.Zbar*(2*plasma.qsp.Te_c)**1.5) * simpson(integrand, q_array)  \n",
    "    σ_AU = 1/ρ_AU\n",
    "    σ_Spercm = σ_AU * AU_to_Siemens/AU_to_cm\n",
    "    return σ_Spercm\n",
    "print(f\"Conductivity: σ = {conductivity(plasma):0.3e}\")"
   ]
  },
  {
   "cell_type": "code",
   "execution_count": null,
   "id": "9228768d-2f84-4c36-b2ca-92f9d050c2e3",
   "metadata": {
    "tags": []
   },
   "outputs": [],
   "source": [
    "fig, ax = plt.subplots( facecolor='white')\n",
    "\n",
    "ax.plot(T_eV_list, [conductivity(plasma) for plasma in plasma_list], label='Ziman')\n",
    "\n",
    "ax.set_ylabel(r\"$\\sigma $[S/cm]\")\n",
    "ax.set_xlabel(r\"$T$ [eV]\")\n",
    "\n",
    "\n",
    "# Inset Text Box\n",
    "# props = dict(boxstyle='round', facecolor='white', alpha=0.5)\n",
    "# inset_text = f\"H\\n {sci_notation(ni_cc,3)} [cc$^{{-1}}$]\" \n",
    "# ax.text(0.35, 0.95, inset_text, transform=ax.transAxes, fontsize=14,\n",
    "#         verticalalignment='top', bbox=props)\n",
    "\n",
    "# ax.errorbar([tccw_TeV],[tccw_η_cgs], yerr=[tccw_η_cgs_err], barsabove=True, capsize=5, marker='.', label='MD Simulation')\n",
    "\n",
    "# Scales\n",
    "ax.set_yscale('log')\n",
    "ax.set_xscale('log')\n",
    "# ax.set_ylim(5e4,5e6)\n",
    "\n",
    "# Legend\n",
    "ax.legend()\n"
   ]
  },
  {
   "cell_type": "code",
   "execution_count": null,
   "id": "e359f971-abf3-4a92-8317-2dee2cea94c0",
   "metadata": {},
   "outputs": [],
   "source": []
  },
  {
   "cell_type": "code",
   "execution_count": null,
   "id": "09633b03-ef67-4438-a59b-c0a2f1d9e8a0",
   "metadata": {},
   "outputs": [],
   "source": []
  },
  {
   "cell_type": "code",
   "execution_count": null,
   "id": "44e931b8-b3c2-40e2-ada8-25dbdd75152d",
   "metadata": {},
   "outputs": [],
   "source": []
  },
  {
   "cell_type": "code",
   "execution_count": null,
   "id": "3245be84-3a55-4b99-9d67-9d0d099d8f9b",
   "metadata": {},
   "outputs": [],
   "source": []
  }
 ],
 "metadata": {
  "kernelspec": {
   "display_name": "Python 3 (ipykernel)",
   "language": "python",
   "name": "python3"
  },
  "language_info": {
   "codemirror_mode": {
    "name": "ipython",
    "version": 3
   },
   "file_extension": ".py",
   "mimetype": "text/x-python",
   "name": "python",
   "nbconvert_exporter": "python",
   "pygments_lexer": "ipython3",
   "version": "3.10.6"
  }
 },
 "nbformat": 4,
 "nbformat_minor": 5
}
