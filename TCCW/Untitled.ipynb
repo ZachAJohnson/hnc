{
 "cells": [
  {
   "cell_type": "markdown",
   "id": "06a74f1f-2503-4c28-91fa-5a2370fa5160",
   "metadata": {},
   "source": [
    "# SMT\n",
    "\n",
    "See [https://lukestanek.github.io/plasma_properties_package/usersguide.html](https://lukestanek.github.io/plasma_properties_package/usersguide.html)"
   ]
  },
  {
   "cell_type": "code",
   "execution_count": 4,
   "id": "2495ef1e-8e50-4532-9d05-a927204647cb",
   "metadata": {
    "tags": []
   },
   "outputs": [],
   "source": [
    "import numpy as np\n",
    "import matplotlib.pyplot as plt\n",
    "\n",
    "from plasma_properties import transport\n",
    "\n",
    "\n"
   ]
  },
  {
   "cell_type": "code",
   "execution_count": 5,
   "id": "c26931b1-c95e-4a97-9b4d-4b4d44073996",
   "metadata": {
    "tags": []
   },
   "outputs": [
    {
     "name": "stdout",
     "output_type": "stream",
     "text": [
      "Transport coefficients returned in cgs units.\n",
      "[0.00127858] [0.00084193] [21856.10137931]\n"
     ]
    }
   ],
   "source": [
    "Am = 1.9944235e-23 # Atomic mass of element [g]\n",
    "rho_i = 1 # Mass density [g/cc]\n",
    "T = 0.2 # Temperature [eV]\n",
    "Z = 6 # Nuclear charge for carbon\n",
    "\n",
    "# Instantiate the Stanton-Murillo transport submodule\n",
    "sm = transport.SM(Am, rho_i, T, Z, units_out='cgs')\n",
    "\n",
    "# Compute transport coefficients\n",
    "D = sm.self_diffusion()\n",
    "eta = sm.viscosity()\n",
    "K = sm.thermal_conductivity()\n",
    "\n",
    "print(D, eta, K)"
   ]
  },
  {
   "cell_type": "code",
   "execution_count": null,
   "id": "fb432e6e-fef7-4560-a5a2-6a5a599e9363",
   "metadata": {},
   "outputs": [],
   "source": []
  }
 ],
 "metadata": {
  "kernelspec": {
   "display_name": "Python 3 (ipykernel)",
   "language": "python",
   "name": "python3"
  },
  "language_info": {
   "codemirror_mode": {
    "name": "ipython",
    "version": 3
   },
   "file_extension": ".py",
   "mimetype": "text/x-python",
   "name": "python",
   "nbconvert_exporter": "python",
   "pygments_lexer": "ipython3",
   "version": "3.10.6"
  }
 },
 "nbformat": 4,
 "nbformat_minor": 5
}
