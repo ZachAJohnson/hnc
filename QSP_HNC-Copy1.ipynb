{
 "cells": [
  {
   "cell_type": "code",
   "execution_count": 1,
   "id": "2e5c11ba",
   "metadata": {},
   "outputs": [
    {
     "ename": "ModuleNotFoundError",
     "evalue": "No module named 'pandas'",
     "output_type": "error",
     "traceback": [
      "\u001b[1;31m---------------------------------------------------------------------------\u001b[0m",
      "\u001b[1;31mModuleNotFoundError\u001b[0m                       Traceback (most recent call last)",
      "\u001b[1;32m~\\AppData\\Local\\Temp/ipykernel_27916/1484559510.py\u001b[0m in \u001b[0;36m<module>\u001b[1;34m\u001b[0m\n\u001b[0;32m      2\u001b[0m \u001b[1;32mimport\u001b[0m \u001b[0mmatplotlib\u001b[0m\u001b[1;33m.\u001b[0m\u001b[0mpyplot\u001b[0m \u001b[1;32mas\u001b[0m \u001b[0mplt\u001b[0m\u001b[1;33m\u001b[0m\u001b[1;33m\u001b[0m\u001b[0m\n\u001b[0;32m      3\u001b[0m \u001b[1;33m\u001b[0m\u001b[0m\n\u001b[1;32m----> 4\u001b[1;33m \u001b[1;32mfrom\u001b[0m \u001b[0mhnc_n_multiscale\u001b[0m \u001b[1;32mimport\u001b[0m  \u001b[0mHNC_solver\u001b[0m\u001b[1;33m\u001b[0m\u001b[1;33m\u001b[0m\u001b[0m\n\u001b[0m",
      "\u001b[1;32m~\\Documents\\GitHub\\hnc\\hnc_n_multiscale.py\u001b[0m in \u001b[0;36m<module>\u001b[1;34m\u001b[0m\n\u001b[0;32m      5\u001b[0m \u001b[1;32mfrom\u001b[0m \u001b[0mmath\u001b[0m \u001b[1;32mimport\u001b[0m \u001b[0misnan\u001b[0m\u001b[1;33m\u001b[0m\u001b[1;33m\u001b[0m\u001b[0m\n\u001b[0;32m      6\u001b[0m \u001b[1;33m\u001b[0m\u001b[0m\n\u001b[1;32m----> 7\u001b[1;33m \u001b[1;32mfrom\u001b[0m \u001b[0mpandas\u001b[0m \u001b[1;32mimport\u001b[0m \u001b[0mread_csv\u001b[0m\u001b[1;33m\u001b[0m\u001b[1;33m\u001b[0m\u001b[0m\n\u001b[0m\u001b[0;32m      8\u001b[0m \u001b[1;33m\u001b[0m\u001b[0m\n\u001b[0;32m      9\u001b[0m \u001b[0mπ\u001b[0m \u001b[1;33m=\u001b[0m \u001b[0mnp\u001b[0m\u001b[1;33m.\u001b[0m\u001b[0mpi\u001b[0m\u001b[1;33m\u001b[0m\u001b[1;33m\u001b[0m\u001b[0m\n",
      "\u001b[1;31mModuleNotFoundError\u001b[0m: No module named 'pandas'"
     ]
    }
   ],
   "source": [
    "import numpy as np\n",
    "import matplotlib.pyplot as plt\n",
    "\n",
    "from hnc_n_multiscale import  HNC_solver"
   ]
  },
  {
   "cell_type": "markdown",
   "id": "1d7ca0a2",
   "metadata": {},
   "source": [
    "# Two Species"
   ]
  },
  {
   "cell_type": "markdown",
   "id": "39bb7e5f",
   "metadata": {},
   "source": [
    "Here we do QSP interactions between electrons and one ion type. \n",
    "\n",
    "Using $\\tilde{r}\\equiv r/r_s$, we implement potentials \n",
    "\\begin{align}\n",
    "\\beta v_{ee}(\\tilde{r}) &=  \\frac{\\Gamma_{ee}}{\\tilde{r}}\\left( 1- \\exp[-\\tilde{r} r_s/\\Lambda_e]\\right) +  \\ln2 \\exp\\left[-\\tilde{r}^2 r_s^2/(\\pi \\Lambda_e^2 \\ln 2)\\right]\\\\\n",
    "\\beta v_{ei}(\\tilde{r}) &=  \\frac{\\Gamma_{ei}}{\\tilde{r}}\\left( 1- \\exp[-\\tilde{r} r_s/\\Lambda_e]\\right)\\\\\n",
    "\\beta v_{ii}(\\tilde{r}) &=  \\frac{\\Gamma_{ii}}{\\tilde{r}}\n",
    "\\end{align}\n",
    "For  \n",
    "\\begin{align}\n",
    "\\Gamma_{ee}&=\\frac{\\beta e^2}{r_s}\\\\\n",
    "\\Gamma_{ei}&=\\frac{\\beta Z_i e^2}{r_s}\\\\\n",
    "\\Gamma_{ii}&=\\frac{\\beta Z_i^2 e^2}{r_s}\\\\\n",
    "\\end{align}"
   ]
  },
  {
   "cell_type": "markdown",
   "id": "2123ac5e",
   "metadata": {},
   "source": [
    "\n",
    "### \"Classical-Map  Hypernetted  Chain  Calculations  for  Dense Plasmas\"\n",
    "###### R. Bredow1∗, Th. Bornath1, W.-D. Kraeft1, M.W.C. Dharma-wardana,and R. Redmer1\n",
    "[doi.org/10.1002/ctpp.201400080](https://doi.org/10.1002/ctpp.201400080)\n",
    "\n",
    "\n",
    "### Simple Classical Mapping of the Spin-Polarized Quantum Electron Gas: Distribution Functions and Local-Field Corrections\n",
    "###### M. W. C. Dharma-wardana and F. Perrot\n",
    "[DOI:https://doi.org/10.1103/PhysRevLett.84.959](https://doi.org/10.1103/PhysRevLett.84.959)\n",
    "\n"
   ]
  },
  {
   "cell_type": "markdown",
   "id": "bfb71639",
   "metadata": {},
   "source": [
    "Define physical constants"
   ]
  },
  {
   "cell_type": "code",
   "execution_count": null,
   "id": "ccc94223",
   "metadata": {},
   "outputs": [],
   "source": [
    "# k_B = 1.380649e-23  # Boltzmann constant [J/K]\n",
    "# hbar=  6.62607015e-34 # Planck [J/s]\n",
    "eV = 0.0367512 # So 4 eV = 4 * 0.036.. in natural units\n",
    "Kelvin = 8.61732814974493e-5*eV #Similarly, 1 Kelvin = 3.167e-6... in natural units \n",
    "π = np.pi\n",
    "# [AU]\n",
    "rs  = 3\n",
    "T   = 100*eV \n",
    "Zstar=3#\n",
    "\n",
    "β   = 1/T\n",
    "m_e = 1\n",
    "\n",
    "\n",
    "Λe  = np.sqrt(  β*2*π /m_e )\n",
    "Λe_star  = np.sqrt(  β*2*π /m_e )/rs\n",
    "Γee = β/rs \n",
    "Γei = -Zstar*β/rs \n",
    "Γii = Zstar**2*β/rs \n",
    "print(Γee, Γei, Γii)"
   ]
  },
  {
   "cell_type": "markdown",
   "id": "40b1a95e",
   "metadata": {},
   "source": [
    "Plug into get potentials\n"
   ]
  },
  {
   "cell_type": "code",
   "execution_count": null,
   "id": "b0b2e133",
   "metadata": {},
   "outputs": [],
   "source": [
    "from scipy.special import erf\n",
    "\n",
    "# Build Components for QSP's\n",
    "\n",
    "def βv_Deutsch(Γ, r):\n",
    "    return Γ/r* (  np.exp(-2*π*r/Λe_star)  )\n",
    "\n",
    "# Kelb looks really weird??\n",
    "# def βv_Kelb(Γ,r):\n",
    "#     return Γ/r*(  np.exp(-2*π*r**2/Λe_star**2)- np.sqrt(2)*π*r/Λe_star *erf(np.sqrt(2*π)*r/Λe_star))\n",
    "\n",
    "def βv_Pauli(r):\n",
    "    return  np.log(2) * np.exp(-4*π* r**2 /( Λe_star**2))\n",
    "\n",
    "\n",
    "######### Build Actual QSP's\n",
    "\n",
    "def βvee(r):\n",
    "    return βv_Deutsch(Γee,r) + βv_Pauli(r)\n",
    "\n",
    "def βvei(r):\n",
    "    return βv_Deutsch(Γei,r)\n",
    "\n",
    "def βvei_atomic(r):\n",
    "    r_c = 3/5 #3/5 r_s in linear n_b(r) model\n",
    "    return np.heaviside(r - r_c,0.5) * βvei(r)\n",
    "\n",
    "def βvii(r):\n",
    "    return Γii/r \n"
   ]
  },
  {
   "cell_type": "markdown",
   "id": "fe707446",
   "metadata": {},
   "source": [
    "First, we initialize the hnc"
   ]
  },
  {
   "cell_type": "markdown",
   "id": "969fcbaf",
   "metadata": {},
   "source": [
    "# Electron Only"
   ]
  },
  {
   "cell_type": "code",
   "execution_count": null,
   "id": "9d20e3aa",
   "metadata": {},
   "outputs": [],
   "source": [
    "# N_species = 1\n",
    "# Gamma = np.array(  [[Γee]])\n",
    "\n",
    "\n",
    "# names = [\"Electron\", ] \n",
    "# kappa = 1\n",
    "# rho = np.array([  Zstar*3/(4*np.pi) ])\n",
    "# hnc = HNC_solver(N_species, Gamma=Gamma, kappa=kappa, tol=1e-4,\n",
    "#                  kappa_multiscale=5, rho = rho, num_iterations=int(10e2), \n",
    "#                  R_max=10, N_bins=1000, names=names)\n",
    "\n",
    "# hnc.βu_r_matrix[0,0] = βvee(hnc.r_array)\n",
    "# hnc.split_βu_matrix()\n",
    "# hnc.get_βu_k_matrices()\n",
    "# hnc.plot_βu_all_species()\n",
    "\n",
    "# hnc.HNC_solve(alpha=1)\n",
    "# gr_files = [\"/home/zach/plasma/atomic_forces/data/RDF/Al_0.5eV_rs3_KS-MD.txt\", \"/home/zach/plasma/atomic_forces/data/RDF/Al_0.5eV_rs3_TFY-MD.txt\"]\n",
    "# gr_labels= [\"KS MD\", \"TFY MD\"]\n",
    "# hnc.plot_g_all_species(data_to_compare=gr_files, data_names=gr_labels)\n",
    "# hnc.plot_species((0,0))"
   ]
  },
  {
   "cell_type": "markdown",
   "id": "02d02683",
   "metadata": {},
   "source": [
    "# Electron Ion"
   ]
  },
  {
   "cell_type": "code",
   "execution_count": null,
   "id": "da611d39",
   "metadata": {},
   "outputs": [],
   "source": [
    "N_species = 2\n",
    "Gamma = np.array(  [[Γii,  Γei],\n",
    "                    [Γei,  Γee]])\n",
    "\n",
    "\n",
    "names = [\"Ion-1\", \"Electron\", ] \n",
    "kappa = 1\n",
    "rho = np.array([  3/(4*np.pi), Zstar * 3/(4*np.pi) ])\n",
    "hnc2 = HNC_solver(N_species, Gamma=Gamma, kappa=kappa, tol=1e-5,\n",
    "                 kappa_multiscale=1, rho = rho, num_iterations=int(2), \n",
    "                 R_max=10, N_bins=500, names=names)\n"
   ]
  },
  {
   "cell_type": "markdown",
   "id": "8b32f33a",
   "metadata": {},
   "source": [
    "then we create the potential matrix, βu_matrix "
   ]
  },
  {
   "cell_type": "code",
   "execution_count": null,
   "id": "2083f2da",
   "metadata": {},
   "outputs": [],
   "source": [
    "βu_r_matrix = np.array([[βvii(hnc2.r_array), βvei(hnc2.r_array)],\n",
    "                        [βvei(hnc2.r_array), βvee(hnc2.r_array)]])\n",
    "hnc2.set_βu_matrix(βu_r_matrix)"
   ]
  },
  {
   "cell_type": "code",
   "execution_count": null,
   "id": "f3468a9e",
   "metadata": {},
   "outputs": [],
   "source": [
    "hnc2.HNC_solve(alpha=1)\n",
    "hnc2.plot_g_all_species()\n",
    "hnc2.plot_g_all_species(gmax = 5)"
   ]
  },
  {
   "cell_type": "markdown",
   "id": "66a22026",
   "metadata": {},
   "source": [
    "# Debug"
   ]
  },
  {
   "cell_type": "code",
   "execution_count": null,
   "id": "63aaba6e",
   "metadata": {},
   "outputs": [],
   "source": [
    "# hnc2.plot_βu_all_species()"
   ]
  },
  {
   "cell_type": "code",
   "execution_count": null,
   "id": "7cc809d2",
   "metadata": {},
   "outputs": [],
   "source": [
    "# hnc2.h_r_matrix = -1 + np.exp(- hnc2.βu_r_matrix)\n",
    "# hnc2.plot_species((1,1))\n",
    "# hnc2.plot_g_all_species()"
   ]
  },
  {
   "cell_type": "code",
   "execution_count": null,
   "id": "71878ff9",
   "metadata": {},
   "outputs": [],
   "source": []
  },
  {
   "cell_type": "code",
   "execution_count": null,
   "id": "6d9377c0",
   "metadata": {},
   "outputs": [],
   "source": []
  }
 ],
 "metadata": {
  "kernelspec": {
   "display_name": "Python 3 (ipykernel)",
   "language": "python",
   "name": "python3"
  },
  "language_info": {
   "codemirror_mode": {
    "name": "ipython",
    "version": 3
   },
   "file_extension": ".py",
   "mimetype": "text/x-python",
   "name": "python",
   "nbconvert_exporter": "python",
   "pygments_lexer": "ipython3",
   "version": "3.10.1"
  }
 },
 "nbformat": 4,
 "nbformat_minor": 5
}
