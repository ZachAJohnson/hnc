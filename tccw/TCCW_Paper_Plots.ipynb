{
 "cells": [
  {
   "cell_type": "code",
   "execution_count": 1,
   "id": "81b03fb5-0596-44eb-a3ec-a2947ae6c7ca",
   "metadata": {},
   "outputs": [],
   "source": [
    "import numpy as np\n",
    "\n",
    "import matplotlib as mpl\n",
    "\n",
    "from cycler import cycler\n",
    "\n",
    "mpl.rcParams['lines.linewidth'] = 2.2\n",
    "mpl.rcParams['axes.spines.right'] = False\n",
    "mpl.rcParams['axes.spines.top'] = False\n",
    "mpl.rcParams['axes.labelsize'] = 16\n",
    "mpl.rcParams['lines.markersize'] = 8\n",
    "mpl.rcParams['font.sans-serif'] = ['Arial', 'Tahoma', 'DejaVu Sans', 'Lucida Grande', 'Verdana']\n",
    "mpl.rcParams['font.size'] = 12\n",
    "mpl.rcParams['axes.grid'] = True\n",
    "mpl.rcParams['grid.color'] = '#636363'\n",
    "mpl.rcParams['grid.alpha'] = 0.12\n",
    "mpl.rcParams['grid.linewidth'] = 0.7\n",
    "mpl.rcParams['grid.linestyle'] = '-'\n",
    "mpl.rcParams['axes.prop_cycle'] = cycler('color',  ['#0AB34F', '#bf009f', '#00abc3', '#8e92c5', '#cc7014', '#e32851'])\n",
    "mpl.rcParams['legend.fancybox'] = True\n",
    "mpl.rcParams['legend.framealpha'] = 0.6\n",
    "mpl.rcParams['legend.fontsize'] = 10\n",
    "mpl.rcParams['figure.figsize'] = 8, 4.9443\n",
    "mpl.rcParams['figure.dpi'] = 100"
   ]
  },
  {
   "cell_type": "markdown",
   "id": "c7bb186a-907b-46ae-80fa-5a0ec3147466",
   "metadata": {},
   "source": [
    "### $\\langle Z \\rangle$ Plot"
   ]
  },
  {
   "cell_type": "code",
   "execution_count": null,
   "id": "a6de85ce-9825-4ffe-99d9-c94a861a5c61",
   "metadata": {},
   "outputs": [],
   "source": [
    "Al_file = \"Al-rho=2,70-2023-09-03.dat\"\n",
    "read_csv(Al)"
   ]
  },
  {
   "cell_type": "code",
   "execution_count": null,
   "id": "62c6d9ca-2b46-436d-8de5-2f8586ca672f",
   "metadata": {},
   "outputs": [],
   "source": [
    "fig, ax = plt.subplots()\n",
    "\n",
    "\n",
    "ax.plot()"
   ]
  }
 ],
 "metadata": {
  "kernelspec": {
   "display_name": "Python 3 (ipykernel)",
   "language": "python",
   "name": "python3"
  },
  "language_info": {
   "codemirror_mode": {
    "name": "ipython",
    "version": 3
   },
   "file_extension": ".py",
   "mimetype": "text/x-python",
   "name": "python",
   "nbconvert_exporter": "python",
   "pygments_lexer": "ipython3",
   "version": "3.10.6"
  }
 },
 "nbformat": 4,
 "nbformat_minor": 5
}
