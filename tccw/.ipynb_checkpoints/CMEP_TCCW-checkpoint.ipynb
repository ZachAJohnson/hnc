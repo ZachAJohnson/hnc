{
 "cells": [
  {
   "cell_type": "markdown",
   "id": "415426e0",
   "metadata": {},
   "source": [
    "# Import"
   ]
  },
  {
   "cell_type": "code",
   "execution_count": 1,
   "id": "2e5c11ba",
   "metadata": {},
   "outputs": [
    {
     "name": "stdout",
     "output_type": "stream",
     "text": [
      "ModuleNotFoundError: No module named 'mendeleev'\n"
     ]
    },
    {
     "data": {
      "text/html": [
       "\n",
       "<style>\n",
       ".output_png {\n",
       "    display: table-cell;\n",
       "    text-align: center;\n",
       "    vertical-align: middle;\n",
       "}\n",
       "\n",
       "</style>\n"
      ],
      "text/plain": [
       "<IPython.core.display.HTML object>"
      ]
     },
     "execution_count": 1,
     "metadata": {},
     "output_type": "execute_result"
    }
   ],
   "source": [
    "import numpy as np\n",
    "import matplotlib.pyplot as plt\n",
    "from pandas import read_csv\n",
    "\n",
    "from hnc.hnc.PIE import Plasma_of_Ions_and_Electrons as PLASMA\n",
    "\n",
    "from hnc.hnc.constants import *\n",
    "from hnc.hnc.misc import n_from_rs, rs_from_n\n",
    "\n",
    "prop_cycle = plt.rcParams['axes.prop_cycle']\n",
    "colors = prop_cycle.by_key()['color']\n",
    "                \n",
    "from IPython.core.display import HTML\n",
    "HTML(\"\"\"\n",
    "<style>\n",
    ".output_png {\n",
    "    display: table-cell;\n",
    "    text-align: center;\n",
    "    vertical-align: middle;\n",
    "}\n",
    "\n",
    "</style>\n",
    "\"\"\")\n"
   ]
  },
  {
   "cell_type": "markdown",
   "id": "01048544",
   "metadata": {},
   "source": [
    "# Function that sets up HNC QSP "
   ]
  },
  {
   "cell_type": "markdown",
   "id": "48448c02",
   "metadata": {},
   "source": [
    "## Load TCCW Cases"
   ]
  },
  {
   "cell_type": "code",
   "execution_count": 2,
   "id": "754dd9d8",
   "metadata": {},
   "outputs": [],
   "source": [
    "AU_to_Pa  = 2.9421015697e13 \n",
    "Pa_to_bar = 1e-5\n",
    "AU_to_bar = AU_to_Pa*Pa_to_bar "
   ]
  },
  {
   "cell_type": "code",
   "execution_count": 3,
   "id": "1e03d793",
   "metadata": {},
   "outputs": [],
   "source": [
    "cases_converged_thusfar = {'H1':True,'C1':True, 'Al1':True, 'Cu1': True, 'Be1': True, 'Au1': False, 'H2': True, 'H3': True, 'C2': False, 'C3': True, 'Al2': False, 'Al3': True,\n",
    " 'Cu2': False, 'Cu3': True, 'H11': False, 'H21': False, 'H31': False, 'C11': False, 'C21': False, 'C31': False, 'Al11': False, 'Al21': False, \n",
    " 'Al31': False, 'Cu11': False, 'Cu21': False, 'Cu31': False, 'H12': True, 'H22': True, 'H32': False, 'C12': True, 'C22': False, 'C32': False, \n",
    " 'Al12': True, 'Al22': False, 'Al32': False, 'Cu12': True, 'Cu22': False, 'Cu32': False, 'H13': True, 'H23': True, 'H33': True, 'C13': True,\n",
    "  'C23': True, 'C33': False, 'Al13': False, 'Al23': False, 'Al33': False, 'Cu13': True, 'Cu23': False, 'Cu33': False, 'H14': False, 'H24': False, \n",
    "  'H34': False, 'C14': False, 'C24': False, 'C34': False, 'Al14': False, 'Al24': False, 'Al34': False, 'Cu14': False, 'Cu24': False, 'Cu34': False,\n",
    "   'H15': False, 'H25': False, 'H35': False, 'C15': False, 'C25': False, 'C35': False, 'Al15': False, 'Al25': False, 'Al35': False, 'Cu15': False,\n",
    "    'Cu25': False, 'Cu35': False, 'H16': False}"
   ]
  },
  {
   "cell_type": "code",
   "execution_count": 4,
   "id": "0b094fa9",
   "metadata": {},
   "outputs": [
    {
     "name": "stdout",
     "output_type": "stream",
     "text": [
      "\n",
      "______________________________\n",
      "Case num: 2 Case ID: Al1\n",
      "Te = 1.000e+00 eV, n_i = 6.030e+22 1/cc, r_c/r_s = 0.218\n",
      "Te = 1.160e+04 K, ρ = 2.983e+30 [g/cc] \n",
      "P  = 1.830e+05 [bar] = 6.220e-04 [AU]\n"
     ]
    }
   ],
   "source": [
    "mixture_file = \"/home/zach/plasma/hnc/data/TCCW_single_species_data.csv\"\n",
    "tccw_mixture_data = read_csv(mixture_file)\n",
    "tccw_cases = [tccw_mixture_data.iloc[n] for n in range(len(tccw_mixture_data))]\n",
    "\n",
    "\n",
    "tccw_case = tccw_cases[2]\n",
    "α = 0.1\n",
    "case_converged=False\n",
    "case_attempts=0\n",
    "case_num= tccw_case[' ']\n",
    "case_id = tccw_case['Case ID']\n",
    "ni_cc = tccw_case['Number Density [N/cc]']\n",
    "Te_eV = tccw_case['Temperature [eV]']\n",
    "Ti_eV = Te_eV\n",
    "Z = tccw_case['Atomic Number']\n",
    "Zbar = tccw_case['Zbar (TFDW)']\n",
    "P_GP_AU  = tccw_case['p (Bar)']/AU_to_bar\n",
    "A = tccw_case['Atomic Weight [a.u.]']\n",
    "r_s_cc = tccw_case['Wigner-Seitz Radius [cm]']\n",
    "r_c = tccw_case['Average-Bound Radius [cm]']/r_s_cc\n",
    "if r_c>1:\n",
    "    r_c=1e-5\n",
    "print('\\n______________________________\\nCase num: {0} Case ID: {1}'.format(case_num, case_id))\n",
    "print(\"Te = {0:.3e} eV, n_i = {1:.3e} 1/cc, r_c/r_s = {2:.3f}\".format(Te_eV, ni_cc, r_c))\n",
    "print(\"Te = {0:.3e} K, ρ = {1:.3e} [g/cc] \".format(Te_eV*eV_to_K, 1e3*ni_cc*m_p*A ))\n",
    "print(\"P  = {0:.3e} [bar] = {1:.3e} [AU]\".format(P_GP_AU*AU_to_bar, P_GP_AU))"
   ]
  },
  {
   "cell_type": "code",
   "execution_count": 5,
   "id": "ca58c435",
   "metadata": {},
   "outputs": [],
   "source": [
    "Zbar = 3"
   ]
  },
  {
   "cell_type": "code",
   "execution_count": 6,
   "id": "fc8fc285",
   "metadata": {},
   "outputs": [],
   "source": [
    "# atom_2e = Two_Electron_Plasma(Z, A, ni_cc, Ti_eV, Te_eV, Zbar=Z,\n",
    "#              βu_options = {'add_bridge':True,'bridge':'yukawa', 'pseudopotential':True}, \n",
    "#              qsp_options= {'r_c':r_c,'which_Tij':'thermal'},\n",
    "#              hnc_options= {'kappa_multiscale':10, 'R_max':5,'N_bins':500,'oz_method':'svt'},\n",
    "#              hnc_solve_options={'alpha_Picard':0.5})\n",
    "# atom_2e.run_hnc()\n"
   ]
  },
  {
   "cell_type": "code",
   "execution_count": null,
   "id": "b3336994-5b9c-44e4-9343-5f83a7ea1355",
   "metadata": {
    "tags": []
   },
   "outputs": [
    {
     "name": "stdout",
     "output_type": "stream",
     "text": [
      "Te_in_eV: 1.000\n",
      "Ti_in_eV: 1.000\n",
      "0: Initial condition Total Error: 1.258e+01\n",
      "QUIT: Last 10 iterations error has been increasing\n",
      "Exiting status 2, reverting to best index so far: 186\n",
      "Final iter:195, Total Error: 1.135e-01\n"
     ]
    }
   ],
   "source": [
    "atom_long = PLASMA(Z, A, ni_cc, Ti_eV, Te_eV, Zbar=Zbar, \n",
    "                 βu_options = {'add_bridge':True,'bridge':'yukawa', 'pseudopotential':True}, \n",
    "                 qsp_options={'r_c':r_c},\n",
    "                 hnc_options={'kappa_multiscale':10, 'R_max':10,'N_bins':1000},\n",
    "                 hnc_solve_options={'alpha_Picard':0.1})\n",
    "atom_long.run_hnc()"
   ]
  },
  {
   "cell_type": "code",
   "execution_count": null,
   "id": "82585fc5",
   "metadata": {
    "scrolled": true
   },
   "outputs": [],
   "source": [
    "atom = PLASMA(Z, A, ni_cc, Ti_eV, Te_eV, Zbar=Zbar, \n",
    "                 βu_options = {'add_bridge':True,'bridge':'yukawa', 'pseudopotential':True}, \n",
    "                 qsp_options={'r_c':r_c},\n",
    "                 hnc_options={'kappa_multiscale':10, 'R_max':5,'N_bins':500},\n",
    "                 hnc_solve_options={'alpha_Picard':0.1})\n",
    "atom.run_hnc()\n",
    "# atom.get_cp()"
   ]
  },
  {
   "cell_type": "code",
   "execution_count": null,
   "id": "6ce00888-8ff1-4792-a00f-0f472ff646b8",
   "metadata": {
    "tags": []
   },
   "outputs": [],
   "source": [
    "# c_s_k_guess = atom.hnc.c_s_k_matrix.copy()"
   ]
  },
  {
   "cell_type": "code",
   "execution_count": null,
   "id": "1e85b381",
   "metadata": {},
   "outputs": [],
   "source": [
    "atom_oz = PLASMA(Z, A, ni_cc, Ti_eV, Te_eV, Zbar=Zbar, \n",
    "                 βu_options = {'add_bridge':True,'bridge':'yukawa', 'pseudopotential':True}, \n",
    "                 qsp_options={'r_c':r_c},\n",
    "                 hnc_options={'kappa_multiscale':10, 'R_max':5,'N_bins':500, 'oz_method':'standard'},\n",
    "                 hnc_solve_options={'alpha_Picard':0.25})\n",
    "atom_oz.run_hnc()\n",
    "# atom.get_cp()"
   ]
  },
  {
   "cell_type": "code",
   "execution_count": null,
   "id": "a218f35f",
   "metadata": {},
   "outputs": [],
   "source": [
    "# atom_oz.run_onlyion_hnc()"
   ]
  },
  {
   "cell_type": "code",
   "execution_count": null,
   "id": "8fa6f5fc",
   "metadata": {},
   "outputs": [],
   "source": [
    "MD_data = read_csv(\"/home/zach/plasma/datasets/RDFs/Al_1.0eV_rs3_VASP.txt\",  header=1)\n",
    "MD_data.columns=['r','g']\n",
    "MD_data"
   ]
  },
  {
   "cell_type": "code",
   "execution_count": null,
   "id": "a2ebe64a-be70-4c94-9e16-9679e04e2597",
   "metadata": {
    "tags": []
   },
   "outputs": [],
   "source": [
    "atom.hnc.invert_HNC_OZ([1])\n",
    "atom.hnc.βueff_r_matrix[0,0][-10:]-atom.hnc.βueff_r_matrix[0,0][-1]"
   ]
  },
  {
   "cell_type": "code",
   "execution_count": null,
   "id": "71646433-04bf-4f76-9174-97036e1d6f3a",
   "metadata": {
    "tags": []
   },
   "outputs": [],
   "source": [
    "atom_long.hnc.invert_HNC_OZ([1])"
   ]
  },
  {
   "cell_type": "code",
   "execution_count": null,
   "id": "439e5056",
   "metadata": {},
   "outputs": [],
   "source": [
    "# AA_data = read_csv(\"/home/zach/plasma/atoMEC/examples/density.csv\", delim_whitespace=True, header=0)\n",
    "\n",
    "fig, ax = plt.subplots(figsize=(10,8))\n",
    "nf_0 = Zbar/(4/3*np.pi*atom.qsp.ri**3)\n",
    "# ax.plot(AA_data['r[a_0]'], np.array(AA_data['n[unbound]'])/nf_0,'k.' ,label=\"AA\" )\n",
    "# ax.plot(atom_2e.hnc.r_array*atom_2e.qsp.ri, atom_2e.hnc.h_r_matrix[0,0]+1,'--', label='2 electron SVT ')\n",
    "ax.plot(atom.hnc.r_array, atom.hnc.h_r_matrix[0,0]+1,'--', label='1 electron SVT ')\n",
    "ax.plot(atom_long.hnc.r_array, atom_long.hnc.h_r_matrix[0,0]+1,'-.', label='1 electron SVT-long ')\n",
    "ax.plot(atom_oz.hnc.r_array, atom_oz.hnc.h_r_matrix[0,0]+1,'--', label='1 electron OZ ')\n",
    "# ax.plot(atom.hnc.r_array, atom_oz.onlyion_hnc.h_r_matrix[0,0]+1,'--', label='Only Ion')\n",
    "ax.plot(MD_data['r'], MD_data['g'], label='VASP')\n",
    "\n",
    "# ax.plot(atom_oz.hnc.r_array*atom_oz.qsp.ri, atom_oz.hnc.h_r_matrix[0,0]+1,'--', label='my OZ CHNC')\n",
    "\n",
    "ax.set_xlim(0,6)\n",
    "ax.set_ylabel(r'$g_{ii}$',fontsize=20)\n",
    "ax.set_xlabel(r'$r$ [A.U.]',fontsize=20)\n",
    "ax.tick_params(labelsize=20)\n",
    "# ax.set_yscale('symlog', linthresh=2)\n",
    "\n",
    "# [i.set_linewidth(0.1) for i in ax.spines.itervalues()]\n",
    "ax.legend(fontsize=15)"
   ]
  },
  {
   "cell_type": "markdown",
   "id": "5d4d6ed0-5a7f-4bac-bc71-6336ef5fe009",
   "metadata": {},
   "source": [
    "# Plot Fixed Neutrality Issue βu_eff"
   ]
  },
  {
   "cell_type": "code",
   "execution_count": null,
   "id": "65747a76-c029-467f-9356-b29049377219",
   "metadata": {
    "tags": []
   },
   "outputs": [],
   "source": [
    "plt.style.use('~/plasma/hnc/hnc_paper.mplstyle')\n",
    "\n",
    "atom.hnc.invert_HNC_OZ([1])\n",
    "βu_r_raw = atom.hnc.βueff_r_matrix[0,0]\n",
    "βu_r_raw_fix1 = βu_r_raw - βu_r_raw[-1]\n",
    "βu_r_raw_fix2 = βu_r_raw - (βu_r_raw[-1]*atom.hnc.r_array[-1])/atom.hnc.r_array\n",
    "tapering_func = lambda r: np.exp( -0.02*r**2/(5-r))\n",
    "βu_r_raw_fix3 = βu_r_raw*tapering_func(atom.hnc.r_array)\n",
    "βu_r_raw_fix4 = βu_r_raw_fix1*tapering_func(atom.hnc.r_array)\n",
    "\n",
    "\n",
    "fig, axs  = plt.subplots(1,2,figsize=(20,8))\n",
    "yukawa_matrix = (atom_long.hnc.Gamma[:,:,np.newaxis]/atom_long.hnc.r_array * np.exp(-atom_long.hnc.r_array*atom_long.qsp.get_κ())[np.newaxis,np.newaxis,:] ) [:-1,:-1]\n",
    "\n",
    "axs[0].set_title(r\"$\\beta u$\")\n",
    "axs[0].plot(atom.hnc.r_array, βu_r_raw,'k--', label='Raw')\n",
    "axs[0].plot(atom_long.hnc.r_array, atom_long.hnc.βueff_r_matrix[0,0],'k-.', label='Long')\n",
    "axs[0].plot(atom.hnc.r_array, βu_r_raw_fix1, label=r'Constant Shift to $\\beta u_{eff}$')\n",
    "axs[0].plot(atom.hnc.r_array, βu_r_raw_fix2 , label=r'Subtraction of Coulomb directly')\n",
    "axs[0].plot(atom.hnc.r_array, βu_r_raw_fix3, label=r'Tapered raw')\n",
    "axs[0].plot(atom.hnc.r_array, βu_r_raw_fix4, label=r'Tapered shifted')\n",
    "axs[0].plot(atom_long.hnc.r_array, yukawa_matrix[0,0],'-.', label='Yukawa')\n",
    "\n",
    "axs[1].set_title(r\"$F$\")\n",
    "dudx = lambda u: -(u[1:]-u[:-1])/atom.hnc.del_r\n",
    "axs[1].plot(atom.hnc.r_array[1:], dudx(βu_r_raw),'k--', label='Raw')\n",
    "axs[1].plot(atom_long.hnc.r_array[1:], dudx(atom_long.hnc.βueff_r_matrix[0,0]),'k-.', label='Long')\n",
    "axs[1].plot(atom.hnc.r_array[1:], dudx(βu_r_raw_fix1), label=r'Constant Shift to $\\beta u_{eff}$')\n",
    "axs[1].plot(atom.hnc.r_array[1:], dudx(βu_r_raw_fix2) , label=r'Subtraction of Coulomb directly')\n",
    "axs[1].plot(atom.hnc.r_array[1:], dudx(βu_r_raw_fix3), label=r'Tapered raw ')\n",
    "axs[1].plot(atom.hnc.r_array[1:], dudx(βu_r_raw_fix4), label=r'Tapered shifted')\n",
    "βueff_r_header=\"r/r_i \\t\\t\\t βuii_eff(r/r_i)\"\n",
    "np.savetxt(\"./fits/{0}_βu_eff_raw.txt\".format(case_id), np.array([atom.hnc.r_array, βu_r_raw]).T, header=βueff_r_header)\n",
    "np.savetxt(\"./fits/{0}_βu_eff_shifted.txt\".format(case_id), np.array([atom.hnc.r_array, βu_r_raw_fix1]).T, header=βueff_r_header)\n",
    "np.savetxt(\"./fits/{0}_βu_eff_tapered.txt\".format(case_id), np.array([atom.hnc.r_array, βu_r_raw_fix3]).T, header=βueff_r_header)\n",
    "np.savetxt(\"./fits/{0}_βu_eff_shifted_tapered.txt\".format(case_id), np.array([atom.hnc.r_array, βu_r_raw_fix4]).T, header=βueff_r_header)\n",
    "\n",
    "axs[1].set_xlim(4,10)\n",
    "\n",
    "for ax in axs:\n",
    "    ax.set_yscale('symlog',linthresh=1e-8)\n",
    "\n",
    "    ax.legend(fontsize=15)\n"
   ]
  },
  {
   "cell_type": "markdown",
   "id": "1fafbad0-1163-46f6-b182-8c4fcd2db08e",
   "metadata": {},
   "source": [
    "### Plot $\\beta u^{eff}$"
   ]
  },
  {
   "cell_type": "code",
   "execution_count": null,
   "id": "8b688be3-73d7-4133-989e-2d1ccc90c871",
   "metadata": {},
   "outputs": [],
   "source": [
    "plt.style.use('~/plasma/hnc/hnc_paper.mplstyle')\n",
    "def make_gij(ax):\n",
    "    ax.plot(atom.hnc.r_array*atom.qsp.ri, atom.hnc.h_r_matrix[0,0]+1,'-', label=r'$g_{ii}$')\n",
    "    ax.plot(atom.hnc.r_array*atom.qsp.ri, atom.hnc.h_r_matrix[0,1]+1,'--', label=r'$g_{ei}$')\n",
    "    ax.plot(atom.hnc.r_array*atom.qsp.ri, atom.hnc.h_r_matrix[1,1]+1,':', label=r'$g_{ee}$')\n",
    "\n",
    "    # ax.set_yscale('symlog', linthresh=5)\n",
    "    ax.set_xlim(0,10)\n",
    "    ax.set_ylim(-0.05,5)\n",
    "\n",
    "    ax.set_xlabel(r\"$r$ [AU]\")#, fontsize=25)\n",
    "    ax.set_ylabel(r\"$g_{ij}$\")#, fontsize=25)\n",
    "    ax.legend()\n",
    "\n",
    "fig, ax = plt.subplots()\n",
    "make_gij(ax)\n",
    "plt.savefig(\"gij_Al1.png\")"
   ]
  },
  {
   "cell_type": "code",
   "execution_count": null,
   "id": "fcf42576-2011-4547-a124-80ce8f9e54fa",
   "metadata": {},
   "outputs": [],
   "source": [
    "plt.style.use('~/plasma/hnc/hnc_paper.mplstyle')\n",
    "\n",
    "atom.hnc.invert_HNC_OZ([1])\n",
    "def make_βu(ax):\n",
    "    yukawa_matrix = (atom.hnc.Gamma[:,:,np.newaxis]/atom.hnc.r_array * np.exp(-atom.hnc.r_array*atom.qsp.get_κ())[np.newaxis,np.newaxis,:] ) [:-1,:-1]\n",
    "    coulomb_matrix = (atom.hnc.Gamma[:,:,np.newaxis]/atom.hnc.r_array) [:-1,:-1]\n",
    "\n",
    "    ax.plot(atom.hnc.r_array*atom.qsp.ri, atom.hnc.βueff_r_matrix[0,0],'-', label='HNC Inversion')\n",
    "    ax.plot(atom.hnc.r_array*atom.qsp.ri, yukawa_matrix[0,0],'-.', label='Yukawa')\n",
    "    ax.plot(atom.hnc.r_array*atom.qsp.ri, coulomb_matrix[0,0],'--', label='Coulomb')\n",
    "\n",
    "    ax.set_yscale('symlog', linthresh=1)\n",
    "\n",
    "    ax.set_xlabel(r\"$r$ [AU]\")#, fontsize=25)\n",
    "    ax.set_ylabel(r\"$\\beta u_{\\rm eff}$\")#, fontsize=25)\n",
    "    ax.legend()\n",
    "\n",
    "fig, ax = plt.subplots()\n",
    "make_βu(ax)\n",
    "plt.savefig(\"βu_Al1.png\")"
   ]
  },
  {
   "cell_type": "markdown",
   "id": "ba8fe197-7fe9-41fd-861b-6c7b30e4816e",
   "metadata": {},
   "source": [
    "### Now Plot Both Together"
   ]
  },
  {
   "cell_type": "code",
   "execution_count": null,
   "id": "386768bf-6ba8-4c8a-ae4c-9e62f33df40d",
   "metadata": {},
   "outputs": [],
   "source": [
    "plt.style.use('~/plasma/mpl_styles/paper.mplstyle')\n",
    "\n",
    "fig, axs = plt.subplots(1,2, figsize=(18,8))\n",
    "\n",
    "make_gij(axs[0])\n",
    "make_βu(axs[1])\n",
    "plt.tight_layout()\n",
    "plt.savefig(\"βu_gij_Al1.png\")"
   ]
  },
  {
   "cell_type": "markdown",
   "id": "aaa27ccc",
   "metadata": {
    "jp-MarkdownHeadingCollapsed": true,
    "tags": []
   },
   "source": [
    "\n",
    "# Run Many Cases"
   ]
  },
  {
   "cell_type": "code",
   "execution_count": null,
   "id": "ea4eac8a",
   "metadata": {},
   "outputs": [],
   "source": [
    "\n",
    "for tccw_case in tccw_cases[6:]:\n",
    "    α = 0.1\n",
    "    case_converged=False\n",
    "    case_attempts=0\n",
    "    case_num= tccw_case[' ']\n",
    "    case_id = tccw_case['Case ID']\n",
    "    ni_cc = tccw_case['Number Density [N/cc]']\n",
    "    Te_eV = tccw_case['Temperature [eV]']\n",
    "    Ti_eV = Te_eV\n",
    "    Z = tccw_case['Atomic Number']\n",
    "    Zbar = tccw_case['Zbar (TFDW)']\n",
    "    P_GP_AU  = tccw_case['p (Bar)']/AU_to_bar\n",
    "    A = tccw_case['Atomic Weight [a.u.]']\n",
    "    r_s_cc = tccw_case['Wigner-Seitz Radius [cm]']\n",
    "    r_c = tccw_case['Average-Bound Radius [cm]']/r_s_cc\n",
    "    if r_c>1:\n",
    "        r_c=1e-5\n",
    "    print('\\n______________________________\\nCase num: {0} Case ID: {1}'.format(case_num, case_id))\n",
    "    print(\"Te = {0:.3e} eV, n_i = {1:.3e} 1/cc, r_c/r_s = {2:.3f}\".format(Te_eV, ni_cc, r_c))\n",
    "    print(\"Te = {0:.3e} K, ρ = {1:.3e} [g/cc] \".format(Te_eV*eV_to_K, 1e3*ni_cc*m_p*A ))\n",
    "    print(\"P  = {0:.3e} [bar] = {1:.3e} [AU]\".format(P_GP_AU*AU_to_bar, P_GP_AU))\n",
    "    \n",
    "    α = 1\n",
    "    converged=False\n",
    "    while not converged:\n",
    "        atom = CMEP_Atom(Z, A, ni_cc, Ti_eV, Te_eV, Zbar=Zbar, \n",
    "                     βu_options = {'add_bridge':True}, \n",
    "                     qsp_options={'r_c':r_c},\n",
    "                     hnc_options={'kappa_multiscale':10, 'R_max':10,'N_bins':1000},\n",
    "                     hnc_solve_options={'alpha_Picard':α})\n",
    "        atom.run_hnc()\n",
    "        if atom.hnc.newton_succeed==True:\n",
    "            converged=True\n",
    "        else:\n",
    "            α*=0.5\n",
    "            \n",
    "    atom.get_cp()"
   ]
  },
  {
   "cell_type": "markdown",
   "id": "42f921c0",
   "metadata": {
    "jp-MarkdownHeadingCollapsed": true,
    "tags": []
   },
   "source": [
    "# Only Ion"
   ]
  },
  {
   "cell_type": "code",
   "execution_count": null,
   "id": "ceb33761",
   "metadata": {},
   "outputs": [],
   "source": [
    "atom.run_onlyion_hnc()"
   ]
  },
  {
   "cell_type": "code",
   "execution_count": null,
   "id": "9282fb4d",
   "metadata": {},
   "outputs": [],
   "source": [
    "atom.onlyion_hnc.plot_species_convergence_g()"
   ]
  },
  {
   "cell_type": "code",
   "execution_count": null,
   "id": "93af658e",
   "metadata": {},
   "outputs": [],
   "source": [
    "# c_s_k_guess = atom.hnc.c_s_k_matrix.copy()*0\n",
    "c_s_k_guess[0,0] = atom.onlyion_hnc.c_s_k_matrix[0,0]*0.\n",
    "\n",
    "\n",
    "atom.run_hnc(c_s_k_guess = c_s_k_guess)"
   ]
  },
  {
   "cell_type": "markdown",
   "id": "ca90c7da",
   "metadata": {
    "jp-MarkdownHeadingCollapsed": true,
    "tags": []
   },
   "source": [
    "\n",
    "# Make atom"
   ]
  },
  {
   "cell_type": "code",
   "execution_count": null,
   "id": "1d208743",
   "metadata": {},
   "outputs": [],
   "source": [
    "Zbar_list  = np.linspace(3,Zbar, num=100)\n",
    "# Zbar_list = [1,3]\n",
    "atom_list= []\n",
    "for i, Zbar_i in enumerate(Zbar_list):\n",
    "    print(\"Zbar = {0:.3f}\".format( Zbar_i ))\n",
    "    \n",
    "    atom = CMEP_Atom(Z, A, ni_cc, Ti_eV, Te_eV, Zbar=Zbar_i, \n",
    "                 βu_options = {'add_bridge':True}, \n",
    "                 qsp_options={'r_c':r_c},\n",
    "                 hnc_options={'kappa_multiscale':10},\n",
    "                 hnc_solve_options={'alpha_Picard':0.5})\n",
    "    if i>=1:\n",
    "        Z2_matrix = [[Zbar_list[i]]]\n",
    "        guess_2 = \n",
    "        c_s_k_guess = atom_list[-1].hnc.c_s_k_matrix\n",
    "        c_s_k_guess[0,0] *= (Zbar_list[i]/Zbar_list[i-1])**2 \n",
    "        c_s_k_guess[0,1] *= (Zbar_list[i]/Zbar_list[i-1])**1 \n",
    "        c_s_k_guess[1,0] *= (Zbar_list[i]/Zbar_list[i-1])**1\n",
    "#         c_s_k_guess[0,0] *= 0\n",
    "    else:\n",
    "        c_s_k_guess *=0\n",
    "    atom.run_hnc(c_s_k_guess=c_s_k_guess)\n",
    "    atom_list.append( atom )"
   ]
  },
  {
   "cell_type": "code",
   "execution_count": null,
   "id": "33cb4d79",
   "metadata": {},
   "outputs": [],
   "source": [
    "fig, axs = plt.subplots(2, 2, facecolor='w', figsize=(10,8) )\n",
    "\n",
    "atom3_guess = atom2.hnc.c_s_k_matrix + (atom2.hnc.c_s_k_matrix-atom1.hnc.c_s_k_matrix)/(2-1)*(3-2) \n",
    "atom3_guess = atom2.hnc.c_s_k_matrix + (atom2.hnc.c_s_k_matrix/atom1.hnc.c_s_k_matrix)/(2-1)*(3-2) \n",
    "\n",
    "for i in range(2):\n",
    "    for j in range(2):\n",
    "        for k, atom in enumerate(atom_list):\n",
    "            color = plt.cm.viridis(k/len(atom_list))\n",
    "            Z_factor = (Zbar_list[0]/Zbar_list[k])**-1\n",
    "            axs[i, j].plot(atom.hnc.r_array, atom.hnc.c_s_k_matrix[i,j], '--',label= \"Zbar\", color= color)\n",
    "            axs[i, j].plot(atom.hnc.r_array, Z_factor*atom_list[0].hnc.c_s_k_matrix[i,j],'.', label= \"Zbar\", color= color)\n",
    "#             axs[i, j].plot(atom.hnc.r_array, atom2.hnc.c_s_k_matrix[i,j], label= \"Zbar=2\")\n",
    "#             axs[i, j].plot(atom.hnc.r_array, atom6.hnc.c_s_k_matrix[i,j], label= \"Zbar=6\")\n",
    "#         axs[i, j].plot(atom2.hnc.r_array, atom2.hnc.c_s_k_matrix[i,j]-atom1.hnc.c_s_k_matrix[i,j], label= \"Zbar=2/1\")\n",
    "#         axs[i, j].plot(atom2.hnc.r_array, atom3.hnc.c_s_k_matrix[i,j]-atom2.hnc.c_s_k_matrix[i,j], label= \"Zbar=3/2\")\n",
    "#         axs[i, j].plot(atom2.hnc.r_array, atom3_guess[i,j] , 'k--', label= \"Zbar=3 (guess)\")\n",
    "        \n",
    "#         axs[i, j].plot(atom3.hnc.r_array, atom3.hnc.c_s_k_matrix[i,j],'k', label= \"Zbar=3\")\n",
    "#         axs[i, j].plot(atom100.hnc.r_array, atom80.hnc.c_s_k_matrix[i,j]-100/80*atom100.hnc.c_s_k_matrix[i,j], label= \"80/100 eV\")\n",
    "#         axs[i, j].plot(atom100.hnc.r_array, atom60.hnc.c_s_k_matrix[i,j], label= \"60 eV\")\n",
    "         \n",
    "#         axs[i, j].plot(atom100.hnc.r_array, T_rescale[i,j]*atom100.hnc.c_s_k_matrix[i,j], label= \"rescaled 100 eV\")\n",
    "        \n",
    "        axs[i,j].set_xscale('log')\n",
    "#         axs[i, j].set_yscale('symlog', linthresh=0.1)\n",
    "#         axs[i, j].legend()\n",
    "        \n",
    "plt.tight_layout()"
   ]
  },
  {
   "cell_type": "code",
   "execution_count": null,
   "id": "f17f101c",
   "metadata": {},
   "outputs": [],
   "source": []
  },
  {
   "cell_type": "code",
   "execution_count": null,
   "id": "2f659b61",
   "metadata": {},
   "outputs": [],
   "source": [
    "atom.get_cp(ε_derivative=1e-6, ε_table=1e-1, N_table= 2 )"
   ]
  },
  {
   "cell_type": "code",
   "execution_count": null,
   "id": "e66d6294",
   "metadata": {},
   "outputs": [],
   "source": [
    "fig, ax = plt.subplots()\n",
    "\n",
    "# ax.plot(atom.hnc.r_array, atom.hnc.βueff_r_matrix[0,0])\n",
    "ax.plot(atom.hnc.r_array, atom.hnc.h_r_matrix[0,0]+1)\n",
    "# ax.set_yscale('symlog', linthresh=1)"
   ]
  },
  {
   "cell_type": "markdown",
   "id": "935642fe",
   "metadata": {},
   "source": [
    "###### Hydrogen H1\n",
    "\n",
    "c_p = 1.667e+08 [J/m^3/K] = 1.667e+09 [erg/cc/K]\n",
    "\n",
    "\n",
    "c_p^ideal = 2.064e+07 [J/m^3/K] = 2.064e+08 [erg/cc/K]\n",
    "\n",
    "c_v = 1.229e+08 [J/m^3/K] = 1.229e+09 [erg/cc/K]\n",
    "\n",
    "\n",
    "γ = cp/cv = 1.357e+00\n",
    "\n",
    "###### Aluminum Al1\n",
    "\n",
    "c_p = 5.560e+06 [J/m^3/K] = 5.560e+07 [erg/cc/K]\n",
    "\n",
    "c_p^ideal = 2.081e+06 [J/m^3/K] = 2.081e+07 [erg/cc/K]\n",
    "\n",
    "c_v = 3.559e+06 [J/m^3/K] = 3.559e+07 [erg/cc/K]\n",
    "\n",
    "c_p_over_nkB = 6.678\n",
    "\n",
    "c_v_over_nkB = 4.275\n",
    "\n",
    "γ = cp/cv = 1.562e+00\n",
    "\n",
    "##### Carbon C1\n",
    "\n",
    "c_p = 1.005e+09 [J/m^3/K] = 1.005e+10 [erg/cc/K]\n",
    "\n",
    "c_p^ideal = 1.729e+07 [J/m^3/K] = 1.729e+08 [erg/cc/K]\n",
    "\n",
    "c_v = 7.410e+08 [J/m^3/K] = 7.410e+09 [erg/cc/K]\n",
    "\n",
    "γ = cp/cv = 1.357e+00\n",
    "\n",
    "##### Copper Cu1\n",
    "c_p = 6.829e+07 [J/m^3/K] = 6.829e+08 [erg/cc/K]\n",
    "\n",
    "c_p^ideal = 2.930e+06 [J/m^3/K] = 2.930e+07 [erg/cc/K]\n",
    "\n",
    "c_v = 4.460e+07 [J/m^3/K] = 4.460e+08 [erg/cc/K]\n",
    "\n",
    "γ = cp/cv = 1.531e+00"
   ]
  },
  {
   "cell_type": "code",
   "execution_count": null,
   "id": "ed15670f",
   "metadata": {},
   "outputs": [],
   "source": [
    "# Compare to Ichimaru\n",
    "n_AU = ni_cc * (1e2*aB)**3\n",
    "E_over_nkBT = atom.U/( Te*N )\n",
    "P_over_nkBT = atom.P/(Te*n_AU)\n",
    "c_p_over_nkB = C_p_AU/N #c_p_SI_vol/k_B/(ni_cc*1e6)\n",
    "E_over_nkBT, P_over_nkBT, c_p_over_nkB  "
   ]
  },
  {
   "cell_type": "code",
   "execution_count": null,
   "id": "9ff1fa55",
   "metadata": {},
   "outputs": [],
   "source": [
    "# 2x2\n",
    "#(16.078004224152146, 7.958852940677674, 20.391840227664225)\n",
    "# 3x3\n",
    "#(17.29156071613095, 9.41653222069282, 19.954770080816058)\n",
    "# 4x4\n",
    "#(17.29156071613095, 9.41653222069282, 20.31577883096223)\n",
    "# 6x6\n",
    "#(17.29156071613095, 9.41653222069282, 20.341775951597302)\n",
    "\n"
   ]
  },
  {
   "cell_type": "code",
   "execution_count": null,
   "id": "f9d9c237",
   "metadata": {},
   "outputs": [],
   "source": [
    "#cp units are J/K/m^3"
   ]
  },
  {
   "cell_type": "code",
   "execution_count": null,
   "id": "d6eba82d",
   "metadata": {},
   "outputs": [],
   "source": [
    "c_p_SI_vol *J_to_erg*1e-6 # from J/K/m^3 to erg/K/cc"
   ]
  },
  {
   "cell_type": "code",
   "execution_count": null,
   "id": "6c123c08",
   "metadata": {},
   "outputs": [],
   "source": [
    "(c_p_over_nkB*ni_cc * k_B*1e6)/1e8 # in erg/"
   ]
  },
  {
   "cell_type": "code",
   "execution_count": null,
   "id": "933aa883",
   "metadata": {},
   "outputs": [],
   "source": [
    "# Ideal\n",
    "# (1.503495387998133, 1.0020009999999997, 2.5033223241241656)\n"
   ]
  },
  {
   "cell_type": "markdown",
   "id": "03443a5d",
   "metadata": {
    "tags": []
   },
   "source": [
    "# βu_eff matching"
   ]
  },
  {
   "cell_type": "code",
   "execution_count": null,
   "id": "ed1cfac5",
   "metadata": {},
   "outputs": [],
   "source": [
    "from pandas import read_csv\n",
    "from scipy.interpolate import interp1d\n",
    "# luke_file = '/home/zach/plasma/atomic_forces/data/Al_T0p5_tab.lammps.PAIR'\n",
    "luke_file = '/home/zach/plasma/atomic_forces/data/Al_T1_tab.lammps.PAIR'\n",
    "\n",
    "luke_data = read_csv(luke_file ,delim_whitespace=True,header=3, names=['r [A]','V [eV]','F [eV/A]'])\n",
    "# luke_r, luke_βV = 1e-10/aB/r_s*luke_data['r [A]'], 1/(Te/eV)*luke_data['V [eV]']\n",
    "luke_r, luke_βV = 1e-8/r_s*luke_data['r [A]'], 1/(Te/eV)*luke_data['V [eV]']\n",
    "luke_βV_function = interp1d(luke_r, luke_βV,fill_value='extrapolate',bounds_error=False)"
   ]
  },
  {
   "cell_type": "code",
   "execution_count": null,
   "id": "88547e04",
   "metadata": {},
   "outputs": [],
   "source": [
    "from scipy.optimize import curve_fit\n",
    "\n",
    "class βu_fit():\n",
    "    def __init__(self, func, r_array, y_data, initial_guess):\n",
    "        self.r = r_array\n",
    "        self.y = y_data\n",
    "        self.y_vals = curve_fit(func, r_array, y_data, maxfev=int(1e5), p0=initial_guess)\n",
    "        self.y_fit  = func(r_array, *self.y_vals[0])\n",
    "        self.err = np.linalg.norm(self.y_fit-self.y)\n",
    "        print(func.__name__ + \" error: {0:.3e} \".format(self.err))\n",
    "\n",
    "def yukawa_plus(r, a, b, c, d):\n",
    "    return  a/r*np.exp(-b*r)/(1+np.exp(c*(r-d)))\n",
    "\n",
    "def yukawa_plus_gaussian(r, a ,b ,c, d ,e, f, g):\n",
    "    return  a/r*np.exp(-b*r)/(1+np.exp(c*(r-d))) + e*np.exp(-(f-r)**2/g)\n",
    "\n",
    "def yukawa_plus_cos(r, a ,b ,c, d , h, i, j, k, l):\n",
    "    return  a/r*np.exp(-b*r)/(1+np.exp(c*(r-d))) + h*np.cos((r-i)*j*np.exp(-k*r))*np.exp(-l*r)\n",
    "\n",
    "def yukawa_plus_gaussian_cos(r, a ,b ,c, d ,e, f, g, h, i, j, k, l):\n",
    "    return  a/r*np.exp(-b*r)/(1+np.exp(c*(r-d))) + e*np.cos((r-f)*g*np.exp(-h*r))*np.exp(-i*r) + j*np.exp(-(k-r)**2/l)\n"
   ]
  },
  {
   "cell_type": "code",
   "execution_count": null,
   "id": "01e47bb9",
   "metadata": {},
   "outputs": [],
   "source": [
    "atom = atom_highres"
   ]
  },
  {
   "cell_type": "code",
   "execution_count": null,
   "id": "1b257ec4",
   "metadata": {},
   "outputs": [],
   "source": [
    "atom.invert_HNC_OZ([1])\n",
    "fit1 = βu_fit(yukawa_plus, atom.r_array, atom.βueff_r_matrix[0,0], initial_guess=[   atomqsp.Γii, atomqsp.get_κ(),2 , 1])\n",
    "try: \n",
    "    fit2 = βu_fit(yukawa_plus_cos, atom.r_array, atom.βueff_r_matrix[0,0], initial_guess=[  *fit1.y_vals[0], 1, 0.01, 1 , 10, 2])\n",
    "except:\n",
    "    pass\n",
    "try:\n",
    "    fit3 = βu_fit(yukawa_plus_gaussian_cos, atom.r_array, atom.βueff_r_matrix[0,0], initial_guess=[  *fit2.y_vals[0], -1, 1.9, 1])\n",
    "except:\n",
    "    pass"
   ]
  },
  {
   "cell_type": "code",
   "execution_count": null,
   "id": "515a162b",
   "metadata": {},
   "outputs": [],
   "source": [
    "luke_r"
   ]
  },
  {
   "cell_type": "code",
   "execution_count": null,
   "id": "f90a68e6",
   "metadata": {},
   "outputs": [],
   "source": [
    "fig, ax = plt.subplots(figsize=(8,6),facecolor='w')\n",
    "fig.suptitle(r\"{0} $T=${1:.1f} eV, $r_i$={2:.2f}\".format(case_id, Te/eV, atomqsp.ri), fontsize=20)\n",
    "\n",
    "\n",
    "yukawa_matrix = (atom.Gamma[:,:,np.newaxis]/atom.r_array * np.exp(-atom.r_array*atomqsp.get_κ())[np.newaxis,np.newaxis,:] ) [:-1,:-1]\n",
    "coulomb_matrix = (atom.Gamma[:,:,np.newaxis]/atom.r_array) [:-1,:-1]\n",
    "\n",
    "ax.plot(atom.r_array, atom.βu_r_matrix[0,0], 'k--',label='Initial')\n",
    "ax.plot(atom.r_array, yukawa_matrix[0,0],'k-.', label=\"Yukawa\")\n",
    "\n",
    "ax.plot(atom.r_array, atom.βueff_r_matrix[0,0],color=colors[0], label='Effective')    \n",
    "ax.plot(luke_r, luke_βV,'r-', label='Luke Force Match')\n",
    "\n",
    "ax.set_ylim(np.min([-10, 2*np.min(atom.βueff_r_matrix[0,0])]), np.max([1e3, 2*np.max(atom.βueff_r_matrix[0,0])]))\n",
    "ax.tick_params(labelsize=20)\n",
    "ax.set_xlabel(r\"$r/r_s$\",fontsize=20)\n",
    "ax.set_ylabel(r'$\\beta u(r/r_s)$',fontsize=20)\n",
    "ax.set_xlabel(r'$r/r_s$',fontsize=20)\n",
    "\n",
    "ax.set_xlim(0, 5)\n",
    "ax.set_yscale('symlog',linthresh=1)\n",
    "ax.tick_params(labelsize=15)\n",
    "ax.legend(fontsize=10)\n",
    "fig.tight_layout()"
   ]
  },
  {
   "cell_type": "code",
   "execution_count": null,
   "id": "5ae27008",
   "metadata": {},
   "outputs": [],
   "source": []
  },
  {
   "cell_type": "code",
   "execution_count": null,
   "id": "ad78ee98",
   "metadata": {},
   "outputs": [],
   "source": []
  },
  {
   "cell_type": "code",
   "execution_count": null,
   "id": "7bf70745",
   "metadata": {},
   "outputs": [],
   "source": []
  }
 ],
 "metadata": {
  "kernelspec": {
   "display_name": "Python 3 (ipykernel)",
   "language": "python",
   "name": "python3"
  },
  "language_info": {
   "codemirror_mode": {
    "name": "ipython",
    "version": 3
   },
   "file_extension": ".py",
   "mimetype": "text/x-python",
   "name": "python",
   "nbconvert_exporter": "python",
   "pygments_lexer": "ipython3",
   "version": "3.10.6"
  }
 },
 "nbformat": 4,
 "nbformat_minor": 5
}
