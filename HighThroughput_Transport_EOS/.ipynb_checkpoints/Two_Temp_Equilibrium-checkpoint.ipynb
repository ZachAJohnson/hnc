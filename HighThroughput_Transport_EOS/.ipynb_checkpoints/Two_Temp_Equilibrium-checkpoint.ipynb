{
 "cells": [
  {
   "cell_type": "code",
   "execution_count": 1,
   "id": "46414957-0607-4e06-ac19-f5c71454421a",
   "metadata": {
    "tags": []
   },
   "outputs": [],
   "source": [
    "import numpy as np\n",
    "\n",
    "from hnc.hnc.constants import *\n",
    "from hnc.hnc.misc import *"
   ]
  },
  {
   "cell_type": "code",
   "execution_count": 6,
   "id": "b15081d0-142a-4a23-9e3f-c0c20fd66687",
   "metadata": {
    "tags": []
   },
   "outputs": [
    {
     "name": "stdout",
     "output_type": "stream",
     "text": [
      "Length L_AU=15.0014588717178 = 15.0014588717178\n",
      "dt is in range: [0.001201295385005376, 0.002402590770010752] [fs]\n"
     ]
    }
   ],
   "source": [
    "Γi = 50\n",
    "Γe = 1\n",
    "\n",
    "Ni = 1000\n",
    "Ne = 1000\n",
    "\n",
    "Ti = 1*eV_to_AU\n",
    "Te = 50*eV_to_AU\n",
    "\n",
    "Zi, Ze = 1, 1\n",
    "\n",
    "ri = Zi**2/Ti/Γi\n",
    "re = Ze**2/Te/Γe\n",
    "\n",
    "ni = n_from_rs(ri)\n",
    "ne = n_from_rs(re)\n",
    "\n",
    "print( f\"Length L_AU={  (Ni/ni)**(1/3) } = { (Ne/ne)**(1/3) }\" )\n",
    "\n",
    "m_e_heavy = m_p/1\n",
    "\n",
    "ωe = np.sqrt(4*π*ne/m_e_heavy)\n",
    "τe_range_AU = [0.005, 0.01] * 1/ωe\n",
    "print( \"dt is in range: [{0}, {1}] [fs]\".format(*τe_range_AU*AU_to_s*1e15))"
   ]
  },
  {
   "cell_type": "code",
   "execution_count": null,
   "id": "def69aca-30c7-4b33-bde6-ae48485bb2b7",
   "metadata": {},
   "outputs": [],
   "source": []
  }
 ],
 "metadata": {
  "kernelspec": {
   "display_name": "Python 3 (ipykernel)",
   "language": "python",
   "name": "python3"
  },
  "language_info": {
   "codemirror_mode": {
    "name": "ipython",
    "version": 3
   },
   "file_extension": ".py",
   "mimetype": "text/x-python",
   "name": "python",
   "nbconvert_exporter": "python",
   "pygments_lexer": "ipython3",
   "version": "3.10.6"
  }
 },
 "nbformat": 4,
 "nbformat_minor": 5
}
