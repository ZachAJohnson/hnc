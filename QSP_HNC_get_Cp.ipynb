{
 "cells": [
  {
   "cell_type": "markdown",
   "id": "415426e0",
   "metadata": {},
   "source": [
    "# Import"
   ]
  },
  {
   "cell_type": "code",
   "execution_count": 1,
   "id": "2e5c11ba",
   "metadata": {},
   "outputs": [],
   "source": [
    "import numpy as np\n",
    "import matplotlib.pyplot as plt\n",
    "\n",
    "from CMEP import CMEP_Atom\n",
    "from hnc_Ng import  HNC_solver\n",
    "from qsps import *\n",
    "\n",
    "prop_cycle = plt.rcParams['axes.prop_cycle']\n",
    "colors = prop_cycle.by_key()['color']\n",
    "        \n",
    "        \n",
    "from IPython.core.display import HTML\n",
    "HTML(\"\"\"\n",
    "<style>\n",
    ".output_png {\n",
    "    display: table-cell;\n",
    "    text-align: center;\n",
    "    vertical-align: middle;\n",
    "}\n",
    "</style>\n",
    "\"\"\")\n",
    "\n",
    "Ha_to_J = 4.359744e-18\n",
    "k_B = 1.380649e-23 \n",
    "m_p = 1.672621898e-27 # kg\n",
    "eV_to_K = 11604.5250061598\n",
    "J_to_erg = 1e7\n",
    "Ha_to_erg = Ha_to_J*J_to_erg"
   ]
  },
  {
   "cell_type": "markdown",
   "id": "01048544",
   "metadata": {},
   "source": [
    "# Function that sets up HNC QSP "
   ]
  },
  {
   "cell_type": "code",
   "execution_count": 2,
   "id": "23c02987",
   "metadata": {},
   "outputs": [],
   "source": [
    "def set_hnc(n_in_per_cc, T, Z, A, Zstar, c_k_guess=None , which_Tij='thermal',\n",
    "            oz_type='standard', method='kryov', add_bridge=False, bridge='yukawa',\n",
    "            pseudopotential=False, r_c=0.6, no_coupling=False, N_bins = 500, R_max=5):\n",
    "    \n",
    "    n_in_AU = n_in_per_cc*1e6 *aB**3\n",
    "    ri = QSP_HNC.rs_from_n(n_in_AU)\n",
    "    qsp = QSP_HNC(Z, A, Zstar, T, T, ri, Zstar*n_in_AU, which_Tij=which_Tij, r_c=r_c)\n",
    "\n",
    "    N_species = 2\n",
    "    Gamma = np.array(  [[qsp.Γii,  qsp.Γei],\n",
    "                        [qsp.Γei,  qsp.Γee]])\n",
    "\n",
    "\n",
    "    names = [\"Ion-1\", \"Electron\", ] \n",
    "    kappa = 1\n",
    "    \n",
    "    rhos = np.array([  3/(4*np.pi), Zstar*3/(4*np.pi) ])\n",
    "    temps = np.array([qsp.Ti, qsp.Te_c])\n",
    "    masses= np.array([qsp.m_i, m_e])\n",
    "    hnc1 = HNC_solver(N_species, Gamma, rhos, temps, masses ,\n",
    "                     kappa_multiscale=10, R_max=R_max, N_bins=N_bins, \n",
    "                      names=names, dst_type=3, oz_method=oz_type)\n",
    "\n",
    "    if pseudopotential==True:\n",
    "        βvei = qsp.βvei_atomic(hnc1.r_array)\n",
    "    else:\n",
    "        βvei = qsp.βvei(hnc1.r_array)\n",
    "    βu_r_matrix = np.array([[qsp.βvii(hnc1.r_array), βvei],\n",
    "                            [βvei, qsp.βvee(hnc1.r_array)]])\n",
    "    if no_coupling:\n",
    "        βu_r_matrix[0,1]=0\n",
    "        βu_r_matrix[1,0]=0\n",
    "    \n",
    "    if add_bridge:\n",
    "        if bridge=='ocp':\n",
    "            βu_r_matrix[0,0] = βu_r_matrix[0,0] - hnc1.Bridge_function_OCP(hnc1.r_array, qsp.Γii)\n",
    "        elif bridge=='yukawa':\n",
    "            βu_r_matrix[0,0] = βu_r_matrix[0,0] - hnc1.Bridge_function_Yukawa(hnc1.r_array, qsp.Γii, qsp.get_κ())\n",
    "    hnc1.set_βu_matrix(βu_r_matrix)\n",
    "    hnc1.initialize_c_k()\n",
    "#     print(\"c asymm: \", hnc1.c_s_k_matrix[1,0]/hnc1.c_s_k_matrix[0,1])\n",
    "    if c_k_guess is not None:\n",
    "        for i in range(N_species):\n",
    "            for j in range(N_species):\n",
    "                if (c_k_guess[i,j]!=np.zeros(hnc1.N_bins)).all():\n",
    "#                 if i==j:\n",
    "                    hnc1.c_k_matrix[i,j] = c_k_guess[i,j]\n",
    "                    hnc1.c_r_matrix[i,j] = hnc1.FT_k_2_r(hnc1.c_k_matrix[i,j])\n",
    "                    hnc1.c_s_k_matrix[i,j] = hnc1.c_k_matrix[i,j] + hnc1.βu_l_k_matrix[i,j]\n",
    "                    hnc1.c_s_r_matrix[i,j] = hnc1.c_r_matrix[i,j] + hnc1.βu_l_r_matrix[i,j]\n",
    "\n",
    "#     print(\"c asymm: \", hnc1.c_s_k_matrix[1,0]/hnc1.c_s_k_matrix[0,1])\n",
    "    hnc1.set_C_matrix()\n",
    "\n",
    "    return hnc1, qsp"
   ]
  },
  {
   "cell_type": "markdown",
   "id": "48448c02",
   "metadata": {},
   "source": [
    "## Load TCCW Cases"
   ]
  },
  {
   "cell_type": "code",
   "execution_count": 3,
   "id": "754dd9d8",
   "metadata": {},
   "outputs": [],
   "source": [
    "AU_to_Pa  = 2.9421015697e13 \n",
    "Pa_to_bar = 1e-5\n",
    "AU_to_bar = AU_to_Pa*Pa_to_bar "
   ]
  },
  {
   "cell_type": "code",
   "execution_count": 4,
   "id": "0b094fa9",
   "metadata": {},
   "outputs": [
    {
     "name": "stdout",
     "output_type": "stream",
     "text": [
      "\n",
      "______________________________\n",
      "Case num: 0 Case ID: H1\n",
      "Te = 2.000e+00 eV, n_i = 5.980e+23 1/cc, r_c/r_s = 0.371\n",
      "Te = 2.321e+04 K, ρ = 1.008e+00 [g/cc] \n",
      "P  = 2.810e+06 [bar] = 9.551e-03 [AU]\n"
     ]
    }
   ],
   "source": [
    "mixture_file = \"/home/zach/plasma/hnc/data/TCCW_single_species_data.csv\"\n",
    "tccw_mixture_data = read_csv(mixture_file)\n",
    "tccw_cases = [tccw_mixture_data.iloc[n] for n in range(len(tccw_mixture_data))]\n",
    "\n",
    "case_successes = {}\n",
    "SVT_case_successes = {}\n",
    "# R_max = 3\n",
    "# N_bins = 100\n",
    "max_attempts=1\n",
    "tccw_case = tccw_cases[0]\n",
    "α = 0.1\n",
    "case_converged=False\n",
    "case_attempts=0\n",
    "case_num= tccw_case[' ']\n",
    "case_id = tccw_case['Case ID']\n",
    "ni_cc = tccw_case['Number Density [N/cc]']\n",
    "Te = tccw_case['Temperature [eV]']*eV_to_AU\n",
    "Ti = Te\n",
    "Z = tccw_case['Atomic Number']\n",
    "Zstar = tccw_case['Zbar (TFDW)']\n",
    "P_GP_AU  = tccw_case['p (Bar)']/AU_to_bar\n",
    "A = tccw_case['Atomic Weight [a.u.]']\n",
    "r_s_cc = tccw_case['Wigner-Seitz Radius [cm]']\n",
    "r_c = tccw_case['Average-Bound Radius [cm]']/r_s_cc\n",
    "if r_c>1:\n",
    "    r_c=1e-5\n",
    "print('\\n______________________________\\nCase num: {0} Case ID: {1}'.format(case_num, case_id))\n",
    "print(\"Te = {0:.3e} eV, n_i = {1:.3e} 1/cc, r_c/r_s = {2:.3f}\".format(Te/eV_to_AU, ni_cc, r_c))\n",
    "print(\"Te = {0:.3e} K, ρ = {1:.3e} [g/cc] \".format(Te/eV_to_AU*eV_to_K, 1e3*ni_cc*m_p*A ))\n",
    "print(\"P  = {0:.3e} [bar] = {1:.3e} [AU]\".format(P_GP_AU*AU_to_bar, P_GP_AU))"
   ]
  },
  {
   "cell_type": "markdown",
   "id": "ca90c7da",
   "metadata": {},
   "source": [
    "# Make atom"
   ]
  },
  {
   "cell_type": "code",
   "execution_count": 5,
   "id": "faa4315b",
   "metadata": {},
   "outputs": [
    {
     "data": {
      "text/plain": [
       "2.0"
      ]
     },
     "execution_count": 5,
     "metadata": {},
     "output_type": "execute_result"
    }
   ],
   "source": [
    "Te/eV_to_AU"
   ]
  },
  {
   "cell_type": "code",
   "execution_count": 6,
   "id": "368f7435",
   "metadata": {},
   "outputs": [],
   "source": [
    "def get_U_P(atom, qsp):\n",
    "    r, dr = qsp.ri*atom.r_array, qsp.ri*atom.del_r\n",
    "    Vol_AU = 4/3 * π * (R_max*qsp.ri)**3\n",
    "    g_r, βveff_r, T, n_AU = atom.heff_r_matrix[0,0]+1, atom.βueff_r_matrix[0,0], qsp.Ti, qsp.ni\n",
    "    veff_r = βveff_r*T\n",
    "    F = -np.gradient(veff_r, r)\n",
    "    veff_r = βveff_r*T\n",
    "\n",
    "    N = Vol_AU*n_AU\n",
    "    \n",
    "    U_ideal = 3/2 * N * T\n",
    "    P_ideal = n_AU * T\n",
    "    \n",
    "    U_ex    = 2*π*n_AU*N * np.sum( veff_r * g_r * r**2 * dr, axis=0 )\n",
    "    P_ex    = 2*π/3 * n_AU**2 * np.sum( F * g_r * r**3 * dr, axis=0)\n",
    "    return U_ideal + U_ex, P_ideal + P_ex\n",
    "\n",
    "def get_H(atom, qsp):\n",
    "    Vol_AU = 4/3 * π * (R_max*qsp.ri)**3\n",
    "    U, P = get_U_P(atom, qsp)\n",
    "    return U + P*Vol_AU\n",
    "\n",
    "# get_U_P(atom, atomqsp), get_H(atom, atomqsp)"
   ]
  },
  {
   "cell_type": "code",
   "execution_count": 17,
   "id": "b977e4bc",
   "metadata": {},
   "outputs": [
    {
     "name": "stdout",
     "output_type": "stream",
     "text": [
      "0: Initial condition Total Error: 2.439e+00\n",
      "Exiting status 0, reverting to best index so far: 75\n",
      "Final iter:77, Total Error: 2.687e-08\n",
      "0: Initial condition Total Error: 9.929e-03\n",
      "Exiting status 0, reverting to best index so far: 45\n",
      "Final iter:47, Total Error: 2.668e-08\n",
      "0: Initial condition Total Error: 1.133e-02\n",
      "Exiting status 0, reverting to best index so far: 51\n",
      "Final iter:53, Total Error: 2.461e-08\n",
      "0: Initial condition Total Error: 1.138e-02\n",
      "Exiting status 0, reverting to best index so far: 52\n",
      "Final iter:54, Total Error: 2.453e-08\n",
      "0: Initial condition Total Error: 9.636e-03\n",
      "Exiting status 0, reverting to best index so far: 45\n",
      "Final iter:47, Total Error: 2.454e-08\n",
      "\n",
      "_____________________________\n",
      "Heat Capacity Results \n",
      "c_p = 1.965e+07 [J/m^3/K] = 1.965e+08 [erg/cc/K]\n",
      "c_p^ideal = 2.064e+07 [J/m^3/K] = 2.064e+08 [erg/cc/K]\n",
      "\n",
      "c_v = 1.575e+07 [J/m^3/K] = 1.575e+08 [erg/cc/K]\n",
      "γ = cp/cv = 1.248e+00\n"
     ]
    }
   ],
   "source": [
    "atom2 = CMEP_Atom(Z, A, ni_cc, Ti/eV_to_AU, Te/eV_to_AU, Zbar=Zstar,\n",
    "                  βu_options = {'add_bridge':True},\n",
    "                  qsp_options={'r_c':r_c}, \n",
    "                  hnc_options={'kappa_multiscale':10})\n",
    "atom2.get_cp(ε_derivative=1e-6, ε_table=1e-2, N_table= 2 )"
   ]
  },
  {
   "cell_type": "code",
   "execution_count": 11,
   "id": "c59697d9",
   "metadata": {},
   "outputs": [
    {
     "name": "stdout",
     "output_type": "stream",
     "text": [
      "5.98e+23 0.0735024\n",
      "0: Initial condition Total Error: 2.439e+00\n",
      "1: Change in c_r: 6.867e-02, HNC Error: 2.822e-02, Total Error: 1.522e+00\n",
      "2: Change in c_r: 5.821e-02, HNC Error: 1.840e-02, Total Error: 9.569e-01\n",
      "3: Change in c_r: 4.947e-02, HNC Error: 1.338e-02, Total Error: 6.113e-01\n",
      "4: Change in c_r: 4.197e-02, HNC Error: 1.034e-02, Total Error: 3.995e-01\n",
      "5: Change in c_r: 3.544e-02, HNC Error: 8.297e-03, Total Error: 2.686e-01\n",
      "6: Change in c_r: 2.977e-02, HNC Error: 6.802e-03, Total Error: 1.861e-01\n",
      "7: Change in c_r: 2.486e-02, HNC Error: 5.638e-03, Total Error: 1.328e-01\n",
      "8: Change in c_r: 2.064e-02, HNC Error: 4.691e-03, Total Error: 9.726e-02\n",
      "9: Change in c_r: 1.706e-02, HNC Error: 3.900e-03, Total Error: 7.279e-02\n",
      "10: Change in c_r: 1.403e-02, HNC Error: 3.233e-03, Total Error: 5.541e-02\n",
      "11: Change in c_r: 1.150e-02, HNC Error: 2.670e-03, Total Error: 4.273e-02\n",
      "12: Change in c_r: 9.391e-03, HNC Error: 2.196e-03, Total Error: 3.329e-02\n",
      "13: Change in c_r: 7.650e-03, HNC Error: 1.799e-03, Total Error: 2.613e-02\n",
      "14: Change in c_r: 6.218e-03, HNC Error: 1.470e-03, Total Error: 2.063e-02\n",
      "15: Change in c_r: 5.045e-03, HNC Error: 1.197e-03, Total Error: 1.636e-02\n",
      "16: Change in c_r: 4.087e-03, HNC Error: 9.729e-04, Total Error: 1.301e-02\n",
      "17: Change in c_r: 3.306e-03, HNC Error: 7.891e-04, Total Error: 1.038e-02\n",
      "18: Change in c_r: 2.672e-03, HNC Error: 6.390e-04, Total Error: 8.290e-03\n",
      "19: Change in c_r: 2.158e-03, HNC Error: 5.168e-04, Total Error: 6.634e-03\n",
      "20: Change in c_r: 1.741e-03, HNC Error: 4.175e-04, Total Error: 5.314e-03\n",
      "21: Change in c_r: 1.404e-03, HNC Error: 3.371e-04, Total Error: 4.261e-03\n",
      "22: Change in c_r: 1.132e-03, HNC Error: 2.719e-04, Total Error: 3.419e-03\n",
      "23: Change in c_r: 9.123e-04, HNC Error: 2.193e-04, Total Error: 2.745e-03\n",
      "24: Change in c_r: 7.349e-04, HNC Error: 1.767e-04, Total Error: 2.204e-03\n",
      "25: Change in c_r: 5.919e-04, HNC Error: 1.424e-04, Total Error: 1.771e-03\n",
      "26: Change in c_r: 4.766e-04, HNC Error: 1.147e-04, Total Error: 1.423e-03\n",
      "27: Change in c_r: 3.837e-04, HNC Error: 9.235e-05, Total Error: 1.144e-03\n",
      "28: Change in c_r: 3.089e-04, HNC Error: 7.435e-05, Total Error: 9.199e-04\n",
      "29: Change in c_r: 2.486e-04, HNC Error: 5.986e-05, Total Error: 7.397e-04\n",
      "30: Change in c_r: 2.001e-04, HNC Error: 4.818e-05, Total Error: 5.949e-04\n",
      "31: Change in c_r: 1.610e-04, HNC Error: 3.878e-05, Total Error: 4.784e-04\n",
      "32: Change in c_r: 1.296e-04, HNC Error: 3.121e-05, Total Error: 3.848e-04\n",
      "33: Change in c_r: 1.043e-04, HNC Error: 2.511e-05, Total Error: 3.095e-04\n",
      "34: Change in c_r: 8.392e-05, HNC Error: 2.021e-05, Total Error: 2.490e-04\n",
      "35: Change in c_r: 6.753e-05, HNC Error: 1.626e-05, Total Error: 2.003e-04\n",
      "36: Change in c_r: 5.433e-05, HNC Error: 1.309e-05, Total Error: 1.611e-04\n",
      "37: Change in c_r: 4.372e-05, HNC Error: 1.053e-05, Total Error: 1.296e-04\n",
      "38: Change in c_r: 3.518e-05, HNC Error: 8.472e-06, Total Error: 1.043e-04\n",
      "39: Change in c_r: 2.830e-05, HNC Error: 6.817e-06, Total Error: 8.389e-05\n",
      "40: Change in c_r: 2.277e-05, HNC Error: 5.485e-06, Total Error: 6.749e-05\n",
      "41: Change in c_r: 1.832e-05, HNC Error: 4.413e-06, Total Error: 5.430e-05\n",
      "42: Change in c_r: 1.474e-05, HNC Error: 3.551e-06, Total Error: 4.369e-05\n",
      "43: Change in c_r: 1.186e-05, HNC Error: 2.857e-06, Total Error: 3.515e-05\n",
      "44: Change in c_r: 9.543e-06, HNC Error: 2.299e-06, Total Error: 2.828e-05\n",
      "45: Change in c_r: 7.678e-06, HNC Error: 1.849e-06, Total Error: 2.275e-05\n",
      "46: Change in c_r: 6.177e-06, HNC Error: 1.488e-06, Total Error: 1.830e-05\n",
      "47: Change in c_r: 4.970e-06, HNC Error: 1.197e-06, Total Error: 1.473e-05\n",
      "48: Change in c_r: 3.999e-06, HNC Error: 9.632e-07, Total Error: 1.185e-05\n",
      "49: Change in c_r: 3.217e-06, HNC Error: 7.749e-07, Total Error: 9.533e-06\n",
      "50: Change in c_r: 2.588e-06, HNC Error: 6.235e-07, Total Error: 7.669e-06\n",
      "51: Change in c_r: 2.083e-06, HNC Error: 5.016e-07, Total Error: 6.171e-06\n",
      "52: Change in c_r: 1.676e-06, HNC Error: 4.036e-07, Total Error: 4.965e-06\n",
      "53: Change in c_r: 1.348e-06, HNC Error: 3.247e-07, Total Error: 3.994e-06\n",
      "54: Change in c_r: 1.085e-06, HNC Error: 2.613e-07, Total Error: 3.214e-06\n",
      "55: Change in c_r: 8.726e-07, HNC Error: 2.102e-07, Total Error: 2.586e-06\n",
      "56: Change in c_r: 7.021e-07, HNC Error: 1.691e-07, Total Error: 2.080e-06\n",
      "57: Change in c_r: 5.649e-07, HNC Error: 1.361e-07, Total Error: 1.674e-06\n",
      "58: Change in c_r: 4.545e-07, HNC Error: 1.095e-07, Total Error: 1.347e-06\n",
      "59: Change in c_r: 3.657e-07, HNC Error: 8.808e-08, Total Error: 1.083e-06\n",
      "60: Change in c_r: 2.942e-07, HNC Error: 7.086e-08, Total Error: 8.716e-07\n",
      "61: Change in c_r: 2.367e-07, HNC Error: 5.701e-08, Total Error: 7.013e-07\n",
      "62: Change in c_r: 1.904e-07, HNC Error: 4.587e-08, Total Error: 5.642e-07\n",
      "63: Change in c_r: 1.532e-07, HNC Error: 3.691e-08, Total Error: 4.539e-07\n",
      "64: Change in c_r: 1.233e-07, HNC Error: 2.969e-08, Total Error: 3.652e-07\n",
      "65: Change in c_r: 9.918e-08, HNC Error: 2.389e-08, Total Error: 2.938e-07\n",
      "66: Change in c_r: 7.979e-08, HNC Error: 1.922e-08, Total Error: 2.364e-07\n",
      "67: Change in c_r: 6.420e-08, HNC Error: 1.546e-08, Total Error: 1.902e-07\n",
      "68: Change in c_r: 5.165e-08, HNC Error: 1.244e-08, Total Error: 1.530e-07\n",
      "69: Change in c_r: 4.156e-08, HNC Error: 1.001e-08, Total Error: 1.231e-07\n",
      "70: Change in c_r: 3.344e-08, HNC Error: 8.054e-09, Total Error: 9.906e-08\n",
      "71: Change in c_r: 2.690e-08, HNC Error: 6.480e-09, Total Error: 7.970e-08\n",
      "72: Change in c_r: 2.164e-08, HNC Error: 5.213e-09, Total Error: 6.413e-08\n",
      "73: Change in c_r: 1.741e-08, HNC Error: 4.194e-09, Total Error: 5.159e-08\n",
      "74: Change in c_r: 1.401e-08, HNC Error: 3.375e-09, Total Error: 4.151e-08\n",
      "75: Change in c_r: 1.127e-08, HNC Error: 2.715e-09, Total Error: 3.340e-08\n",
      "76: Change in c_r: 9.069e-09, HNC Error: 2.184e-09, Total Error: 2.687e-08\n",
      "Exiting status 0, reverting to best index so far: 75\n",
      "Final iter:77, Total Error: 2.687e-08\n",
      "CPU times: user 9.49 s, sys: 43.3 ms, total: 9.54 s\n",
      "Wall time: 9.52 s\n"
     ]
    }
   ],
   "source": [
    "%%time\n",
    "N_bins, R_max = 500, 5\n",
    "\n",
    "N_table = 1\n",
    "atom_table = np.zeros((N_table,N_table)).tolist()\n",
    "H_table = np.zeros((N_table,N_table))\n",
    "P_table = np.zeros((N_table,N_table))\n",
    "U_table = np.zeros((N_table,N_table))\n",
    "T_table = np.zeros((N_table,N_table))\n",
    "ε = 0\n",
    "ni_list = [ni_cc*(1-ε), ni_cc*(1+ε)]\n",
    "Te_list = [Te*(1-ε), Te*(1+ε)]\n",
    "\n",
    "ni_list = ni_cc*np.linspace(1-ε, 1+ε, num = N_table)\n",
    "Te_list = Te*np.linspace(1-ε, 1+ε, num = N_table)\n",
    "\n",
    "for i, ni_i in enumerate(ni_list):\n",
    "    for j, Te_j in enumerate(Te_list):\n",
    "        print(ni_i, Te_j)\n",
    "        atom, atomqsp = set_hnc(ni_i, Te_j, Z, A, Zstar, \n",
    "                                    pseudopotential=True, oz_type='svt',r_c=r_c, \n",
    "                                    add_bridge=True, bridge='ocp', N_bins=N_bins, R_max=R_max)\n",
    "        if (i,j) == (0, 0):\n",
    "            atom.c_s_k_matrix *= 0\n",
    "            c_s_k_guess = atom.c_s_k_matrix.copy()\n",
    "        if (i,j) != (0,0):\n",
    "            atom.c_s_k_matrix = c_s_k_guess.copy()\n",
    "        \n",
    "        atom.HNC_solve(alpha_method='fixed', alpha_Picard = 0.5, tol=1e-8, alpha_Ng=0, \n",
    "                       iters_to_wait=1e4, iters_to_use=2, num_iterations=1e3, verbose=True)\n",
    "        if atom.tot_err_list[-1]>1e-7:\n",
    "            options={'eps':1e-6,'maxfev':10000,'factor':100,'xtol':1e-8} \n",
    "            newton_kwargs= {'method':'hybr', 'options':options} \n",
    "            sol = atom.HNC_newton_solve( **newton_kwargs)\n",
    "\n",
    "        atom.invert_HNC_OZ([1])    \n",
    "        \n",
    "        atom.H = get_H(atom, atomqsp)\n",
    "        atom.U, atom.P = get_U_P(atom, atomqsp)\n",
    "        \n",
    "        H_table[i][j] = atom.H\n",
    "        U_table[i][j] = atom.U\n",
    "        P_table[i][j] = atom.P\n",
    "        T_table[i][j] = Te_j\n",
    "        atom_table[i][j] = atom"
   ]
  },
  {
   "cell_type": "code",
   "execution_count": 38,
   "id": "5ce7fe12",
   "metadata": {},
   "outputs": [
    {
     "data": {
      "text/plain": [
       "array([-0.44629514, -0.42936193, -0.41259567, -0.39601648, -0.37964454,\n",
       "       -0.36349768, -0.34759367, -0.33194797, -0.31657591, -0.30149057,\n",
       "       -0.28670487, -0.27222956, -0.25807519, -0.24425025, -0.23076303,\n",
       "       -0.21761987, -0.20482691, -0.19238846, -0.18030866, -0.16858996])"
      ]
     },
     "execution_count": 38,
     "metadata": {},
     "output_type": "execute_result"
    }
   ],
   "source": [
    "atom.h_r_matrix[0,0][100:120]"
   ]
  },
  {
   "cell_type": "code",
   "execution_count": 47,
   "id": "56bb676d",
   "metadata": {},
   "outputs": [
    {
     "data": {
      "text/plain": [
       "[<matplotlib.lines.Line2D at 0x7fbb24cad0d0>]"
      ]
     },
     "execution_count": 47,
     "metadata": {},
     "output_type": "execute_result"
    },
    {
     "data": {
      "image/png": "[encoded data removed]",
      "text/plain": [
       "<Figure size 640x480 with 1 Axes>"
      ]
     },
     "metadata": {},
     "output_type": "display_data"
    }
   ],
   "source": [
    "fig, ax = plt.subplots()\n",
    "\n",
    "ax.plot(atom.r_array, atom.h_r_matrix[0,0])"
   ]
  },
  {
   "cell_type": "code",
   "execution_count": 45,
   "id": "5bdd5af5",
   "metadata": {},
   "outputs": [
    {
     "ename": "QhullError",
     "evalue": "QH6214 qhull input error: not enough points(1) to construct initial simplex (need 4)\n\nWhile executing:  | qhull d Q12 Qc Qz Qbb Qt\nOptions selected for Qhull 2019.1.r 2019/06/21:\n  run-id 726375304  delaunay  Q12-allow-wide  Qcoplanar-keep  Qz-infinity-point\n  Qbbound-last  Qtriangulate  _pre-merge  _zero-centrum  Qinterior-keep\n  _maxoutside  0\n",
     "output_type": "error",
     "traceback": [
      "\u001b[0;31m---------------------------------------------------------------------------\u001b[0m",
      "\u001b[0;31mQhullError\u001b[0m                                Traceback (most recent call last)",
      "Cell \u001b[0;32mIn [45], line 3\u001b[0m\n\u001b[1;32m      1\u001b[0m \u001b[38;5;28;01mfrom\u001b[39;00m \u001b[38;5;21;01mscipy\u001b[39;00m\u001b[38;5;21;01m.\u001b[39;00m\u001b[38;5;21;01minterpolate\u001b[39;00m \u001b[38;5;28;01mimport\u001b[39;00m LinearNDInterpolator\n\u001b[1;32m      2\u001b[0m T_P_data \u001b[38;5;241m=\u001b[39m \u001b[38;5;28mlist\u001b[39m(\u001b[38;5;28mzip\u001b[39m( np\u001b[38;5;241m.\u001b[39marray(T_table)\u001b[38;5;241m.\u001b[39mflatten(),np\u001b[38;5;241m.\u001b[39marray(P_table)\u001b[38;5;241m.\u001b[39mflatten() ))\n\u001b[0;32m----> 3\u001b[0m H_TP \u001b[38;5;241m=\u001b[39m \u001b[43mLinearNDInterpolator\u001b[49m\u001b[43m(\u001b[49m\u001b[43mT_P_data\u001b[49m\u001b[43m,\u001b[49m\u001b[43m \u001b[49m\u001b[43mnp\u001b[49m\u001b[38;5;241;43m.\u001b[39;49m\u001b[43marray\u001b[49m\u001b[43m(\u001b[49m\u001b[43mH_table\u001b[49m\u001b[43m)\u001b[49m\u001b[38;5;241;43m.\u001b[39;49m\u001b[43mflatten\u001b[49m\u001b[43m(\u001b[49m\u001b[43m)\u001b[49m\u001b[43m)\u001b[49m\n\u001b[1;32m      5\u001b[0m T, P \u001b[38;5;241m=\u001b[39m np\u001b[38;5;241m.\u001b[39maverage(T_table), np\u001b[38;5;241m.\u001b[39maverage(P_table) \n\u001b[1;32m      6\u001b[0m C_p_AU \u001b[38;5;241m=\u001b[39m (H_TP(T\u001b[38;5;241m*\u001b[39m(\u001b[38;5;241m1\u001b[39m\u001b[38;5;241m+\u001b[39m\u001b[38;5;241m1e-6\u001b[39m), P) \u001b[38;5;241m-\u001b[39m H_TP(T\u001b[38;5;241m*\u001b[39m(\u001b[38;5;241m1\u001b[39m\u001b[38;5;241m-\u001b[39m\u001b[38;5;241m1e-6\u001b[39m), P))\u001b[38;5;241m/\u001b[39m(\u001b[38;5;241m2\u001b[39m\u001b[38;5;241m*\u001b[39mT\u001b[38;5;241m*\u001b[39m\u001b[38;5;241m1e-6\u001b[39m)\n",
      "File \u001b[0;32minterpnd.pyx:280\u001b[0m, in \u001b[0;36mscipy.interpolate.interpnd.LinearNDInterpolator.__init__\u001b[0;34m()\u001b[0m\n",
      "File \u001b[0;32m_qhull.pyx:1846\u001b[0m, in \u001b[0;36mscipy.spatial._qhull.Delaunay.__init__\u001b[0;34m()\u001b[0m\n",
      "File \u001b[0;32m_qhull.pyx:358\u001b[0m, in \u001b[0;36mscipy.spatial._qhull._Qhull.__init__\u001b[0;34m()\u001b[0m\n",
      "\u001b[0;31mQhullError\u001b[0m: QH6214 qhull input error: not enough points(1) to construct initial simplex (need 4)\n\nWhile executing:  | qhull d Q12 Qc Qz Qbb Qt\nOptions selected for Qhull 2019.1.r 2019/06/21:\n  run-id 726375304  delaunay  Q12-allow-wide  Qcoplanar-keep  Qz-infinity-point\n  Qbbound-last  Qtriangulate  _pre-merge  _zero-centrum  Qinterior-keep\n  _maxoutside  0\n"
     ]
    }
   ],
   "source": [
    "from scipy.interpolate import LinearNDInterpolator\n",
    "T_P_data = list(zip( np.array(T_table).flatten(),np.array(P_table).flatten() ))\n",
    "H_TP = LinearNDInterpolator(T_P_data, np.array(H_table).flatten())\n",
    "\n",
    "T, P = np.average(T_table), np.average(P_table) \n",
    "C_p_AU = (H_TP(T*(1+1e-6), P) - H_TP(T*(1-1e-6), P))/(2*T*1e-6)\n",
    "C_v_AU = (U_table[0,1]-U_table[0,0])/(T_table[0,1]-T_table[0,0])\n",
    "Vol_cc = 4/3 * π * (R_max*r_s_cc)**3\n",
    "N = Vol_cc * ni_cc\n",
    "C_p_SI = C_p_AU * k_B\n",
    "C_v_SI = C_v_AU * k_B\n",
    "m_p = 1.672621898e-27 # kg\n",
    "M = N  * A * m_p\n",
    "\n",
    "c_p_SI_mass = C_p_SI/M # J/kg/K\n",
    "c_p_SI_vol = C_p_SI/(Vol_cc*1e-6) #J/m^3/K\n",
    "c_v_SI_vol = C_v_SI/(Vol_cc*1e-6) #J/m^3/K\n",
    "print(\"c_p = {0:.3e} [J/m^3/K] = {1:.3e} [erg/cc/K]\".format(c_p_SI_vol, c_p_SI_vol*J_to_erg*1e-6 ))\n",
    "print(\"c_p^ideal = {0:.3e} [J/m^3/K] = {1:.3e} [erg/cc/K]\".format(5/2 * ni_cc* k_B * 1e6, 5/2 * ni_cc* k_B * 1e6*J_to_erg*1e-6 ))\n",
    "print(\"\")\n",
    "print(\"c_v = {0:.3e} [J/m^3/K] = {1:.3e} [erg/cc/K]\".format(c_v_SI_vol, c_v_SI_vol*J_to_erg*1e-6 ))\n",
    "print(\"γ = cp/cv = {0:.3e}\".format(C_p_AU/C_v_AU ))"
   ]
  },
  {
   "cell_type": "markdown",
   "id": "935642fe",
   "metadata": {},
   "source": [
    "###### Hydrogen H1\n",
    "\n",
    "c_p = 1.667e+08 [J/m^3/K] = 1.667e+09 [erg/cc/K]\n",
    "\n",
    "\n",
    "c_p^ideal = 2.064e+07 [J/m^3/K] = 2.064e+08 [erg/cc/K]\n",
    "\n",
    "c_v = 1.229e+08 [J/m^3/K] = 1.229e+09 [erg/cc/K]\n",
    "\n",
    "\n",
    "γ = cp/cv = 1.357e+00\n",
    "\n",
    "###### Aluminum Al1\n",
    "\n",
    "c_p = 5.560e+06 [J/m^3/K] = 5.560e+07 [erg/cc/K]\n",
    "\n",
    "c_p^ideal = 2.081e+06 [J/m^3/K] = 2.081e+07 [erg/cc/K]\n",
    "\n",
    "c_v = 3.559e+06 [J/m^3/K] = 3.559e+07 [erg/cc/K]\n",
    "\n",
    "c_p_over_nkB = 6.678\n",
    "\n",
    "c_v_over_nkB = 4.275\n",
    "\n",
    "γ = cp/cv = 1.562e+00\n",
    "\n",
    "##### Carbon C1\n",
    "\n",
    "c_p = 1.005e+09 [J/m^3/K] = 1.005e+10 [erg/cc/K]\n",
    "\n",
    "c_p^ideal = 1.729e+07 [J/m^3/K] = 1.729e+08 [erg/cc/K]\n",
    "\n",
    "c_v = 7.410e+08 [J/m^3/K] = 7.410e+09 [erg/cc/K]\n",
    "\n",
    "γ = cp/cv = 1.357e+00\n",
    "\n",
    "##### Copper Cu1\n",
    "c_p = 6.829e+07 [J/m^3/K] = 6.829e+08 [erg/cc/K]\n",
    "\n",
    "c_p^ideal = 2.930e+06 [J/m^3/K] = 2.930e+07 [erg/cc/K]\n",
    "\n",
    "c_v = 4.460e+07 [J/m^3/K] = 4.460e+08 [erg/cc/K]\n",
    "\n",
    "γ = cp/cv = 1.531e+00"
   ]
  },
  {
   "cell_type": "code",
   "execution_count": null,
   "id": "ed15670f",
   "metadata": {},
   "outputs": [],
   "source": [
    "# Compare to Ichimaru\n",
    "n_AU = ni_cc * (1e2*aB)**3\n",
    "E_over_nkBT = atom.U/( Te*N )\n",
    "P_over_nkBT = atom.P/(Te*n_AU)\n",
    "c_p_over_nkB = C_p_AU/N #c_p_SI_vol/k_B/(ni_cc*1e6)\n",
    "E_over_nkBT, P_over_nkBT, c_p_over_nkB  "
   ]
  },
  {
   "cell_type": "code",
   "execution_count": null,
   "id": "9ff1fa55",
   "metadata": {},
   "outputs": [],
   "source": [
    "# 2x2\n",
    "#(16.078004224152146, 7.958852940677674, 20.391840227664225)\n",
    "# 3x3\n",
    "#(17.29156071613095, 9.41653222069282, 19.954770080816058)\n",
    "# 4x4\n",
    "#(17.29156071613095, 9.41653222069282, 20.31577883096223)\n",
    "# 6x6\n",
    "#(17.29156071613095, 9.41653222069282, 20.341775951597302)\n",
    "\n"
   ]
  },
  {
   "cell_type": "code",
   "execution_count": null,
   "id": "f9d9c237",
   "metadata": {},
   "outputs": [],
   "source": [
    "#cp units are J/K/m^3"
   ]
  },
  {
   "cell_type": "code",
   "execution_count": null,
   "id": "d6eba82d",
   "metadata": {},
   "outputs": [],
   "source": [
    "c_p_SI_vol *J_to_erg*1e-6 # from J/K/m^3 to erg/K/cc"
   ]
  },
  {
   "cell_type": "code",
   "execution_count": null,
   "id": "6c123c08",
   "metadata": {},
   "outputs": [],
   "source": [
    "(c_p_over_nkB*ni_cc * k_B*1e6)/1e8 # in erg/"
   ]
  },
  {
   "cell_type": "code",
   "execution_count": null,
   "id": "933aa883",
   "metadata": {},
   "outputs": [],
   "source": [
    "# Ideal\n",
    "# (1.503495387998133, 1.0020009999999997, 2.5033223241241656)\n"
   ]
  },
  {
   "cell_type": "markdown",
   "id": "03443a5d",
   "metadata": {},
   "source": [
    "# βu_eff matching"
   ]
  },
  {
   "cell_type": "code",
   "execution_count": null,
   "id": "ed1cfac5",
   "metadata": {},
   "outputs": [],
   "source": [
    "from pandas import read_csv\n",
    "from scipy.interpolate import interp1d\n",
    "# luke_file = '/home/zach/plasma/atomic_forces/data/Al_T0p5_tab.lammps.PAIR'\n",
    "luke_file = '/home/zach/plasma/atomic_forces/data/Al_T1_tab.lammps.PAIR'\n",
    "\n",
    "luke_data = read_csv(luke_file ,delim_whitespace=True,header=3, names=['r [A]','V [eV]','F [eV/A]'])\n",
    "# luke_r, luke_βV = 1e-10/aB/r_s*luke_data['r [A]'], 1/(Te/eV)*luke_data['V [eV]']\n",
    "luke_r, luke_βV = 1e-8/r_s*luke_data['r [A]'], 1/(Te/eV)*luke_data['V [eV]']\n",
    "luke_βV_function = interp1d(luke_r, luke_βV,fill_value='extrapolate',bounds_error=False)"
   ]
  },
  {
   "cell_type": "code",
   "execution_count": null,
   "id": "88547e04",
   "metadata": {},
   "outputs": [],
   "source": [
    "from scipy.optimize import curve_fit\n",
    "\n",
    "class βu_fit():\n",
    "    def __init__(self, func, r_array, y_data, initial_guess):\n",
    "        self.r = r_array\n",
    "        self.y = y_data\n",
    "        self.y_vals = curve_fit(func, r_array, y_data, maxfev=int(1e5), p0=initial_guess)\n",
    "        self.y_fit  = func(r_array, *self.y_vals[0])\n",
    "        self.err = np.linalg.norm(self.y_fit-self.y)\n",
    "        print(func.__name__ + \" error: {0:.3e} \".format(self.err))\n",
    "\n",
    "def yukawa_plus(r, a, b, c, d):\n",
    "    return  a/r*np.exp(-b*r)/(1+np.exp(c*(r-d)))\n",
    "\n",
    "def yukawa_plus_gaussian(r, a ,b ,c, d ,e, f, g):\n",
    "    return  a/r*np.exp(-b*r)/(1+np.exp(c*(r-d))) + e*np.exp(-(f-r)**2/g)\n",
    "\n",
    "def yukawa_plus_cos(r, a ,b ,c, d , h, i, j, k, l):\n",
    "    return  a/r*np.exp(-b*r)/(1+np.exp(c*(r-d))) + h*np.cos((r-i)*j*np.exp(-k*r))*np.exp(-l*r)\n",
    "\n",
    "def yukawa_plus_gaussian_cos(r, a ,b ,c, d ,e, f, g, h, i, j, k, l):\n",
    "    return  a/r*np.exp(-b*r)/(1+np.exp(c*(r-d))) + e*np.cos((r-f)*g*np.exp(-h*r))*np.exp(-i*r) + j*np.exp(-(k-r)**2/l)\n"
   ]
  },
  {
   "cell_type": "code",
   "execution_count": null,
   "id": "01e47bb9",
   "metadata": {},
   "outputs": [],
   "source": [
    "atom = atom_highres"
   ]
  },
  {
   "cell_type": "code",
   "execution_count": null,
   "id": "1b257ec4",
   "metadata": {},
   "outputs": [],
   "source": [
    "atom.invert_HNC_OZ([1])\n",
    "fit1 = βu_fit(yukawa_plus, atom.r_array, atom.βueff_r_matrix[0,0], initial_guess=[   atomqsp.Γii, atomqsp.get_κ(),2 , 1])\n",
    "try: \n",
    "    fit2 = βu_fit(yukawa_plus_cos, atom.r_array, atom.βueff_r_matrix[0,0], initial_guess=[  *fit1.y_vals[0], 1, 0.01, 1 , 10, 2])\n",
    "except:\n",
    "    pass\n",
    "try:\n",
    "    fit3 = βu_fit(yukawa_plus_gaussian_cos, atom.r_array, atom.βueff_r_matrix[0,0], initial_guess=[  *fit2.y_vals[0], -1, 1.9, 1])\n",
    "except:\n",
    "    pass"
   ]
  },
  {
   "cell_type": "code",
   "execution_count": null,
   "id": "515a162b",
   "metadata": {},
   "outputs": [],
   "source": [
    "luke_r"
   ]
  },
  {
   "cell_type": "code",
   "execution_count": null,
   "id": "f90a68e6",
   "metadata": {},
   "outputs": [],
   "source": [
    "fig, ax = plt.subplots(figsize=(8,6),facecolor='w')\n",
    "fig.suptitle(r\"{0} $T=${1:.1f} eV, $r_i$={2:.2f}\".format(case_id, Te/eV, atomqsp.ri), fontsize=20)\n",
    "\n",
    "\n",
    "yukawa_matrix = (atom.Gamma[:,:,np.newaxis]/atom.r_array * np.exp(-atom.r_array*atomqsp.get_κ())[np.newaxis,np.newaxis,:] ) [:-1,:-1]\n",
    "coulomb_matrix = (atom.Gamma[:,:,np.newaxis]/atom.r_array) [:-1,:-1]\n",
    "\n",
    "ax.plot(atom.r_array, atom.βu_r_matrix[0,0], 'k--',label='Initial')\n",
    "ax.plot(atom.r_array, yukawa_matrix[0,0],'k-.', label=\"Yukawa\")\n",
    "\n",
    "ax.plot(atom.r_array, atom.βueff_r_matrix[0,0],color=colors[0], label='Effective')    \n",
    "ax.plot(luke_r, luke_βV,'r-', label='Luke Force Match')\n",
    "\n",
    "ax.set_ylim(np.min([-10, 2*np.min(atom.βueff_r_matrix[0,0])]), np.max([1e3, 2*np.max(atom.βueff_r_matrix[0,0])]))\n",
    "ax.tick_params(labelsize=20)\n",
    "ax.set_xlabel(r\"$r/r_s$\",fontsize=20)\n",
    "ax.set_ylabel(r'$\\beta u(r/r_s)$',fontsize=20)\n",
    "ax.set_xlabel(r'$r/r_s$',fontsize=20)\n",
    "\n",
    "ax.set_xlim(0, 5)\n",
    "ax.set_yscale('symlog',linthresh=1)\n",
    "ax.tick_params(labelsize=15)\n",
    "ax.legend(fontsize=10)\n",
    "fig.tight_layout()"
   ]
  },
  {
   "cell_type": "code",
   "execution_count": null,
   "id": "5ae27008",
   "metadata": {},
   "outputs": [],
   "source": []
  },
  {
   "cell_type": "code",
   "execution_count": null,
   "id": "ad78ee98",
   "metadata": {},
   "outputs": [],
   "source": []
  },
  {
   "cell_type": "code",
   "execution_count": null,
   "id": "7bf70745",
   "metadata": {},
   "outputs": [],
   "source": []
  }
 ],
 "metadata": {
  "kernelspec": {
   "display_name": "Python 3 (ipykernel)",
   "language": "python",
   "name": "python3"
  },
  "language_info": {
   "codemirror_mode": {
    "name": "ipython",
    "version": 3
   },
   "file_extension": ".py",
   "mimetype": "text/x-python",
   "name": "python",
   "nbconvert_exporter": "python",
   "pygments_lexer": "ipython3",
   "version": "3.9.13"
  }
 },
 "nbformat": 4,
 "nbformat_minor": 5
}
